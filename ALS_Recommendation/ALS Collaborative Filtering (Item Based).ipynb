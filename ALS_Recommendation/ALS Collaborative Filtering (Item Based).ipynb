{
 "cells": [
  {
   "cell_type": "code",
   "execution_count": 0,
   "metadata": {
    "colab": {},
    "colab_type": "code",
    "id": "aja-KfOo5w9R"
   },
   "outputs": [],
   "source": [
    "# Install pyspark and initiate\n",
    "!apt-get install openjdk-8-jdk-headless -qq > /dev/null\n",
    "!wget -q https://downloads.apache.org/spark/spark-2.4.5/spark-2.4.5-bin-hadoop2.6.tgz\n",
    "!tar xf spark-2.4.5-bin-hadoop2.6.tgz\n",
    "!pip install -q findspark"
   ]
  },
  {
   "cell_type": "code",
   "execution_count": 0,
   "metadata": {
    "colab": {},
    "colab_type": "code",
    "id": "5yfXSWNOrnCC"
   },
   "outputs": [],
   "source": [
    "#Envirnoment set up\n",
    "import os\n",
    "os.environ[\"JAVA_HOME\"] = \"/usr/lib/jvm/java-8-openjdk-amd64\"\n",
    "os.environ[\"SPARK_HOME\"] = \"/content/spark-2.4.5-bin-hadoop2.6\""
   ]
  },
  {
   "cell_type": "code",
   "execution_count": 0,
   "metadata": {
    "colab": {},
    "colab_type": "code",
    "id": "ghyUlkfPtKZn"
   },
   "outputs": [],
   "source": [
    "#Spark session creation\n",
    "import findspark\n",
    "findspark.init()\n",
    "from pyspark.sql import SparkSession\n",
    "spark = SparkSession.builder.master(\"local[*]\").getOrCreate()"
   ]
  },
  {
   "cell_type": "code",
   "execution_count": 0,
   "metadata": {
    "colab": {},
    "colab_type": "code",
    "id": "GPwVEMK3tZen"
   },
   "outputs": [],
   "source": [
    "#Import libraries\n",
    "import time\n",
    "\n",
    "# spark imports\n",
    "from pyspark.sql import SparkSession\n",
    "from pyspark.sql.types import *\n",
    "from pyspark.sql import Row\n",
    "from pyspark.sql.functions import UserDefinedFunction, explode, desc\n",
    "from pyspark.sql.types import StringType, ArrayType\n",
    "from pyspark.mllib.recommendation import ALS\n",
    "\n",
    "# data science imports\n",
    "import math\n",
    "import numpy as np\n",
    "import pandas as pd\n",
    "\n",
    "# visualization imports\n",
    "import seaborn as sns\n",
    "import matplotlib.pyplot as plt\n",
    "\n",
    "%matplotlib inline"
   ]
  },
  {
   "cell_type": "code",
   "execution_count": 0,
   "metadata": {
    "colab": {},
    "colab_type": "code",
    "id": "lpjFctVCtexb"
   },
   "outputs": [],
   "source": [
    "#Creating an object to run SparkContext and configuration parameters set up\n",
    "sc = spark.sparkContext\n",
    "spark.conf.set(\"spark.executor.memory\", '8g')\n",
    "spark.conf.set('spark.executor.cores', '3')\n",
    "spark.conf.set('spark.cores.max', '3')\n",
    "spark.conf.set(\"spark.driver.memory\",'8g')"
   ]
  },
  {
   "cell_type": "code",
   "execution_count": 6,
   "metadata": {
    "colab": {
     "base_uri": "https://localhost:8080/",
     "height": 122
    },
    "colab_type": "code",
    "id": "iPyhpB5ntg-5",
    "outputId": "c93293d4-3d45-41b4-932d-e516c5c7e60b"
   },
   "outputs": [
    {
     "name": "stdout",
     "output_type": "stream",
     "text": [
      "Go to this URL in a browser: https://accounts.google.com/o/oauth2/auth?client_id=947318989803-6bn6qk8qdgf4n4g3pfee6491hc0brc4i.apps.googleusercontent.com&redirect_uri=urn%3aietf%3awg%3aoauth%3a2.0%3aoob&response_type=code&scope=email%20https%3a%2f%2fwww.googleapis.com%2fauth%2fdocs.test%20https%3a%2f%2fwww.googleapis.com%2fauth%2fdrive%20https%3a%2f%2fwww.googleapis.com%2fauth%2fdrive.photos.readonly%20https%3a%2f%2fwww.googleapis.com%2fauth%2fpeopleapi.readonly\n",
      "\n",
      "Enter your authorization code:\n",
      "··········\n",
      "Mounted at /content/drive\n"
     ]
    }
   ],
   "source": [
    "#Drive mounting \n",
    "from google.colab import drive\n",
    "drive.mount('/content/drive')"
   ]
  },
  {
   "cell_type": "code",
   "execution_count": 0,
   "metadata": {
    "colab": {},
    "colab_type": "code",
    "id": "Uqwr8lC5c5Pq"
   },
   "outputs": [],
   "source": [
    "#Reading data file from drive\n",
    "import pandas as pd \n",
    "df = pd.read_csv('/content/drive/My Drive/als_preprocessed.csv')"
   ]
  },
  {
   "cell_type": "code",
   "execution_count": 8,
   "metadata": {
    "colab": {
     "base_uri": "https://localhost:8080/",
     "height": 204
    },
    "colab_type": "code",
    "id": "lq6M4ZpNc9Wh",
    "outputId": "0586e614-8e41-4cda-a22a-a0bc135b0d57"
   },
   "outputs": [
    {
     "data": {
      "text/html": [
       "<div>\n",
       "<style scoped>\n",
       "    .dataframe tbody tr th:only-of-type {\n",
       "        vertical-align: middle;\n",
       "    }\n",
       "\n",
       "    .dataframe tbody tr th {\n",
       "        vertical-align: top;\n",
       "    }\n",
       "\n",
       "    .dataframe thead th {\n",
       "        text-align: right;\n",
       "    }\n",
       "</style>\n",
       "<table border=\"1\" class=\"dataframe\">\n",
       "  <thead>\n",
       "    <tr style=\"text-align: right;\">\n",
       "      <th></th>\n",
       "      <th>userID</th>\n",
       "      <th>productID</th>\n",
       "      <th>rating</th>\n",
       "    </tr>\n",
       "  </thead>\n",
       "  <tbody>\n",
       "    <tr>\n",
       "      <th>0</th>\n",
       "      <td>19236.0</td>\n",
       "      <td>26144.0</td>\n",
       "      <td>5.0</td>\n",
       "    </tr>\n",
       "    <tr>\n",
       "      <th>1</th>\n",
       "      <td>48511.0</td>\n",
       "      <td>32800.0</td>\n",
       "      <td>5.0</td>\n",
       "    </tr>\n",
       "    <tr>\n",
       "      <th>2</th>\n",
       "      <td>3549.0</td>\n",
       "      <td>18426.0</td>\n",
       "      <td>5.0</td>\n",
       "    </tr>\n",
       "    <tr>\n",
       "      <th>3</th>\n",
       "      <td>57166.0</td>\n",
       "      <td>27789.0</td>\n",
       "      <td>5.0</td>\n",
       "    </tr>\n",
       "    <tr>\n",
       "      <th>4</th>\n",
       "      <td>44574.0</td>\n",
       "      <td>2863.0</td>\n",
       "      <td>5.0</td>\n",
       "    </tr>\n",
       "  </tbody>\n",
       "</table>\n",
       "</div>"
      ],
      "text/plain": [
       "    userID  productID  rating\n",
       "0  19236.0    26144.0     5.0\n",
       "1  48511.0    32800.0     5.0\n",
       "2   3549.0    18426.0     5.0\n",
       "3  57166.0    27789.0     5.0\n",
       "4  44574.0     2863.0     5.0"
      ]
     },
     "execution_count": 8,
     "metadata": {
      "tags": []
     },
     "output_type": "execute_result"
    }
   ],
   "source": [
    "#Data view \n",
    "df.head()"
   ]
  },
  {
   "cell_type": "code",
   "execution_count": 9,
   "metadata": {
    "colab": {
     "base_uri": "https://localhost:8080/",
     "height": 34
    },
    "colab_type": "code",
    "id": "YdWdPtRhwcc7",
    "outputId": "b19ed2e2-3361-437e-e684-15c6f101936d"
   },
   "outputs": [
    {
     "data": {
      "text/plain": [
       "(60605, 3)"
      ]
     },
     "execution_count": 9,
     "metadata": {
      "tags": []
     },
     "output_type": "execute_result"
    }
   ],
   "source": [
    "#Rows and columns in the data \n",
    "df.shape"
   ]
  },
  {
   "cell_type": "markdown",
   "metadata": {},
   "source": [
    "### 1. Load the RDD Dataframe"
   ]
  },
  {
   "cell_type": "code",
   "execution_count": 0,
   "metadata": {
    "colab": {},
    "colab_type": "code",
    "id": "iSZqrqxkY9k6"
   },
   "outputs": [],
   "source": [
    "ratings = sc.textFile('/content/drive/My Drive/als_preprocessed1.csv')\n",
    "\n",
    "# preprocess data -- only need [\"userId\", \"movieId\", \"rating\"]\n",
    "header = movie_rating.take(1)[0]\n",
    "rating_data = movie_rating \\\n",
    "    .filter(lambda line: line!=header) \\\n",
    "    .map(lambda line: line.split(\",\")) \\\n",
    "    .map(lambda tokens: (int(tokens[0]), int(tokens[1]), float(tokens[2]))) \\\n",
    "    .cache()"
   ]
  },
  {
   "cell_type": "code",
   "execution_count": 34,
   "metadata": {
    "colab": {
     "base_uri": "https://localhost:8080/",
     "height": 85
    },
    "colab_type": "code",
    "id": "9exQyGFFY9n8",
    "outputId": "5a0e2292-7c81-4ac3-e4c1-19e9b4a83059"
   },
   "outputs": [
    {
     "data": {
      "text/plain": [
       "[(19236, 26144, 5.0),\n",
       " (48511, 32800, 5.0),\n",
       " (3549, 18426, 5.0),\n",
       " (57166, 27789, 5.0)]"
      ]
     },
     "execution_count": 34,
     "metadata": {
      "tags": []
     },
     "output_type": "execute_result"
    }
   ],
   "source": [
    "rating_data.take(4)"
   ]
  },
  {
   "cell_type": "markdown",
   "metadata": {},
   "source": [
    "### 2. Train-test-validation split"
   ]
  },
  {
   "cell_type": "code",
   "execution_count": 36,
   "metadata": {
    "colab": {
     "base_uri": "https://localhost:8080/",
     "height": 34
    },
    "colab_type": "code",
    "id": "B6-d5tzUY9qz",
    "outputId": "5b0a8f19-d26f-41c6-85ec-ff92878e8022"
   },
   "outputs": [
    {
     "data": {
      "text/plain": [
       "PythonRDD[63] at RDD at PythonRDD.scala:53"
      ]
     },
     "execution_count": 36,
     "metadata": {
      "tags": []
     },
     "output_type": "execute_result"
    }
   ],
   "source": [
    "train, validation, test = rating_data.randomSplit([6, 2, 2], seed=99)\n",
    "# cache data\n",
    "train.cache()\n",
    "validation.cache()\n",
    "test.cache()"
   ]
  },
  {
   "cell_type": "markdown",
   "metadata": {},
   "source": [
    "### 3. Model Training"
   ]
  },
  {
   "cell_type": "code",
   "execution_count": 0,
   "metadata": {
    "colab": {},
    "colab_type": "code",
    "id": "CWQ09m9p2gcZ"
   },
   "outputs": [],
   "source": [
    "def train_ALS(train_data, validation_data, num_iters, reg_param, ranks):\n",
    "    \"\"\"\n",
    "    Grid Search Function to select the best model based on RMSE of hold-out data\n",
    "    \"\"\"\n",
    "    # initial\n",
    "    min_error = float('inf')\n",
    "    best_rank = -1\n",
    "    best_regularization = 0\n",
    "    best_model = None\n",
    "    for rank in ranks:\n",
    "        for reg in reg_param:\n",
    "            # train ALS model\n",
    "            model = ALS.train(\n",
    "                ratings=train_data,    # (userID, productID, rating) tuple\n",
    "                iterations=num_iters,\n",
    "                rank=rank,\n",
    "                lambda_=reg,           # regularization param\n",
    "                seed=99)\n",
    "            # make prediction\n",
    "            valid_data = validation_data.map(lambda p: (p[0], p[1]))\n",
    "            predictions = model.predictAll(valid_data).map(lambda r: ((r[0], r[1]), r[2]))\n",
    "            # get the rating result\n",
    "            ratesAndPreds = validation_data.map(lambda r: ((r[0], r[1]), r[2])).join(predictions)\n",
    "            # get the RMSE\n",
    "            MSE = ratesAndPreds.map(lambda r: (r[1][0] - r[1][1])**2).mean()\n",
    "            error = math.sqrt(MSE)\n",
    "            print('{} latent factors and regularization = {}: validation RMSE is {}'.format(rank, reg, error))\n",
    "            if error < min_error:\n",
    "                min_error = error\n",
    "                best_rank = rank\n",
    "                best_regularization = reg\n",
    "                best_model = model\n",
    "    print('\\nThe best model has {} latent factors and regularization = {}'.format(best_rank, best_regularization))\n",
    "    return best_model"
   ]
  },
  {
   "cell_type": "code",
   "execution_count": 43,
   "metadata": {
    "colab": {
     "base_uri": "https://localhost:8080/",
     "height": 663
    },
    "colab_type": "code",
    "id": "mlSMdkoE2gfZ",
    "outputId": "f51c2698-b5d2-435d-f230-94231e509ba7"
   },
   "outputs": [
    {
     "name": "stdout",
     "output_type": "stream",
     "text": [
      "8 latent factors and regularization = 0.001: validation RMSE is 5.655162499059731\n",
      "8 latent factors and regularization = 0.01: validation RMSE is 5.187068199803452\n",
      "8 latent factors and regularization = 0.05: validation RMSE is 5.007580323801328\n",
      "8 latent factors and regularization = 0.1: validation RMSE is 4.96931601131744\n",
      "8 latent factors and regularization = 0.2: validation RMSE is 4.938664665314195\n",
      "10 latent factors and regularization = 0.001: validation RMSE is 5.204616550319458\n",
      "10 latent factors and regularization = 0.01: validation RMSE is 4.877448775544241\n",
      "10 latent factors and regularization = 0.05: validation RMSE is 4.806006965636591\n",
      "10 latent factors and regularization = 0.1: validation RMSE is 4.786467058730118\n",
      "10 latent factors and regularization = 0.2: validation RMSE is 4.767400968779442\n",
      "12 latent factors and regularization = 0.001: validation RMSE is 5.17407898949525\n",
      "12 latent factors and regularization = 0.01: validation RMSE is 4.8536990569341105\n",
      "12 latent factors and regularization = 0.05: validation RMSE is 4.762498208646173\n",
      "12 latent factors and regularization = 0.1: validation RMSE is 4.748441803716834\n",
      "12 latent factors and regularization = 0.2: validation RMSE is 4.7375239291135145\n",
      "14 latent factors and regularization = 0.001: validation RMSE is 4.985854701640383\n",
      "14 latent factors and regularization = 0.01: validation RMSE is 4.710164809933701\n",
      "14 latent factors and regularization = 0.05: validation RMSE is 4.615853208708471\n",
      "14 latent factors and regularization = 0.1: validation RMSE is 4.6021128619447556\n",
      "14 latent factors and regularization = 0.2: validation RMSE is 4.595988301023336\n",
      "16 latent factors and regularization = 0.001: validation RMSE is 4.850894491627238\n",
      "16 latent factors and regularization = 0.01: validation RMSE is 4.6243070871851994\n",
      "16 latent factors and regularization = 0.05: validation RMSE is 4.572307541172481\n",
      "16 latent factors and regularization = 0.1: validation RMSE is 4.558381443858947\n",
      "16 latent factors and regularization = 0.2: validation RMSE is 4.551894729226428\n",
      "18 latent factors and regularization = 0.001: validation RMSE is 5.056667814694265\n",
      "18 latent factors and regularization = 0.01: validation RMSE is 4.7458171022436435\n",
      "18 latent factors and regularization = 0.05: validation RMSE is 4.6617106330945965\n",
      "18 latent factors and regularization = 0.1: validation RMSE is 4.649224673112135\n",
      "18 latent factors and regularization = 0.2: validation RMSE is 4.6435963329846235\n",
      "20 latent factors and regularization = 0.001: validation RMSE is 4.955253084034298\n",
      "20 latent factors and regularization = 0.01: validation RMSE is 4.759579889419761\n",
      "20 latent factors and regularization = 0.05: validation RMSE is 4.709947831124401\n",
      "20 latent factors and regularization = 0.1: validation RMSE is 4.705069023968122\n",
      "20 latent factors and regularization = 0.2: validation RMSE is 4.697617805066376\n",
      "\n",
      "The best model has 16 latent factors and regularization = 0.2\n",
      "Total Runtime: 192.42 seconds\n"
     ]
    }
   ],
   "source": [
    "# hyper-param config\n",
    "num_iterations = 10\n",
    "ranks = [8, 10, 12, 14, 16, 18, 20]\n",
    "reg_params = [0.001, 0.01, 0.05, 0.1, 0.2]\n",
    "\n",
    "# grid search and select best model\n",
    "start_time = time.time()\n",
    "final_model = train_ALS(train, validation, num_iterations, reg_params, ranks)\n",
    "print ('Total Runtime: {:.2f} seconds'.format(time.time() - start_time))"
   ]
  },
  {
   "cell_type": "markdown",
   "metadata": {},
   "source": [
    "### 4. Learning Curves"
   ]
  },
  {
   "cell_type": "code",
   "execution_count": 0,
   "metadata": {
    "colab": {},
    "colab_type": "code",
    "id": "aE5-1pZX2gle"
   },
   "outputs": [],
   "source": [
    "def plot_learning_curve(arr_iters, train_data, validation_data, reg, rank):\n",
    "    \"\"\"\n",
    "    Plot function to show learning curve of ALS\n",
    "    \"\"\"\n",
    "    errors = []\n",
    "    for num_iters in arr_iters:\n",
    "        # train ALS model\n",
    "        model = ALS.train(\n",
    "            ratings=train_data,    # (userID, productID, rating) tuple\n",
    "            iterations=num_iters,\n",
    "            rank=rank,\n",
    "            lambda_=reg,           # regularization param\n",
    "            seed=99)\n",
    "        # make prediction\n",
    "        valid_data = validation_data.map(lambda p: (p[0], p[1]))\n",
    "        predictions = model.predictAll(valid_data).map(lambda r: ((r[0], r[1]), r[2]))\n",
    "        # get the rating result\n",
    "        ratesAndPreds = validation_data.map(lambda r: ((r[0], r[1]), r[2])).join(predictions)\n",
    "        # get the RMSE\n",
    "        MSE = ratesAndPreds.map(lambda r: (r[1][0] - r[1][1])**2).mean()\n",
    "        error = math.sqrt(MSE)\n",
    "        # add to errors\n",
    "        errors.append(error)\n",
    "\n",
    "    # plot\n",
    "    plt.figure(figsize=(12, 6))\n",
    "    plt.plot(arr_iters, errors)\n",
    "    plt.xlabel('number of iterations')\n",
    "    plt.ylabel('RMSE')\n",
    "    plt.title('ALS Learning Curve')\n",
    "    plt.grid(True)\n",
    "    plt.show()"
   ]
  },
  {
   "cell_type": "code",
   "execution_count": 45,
   "metadata": {
    "colab": {
     "base_uri": "https://localhost:8080/",
     "height": 404
    },
    "colab_type": "code",
    "id": "mokeZGXi4zyj",
    "outputId": "7d199a62-b1ad-44b2-80d3-83db86faccbb"
   },
   "outputs": [
    {
     "data": {
      "image/png": "[encoded data removed]",
      "text/plain": [
       "<Figure size 864x432 with 1 Axes>"
      ]
     },
     "metadata": {
      "needs_background": "light",
      "tags": []
     },
     "output_type": "display_data"
    }
   ],
   "source": [
    "# create an array of num_iters\n",
    "iter_array = list(range(1, 11))\n",
    "# create learning curve plot\n",
    "plot_learning_curve(iter_array, train, validation, 0.05, 20)"
   ]
  },
  {
   "cell_type": "markdown",
   "metadata": {},
   "source": [
    "### 5. Test Data RMSE"
   ]
  },
  {
   "cell_type": "code",
   "execution_count": 46,
   "metadata": {
    "colab": {
     "base_uri": "https://localhost:8080/",
     "height": 34
    },
    "colab_type": "code",
    "id": "mVVBXrGU4z1f",
    "outputId": "2f16c5f6-5faf-4a14-9c0e-2b376f9b8e52"
   },
   "outputs": [
    {
     "name": "stdout",
     "output_type": "stream",
     "text": [
      "The out-of-sample RMSE of rating predictions is 4.7028\n"
     ]
    }
   ],
   "source": [
    "# make prediction using test data\n",
    "test_data = test.map(lambda p: (p[0], p[1]))\n",
    "predictions = final_model.predictAll(test_data).map(lambda r: ((r[0], r[1]), r[2]))\n",
    "# get the rating result\n",
    "ratesAndPreds = test.map(lambda r: ((r[0], r[1]), r[2])).join(predictions)\n",
    "# get the RMSE\n",
    "MSE = ratesAndPreds.map(lambda r: (r[1][0] - r[1][1])**2).mean()\n",
    "error = math.sqrt(MSE)\n",
    "print('The out-of-sample RMSE of rating predictions is', round(error, 4))"
   ]
  },
  {
   "cell_type": "markdown",
   "metadata": {},
   "source": [
    "### 6. Load Titles for Products"
   ]
  },
  {
   "cell_type": "code",
   "execution_count": 0,
   "metadata": {
    "colab": {},
    "colab_type": "code",
    "id": "ulLoruwW7AlL"
   },
   "outputs": [],
   "source": [
    "#Load the titles dataset\n",
    "title = spark.read.load('/content/drive/My Drive/title_data_csv', format='csv', header=True, inferSchema=True)\n",
    "data = spark.read.load('/content/drive/My Drive/als_preprocessed1.csv', format='csv', header=True, inferSchema=True)"
   ]
  },
  {
   "cell_type": "code",
   "execution_count": 50,
   "metadata": {
    "colab": {
     "base_uri": "https://localhost:8080/",
     "height": 459
    },
    "colab_type": "code",
    "id": "4-WndoNb2gos",
    "outputId": "fb49ebc3-afdf-42fe-f17a-8b6e445d5baf"
   },
   "outputs": [
    {
     "name": "stdout",
     "output_type": "stream",
     "text": [
      "+----------+--------------------+\n",
      "|      asin|               title|\n",
      "+----------+--------------------+\n",
      "|0001487795|You Are Special T...|\n",
      "|0002020300|Vicks Inhaler Rel...|\n",
      "|0006564224|Artistic Churchwa...|\n",
      "|0009046461|4 BARS! Mysore Sa...|\n",
      "|0234937912|AROGYA VATI (40gm...|\n",
      "|0250459655|Nikola Tesla Phot...|\n",
      "|0326591516|Set of 15 Cello B...|\n",
      "|0439903491|Scholastic Pirate...|\n",
      "|0456680012|My Little Pony Eq...|\n",
      "|0470902884|The Great Workpla...|\n",
      "|0555667502|Insulated Lunch B...|\n",
      "|0560467893|WELLAND Chicago W...|\n",
      "|0587228237|Gary Trucking Co....|\n",
      "|0594496780|Barnes and Noble ...|\n",
      "|0615444261|Gulf Coast Kitche...|\n",
      "|0635118777|Gallopade Publish...|\n",
      "|063511769X|Gallopade Publish...|\n",
      "|0641965974|Text Me Coffee Mu...|\n",
      "|0681795107|Stainless Coffee Mug|\n",
      "|0735328889|Mudpuppy Monkey W...|\n",
      "+----------+--------------------+\n",
      "only showing top 20 rows\n",
      "\n"
     ]
    }
   ],
   "source": [
    "title.show(20)"
   ]
  },
  {
   "cell_type": "code",
   "execution_count": 55,
   "metadata": {
    "colab": {
     "base_uri": "https://localhost:8080/",
     "height": 459
    },
    "colab_type": "code",
    "id": "ibVsIgwn2gry",
    "outputId": "c08d7016-e830-41e9-ee88-b4ad47e4e52b"
   },
   "outputs": [
    {
     "name": "stdout",
     "output_type": "stream",
     "text": [
      "+----------+--------------------+\n",
      "|      asin|               title|\n",
      "+----------+--------------------+\n",
      "|0001487795|You Are Special T...|\n",
      "|0002020300|Vicks Inhaler Rel...|\n",
      "|0006564224|Artistic Churchwa...|\n",
      "|0009046461|4 BARS! Mysore Sa...|\n",
      "|0234937912|AROGYA VATI (40gm...|\n",
      "|0250459655|Nikola Tesla Phot...|\n",
      "|0326591516|Set of 15 Cello B...|\n",
      "|0439903491|Scholastic Pirate...|\n",
      "|0456680012|My Little Pony Eq...|\n",
      "|0470902884|The Great Workpla...|\n",
      "|0555667502|Insulated Lunch B...|\n",
      "|0560467893|WELLAND Chicago W...|\n",
      "|0587228237|Gary Trucking Co....|\n",
      "|0594496780|Barnes and Noble ...|\n",
      "|0615444261|Gulf Coast Kitche...|\n",
      "|0635118777|Gallopade Publish...|\n",
      "|063511769X|Gallopade Publish...|\n",
      "|0641965974|Text Me Coffee Mu...|\n",
      "|0681795107|Stainless Coffee Mug|\n",
      "|0735328889|Mudpuppy Monkey W...|\n",
      "+----------+--------------------+\n",
      "only showing top 20 rows\n",
      "\n"
     ]
    }
   ],
   "source": [
    "title.createOrReplaceTempView(\"title\")\n",
    "data.createOrReplaceTempView(\"ratings\")\n",
    "spark.sql(\n",
    "    \"SELECT m.asin, m.title \"\n",
    "     \"FROM title m LEFT JOIN ratings r ON m.asin = r.productID \"\n",
    "     \"WHERE r.productID IS NULL\"\n",
    " ).show(20)"
   ]
  },
  {
   "cell_type": "markdown",
   "metadata": {
    "colab": {},
    "colab_type": "code",
    "id": "eR4Vpk3F2gvE"
   },
   "source": [
    "### 7. Prediction on Items"
   ]
  },
  {
   "cell_type": "code",
   "execution_count": null,
   "metadata": {},
   "outputs": [],
   "source": [
    "def get_productId(data, fav_item_list):\n",
    "    items = []\n",
    "    for item in fav_item_list:\n",
    "        itemIds = data \\\n",
    "            .filter(titles.title.like('%{}%'.format(title))) \\\n",
    "            .select('asin') \\\n",
    "            .rdd \\\n",
    "            .map(lambda r: r[0]) \\\n",
    "            .collect()\n",
    "          items.extend(itemIds)\n",
    "    return list(set(items))"
   ]
  },
  {
   "cell_type": "code",
   "execution_count": null,
   "metadata": {},
   "outputs": [],
   "source": []
  }
 ],
 "metadata": {
  "colab": {
   "collapsed_sections": [],
   "name": "Spark_mllib_RS.ipynb",
   "provenance": []
  },
  "kernelspec": {
   "display_name": "Python 3",
   "language": "python",
   "name": "python3"
  },
  "language_info": {
   "codemirror_mode": {
    "name": "ipython",
    "version": 3
   },
   "file_extension": ".py",
   "mimetype": "text/x-python",
   "name": "python",
   "nbconvert_exporter": "python",
   "pygments_lexer": "ipython3",
   "version": "3.7.4"
  }
 },
 "nbformat": 4,
 "nbformat_minor": 1
}
