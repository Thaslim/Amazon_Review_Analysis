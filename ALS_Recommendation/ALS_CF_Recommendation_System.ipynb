{
 "cells": [
  {
   "cell_type": "code",
   "execution_count": 1,
   "metadata": {},
   "outputs": [],
   "source": [
    "#import libraries\n",
    "import pandas as pd\n",
    "from time import time\n",
    "from pyspark.context import SparkContext\n",
    "from pyspark.sql.session import SparkSession\n",
    "from pyspark.ml.feature import StringIndexer\n",
    "from pyspark.sql.functions import lit\n",
    "from pyspark.ml.feature import IndexToString\n",
    "from pyspark.ml.evaluation import RegressionEvaluator\n",
    "from pyspark.ml.tuning import ParamGridBuilder, TrainValidationSplit,CrossValidator\n",
    "from pyspark.ml.recommendation import ALS\n",
    "from pyspark.sql import Row\n",
    "from pyspark.sql.types import *\n",
    "%matplotlib inline\n",
    "import matplotlib.pyplot as plt\n",
    "import matplotlib.colors as mcolors"
   ]
  },
  {
   "cell_type": "markdown",
   "metadata": {},
   "source": [
    "### Load preprocessed pickle file "
   ]
  },
  {
   "cell_type": "markdown",
   "metadata": {},
   "source": [
    "The preprocessed pickle file is converted into csv file and then start the spark session"
   ]
  },
  {
   "cell_type": "code",
   "execution_count": 2,
   "metadata": {},
   "outputs": [],
   "source": [
    "#Load the dataset that contains userID, productID and ratings\n",
    "df = pd.read_pickle('Preprocessed_data')\n",
    "#Load the dataset which contains the titles/names of items\n",
    "df_title = pd.read_pickle('Title_prod')"
   ]
  },
  {
   "cell_type": "code",
   "execution_count": 3,
   "metadata": {},
   "outputs": [
    {
     "data": {
      "text/html": [
       "<div>\n",
       "<style scoped>\n",
       "    .dataframe tbody tr th:only-of-type {\n",
       "        vertical-align: middle;\n",
       "    }\n",
       "\n",
       "    .dataframe tbody tr th {\n",
       "        vertical-align: top;\n",
       "    }\n",
       "\n",
       "    .dataframe thead th {\n",
       "        text-align: right;\n",
       "    }\n",
       "</style>\n",
       "<table border=\"1\" class=\"dataframe\">\n",
       "  <thead>\n",
       "    <tr style=\"text-align: right;\">\n",
       "      <th></th>\n",
       "      <th>overall</th>\n",
       "      <th>reviewerID</th>\n",
       "      <th>asin</th>\n",
       "      <th>reviewText</th>\n",
       "      <th>rev_date</th>\n",
       "    </tr>\n",
       "  </thead>\n",
       "  <tbody>\n",
       "    <tr>\n",
       "      <td>0</td>\n",
       "      <td>4.0</td>\n",
       "      <td>A2MNB77YGJ3CN0</td>\n",
       "      <td>B00004R940</td>\n",
       "      <td>I'll admit it -- I'm a bit of a snob when it c...</td>\n",
       "      <td>2000-05-07</td>\n",
       "    </tr>\n",
       "    <tr>\n",
       "      <td>1</td>\n",
       "      <td>5.0</td>\n",
       "      <td>A1LUUO72VAFKFJ</td>\n",
       "      <td>B00004S4TZ</td>\n",
       "      <td>Maybe when Mom cooked for a big family every d...</td>\n",
       "      <td>2000-05-19</td>\n",
       "    </tr>\n",
       "    <tr>\n",
       "      <td>2</td>\n",
       "      <td>5.0</td>\n",
       "      <td>ALSQSIHU2ETLM</td>\n",
       "      <td>B00004RDAZ</td>\n",
       "      <td>This was an impulse buy, I was looking for a b...</td>\n",
       "      <td>2000-05-31</td>\n",
       "    </tr>\n",
       "  </tbody>\n",
       "</table>\n",
       "</div>"
      ],
      "text/plain": [
       "   overall      reviewerID        asin  \\\n",
       "0      4.0  A2MNB77YGJ3CN0  B00004R940   \n",
       "1      5.0  A1LUUO72VAFKFJ  B00004S4TZ   \n",
       "2      5.0   ALSQSIHU2ETLM  B00004RDAZ   \n",
       "\n",
       "                                          reviewText   rev_date  \n",
       "0  I'll admit it -- I'm a bit of a snob when it c... 2000-05-07  \n",
       "1  Maybe when Mom cooked for a big family every d... 2000-05-19  \n",
       "2  This was an impulse buy, I was looking for a b... 2000-05-31  "
      ]
     },
     "execution_count": 3,
     "metadata": {},
     "output_type": "execute_result"
    }
   ],
   "source": [
    "#Top 3 records of ratings dataset\n",
    "df.head(3)"
   ]
  },
  {
   "cell_type": "code",
   "execution_count": 4,
   "metadata": {},
   "outputs": [
    {
     "data": {
      "text/html": [
       "<div>\n",
       "<style scoped>\n",
       "    .dataframe tbody tr th:only-of-type {\n",
       "        vertical-align: middle;\n",
       "    }\n",
       "\n",
       "    .dataframe tbody tr th {\n",
       "        vertical-align: top;\n",
       "    }\n",
       "\n",
       "    .dataframe thead th {\n",
       "        text-align: right;\n",
       "    }\n",
       "</style>\n",
       "<table border=\"1\" class=\"dataframe\">\n",
       "  <thead>\n",
       "    <tr style=\"text-align: right;\">\n",
       "      <th></th>\n",
       "      <th>asin</th>\n",
       "      <th>title</th>\n",
       "    </tr>\n",
       "  </thead>\n",
       "  <tbody>\n",
       "    <tr>\n",
       "      <td>0</td>\n",
       "      <td>0001487795</td>\n",
       "      <td>You Are Special Today Red Plate [With Red Pen]</td>\n",
       "    </tr>\n",
       "    <tr>\n",
       "      <td>1</td>\n",
       "      <td>0002020300</td>\n",
       "      <td>Vicks Inhaler Relief for Cold Sinus Nasal Cong...</td>\n",
       "    </tr>\n",
       "    <tr>\n",
       "      <td>2</td>\n",
       "      <td>0006564224</td>\n",
       "      <td>Artistic Churchware Communion Cup Filler: RW525</td>\n",
       "    </tr>\n",
       "  </tbody>\n",
       "</table>\n",
       "</div>"
      ],
      "text/plain": [
       "         asin                                              title\n",
       "0  0001487795     You Are Special Today Red Plate [With Red Pen]\n",
       "1  0002020300  Vicks Inhaler Relief for Cold Sinus Nasal Cong...\n",
       "2  0006564224    Artistic Churchware Communion Cup Filler: RW525"
      ]
     },
     "execution_count": 4,
     "metadata": {},
     "output_type": "execute_result"
    }
   ],
   "source": [
    "#Top 3 records of titles dataset\n",
    "df_title.head(3)"
   ]
  },
  {
   "cell_type": "code",
   "execution_count": 5,
   "metadata": {},
   "outputs": [
    {
     "name": "stdout",
     "output_type": "stream",
     "text": [
      "Total number of records in dataset:  6053296\n",
      "Total number of records in title dataset:  1301225\n"
     ]
    }
   ],
   "source": [
    "#Dataset size\n",
    "print(\"Total number of records in dataset: \" ,df.shape[0])\n",
    "print(\"Total number of records in title dataset: \", df_title.shape[0])"
   ]
  },
  {
   "cell_type": "code",
   "execution_count": 5,
   "metadata": {},
   "outputs": [],
   "source": [
    "#Removal of Date and Review text columns (Not necessary for our analysis)\n",
    "df.drop('rev_date',axis=1,inplace=True)\n",
    "df.drop('reviewText',axis=1,inplace=True)"
   ]
  },
  {
   "cell_type": "code",
   "execution_count": 6,
   "metadata": {},
   "outputs": [
    {
     "data": {
      "text/html": [
       "<div>\n",
       "<style scoped>\n",
       "    .dataframe tbody tr th:only-of-type {\n",
       "        vertical-align: middle;\n",
       "    }\n",
       "\n",
       "    .dataframe tbody tr th {\n",
       "        vertical-align: top;\n",
       "    }\n",
       "\n",
       "    .dataframe thead th {\n",
       "        text-align: right;\n",
       "    }\n",
       "</style>\n",
       "<table border=\"1\" class=\"dataframe\">\n",
       "  <thead>\n",
       "    <tr style=\"text-align: right;\">\n",
       "      <th></th>\n",
       "      <th>overall</th>\n",
       "      <th>reviewerID</th>\n",
       "      <th>asin</th>\n",
       "    </tr>\n",
       "  </thead>\n",
       "  <tbody>\n",
       "    <tr>\n",
       "      <td>0</td>\n",
       "      <td>4.0</td>\n",
       "      <td>A2MNB77YGJ3CN0</td>\n",
       "      <td>B00004R940</td>\n",
       "    </tr>\n",
       "  </tbody>\n",
       "</table>\n",
       "</div>"
      ],
      "text/plain": [
       "   overall      reviewerID        asin\n",
       "0      4.0  A2MNB77YGJ3CN0  B00004R940"
      ]
     },
     "execution_count": 6,
     "metadata": {},
     "output_type": "execute_result"
    }
   ],
   "source": [
    "#Displaying the modified dataset\n",
    "df.head(1)"
   ]
  },
  {
   "cell_type": "code",
   "execution_count": 8,
   "metadata": {},
   "outputs": [],
   "source": [
    "#Save the CSV datafile\n",
    "df.to_csv('Preprocessed_data_csv', index=False)"
   ]
  },
  {
   "cell_type": "code",
   "execution_count": 9,
   "metadata": {},
   "outputs": [],
   "source": [
    "#Save the CSV datafile\n",
    "df_title.to_csv('title_data_csv', index=False)"
   ]
  },
  {
   "cell_type": "markdown",
   "metadata": {},
   "source": [
    "### 1. Load the data into spark RDD dataframe"
   ]
  },
  {
   "cell_type": "code",
   "execution_count": 7,
   "metadata": {},
   "outputs": [],
   "source": [
    "#Creating Spark Context\n",
    "sc = SparkContext('local')\n",
    "spark = SparkSession(sc)"
   ]
  },
  {
   "cell_type": "code",
   "execution_count": 8,
   "metadata": {},
   "outputs": [
    {
     "data": {
      "text/plain": [
       "DataFrame[overall: float, reviewerID: string, asin: string]"
      ]
     },
     "execution_count": 8,
     "metadata": {},
     "output_type": "execute_result"
    }
   ],
   "source": [
    "#Creating a RDD\n",
    "data = spark.read \\\n",
    "    .format(\"csv\") \\\n",
    "    .option(\"header\", \"true\") \\\n",
    "    .option(\"inferSchema\", \"true\") \\\n",
    "    .load(\"Preprocessed_data_csv\")\n",
    "data.withColumn('userId', data.reviewerID.cast(IntegerType()))\n",
    "data.withColumn('asin', data.asin.cast(IntegerType()))\n",
    "data.withColumn('overall', data.overall.cast(FloatType()))"
   ]
  },
  {
   "cell_type": "markdown",
   "metadata": {},
   "source": [
    "### 2. Analyzing dataset"
   ]
  },
  {
   "cell_type": "code",
   "execution_count": 13,
   "metadata": {},
   "outputs": [
    {
     "name": "stdout",
     "output_type": "stream",
     "text": [
      "+-------+--------------+----------+\n",
      "|overall|    reviewerID|      asin|\n",
      "+-------+--------------+----------+\n",
      "|    4.0|A2MNB77YGJ3CN0|B00004R940|\n",
      "|    5.0|A1LUUO72VAFKFJ|B00004S4TZ|\n",
      "|    5.0| ALSQSIHU2ETLM|B00004RDAZ|\n",
      "|    2.0|A2E041EYGSY0HK|B00004S576|\n",
      "|    5.0|A2RQOO8VYAEZZG|B00004SBIB|\n",
      "+-------+--------------+----------+\n",
      "only showing top 5 rows\n",
      "\n"
     ]
    }
   ],
   "source": [
    "data.show(5)"
   ]
  },
  {
   "cell_type": "code",
   "execution_count": 14,
   "metadata": {},
   "outputs": [
    {
     "name": "stdout",
     "output_type": "stream",
     "text": [
      "root\n",
      " |-- overall: double (nullable = true)\n",
      " |-- reviewerID: string (nullable = true)\n",
      " |-- asin: string (nullable = true)\n",
      "\n"
     ]
    }
   ],
   "source": [
    "#Dataset column details\n",
    "data.printSchema()"
   ]
  },
  {
   "cell_type": "code",
   "execution_count": 15,
   "metadata": {},
   "outputs": [
    {
     "name": "stdout",
     "output_type": "stream",
     "text": [
      "+-------+------------------+--------------------+--------------------+\n",
      "|summary|           overall|          reviewerID|                asin|\n",
      "+-------+------------------+--------------------+--------------------+\n",
      "|  count|           6053296|             6053296|             6053296|\n",
      "|   mean| 4.374284191620565|                null| 5.457612212007353E9|\n",
      "| stddev|1.1174635054637467|                null|3.0129487134473906E9|\n",
      "|    min|               1.0|A0001528BGUBOEVR6T5U|          0560467893|\n",
      "|    max|               5.0|       AZZZYAYJQSDOJ|          B01HJGJNWS|\n",
      "+-------+------------------+--------------------+--------------------+\n",
      "\n"
     ]
    }
   ],
   "source": [
    "#Summary of the data\n",
    "data.describe().show()"
   ]
  },
  {
   "cell_type": "code",
   "execution_count": 16,
   "metadata": {},
   "outputs": [
    {
     "name": "stdout",
     "output_type": "stream",
     "text": [
      "Distinct values of ratings:\n",
      "[1.0, 2.0, 3.0, 4.0, 5.0]\n"
     ]
    }
   ],
   "source": [
    "print('Distinct values of ratings:')\n",
    "print(sorted(data.select('overall').distinct().rdd.map(lambda r: r[0]).collect()))"
   ]
  },
  {
   "cell_type": "code",
   "execution_count": 17,
   "metadata": {},
   "outputs": [
    {
     "name": "stdout",
     "output_type": "stream",
     "text": [
      "Number of distinct users:  772925\n",
      "Number of distinct items:  188138\n"
     ]
    }
   ],
   "source": [
    "# Number of distict users and items\n",
    "users = data.select(\"reviewerID\").distinct().count()\n",
    "items = data.select(\"asin\").distinct().count()\n",
    "print('Number of distinct users: ', users)\n",
    "print('Number of distinct items: ', items)"
   ]
  },
  {
   "cell_type": "code",
   "execution_count": 18,
   "metadata": {},
   "outputs": [
    {
     "name": "stdout",
     "output_type": "stream",
     "text": [
      "1289 out of 188138 items are rated by only one user\n"
     ]
    }
   ],
   "source": [
    "#items which are rated by a single user\n",
    "temp = sum(data.groupBy(\"asin\").count().toPandas()['count'] == 1)\n",
    "temp2 = data.select('asin').distinct().count()\n",
    "print('{} out of {} items are rated by only one user'.format(temp, temp2))"
   ]
  },
  {
   "cell_type": "code",
   "execution_count": 10,
   "metadata": {},
   "outputs": [
    {
     "data": {
      "text/html": [
       "<div>\n",
       "<style scoped>\n",
       "    .dataframe tbody tr th:only-of-type {\n",
       "        vertical-align: middle;\n",
       "    }\n",
       "\n",
       "    .dataframe tbody tr th {\n",
       "        vertical-align: top;\n",
       "    }\n",
       "\n",
       "    .dataframe thead th {\n",
       "        text-align: right;\n",
       "    }\n",
       "</style>\n",
       "<table border=\"1\" class=\"dataframe\">\n",
       "  <thead>\n",
       "    <tr style=\"text-align: right;\">\n",
       "      <th></th>\n",
       "      <th>count</th>\n",
       "      <th>rating</th>\n",
       "    </tr>\n",
       "  </thead>\n",
       "  <tbody>\n",
       "    <tr>\n",
       "      <td>0</td>\n",
       "      <td>312180</td>\n",
       "      <td>1.0</td>\n",
       "    </tr>\n",
       "    <tr>\n",
       "      <td>1</td>\n",
       "      <td>890974</td>\n",
       "      <td>4.0</td>\n",
       "    </tr>\n",
       "    <tr>\n",
       "      <td>2</td>\n",
       "      <td>450407</td>\n",
       "      <td>3.0</td>\n",
       "    </tr>\n",
       "    <tr>\n",
       "      <td>3</td>\n",
       "      <td>249045</td>\n",
       "      <td>2.0</td>\n",
       "    </tr>\n",
       "    <tr>\n",
       "      <td>4</td>\n",
       "      <td>4150690</td>\n",
       "      <td>5.0</td>\n",
       "    </tr>\n",
       "  </tbody>\n",
       "</table>\n",
       "</div>"
      ],
      "text/plain": [
       "     count  rating\n",
       "0   312180     1.0\n",
       "1   890974     4.0\n",
       "2   450407     3.0\n",
       "3   249045     2.0\n",
       "4  4150690     5.0"
      ]
     },
     "execution_count": 10,
     "metadata": {},
     "output_type": "execute_result"
    }
   ],
   "source": [
    "data.createOrReplaceTempView('df_count')\n",
    "# count number of ratings in each value of the rating(category)\n",
    "ratingcount = spark.sql(\"\"\"\n",
    "      SELECT COUNT(overall) as count\n",
    "      ,overall as rating\n",
    "      FROM df_count\n",
    "      GROUP BY overall\n",
    "\"\"\")\n",
    "\n",
    "counts = ratingcount.toPandas()\n",
    "counts"
   ]
  },
  {
   "cell_type": "markdown",
   "metadata": {},
   "source": [
    "### 4. Basic Visualization"
   ]
  },
  {
   "cell_type": "code",
   "execution_count": 11,
   "metadata": {},
   "outputs": [
    {
     "data": {
      "image/png": "[encoded data removed]",
      "text/plain": [
       "<Figure size 720x432 with 1 Axes>"
      ]
     },
     "metadata": {
      "needs_background": "light"
     },
     "output_type": "display_data"
    }
   ],
   "source": [
    "#Visualizing count of records with each type of ratings\n",
    "colors = ['red', 'orange', 'yellow', 'green', 'blue']\n",
    "counts.sort_values('rating',axis=0,inplace=True) # sorting \n",
    "counts.plot(x='rating',y='count',kind='bar',legend=False,color=colors,figsize=(10,6))\n",
    "plt.title('Distribution of Ratings')\n",
    "plt.show()"
   ]
  },
  {
   "cell_type": "markdown",
   "metadata": {},
   "source": [
    "### 3. Preprocessing"
   ]
  },
  {
   "cell_type": "code",
   "execution_count": 15,
   "metadata": {},
   "outputs": [
    {
     "data": {
      "text/plain": [
       "60545"
      ]
     },
     "execution_count": 15,
     "metadata": {},
     "output_type": "execute_result"
    }
   ],
   "source": [
    "#This step is used to reduce the sample size\n",
    "df=data.sample(fraction=0.01)\n",
    "df.count()"
   ]
  },
  {
   "cell_type": "markdown",
   "metadata": {},
   "source": [
    "#### Convert string type ID's to Integer"
   ]
  },
  {
   "cell_type": "markdown",
   "metadata": {},
   "source": [
    "The Alternating Least Squares algorithm accepts userID and itemID only in integer format. \n",
    "We need to use STringIndexer to change ID's to integer/double format"
   ]
  },
  {
   "cell_type": "code",
   "execution_count": 16,
   "metadata": {},
   "outputs": [
    {
     "name": "stdout",
     "output_type": "stream",
     "text": [
      "+-------+-------+-------+\n",
      "|overall|   item| userid|\n",
      "+-------+-------+-------+\n",
      "|    5.0| 7989.0| 4698.0|\n",
      "|    5.0|20672.0|22732.0|\n",
      "|    5.0|16503.0|13464.0|\n",
      "|    1.0| 1840.0|50524.0|\n",
      "|    5.0|25781.0|34309.0|\n",
      "+-------+-------+-------+\n",
      "only showing top 5 rows\n",
      "\n"
     ]
    }
   ],
   "source": [
    "#transform itemID and userID string type to index (integer type)\n",
    "\n",
    "# Indexing for items\n",
    "itemIndexer = StringIndexer(inputCol=\"asin\", outputCol=\"item\",handleInvalid='error')  \n",
    "# Indexing for users\n",
    "userIndexer = StringIndexer(inputCol='reviewerID',outputCol='userid',handleInvalid='error')\n",
    "\n",
    "temp = itemIndexer.fit(df)\n",
    "itemIndexed = temp.transform(df)\n",
    "\n",
    "temp = userIndexer.fit(itemIndexed)\n",
    "userIndexed = temp.transform(itemIndexed) \n",
    "\n",
    "# remove old columns - user and item ID's of string type\n",
    "df_final = userIndexed.drop('asin').drop('reviewerID') \n",
    "df_final.show(5)"
   ]
  },
  {
   "cell_type": "code",
   "execution_count": 17,
   "metadata": {},
   "outputs": [],
   "source": [
    "# renaming columns \n",
    "df_final = df_final.selectExpr(\"item as productID\",\"overall as rating\", \"userid as userID\")"
   ]
  },
  {
   "cell_type": "code",
   "execution_count": 18,
   "metadata": {},
   "outputs": [
    {
     "name": "stdout",
     "output_type": "stream",
     "text": [
      "+---------+------+-------+\n",
      "|productID|rating| userID|\n",
      "+---------+------+-------+\n",
      "|   7989.0|   5.0| 4698.0|\n",
      "|  20672.0|   5.0|22732.0|\n",
      "|  16503.0|   5.0|13464.0|\n",
      "|   1840.0|   1.0|50524.0|\n",
      "|  25781.0|   5.0|34309.0|\n",
      "+---------+------+-------+\n",
      "only showing top 5 rows\n",
      "\n"
     ]
    }
   ],
   "source": [
    "df_final.show(n=5)"
   ]
  },
  {
   "cell_type": "code",
   "execution_count": 20,
   "metadata": {},
   "outputs": [],
   "source": [
    "#Save the preprocessed file to local\n",
    "als_data = df_final.toPandas()\n",
    "als_data.to_csv('als_preprocessed.csv')"
   ]
  },
  {
   "cell_type": "markdown",
   "metadata": {},
   "source": [
    "### 5. Divide data into train-validation-test dataset"
   ]
  },
  {
   "cell_type": "code",
   "execution_count": 22,
   "metadata": {},
   "outputs": [
    {
     "name": "stdout",
     "output_type": "stream",
     "text": [
      "Train dataset size:  36350\n",
      "Validation dataset size:  12093\n",
      "Test dataset size:  12102\n"
     ]
    }
   ],
   "source": [
    "# 60-20-20 train-test-validation split\n",
    "(train, validation, test) = df_final.randomSplit([0.6,0.2,0.2])\n",
    "\n",
    "# cache into memory through clusters so that we can access this data frequently \n",
    "train.cache() \n",
    "validation.cache()\n",
    "test.cache()\n",
    "\n",
    "# Each dataset size\n",
    "print('Train dataset size: ', train.count())\n",
    "print('Validation dataset size: ', validation.count())\n",
    "print('Test dataset size: ' ,test.count())"
   ]
  },
  {
   "cell_type": "code",
   "execution_count": 23,
   "metadata": {},
   "outputs": [
    {
     "name": "stdout",
     "output_type": "stream",
     "text": [
      "Matrix size, percentage of matrix filled and number of distinct users and itmes:\n",
      "+------+---------+------+-----------+-------------------+\n",
      "|userID|productID|rating|matrix_size|         percentage|\n",
      "+------+---------+------+-----------+-------------------+\n",
      "| 35209|    23935| 36350|  842727415|0.00431337575507734|\n",
      "+------+---------+------+-----------+-------------------+\n",
      "\n"
     ]
    }
   ],
   "source": [
    "print('Matrix size, percentage of matrix filled and number of distinct users and itmes:')\n",
    "# calculate percentage of the user-item matrix that is filled\n",
    "train.createOrReplaceTempView('train')\n",
    "spark.sql(\"\"\"\n",
    "      SELECT *, 100 * rating/matrix_size AS percentage\n",
    "        FROM (\n",
    "          SELECT userID, productID, rating, userID * productID AS matrix_size\n",
    "            FROM(\n",
    "              SELECT COUNT(*) AS rating, COUNT(DISTINCT(productID)) AS productID, COUNT(DISTINCT(userID)) AS userID\n",
    "                FROM train\n",
    "                )\n",
    "            )\n",
    "\"\"\").show()"
   ]
  },
  {
   "cell_type": "markdown",
   "metadata": {},
   "source": [
    "### 6. ALS on entire Training Dataset"
   ]
  },
  {
   "cell_type": "code",
   "execution_count": 24,
   "metadata": {},
   "outputs": [],
   "source": [
    "#Defining the model\n",
    "als = ALS(userCol=\"userID\", itemCol=\"productID\", ratingCol=\"rating\",coldStartStrategy='drop',nonnegative = True)\n",
    "\n",
    "# Error evaluation\n",
    "evaluator = RegressionEvaluator(metricName=\"rmse\", labelCol=\"rating\", predictionCol=\"prediction\")"
   ]
  },
  {
   "cell_type": "code",
   "execution_count": 25,
   "metadata": {},
   "outputs": [],
   "source": [
    "# hyper-parameter config\n",
    "grid_para = ParamGridBuilder()\\\n",
    "        .addGrid(als.rank, [1, 5, 10,15,30]) \\\n",
    "        .addGrid(als.maxIter, [10])\\\n",
    "        .addGrid(als.regParam, [0.05, 0.1, 0.5,1])\\\n",
    "        .build()"
   ]
  },
  {
   "cell_type": "code",
   "execution_count": 26,
   "metadata": {},
   "outputs": [],
   "source": [
    "# train validation split\n",
    "tvs = TrainValidationSplit(estimator= als,\n",
    "                           estimatorParamMaps= grid_para,\n",
    "                           evaluator= evaluator,\n",
    "                           trainRatio= 0.8)"
   ]
  },
  {
   "cell_type": "code",
   "execution_count": 73,
   "metadata": {},
   "outputs": [
    {
     "name": "stdout",
     "output_type": "stream",
     "text": [
      "Total time taken:  896.339750289917\n"
     ]
    }
   ],
   "source": [
    "# fit model and calculate time\n",
    "start = time()\n",
    "model = tvs.fit(train)\n",
    "end = time()\n",
    "tot_time = (end - start)\n",
    "\n",
    "print('Total time taken: ', tot_time)"
   ]
  },
  {
   "cell_type": "markdown",
   "metadata": {},
   "source": [
    "### 7. Calculate RMSE on Test Dataset"
   ]
  },
  {
   "cell_type": "code",
   "execution_count": 78,
   "metadata": {},
   "outputs": [
    {
     "name": "stdout",
     "output_type": "stream",
     "text": [
      "Test set RMSE:  0.018603724126632956\n"
     ]
    }
   ],
   "source": [
    "# predict and evaluate test set\n",
    "predictions = model.transform(test)\n",
    "rmse = evaluator.evaluate(predictions)\n",
    "\n",
    "print('Test set RMSE: ',rmse)"
   ]
  },
  {
   "cell_type": "code",
   "execution_count": 79,
   "metadata": {},
   "outputs": [
    {
     "name": "stdout",
     "output_type": "stream",
     "text": [
      "+---------+------+------+----------+\n",
      "|productID|rating|userID|prediction|\n",
      "+---------+------+------+----------+\n",
      "|   3873.0|   5.0|   0.0| 4.9645767|\n",
      "|   2284.0|   5.0|   2.0| 4.9992933|\n",
      "|  15941.0|   5.0|   3.0|  4.973552|\n",
      "|  21892.0|   3.0|   6.0| 2.9745755|\n",
      "|   6327.0|   4.0|   7.0| 3.9111643|\n",
      "|    161.0|   3.0|   8.0| 3.0024815|\n",
      "|   3660.0|   5.0|   8.0|   5.01463|\n",
      "|   5140.0|   3.0|   9.0| 3.0026424|\n",
      "|  26141.0|   5.0|  10.0| 4.9654403|\n",
      "|  32177.0|   5.0|  12.0| 4.9668703|\n",
      "|   5884.0|   5.0|  13.0|  4.941322|\n",
      "|  15214.0|   3.0|  14.0| 2.9971523|\n",
      "|  20042.0|   5.0|  15.0| 4.9667234|\n",
      "|   1013.0|   3.0|  17.0| 3.0018303|\n",
      "|     29.0|   5.0|  18.0|  4.951812|\n",
      "|   9162.0|   4.0|  19.0|  4.036128|\n",
      "|   8955.0|   2.0|  22.0| 2.0093462|\n",
      "|   1384.0|   5.0|  29.0| 5.0009875|\n",
      "|   5822.0|   5.0|  30.0|  4.977812|\n",
      "|   9307.0|   5.0|  32.0| 4.9190173|\n",
      "+---------+------+------+----------+\n",
      "only showing top 20 rows\n",
      "\n"
     ]
    }
   ],
   "source": [
    "#display predictions and actual rating for test data\n",
    "predictions.sort([\"userID\",\"rating\"]).show(20)"
   ]
  },
  {
   "cell_type": "markdown",
   "metadata": {},
   "source": [
    "### 8. Recommend of Items for a User"
   ]
  },
  {
   "cell_type": "markdown",
   "metadata": {},
   "source": [
    "#### Filter out items rated by a specific user and make predictions of ratings for the items rated by that user."
   ]
  },
  {
   "cell_type": "code",
   "execution_count": 74,
   "metadata": {},
   "outputs": [
    {
     "name": "stdout",
     "output_type": "stream",
     "text": [
      "+---------+------+-------+\n",
      "|productID|rating| userID|\n",
      "+---------+------+-------+\n",
      "|      0.0|   1.0|30216.0|\n",
      "|      0.0|   4.0|   91.0|\n",
      "|      0.0|   4.0| 1468.0|\n",
      "|      0.0|   4.0|25788.0|\n",
      "|      0.0|   4.0|37605.0|\n",
      "|      0.0|   4.0|56055.0|\n",
      "|      0.0|   5.0|  863.0|\n",
      "|      0.0|   5.0| 2172.0|\n",
      "|      0.0|   5.0| 2229.0|\n",
      "|      0.0|   5.0| 2757.0|\n",
      "+---------+------+-------+\n",
      "only showing top 10 rows\n",
      "\n"
     ]
    }
   ],
   "source": [
    "train.show(n=10)"
   ]
  },
  {
   "cell_type": "code",
   "execution_count": 84,
   "metadata": {},
   "outputs": [
    {
     "name": "stdout",
     "output_type": "stream",
     "text": [
      "+---------+-------+\n",
      "|productID| userID|\n",
      "+---------+-------+\n",
      "|    299.0|56055.0|\n",
      "|    305.0|56055.0|\n",
      "|    496.0|56055.0|\n",
      "|    558.0|56055.0|\n",
      "|    596.0|56055.0|\n",
      "|    692.0|56055.0|\n",
      "|    769.0|56055.0|\n",
      "|    934.0|56055.0|\n",
      "|   1051.0|56055.0|\n",
      "|   1761.0|56055.0|\n",
      "|   2734.0|56055.0|\n",
      "|   2815.0|56055.0|\n",
      "|   2862.0|56055.0|\n",
      "|   3597.0|56055.0|\n",
      "|   3901.0|56055.0|\n",
      "|   3980.0|56055.0|\n",
      "|   4066.0|56055.0|\n",
      "|   4142.0|56055.0|\n",
      "|   4800.0|56055.0|\n",
      "|   5776.0|56055.0|\n",
      "+---------+-------+\n",
      "only showing top 20 rows\n",
      "\n"
     ]
    }
   ],
   "source": [
    "# Create a dataset with distinct games as one column and the user of interest as another column\n",
    "user_item = train.select(\"productID\").distinct().withColumn(\"userID\", lit(56055.0))\n",
    "user_item.show()"
   ]
  },
  {
   "cell_type": "code",
   "execution_count": 85,
   "metadata": {},
   "outputs": [],
   "source": [
    "# filter out items that user has already rated \n",
    "rated = train.filter(train.userID == 56055.0).select(\"productID\", \"userID\")"
   ]
  },
  {
   "cell_type": "code",
   "execution_count": 86,
   "metadata": {
    "scrolled": false
   },
   "outputs": [
    {
     "name": "stdout",
     "output_type": "stream",
     "text": [
      "+---------+----------+\n",
      "|productID|prediction|\n",
      "+---------+----------+\n",
      "|  30073.0|0.13309406|\n",
      "|  13822.0|0.16507468|\n",
      "|  29902.0|0.17138676|\n",
      "|  20431.0|0.18728861|\n",
      "|  18397.0|0.19492298|\n",
      "|  32045.0|0.20192698|\n",
      "|  32440.0|0.22435465|\n",
      "|  21822.0|0.22591178|\n",
      "|  30174.0|0.23218171|\n",
      "|  14852.0|0.23578358|\n",
      "|  33881.0|0.23921289|\n",
      "|  12682.0|0.24095587|\n",
      "|  15652.0|0.24929976|\n",
      "|  32219.0| 0.2545924|\n",
      "|  21223.0| 0.2635395|\n",
      "|  20125.0|  0.264087|\n",
      "|  20369.0|0.26428777|\n",
      "|  12184.0| 0.2651276|\n",
      "|  23099.0|0.26721197|\n",
      "|  19534.0| 0.2696422|\n",
      "+---------+----------+\n",
      "only showing top 20 rows\n",
      "\n"
     ]
    }
   ],
   "source": [
    "# apply trained recommender system\n",
    "predict = model.transform(user_item.subtract(rated)).dropna().orderBy(\"prediction\").select(\"productID\", \"prediction\")\n",
    "#display predictions and actual rating for test data\n",
    "predict.show(20)"
   ]
  },
  {
   "cell_type": "code",
   "execution_count": 87,
   "metadata": {
    "scrolled": false
   },
   "outputs": [
    {
     "name": "stdout",
     "output_type": "stream",
     "text": [
      "The predictions for the items rated by userID => 56055 are:\n",
      "+---------+----------+-------------+\n",
      "|productID|prediction|productID_old|\n",
      "+---------+----------+-------------+\n",
      "|  30073.0|0.13309406|   B0052GCDJS|\n",
      "|  13822.0|0.16507468|   B000IBNBES|\n",
      "|  29902.0|0.17138676|   B00VWXRYGW|\n",
      "|  20431.0|0.18728861|   B01F03O1EM|\n",
      "|  18397.0|0.19492298|   B01C192MY4|\n",
      "|  32045.0|0.20192698|   B0062CEMPY|\n",
      "|  32440.0|0.22435465|   B001GHX43G|\n",
      "|  21822.0|0.22591178|   B005TP55EC|\n",
      "|  30174.0|0.23218171|   B00EQCOCA2|\n",
      "|  14852.0|0.23578358|   B01E07KY6I|\n",
      "|  33881.0|0.23921289|   B00J5TP3PE|\n",
      "|  12682.0|0.24095587|   B017Z778KA|\n",
      "|  15652.0|0.24929976|   B00CY13YII|\n",
      "|  32219.0| 0.2545924|   B014P9HQUI|\n",
      "|  21223.0| 0.2635395|   B000VM6NH6|\n",
      "|  20125.0|  0.264087|   B00KEXKAVW|\n",
      "|  20369.0|0.26428777|   B00DFI8ED4|\n",
      "|  12184.0| 0.2651276|   B00GO20KC6|\n",
      "|  23099.0|0.26721197|   B006J14L72|\n",
      "|  19534.0| 0.2696422|   B00GWTHJWK|\n",
      "+---------+----------+-------------+\n",
      "only showing top 20 rows\n",
      "\n"
     ]
    }
   ],
   "source": [
    "# convert index back to original ASIN \n",
    "original = IndexToString(inputCol=\"productID\", outputCol=\"productID_old\")\n",
    "df_convert = original.transform(predict)\n",
    "print('The predictions for the items rated by userID => 56055 are:')\n",
    "df_convert.show()"
   ]
  },
  {
   "cell_type": "markdown",
   "metadata": {},
   "source": [
    "### 9. Adding the titles for each product"
   ]
  },
  {
   "cell_type": "markdown",
   "metadata": {},
   "source": [
    "#### Here, the titles dataset is imported from the metadata. The dataset consists:\n",
    "> 1. Asin : Item/product ID\n",
    "> 2. Title: Name of the corresponding product <br>\n",
    "\n",
    "This data is merged with our predictions to know the `titles` for the respective `product IDs`."
   ]
  },
  {
   "cell_type": "code",
   "execution_count": 42,
   "metadata": {},
   "outputs": [],
   "source": [
    "#Load the titles dataset\n",
    "title = spark.read.load('title_data_csv', format='csv', header=True, inferSchema=True)"
   ]
  },
  {
   "cell_type": "code",
   "execution_count": 88,
   "metadata": {},
   "outputs": [
    {
     "name": "stdout",
     "output_type": "stream",
     "text": [
      "+----------+----------+--------------------+\n",
      "| productID|prediction|               title|\n",
      "+----------+----------+--------------------+\n",
      "|B0000665TD| 1.6035212|J-2000 Jiffy Garm...|\n",
      "|B0000665TD| 1.6035212|J-2000 Jiffy Garm...|\n",
      "|B0001MRUXW|  2.789501|\"Cambro RFSCW8 8 ...|\n",
      "|B0001MRUXW|  2.789501|\"Cambro RFSCW8 8 ...|\n",
      "|B00061J2B6| 1.7379642|Steamfast SF-680 ...|\n",
      "|B000B61X18|  3.235203|Aprilaire 501 Rep...|\n",
      "|B000I0WQWC| 2.7849176|Holmes Arm and Ha...|\n",
      "|B000WJVB1Q| 1.3849219|SPACE Seating Big...|\n",
      "|B000X6K9J8| 2.4911835|EZ Off Jar Opener...|\n",
      "|B000ZPGB62|  2.259657|Cozy Sack 7-Feet ...|\n",
      "|B0011TRO80| 1.1570232|Ginsu Gourmet Chi...|\n",
      "|B0012BU6TQ| 1.9036897|ANBOO Steam Mop P...|\n",
      "|B0015HEABW| 2.7988913|16 oz. Olive Oil ...|\n",
      "|B0015WLSJE| 1.3763881|\"Floating Shelf 2...|\n",
      "|B001AO7PEY| 1.5583534|Pop Culture Graph...|\n",
      "|B001FNVXS4|  2.127907|var aPageStart = ...|\n",
      "|B001G0PMW4| 1.9601758|Mountain Woods 15...|\n",
      "|B001I7FP54| 2.2549953|Deluxe Food Strai...|\n",
      "|B001U3OZQ6| 2.1022484|Yankee Candle Sma...|\n",
      "|B0021XM0UC| 0.7238024|Chef Craft 21006 ...|\n",
      "+----------+----------+--------------------+\n",
      "only showing top 20 rows\n",
      "\n"
     ]
    }
   ],
   "source": [
    "df_convert.createOrReplaceTempView('result')\n",
    "title.createOrReplaceTempView('titles')\n",
    "spark.sql(\"\"\"\n",
    "      SELECT m.productID_old as productID,\n",
    "      m.prediction,\n",
    "      d.title\n",
    "      FROM result m LEFT JOIN titles d ON m.productID_old = d.asin\n",
    "      WHERE m.productID_old IS NOT NULL\n",
    "\"\"\").show()"
   ]
  },
  {
   "cell_type": "markdown",
   "metadata": {},
   "source": [
    "Check for the product details on amazon using the product ID: https://www.amazon.com/gp/product/B0000665TD/"
   ]
  },
  {
   "cell_type": "markdown",
   "metadata": {},
   "source": [
    "![](amazon_img.jpg)"
   ]
  }
 ],
 "metadata": {
  "kernelspec": {
   "display_name": "Python 3",
   "language": "python",
   "name": "python3"
  },
  "language_info": {
   "codemirror_mode": {
    "name": "ipython",
    "version": 3
   },
   "file_extension": ".py",
   "mimetype": "text/x-python",
   "name": "python",
   "nbconvert_exporter": "python",
   "pygments_lexer": "ipython3",
   "version": "3.7.4"
  }
 },
 "nbformat": 4,
 "nbformat_minor": 2
}
