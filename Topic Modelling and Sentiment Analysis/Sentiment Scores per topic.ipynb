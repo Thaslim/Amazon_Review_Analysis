{
 "cells": [
  {
   "cell_type": "markdown",
   "metadata": {},
   "source": [
    "# Sentiment Analysis on Topics"
   ]
  },
  {
   "cell_type": "markdown",
   "metadata": {},
   "source": [
    "### Goal: sentiment analysis on each topic discussed in a review and rating the product accordingly"
   ]
  },
  {
   "cell_type": "markdown",
   "metadata": {},
   "source": [
    "#### Importing Libraries"
   ]
  },
  {
   "cell_type": "code",
   "execution_count": 138,
   "metadata": {},
   "outputs": [],
   "source": [
    "import pandas as pd\n",
    "from nltk.sentiment.vader import SentimentIntensityAnalyzer\n",
    "import pprint"
   ]
  },
  {
   "cell_type": "code",
   "execution_count": 139,
   "metadata": {},
   "outputs": [
    {
     "name": "stderr",
     "output_type": "stream",
     "text": [
      "[nltk_data] Downloading package vader_lexicon to\n",
      "[nltk_data]     /Users/harika_pradeep/nltk_data...\n",
      "[nltk_data]   Package vader_lexicon is already up-to-date!\n"
     ]
    },
    {
     "data": {
      "text/plain": [
       "True"
      ]
     },
     "execution_count": 139,
     "metadata": {},
     "output_type": "execute_result"
    }
   ],
   "source": [
    "import nltk\n",
    "nltk.download('vader_lexicon')"
   ]
  },
  {
   "cell_type": "code",
   "execution_count": 140,
   "metadata": {},
   "outputs": [],
   "source": [
    "#Loading the file with dominent topic and topic contribution percentage on each sentence. \n",
    "#This data frame is saved from topic distribution notebook file.\n",
    "df = pd.read_csv(\"/Users/harika_pradeep/Downloads/df_topic_sents_keywords.csv\", index_col = 0)"
   ]
  },
  {
   "cell_type": "code",
   "execution_count": 141,
   "metadata": {},
   "outputs": [
    {
     "data": {
      "text/plain": [
       "(300677, 4)"
      ]
     },
     "execution_count": 141,
     "metadata": {},
     "output_type": "execute_result"
    }
   ],
   "source": [
    "df.shape"
   ]
  },
  {
   "cell_type": "code",
   "execution_count": 142,
   "metadata": {},
   "outputs": [
    {
     "data": {
      "text/html": [
       "<div>\n",
       "<style scoped>\n",
       "    .dataframe tbody tr th:only-of-type {\n",
       "        vertical-align: middle;\n",
       "    }\n",
       "\n",
       "    .dataframe tbody tr th {\n",
       "        vertical-align: top;\n",
       "    }\n",
       "\n",
       "    .dataframe thead th {\n",
       "        text-align: right;\n",
       "    }\n",
       "</style>\n",
       "<table border=\"1\" class=\"dataframe\">\n",
       "  <thead>\n",
       "    <tr style=\"text-align: right;\">\n",
       "      <th></th>\n",
       "      <th>Dominant_Topic</th>\n",
       "      <th>Perc_Contribution</th>\n",
       "      <th>Topic_Keywords</th>\n",
       "      <th>0</th>\n",
       "    </tr>\n",
       "  </thead>\n",
       "  <tbody>\n",
       "    <tr>\n",
       "      <td>0</td>\n",
       "      <td>5.0</td>\n",
       "      <td>0.2258</td>\n",
       "      <td>rice, quiet, combined, hard, owned, entire, beeping, burn, pressure, recipe</td>\n",
       "      <td>['excited', 'soon', 'followed', 'manual', 'setting', 'brown', 'rice', 'recipe', 'included', 'cookbook', 'instead', 'using', 'rice', 'program', 'button', 'brown_rice']</td>\n",
       "    </tr>\n",
       "    <tr>\n",
       "      <td>1</td>\n",
       "      <td>5.0</td>\n",
       "      <td>0.1607</td>\n",
       "      <td>rice, quiet, combined, hard, owned, entire, beeping, burn, pressure, recipe</td>\n",
       "      <td>['ended', 'best', 'texture', 'brown', 'jasmine', 'rice', 'jasmine_rice']</td>\n",
       "    </tr>\n",
       "    <tr>\n",
       "      <td>2</td>\n",
       "      <td>5.0</td>\n",
       "      <td>0.1852</td>\n",
       "      <td>rice, quiet, combined, hard, owned, entire, beeping, burn, pressure, recipe</td>\n",
       "      <td>['plus', 'aroma', 'stayed', 'rice', 'really', 'fragrant', 'read', 'manual', 'figure', 'rice', 'program', 'work', 'well', 'super', 'simple', 'manually', 'read_manual']</td>\n",
       "    </tr>\n",
       "    <tr>\n",
       "      <td>3</td>\n",
       "      <td>5.0</td>\n",
       "      <td>0.1967</td>\n",
       "      <td>rice, quiet, combined, hard, owned, entire, beeping, burn, pressure, recipe</td>\n",
       "      <td>['quietest', 'rice', 'cooker', 'pressure', 'cooker', 'seen', 'owned', 'separate', 'one', 'combined', 'cooker', 'like', 'rice_cooker', 'pressure_cooker']</td>\n",
       "    </tr>\n",
       "    <tr>\n",
       "      <td>4</td>\n",
       "      <td>5.0</td>\n",
       "      <td>0.1303</td>\n",
       "      <td>rice, quiet, combined, hard, owned, entire, beeping, burn, pressure, recipe</td>\n",
       "      <td>['quiet', 'musical', 'beeping', 'opening', 'closing', 'tiny', 'whisper', 'steam', 'throughout', 'whole', 'cooking', 'time']</td>\n",
       "    </tr>\n",
       "  </tbody>\n",
       "</table>\n",
       "</div>"
      ],
      "text/plain": [
       "   Dominant_Topic  Perc_Contribution  \\\n",
       "0  5.0             0.2258              \n",
       "1  5.0             0.1607              \n",
       "2  5.0             0.1852              \n",
       "3  5.0             0.1967              \n",
       "4  5.0             0.1303              \n",
       "\n",
       "                                                                Topic_Keywords  \\\n",
       "0  rice, quiet, combined, hard, owned, entire, beeping, burn, pressure, recipe   \n",
       "1  rice, quiet, combined, hard, owned, entire, beeping, burn, pressure, recipe   \n",
       "2  rice, quiet, combined, hard, owned, entire, beeping, burn, pressure, recipe   \n",
       "3  rice, quiet, combined, hard, owned, entire, beeping, burn, pressure, recipe   \n",
       "4  rice, quiet, combined, hard, owned, entire, beeping, burn, pressure, recipe   \n",
       "\n",
       "                                                                                                                                                                        0  \n",
       "0  ['excited', 'soon', 'followed', 'manual', 'setting', 'brown', 'rice', 'recipe', 'included', 'cookbook', 'instead', 'using', 'rice', 'program', 'button', 'brown_rice']  \n",
       "1  ['ended', 'best', 'texture', 'brown', 'jasmine', 'rice', 'jasmine_rice']                                                                                                \n",
       "2  ['plus', 'aroma', 'stayed', 'rice', 'really', 'fragrant', 'read', 'manual', 'figure', 'rice', 'program', 'work', 'well', 'super', 'simple', 'manually', 'read_manual']  \n",
       "3  ['quietest', 'rice', 'cooker', 'pressure', 'cooker', 'seen', 'owned', 'separate', 'one', 'combined', 'cooker', 'like', 'rice_cooker', 'pressure_cooker']                \n",
       "4  ['quiet', 'musical', 'beeping', 'opening', 'closing', 'tiny', 'whisper', 'steam', 'throughout', 'whole', 'cooking', 'time']                                             "
      ]
     },
     "execution_count": 142,
     "metadata": {},
     "output_type": "execute_result"
    }
   ],
   "source": [
    "df.head(5)"
   ]
  },
  {
   "cell_type": "code",
   "execution_count": 143,
   "metadata": {},
   "outputs": [
    {
     "name": "stdout",
     "output_type": "stream",
     "text": [
      "<class 'pandas.core.frame.DataFrame'>\n",
      "Int64Index: 300677 entries, 0 to 300676\n",
      "Data columns (total 4 columns):\n",
      "Dominant_Topic       300677 non-null float64\n",
      "Perc_Contribution    300677 non-null float64\n",
      "Topic_Keywords       300677 non-null object\n",
      "0                    300677 non-null object\n",
      "dtypes: float64(2), object(2)\n",
      "memory usage: 11.5+ MB\n"
     ]
    }
   ],
   "source": [
    "df.info()"
   ]
  },
  {
   "cell_type": "code",
   "execution_count": 144,
   "metadata": {},
   "outputs": [],
   "source": [
    "# Setting the coloumns names adding document number for each sentence\n",
    "df_dominant_topic = df.reset_index()\n",
    "df_dominant_topic.columns = ['Document_No', 'Dominant_Topic', 'Topic_Perc_Contrib', 'Keywords', 'Text']"
   ]
  },
  {
   "cell_type": "code",
   "execution_count": 145,
   "metadata": {},
   "outputs": [
    {
     "data": {
      "text/html": [
       "<div>\n",
       "<style scoped>\n",
       "    .dataframe tbody tr th:only-of-type {\n",
       "        vertical-align: middle;\n",
       "    }\n",
       "\n",
       "    .dataframe tbody tr th {\n",
       "        vertical-align: top;\n",
       "    }\n",
       "\n",
       "    .dataframe thead th {\n",
       "        text-align: right;\n",
       "    }\n",
       "</style>\n",
       "<table border=\"1\" class=\"dataframe\">\n",
       "  <thead>\n",
       "    <tr style=\"text-align: right;\">\n",
       "      <th></th>\n",
       "      <th>Document_No</th>\n",
       "      <th>Dominant_Topic</th>\n",
       "      <th>Topic_Perc_Contrib</th>\n",
       "      <th>Keywords</th>\n",
       "      <th>Text</th>\n",
       "    </tr>\n",
       "  </thead>\n",
       "  <tbody>\n",
       "    <tr>\n",
       "      <td>0</td>\n",
       "      <td>0</td>\n",
       "      <td>5.0</td>\n",
       "      <td>0.2258</td>\n",
       "      <td>rice, quiet, combined, hard, owned, entire, beeping, burn, pressure, recipe</td>\n",
       "      <td>['excited', 'soon', 'followed', 'manual', 'setting', 'brown', 'rice', 'recipe', 'included', 'cookbook', 'instead', 'using', 'rice', 'program', 'button', 'brown_rice']</td>\n",
       "    </tr>\n",
       "    <tr>\n",
       "      <td>1</td>\n",
       "      <td>1</td>\n",
       "      <td>5.0</td>\n",
       "      <td>0.1607</td>\n",
       "      <td>rice, quiet, combined, hard, owned, entire, beeping, burn, pressure, recipe</td>\n",
       "      <td>['ended', 'best', 'texture', 'brown', 'jasmine', 'rice', 'jasmine_rice']</td>\n",
       "    </tr>\n",
       "    <tr>\n",
       "      <td>2</td>\n",
       "      <td>2</td>\n",
       "      <td>5.0</td>\n",
       "      <td>0.1852</td>\n",
       "      <td>rice, quiet, combined, hard, owned, entire, beeping, burn, pressure, recipe</td>\n",
       "      <td>['plus', 'aroma', 'stayed', 'rice', 'really', 'fragrant', 'read', 'manual', 'figure', 'rice', 'program', 'work', 'well', 'super', 'simple', 'manually', 'read_manual']</td>\n",
       "    </tr>\n",
       "    <tr>\n",
       "      <td>3</td>\n",
       "      <td>3</td>\n",
       "      <td>5.0</td>\n",
       "      <td>0.1967</td>\n",
       "      <td>rice, quiet, combined, hard, owned, entire, beeping, burn, pressure, recipe</td>\n",
       "      <td>['quietest', 'rice', 'cooker', 'pressure', 'cooker', 'seen', 'owned', 'separate', 'one', 'combined', 'cooker', 'like', 'rice_cooker', 'pressure_cooker']</td>\n",
       "    </tr>\n",
       "    <tr>\n",
       "      <td>4</td>\n",
       "      <td>4</td>\n",
       "      <td>5.0</td>\n",
       "      <td>0.1303</td>\n",
       "      <td>rice, quiet, combined, hard, owned, entire, beeping, burn, pressure, recipe</td>\n",
       "      <td>['quiet', 'musical', 'beeping', 'opening', 'closing', 'tiny', 'whisper', 'steam', 'throughout', 'whole', 'cooking', 'time']</td>\n",
       "    </tr>\n",
       "  </tbody>\n",
       "</table>\n",
       "</div>"
      ],
      "text/plain": [
       "   Document_No  Dominant_Topic  Topic_Perc_Contrib  \\\n",
       "0  0            5.0             0.2258               \n",
       "1  1            5.0             0.1607               \n",
       "2  2            5.0             0.1852               \n",
       "3  3            5.0             0.1967               \n",
       "4  4            5.0             0.1303               \n",
       "\n",
       "                                                                      Keywords  \\\n",
       "0  rice, quiet, combined, hard, owned, entire, beeping, burn, pressure, recipe   \n",
       "1  rice, quiet, combined, hard, owned, entire, beeping, burn, pressure, recipe   \n",
       "2  rice, quiet, combined, hard, owned, entire, beeping, burn, pressure, recipe   \n",
       "3  rice, quiet, combined, hard, owned, entire, beeping, burn, pressure, recipe   \n",
       "4  rice, quiet, combined, hard, owned, entire, beeping, burn, pressure, recipe   \n",
       "\n",
       "                                                                                                                                                                     Text  \n",
       "0  ['excited', 'soon', 'followed', 'manual', 'setting', 'brown', 'rice', 'recipe', 'included', 'cookbook', 'instead', 'using', 'rice', 'program', 'button', 'brown_rice']  \n",
       "1  ['ended', 'best', 'texture', 'brown', 'jasmine', 'rice', 'jasmine_rice']                                                                                                \n",
       "2  ['plus', 'aroma', 'stayed', 'rice', 'really', 'fragrant', 'read', 'manual', 'figure', 'rice', 'program', 'work', 'well', 'super', 'simple', 'manually', 'read_manual']  \n",
       "3  ['quietest', 'rice', 'cooker', 'pressure', 'cooker', 'seen', 'owned', 'separate', 'one', 'combined', 'cooker', 'like', 'rice_cooker', 'pressure_cooker']                \n",
       "4  ['quiet', 'musical', 'beeping', 'opening', 'closing', 'tiny', 'whisper', 'steam', 'throughout', 'whole', 'cooking', 'time']                                             "
      ]
     },
     "execution_count": 145,
     "metadata": {},
     "output_type": "execute_result"
    }
   ],
   "source": [
    "df_dominant_topic.head(5)"
   ]
  },
  {
   "cell_type": "code",
   "execution_count": 146,
   "metadata": {},
   "outputs": [
    {
     "data": {
      "text/plain": [
       "Index(['Document_No', 'Dominant_Topic', 'Topic_Perc_Contrib', 'Keywords',\n",
       "       'Text'],\n",
       "      dtype='object')"
      ]
     },
     "execution_count": 146,
     "metadata": {},
     "output_type": "execute_result"
    }
   ],
   "source": [
    "df_dominant_topic.columns"
   ]
  },
  {
   "cell_type": "markdown",
   "metadata": {},
   "source": [
    "#### Exploring just  topics and keywords in the topics to lable them to make our analysis more interesting"
   ]
  },
  {
   "cell_type": "code",
   "execution_count": 147,
   "metadata": {},
   "outputs": [],
   "source": [
    "df_topics =df_dominant_topic[['Dominant_Topic', 'Keywords']]"
   ]
  },
  {
   "cell_type": "code",
   "execution_count": 148,
   "metadata": {},
   "outputs": [
    {
     "data": {
      "text/plain": [
       "(300677, 2)"
      ]
     },
     "execution_count": 148,
     "metadata": {},
     "output_type": "execute_result"
    }
   ],
   "source": [
    "df_topics.shape"
   ]
  },
  {
   "cell_type": "code",
   "execution_count": 149,
   "metadata": {},
   "outputs": [
    {
     "data": {
      "text/html": [
       "<div>\n",
       "<style scoped>\n",
       "    .dataframe tbody tr th:only-of-type {\n",
       "        vertical-align: middle;\n",
       "    }\n",
       "\n",
       "    .dataframe tbody tr th {\n",
       "        vertical-align: top;\n",
       "    }\n",
       "\n",
       "    .dataframe thead th {\n",
       "        text-align: right;\n",
       "    }\n",
       "</style>\n",
       "<table border=\"1\" class=\"dataframe\">\n",
       "  <thead>\n",
       "    <tr style=\"text-align: right;\">\n",
       "      <th></th>\n",
       "      <th>Dominant_Topic</th>\n",
       "      <th>Keywords</th>\n",
       "    </tr>\n",
       "  </thead>\n",
       "  <tbody>\n",
       "    <tr>\n",
       "      <td>0</td>\n",
       "      <td>5.0</td>\n",
       "      <td>rice, quiet, combined, hard, owned, entire, beeping, burn, pressure, recipe</td>\n",
       "    </tr>\n",
       "    <tr>\n",
       "      <td>1</td>\n",
       "      <td>5.0</td>\n",
       "      <td>rice, quiet, combined, hard, owned, entire, beeping, burn, pressure, recipe</td>\n",
       "    </tr>\n",
       "    <tr>\n",
       "      <td>2</td>\n",
       "      <td>5.0</td>\n",
       "      <td>rice, quiet, combined, hard, owned, entire, beeping, burn, pressure, recipe</td>\n",
       "    </tr>\n",
       "    <tr>\n",
       "      <td>3</td>\n",
       "      <td>5.0</td>\n",
       "      <td>rice, quiet, combined, hard, owned, entire, beeping, burn, pressure, recipe</td>\n",
       "    </tr>\n",
       "    <tr>\n",
       "      <td>4</td>\n",
       "      <td>5.0</td>\n",
       "      <td>rice, quiet, combined, hard, owned, entire, beeping, burn, pressure, recipe</td>\n",
       "    </tr>\n",
       "  </tbody>\n",
       "</table>\n",
       "</div>"
      ],
      "text/plain": [
       "   Dominant_Topic  \\\n",
       "0  5.0              \n",
       "1  5.0              \n",
       "2  5.0              \n",
       "3  5.0              \n",
       "4  5.0              \n",
       "\n",
       "                                                                      Keywords  \n",
       "0  rice, quiet, combined, hard, owned, entire, beeping, burn, pressure, recipe  \n",
       "1  rice, quiet, combined, hard, owned, entire, beeping, burn, pressure, recipe  \n",
       "2  rice, quiet, combined, hard, owned, entire, beeping, burn, pressure, recipe  \n",
       "3  rice, quiet, combined, hard, owned, entire, beeping, burn, pressure, recipe  \n",
       "4  rice, quiet, combined, hard, owned, entire, beeping, burn, pressure, recipe  "
      ]
     },
     "execution_count": 149,
     "metadata": {},
     "output_type": "execute_result"
    }
   ],
   "source": [
    "df_topics.head(5)"
   ]
  },
  {
   "cell_type": "markdown",
   "metadata": {},
   "source": [
    "##### Dropping the duplicates and keeping one occurence of Topic and its keywords combination (we should be getting just 10"
   ]
  },
  {
   "cell_type": "code",
   "execution_count": 150,
   "metadata": {},
   "outputs": [
    {
     "name": "stderr",
     "output_type": "stream",
     "text": [
      "/Users/harika_pradeep/miniconda3/envs/tensorflow/lib/python3.6/site-packages/ipykernel_launcher.py:1: SettingWithCopyWarning: \n",
      "A value is trying to be set on a copy of a slice from a DataFrame\n",
      "\n",
      "See the caveats in the documentation: http://pandas.pydata.org/pandas-docs/stable/user_guide/indexing.html#returning-a-view-versus-a-copy\n",
      "  \"\"\"Entry point for launching an IPython kernel.\n"
     ]
    }
   ],
   "source": [
    "df_topics.drop_duplicates(keep='first',inplace=True)"
   ]
  },
  {
   "cell_type": "code",
   "execution_count": 151,
   "metadata": {},
   "outputs": [
    {
     "name": "stderr",
     "output_type": "stream",
     "text": [
      "/Users/harika_pradeep/miniconda3/envs/tensorflow/lib/python3.6/site-packages/ipykernel_launcher.py:2: SettingWithCopyWarning: \n",
      "A value is trying to be set on a copy of a slice from a DataFrame\n",
      "\n",
      "See the caveats in the documentation: http://pandas.pydata.org/pandas-docs/stable/user_guide/indexing.html#returning-a-view-versus-a-copy\n",
      "  \n"
     ]
    }
   ],
   "source": [
    "#Sorting them in order and restting their index\n",
    "df_topics.sort_values(['Dominant_Topic'],inplace=True)"
   ]
  },
  {
   "cell_type": "code",
   "execution_count": 152,
   "metadata": {},
   "outputs": [],
   "source": [
    "df_topics.reset_index(drop=True,inplace=True)"
   ]
  },
  {
   "cell_type": "code",
   "execution_count": 153,
   "metadata": {},
   "outputs": [],
   "source": [
    "pd.set_option('display.max_colwidth', -1)"
   ]
  },
  {
   "cell_type": "code",
   "execution_count": 154,
   "metadata": {},
   "outputs": [
    {
     "data": {
      "text/html": [
       "<div>\n",
       "<style scoped>\n",
       "    .dataframe tbody tr th:only-of-type {\n",
       "        vertical-align: middle;\n",
       "    }\n",
       "\n",
       "    .dataframe tbody tr th {\n",
       "        vertical-align: top;\n",
       "    }\n",
       "\n",
       "    .dataframe thead th {\n",
       "        text-align: right;\n",
       "    }\n",
       "</style>\n",
       "<table border=\"1\" class=\"dataframe\">\n",
       "  <thead>\n",
       "    <tr style=\"text-align: right;\">\n",
       "      <th></th>\n",
       "      <th>Dominant_Topic</th>\n",
       "      <th>Keywords</th>\n",
       "    </tr>\n",
       "  </thead>\n",
       "  <tbody>\n",
       "    <tr>\n",
       "      <td>0</td>\n",
       "      <td>0.0</td>\n",
       "      <td>count, hate, changing, debating, cooker, addict, posted, sushi_rice, faded, picking</td>\n",
       "    </tr>\n",
       "    <tr>\n",
       "      <td>1</td>\n",
       "      <td>1.0</td>\n",
       "      <td>slightly, cooker, preparation, fence, simutaneously, egg, small, tinola, goodness, friendly</td>\n",
       "    </tr>\n",
       "    <tr>\n",
       "      <td>2</td>\n",
       "      <td>2.0</td>\n",
       "      <td>channel, handy, explained, update, worth_every, caused, daily, release, complaint, tomato_sauce</td>\n",
       "    </tr>\n",
       "    <tr>\n",
       "      <td>3</td>\n",
       "      <td>3.0</td>\n",
       "      <td>hulking, needed, tomato, deglazing, musical, productdon, kobacha, water, unit, worth_money</td>\n",
       "    </tr>\n",
       "    <tr>\n",
       "      <td>4</td>\n",
       "      <td>4.0</td>\n",
       "      <td>handle, quiet, immediately, hour, continues, uncooked, tomato, authentic, winter, regular</td>\n",
       "    </tr>\n",
       "    <tr>\n",
       "      <td>5</td>\n",
       "      <td>5.0</td>\n",
       "      <td>rice, quiet, combined, hard, owned, entire, beeping, burn, pressure, recipe</td>\n",
       "    </tr>\n",
       "    <tr>\n",
       "      <td>6</td>\n",
       "      <td>6.0</td>\n",
       "      <td>vegetarian, cream, exceeded_expectation, combination, great, store, basic, veggie, fast, catcher</td>\n",
       "    </tr>\n",
       "    <tr>\n",
       "      <td>7</td>\n",
       "      <td>7.0</td>\n",
       "      <td>automates, macerated, drain, long, button, fast, curious, unnecessary, attempt, capacity</td>\n",
       "    </tr>\n",
       "    <tr>\n",
       "      <td>8</td>\n",
       "      <td>8.0</td>\n",
       "      <td>super, read_manual, meat, prep, southpaw, hard, sweet_potato, ruined, troubleshooting, chuck</td>\n",
       "    </tr>\n",
       "    <tr>\n",
       "      <td>9</td>\n",
       "      <td>9.0</td>\n",
       "      <td>perform, searching, user, cooker, mild, bistek, butter, elaborate, plan, specifically</td>\n",
       "    </tr>\n",
       "  </tbody>\n",
       "</table>\n",
       "</div>"
      ],
      "text/plain": [
       "   Dominant_Topic  \\\n",
       "0  0.0              \n",
       "1  1.0              \n",
       "2  2.0              \n",
       "3  3.0              \n",
       "4  4.0              \n",
       "5  5.0              \n",
       "6  6.0              \n",
       "7  7.0              \n",
       "8  8.0              \n",
       "9  9.0              \n",
       "\n",
       "                                                                                           Keywords  \n",
       "0  count, hate, changing, debating, cooker, addict, posted, sushi_rice, faded, picking               \n",
       "1  slightly, cooker, preparation, fence, simutaneously, egg, small, tinola, goodness, friendly       \n",
       "2  channel, handy, explained, update, worth_every, caused, daily, release, complaint, tomato_sauce   \n",
       "3  hulking, needed, tomato, deglazing, musical, productdon, kobacha, water, unit, worth_money        \n",
       "4  handle, quiet, immediately, hour, continues, uncooked, tomato, authentic, winter, regular         \n",
       "5  rice, quiet, combined, hard, owned, entire, beeping, burn, pressure, recipe                       \n",
       "6  vegetarian, cream, exceeded_expectation, combination, great, store, basic, veggie, fast, catcher  \n",
       "7  automates, macerated, drain, long, button, fast, curious, unnecessary, attempt, capacity          \n",
       "8  super, read_manual, meat, prep, southpaw, hard, sweet_potato, ruined, troubleshooting, chuck      \n",
       "9  perform, searching, user, cooker, mild, bistek, butter, elaborate, plan, specifically             "
      ]
     },
     "execution_count": 154,
     "metadata": {},
     "output_type": "execute_result"
    }
   ],
   "source": [
    "df_topics"
   ]
  },
  {
   "cell_type": "markdown",
   "metadata": {},
   "source": [
    "#### Labeling Topics"
   ]
  },
  {
   "cell_type": "markdown",
   "metadata": {},
   "source": [
    "##### Understanding the words in the topics and labeling them with the possible single word.\n",
    "Topic 0: count, hate, changing, debating, cooker, addict, posted, sushi_rice, faded, picking : Possibly \"Logivity\"  <br> Topic 1: slightly, cooker, preparation, fence, simutaneously, egg, small, tinola, goodness, friendly : Possibly \"Portability\" <br> Topic 2: channel, handy, explained, update, worth_every, caused, daily, release, complaint, tomato_sauce : Possibly \"Regular-Use\" <br> Topic 3: hulking, needed, tomato, deglazing, musical, productdon, kobacha, water, unit, worth_money : Possibly \"Price_worthy\"  <br> Topic 4: handle, quiet, immediately, hour, continues, uncooked, tomato, authentic, winter, regular : Possibly \"Performance\" <br> Topic 5: rice, quiet, combined, hard, owned, entire, beeping, burn, pressure, recipe : Possibly \"Options\"  <br> Topic 6: vegetarian, cream, exceeded_expectation, combination, great, store, basic, veggie, fast, catcher : Possibly \"Time_saving\" <br> Topic 7: automates, macerated, drain, long, button, fast, curious, unnecessary, attempt, capacity : Possibly \"Quality\" <br> Topic 8: super, read_manual, meat, prep, southpaw, hard, sweet_potato, ruined, troubleshooting, chuck : Possibly \"Instructional\" <br> Topic 9: perform, searching, user, cooker, mild, bistek, butter, elaborate, plan, specifically : Possibly \"Recipie_modes\""
   ]
  },
  {
   "cell_type": "code",
   "execution_count": 155,
   "metadata": {},
   "outputs": [],
   "source": [
    "#Now labeling in actual df_dominant_topic dataframe.\n",
    "df_dominant_topic = df_dominant_topic.replace({'Dominant_Topic': {0.0: 'Logivity', 1.0: 'Portability', \n",
    "                                                                  2.0: 'Regular-Use', 3.0: 'Price_worthy', \n",
    "                                                                  4.0: 'Performance', 5.0: 'Options', 6.0: 'Time_saving', \n",
    "                                                                  7.0: 'Quality', 8.0: 'Instructional', \n",
    "                                                                  9.0: 'Recipie_modes'}})"
   ]
  },
  {
   "cell_type": "code",
   "execution_count": 156,
   "metadata": {},
   "outputs": [
    {
     "data": {
      "text/html": [
       "<div>\n",
       "<style scoped>\n",
       "    .dataframe tbody tr th:only-of-type {\n",
       "        vertical-align: middle;\n",
       "    }\n",
       "\n",
       "    .dataframe tbody tr th {\n",
       "        vertical-align: top;\n",
       "    }\n",
       "\n",
       "    .dataframe thead th {\n",
       "        text-align: right;\n",
       "    }\n",
       "</style>\n",
       "<table border=\"1\" class=\"dataframe\">\n",
       "  <thead>\n",
       "    <tr style=\"text-align: right;\">\n",
       "      <th></th>\n",
       "      <th>Document_No</th>\n",
       "      <th>Dominant_Topic</th>\n",
       "      <th>Topic_Perc_Contrib</th>\n",
       "      <th>Keywords</th>\n",
       "      <th>Text</th>\n",
       "    </tr>\n",
       "  </thead>\n",
       "  <tbody>\n",
       "    <tr>\n",
       "      <td>0</td>\n",
       "      <td>0</td>\n",
       "      <td>Options</td>\n",
       "      <td>0.2258</td>\n",
       "      <td>rice, quiet, combined, hard, owned, entire, beeping, burn, pressure, recipe</td>\n",
       "      <td>['excited', 'soon', 'followed', 'manual', 'setting', 'brown', 'rice', 'recipe', 'included', 'cookbook', 'instead', 'using', 'rice', 'program', 'button', 'brown_rice']</td>\n",
       "    </tr>\n",
       "    <tr>\n",
       "      <td>1</td>\n",
       "      <td>1</td>\n",
       "      <td>Options</td>\n",
       "      <td>0.1607</td>\n",
       "      <td>rice, quiet, combined, hard, owned, entire, beeping, burn, pressure, recipe</td>\n",
       "      <td>['ended', 'best', 'texture', 'brown', 'jasmine', 'rice', 'jasmine_rice']</td>\n",
       "    </tr>\n",
       "    <tr>\n",
       "      <td>2</td>\n",
       "      <td>2</td>\n",
       "      <td>Options</td>\n",
       "      <td>0.1852</td>\n",
       "      <td>rice, quiet, combined, hard, owned, entire, beeping, burn, pressure, recipe</td>\n",
       "      <td>['plus', 'aroma', 'stayed', 'rice', 'really', 'fragrant', 'read', 'manual', 'figure', 'rice', 'program', 'work', 'well', 'super', 'simple', 'manually', 'read_manual']</td>\n",
       "    </tr>\n",
       "  </tbody>\n",
       "</table>\n",
       "</div>"
      ],
      "text/plain": [
       "   Document_No Dominant_Topic  Topic_Perc_Contrib  \\\n",
       "0  0            Options        0.2258               \n",
       "1  1            Options        0.1607               \n",
       "2  2            Options        0.1852               \n",
       "\n",
       "                                                                      Keywords  \\\n",
       "0  rice, quiet, combined, hard, owned, entire, beeping, burn, pressure, recipe   \n",
       "1  rice, quiet, combined, hard, owned, entire, beeping, burn, pressure, recipe   \n",
       "2  rice, quiet, combined, hard, owned, entire, beeping, burn, pressure, recipe   \n",
       "\n",
       "                                                                                                                                                                     Text  \n",
       "0  ['excited', 'soon', 'followed', 'manual', 'setting', 'brown', 'rice', 'recipe', 'included', 'cookbook', 'instead', 'using', 'rice', 'program', 'button', 'brown_rice']  \n",
       "1  ['ended', 'best', 'texture', 'brown', 'jasmine', 'rice', 'jasmine_rice']                                                                                                \n",
       "2  ['plus', 'aroma', 'stayed', 'rice', 'really', 'fragrant', 'read', 'manual', 'figure', 'rice', 'program', 'work', 'well', 'super', 'simple', 'manually', 'read_manual']  "
      ]
     },
     "execution_count": 156,
     "metadata": {},
     "output_type": "execute_result"
    }
   ],
   "source": [
    "df_dominant_topic.head(3)"
   ]
  },
  {
   "cell_type": "markdown",
   "metadata": {},
   "source": [
    "#### Merging this dataframe with orignal sentences dataframe based on index"
   ]
  },
  {
   "cell_type": "code",
   "execution_count": 157,
   "metadata": {},
   "outputs": [],
   "source": [
    "df_sent = pd.read_csv(\"/Users/harika_pradeep/Downloads/top_25_sents.csv\", index_col=0)"
   ]
  },
  {
   "cell_type": "code",
   "execution_count": 158,
   "metadata": {},
   "outputs": [
    {
     "data": {
      "text/html": [
       "<div>\n",
       "<style scoped>\n",
       "    .dataframe tbody tr th:only-of-type {\n",
       "        vertical-align: middle;\n",
       "    }\n",
       "\n",
       "    .dataframe tbody tr th {\n",
       "        vertical-align: top;\n",
       "    }\n",
       "\n",
       "    .dataframe thead th {\n",
       "        text-align: right;\n",
       "    }\n",
       "</style>\n",
       "<table border=\"1\" class=\"dataframe\">\n",
       "  <thead>\n",
       "    <tr style=\"text-align: right;\">\n",
       "      <th></th>\n",
       "      <th>asin</th>\n",
       "      <th>sentences</th>\n",
       "    </tr>\n",
       "  </thead>\n",
       "  <tbody>\n",
       "    <tr>\n",
       "      <td>0</td>\n",
       "      <td>B00FLYWNYQ</td>\n",
       "      <td>I was excited to try this so as soon as I got it I followed the manual setting brown rice recipe in the included cookbook instead of using the rice program button</td>\n",
       "    </tr>\n",
       "    <tr>\n",
       "      <td>1</td>\n",
       "      <td>B00FLYWNYQ</td>\n",
       "      <td>I ended up with the best texture I've ever had in brown jasmine rice</td>\n",
       "    </tr>\n",
       "    <tr>\n",
       "      <td>2</td>\n",
       "      <td>B00FLYWNYQ</td>\n",
       "      <td>Plus the aroma stayed in the pot, so the rice was really fragrant! I will have to read the manual to figure out how to use the rice program to see if it works as well, but it was super simple to just set it manually</td>\n",
       "    </tr>\n",
       "    <tr>\n",
       "      <td>3</td>\n",
       "      <td>B00FLYWNYQ</td>\n",
       "      <td>This is the quietest rice cooker or pressure cooker I've ever seen (I've owned separate ones and one that was a combined cooker like this one)</td>\n",
       "    </tr>\n",
       "    <tr>\n",
       "      <td>4</td>\n",
       "      <td>B00FLYWNYQ</td>\n",
       "      <td>There was only quiet musical beeping when opening and closing the lid and one tiny whisper of steam throughout the whole cooking time</td>\n",
       "    </tr>\n",
       "  </tbody>\n",
       "</table>\n",
       "</div>"
      ],
      "text/plain": [
       "         asin  \\\n",
       "0  B00FLYWNYQ   \n",
       "1  B00FLYWNYQ   \n",
       "2  B00FLYWNYQ   \n",
       "3  B00FLYWNYQ   \n",
       "4  B00FLYWNYQ   \n",
       "\n",
       "                                                                                                                                                                                                                  sentences  \n",
       "0  I was excited to try this so as soon as I got it I followed the manual setting brown rice recipe in the included cookbook instead of using the rice program button                                                        \n",
       "1   I ended up with the best texture I've ever had in brown jasmine rice                                                                                                                                                     \n",
       "2   Plus the aroma stayed in the pot, so the rice was really fragrant! I will have to read the manual to figure out how to use the rice program to see if it works as well, but it was super simple to just set it manually  \n",
       "3   This is the quietest rice cooker or pressure cooker I've ever seen (I've owned separate ones and one that was a combined cooker like this one)                                                                           \n",
       "4   There was only quiet musical beeping when opening and closing the lid and one tiny whisper of steam throughout the whole cooking time                                                                                    "
      ]
     },
     "execution_count": 158,
     "metadata": {},
     "output_type": "execute_result"
    }
   ],
   "source": [
    "df_sent.head()"
   ]
  },
  {
   "cell_type": "code",
   "execution_count": 159,
   "metadata": {},
   "outputs": [
    {
     "data": {
      "text/plain": [
       "(300677, 2)"
      ]
     },
     "execution_count": 159,
     "metadata": {},
     "output_type": "execute_result"
    }
   ],
   "source": [
    "df_sent.shape"
   ]
  },
  {
   "cell_type": "markdown",
   "metadata": {},
   "source": [
    "#### Merging df_sent (sentences for each product) with df_dominent_topic (that has topic distribution per text) "
   ]
  },
  {
   "cell_type": "code",
   "execution_count": 160,
   "metadata": {},
   "outputs": [],
   "source": [
    "# Merge two Dataframes on index of both the dataframes\n",
    "mergedDf = df_dominant_topic.merge(df_sent, left_index=True, right_index=True)"
   ]
  },
  {
   "cell_type": "code",
   "execution_count": 161,
   "metadata": {},
   "outputs": [
    {
     "data": {
      "text/html": [
       "<div>\n",
       "<style scoped>\n",
       "    .dataframe tbody tr th:only-of-type {\n",
       "        vertical-align: middle;\n",
       "    }\n",
       "\n",
       "    .dataframe tbody tr th {\n",
       "        vertical-align: top;\n",
       "    }\n",
       "\n",
       "    .dataframe thead th {\n",
       "        text-align: right;\n",
       "    }\n",
       "</style>\n",
       "<table border=\"1\" class=\"dataframe\">\n",
       "  <thead>\n",
       "    <tr style=\"text-align: right;\">\n",
       "      <th></th>\n",
       "      <th>Document_No</th>\n",
       "      <th>Dominant_Topic</th>\n",
       "      <th>Topic_Perc_Contrib</th>\n",
       "      <th>Keywords</th>\n",
       "      <th>Text</th>\n",
       "      <th>asin</th>\n",
       "      <th>sentences</th>\n",
       "    </tr>\n",
       "  </thead>\n",
       "  <tbody>\n",
       "    <tr>\n",
       "      <td>0</td>\n",
       "      <td>0</td>\n",
       "      <td>Options</td>\n",
       "      <td>0.2258</td>\n",
       "      <td>rice, quiet, combined, hard, owned, entire, beeping, burn, pressure, recipe</td>\n",
       "      <td>['excited', 'soon', 'followed', 'manual', 'setting', 'brown', 'rice', 'recipe', 'included', 'cookbook', 'instead', 'using', 'rice', 'program', 'button', 'brown_rice']</td>\n",
       "      <td>B00FLYWNYQ</td>\n",
       "      <td>I was excited to try this so as soon as I got it I followed the manual setting brown rice recipe in the included cookbook instead of using the rice program button</td>\n",
       "    </tr>\n",
       "    <tr>\n",
       "      <td>1</td>\n",
       "      <td>1</td>\n",
       "      <td>Options</td>\n",
       "      <td>0.1607</td>\n",
       "      <td>rice, quiet, combined, hard, owned, entire, beeping, burn, pressure, recipe</td>\n",
       "      <td>['ended', 'best', 'texture', 'brown', 'jasmine', 'rice', 'jasmine_rice']</td>\n",
       "      <td>B00FLYWNYQ</td>\n",
       "      <td>I ended up with the best texture I've ever had in brown jasmine rice</td>\n",
       "    </tr>\n",
       "  </tbody>\n",
       "</table>\n",
       "</div>"
      ],
      "text/plain": [
       "   Document_No Dominant_Topic  Topic_Perc_Contrib  \\\n",
       "0  0            Options        0.2258               \n",
       "1  1            Options        0.1607               \n",
       "\n",
       "                                                                      Keywords  \\\n",
       "0  rice, quiet, combined, hard, owned, entire, beeping, burn, pressure, recipe   \n",
       "1  rice, quiet, combined, hard, owned, entire, beeping, burn, pressure, recipe   \n",
       "\n",
       "                                                                                                                                                                     Text  \\\n",
       "0  ['excited', 'soon', 'followed', 'manual', 'setting', 'brown', 'rice', 'recipe', 'included', 'cookbook', 'instead', 'using', 'rice', 'program', 'button', 'brown_rice']   \n",
       "1  ['ended', 'best', 'texture', 'brown', 'jasmine', 'rice', 'jasmine_rice']                                                                                                 \n",
       "\n",
       "         asin  \\\n",
       "0  B00FLYWNYQ   \n",
       "1  B00FLYWNYQ   \n",
       "\n",
       "                                                                                                                                                            sentences  \n",
       "0  I was excited to try this so as soon as I got it I followed the manual setting brown rice recipe in the included cookbook instead of using the rice program button  \n",
       "1   I ended up with the best texture I've ever had in brown jasmine rice                                                                                               "
      ]
     },
     "execution_count": 161,
     "metadata": {},
     "output_type": "execute_result"
    }
   ],
   "source": [
    "mergedDf.head(2)"
   ]
  },
  {
   "cell_type": "code",
   "execution_count": 162,
   "metadata": {},
   "outputs": [
    {
     "data": {
      "text/html": [
       "<div>\n",
       "<style scoped>\n",
       "    .dataframe tbody tr th:only-of-type {\n",
       "        vertical-align: middle;\n",
       "    }\n",
       "\n",
       "    .dataframe tbody tr th {\n",
       "        vertical-align: top;\n",
       "    }\n",
       "\n",
       "    .dataframe thead th {\n",
       "        text-align: right;\n",
       "    }\n",
       "</style>\n",
       "<table border=\"1\" class=\"dataframe\">\n",
       "  <thead>\n",
       "    <tr style=\"text-align: right;\">\n",
       "      <th></th>\n",
       "      <th>Document_No</th>\n",
       "      <th>Topic_Perc_Contrib</th>\n",
       "    </tr>\n",
       "  </thead>\n",
       "  <tbody>\n",
       "    <tr>\n",
       "      <td>count</td>\n",
       "      <td>300677.000000</td>\n",
       "      <td>300677.000000</td>\n",
       "    </tr>\n",
       "    <tr>\n",
       "      <td>mean</td>\n",
       "      <td>150338.000000</td>\n",
       "      <td>0.134570</td>\n",
       "    </tr>\n",
       "    <tr>\n",
       "      <td>std</td>\n",
       "      <td>86798.117782</td>\n",
       "      <td>0.028719</td>\n",
       "    </tr>\n",
       "    <tr>\n",
       "      <td>min</td>\n",
       "      <td>0.000000</td>\n",
       "      <td>0.100000</td>\n",
       "    </tr>\n",
       "    <tr>\n",
       "      <td>25%</td>\n",
       "      <td>75169.000000</td>\n",
       "      <td>0.115400</td>\n",
       "    </tr>\n",
       "    <tr>\n",
       "      <td>50%</td>\n",
       "      <td>150338.000000</td>\n",
       "      <td>0.129600</td>\n",
       "    </tr>\n",
       "    <tr>\n",
       "      <td>75%</td>\n",
       "      <td>225507.000000</td>\n",
       "      <td>0.148100</td>\n",
       "    </tr>\n",
       "    <tr>\n",
       "      <td>max</td>\n",
       "      <td>300676.000000</td>\n",
       "      <td>0.754300</td>\n",
       "    </tr>\n",
       "  </tbody>\n",
       "</table>\n",
       "</div>"
      ],
      "text/plain": [
       "         Document_No  Topic_Perc_Contrib\n",
       "count  300677.000000  300677.000000     \n",
       "mean   150338.000000  0.134570          \n",
       "std    86798.117782   0.028719          \n",
       "min    0.000000       0.100000          \n",
       "25%    75169.000000   0.115400          \n",
       "50%    150338.000000  0.129600          \n",
       "75%    225507.000000  0.148100          \n",
       "max    300676.000000  0.754300          "
      ]
     },
     "execution_count": 162,
     "metadata": {},
     "output_type": "execute_result"
    }
   ],
   "source": [
    "mergedDf.describe()"
   ]
  },
  {
   "cell_type": "code",
   "execution_count": 163,
   "metadata": {},
   "outputs": [
    {
     "name": "stdout",
     "output_type": "stream",
     "text": [
      "<class 'pandas.core.frame.DataFrame'>\n",
      "RangeIndex: 300677 entries, 0 to 300676\n",
      "Data columns (total 7 columns):\n",
      "Document_No           300677 non-null int64\n",
      "Dominant_Topic        300677 non-null object\n",
      "Topic_Perc_Contrib    300677 non-null float64\n",
      "Keywords              300677 non-null object\n",
      "Text                  300677 non-null object\n",
      "asin                  300677 non-null object\n",
      "sentences             265695 non-null object\n",
      "dtypes: float64(1), int64(1), object(5)\n",
      "memory usage: 16.1+ MB\n"
     ]
    }
   ],
   "source": [
    "#Checking for null values if any\n",
    "mergedDf.info()"
   ]
  },
  {
   "cell_type": "code",
   "execution_count": 164,
   "metadata": {},
   "outputs": [],
   "source": [
    "#Dropping null values on sentences\n",
    "mergedDf.dropna(axis=0, how='any', inplace = True)"
   ]
  },
  {
   "cell_type": "code",
   "execution_count": 165,
   "metadata": {},
   "outputs": [
    {
     "name": "stdout",
     "output_type": "stream",
     "text": [
      "<class 'pandas.core.frame.DataFrame'>\n",
      "Int64Index: 265695 entries, 0 to 300676\n",
      "Data columns (total 7 columns):\n",
      "Document_No           265695 non-null int64\n",
      "Dominant_Topic        265695 non-null object\n",
      "Topic_Perc_Contrib    265695 non-null float64\n",
      "Keywords              265695 non-null object\n",
      "Text                  265695 non-null object\n",
      "asin                  265695 non-null object\n",
      "sentences             265695 non-null object\n",
      "dtypes: float64(1), int64(1), object(5)\n",
      "memory usage: 16.2+ MB\n"
     ]
    }
   ],
   "source": [
    "mergedDf.info()"
   ]
  },
  {
   "cell_type": "code",
   "execution_count": 166,
   "metadata": {},
   "outputs": [],
   "source": [
    "mergedDf = mergedDf.reset_index(drop = True)"
   ]
  },
  {
   "cell_type": "markdown",
   "metadata": {},
   "source": [
    "#### Applying sentiment intensity analyser on sentences"
   ]
  },
  {
   "cell_type": "code",
   "execution_count": 167,
   "metadata": {},
   "outputs": [],
   "source": [
    "senti = SentimentIntensityAnalyzer()\n",
    "mergedDf[\"sentiments\"] = mergedDf[\"sentences\"].apply(lambda x: senti.polarity_scores(x))\n",
    "df_senti = pd.concat([mergedDf.drop(['sentiments'], axis=1), mergedDf['sentiments'].apply(pd.Series)], axis=1)"
   ]
  },
  {
   "cell_type": "code",
   "execution_count": 168,
   "metadata": {},
   "outputs": [
    {
     "data": {
      "text/html": [
       "<div>\n",
       "<style scoped>\n",
       "    .dataframe tbody tr th:only-of-type {\n",
       "        vertical-align: middle;\n",
       "    }\n",
       "\n",
       "    .dataframe tbody tr th {\n",
       "        vertical-align: top;\n",
       "    }\n",
       "\n",
       "    .dataframe thead th {\n",
       "        text-align: right;\n",
       "    }\n",
       "</style>\n",
       "<table border=\"1\" class=\"dataframe\">\n",
       "  <thead>\n",
       "    <tr style=\"text-align: right;\">\n",
       "      <th></th>\n",
       "      <th>Document_No</th>\n",
       "      <th>Dominant_Topic</th>\n",
       "      <th>Topic_Perc_Contrib</th>\n",
       "      <th>Keywords</th>\n",
       "      <th>Text</th>\n",
       "      <th>asin</th>\n",
       "      <th>sentences</th>\n",
       "      <th>neg</th>\n",
       "      <th>neu</th>\n",
       "      <th>pos</th>\n",
       "      <th>compound</th>\n",
       "    </tr>\n",
       "  </thead>\n",
       "  <tbody>\n",
       "    <tr>\n",
       "      <td>0</td>\n",
       "      <td>0</td>\n",
       "      <td>Options</td>\n",
       "      <td>0.2258</td>\n",
       "      <td>rice, quiet, combined, hard, owned, entire, beeping, burn, pressure, recipe</td>\n",
       "      <td>['excited', 'soon', 'followed', 'manual', 'setting', 'brown', 'rice', 'recipe', 'included', 'cookbook', 'instead', 'using', 'rice', 'program', 'button', 'brown_rice']</td>\n",
       "      <td>B00FLYWNYQ</td>\n",
       "      <td>I was excited to try this so as soon as I got it I followed the manual setting brown rice recipe in the included cookbook instead of using the rice program button</td>\n",
       "      <td>0.0</td>\n",
       "      <td>0.921</td>\n",
       "      <td>0.079</td>\n",
       "      <td>0.3400</td>\n",
       "    </tr>\n",
       "    <tr>\n",
       "      <td>1</td>\n",
       "      <td>1</td>\n",
       "      <td>Options</td>\n",
       "      <td>0.1607</td>\n",
       "      <td>rice, quiet, combined, hard, owned, entire, beeping, burn, pressure, recipe</td>\n",
       "      <td>['ended', 'best', 'texture', 'brown', 'jasmine', 'rice', 'jasmine_rice']</td>\n",
       "      <td>B00FLYWNYQ</td>\n",
       "      <td>I ended up with the best texture I've ever had in brown jasmine rice</td>\n",
       "      <td>0.0</td>\n",
       "      <td>0.741</td>\n",
       "      <td>0.259</td>\n",
       "      <td>0.6369</td>\n",
       "    </tr>\n",
       "    <tr>\n",
       "      <td>2</td>\n",
       "      <td>2</td>\n",
       "      <td>Options</td>\n",
       "      <td>0.1852</td>\n",
       "      <td>rice, quiet, combined, hard, owned, entire, beeping, burn, pressure, recipe</td>\n",
       "      <td>['plus', 'aroma', 'stayed', 'rice', 'really', 'fragrant', 'read', 'manual', 'figure', 'rice', 'program', 'work', 'well', 'super', 'simple', 'manually', 'read_manual']</td>\n",
       "      <td>B00FLYWNYQ</td>\n",
       "      <td>Plus the aroma stayed in the pot, so the rice was really fragrant! I will have to read the manual to figure out how to use the rice program to see if it works as well, but it was super simple to just set it manually</td>\n",
       "      <td>0.0</td>\n",
       "      <td>0.857</td>\n",
       "      <td>0.143</td>\n",
       "      <td>0.8016</td>\n",
       "    </tr>\n",
       "  </tbody>\n",
       "</table>\n",
       "</div>"
      ],
      "text/plain": [
       "   Document_No Dominant_Topic  Topic_Perc_Contrib  \\\n",
       "0  0            Options        0.2258               \n",
       "1  1            Options        0.1607               \n",
       "2  2            Options        0.1852               \n",
       "\n",
       "                                                                      Keywords  \\\n",
       "0  rice, quiet, combined, hard, owned, entire, beeping, burn, pressure, recipe   \n",
       "1  rice, quiet, combined, hard, owned, entire, beeping, burn, pressure, recipe   \n",
       "2  rice, quiet, combined, hard, owned, entire, beeping, burn, pressure, recipe   \n",
       "\n",
       "                                                                                                                                                                     Text  \\\n",
       "0  ['excited', 'soon', 'followed', 'manual', 'setting', 'brown', 'rice', 'recipe', 'included', 'cookbook', 'instead', 'using', 'rice', 'program', 'button', 'brown_rice']   \n",
       "1  ['ended', 'best', 'texture', 'brown', 'jasmine', 'rice', 'jasmine_rice']                                                                                                 \n",
       "2  ['plus', 'aroma', 'stayed', 'rice', 'really', 'fragrant', 'read', 'manual', 'figure', 'rice', 'program', 'work', 'well', 'super', 'simple', 'manually', 'read_manual']   \n",
       "\n",
       "         asin  \\\n",
       "0  B00FLYWNYQ   \n",
       "1  B00FLYWNYQ   \n",
       "2  B00FLYWNYQ   \n",
       "\n",
       "                                                                                                                                                                                                                  sentences  \\\n",
       "0  I was excited to try this so as soon as I got it I followed the manual setting brown rice recipe in the included cookbook instead of using the rice program button                                                         \n",
       "1   I ended up with the best texture I've ever had in brown jasmine rice                                                                                                                                                      \n",
       "2   Plus the aroma stayed in the pot, so the rice was really fragrant! I will have to read the manual to figure out how to use the rice program to see if it works as well, but it was super simple to just set it manually   \n",
       "\n",
       "   neg    neu    pos  compound  \n",
       "0  0.0  0.921  0.079  0.3400    \n",
       "1  0.0  0.741  0.259  0.6369    \n",
       "2  0.0  0.857  0.143  0.8016    "
      ]
     },
     "execution_count": 168,
     "metadata": {},
     "output_type": "execute_result"
    }
   ],
   "source": [
    "df_senti.head(3)"
   ]
  },
  {
   "cell_type": "code",
   "execution_count": 39,
   "metadata": {},
   "outputs": [],
   "source": [
    "#print(df_senti.loc[[0]].values)"
   ]
  },
  {
   "cell_type": "markdown",
   "metadata": {},
   "source": [
    "##### Compound score is the normalized value of positive , negative and neutral values generated by SentimentIntensityAnalyzer( )"
   ]
  },
  {
   "cell_type": "code",
   "execution_count": 169,
   "metadata": {},
   "outputs": [
    {
     "data": {
      "text/plain": [
       "count    265695.000000\n",
       "mean     0.280127     \n",
       "std      0.405754     \n",
       "min     -0.974000     \n",
       "25%      0.000000     \n",
       "50%      0.318200     \n",
       "75%      0.624900     \n",
       "max      0.997200     \n",
       "Name: compound, dtype: float64"
      ]
     },
     "execution_count": 169,
     "metadata": {},
     "output_type": "execute_result"
    }
   ],
   "source": [
    "df_senti['compound'].describe()"
   ]
  },
  {
   "cell_type": "markdown",
   "metadata": {},
   "source": [
    "##### Printing most negative sentence"
   ]
  },
  {
   "cell_type": "code",
   "execution_count": 170,
   "metadata": {},
   "outputs": [
    {
     "data": {
      "text/html": [
       "<div>\n",
       "<style scoped>\n",
       "    .dataframe tbody tr th:only-of-type {\n",
       "        vertical-align: middle;\n",
       "    }\n",
       "\n",
       "    .dataframe tbody tr th {\n",
       "        vertical-align: top;\n",
       "    }\n",
       "\n",
       "    .dataframe thead th {\n",
       "        text-align: right;\n",
       "    }\n",
       "</style>\n",
       "<table border=\"1\" class=\"dataframe\">\n",
       "  <thead>\n",
       "    <tr style=\"text-align: right;\">\n",
       "      <th></th>\n",
       "      <th>Document_No</th>\n",
       "      <th>Dominant_Topic</th>\n",
       "      <th>Topic_Perc_Contrib</th>\n",
       "      <th>Keywords</th>\n",
       "      <th>Text</th>\n",
       "      <th>asin</th>\n",
       "      <th>sentences</th>\n",
       "      <th>neg</th>\n",
       "      <th>neu</th>\n",
       "      <th>pos</th>\n",
       "      <th>compound</th>\n",
       "    </tr>\n",
       "  </thead>\n",
       "  <tbody>\n",
       "    <tr>\n",
       "      <td>22883</td>\n",
       "      <td>26098</td>\n",
       "      <td>Options</td>\n",
       "      <td>0.1375</td>\n",
       "      <td>rice, quiet, combined, hard, owned, entire, beeping, burn, pressure, recipe</td>\n",
       "      <td>['pressure', 'angry', 'empty', 'uncooked', 'food', 'throw', 'disappointed', 'hate', 'worked', 'time', 'month']</td>\n",
       "      <td>B00FLYWNYQ</td>\n",
       "      <td>,NO PRESSURE!!  I am SO angry !@@  now I have to empty all the uncooked food and throw it out and go out to eat!  VERY DISAPPOINTED! //I hate it! The pot has worked only 3 times ** We've had it for about a month</td>\n",
       "      <td>0.393</td>\n",
       "      <td>0.607</td>\n",
       "      <td>0.0</td>\n",
       "      <td>-0.974</td>\n",
       "    </tr>\n",
       "  </tbody>\n",
       "</table>\n",
       "</div>"
      ],
      "text/plain": [
       "       Document_No Dominant_Topic  Topic_Perc_Contrib  \\\n",
       "22883  26098        Options        0.1375               \n",
       "\n",
       "                                                                          Keywords  \\\n",
       "22883  rice, quiet, combined, hard, owned, entire, beeping, burn, pressure, recipe   \n",
       "\n",
       "                                                                                                                 Text  \\\n",
       "22883  ['pressure', 'angry', 'empty', 'uncooked', 'food', 'throw', 'disappointed', 'hate', 'worked', 'time', 'month']   \n",
       "\n",
       "             asin  \\\n",
       "22883  B00FLYWNYQ   \n",
       "\n",
       "                                                                                                                                                                                                                 sentences  \\\n",
       "22883  ,NO PRESSURE!!  I am SO angry !@@  now I have to empty all the uncooked food and throw it out and go out to eat!  VERY DISAPPOINTED! //I hate it! The pot has worked only 3 times ** We've had it for about a month   \n",
       "\n",
       "         neg    neu  pos  compound  \n",
       "22883  0.393  0.607  0.0 -0.974     "
      ]
     },
     "execution_count": 170,
     "metadata": {},
     "output_type": "execute_result"
    }
   ],
   "source": [
    " df_senti.loc[df_senti['compound'] == -0.974000]"
   ]
  },
  {
   "cell_type": "markdown",
   "metadata": {},
   "source": [
    "###### Printing most positive sentence "
   ]
  },
  {
   "cell_type": "code",
   "execution_count": 171,
   "metadata": {},
   "outputs": [
    {
     "data": {
      "text/html": [
       "<div>\n",
       "<style scoped>\n",
       "    .dataframe tbody tr th:only-of-type {\n",
       "        vertical-align: middle;\n",
       "    }\n",
       "\n",
       "    .dataframe tbody tr th {\n",
       "        vertical-align: top;\n",
       "    }\n",
       "\n",
       "    .dataframe thead th {\n",
       "        text-align: right;\n",
       "    }\n",
       "</style>\n",
       "<table border=\"1\" class=\"dataframe\">\n",
       "  <thead>\n",
       "    <tr style=\"text-align: right;\">\n",
       "      <th></th>\n",
       "      <th>Document_No</th>\n",
       "      <th>Dominant_Topic</th>\n",
       "      <th>Topic_Perc_Contrib</th>\n",
       "      <th>Keywords</th>\n",
       "      <th>Text</th>\n",
       "      <th>asin</th>\n",
       "      <th>sentences</th>\n",
       "      <th>neg</th>\n",
       "      <th>neu</th>\n",
       "      <th>pos</th>\n",
       "      <th>compound</th>\n",
       "    </tr>\n",
       "  </thead>\n",
       "  <tbody>\n",
       "    <tr>\n",
       "      <td>18454</td>\n",
       "      <td>20975</td>\n",
       "      <td>Options</td>\n",
       "      <td>0.2022</td>\n",
       "      <td>rice, quiet, combined, hard, owned, entire, beeping, burn, pressure, recipe</td>\n",
       "      <td>['always', 'scared', 'pressure', 'cooker', 'happy', 'purchase', 'glad', 'love', 'love', 'love', 'make', 'life', 'easier', 'life', 'easier', 'love', 'husband', 'brag', 'pressure_cooker', 'happy_purchase', 'life_easier', 'life_easier']</td>\n",
       "      <td>B00FLYWNYQ</td>\n",
       "      <td>I was always scared of pressure cookers before, but I'm so happy with this purchase! //I'm so glad I did ** WOW!  WOW!  WOW!  Love, love, love my IP!  Makes life so much easier! //LIFE IS EASIER NOW!!!! ** I love this thing, even my husband brags about it</td>\n",
       "      <td>0.035</td>\n",
       "      <td>0.328</td>\n",
       "      <td>0.637</td>\n",
       "      <td>0.9972</td>\n",
       "    </tr>\n",
       "  </tbody>\n",
       "</table>\n",
       "</div>"
      ],
      "text/plain": [
       "       Document_No Dominant_Topic  Topic_Perc_Contrib  \\\n",
       "18454  20975        Options        0.2022               \n",
       "\n",
       "                                                                          Keywords  \\\n",
       "18454  rice, quiet, combined, hard, owned, entire, beeping, burn, pressure, recipe   \n",
       "\n",
       "                                                                                                                                                                                                                                            Text  \\\n",
       "18454  ['always', 'scared', 'pressure', 'cooker', 'happy', 'purchase', 'glad', 'love', 'love', 'love', 'make', 'life', 'easier', 'life', 'easier', 'love', 'husband', 'brag', 'pressure_cooker', 'happy_purchase', 'life_easier', 'life_easier']   \n",
       "\n",
       "             asin  \\\n",
       "18454  B00FLYWNYQ   \n",
       "\n",
       "                                                                                                                                                                                                                                                              sentences  \\\n",
       "18454   I was always scared of pressure cookers before, but I'm so happy with this purchase! //I'm so glad I did ** WOW!  WOW!  WOW!  Love, love, love my IP!  Makes life so much easier! //LIFE IS EASIER NOW!!!! ** I love this thing, even my husband brags about it   \n",
       "\n",
       "         neg    neu    pos  compound  \n",
       "18454  0.035  0.328  0.637  0.9972    "
      ]
     },
     "execution_count": 171,
     "metadata": {},
     "output_type": "execute_result"
    }
   ],
   "source": [
    "df_senti.loc[df_senti['compound'] == 0.997200]"
   ]
  },
  {
   "cell_type": "markdown",
   "metadata": {},
   "source": [
    "##### \"Compound value is the normalized form of postive, negative and neutral score genrated by SentimentIntensityAnalyzer on each sentence of the reviews ranges between [-1, 1] . So labeling compund values to sentiments (positive negative and neutral). if compound is below 0 = negatve, above 0 = positive, 0 = neutral"
   ]
  },
  {
   "cell_type": "code",
   "execution_count": 172,
   "metadata": {},
   "outputs": [],
   "source": [
    "#Creating a column 'Sentiment'\n",
    "df_senti['sentiment'] = 1"
   ]
  },
  {
   "cell_type": "code",
   "execution_count": 173,
   "metadata": {},
   "outputs": [],
   "source": [
    "df_senti.loc[df_senti['compound'] <0,'sentiment']=\"negative\"\n",
    "df_senti.loc[df_senti['compound'] >0,'sentiment']=\"positive\"\n",
    "df_senti.loc[df_senti['compound'] ==0,'sentiment']=\"neutral\""
   ]
  },
  {
   "cell_type": "code",
   "execution_count": 174,
   "metadata": {},
   "outputs": [
    {
     "data": {
      "text/html": [
       "<div>\n",
       "<style scoped>\n",
       "    .dataframe tbody tr th:only-of-type {\n",
       "        vertical-align: middle;\n",
       "    }\n",
       "\n",
       "    .dataframe tbody tr th {\n",
       "        vertical-align: top;\n",
       "    }\n",
       "\n",
       "    .dataframe thead th {\n",
       "        text-align: right;\n",
       "    }\n",
       "</style>\n",
       "<table border=\"1\" class=\"dataframe\">\n",
       "  <thead>\n",
       "    <tr style=\"text-align: right;\">\n",
       "      <th></th>\n",
       "      <th>Document_No</th>\n",
       "      <th>Dominant_Topic</th>\n",
       "      <th>Topic_Perc_Contrib</th>\n",
       "      <th>Keywords</th>\n",
       "      <th>Text</th>\n",
       "      <th>asin</th>\n",
       "      <th>sentences</th>\n",
       "      <th>neg</th>\n",
       "      <th>neu</th>\n",
       "      <th>pos</th>\n",
       "      <th>compound</th>\n",
       "      <th>sentiment</th>\n",
       "    </tr>\n",
       "  </thead>\n",
       "  <tbody>\n",
       "    <tr>\n",
       "      <td>6</td>\n",
       "      <td>6</td>\n",
       "      <td>Time_saving</td>\n",
       "      <td>0.1379</td>\n",
       "      <td>vegetarian, cream, exceeded_expectation, combination, great, store, basic, veggie, fast, catcher</td>\n",
       "      <td>['tell', 'cooking', 'time', 'ended', 'hear', 'chime', 'pressure', 'cycle', 'ended']</td>\n",
       "      <td>B00FLYWNYQ</td>\n",
       "      <td>I could not tell when the cooking time ended, as I did not hear a chime when the pressure cycle ended</td>\n",
       "      <td>0.115</td>\n",
       "      <td>0.885</td>\n",
       "      <td>0.000</td>\n",
       "      <td>-0.2960</td>\n",
       "      <td>negative</td>\n",
       "    </tr>\n",
       "    <tr>\n",
       "      <td>24</td>\n",
       "      <td>24</td>\n",
       "      <td>Options</td>\n",
       "      <td>0.1154</td>\n",
       "      <td>rice, quiet, combined, hard, owned, entire, beeping, burn, pressure, recipe</td>\n",
       "      <td>['tout', 'unit', 'whisper', 'quiet']</td>\n",
       "      <td>B00FLYWNYQ</td>\n",
       "      <td>Just as it touts, this unit is whisper quiet</td>\n",
       "      <td>0.121</td>\n",
       "      <td>0.879</td>\n",
       "      <td>0.000</td>\n",
       "      <td>-0.0258</td>\n",
       "      <td>negative</td>\n",
       "    </tr>\n",
       "    <tr>\n",
       "      <td>26</td>\n",
       "      <td>26</td>\n",
       "      <td>Price_worthy</td>\n",
       "      <td>0.1111</td>\n",
       "      <td>hulking, needed, tomato, deglazing, musical, productdon, kobacha, water, unit, worth_money</td>\n",
       "      <td>['elite', 'heavily', 'never', 'liked', 'tricky']</td>\n",
       "      <td>B00FLYWNYQ</td>\n",
       "      <td>I used my Elite pc heavily, and never liked the tricky lid</td>\n",
       "      <td>0.183</td>\n",
       "      <td>0.704</td>\n",
       "      <td>0.113</td>\n",
       "      <td>-0.2235</td>\n",
       "      <td>negative</td>\n",
       "    </tr>\n",
       "  </tbody>\n",
       "</table>\n",
       "</div>"
      ],
      "text/plain": [
       "    Document_No Dominant_Topic  Topic_Perc_Contrib  \\\n",
       "6   6            Time_saving    0.1379               \n",
       "24  24           Options        0.1154               \n",
       "26  26           Price_worthy   0.1111               \n",
       "\n",
       "                                                                                            Keywords  \\\n",
       "6   vegetarian, cream, exceeded_expectation, combination, great, store, basic, veggie, fast, catcher   \n",
       "24  rice, quiet, combined, hard, owned, entire, beeping, burn, pressure, recipe                        \n",
       "26  hulking, needed, tomato, deglazing, musical, productdon, kobacha, water, unit, worth_money         \n",
       "\n",
       "                                                                                   Text  \\\n",
       "6   ['tell', 'cooking', 'time', 'ended', 'hear', 'chime', 'pressure', 'cycle', 'ended']   \n",
       "24  ['tout', 'unit', 'whisper', 'quiet']                                                  \n",
       "26  ['elite', 'heavily', 'never', 'liked', 'tricky']                                      \n",
       "\n",
       "          asin  \\\n",
       "6   B00FLYWNYQ   \n",
       "24  B00FLYWNYQ   \n",
       "26  B00FLYWNYQ   \n",
       "\n",
       "                                                                                                 sentences  \\\n",
       "6    I could not tell when the cooking time ended, as I did not hear a chime when the pressure cycle ended   \n",
       "24   Just as it touts, this unit is whisper quiet                                                            \n",
       "26    I used my Elite pc heavily, and never liked the tricky lid                                             \n",
       "\n",
       "      neg    neu    pos  compound sentiment  \n",
       "6   0.115  0.885  0.000 -0.2960    negative  \n",
       "24  0.121  0.879  0.000 -0.0258    negative  \n",
       "26  0.183  0.704  0.113 -0.2235    negative  "
      ]
     },
     "execution_count": 174,
     "metadata": {},
     "output_type": "execute_result"
    }
   ],
   "source": [
    "#Printing first 3 negative sentences\n",
    "df_senti[df_senti['compound'] <0].head(3)"
   ]
  },
  {
   "cell_type": "code",
   "execution_count": 175,
   "metadata": {},
   "outputs": [
    {
     "data": {
      "text/html": [
       "<div>\n",
       "<style scoped>\n",
       "    .dataframe tbody tr th:only-of-type {\n",
       "        vertical-align: middle;\n",
       "    }\n",
       "\n",
       "    .dataframe tbody tr th {\n",
       "        vertical-align: top;\n",
       "    }\n",
       "\n",
       "    .dataframe thead th {\n",
       "        text-align: right;\n",
       "    }\n",
       "</style>\n",
       "<table border=\"1\" class=\"dataframe\">\n",
       "  <thead>\n",
       "    <tr style=\"text-align: right;\">\n",
       "      <th></th>\n",
       "      <th>Document_No</th>\n",
       "      <th>Dominant_Topic</th>\n",
       "      <th>Topic_Perc_Contrib</th>\n",
       "      <th>Keywords</th>\n",
       "      <th>Text</th>\n",
       "      <th>asin</th>\n",
       "      <th>sentences</th>\n",
       "      <th>neg</th>\n",
       "      <th>neu</th>\n",
       "      <th>pos</th>\n",
       "      <th>compound</th>\n",
       "      <th>sentiment</th>\n",
       "    </tr>\n",
       "  </thead>\n",
       "  <tbody>\n",
       "    <tr>\n",
       "      <td>0</td>\n",
       "      <td>0</td>\n",
       "      <td>Options</td>\n",
       "      <td>0.2258</td>\n",
       "      <td>rice, quiet, combined, hard, owned, entire, beeping, burn, pressure, recipe</td>\n",
       "      <td>['excited', 'soon', 'followed', 'manual', 'setting', 'brown', 'rice', 'recipe', 'included', 'cookbook', 'instead', 'using', 'rice', 'program', 'button', 'brown_rice']</td>\n",
       "      <td>B00FLYWNYQ</td>\n",
       "      <td>I was excited to try this so as soon as I got it I followed the manual setting brown rice recipe in the included cookbook instead of using the rice program button</td>\n",
       "      <td>0.0</td>\n",
       "      <td>0.921</td>\n",
       "      <td>0.079</td>\n",
       "      <td>0.3400</td>\n",
       "      <td>positive</td>\n",
       "    </tr>\n",
       "    <tr>\n",
       "      <td>1</td>\n",
       "      <td>1</td>\n",
       "      <td>Options</td>\n",
       "      <td>0.1607</td>\n",
       "      <td>rice, quiet, combined, hard, owned, entire, beeping, burn, pressure, recipe</td>\n",
       "      <td>['ended', 'best', 'texture', 'brown', 'jasmine', 'rice', 'jasmine_rice']</td>\n",
       "      <td>B00FLYWNYQ</td>\n",
       "      <td>I ended up with the best texture I've ever had in brown jasmine rice</td>\n",
       "      <td>0.0</td>\n",
       "      <td>0.741</td>\n",
       "      <td>0.259</td>\n",
       "      <td>0.6369</td>\n",
       "      <td>positive</td>\n",
       "    </tr>\n",
       "    <tr>\n",
       "      <td>2</td>\n",
       "      <td>2</td>\n",
       "      <td>Options</td>\n",
       "      <td>0.1852</td>\n",
       "      <td>rice, quiet, combined, hard, owned, entire, beeping, burn, pressure, recipe</td>\n",
       "      <td>['plus', 'aroma', 'stayed', 'rice', 'really', 'fragrant', 'read', 'manual', 'figure', 'rice', 'program', 'work', 'well', 'super', 'simple', 'manually', 'read_manual']</td>\n",
       "      <td>B00FLYWNYQ</td>\n",
       "      <td>Plus the aroma stayed in the pot, so the rice was really fragrant! I will have to read the manual to figure out how to use the rice program to see if it works as well, but it was super simple to just set it manually</td>\n",
       "      <td>0.0</td>\n",
       "      <td>0.857</td>\n",
       "      <td>0.143</td>\n",
       "      <td>0.8016</td>\n",
       "      <td>positive</td>\n",
       "    </tr>\n",
       "  </tbody>\n",
       "</table>\n",
       "</div>"
      ],
      "text/plain": [
       "   Document_No Dominant_Topic  Topic_Perc_Contrib  \\\n",
       "0  0            Options        0.2258               \n",
       "1  1            Options        0.1607               \n",
       "2  2            Options        0.1852               \n",
       "\n",
       "                                                                      Keywords  \\\n",
       "0  rice, quiet, combined, hard, owned, entire, beeping, burn, pressure, recipe   \n",
       "1  rice, quiet, combined, hard, owned, entire, beeping, burn, pressure, recipe   \n",
       "2  rice, quiet, combined, hard, owned, entire, beeping, burn, pressure, recipe   \n",
       "\n",
       "                                                                                                                                                                     Text  \\\n",
       "0  ['excited', 'soon', 'followed', 'manual', 'setting', 'brown', 'rice', 'recipe', 'included', 'cookbook', 'instead', 'using', 'rice', 'program', 'button', 'brown_rice']   \n",
       "1  ['ended', 'best', 'texture', 'brown', 'jasmine', 'rice', 'jasmine_rice']                                                                                                 \n",
       "2  ['plus', 'aroma', 'stayed', 'rice', 'really', 'fragrant', 'read', 'manual', 'figure', 'rice', 'program', 'work', 'well', 'super', 'simple', 'manually', 'read_manual']   \n",
       "\n",
       "         asin  \\\n",
       "0  B00FLYWNYQ   \n",
       "1  B00FLYWNYQ   \n",
       "2  B00FLYWNYQ   \n",
       "\n",
       "                                                                                                                                                                                                                  sentences  \\\n",
       "0  I was excited to try this so as soon as I got it I followed the manual setting brown rice recipe in the included cookbook instead of using the rice program button                                                         \n",
       "1   I ended up with the best texture I've ever had in brown jasmine rice                                                                                                                                                      \n",
       "2   Plus the aroma stayed in the pot, so the rice was really fragrant! I will have to read the manual to figure out how to use the rice program to see if it works as well, but it was super simple to just set it manually   \n",
       "\n",
       "   neg    neu    pos  compound sentiment  \n",
       "0  0.0  0.921  0.079  0.3400    positive  \n",
       "1  0.0  0.741  0.259  0.6369    positive  \n",
       "2  0.0  0.857  0.143  0.8016    positive  "
      ]
     },
     "execution_count": 175,
     "metadata": {},
     "output_type": "execute_result"
    }
   ],
   "source": [
    "#Printing first 3 positive sentences\n",
    "df_senti[df_senti['compound'] >0].head (3)"
   ]
  },
  {
   "cell_type": "code",
   "execution_count": 176,
   "metadata": {
    "scrolled": false
   },
   "outputs": [
    {
     "data": {
      "text/html": [
       "<div>\n",
       "<style scoped>\n",
       "    .dataframe tbody tr th:only-of-type {\n",
       "        vertical-align: middle;\n",
       "    }\n",
       "\n",
       "    .dataframe tbody tr th {\n",
       "        vertical-align: top;\n",
       "    }\n",
       "\n",
       "    .dataframe thead th {\n",
       "        text-align: right;\n",
       "    }\n",
       "</style>\n",
       "<table border=\"1\" class=\"dataframe\">\n",
       "  <thead>\n",
       "    <tr style=\"text-align: right;\">\n",
       "      <th></th>\n",
       "      <th>Document_No</th>\n",
       "      <th>Dominant_Topic</th>\n",
       "      <th>Topic_Perc_Contrib</th>\n",
       "      <th>Keywords</th>\n",
       "      <th>Text</th>\n",
       "      <th>asin</th>\n",
       "      <th>sentences</th>\n",
       "      <th>neg</th>\n",
       "      <th>neu</th>\n",
       "      <th>pos</th>\n",
       "      <th>compound</th>\n",
       "      <th>sentiment</th>\n",
       "    </tr>\n",
       "  </thead>\n",
       "  <tbody>\n",
       "    <tr>\n",
       "      <td>4</td>\n",
       "      <td>4</td>\n",
       "      <td>Options</td>\n",
       "      <td>0.1303</td>\n",
       "      <td>rice, quiet, combined, hard, owned, entire, beeping, burn, pressure, recipe</td>\n",
       "      <td>['quiet', 'musical', 'beeping', 'opening', 'closing', 'tiny', 'whisper', 'steam', 'throughout', 'whole', 'cooking', 'time']</td>\n",
       "      <td>B00FLYWNYQ</td>\n",
       "      <td>There was only quiet musical beeping when opening and closing the lid and one tiny whisper of steam throughout the whole cooking time</td>\n",
       "      <td>0.0</td>\n",
       "      <td>1.0</td>\n",
       "      <td>0.0</td>\n",
       "      <td>0.0</td>\n",
       "      <td>neutral</td>\n",
       "    </tr>\n",
       "    <tr>\n",
       "      <td>5</td>\n",
       "      <td>5</td>\n",
       "      <td>Recipie_modes</td>\n",
       "      <td>0.1250</td>\n",
       "      <td>perform, searching, user, cooker, mild, bistek, butter, elaborate, plan, specifically</td>\n",
       "      <td>['tell', 'except', 'display', 'front', 'metal', 'part', 'touch', 'side']</td>\n",
       "      <td>B00FLYWNYQ</td>\n",
       "      <td>I couldn't tell it was on except the display was lit on the front and the metal part of the lid was hot to the touch (but not the sides)</td>\n",
       "      <td>0.0</td>\n",
       "      <td>1.0</td>\n",
       "      <td>0.0</td>\n",
       "      <td>0.0</td>\n",
       "      <td>neutral</td>\n",
       "    </tr>\n",
       "    <tr>\n",
       "      <td>8</td>\n",
       "      <td>8</td>\n",
       "      <td>Portability</td>\n",
       "      <td>0.1111</td>\n",
       "      <td>slightly, cooker, preparation, fence, simutaneously, egg, small, tinola, goodness, friendly</td>\n",
       "      <td>['condensation', 'catcher', 'back', 'needed']</td>\n",
       "      <td>B00FLYWNYQ</td>\n",
       "      <td>There is a condensation catcher on the back, but it wasn't needed at all</td>\n",
       "      <td>0.0</td>\n",
       "      <td>1.0</td>\n",
       "      <td>0.0</td>\n",
       "      <td>0.0</td>\n",
       "      <td>neutral</td>\n",
       "    </tr>\n",
       "  </tbody>\n",
       "</table>\n",
       "</div>"
      ],
      "text/plain": [
       "   Document_No Dominant_Topic  Topic_Perc_Contrib  \\\n",
       "4  4            Options        0.1303               \n",
       "5  5            Recipie_modes  0.1250               \n",
       "8  8            Portability    0.1111               \n",
       "\n",
       "                                                                                      Keywords  \\\n",
       "4  rice, quiet, combined, hard, owned, entire, beeping, burn, pressure, recipe                   \n",
       "5  perform, searching, user, cooker, mild, bistek, butter, elaborate, plan, specifically         \n",
       "8  slightly, cooker, preparation, fence, simutaneously, egg, small, tinola, goodness, friendly   \n",
       "\n",
       "                                                                                                                          Text  \\\n",
       "4  ['quiet', 'musical', 'beeping', 'opening', 'closing', 'tiny', 'whisper', 'steam', 'throughout', 'whole', 'cooking', 'time']   \n",
       "5  ['tell', 'except', 'display', 'front', 'metal', 'part', 'touch', 'side']                                                      \n",
       "8  ['condensation', 'catcher', 'back', 'needed']                                                                                 \n",
       "\n",
       "         asin  \\\n",
       "4  B00FLYWNYQ   \n",
       "5  B00FLYWNYQ   \n",
       "8  B00FLYWNYQ   \n",
       "\n",
       "                                                                                                                                   sentences  \\\n",
       "4   There was only quiet musical beeping when opening and closing the lid and one tiny whisper of steam throughout the whole cooking time      \n",
       "5   I couldn't tell it was on except the display was lit on the front and the metal part of the lid was hot to the touch (but not the sides)   \n",
       "8   There is a condensation catcher on the back, but it wasn't needed at all                                                                   \n",
       "\n",
       "   neg  neu  pos  compound sentiment  \n",
       "4  0.0  1.0  0.0  0.0       neutral   \n",
       "5  0.0  1.0  0.0  0.0       neutral   \n",
       "8  0.0  1.0  0.0  0.0       neutral   "
      ]
     },
     "execution_count": 176,
     "metadata": {},
     "output_type": "execute_result"
    }
   ],
   "source": [
    "#Printing first 3 neutral sentences\n",
    "df_senti[df_senti['compound'] == 0].head (3)"
   ]
  },
  {
   "cell_type": "markdown",
   "metadata": {},
   "source": [
    "##### Graphical representation of number of negative , neutrals and  positive sentences"
   ]
  },
  {
   "cell_type": "code",
   "execution_count": 177,
   "metadata": {},
   "outputs": [
    {
     "data": {
      "image/png": "[encoded data removed]",
      "text/plain": [
       "<Figure size 432x288 with 1 Axes>"
      ]
     },
     "metadata": {
      "needs_background": "light"
     },
     "output_type": "display_data"
    }
   ],
   "source": [
    "#Importing Seaborn and Matplotlib for graphical effects.\n",
    "%matplotlib inline\n",
    "import matplotlib.pyplot as plt\n",
    "import seaborn as sns\n",
    "plt.figure()\n",
    "sns.countplot(x='sentiment', data=df_senti, palette='RdBu')\n",
    "plt.xlabel('sentiment')\n",
    "plt.show()"
   ]
  },
  {
   "cell_type": "markdown",
   "metadata": {},
   "source": [
    "### Now getting the sentiment of each topic for a particular product."
   ]
  },
  {
   "cell_type": "code",
   "execution_count": 181,
   "metadata": {},
   "outputs": [
    {
     "data": {
      "text/plain": [
       "(265695, 12)"
      ]
     },
     "execution_count": 181,
     "metadata": {},
     "output_type": "execute_result"
    }
   ],
   "source": [
    "df_senti.shape"
   ]
  },
  {
   "cell_type": "code",
   "execution_count": 182,
   "metadata": {},
   "outputs": [
    {
     "data": {
      "text/plain": [
       "25"
      ]
     },
     "execution_count": 182,
     "metadata": {},
     "output_type": "execute_result"
    }
   ],
   "source": [
    "df_senti['asin'].unique().size"
   ]
  },
  {
   "cell_type": "code",
   "execution_count": 183,
   "metadata": {},
   "outputs": [
    {
     "data": {
      "text/plain": [
       "array(['B00FLYWNYQ', 'B00COK3FD8', 'B009HVH4XO', 'B00NX47YP4',\n",
       "       'B00902X68W', 'B00EINBSJ2', 'B009ZJ2M7G', 'B0091YYUAM',\n",
       "       'B00JVLG2KG', 'B000YGEVMI', 'B00INRW7GC', 'B019D9HESO',\n",
       "       'B00AYULZEQ', 'B00LV4W8BI', 'B007WQ9YNE', 'B000M8YMEU',\n",
       "       'B002S52ZDU', 'B00EQT70QS', 'B000VENLF6', 'B00ARQVLGO',\n",
       "       'B000BWZ7QO', 'B002KAPNA0', 'B00Q7EV29G', 'B0015TMHSI',\n",
       "       'B00T6TKYPC'], dtype=object)"
      ]
     },
     "execution_count": 183,
     "metadata": {},
     "output_type": "execute_result"
    }
   ],
   "source": [
    "df_senti['asin'].unique()"
   ]
  },
  {
   "cell_type": "markdown",
   "metadata": {},
   "source": [
    "#### Step 1:\n",
    "1. As a first step we first need to get the number of positives for each topic in a product and devide that number with total number of sentiments(positives+negatives+neutrals) of the same topics for the same product. <br>\n",
    "<br>\n",
    "percentage Positive Sentiment(topic) per product = ((Number of positives(topic)) / (Total number of sentiments(topic))) <br>\n",
    "<br>\n",
    "2. Apply the same step 1 for negatives and neutrals <br>"
   ]
  },
  {
   "cell_type": "code",
   "execution_count": 184,
   "metadata": {},
   "outputs": [],
   "source": [
    "#Creating an empty dataframe with columnnames representing topics\n",
    "raw_data = {\"asin\":df_senti.asin.unique()}\n",
    "#df_23['asin'] = df_senti.asin.unique()\n",
    "#df_senti.loc[df_senti.asin=='asin'].value_counts ()\n",
    "import numpy as np\n",
    "[[raw_data.update({str(_i)+\"_\"+_j:25*[np.NaN]}) for _i in df_senti.Dominant_Topic.unique()] for _j in [\"positive\",\"negative\",\"neutral\"]]\n",
    "product_sentiments = pd.DataFrame (raw_data)"
   ]
  },
  {
   "cell_type": "code",
   "execution_count": 185,
   "metadata": {},
   "outputs": [
    {
     "data": {
      "text/html": [
       "<div>\n",
       "<style scoped>\n",
       "    .dataframe tbody tr th:only-of-type {\n",
       "        vertical-align: middle;\n",
       "    }\n",
       "\n",
       "    .dataframe tbody tr th {\n",
       "        vertical-align: top;\n",
       "    }\n",
       "\n",
       "    .dataframe thead th {\n",
       "        text-align: right;\n",
       "    }\n",
       "</style>\n",
       "<table border=\"1\" class=\"dataframe\">\n",
       "  <thead>\n",
       "    <tr style=\"text-align: right;\">\n",
       "      <th></th>\n",
       "      <th>asin</th>\n",
       "      <th>Options_positive</th>\n",
       "      <th>Recipie_modes_positive</th>\n",
       "      <th>Time_saving_positive</th>\n",
       "      <th>Portability_positive</th>\n",
       "      <th>Logivity_positive</th>\n",
       "      <th>Price_worthy_positive</th>\n",
       "      <th>Instructional_positive</th>\n",
       "      <th>Quality_positive</th>\n",
       "      <th>Regular-Use_positive</th>\n",
       "      <th>...</th>\n",
       "      <th>Options_neutral</th>\n",
       "      <th>Recipie_modes_neutral</th>\n",
       "      <th>Time_saving_neutral</th>\n",
       "      <th>Portability_neutral</th>\n",
       "      <th>Logivity_neutral</th>\n",
       "      <th>Price_worthy_neutral</th>\n",
       "      <th>Instructional_neutral</th>\n",
       "      <th>Quality_neutral</th>\n",
       "      <th>Regular-Use_neutral</th>\n",
       "      <th>Performance_neutral</th>\n",
       "    </tr>\n",
       "  </thead>\n",
       "  <tbody>\n",
       "    <tr>\n",
       "      <td>0</td>\n",
       "      <td>B00FLYWNYQ</td>\n",
       "      <td>NaN</td>\n",
       "      <td>NaN</td>\n",
       "      <td>NaN</td>\n",
       "      <td>NaN</td>\n",
       "      <td>NaN</td>\n",
       "      <td>NaN</td>\n",
       "      <td>NaN</td>\n",
       "      <td>NaN</td>\n",
       "      <td>NaN</td>\n",
       "      <td>...</td>\n",
       "      <td>NaN</td>\n",
       "      <td>NaN</td>\n",
       "      <td>NaN</td>\n",
       "      <td>NaN</td>\n",
       "      <td>NaN</td>\n",
       "      <td>NaN</td>\n",
       "      <td>NaN</td>\n",
       "      <td>NaN</td>\n",
       "      <td>NaN</td>\n",
       "      <td>NaN</td>\n",
       "    </tr>\n",
       "    <tr>\n",
       "      <td>1</td>\n",
       "      <td>B00COK3FD8</td>\n",
       "      <td>NaN</td>\n",
       "      <td>NaN</td>\n",
       "      <td>NaN</td>\n",
       "      <td>NaN</td>\n",
       "      <td>NaN</td>\n",
       "      <td>NaN</td>\n",
       "      <td>NaN</td>\n",
       "      <td>NaN</td>\n",
       "      <td>NaN</td>\n",
       "      <td>...</td>\n",
       "      <td>NaN</td>\n",
       "      <td>NaN</td>\n",
       "      <td>NaN</td>\n",
       "      <td>NaN</td>\n",
       "      <td>NaN</td>\n",
       "      <td>NaN</td>\n",
       "      <td>NaN</td>\n",
       "      <td>NaN</td>\n",
       "      <td>NaN</td>\n",
       "      <td>NaN</td>\n",
       "    </tr>\n",
       "    <tr>\n",
       "      <td>2</td>\n",
       "      <td>B009HVH4XO</td>\n",
       "      <td>NaN</td>\n",
       "      <td>NaN</td>\n",
       "      <td>NaN</td>\n",
       "      <td>NaN</td>\n",
       "      <td>NaN</td>\n",
       "      <td>NaN</td>\n",
       "      <td>NaN</td>\n",
       "      <td>NaN</td>\n",
       "      <td>NaN</td>\n",
       "      <td>...</td>\n",
       "      <td>NaN</td>\n",
       "      <td>NaN</td>\n",
       "      <td>NaN</td>\n",
       "      <td>NaN</td>\n",
       "      <td>NaN</td>\n",
       "      <td>NaN</td>\n",
       "      <td>NaN</td>\n",
       "      <td>NaN</td>\n",
       "      <td>NaN</td>\n",
       "      <td>NaN</td>\n",
       "    </tr>\n",
       "  </tbody>\n",
       "</table>\n",
       "<p>3 rows × 31 columns</p>\n",
       "</div>"
      ],
      "text/plain": [
       "         asin  Options_positive  Recipie_modes_positive  Time_saving_positive  \\\n",
       "0  B00FLYWNYQ NaN               NaN                     NaN                     \n",
       "1  B00COK3FD8 NaN               NaN                     NaN                     \n",
       "2  B009HVH4XO NaN               NaN                     NaN                     \n",
       "\n",
       "   Portability_positive  Logivity_positive  Price_worthy_positive  \\\n",
       "0 NaN                   NaN                NaN                      \n",
       "1 NaN                   NaN                NaN                      \n",
       "2 NaN                   NaN                NaN                      \n",
       "\n",
       "   Instructional_positive  Quality_positive  Regular-Use_positive  ...  \\\n",
       "0 NaN                     NaN               NaN                    ...   \n",
       "1 NaN                     NaN               NaN                    ...   \n",
       "2 NaN                     NaN               NaN                    ...   \n",
       "\n",
       "   Options_neutral  Recipie_modes_neutral  Time_saving_neutral  \\\n",
       "0 NaN              NaN                    NaN                    \n",
       "1 NaN              NaN                    NaN                    \n",
       "2 NaN              NaN                    NaN                    \n",
       "\n",
       "   Portability_neutral  Logivity_neutral  Price_worthy_neutral  \\\n",
       "0 NaN                  NaN               NaN                     \n",
       "1 NaN                  NaN               NaN                     \n",
       "2 NaN                  NaN               NaN                     \n",
       "\n",
       "   Instructional_neutral  Quality_neutral  Regular-Use_neutral  \\\n",
       "0 NaN                    NaN              NaN                    \n",
       "1 NaN                    NaN              NaN                    \n",
       "2 NaN                    NaN              NaN                    \n",
       "\n",
       "   Performance_neutral  \n",
       "0 NaN                   \n",
       "1 NaN                   \n",
       "2 NaN                   \n",
       "\n",
       "[3 rows x 31 columns]"
      ]
     },
     "execution_count": 185,
     "metadata": {},
     "output_type": "execute_result"
    }
   ],
   "source": [
    "product_sentiments.head(3)"
   ]
  },
  {
   "cell_type": "code",
   "execution_count": 186,
   "metadata": {},
   "outputs": [
    {
     "data": {
      "text/plain": [
       "(25, 31)"
      ]
     },
     "execution_count": 186,
     "metadata": {},
     "output_type": "execute_result"
    }
   ],
   "source": [
    "product_sentiments.shape"
   ]
  },
  {
   "cell_type": "code",
   "execution_count": 187,
   "metadata": {},
   "outputs": [],
   "source": [
    "#Fetching topics wise sentiment scores for each product and placing them in this new dataframe\n",
    "import re\n",
    "for idx,rows in product_sentiments.iterrows():\n",
    "    asin = rows['asin']\n",
    "    for _i in rows.keys ():\n",
    "        if _i == 'asin':\n",
    "            continue\n",
    "        _m = re.search ('([\\w_-]+)_((?:positive|negative|neutral))',_i)\n",
    "        dominant_topic, sentiment = _m.group(1),_m.group(2)\n",
    "        product_sentiments.at[idx,_i] = df_senti.loc[(df_senti.asin==asin) & (df_senti.Dominant_Topic == dominant_topic) & (df_senti.sentiment == sentiment)].shape[0]/df_senti.loc[(df_senti.asin==asin) & (df_senti.Dominant_Topic == dominant_topic)].shape[0]"
   ]
  },
  {
   "cell_type": "code",
   "execution_count": 188,
   "metadata": {},
   "outputs": [
    {
     "data": {
      "text/html": [
       "<div>\n",
       "<style scoped>\n",
       "    .dataframe tbody tr th:only-of-type {\n",
       "        vertical-align: middle;\n",
       "    }\n",
       "\n",
       "    .dataframe tbody tr th {\n",
       "        vertical-align: top;\n",
       "    }\n",
       "\n",
       "    .dataframe thead th {\n",
       "        text-align: right;\n",
       "    }\n",
       "</style>\n",
       "<table border=\"1\" class=\"dataframe\">\n",
       "  <thead>\n",
       "    <tr style=\"text-align: right;\">\n",
       "      <th></th>\n",
       "      <th>asin</th>\n",
       "      <th>Options_positive</th>\n",
       "      <th>Recipie_modes_positive</th>\n",
       "      <th>Time_saving_positive</th>\n",
       "      <th>Portability_positive</th>\n",
       "      <th>Logivity_positive</th>\n",
       "      <th>Price_worthy_positive</th>\n",
       "      <th>Instructional_positive</th>\n",
       "      <th>Quality_positive</th>\n",
       "      <th>Regular-Use_positive</th>\n",
       "      <th>...</th>\n",
       "      <th>Options_neutral</th>\n",
       "      <th>Recipie_modes_neutral</th>\n",
       "      <th>Time_saving_neutral</th>\n",
       "      <th>Portability_neutral</th>\n",
       "      <th>Logivity_neutral</th>\n",
       "      <th>Price_worthy_neutral</th>\n",
       "      <th>Instructional_neutral</th>\n",
       "      <th>Quality_neutral</th>\n",
       "      <th>Regular-Use_neutral</th>\n",
       "      <th>Performance_neutral</th>\n",
       "    </tr>\n",
       "  </thead>\n",
       "  <tbody>\n",
       "    <tr>\n",
       "      <td>0</td>\n",
       "      <td>B00FLYWNYQ</td>\n",
       "      <td>0.540743</td>\n",
       "      <td>0.521017</td>\n",
       "      <td>0.525174</td>\n",
       "      <td>0.466079</td>\n",
       "      <td>0.271493</td>\n",
       "      <td>0.713043</td>\n",
       "      <td>0.689865</td>\n",
       "      <td>0.352941</td>\n",
       "      <td>0.839561</td>\n",
       "      <td>...</td>\n",
       "      <td>0.269780</td>\n",
       "      <td>0.335236</td>\n",
       "      <td>0.326843</td>\n",
       "      <td>0.345815</td>\n",
       "      <td>0.634777</td>\n",
       "      <td>0.169275</td>\n",
       "      <td>0.209715</td>\n",
       "      <td>0.449501</td>\n",
       "      <td>0.126335</td>\n",
       "      <td>0.465642</td>\n",
       "    </tr>\n",
       "    <tr>\n",
       "      <td>1</td>\n",
       "      <td>B00COK3FD8</td>\n",
       "      <td>0.494792</td>\n",
       "      <td>0.485961</td>\n",
       "      <td>0.493116</td>\n",
       "      <td>0.645600</td>\n",
       "      <td>0.415126</td>\n",
       "      <td>0.516129</td>\n",
       "      <td>0.719415</td>\n",
       "      <td>0.338235</td>\n",
       "      <td>0.868221</td>\n",
       "      <td>...</td>\n",
       "      <td>0.354167</td>\n",
       "      <td>0.395248</td>\n",
       "      <td>0.384230</td>\n",
       "      <td>0.240078</td>\n",
       "      <td>0.465546</td>\n",
       "      <td>0.313364</td>\n",
       "      <td>0.192819</td>\n",
       "      <td>0.397059</td>\n",
       "      <td>0.111714</td>\n",
       "      <td>0.437681</td>\n",
       "    </tr>\n",
       "    <tr>\n",
       "      <td>2</td>\n",
       "      <td>B009HVH4XO</td>\n",
       "      <td>0.502874</td>\n",
       "      <td>0.525849</td>\n",
       "      <td>0.455070</td>\n",
       "      <td>0.506410</td>\n",
       "      <td>0.358491</td>\n",
       "      <td>0.751730</td>\n",
       "      <td>0.717368</td>\n",
       "      <td>0.403636</td>\n",
       "      <td>0.806115</td>\n",
       "      <td>...</td>\n",
       "      <td>0.330460</td>\n",
       "      <td>0.302806</td>\n",
       "      <td>0.337181</td>\n",
       "      <td>0.278045</td>\n",
       "      <td>0.530522</td>\n",
       "      <td>0.121972</td>\n",
       "      <td>0.137001</td>\n",
       "      <td>0.341818</td>\n",
       "      <td>0.147325</td>\n",
       "      <td>0.300139</td>\n",
       "    </tr>\n",
       "  </tbody>\n",
       "</table>\n",
       "<p>3 rows × 31 columns</p>\n",
       "</div>"
      ],
      "text/plain": [
       "         asin  Options_positive  Recipie_modes_positive  Time_saving_positive  \\\n",
       "0  B00FLYWNYQ  0.540743          0.521017                0.525174               \n",
       "1  B00COK3FD8  0.494792          0.485961                0.493116               \n",
       "2  B009HVH4XO  0.502874          0.525849                0.455070               \n",
       "\n",
       "   Portability_positive  Logivity_positive  Price_worthy_positive  \\\n",
       "0  0.466079              0.271493           0.713043                \n",
       "1  0.645600              0.415126           0.516129                \n",
       "2  0.506410              0.358491           0.751730                \n",
       "\n",
       "   Instructional_positive  Quality_positive  Regular-Use_positive  ...  \\\n",
       "0  0.689865                0.352941          0.839561              ...   \n",
       "1  0.719415                0.338235          0.868221              ...   \n",
       "2  0.717368                0.403636          0.806115              ...   \n",
       "\n",
       "   Options_neutral  Recipie_modes_neutral  Time_saving_neutral  \\\n",
       "0  0.269780         0.335236               0.326843              \n",
       "1  0.354167         0.395248               0.384230              \n",
       "2  0.330460         0.302806               0.337181              \n",
       "\n",
       "   Portability_neutral  Logivity_neutral  Price_worthy_neutral  \\\n",
       "0  0.345815             0.634777          0.169275               \n",
       "1  0.240078             0.465546          0.313364               \n",
       "2  0.278045             0.530522          0.121972               \n",
       "\n",
       "   Instructional_neutral  Quality_neutral  Regular-Use_neutral  \\\n",
       "0  0.209715               0.449501         0.126335              \n",
       "1  0.192819               0.397059         0.111714              \n",
       "2  0.137001               0.341818         0.147325              \n",
       "\n",
       "   Performance_neutral  \n",
       "0  0.465642             \n",
       "1  0.437681             \n",
       "2  0.300139             \n",
       "\n",
       "[3 rows x 31 columns]"
      ]
     },
     "execution_count": 188,
     "metadata": {},
     "output_type": "execute_result"
    }
   ],
   "source": [
    "product_sentiments.head(3)"
   ]
  },
  {
   "cell_type": "code",
   "execution_count": 189,
   "metadata": {},
   "outputs": [],
   "source": [
    "product_sentiments.to_csv('/Users/harika_pradeep/Downloads/product_sentiments.csv')"
   ]
  },
  {
   "cell_type": "markdown",
   "metadata": {},
   "source": [
    "#### Step 2:\n",
    "Add the total positive scores of the topics for each product. Repeat the same for negative scores and neutral scores. This gives a number representing how much positive , negative and neutral has been spoken about these products with respect to each topic."
   ]
  },
  {
   "cell_type": "code",
   "execution_count": 192,
   "metadata": {},
   "outputs": [],
   "source": [
    "df_new = product_sentiments.copy()"
   ]
  },
  {
   "cell_type": "code",
   "execution_count": 193,
   "metadata": {},
   "outputs": [
    {
     "name": "stdout",
     "output_type": "stream",
     "text": [
      "['Options_positive', 'Recipie_modes_positive', 'Time_saving_positive', 'Portability_positive', 'Logivity_positive', 'Price_worthy_positive', 'Instructional_positive', 'Quality_positive', 'Regular-Use_positive', 'Performance_positive']\n",
      "['Options_negative', 'Recipie_modes_negative', 'Time_saving_negative', 'Portability_negative', 'Logivity_negative', 'Price_worthy_negative', 'Instructional_negative', 'Quality_negative', 'Regular-Use_negative', 'Performance_negative']\n",
      "['Options_neutral', 'Recipie_modes_neutral', 'Time_saving_neutral', 'Portability_neutral', 'Logivity_neutral', 'Price_worthy_neutral', 'Instructional_neutral', 'Quality_neutral', 'Regular-Use_neutral', 'Performance_neutral']\n"
     ]
    }
   ],
   "source": [
    "positive_columns = [_i for _i in product_sentiments.columns if 'positive' in _i]\n",
    "negative_columns = [_i for _i in product_sentiments.columns if 'negative' in _i]\n",
    "neutral_columns = [_i for _i in product_sentiments.columns if 'neutral' in _i]\n",
    "print(positive_columns)\n",
    "print(negative_columns)\n",
    "print(neutral_columns)"
   ]
  },
  {
   "cell_type": "code",
   "execution_count": 194,
   "metadata": {},
   "outputs": [],
   "source": [
    "df_new[\"Positive_Sum\"] = df_new.apply(lambda row: sum([row[_i] for _i in positive_columns]) ,axis=1)\n",
    "df_new[\"Negative_Sum\"] = df_new.apply(lambda row: sum([row[_i] for _i in negative_columns]) ,axis=1)\n",
    "df_new[\"Neutral_Sum\"] = df_new.apply(lambda row: sum([row[_i] for _i in neutral_columns]) ,axis=1)"
   ]
  },
  {
   "cell_type": "code",
   "execution_count": 195,
   "metadata": {},
   "outputs": [
    {
     "data": {
      "text/html": [
       "<div>\n",
       "<style scoped>\n",
       "    .dataframe tbody tr th:only-of-type {\n",
       "        vertical-align: middle;\n",
       "    }\n",
       "\n",
       "    .dataframe tbody tr th {\n",
       "        vertical-align: top;\n",
       "    }\n",
       "\n",
       "    .dataframe thead th {\n",
       "        text-align: right;\n",
       "    }\n",
       "</style>\n",
       "<table border=\"1\" class=\"dataframe\">\n",
       "  <thead>\n",
       "    <tr style=\"text-align: right;\">\n",
       "      <th></th>\n",
       "      <th>asin</th>\n",
       "      <th>Options_positive</th>\n",
       "      <th>Recipie_modes_positive</th>\n",
       "      <th>Time_saving_positive</th>\n",
       "      <th>Portability_positive</th>\n",
       "      <th>Logivity_positive</th>\n",
       "      <th>Price_worthy_positive</th>\n",
       "      <th>Instructional_positive</th>\n",
       "      <th>Quality_positive</th>\n",
       "      <th>Regular-Use_positive</th>\n",
       "      <th>...</th>\n",
       "      <th>Portability_neutral</th>\n",
       "      <th>Logivity_neutral</th>\n",
       "      <th>Price_worthy_neutral</th>\n",
       "      <th>Instructional_neutral</th>\n",
       "      <th>Quality_neutral</th>\n",
       "      <th>Regular-Use_neutral</th>\n",
       "      <th>Performance_neutral</th>\n",
       "      <th>Positive_Sum</th>\n",
       "      <th>Negative_Sum</th>\n",
       "      <th>Neutral_Sum</th>\n",
       "    </tr>\n",
       "  </thead>\n",
       "  <tbody>\n",
       "    <tr>\n",
       "      <td>0</td>\n",
       "      <td>B00FLYWNYQ</td>\n",
       "      <td>0.540743</td>\n",
       "      <td>0.521017</td>\n",
       "      <td>0.525174</td>\n",
       "      <td>0.466079</td>\n",
       "      <td>0.271493</td>\n",
       "      <td>0.713043</td>\n",
       "      <td>0.689865</td>\n",
       "      <td>0.352941</td>\n",
       "      <td>0.839561</td>\n",
       "      <td>...</td>\n",
       "      <td>0.345815</td>\n",
       "      <td>0.634777</td>\n",
       "      <td>0.169275</td>\n",
       "      <td>0.209715</td>\n",
       "      <td>0.449501</td>\n",
       "      <td>0.126335</td>\n",
       "      <td>0.465642</td>\n",
       "      <td>5.296047</td>\n",
       "      <td>1.371035</td>\n",
       "      <td>3.332918</td>\n",
       "    </tr>\n",
       "    <tr>\n",
       "      <td>1</td>\n",
       "      <td>B00COK3FD8</td>\n",
       "      <td>0.494792</td>\n",
       "      <td>0.485961</td>\n",
       "      <td>0.493116</td>\n",
       "      <td>0.645600</td>\n",
       "      <td>0.415126</td>\n",
       "      <td>0.516129</td>\n",
       "      <td>0.719415</td>\n",
       "      <td>0.338235</td>\n",
       "      <td>0.868221</td>\n",
       "      <td>...</td>\n",
       "      <td>0.240078</td>\n",
       "      <td>0.465546</td>\n",
       "      <td>0.313364</td>\n",
       "      <td>0.192819</td>\n",
       "      <td>0.397059</td>\n",
       "      <td>0.111714</td>\n",
       "      <td>0.437681</td>\n",
       "      <td>5.405581</td>\n",
       "      <td>1.302513</td>\n",
       "      <td>3.291906</td>\n",
       "    </tr>\n",
       "    <tr>\n",
       "      <td>2</td>\n",
       "      <td>B009HVH4XO</td>\n",
       "      <td>0.502874</td>\n",
       "      <td>0.525849</td>\n",
       "      <td>0.455070</td>\n",
       "      <td>0.506410</td>\n",
       "      <td>0.358491</td>\n",
       "      <td>0.751730</td>\n",
       "      <td>0.717368</td>\n",
       "      <td>0.403636</td>\n",
       "      <td>0.806115</td>\n",
       "      <td>...</td>\n",
       "      <td>0.278045</td>\n",
       "      <td>0.530522</td>\n",
       "      <td>0.121972</td>\n",
       "      <td>0.137001</td>\n",
       "      <td>0.341818</td>\n",
       "      <td>0.147325</td>\n",
       "      <td>0.300139</td>\n",
       "      <td>5.597406</td>\n",
       "      <td>1.575326</td>\n",
       "      <td>2.827268</td>\n",
       "    </tr>\n",
       "  </tbody>\n",
       "</table>\n",
       "<p>3 rows × 34 columns</p>\n",
       "</div>"
      ],
      "text/plain": [
       "         asin  Options_positive  Recipie_modes_positive  Time_saving_positive  \\\n",
       "0  B00FLYWNYQ  0.540743          0.521017                0.525174               \n",
       "1  B00COK3FD8  0.494792          0.485961                0.493116               \n",
       "2  B009HVH4XO  0.502874          0.525849                0.455070               \n",
       "\n",
       "   Portability_positive  Logivity_positive  Price_worthy_positive  \\\n",
       "0  0.466079              0.271493           0.713043                \n",
       "1  0.645600              0.415126           0.516129                \n",
       "2  0.506410              0.358491           0.751730                \n",
       "\n",
       "   Instructional_positive  Quality_positive  Regular-Use_positive  ...  \\\n",
       "0  0.689865                0.352941          0.839561              ...   \n",
       "1  0.719415                0.338235          0.868221              ...   \n",
       "2  0.717368                0.403636          0.806115              ...   \n",
       "\n",
       "   Portability_neutral  Logivity_neutral  Price_worthy_neutral  \\\n",
       "0  0.345815             0.634777          0.169275               \n",
       "1  0.240078             0.465546          0.313364               \n",
       "2  0.278045             0.530522          0.121972               \n",
       "\n",
       "   Instructional_neutral  Quality_neutral  Regular-Use_neutral  \\\n",
       "0  0.209715               0.449501         0.126335              \n",
       "1  0.192819               0.397059         0.111714              \n",
       "2  0.137001               0.341818         0.147325              \n",
       "\n",
       "   Performance_neutral  Positive_Sum  Negative_Sum  Neutral_Sum  \n",
       "0  0.465642             5.296047      1.371035      3.332918     \n",
       "1  0.437681             5.405581      1.302513      3.291906     \n",
       "2  0.300139             5.597406      1.575326      2.827268     \n",
       "\n",
       "[3 rows x 34 columns]"
      ]
     },
     "execution_count": 195,
     "metadata": {},
     "output_type": "execute_result"
    }
   ],
   "source": [
    "df_new.head(3)"
   ]
  },
  {
   "cell_type": "markdown",
   "metadata": {},
   "source": [
    "#### Step 3:\n",
    "For ease of understanding splitting the data to three different dataframes based on the sentiment category"
   ]
  },
  {
   "cell_type": "code",
   "execution_count": 196,
   "metadata": {},
   "outputs": [
    {
     "name": "stdout",
     "output_type": "stream",
     "text": [
      "['Options_positive', 'Recipie_modes_positive', 'Time_saving_positive', 'Portability_positive', 'Logivity_positive', 'Price_worthy_positive', 'Instructional_positive', 'Quality_positive', 'Regular-Use_positive', 'Performance_positive', 'Positive_Sum']\n"
     ]
    }
   ],
   "source": [
    "positive_columns = [_i for _i in df_new.columns if 'positive' in _i.lower()]\n",
    "negative_columns = [_i for _i in df_new.columns if 'negative' in _i.lower()]\n",
    "neutral_columns = [_i for _i in df_new.columns if 'neutral' in _i.lower()]\n",
    "print (positive_columns)"
   ]
  },
  {
   "cell_type": "code",
   "execution_count": 197,
   "metadata": {},
   "outputs": [
    {
     "name": "stderr",
     "output_type": "stream",
     "text": [
      "/Users/harika_pradeep/miniconda3/envs/tensorflow/lib/python3.6/site-packages/ipykernel_launcher.py:4: SettingWithCopyWarning: \n",
      "A value is trying to be set on a copy of a slice from a DataFrame.\n",
      "Try using .loc[row_indexer,col_indexer] = value instead\n",
      "\n",
      "See the caveats in the documentation: http://pandas.pydata.org/pandas-docs/stable/user_guide/indexing.html#returning-a-view-versus-a-copy\n",
      "  after removing the cwd from sys.path.\n"
     ]
    },
    {
     "data": {
      "text/html": [
       "<div>\n",
       "<style scoped>\n",
       "    .dataframe tbody tr th:only-of-type {\n",
       "        vertical-align: middle;\n",
       "    }\n",
       "\n",
       "    .dataframe tbody tr th {\n",
       "        vertical-align: top;\n",
       "    }\n",
       "\n",
       "    .dataframe thead tr th {\n",
       "        text-align: left;\n",
       "    }\n",
       "</style>\n",
       "<table border=\"1\" class=\"dataframe\">\n",
       "  <thead>\n",
       "    <tr>\n",
       "      <th></th>\n",
       "      <th>asin</th>\n",
       "      <th>Options</th>\n",
       "      <th>Recipie_modes</th>\n",
       "      <th>Time_saving</th>\n",
       "      <th>Portability</th>\n",
       "      <th>Logivity</th>\n",
       "      <th>Price_worthy</th>\n",
       "      <th>Instructional</th>\n",
       "      <th>Quality</th>\n",
       "      <th>Regular-Use</th>\n",
       "      <th>Performance</th>\n",
       "      <th>Positive_Sum</th>\n",
       "      <th>Sentiment</th>\n",
       "    </tr>\n",
       "  </thead>\n",
       "  <tbody>\n",
       "    <tr>\n",
       "      <td>0</td>\n",
       "      <td>B00FLYWNYQ</td>\n",
       "      <td>0.540743</td>\n",
       "      <td>0.521017</td>\n",
       "      <td>0.525174</td>\n",
       "      <td>0.466079</td>\n",
       "      <td>0.271493</td>\n",
       "      <td>0.713043</td>\n",
       "      <td>0.689865</td>\n",
       "      <td>0.352941</td>\n",
       "      <td>0.839561</td>\n",
       "      <td>0.376130</td>\n",
       "      <td>5.296047</td>\n",
       "      <td>Positive</td>\n",
       "    </tr>\n",
       "    <tr>\n",
       "      <td>1</td>\n",
       "      <td>B00COK3FD8</td>\n",
       "      <td>0.494792</td>\n",
       "      <td>0.485961</td>\n",
       "      <td>0.493116</td>\n",
       "      <td>0.645600</td>\n",
       "      <td>0.415126</td>\n",
       "      <td>0.516129</td>\n",
       "      <td>0.719415</td>\n",
       "      <td>0.338235</td>\n",
       "      <td>0.868221</td>\n",
       "      <td>0.428986</td>\n",
       "      <td>5.405581</td>\n",
       "      <td>Positive</td>\n",
       "    </tr>\n",
       "    <tr>\n",
       "      <td>2</td>\n",
       "      <td>B009HVH4XO</td>\n",
       "      <td>0.502874</td>\n",
       "      <td>0.525849</td>\n",
       "      <td>0.455070</td>\n",
       "      <td>0.506410</td>\n",
       "      <td>0.358491</td>\n",
       "      <td>0.751730</td>\n",
       "      <td>0.717368</td>\n",
       "      <td>0.403636</td>\n",
       "      <td>0.806115</td>\n",
       "      <td>0.569863</td>\n",
       "      <td>5.597406</td>\n",
       "      <td>Positive</td>\n",
       "    </tr>\n",
       "  </tbody>\n",
       "</table>\n",
       "</div>"
      ],
      "text/plain": [
       "         asin   Options Recipie_modes Time_saving Portability  Logivity  \\\n",
       "0  B00FLYWNYQ  0.540743  0.521017      0.525174    0.466079    0.271493   \n",
       "1  B00COK3FD8  0.494792  0.485961      0.493116    0.645600    0.415126   \n",
       "2  B009HVH4XO  0.502874  0.525849      0.455070    0.506410    0.358491   \n",
       "\n",
       "  Price_worthy Instructional   Quality Regular-Use Performance Positive_Sum  \\\n",
       "0  0.713043     0.689865      0.352941  0.839561    0.376130    5.296047      \n",
       "1  0.516129     0.719415      0.338235  0.868221    0.428986    5.405581      \n",
       "2  0.751730     0.717368      0.403636  0.806115    0.569863    5.597406      \n",
       "\n",
       "  Sentiment  \n",
       "0  Positive  \n",
       "1  Positive  \n",
       "2  Positive  "
      ]
     },
     "execution_count": 197,
     "metadata": {},
     "output_type": "execute_result"
    }
   ],
   "source": [
    "#Creating a new dataframe with just positive scores for each topic and positive sum\n",
    "df_new_positive = df_new[['asin']+positive_columns]\n",
    "df_new_positive.columns =[[\"asin\"]+[_i for _i in df_senti.Dominant_Topic.unique()]+[\"Positive_Sum\"]]\n",
    "df_new_positive [\"Sentiment\"] = \"Positive\"\n",
    "df_new_positive.head(3)"
   ]
  },
  {
   "cell_type": "code",
   "execution_count": 199,
   "metadata": {},
   "outputs": [],
   "source": [
    "df_new_positive.to_csv(\"/Users/harika_pradeep/Downloads/df_new_positive.csv\")"
   ]
  },
  {
   "cell_type": "code",
   "execution_count": 198,
   "metadata": {},
   "outputs": [
    {
     "name": "stderr",
     "output_type": "stream",
     "text": [
      "/Users/harika_pradeep/miniconda3/envs/tensorflow/lib/python3.6/site-packages/ipykernel_launcher.py:4: SettingWithCopyWarning: \n",
      "A value is trying to be set on a copy of a slice from a DataFrame.\n",
      "Try using .loc[row_indexer,col_indexer] = value instead\n",
      "\n",
      "See the caveats in the documentation: http://pandas.pydata.org/pandas-docs/stable/user_guide/indexing.html#returning-a-view-versus-a-copy\n",
      "  after removing the cwd from sys.path.\n"
     ]
    },
    {
     "data": {
      "text/html": [
       "<div>\n",
       "<style scoped>\n",
       "    .dataframe tbody tr th:only-of-type {\n",
       "        vertical-align: middle;\n",
       "    }\n",
       "\n",
       "    .dataframe tbody tr th {\n",
       "        vertical-align: top;\n",
       "    }\n",
       "\n",
       "    .dataframe thead tr th {\n",
       "        text-align: left;\n",
       "    }\n",
       "</style>\n",
       "<table border=\"1\" class=\"dataframe\">\n",
       "  <thead>\n",
       "    <tr>\n",
       "      <th></th>\n",
       "      <th>asin</th>\n",
       "      <th>Options</th>\n",
       "      <th>Recipie_modes</th>\n",
       "      <th>Time_saving</th>\n",
       "      <th>Portability</th>\n",
       "      <th>Logivity</th>\n",
       "      <th>Price_worthy</th>\n",
       "      <th>Instructional</th>\n",
       "      <th>Quality</th>\n",
       "      <th>Regular-Use</th>\n",
       "      <th>Performance</th>\n",
       "      <th>Negative_Sum</th>\n",
       "      <th>Sentiment</th>\n",
       "    </tr>\n",
       "  </thead>\n",
       "  <tbody>\n",
       "    <tr>\n",
       "      <td>0</td>\n",
       "      <td>B00FLYWNYQ</td>\n",
       "      <td>0.189477</td>\n",
       "      <td>0.143747</td>\n",
       "      <td>0.147983</td>\n",
       "      <td>0.188106</td>\n",
       "      <td>0.093730</td>\n",
       "      <td>0.117681</td>\n",
       "      <td>0.100420</td>\n",
       "      <td>0.197558</td>\n",
       "      <td>0.034104</td>\n",
       "      <td>0.158228</td>\n",
       "      <td>1.371035</td>\n",
       "      <td>Negative</td>\n",
       "    </tr>\n",
       "    <tr>\n",
       "      <td>1</td>\n",
       "      <td>B00COK3FD8</td>\n",
       "      <td>0.151042</td>\n",
       "      <td>0.118790</td>\n",
       "      <td>0.122653</td>\n",
       "      <td>0.114323</td>\n",
       "      <td>0.119328</td>\n",
       "      <td>0.170507</td>\n",
       "      <td>0.087766</td>\n",
       "      <td>0.264706</td>\n",
       "      <td>0.020065</td>\n",
       "      <td>0.133333</td>\n",
       "      <td>1.302513</td>\n",
       "      <td>Negative</td>\n",
       "    </tr>\n",
       "    <tr>\n",
       "      <td>2</td>\n",
       "      <td>B009HVH4XO</td>\n",
       "      <td>0.166667</td>\n",
       "      <td>0.171344</td>\n",
       "      <td>0.207749</td>\n",
       "      <td>0.215545</td>\n",
       "      <td>0.110988</td>\n",
       "      <td>0.126298</td>\n",
       "      <td>0.145631</td>\n",
       "      <td>0.254545</td>\n",
       "      <td>0.046560</td>\n",
       "      <td>0.129998</td>\n",
       "      <td>1.575326</td>\n",
       "      <td>Negative</td>\n",
       "    </tr>\n",
       "  </tbody>\n",
       "</table>\n",
       "</div>"
      ],
      "text/plain": [
       "         asin   Options Recipie_modes Time_saving Portability  Logivity  \\\n",
       "0  B00FLYWNYQ  0.189477  0.143747      0.147983    0.188106    0.093730   \n",
       "1  B00COK3FD8  0.151042  0.118790      0.122653    0.114323    0.119328   \n",
       "2  B009HVH4XO  0.166667  0.171344      0.207749    0.215545    0.110988   \n",
       "\n",
       "  Price_worthy Instructional   Quality Regular-Use Performance Negative_Sum  \\\n",
       "0  0.117681     0.100420      0.197558  0.034104    0.158228    1.371035      \n",
       "1  0.170507     0.087766      0.264706  0.020065    0.133333    1.302513      \n",
       "2  0.126298     0.145631      0.254545  0.046560    0.129998    1.575326      \n",
       "\n",
       "  Sentiment  \n",
       "0  Negative  \n",
       "1  Negative  \n",
       "2  Negative  "
      ]
     },
     "execution_count": 198,
     "metadata": {},
     "output_type": "execute_result"
    }
   ],
   "source": [
    "#Creating a new dataframe with just negatives scores for each topic and negative sum\n",
    "df_new_negative = df_new[['asin']+negative_columns]\n",
    "df_new_negative.columns =[[\"asin\"]+[_i for _i in df_senti.Dominant_Topic.unique()]+[\"Negative_Sum\"]]\n",
    "df_new_negative [\"Sentiment\"] = \"Negative\"\n",
    "df_new_negative.head(3)"
   ]
  },
  {
   "cell_type": "code",
   "execution_count": 200,
   "metadata": {},
   "outputs": [],
   "source": [
    "df_new_negative.to_csv(\"/Users/harika_pradeep/Downloads/df_new_negative.csv\")"
   ]
  },
  {
   "cell_type": "code",
   "execution_count": 201,
   "metadata": {},
   "outputs": [
    {
     "name": "stderr",
     "output_type": "stream",
     "text": [
      "/Users/harika_pradeep/miniconda3/envs/tensorflow/lib/python3.6/site-packages/ipykernel_launcher.py:4: SettingWithCopyWarning: \n",
      "A value is trying to be set on a copy of a slice from a DataFrame.\n",
      "Try using .loc[row_indexer,col_indexer] = value instead\n",
      "\n",
      "See the caveats in the documentation: http://pandas.pydata.org/pandas-docs/stable/user_guide/indexing.html#returning-a-view-versus-a-copy\n",
      "  after removing the cwd from sys.path.\n"
     ]
    },
    {
     "data": {
      "text/html": [
       "<div>\n",
       "<style scoped>\n",
       "    .dataframe tbody tr th:only-of-type {\n",
       "        vertical-align: middle;\n",
       "    }\n",
       "\n",
       "    .dataframe tbody tr th {\n",
       "        vertical-align: top;\n",
       "    }\n",
       "\n",
       "    .dataframe thead tr th {\n",
       "        text-align: left;\n",
       "    }\n",
       "</style>\n",
       "<table border=\"1\" class=\"dataframe\">\n",
       "  <thead>\n",
       "    <tr>\n",
       "      <th></th>\n",
       "      <th>asin</th>\n",
       "      <th>Options</th>\n",
       "      <th>Recipie_modes</th>\n",
       "      <th>Time_saving</th>\n",
       "      <th>Portability</th>\n",
       "      <th>Logivity</th>\n",
       "      <th>Price_worthy</th>\n",
       "      <th>Instructional</th>\n",
       "      <th>Quality</th>\n",
       "      <th>Regular-Use</th>\n",
       "      <th>Performance</th>\n",
       "      <th>Neutral_Sum</th>\n",
       "      <th>Sentiment</th>\n",
       "    </tr>\n",
       "  </thead>\n",
       "  <tbody>\n",
       "    <tr>\n",
       "      <td>0</td>\n",
       "      <td>B00FLYWNYQ</td>\n",
       "      <td>0.269780</td>\n",
       "      <td>0.335236</td>\n",
       "      <td>0.326843</td>\n",
       "      <td>0.345815</td>\n",
       "      <td>0.634777</td>\n",
       "      <td>0.169275</td>\n",
       "      <td>0.209715</td>\n",
       "      <td>0.449501</td>\n",
       "      <td>0.126335</td>\n",
       "      <td>0.465642</td>\n",
       "      <td>3.332918</td>\n",
       "      <td>Neutral</td>\n",
       "    </tr>\n",
       "    <tr>\n",
       "      <td>1</td>\n",
       "      <td>B00COK3FD8</td>\n",
       "      <td>0.354167</td>\n",
       "      <td>0.395248</td>\n",
       "      <td>0.384230</td>\n",
       "      <td>0.240078</td>\n",
       "      <td>0.465546</td>\n",
       "      <td>0.313364</td>\n",
       "      <td>0.192819</td>\n",
       "      <td>0.397059</td>\n",
       "      <td>0.111714</td>\n",
       "      <td>0.437681</td>\n",
       "      <td>3.291906</td>\n",
       "      <td>Neutral</td>\n",
       "    </tr>\n",
       "    <tr>\n",
       "      <td>2</td>\n",
       "      <td>B009HVH4XO</td>\n",
       "      <td>0.330460</td>\n",
       "      <td>0.302806</td>\n",
       "      <td>0.337181</td>\n",
       "      <td>0.278045</td>\n",
       "      <td>0.530522</td>\n",
       "      <td>0.121972</td>\n",
       "      <td>0.137001</td>\n",
       "      <td>0.341818</td>\n",
       "      <td>0.147325</td>\n",
       "      <td>0.300139</td>\n",
       "      <td>2.827268</td>\n",
       "      <td>Neutral</td>\n",
       "    </tr>\n",
       "  </tbody>\n",
       "</table>\n",
       "</div>"
      ],
      "text/plain": [
       "         asin   Options Recipie_modes Time_saving Portability  Logivity  \\\n",
       "0  B00FLYWNYQ  0.269780  0.335236      0.326843    0.345815    0.634777   \n",
       "1  B00COK3FD8  0.354167  0.395248      0.384230    0.240078    0.465546   \n",
       "2  B009HVH4XO  0.330460  0.302806      0.337181    0.278045    0.530522   \n",
       "\n",
       "  Price_worthy Instructional   Quality Regular-Use Performance Neutral_Sum  \\\n",
       "0  0.169275     0.209715      0.449501  0.126335    0.465642    3.332918     \n",
       "1  0.313364     0.192819      0.397059  0.111714    0.437681    3.291906     \n",
       "2  0.121972     0.137001      0.341818  0.147325    0.300139    2.827268     \n",
       "\n",
       "  Sentiment  \n",
       "0  Neutral   \n",
       "1  Neutral   \n",
       "2  Neutral   "
      ]
     },
     "execution_count": 201,
     "metadata": {},
     "output_type": "execute_result"
    }
   ],
   "source": [
    "#Creating a new dataframe with just neutral scores for each topic and neutral sum\n",
    "df_new_neutral = df_new[['asin']+neutral_columns]\n",
    "df_new_neutral.columns =[[\"asin\"]+[_i for _i in df_senti.Dominant_Topic.unique()]+[\"Neutral_Sum\"]]\n",
    "df_new_neutral [\"Sentiment\"] = \"Neutral\"\n",
    "df_new_neutral.head(3)"
   ]
  },
  {
   "cell_type": "code",
   "execution_count": 202,
   "metadata": {},
   "outputs": [],
   "source": [
    "df_new_neutral.to_csv(\"/Users/harika_pradeep/Downloads/df_new_neutral.csv\")"
   ]
  },
  {
   "cell_type": "code",
   "execution_count": 98,
   "metadata": {},
   "outputs": [
    {
     "data": {
      "text/html": [
       "<div>\n",
       "<style scoped>\n",
       "    .dataframe tbody tr th:only-of-type {\n",
       "        vertical-align: middle;\n",
       "    }\n",
       "\n",
       "    .dataframe tbody tr th {\n",
       "        vertical-align: top;\n",
       "    }\n",
       "\n",
       "    .dataframe thead th {\n",
       "        text-align: right;\n",
       "    }\n",
       "</style>\n",
       "<table border=\"1\" class=\"dataframe\">\n",
       "  <thead>\n",
       "    <tr style=\"text-align: right;\">\n",
       "      <th></th>\n",
       "      <th>asin</th>\n",
       "      <th>Options_positive</th>\n",
       "      <th>Options_negative</th>\n",
       "      <th>Options_neutral</th>\n",
       "    </tr>\n",
       "  </thead>\n",
       "  <tbody>\n",
       "    <tr>\n",
       "      <td>0</td>\n",
       "      <td>B00FLYWNYQ</td>\n",
       "      <td>0.540743</td>\n",
       "      <td>0.189477</td>\n",
       "      <td>0.26978</td>\n",
       "    </tr>\n",
       "  </tbody>\n",
       "</table>\n",
       "</div>"
      ],
      "text/plain": [
       "         asin  Options_positive  Options_negative  Options_neutral\n",
       "0  B00FLYWNYQ  0.540743          0.189477          0.26978        "
      ]
     },
     "execution_count": 98,
     "metadata": {},
     "output_type": "execute_result"
    }
   ],
   "source": [
    "product_sentiments[['asin',\"Options_positive\",\"Options_negative\",\"Options_neutral\"]][product_sentiments.asin==\"B00FLYWNYQ\"]"
   ]
  },
  {
   "cell_type": "code",
   "execution_count": 203,
   "metadata": {},
   "outputs": [],
   "source": [
    "product_senti_score_final = df_new[['asin', 'Positive_Sum', 'Negative_Sum' , 'Neutral_Sum']]"
   ]
  },
  {
   "cell_type": "code",
   "execution_count": 206,
   "metadata": {},
   "outputs": [
    {
     "data": {
      "image/png": "[encoded data removed]",
      "text/plain": [
       "<Figure size 640x480 with 1 Axes>"
      ]
     },
     "metadata": {},
     "output_type": "display_data"
    }
   ],
   "source": [
    "import matplotlib.pyplot as plt\n",
    "import numpy as np\n",
    "\n",
    "# Fixing random state for reproducibility\n",
    "np.random.seed(19680801)\n",
    "\n",
    "\n",
    "plt.rcdefaults()\n",
    "fig, ax = plt.subplots()\n",
    "\n",
    "# Example data\n",
    "Products = product_senti_score_final['asin']\n",
    "y_pos = np.arange(len(Products))\n",
    "error = np.random.rand(len(Products))\n",
    "\n",
    "ax.barh(y_pos, product_senti_score_final['Positive_Sum'], xerr=error, align='center')\n",
    "ax.set_yticks(y_pos)\n",
    "ax.set_yticklabels(Products)\n",
    "ax.invert_yaxis()  # labels read top-to-bottom\n",
    "ax.set_xlabel('Total Positive score')\n",
    "ax.set_title('How much positively this product has been discussed in review')\n",
    "\n",
    "plt.show()"
   ]
  },
  {
   "cell_type": "code",
   "execution_count": 207,
   "metadata": {},
   "outputs": [
    {
     "data": {
      "image/png": "[encoded data removed]",
      "text/plain": [
       "<Figure size 640x480 with 1 Axes>"
      ]
     },
     "metadata": {},
     "output_type": "display_data"
    }
   ],
   "source": [
    "import matplotlib.pyplot as plt\n",
    "import numpy as np\n",
    "\n",
    "# Fixing random state for reproducibility\n",
    "np.random.seed(19680801)\n",
    "\n",
    "\n",
    "plt.rcdefaults()\n",
    "fig, ax = plt.subplots()\n",
    "\n",
    "# Example data\n",
    "Products = product_senti_score_final['asin']\n",
    "y_pos = np.arange(len(Products))\n",
    "error = np.random.rand(len(Products))\n",
    "\n",
    "ax.barh(y_pos, product_senti_score_final['Negative_Sum'], xerr=error, align='center')\n",
    "ax.set_yticks(y_pos)\n",
    "ax.set_yticklabels(Products)\n",
    "ax.invert_yaxis()  # labels read top-to-bottom\n",
    "ax.set_xlabel('Total Negative score')\n",
    "ax.set_title('How much Negatively this product has been discussed in review')\n",
    "\n",
    "plt.show()"
   ]
  },
  {
   "cell_type": "code",
   "execution_count": 208,
   "metadata": {},
   "outputs": [
    {
     "data": {
      "image/png": "[encoded data removed]",
      "text/plain": [
       "<Figure size 640x480 with 1 Axes>"
      ]
     },
     "metadata": {},
     "output_type": "display_data"
    }
   ],
   "source": [
    "import matplotlib.pyplot as plt\n",
    "import numpy as np\n",
    "\n",
    "# Fixing random state for reproducibility\n",
    "np.random.seed(19680801)\n",
    "\n",
    "\n",
    "plt.rcdefaults()\n",
    "fig, ax = plt.subplots()\n",
    "\n",
    "# Example data\n",
    "Products = product_senti_score_final['asin']\n",
    "y_pos = np.arange(len(Products))\n",
    "error = np.random.rand(len(Products))\n",
    "\n",
    "ax.barh(y_pos, product_senti_score_final['Neutral_Sum'], xerr=error, align='center')\n",
    "ax.set_yticks(y_pos)\n",
    "ax.set_yticklabels(Products)\n",
    "ax.invert_yaxis()  # labels read top-to-bottom\n",
    "ax.set_xlabel('Total Neutral score')\n",
    "ax.set_title('How much Neutral this product has been discussed in review')\n",
    "\n",
    "plt.show()"
   ]
  },
  {
   "cell_type": "code",
   "execution_count": 205,
   "metadata": {},
   "outputs": [],
   "source": [
    "product_senti_score_final.to_csv(\"/Users/harika_pradeep/Downloads/product_senti_score_final.csv\")"
   ]
  },
  {
   "cell_type": "markdown",
   "metadata": {},
   "source": [
    "\n"
   ]
  }
 ],
 "metadata": {
  "kernelspec": {
   "display_name": "Python 3.6 (tensorflow)",
   "language": "python",
   "name": "tensorflow"
  },
  "language_info": {
   "codemirror_mode": {
    "name": "ipython",
    "version": 3
   },
   "file_extension": ".py",
   "mimetype": "text/x-python",
   "name": "python",
   "nbconvert_exporter": "python",
   "pygments_lexer": "ipython3",
   "version": "3.6.9"
  }
 },
 "nbformat": 4,
 "nbformat_minor": 2
}
