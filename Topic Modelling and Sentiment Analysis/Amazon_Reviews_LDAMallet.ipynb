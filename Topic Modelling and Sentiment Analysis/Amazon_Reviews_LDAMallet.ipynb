{
 "cells": [
  {
   "cell_type": "markdown",
   "metadata": {},
   "source": [
    "# Applying otimal LDA model on sentences of reviews"
   ]
  },
  {
   "cell_type": "markdown",
   "metadata": {},
   "source": [
    "Goal: Finding the best topic modeling model with optimum value of number of topics 'k', to generate most optimal topics on reviews"
   ]
  },
  {
   "cell_type": "code",
   "execution_count": 77,
   "metadata": {},
   "outputs": [],
   "source": [
    "#Importing Libraries\n",
    "import gensim\n",
    "from nltk.stem import WordNetLemmatizer\n",
    "from nltk.tokenize import RegexpTokenizer\n",
    "from nltk.corpus import stopwords\n",
    "from stop_words import get_stop_words\n",
    "from gensim import corpora, models\n",
    "from gensim.models import Phrases\n",
    "from nltk.stem.porter import *\n",
    "import numpy as np\n",
    "import operator\n",
    "import nltk\n",
    "# Compute bigrams.\n",
    "from gensim.models import Phrases\n",
    "from pprint import pprint\n",
    "# Plotting tools\n",
    "import pyLDAvis\n",
    "import pyLDAvis.gensim  # don't skip this"
   ]
  },
  {
   "cell_type": "code",
   "execution_count": 91,
   "metadata": {},
   "outputs": [],
   "source": [
    "import pickle"
   ]
  },
  {
   "cell_type": "code",
   "execution_count": 1,
   "metadata": {},
   "outputs": [],
   "source": [
    "import pandas as pd"
   ]
  },
  {
   "cell_type": "code",
   "execution_count": 11,
   "metadata": {},
   "outputs": [],
   "source": [
    "#Loading data. This data is obtained by grouping the product IDs with respect number reviews and merging their reviews together.\n",
    "df = pd.read_csv('/Users/harika_pradeep/Downloads/df_grouped.csv', index_col=0)"
   ]
  },
  {
   "cell_type": "code",
   "execution_count": 5,
   "metadata": {},
   "outputs": [
    {
     "name": "stderr",
     "output_type": "stream",
     "text": [
      "/Users/harika_pradeep/miniconda3/envs/tensorflow/lib/python3.6/site-packages/numpy/lib/arraysetops.py:569: FutureWarning: elementwise comparison failed; returning scalar instead, but in the future will perform elementwise comparison\n",
      "  mask |= (ar1 == a)\n"
     ]
    }
   ],
   "source": [
    "#Loading metadata that has product titles for each product.\n",
    "df_m = pd.read_csv('/Users/harika_pradeep/Downloads/Title_prod.csv', index_col=0)"
   ]
  },
  {
   "cell_type": "code",
   "execution_count": 3,
   "metadata": {},
   "outputs": [
    {
     "data": {
      "text/plain": [
       "(188138, 2)"
      ]
     },
     "execution_count": 3,
     "metadata": {},
     "output_type": "execute_result"
    }
   ],
   "source": [
    "df.shape"
   ]
  },
  {
   "cell_type": "code",
   "execution_count": 6,
   "metadata": {},
   "outputs": [
    {
     "data": {
      "text/plain": [
       "(1301225, 2)"
      ]
     },
     "execution_count": 6,
     "metadata": {},
     "output_type": "execute_result"
    }
   ],
   "source": [
    "df_m.shape"
   ]
  },
  {
   "cell_type": "code",
   "execution_count": 7,
   "metadata": {},
   "outputs": [
    {
     "data": {
      "text/html": [
       "<div>\n",
       "<style scoped>\n",
       "    .dataframe tbody tr th:only-of-type {\n",
       "        vertical-align: middle;\n",
       "    }\n",
       "\n",
       "    .dataframe tbody tr th {\n",
       "        vertical-align: top;\n",
       "    }\n",
       "\n",
       "    .dataframe thead th {\n",
       "        text-align: right;\n",
       "    }\n",
       "</style>\n",
       "<table border=\"1\" class=\"dataframe\">\n",
       "  <thead>\n",
       "    <tr style=\"text-align: right;\">\n",
       "      <th></th>\n",
       "      <th>reviewText</th>\n",
       "      <th>count</th>\n",
       "    </tr>\n",
       "    <tr>\n",
       "      <th>asin</th>\n",
       "      <th></th>\n",
       "      <th></th>\n",
       "    </tr>\n",
       "  </thead>\n",
       "  <tbody>\n",
       "    <tr>\n",
       "      <td>B00FLYWNYQ</td>\n",
       "      <td>I was excited to try this so as soon as I got ...</td>\n",
       "      <td>7433</td>\n",
       "    </tr>\n",
       "    <tr>\n",
       "      <td>B00COK3FD8</td>\n",
       "      <td>The tupperware was exactly as described. I lov...</td>\n",
       "      <td>4563</td>\n",
       "    </tr>\n",
       "    <tr>\n",
       "      <td>B009HVH4XO</td>\n",
       "      <td>i have 4 of these and i didn't think they coul...</td>\n",
       "      <td>4460</td>\n",
       "    </tr>\n",
       "    <tr>\n",
       "      <td>B00NX47YP4</td>\n",
       "      <td>Pros:\\nSeems to weigh accurately\\nEasy to use ...</td>\n",
       "      <td>4379</td>\n",
       "    </tr>\n",
       "    <tr>\n",
       "      <td>B00902X68W</td>\n",
       "      <td>I love these sheets.  They are so soft and coz...</td>\n",
       "      <td>3725</td>\n",
       "    </tr>\n",
       "  </tbody>\n",
       "</table>\n",
       "</div>"
      ],
      "text/plain": [
       "                                                   reviewText  count\n",
       "asin                                                                \n",
       "B00FLYWNYQ  I was excited to try this so as soon as I got ...   7433\n",
       "B00COK3FD8  The tupperware was exactly as described. I lov...   4563\n",
       "B009HVH4XO  i have 4 of these and i didn't think they coul...   4460\n",
       "B00NX47YP4  Pros:\\nSeems to weigh accurately\\nEasy to use ...   4379\n",
       "B00902X68W  I love these sheets.  They are so soft and coz...   3725"
      ]
     },
     "execution_count": 7,
     "metadata": {},
     "output_type": "execute_result"
    }
   ],
   "source": [
    "df.head()"
   ]
  },
  {
   "cell_type": "code",
   "execution_count": 8,
   "metadata": {},
   "outputs": [
    {
     "data": {
      "text/html": [
       "<div>\n",
       "<style scoped>\n",
       "    .dataframe tbody tr th:only-of-type {\n",
       "        vertical-align: middle;\n",
       "    }\n",
       "\n",
       "    .dataframe tbody tr th {\n",
       "        vertical-align: top;\n",
       "    }\n",
       "\n",
       "    .dataframe thead th {\n",
       "        text-align: right;\n",
       "    }\n",
       "</style>\n",
       "<table border=\"1\" class=\"dataframe\">\n",
       "  <thead>\n",
       "    <tr style=\"text-align: right;\">\n",
       "      <th></th>\n",
       "      <th>asin</th>\n",
       "      <th>title</th>\n",
       "    </tr>\n",
       "  </thead>\n",
       "  <tbody>\n",
       "    <tr>\n",
       "      <td>0</td>\n",
       "      <td>0001487795</td>\n",
       "      <td>You Are Special Today Red Plate [With Red Pen]</td>\n",
       "    </tr>\n",
       "    <tr>\n",
       "      <td>1</td>\n",
       "      <td>0002020300</td>\n",
       "      <td>Vicks Inhaler Relief for Cold Sinus Nasal Cong...</td>\n",
       "    </tr>\n",
       "    <tr>\n",
       "      <td>2</td>\n",
       "      <td>0006564224</td>\n",
       "      <td>Artistic Churchware Communion Cup Filler: RW525</td>\n",
       "    </tr>\n",
       "    <tr>\n",
       "      <td>3</td>\n",
       "      <td>0009046461</td>\n",
       "      <td>4 BARS! Mysore Sandal Soap 70grams FAST SHIPPING</td>\n",
       "    </tr>\n",
       "    <tr>\n",
       "      <td>4</td>\n",
       "      <td>0234937912</td>\n",
       "      <td>AROGYA VATI (40gm) by popeye seller</td>\n",
       "    </tr>\n",
       "  </tbody>\n",
       "</table>\n",
       "</div>"
      ],
      "text/plain": [
       "         asin                                              title\n",
       "0  0001487795     You Are Special Today Red Plate [With Red Pen]\n",
       "1  0002020300  Vicks Inhaler Relief for Cold Sinus Nasal Cong...\n",
       "2  0006564224    Artistic Churchware Communion Cup Filler: RW525\n",
       "3  0009046461   4 BARS! Mysore Sandal Soap 70grams FAST SHIPPING\n",
       "4  0234937912                AROGYA VATI (40gm) by popeye seller"
      ]
     },
     "execution_count": 8,
     "metadata": {},
     "output_type": "execute_result"
    }
   ],
   "source": [
    "df_m.head()"
   ]
  },
  {
   "cell_type": "code",
   "execution_count": 51,
   "metadata": {},
   "outputs": [],
   "source": [
    "#Merging both the dataframes with product ID column \"asin\"\n",
    "df_merged = pd.merge (df_m,df,left_on='asin',right_on='asin')"
   ]
  },
  {
   "cell_type": "code",
   "execution_count": 52,
   "metadata": {},
   "outputs": [
    {
     "data": {
      "text/plain": [
       "(192603, 4)"
      ]
     },
     "execution_count": 52,
     "metadata": {},
     "output_type": "execute_result"
    }
   ],
   "source": [
    "df_merged.shape "
   ]
  },
  {
   "cell_type": "code",
   "execution_count": 53,
   "metadata": {},
   "outputs": [
    {
     "data": {
      "text/plain": [
       "(2, 4)"
      ]
     },
     "execution_count": 53,
     "metadata": {},
     "output_type": "execute_result"
    }
   ],
   "source": [
    "df_merged[df_merged['title'].isnull()].shape"
   ]
  },
  {
   "cell_type": "code",
   "execution_count": 54,
   "metadata": {},
   "outputs": [
    {
     "data": {
      "text/plain": [
       "1286077"
      ]
     },
     "execution_count": 54,
     "metadata": {},
     "output_type": "execute_result"
    }
   ],
   "source": [
    "df_m['asin'].unique().shape[0]"
   ]
  },
  {
   "cell_type": "code",
   "execution_count": 55,
   "metadata": {},
   "outputs": [
    {
     "data": {
      "text/html": [
       "<div>\n",
       "<style scoped>\n",
       "    .dataframe tbody tr th:only-of-type {\n",
       "        vertical-align: middle;\n",
       "    }\n",
       "\n",
       "    .dataframe tbody tr th {\n",
       "        vertical-align: top;\n",
       "    }\n",
       "\n",
       "    .dataframe thead th {\n",
       "        text-align: right;\n",
       "    }\n",
       "</style>\n",
       "<table border=\"1\" class=\"dataframe\">\n",
       "  <thead>\n",
       "    <tr style=\"text-align: right;\">\n",
       "      <th></th>\n",
       "      <th>asin</th>\n",
       "      <th>title</th>\n",
       "      <th>reviewText</th>\n",
       "      <th>count</th>\n",
       "    </tr>\n",
       "  </thead>\n",
       "  <tbody>\n",
       "    <tr>\n",
       "      <td>0</td>\n",
       "      <td>0560467893</td>\n",
       "      <td>WELLAND Chicago Wall Floating Corner Shelf, 20...</td>\n",
       "      <td>Pretty flimsy, but does the job. If your corne...</td>\n",
       "      <td>5</td>\n",
       "    </tr>\n",
       "    <tr>\n",
       "      <td>1</td>\n",
       "      <td>0681795107</td>\n",
       "      <td>Stainless Coffee Mug</td>\n",
       "      <td>I love this mug. It cleans easily and keeps dr...</td>\n",
       "      <td>14</td>\n",
       "    </tr>\n",
       "    <tr>\n",
       "      <td>2</td>\n",
       "      <td>0768205921</td>\n",
       "      <td>Judy Instructo My Own Little Judy Clock with B...</td>\n",
       "      <td>This is a great learning tool for teaching chi...</td>\n",
       "      <td>11</td>\n",
       "    </tr>\n",
       "    <tr>\n",
       "      <td>3</td>\n",
       "      <td>0805469613</td>\n",
       "      <td>Communion Cups-Plastic, 500ct</td>\n",
       "      <td>Great cups for communion, just wished I would ...</td>\n",
       "      <td>6</td>\n",
       "    </tr>\n",
       "    <tr>\n",
       "      <td>4</td>\n",
       "      <td>0983124248</td>\n",
       "      <td>My Sticker Book: Princess Swing – Reusable Sti...</td>\n",
       "      <td>Very cool sticker book. You can stick, remove,...</td>\n",
       "      <td>5</td>\n",
       "    </tr>\n",
       "  </tbody>\n",
       "</table>\n",
       "</div>"
      ],
      "text/plain": [
       "         asin                                              title  \\\n",
       "0  0560467893  WELLAND Chicago Wall Floating Corner Shelf, 20...   \n",
       "1  0681795107                               Stainless Coffee Mug   \n",
       "2  0768205921  Judy Instructo My Own Little Judy Clock with B...   \n",
       "3  0805469613                      Communion Cups-Plastic, 500ct   \n",
       "4  0983124248  My Sticker Book: Princess Swing – Reusable Sti...   \n",
       "\n",
       "                                          reviewText  count  \n",
       "0  Pretty flimsy, but does the job. If your corne...      5  \n",
       "1  I love this mug. It cleans easily and keeps dr...     14  \n",
       "2  This is a great learning tool for teaching chi...     11  \n",
       "3  Great cups for communion, just wished I would ...      6  \n",
       "4  Very cool sticker book. You can stick, remove,...      5  "
      ]
     },
     "execution_count": 55,
     "metadata": {},
     "output_type": "execute_result"
    }
   ],
   "source": [
    "df_merged.head()"
   ]
  },
  {
   "cell_type": "code",
   "execution_count": 56,
   "metadata": {},
   "outputs": [],
   "source": [
    "# Sorting the rows in decreasing order\n",
    "df_merged.sort_values(by=['count'],inplace=True,ascending=False)"
   ]
  },
  {
   "cell_type": "code",
   "execution_count": 57,
   "metadata": {},
   "outputs": [
    {
     "data": {
      "text/html": [
       "<div>\n",
       "<style scoped>\n",
       "    .dataframe tbody tr th:only-of-type {\n",
       "        vertical-align: middle;\n",
       "    }\n",
       "\n",
       "    .dataframe tbody tr th {\n",
       "        vertical-align: top;\n",
       "    }\n",
       "\n",
       "    .dataframe thead th {\n",
       "        text-align: right;\n",
       "    }\n",
       "</style>\n",
       "<table border=\"1\" class=\"dataframe\">\n",
       "  <thead>\n",
       "    <tr style=\"text-align: right;\">\n",
       "      <th></th>\n",
       "      <th>asin</th>\n",
       "      <th>title</th>\n",
       "      <th>reviewText</th>\n",
       "      <th>count</th>\n",
       "    </tr>\n",
       "  </thead>\n",
       "  <tbody>\n",
       "    <tr>\n",
       "      <td>98366</td>\n",
       "      <td>B00FLYWNYQ</td>\n",
       "      <td>Instant Pot DUO60 6 Qt 7-in-1 Multi-Use Progra...</td>\n",
       "      <td>I was excited to try this so as soon as I got ...</td>\n",
       "      <td>7433</td>\n",
       "    </tr>\n",
       "    <tr>\n",
       "      <td>87816</td>\n",
       "      <td>B00COK3FD8</td>\n",
       "      <td>Rubbermaid Easy Find Lids Food Storage Contain...</td>\n",
       "      <td>The tupperware was exactly as described. I lov...</td>\n",
       "      <td>4563</td>\n",
       "    </tr>\n",
       "    <tr>\n",
       "      <td>76075</td>\n",
       "      <td>B009HVH4XO</td>\n",
       "      <td>Contigo AUTOSEAL West Loop Vacuum-Insulated St...</td>\n",
       "      <td>i have 4 of these and i didn't think they coul...</td>\n",
       "      <td>4460</td>\n",
       "    </tr>\n",
       "    <tr>\n",
       "      <td>126926</td>\n",
       "      <td>B00NX47YP4</td>\n",
       "      <td>Ozeri ZK14-R Pronto Digital Multifunction Kitc...</td>\n",
       "      <td>Pros:\\nSeems to weigh accurately\\nEasy to use ...</td>\n",
       "      <td>4379</td>\n",
       "    </tr>\n",
       "    <tr>\n",
       "      <td>73536</td>\n",
       "      <td>B00902X68W</td>\n",
       "      <td>Clara Clark 1800 Premier Series 4pc Bed Sheet ...</td>\n",
       "      <td>I love these sheets.  They are so soft and coz...</td>\n",
       "      <td>3725</td>\n",
       "    </tr>\n",
       "  </tbody>\n",
       "</table>\n",
       "</div>"
      ],
      "text/plain": [
       "              asin                                              title  \\\n",
       "98366   B00FLYWNYQ  Instant Pot DUO60 6 Qt 7-in-1 Multi-Use Progra...   \n",
       "87816   B00COK3FD8  Rubbermaid Easy Find Lids Food Storage Contain...   \n",
       "76075   B009HVH4XO  Contigo AUTOSEAL West Loop Vacuum-Insulated St...   \n",
       "126926  B00NX47YP4  Ozeri ZK14-R Pronto Digital Multifunction Kitc...   \n",
       "73536   B00902X68W  Clara Clark 1800 Premier Series 4pc Bed Sheet ...   \n",
       "\n",
       "                                               reviewText  count  \n",
       "98366   I was excited to try this so as soon as I got ...   7433  \n",
       "87816   The tupperware was exactly as described. I lov...   4563  \n",
       "76075   i have 4 of these and i didn't think they coul...   4460  \n",
       "126926  Pros:\\nSeems to weigh accurately\\nEasy to use ...   4379  \n",
       "73536   I love these sheets.  They are so soft and coz...   3725  "
      ]
     },
     "execution_count": 57,
     "metadata": {},
     "output_type": "execute_result"
    }
   ],
   "source": [
    "df_merged.head ()"
   ]
  },
  {
   "cell_type": "code",
   "execution_count": 58,
   "metadata": {},
   "outputs": [],
   "source": [
    "df_merged.reset_index(drop = True, inplace = True)"
   ]
  },
  {
   "cell_type": "code",
   "execution_count": 66,
   "metadata": {},
   "outputs": [
    {
     "data": {
      "text/plain": [
       "(5, 4)"
      ]
     },
     "execution_count": 66,
     "metadata": {},
     "output_type": "execute_result"
    }
   ],
   "source": [
    "df_merged.head ().shape"
   ]
  },
  {
   "cell_type": "code",
   "execution_count": 112,
   "metadata": {},
   "outputs": [],
   "source": [
    "#Considering only the top 25 products for further calculations (for memory constraints)\n",
    "df_req = df_merged.head(25)"
   ]
  },
  {
   "cell_type": "code",
   "execution_count": 113,
   "metadata": {},
   "outputs": [
    {
     "data": {
      "text/plain": [
       "(25, 4)"
      ]
     },
     "execution_count": 113,
     "metadata": {},
     "output_type": "execute_result"
    }
   ],
   "source": [
    "df_req.shape"
   ]
  },
  {
   "cell_type": "code",
   "execution_count": 114,
   "metadata": {},
   "outputs": [
    {
     "data": {
      "text/html": [
       "<div>\n",
       "<style scoped>\n",
       "    .dataframe tbody tr th:only-of-type {\n",
       "        vertical-align: middle;\n",
       "    }\n",
       "\n",
       "    .dataframe tbody tr th {\n",
       "        vertical-align: top;\n",
       "    }\n",
       "\n",
       "    .dataframe thead th {\n",
       "        text-align: right;\n",
       "    }\n",
       "</style>\n",
       "<table border=\"1\" class=\"dataframe\">\n",
       "  <thead>\n",
       "    <tr style=\"text-align: right;\">\n",
       "      <th></th>\n",
       "      <th>asin</th>\n",
       "      <th>title</th>\n",
       "      <th>reviewText</th>\n",
       "      <th>count</th>\n",
       "    </tr>\n",
       "  </thead>\n",
       "  <tbody>\n",
       "    <tr>\n",
       "      <td>0</td>\n",
       "      <td>B00FLYWNYQ</td>\n",
       "      <td>Instant Pot DUO60 6 Qt 7-in-1 Multi-Use Progra...</td>\n",
       "      <td>I was excited to try this so as soon as I got ...</td>\n",
       "      <td>7433</td>\n",
       "    </tr>\n",
       "    <tr>\n",
       "      <td>1</td>\n",
       "      <td>B00COK3FD8</td>\n",
       "      <td>Rubbermaid Easy Find Lids Food Storage Contain...</td>\n",
       "      <td>The tupperware was exactly as described. I lov...</td>\n",
       "      <td>4563</td>\n",
       "    </tr>\n",
       "    <tr>\n",
       "      <td>2</td>\n",
       "      <td>B009HVH4XO</td>\n",
       "      <td>Contigo AUTOSEAL West Loop Vacuum-Insulated St...</td>\n",
       "      <td>i have 4 of these and i didn't think they coul...</td>\n",
       "      <td>4460</td>\n",
       "    </tr>\n",
       "    <tr>\n",
       "      <td>3</td>\n",
       "      <td>B00NX47YP4</td>\n",
       "      <td>Ozeri ZK14-R Pronto Digital Multifunction Kitc...</td>\n",
       "      <td>Pros:\\nSeems to weigh accurately\\nEasy to use ...</td>\n",
       "      <td>4379</td>\n",
       "    </tr>\n",
       "    <tr>\n",
       "      <td>4</td>\n",
       "      <td>B00902X68W</td>\n",
       "      <td>Clara Clark 1800 Premier Series 4pc Bed Sheet ...</td>\n",
       "      <td>I love these sheets.  They are so soft and coz...</td>\n",
       "      <td>3725</td>\n",
       "    </tr>\n",
       "    <tr>\n",
       "      <td>5</td>\n",
       "      <td>B00EINBSJ2</td>\n",
       "      <td>Coop Home Goods - PREMIUM Adjustable Loft - Sh...</td>\n",
       "      <td>I received my pillow today.  This pillow, alth...</td>\n",
       "      <td>3623</td>\n",
       "    </tr>\n",
       "    <tr>\n",
       "      <td>6</td>\n",
       "      <td>B009ZJ2M7G</td>\n",
       "      <td>Hoover Power Scrub Deluxe Carpet Washer FH50150</td>\n",
       "      <td>Same as another review only I got a single tan...</td>\n",
       "      <td>3290</td>\n",
       "    </tr>\n",
       "    <tr>\n",
       "      <td>7</td>\n",
       "      <td>B0091YYUAM</td>\n",
       "      <td>BISSELL PowerFresh Steam Mop, Floor Steamer, T...</td>\n",
       "      <td>I wish I had something to compare this too, bu...</td>\n",
       "      <td>3272</td>\n",
       "    </tr>\n",
       "    <tr>\n",
       "      <td>8</td>\n",
       "      <td>B00JVLG2KG</td>\n",
       "      <td>Thermos FUNtainer 12 Ounce Bottle, #All About Me</td>\n",
       "      <td>This thermos is the BEST!  I have opened it an...</td>\n",
       "      <td>3264</td>\n",
       "    </tr>\n",
       "    <tr>\n",
       "      <td>9</td>\n",
       "      <td>B000YGEVMI</td>\n",
       "      <td>Thermos FUNtainer 12 Ounce Bottle, #All About Me</td>\n",
       "      <td>***Update 9/26/2013 - We still have three of o...</td>\n",
       "      <td>3262</td>\n",
       "    </tr>\n",
       "    <tr>\n",
       "      <td>10</td>\n",
       "      <td>B00INRW7GC</td>\n",
       "      <td>Nordic Ware Natural Aluminum Commercial Baker'...</td>\n",
       "      <td>This product is wonderful and nice and heavy. ...</td>\n",
       "      <td>3152</td>\n",
       "    </tr>\n",
       "    <tr>\n",
       "      <td>11</td>\n",
       "      <td>B019D9HESO</td>\n",
       "      <td>RTIC 30 oz Stainless Steel Tumbler Cup w/ Spla...</td>\n",
       "      <td>love it //Five Stars ** I bought two of these ...</td>\n",
       "      <td>3133</td>\n",
       "    </tr>\n",
       "    <tr>\n",
       "      <td>12</td>\n",
       "      <td>B00AYULZEQ</td>\n",
       "      <td>InterDesign PEVA 3 Gauge Shower Curtain Liner ...</td>\n",
       "      <td>It's very light but more than sturdy enough fo...</td>\n",
       "      <td>3100</td>\n",
       "    </tr>\n",
       "    <tr>\n",
       "      <td>13</td>\n",
       "      <td>B00LV4W8BI</td>\n",
       "      <td>Hotel Luxury Bed Sheets Set TODAY! On Amazon S...</td>\n",
       "      <td>Good quality bed sheet with nice price //Five ...</td>\n",
       "      <td>3035</td>\n",
       "    </tr>\n",
       "    <tr>\n",
       "      <td>14</td>\n",
       "      <td>B007WQ9YNE</td>\n",
       "      <td>Aroma Housewares 8-Cup (Cooked)  (4-Cup UNCOOK...</td>\n",
       "      <td>Rice cooker works fine. Vents steam and hot wa...</td>\n",
       "      <td>3030</td>\n",
       "    </tr>\n",
       "    <tr>\n",
       "      <td>15</td>\n",
       "      <td>B000M8YMEU</td>\n",
       "      <td>Wilton Easy Flex Silicone Spatula Set, Your Go...</td>\n",
       "      <td>I have been pleased with these spatulas.  They...</td>\n",
       "      <td>2911</td>\n",
       "    </tr>\n",
       "    <tr>\n",
       "      <td>16</td>\n",
       "      <td>B002S52ZDU</td>\n",
       "      <td>Pinzon Blended Egyptian Cotton 6-Piece Towel S...</td>\n",
       "      <td>I purchased these towels and was pleased at ho...</td>\n",
       "      <td>2875</td>\n",
       "    </tr>\n",
       "    <tr>\n",
       "      <td>17</td>\n",
       "      <td>B00EQT70QS</td>\n",
       "      <td>Cuisinart CSB-75SM 2-Speed Series Smart Stick ...</td>\n",
       "      <td>Mixing - The two speed operation is handy.  Fo...</td>\n",
       "      <td>2825</td>\n",
       "    </tr>\n",
       "    <tr>\n",
       "      <td>18</td>\n",
       "      <td>B000VENLF6</td>\n",
       "      <td>Pinzon Hypoallergenic Overfilled Microplush Ma...</td>\n",
       "      <td>I am very happy with the quality of this mattr...</td>\n",
       "      <td>2825</td>\n",
       "    </tr>\n",
       "    <tr>\n",
       "      <td>19</td>\n",
       "      <td>B00ARQVLGO</td>\n",
       "      <td>Cuisinart CSB-75PK Smart Stick 2-Speed Immersi...</td>\n",
       "      <td>Mixing - The two speed operation is handy.  Fo...</td>\n",
       "      <td>2818</td>\n",
       "    </tr>\n",
       "    <tr>\n",
       "      <td>20</td>\n",
       "      <td>B000BWZ7QO</td>\n",
       "      <td>Ball Mason Wide Mouth Quart Jars with Lids and...</td>\n",
       "      <td>I have been using Ball #68100 wide-mouth, half...</td>\n",
       "      <td>2788</td>\n",
       "    </tr>\n",
       "    <tr>\n",
       "      <td>21</td>\n",
       "      <td>B002KAPNA0</td>\n",
       "      <td>var aPageStart = (new Date()).getTime();\\nvar ...</td>\n",
       "      <td>First of all, despite all the Kitchenaid menti...</td>\n",
       "      <td>2676</td>\n",
       "    </tr>\n",
       "    <tr>\n",
       "      <td>22</td>\n",
       "      <td>B00Q7EV29G</td>\n",
       "      <td>Zinus Memory Foam 8 Inch Green Tea Mattress, Q...</td>\n",
       "      <td>My husband gives it 5 stars, he loves this mat...</td>\n",
       "      <td>2672</td>\n",
       "    </tr>\n",
       "    <tr>\n",
       "      <td>23</td>\n",
       "      <td>B0015TMHSI</td>\n",
       "      <td>Original Beater Blade for 5-Quart KitchenAid B...</td>\n",
       "      <td>Amazing that no one invented this sooner...a r...</td>\n",
       "      <td>2670</td>\n",
       "    </tr>\n",
       "    <tr>\n",
       "      <td>24</td>\n",
       "      <td>B00T6TKYPC</td>\n",
       "      <td>simplehuman 50 Liter / 13 Gallon Semi-Round Ki...</td>\n",
       "      <td>Nice quality trash can. Great silent closing l...</td>\n",
       "      <td>2619</td>\n",
       "    </tr>\n",
       "  </tbody>\n",
       "</table>\n",
       "</div>"
      ],
      "text/plain": [
       "          asin                                              title  \\\n",
       "0   B00FLYWNYQ  Instant Pot DUO60 6 Qt 7-in-1 Multi-Use Progra...   \n",
       "1   B00COK3FD8  Rubbermaid Easy Find Lids Food Storage Contain...   \n",
       "2   B009HVH4XO  Contigo AUTOSEAL West Loop Vacuum-Insulated St...   \n",
       "3   B00NX47YP4  Ozeri ZK14-R Pronto Digital Multifunction Kitc...   \n",
       "4   B00902X68W  Clara Clark 1800 Premier Series 4pc Bed Sheet ...   \n",
       "5   B00EINBSJ2  Coop Home Goods - PREMIUM Adjustable Loft - Sh...   \n",
       "6   B009ZJ2M7G    Hoover Power Scrub Deluxe Carpet Washer FH50150   \n",
       "7   B0091YYUAM  BISSELL PowerFresh Steam Mop, Floor Steamer, T...   \n",
       "8   B00JVLG2KG   Thermos FUNtainer 12 Ounce Bottle, #All About Me   \n",
       "9   B000YGEVMI   Thermos FUNtainer 12 Ounce Bottle, #All About Me   \n",
       "10  B00INRW7GC  Nordic Ware Natural Aluminum Commercial Baker'...   \n",
       "11  B019D9HESO  RTIC 30 oz Stainless Steel Tumbler Cup w/ Spla...   \n",
       "12  B00AYULZEQ  InterDesign PEVA 3 Gauge Shower Curtain Liner ...   \n",
       "13  B00LV4W8BI  Hotel Luxury Bed Sheets Set TODAY! On Amazon S...   \n",
       "14  B007WQ9YNE  Aroma Housewares 8-Cup (Cooked)  (4-Cup UNCOOK...   \n",
       "15  B000M8YMEU  Wilton Easy Flex Silicone Spatula Set, Your Go...   \n",
       "16  B002S52ZDU  Pinzon Blended Egyptian Cotton 6-Piece Towel S...   \n",
       "17  B00EQT70QS  Cuisinart CSB-75SM 2-Speed Series Smart Stick ...   \n",
       "18  B000VENLF6  Pinzon Hypoallergenic Overfilled Microplush Ma...   \n",
       "19  B00ARQVLGO  Cuisinart CSB-75PK Smart Stick 2-Speed Immersi...   \n",
       "20  B000BWZ7QO  Ball Mason Wide Mouth Quart Jars with Lids and...   \n",
       "21  B002KAPNA0  var aPageStart = (new Date()).getTime();\\nvar ...   \n",
       "22  B00Q7EV29G  Zinus Memory Foam 8 Inch Green Tea Mattress, Q...   \n",
       "23  B0015TMHSI  Original Beater Blade for 5-Quart KitchenAid B...   \n",
       "24  B00T6TKYPC  simplehuman 50 Liter / 13 Gallon Semi-Round Ki...   \n",
       "\n",
       "                                           reviewText  count  \n",
       "0   I was excited to try this so as soon as I got ...   7433  \n",
       "1   The tupperware was exactly as described. I lov...   4563  \n",
       "2   i have 4 of these and i didn't think they coul...   4460  \n",
       "3   Pros:\\nSeems to weigh accurately\\nEasy to use ...   4379  \n",
       "4   I love these sheets.  They are so soft and coz...   3725  \n",
       "5   I received my pillow today.  This pillow, alth...   3623  \n",
       "6   Same as another review only I got a single tan...   3290  \n",
       "7   I wish I had something to compare this too, bu...   3272  \n",
       "8   This thermos is the BEST!  I have opened it an...   3264  \n",
       "9   ***Update 9/26/2013 - We still have three of o...   3262  \n",
       "10  This product is wonderful and nice and heavy. ...   3152  \n",
       "11  love it //Five Stars ** I bought two of these ...   3133  \n",
       "12  It's very light but more than sturdy enough fo...   3100  \n",
       "13  Good quality bed sheet with nice price //Five ...   3035  \n",
       "14  Rice cooker works fine. Vents steam and hot wa...   3030  \n",
       "15  I have been pleased with these spatulas.  They...   2911  \n",
       "16  I purchased these towels and was pleased at ho...   2875  \n",
       "17  Mixing - The two speed operation is handy.  Fo...   2825  \n",
       "18  I am very happy with the quality of this mattr...   2825  \n",
       "19  Mixing - The two speed operation is handy.  Fo...   2818  \n",
       "20  I have been using Ball #68100 wide-mouth, half...   2788  \n",
       "21  First of all, despite all the Kitchenaid menti...   2676  \n",
       "22  My husband gives it 5 stars, he loves this mat...   2672  \n",
       "23  Amazing that no one invented this sooner...a r...   2670  \n",
       "24  Nice quality trash can. Great silent closing l...   2619  "
      ]
     },
     "execution_count": 114,
     "metadata": {},
     "output_type": "execute_result"
    }
   ],
   "source": [
    "df_req"
   ]
  },
  {
   "cell_type": "code",
   "execution_count": 115,
   "metadata": {},
   "outputs": [],
   "source": [
    "#splitting each review for these 25 products into sentences. This will be used while appying sentiment analysis on each sentence\n",
    "df_req_copy = df_req\n",
    "df_sentences = pd.DataFrame(df_req_copy.reviewText.str.split('.').tolist(), index=df_req_copy.asin).stack()\n",
    "df_sentences =df_sentences.reset_index([0, 'asin'])\n",
    "df_sentences.columns = ['asin', 'sentences']"
   ]
  },
  {
   "cell_type": "code",
   "execution_count": 116,
   "metadata": {},
   "outputs": [
    {
     "data": {
      "text/plain": [
       "(300677, 2)"
      ]
     },
     "execution_count": 116,
     "metadata": {},
     "output_type": "execute_result"
    }
   ],
   "source": [
    "#Total number of sentences on which we will be applying topic modeling and sentiment analysis is 300677\n",
    "df_sentences.shape"
   ]
  },
  {
   "cell_type": "code",
   "execution_count": 117,
   "metadata": {},
   "outputs": [
    {
     "data": {
      "text/html": [
       "<div>\n",
       "<style scoped>\n",
       "    .dataframe tbody tr th:only-of-type {\n",
       "        vertical-align: middle;\n",
       "    }\n",
       "\n",
       "    .dataframe tbody tr th {\n",
       "        vertical-align: top;\n",
       "    }\n",
       "\n",
       "    .dataframe thead th {\n",
       "        text-align: right;\n",
       "    }\n",
       "</style>\n",
       "<table border=\"1\" class=\"dataframe\">\n",
       "  <thead>\n",
       "    <tr style=\"text-align: right;\">\n",
       "      <th></th>\n",
       "      <th>asin</th>\n",
       "      <th>sentences</th>\n",
       "    </tr>\n",
       "  </thead>\n",
       "  <tbody>\n",
       "    <tr>\n",
       "      <td>0</td>\n",
       "      <td>B00FLYWNYQ</td>\n",
       "      <td>I was excited to try this so as soon as I got ...</td>\n",
       "    </tr>\n",
       "    <tr>\n",
       "      <td>1</td>\n",
       "      <td>B00FLYWNYQ</td>\n",
       "      <td>I ended up with the best texture I've ever ha...</td>\n",
       "    </tr>\n",
       "    <tr>\n",
       "      <td>2</td>\n",
       "      <td>B00FLYWNYQ</td>\n",
       "      <td>Plus the aroma stayed in the pot, so the rice...</td>\n",
       "    </tr>\n",
       "    <tr>\n",
       "      <td>3</td>\n",
       "      <td>B00FLYWNYQ</td>\n",
       "      <td>This is the quietest rice cooker or pressure ...</td>\n",
       "    </tr>\n",
       "    <tr>\n",
       "      <td>4</td>\n",
       "      <td>B00FLYWNYQ</td>\n",
       "      <td>There was only quiet musical beeping when ope...</td>\n",
       "    </tr>\n",
       "  </tbody>\n",
       "</table>\n",
       "</div>"
      ],
      "text/plain": [
       "         asin                                          sentences\n",
       "0  B00FLYWNYQ  I was excited to try this so as soon as I got ...\n",
       "1  B00FLYWNYQ   I ended up with the best texture I've ever ha...\n",
       "2  B00FLYWNYQ   Plus the aroma stayed in the pot, so the rice...\n",
       "3  B00FLYWNYQ   This is the quietest rice cooker or pressure ...\n",
       "4  B00FLYWNYQ   There was only quiet musical beeping when ope..."
      ]
     },
     "execution_count": 117,
     "metadata": {},
     "output_type": "execute_result"
    }
   ],
   "source": [
    "df_sentences.head()"
   ]
  },
  {
   "cell_type": "markdown",
   "metadata": {},
   "source": [
    "# Tokenization : Tokenizing each sentence into words"
   ]
  },
  {
   "cell_type": "code",
   "execution_count": 78,
   "metadata": {},
   "outputs": [],
   "source": [
    "tokenizer = RegexpTokenizer(r'\\w+')"
   ]
  },
  {
   "cell_type": "code",
   "execution_count": 79,
   "metadata": {},
   "outputs": [],
   "source": [
    "#Applying this on one sentence\n",
    "doc = df_sentences.sentences[0]"
   ]
  },
  {
   "cell_type": "code",
   "execution_count": 80,
   "metadata": {},
   "outputs": [
    {
     "name": "stdout",
     "output_type": "stream",
     "text": [
      "162 characters in string vs 32 words in a list\n"
     ]
    }
   ],
   "source": [
    "tokens = tokenizer.tokenize(doc.lower())\n",
    "print('{} characters in string vs {} words in a list'.format(len(doc), len(tokens)))"
   ]
  },
  {
   "cell_type": "code",
   "execution_count": 81,
   "metadata": {},
   "outputs": [
    {
     "name": "stdout",
     "output_type": "stream",
     "text": [
      "32 words in a list after removing numbers\n"
     ]
    }
   ],
   "source": [
    "docs = [token for token in tokens if not token.isnumeric()]\n",
    "print('{} words in a list after removing numbers'.format(len(docs)))"
   ]
  },
  {
   "cell_type": "code",
   "execution_count": 82,
   "metadata": {},
   "outputs": [
    {
     "name": "stdout",
     "output_type": "stream",
     "text": [
      "16 words in a list after words that are less than 4 chars\n"
     ]
    }
   ],
   "source": [
    "# Remove words that are less than 4 characters only\n",
    "docs = [token for token in docs if len(token) > 3]\n",
    "print('{} words in a list after words that are less than 4 chars'.format(len(docs)))"
   ]
  },
  {
   "cell_type": "markdown",
   "metadata": {},
   "source": [
    "# Preparing stopwords and removing them"
   ]
  },
  {
   "cell_type": "code",
   "execution_count": 83,
   "metadata": {},
   "outputs": [
    {
     "name": "stdout",
     "output_type": "stream",
     "text": [
      "234\n",
      "['out', \"it's\", 'him', 'his', 'how', 'i', 'must', 'be', 'here', 'them']\n"
     ]
    }
   ],
   "source": [
    "#create a merged list of stop words\n",
    "nltk_stpwd = stopwords.words('english')\n",
    "#Extend stopwords with commonly found tokens in review texts\n",
    "nltk_stpwd.extend(['generally', 'used', 'personally', 'review', 'honestly','truly','whatever','done','star','one','two','three','four','five','since','ever','even','much','thing','also','go','come','must'])\n",
    "stop_words_stpwd = get_stop_words('en')\n",
    "merged_stopwords = list(set(nltk_stpwd + stop_words_stpwd))\n",
    "\n",
    "print(len(set(merged_stopwords)))\n",
    "print(merged_stopwords[:10])"
   ]
  },
  {
   "cell_type": "code",
   "execution_count": 84,
   "metadata": {},
   "outputs": [
    {
     "name": "stdout",
     "output_type": "stream",
     "text": [
      "15 words in a list after removing stop words\n"
     ]
    }
   ],
   "source": [
    "stopped_tokens = [token for token in docs if not token in merged_stopwords]\n",
    "print('{} words in a list after removing stop words'.format(len(stopped_tokens)))"
   ]
  },
  {
   "cell_type": "markdown",
   "metadata": {},
   "source": [
    "# Lemmatizing"
   ]
  },
  {
   "cell_type": "markdown",
   "metadata": {},
   "source": [
    "\"keeping only noun, adj, vb, adv\""
   ]
  },
  {
   "cell_type": "code",
   "execution_count": 85,
   "metadata": {},
   "outputs": [],
   "source": [
    "# Instantiate a WordNetLemmatizer\n",
    "lemmatizer = WordNetLemmatizer()"
   ]
  },
  {
   "cell_type": "code",
   "execution_count": 86,
   "metadata": {},
   "outputs": [
    {
     "name": "stdout",
     "output_type": "stream",
     "text": [
      "['excited', 'soon', 'followed', 'manual', 'setting', 'brown', 'rice', 'recipe', 'included', 'cookbook']\n"
     ]
    }
   ],
   "source": [
    "lemm_tokens = [lemmatizer.lemmatize(token) for token in stopped_tokens]\n",
    "print(lemm_tokens[:10])"
   ]
  },
  {
   "cell_type": "code",
   "execution_count": 118,
   "metadata": {},
   "outputs": [],
   "source": [
    "#Applying all the above steps on entire data\n",
    "num_sentences = df_sentences.shape[0]\n",
    "\n",
    "doc_set = [df_sentences.sentences[i] for i in range(num_sentences)]\n",
    "\n",
    "texts = []\n",
    "\n",
    "for doc in doc_set:\n",
    "    # putting our 5 steps together\n",
    "    tokens = tokenizer.tokenize(doc.lower())\n",
    "    tokens_alp = [token for token in tokens if not token.isnumeric()]\n",
    "    token_gr_3 = [token for token in tokens_alp if len(token) > 3]\n",
    "    stopped_tokens = [token for token in token_gr_3 if not token in merged_stopwords]\n",
    "    lemm_tokens = [lemmatizer.lemmatize(token) for token in stopped_tokens]\n",
    "    # add tokens to list\n",
    "    texts.append(lemm_tokens)"
   ]
  },
  {
   "cell_type": "code",
   "execution_count": 119,
   "metadata": {},
   "outputs": [],
   "source": [
    "bigram = Phrases(texts, min_count=30)\n",
    "for idx in range(len(texts)):\n",
    "    for token in bigram[texts[idx]]:\n",
    "        if '_' in token:\n",
    "            # Token is a bigram, add to document.\n",
    "            texts[idx].append(token)"
   ]
  },
  {
   "cell_type": "code",
   "execution_count": 120,
   "metadata": {},
   "outputs": [],
   "source": [
    "#Saving file for later use\n",
    "with open('texts_s.pkl', 'wb') as f:\n",
    "    pickle.dump(texts, f)"
   ]
  },
  {
   "cell_type": "code",
   "execution_count": 121,
   "metadata": {},
   "outputs": [
    {
     "name": "stdout",
     "output_type": "stream",
     "text": [
      "Dictionary(24046 unique tokens: ['brown', 'brown_rice', 'button', 'cookbook', 'excited']...)\n"
     ]
    }
   ],
   "source": [
    "# Gensim's Dictionary encapsulates the mapping between normalized words and their integer ids.\n",
    "texts_dict = corpora.Dictionary(texts)\n",
    "# saving for later use\n",
    "texts_dict.save('auto_review_s.dict') \n",
    "# Examine each token’s unique id\n",
    "print(texts_dict)"
   ]
  },
  {
   "cell_type": "code",
   "execution_count": 122,
   "metadata": {},
   "outputs": [
    {
     "name": "stdout",
     "output_type": "stream",
     "text": [
      "IDs 1 through 10: [('brown', 0), ('brown_rice', 1), ('button', 2), ('cookbook', 3), ('excited', 4), ('followed', 5), ('included', 6), ('instead', 7), ('manual', 8), ('program', 9)]\n"
     ]
    }
   ],
   "source": [
    "print(\"IDs 1 through 10: {}\".format(sorted(texts_dict.token2id.items(), key=operator.itemgetter(1), reverse = False)[:10]))"
   ]
  },
  {
   "cell_type": "code",
   "execution_count": 123,
   "metadata": {},
   "outputs": [
    {
     "name": "stdout",
     "output_type": "stream",
     "text": [
      "Dictionary(4946 unique tokens: ['brown', 'brown_rice', 'button', 'cookbook', 'excited']...)\n",
      "top terms:\n",
      "[('brown', 0), ('brown_rice', 1), ('button', 2), ('cookbook', 3), ('excited', 4), ('followed', 5), ('included', 6), ('instead', 7), ('manual', 8), ('program', 9), ('recipe', 10), ('rice', 11), ('setting', 12), ('soon', 13), ('using', 14), ('best', 15), ('ended', 16), ('jasmine', 17), ('jasmine_rice', 18), ('texture', 19), ('aroma', 20), ('figure', 21), ('manually', 22), ('plus', 23), ('read', 24), ('read_manual', 25), ('really', 26), ('simple', 27), ('stayed', 28), ('super', 29), ('well', 30), ('work', 31), ('combined', 32), ('cooker', 33), ('like', 34), ('one', 35), ('owned', 36), ('pressure', 37), ('pressure_cooker', 38), ('rice_cooker', 39), ('seen', 40), ('separate', 41), ('beeping', 42), ('closing', 43), ('cooking', 44), ('opening', 45), ('quiet', 46), ('steam', 47), ('throughout', 48), ('time', 49), ('tiny', 50), ('whole', 51), ('display', 52), ('except', 53), ('front', 54), ('metal', 55), ('part', 56), ('side', 57), ('tell', 58), ('touch', 59), ('cycle', 60), ('hear', 61), ('automatic', 62), ('continues', 63), ('count', 64), ('food', 65), ('holding', 66), ('know', 67), ('long', 68), ('nice', 69), ('switch', 70), ('timer', 71), ('warm', 72), ('back', 73), ('catcher', 74), ('condensation', 75), ('needed', 76), ('everything', 77), ('inside', 78), ('brand', 79), ('came', 80), ('clean', 81), ('grain', 82), ('inner', 83), ('mark', 84), ('mine', 85), ('people', 86), ('posted', 87), ('show', 88), ('care', 89), ('cookware', 90), ('expect', 91), ('feel', 92), ('different', 93), ('experience', 94), ('report', 95), ('thought', 96), ('based', 97), ('combination', 98), ('feature', 99)]\n"
     ]
    }
   ],
   "source": [
    "#Filter tokens that appear too rare are too frequent\n",
    "texts_dict.filter_extremes(no_below = 20, no_above = 0.15) # inplace filter\n",
    "print(texts_dict)\n",
    "print(\"top terms:\")\n",
    "print(sorted(texts_dict.token2id.items(), key=operator.itemgetter(1), reverse = False)[:100])"
   ]
  },
  {
   "cell_type": "code",
   "execution_count": 124,
   "metadata": {},
   "outputs": [
    {
     "data": {
      "text/plain": [
       "300677"
      ]
     },
     "execution_count": 124,
     "metadata": {},
     "output_type": "execute_result"
    }
   ],
   "source": [
    "#Create bag of words corpus for all the sentences\n",
    "corpus = [texts_dict.doc2bow(text) for text in texts]\n",
    "len(corpus)"
   ]
  },
  {
   "cell_type": "markdown",
   "metadata": {},
   "source": [
    "# Applying LDA Model using Gensim Libray"
   ]
  },
  {
   "cell_type": "code",
   "execution_count": 125,
   "metadata": {},
   "outputs": [],
   "source": [
    "#Save corpus for later use\n",
    "gensim.corpora.MmCorpus.serialize('amzn_h_k_sentences.mm', corpus)"
   ]
  },
  {
   "cell_type": "markdown",
   "metadata": {},
   "source": [
    "In order to generate most accurate topics selcting the number of topics while applying the model is important. We can evaluate the model performance based coherence coefficient. The more the coherence value the more accurate the topics are."
   ]
  },
  {
   "cell_type": "code",
   "execution_count": 126,
   "metadata": {},
   "outputs": [],
   "source": [
    "#Build LDA model with num_topics = 5\n",
    "lda_model = gensim.models.LdaModel(corpus=corpus, alpha='auto',eta='auto',id2word=texts_dict,num_topics=5,\n",
    "                                   chunksize=10000,passes=10)"
   ]
  },
  {
   "cell_type": "code",
   "execution_count": 127,
   "metadata": {},
   "outputs": [],
   "source": [
    "lda_model.save('LDA_Model_sent.lda')"
   ]
  },
  {
   "cell_type": "code",
   "execution_count": 129,
   "metadata": {},
   "outputs": [
    {
     "name": "stdout",
     "output_type": "stream",
     "text": [
      "[(0,\n",
      "  '0.028*\"make\" + 0.022*\"keep\" + 0.020*\"lock\" + 0.018*\"bag\" + 0.017*\"garbage\" '\n",
      "  '+ 0.015*\"open\" + 0.013*\"hold\" + 0.012*\"time\" + 0.011*\"hard\" + 0.010*\"take\"'),\n",
      " (1,\n",
      "  '0.034*\"bowl\" + 0.028*\"side\" + 0.019*\"hand\" + 0.019*\"recommend\" + '\n",
      "  '0.016*\"scrape\" + 0.015*\"towel\" + 0.014*\"smell\" + 0.014*\"plastic\" + '\n",
      "  '0.013*\"long\" + 0.012*\"bottom\"'),\n",
      " (2,\n",
      "  '0.061*\"great\" + 0.044*\"love\" + 0.036*\"star\" + 0.032*\"work\" + 0.031*\"good\" + '\n",
      "  '0.030*\"like\" + 0.028*\"well\" + 0.022*\"product\" + 0.019*\"nice\" + '\n",
      "  '0.018*\"easy\"'),\n",
      " (3,\n",
      "  '0.061*\"trash\" + 0.025*\"kitchen\" + 0.022*\"bought\" + 0.021*\"mixer\" + '\n",
      "  '0.019*\"time\" + 0.019*\"year\" + 0.014*\"first\" + 0.014*\"beater\" + 0.013*\"best\" '\n",
      "  '+ 0.011*\"blender\"'),\n",
      " (4,\n",
      "  '0.117*\"mattress\" + 0.061*\"blade\" + 0.042*\"soft\" + 0.037*\"comfortable\" + '\n",
      "  '0.036*\"rice\" + 0.030*\"sheet\" + 0.023*\"sleep\" + 0.018*\"slim\" + 0.018*\"night\" '\n",
      "  '+ 0.017*\"firm\"')]\n"
     ]
    }
   ],
   "source": [
    "pprint(lda_model.print_topics())\n",
    "doc_lda = lda_model[corpus]"
   ]
  },
  {
   "cell_type": "code",
   "execution_count": 128,
   "metadata": {},
   "outputs": [],
   "source": [
    "top_topics = lda_model.top_topics(corpus, topn=20)"
   ]
  },
  {
   "cell_type": "code",
   "execution_count": 135,
   "metadata": {},
   "outputs": [
    {
     "name": "stdout",
     "output_type": "stream",
     "text": [
      "\n",
      "Perplexity:  -7.205779213757708\n"
     ]
    }
   ],
   "source": [
    "# Compute Perplexity\n",
    "print('\\nPerplexity: ', lda_model.log_perplexity(corpus))"
   ]
  },
  {
   "cell_type": "code",
   "execution_count": 130,
   "metadata": {},
   "outputs": [
    {
     "name": "stdout",
     "output_type": "stream",
     "text": [
      "Average topic coherence: -2.6975.\n"
     ]
    }
   ],
   "source": [
    "#Find the average topic coherence\n",
    "avg_topic_coherence = sum([t[1] for t in top_topics]) / 10\n",
    "print('Average topic coherence: %.4f.' % avg_topic_coherence)"
   ]
  },
  {
   "cell_type": "code",
   "execution_count": 131,
   "metadata": {},
   "outputs": [
    {
     "name": "stdout",
     "output_type": "stream",
     "text": [
      "Topic 0:\n",
      "([(0.06064553, 'great'),\n",
      "  (0.04398131, 'love'),\n",
      "  (0.036150347, 'star'),\n",
      "  (0.03175187, 'work'),\n",
      "  (0.031360373, 'good'),\n",
      "  (0.030233955, 'like'),\n",
      "  (0.027882062, 'well'),\n",
      "  (0.021707546, 'product'),\n",
      "  (0.019282758, 'nice'),\n",
      "  (0.017577827, 'easy'),\n",
      "  (0.01733877, 'price'),\n",
      "  (0.017127572, 'really'),\n",
      "  (0.015333744, 'quality'),\n",
      "  (0.014677705, 'perfect'),\n",
      "  (0.01262261, 'made'),\n",
      "  (0.012251725, 'look'),\n",
      "  (0.012108299, 'clean'),\n",
      "  (0.011374599, 'little'),\n",
      "  (0.011201892, 'size'),\n",
      "  (0.010459939, 'better')],\n",
      " -3.1004794737812764)\n",
      "Topic 1:\n",
      "([(0.0607786, 'trash'),\n",
      "  (0.024959132, 'kitchen'),\n",
      "  (0.022215215, 'bought'),\n",
      "  (0.020725831, 'mixer'),\n",
      "  (0.01939201, 'time'),\n",
      "  (0.019185482, 'year'),\n",
      "  (0.01383468, 'first'),\n",
      "  (0.013681788, 'beater'),\n",
      "  (0.012694589, 'best'),\n",
      "  (0.011241516, 'blender'),\n",
      "  (0.011176721, 'happy'),\n",
      "  (0.011104481, 'purchase'),\n",
      "  (0.011040083, 'month'),\n",
      "  (0.010577101, 'using'),\n",
      "  (0.010235704, 'kitchenaid'),\n",
      "  (0.009690567, 'never'),\n",
      "  (0.009156384, 'worth'),\n",
      "  (0.008853965, 'every'),\n",
      "  (0.008770502, 'came'),\n",
      "  (0.008701442, 'purchased')],\n",
      " -3.976681146108922)\n",
      "Topic 2:\n",
      "([(0.02824617, 'make'),\n",
      "  (0.02213037, 'keep'),\n",
      "  (0.020466283, 'lock'),\n",
      "  (0.0177355, 'bag'),\n",
      "  (0.01677646, 'garbage'),\n",
      "  (0.015056545, 'open'),\n",
      "  (0.012651833, 'hold'),\n",
      "  (0.011564996, 'time'),\n",
      "  (0.010925565, 'hard'),\n",
      "  (0.010289228, 'take'),\n",
      "  (0.010116352, 'close'),\n",
      "  (0.009417604, 'water'),\n",
      "  (0.009290778, 'button'),\n",
      "  (0.009201173, 'sure'),\n",
      "  (0.008291121, 'around'),\n",
      "  (0.008205655, 'back'),\n",
      "  (0.008086634, 'want'),\n",
      "  (0.007946223, 'right'),\n",
      "  (0.00783721, 'making'),\n",
      "  (0.0076171053, 'step')],\n",
      " -4.179690188722916)\n",
      "Topic 3:\n",
      "([(0.03433971, 'bowl'),\n",
      "  (0.02826257, 'side'),\n",
      "  (0.01925023, 'hand'),\n",
      "  (0.019100135, 'recommend'),\n",
      "  (0.016404409, 'scrape'),\n",
      "  (0.014619371, 'towel'),\n",
      "  (0.014265193, 'smell'),\n",
      "  (0.013734913, 'plastic'),\n",
      "  (0.013176261, 'long'),\n",
      "  (0.012030952, 'bottom'),\n",
      "  (0.011858332, 'mixing'),\n",
      "  (0.010239485, 'issue'),\n",
      "  (0.010216957, 'can'),\n",
      "  (0.009042117, 'metal'),\n",
      "  (0.008739638, 'stick'),\n",
      "  (0.008580293, 'wash'),\n",
      "  (0.008508806, 'spatula'),\n",
      "  (0.0081202565, 'part'),\n",
      "  (0.0079904515, 'highly'),\n",
      "  (0.007832398, 'batter')],\n",
      " -5.6417421370167595)\n",
      "Topic 4:\n",
      "([(0.11728784, 'mattress'),\n",
      "  (0.061451454, 'blade'),\n",
      "  (0.04230539, 'soft'),\n",
      "  (0.037070088, 'comfortable'),\n",
      "  (0.035787754, 'rice'),\n",
      "  (0.029869182, 'sheet'),\n",
      "  (0.02273941, 'sleep'),\n",
      "  (0.018351935, 'slim'),\n",
      "  (0.018230185, 'night'),\n",
      "  (0.016838472, 'firm'),\n",
      "  (0.013724664, 'cooker'),\n",
      "  (0.013050705, 'sleeping'),\n",
      "  (0.012113377, 'attachment'),\n",
      "  (0.010453265, 'cook'),\n",
      "  (0.010161238, 'absolutely'),\n",
      "  (0.009504971, 'guest'),\n",
      "  (0.009365111, 'comfy'),\n",
      "  (0.008938155, 'rice_cooker'),\n",
      "  (0.0086475825, 'cooking'),\n",
      "  (0.008012454, 'topper')],\n",
      " -10.076325800864225)\n"
     ]
    }
   ],
   "source": [
    "#Print topics and word distribution for each topic\n",
    "counter = 0\n",
    "for topic in top_topics:\n",
    "    print('Topic {}:'.format(counter))\n",
    "    counter += 1\n",
    "    pprint(topic)"
   ]
  },
  {
   "cell_type": "code",
   "execution_count": 132,
   "metadata": {},
   "outputs": [
    {
     "name": "stderr",
     "output_type": "stream",
     "text": [
      "/Users/harika_pradeep/miniconda3/envs/tensorflow/lib/python3.6/site-packages/pyLDAvis/_prepare.py:257: FutureWarning: Sorting because non-concatenation axis is not aligned. A future version\n",
      "of pandas will change to not sort by default.\n",
      "\n",
      "To accept the future behavior, pass 'sort=False'.\n",
      "\n",
      "To retain the current behavior and silence the warning, pass 'sort=True'.\n",
      "\n",
      "  return pd.concat([default_term_info] + list(topic_dfs))\n"
     ]
    }
   ],
   "source": [
    "# Visualize the topics\n",
    "pyLDAvis.enable_notebook()\n",
    "#Prepare topic visualization\n",
    "vis = pyLDAvis.gensim.prepare(lda_model, corpus, texts_dict,sort_topics = False)"
   ]
  },
  {
   "cell_type": "code",
   "execution_count": 133,
   "metadata": {},
   "outputs": [
    {
     "data": {
      "text/html": [
       "\n",
       "<link rel=\"stylesheet\" type=\"text/css\" href=\"https://cdn.rawgit.com/bmabey/pyLDAvis/files/ldavis.v1.0.0.css\">\n",
       "\n",
       "\n",
       "<div id=\"ldavis_el814115489574128414951620\"></div>\n",
       "<script type=\"text/javascript\">\n",
       "\n",
       "var ldavis_el814115489574128414951620_data = {\"mdsDat\": {\"x\": [0.16359519794278876, 0.008668183209566246, 0.007536945352371934, 0.22168130796853555, -0.40148163447326224], \"y\": [-0.12048492627723872, 0.32234995680366346, 0.18385543291583617, -0.22358329434190075, -0.16213716910036033], \"topics\": [1, 2, 3, 4, 5], \"cluster\": [1, 1, 1, 1, 1], \"Freq\": [19.223073959350586, 15.243728637695312, 32.34315490722656, 22.64476203918457, 10.545282363891602]}, \"tinfo\": {\"Category\": [\"Default\", \"Default\", \"Default\", \"Default\", \"Default\", \"Default\", \"Default\", \"Default\", \"Default\", \"Default\", \"Default\", \"Default\", \"Default\", \"Default\", \"Default\", \"Default\", \"Default\", \"Default\", \"Default\", \"Default\", \"Default\", \"Default\", \"Default\", \"Default\", \"Default\", \"Default\", \"Default\", \"Default\", \"Default\", \"Default\", \"Topic1\", \"Topic1\", \"Topic1\", \"Topic1\", \"Topic1\", \"Topic1\", \"Topic1\", \"Topic1\", \"Topic1\", \"Topic1\", \"Topic1\", \"Topic1\", \"Topic1\", \"Topic1\", \"Topic1\", \"Topic1\", \"Topic1\", \"Topic1\", \"Topic1\", \"Topic1\", \"Topic1\", \"Topic1\", \"Topic1\", \"Topic1\", \"Topic1\", \"Topic1\", \"Topic1\", \"Topic1\", \"Topic1\", \"Topic1\", \"Topic1\", \"Topic1\", \"Topic1\", \"Topic1\", \"Topic1\", \"Topic1\", \"Topic1\", \"Topic1\", \"Topic1\", \"Topic1\", \"Topic1\", \"Topic1\", \"Topic2\", \"Topic2\", \"Topic2\", \"Topic2\", \"Topic2\", \"Topic2\", \"Topic2\", \"Topic2\", \"Topic2\", \"Topic2\", \"Topic2\", \"Topic2\", \"Topic2\", \"Topic2\", \"Topic2\", \"Topic2\", \"Topic2\", \"Topic2\", \"Topic2\", \"Topic2\", \"Topic2\", \"Topic2\", \"Topic2\", \"Topic2\", \"Topic2\", \"Topic2\", \"Topic2\", \"Topic2\", \"Topic2\", \"Topic2\", \"Topic2\", \"Topic2\", \"Topic2\", \"Topic2\", \"Topic2\", \"Topic2\", \"Topic2\", \"Topic3\", \"Topic3\", \"Topic3\", \"Topic3\", \"Topic3\", \"Topic3\", \"Topic3\", \"Topic3\", \"Topic3\", \"Topic3\", \"Topic3\", \"Topic3\", \"Topic3\", \"Topic3\", \"Topic3\", \"Topic3\", \"Topic3\", \"Topic3\", \"Topic3\", \"Topic3\", \"Topic3\", \"Topic3\", \"Topic3\", \"Topic3\", \"Topic3\", \"Topic3\", \"Topic3\", \"Topic3\", \"Topic3\", \"Topic3\", \"Topic3\", \"Topic3\", \"Topic3\", \"Topic3\", \"Topic3\", \"Topic3\", \"Topic3\", \"Topic3\", \"Topic3\", \"Topic4\", \"Topic4\", \"Topic4\", \"Topic4\", \"Topic4\", \"Topic4\", \"Topic4\", \"Topic4\", \"Topic4\", \"Topic4\", \"Topic4\", \"Topic4\", \"Topic4\", \"Topic4\", \"Topic4\", \"Topic4\", \"Topic4\", \"Topic4\", \"Topic4\", \"Topic4\", \"Topic4\", \"Topic4\", \"Topic4\", \"Topic4\", \"Topic4\", \"Topic4\", \"Topic4\", \"Topic4\", \"Topic4\", \"Topic4\", \"Topic4\", \"Topic4\", \"Topic4\", \"Topic4\", \"Topic4\", \"Topic4\", \"Topic4\", \"Topic4\", \"Topic4\", \"Topic4\", \"Topic5\", \"Topic5\", \"Topic5\", \"Topic5\", \"Topic5\", \"Topic5\", \"Topic5\", \"Topic5\", \"Topic5\", \"Topic5\", \"Topic5\", \"Topic5\", \"Topic5\", \"Topic5\", \"Topic5\", \"Topic5\", \"Topic5\", \"Topic5\", \"Topic5\", \"Topic5\", \"Topic5\", \"Topic5\", \"Topic5\", \"Topic5\", \"Topic5\", \"Topic5\", \"Topic5\", \"Topic5\", \"Topic5\", \"Topic5\", \"Topic5\"], \"Freq\": [20995.0, 33295.0, 23363.0, 24154.0, 11000.0, 19847.0, 17433.0, 17218.0, 16615.0, 15308.0, 7573.0, 8886.0, 9218.0, 6636.0, 6406.0, 9598.0, 7313.0, 11918.0, 8540.0, 5347.0, 10587.0, 7222.0, 7967.0, 6679.0, 7375.0, 9651.0, 9520.0, 9404.0, 5788.0, 8419.0, 7221.22607421875, 9216.8359375, 6678.22802734375, 5787.1630859375, 5474.22412109375, 4913.00927734375, 3357.4150390625, 3301.005126953125, 3031.6171875, 3002.378662109375, 2705.425048828125, 2369.1259765625, 2485.4912109375, 2384.014892578125, 2329.1572265625, 2235.955078125, 2160.59521484375, 2111.398193359375, 2134.524169921875, 2101.58740234375, 2091.22998046875, 2204.993896484375, 1886.7615966796875, 2211.19775390625, 1753.9417724609375, 1590.375244140625, 1774.37744140625, 1468.6646728515625, 1461.0262451171875, 1446.3284912109375, 4128.34228515625, 2557.312255859375, 2252.267578125, 3073.0009765625, 3565.054443359375, 1920.9713134765625, 2592.883544921875, 2638.7001953125, 3773.703369140625, 2474.560791015625, 2677.537353515625, 2216.852294921875, 8885.6103515625, 7313.11328125, 4942.27685546875, 4244.7412109375, 3691.2060546875, 3782.851806640625, 3068.416015625, 2261.434814453125, 2220.203369140625, 2101.166015625, 2643.7001953125, 2067.578369140625, 2026.680908203125, 2201.705810546875, 1851.2274169921875, 1839.0538330078125, 1802.9163818359375, 1754.1824951171875, 1686.514892578125, 1703.9906005859375, 1550.76513671875, 1589.48388671875, 1503.7576904296875, 1486.9122314453125, 1549.630126953125, 1414.6212158203125, 1351.910400390625, 1350.4434814453125, 1299.03076171875, 1313.202392578125, 3113.08251953125, 4981.115234375, 2649.529296875, 1425.7198486328125, 2339.703125, 3409.438232421875, 3553.992919921875, 33295.12109375, 19846.974609375, 17432.158203125, 17217.220703125, 15307.5869140625, 10586.4658203125, 9650.4375, 9519.1923828125, 9403.2421875, 11917.703125, 8418.4091796875, 8058.236328125, 6726.34423828125, 6149.97314453125, 5477.02587890625, 4211.63671875, 4755.8623046875, 3745.326904296875, 3319.676513671875, 3307.68359375, 3127.95556640625, 3314.637939453125, 2887.7265625, 2850.800048828125, 2751.4599609375, 24146.267578125, 2512.261962890625, 2373.9541015625, 2179.1787109375, 2190.666259765625, 16598.8046875, 5742.6318359375, 3775.442138671875, 3630.62841796875, 6929.96435546875, 6647.6015625, 3810.91015625, 6244.79150390625, 4883.9462890625, 23362.423828125, 8539.2109375, 7966.712890625, 7374.62451171875, 5317.85302734375, 4296.171875, 4268.40380859375, 4243.64990234375, 3934.4580078125, 4321.078125, 3519.582763671875, 3344.709716796875, 3341.8056640625, 3724.915283203125, 3042.28662109375, 3029.9140625, 2929.307861328125, 2734.8798828125, 4879.6181640625, 2457.502685546875, 2266.5234375, 2258.569580078125, 2205.962158203125, 2429.23291015625, 2078.379638671875, 2048.98876953125, 1927.8502197265625, 1873.80810546875, 1810.5382080078125, 1810.9078369140625, 9593.93359375, 2642.275146484375, 3371.255615234375, 3403.337646484375, 4065.686279296875, 3024.6953125, 5259.08349609375, 7454.01123046875, 3315.3798828125, 2636.0634765625, 20994.748046875, 10999.9287109375, 7572.74658203125, 6635.6171875, 6406.07666015625, 5346.64111328125, 4070.398193359375, 3263.238037109375, 3014.118896484375, 2456.7412109375, 2336.101318359375, 2168.31787109375, 3285.031494140625, 1871.154541015625, 1818.881103515625, 1701.4080810546875, 1676.372802734375, 1599.9468994140625, 1547.933837890625, 1434.24462890625, 1260.1588134765625, 1288.110595703125, 1196.037841796875, 1083.6422119140625, 1037.9654541015625, 956.68505859375, 946.0484619140625, 934.4155883789062, 915.418701171875, 884.2013549804688, 1304.179443359375], \"Term\": [\"mattress\", \"great\", \"trash\", \"love\", \"blade\", \"star\", \"work\", \"good\", \"like\", \"well\", \"soft\", \"bowl\", \"make\", \"comfortable\", \"rice\", \"kitchen\", \"side\", \"product\", \"bought\", \"sheet\", \"nice\", \"keep\", \"mixer\", \"lock\", \"year\", \"easy\", \"price\", \"really\", \"bag\", \"quality\", \"keep\", \"make\", \"lock\", \"bag\", \"garbage\", \"open\", \"take\", \"close\", \"button\", \"sure\", \"around\", \"stay\", \"step\", \"dog\", \"soup\", \"full\", \"hour\", \"le\", \"thing\", \"place\", \"took\", \"locking\", \"cold\", \"trash_bag\", \"gallon\", \"couple\", \"easier\", \"difficult\", \"able\", \"move\", \"hold\", \"making\", \"away\", \"water\", \"hard\", \"feature\", \"right\", \"want\", \"time\", \"pedal\", \"back\", \"without\", \"bowl\", \"side\", \"recommend\", \"scrape\", \"smell\", \"towel\", \"mixing\", \"stick\", \"wash\", \"part\", \"can\", \"highly\", \"batter\", \"spatula\", \"stop\", \"get\", \"inch\", \"liner\", \"floor\", \"scraping\", \"dishwasher\", \"scrape_side\", \"highly_recommend\", \"drink\", \"dough\", \"anyone\", \"stainless\", \"break\", \"read\", \"cake\", \"bottom\", \"hand\", \"issue\", \"blend\", \"metal\", \"long\", \"plastic\", \"great\", \"star\", \"work\", \"good\", \"well\", \"nice\", \"easy\", \"price\", \"really\", \"product\", \"quality\", \"perfect\", \"look\", \"size\", \"color\", \"perfectly\", \"jar\", \"fit\", \"pretty\", \"space\", \"excellent\", \"foot\", \"looking\", \"foam\", \"sturdy\", \"love\", \"easy_clean\", \"fine\", \"seems\", \"store\", \"like\", \"better\", \"design\", \"small\", \"made\", \"clean\", \"feel\", \"little\", \"need\", \"trash\", \"bought\", \"mixer\", \"year\", \"first\", \"happy\", \"purchase\", \"month\", \"kitchenaid\", \"blender\", \"worth\", \"purchased\", \"problem\", \"never\", \"another\", \"money\", \"know\", \"amazon\", \"best\", \"review\", \"thought\", \"broke\", \"week\", \"beater_blade\", \"ordered\", \"second\", \"pillow\", \"many\", \"gift\", \"model\", \"kitchen\", \"think\", \"came\", \"every\", \"using\", \"last\", \"beater\", \"time\", \"still\", \"back\", \"mattress\", \"blade\", \"soft\", \"comfortable\", \"rice\", \"sheet\", \"sleep\", \"night\", \"firm\", \"cooker\", \"sleeping\", \"attachment\", \"slim\", \"cook\", \"absolutely\", \"guest\", \"comfy\", \"rice_cooker\", \"cooking\", \"topper\", \"shower\", \"slow\", \"recommended\", \"comfort\", \"warm\", \"coffee\", \"impressed\", \"tight\", \"spring\", \"motor\", \"slept\"], \"Total\": [20995.0, 33295.0, 23363.0, 24154.0, 11000.0, 19847.0, 17433.0, 17218.0, 16615.0, 15308.0, 7573.0, 8886.0, 9218.0, 6636.0, 6406.0, 9598.0, 7313.0, 11918.0, 8540.0, 5347.0, 10587.0, 7222.0, 7967.0, 6679.0, 7375.0, 9651.0, 9520.0, 9404.0, 5788.0, 8419.0, 7222.07275390625, 9218.0302734375, 6679.0966796875, 5788.1103515625, 5475.18212890625, 4913.86962890625, 3358.26025390625, 3301.87548828125, 3032.45751953125, 3003.317138671875, 2706.273193359375, 2369.97216796875, 2486.379150390625, 2384.896728515625, 2330.02099609375, 2236.811279296875, 2161.447509765625, 2112.252197265625, 2135.38916015625, 2102.43994140625, 2092.083740234375, 2205.904052734375, 1887.5986328125, 2212.238525390625, 1754.8289794921875, 1591.2225341796875, 1775.3980712890625, 1469.519775390625, 1461.87744140625, 1447.184814453125, 4137.09619140625, 2563.5361328125, 2266.576416015625, 3140.36328125, 3699.260498046875, 1960.272705078125, 3062.517333984375, 3306.7412109375, 11309.3798828125, 3563.4326171875, 5319.5791015625, 3162.2177734375, 8886.4697265625, 7313.9638671875, 4943.11865234375, 4245.60009765625, 3692.0703125, 3783.810302734375, 3069.273681640625, 2262.28466796875, 2221.041259765625, 2102.01318359375, 2644.76806640625, 2068.4189453125, 2027.542236328125, 2202.641845703125, 1852.081787109375, 1839.929443359375, 1803.7921142578125, 1755.0556640625, 1687.3582763671875, 1704.8514404296875, 1551.6026611328125, 1590.3492431640625, 1504.5938720703125, 1487.7513427734375, 1550.5474853515625, 1415.4705810546875, 1352.7564697265625, 1351.2950439453125, 1299.877685546875, 1314.060302734375, 3117.3994140625, 5019.5673828125, 2654.574462890625, 1426.667236328125, 2364.353271484375, 3530.170166015625, 6466.599609375, 33295.97265625, 19847.8203125, 17433.005859375, 17218.06640625, 15308.435546875, 10587.3125, 9651.283203125, 9520.0390625, 9404.0927734375, 11918.85546875, 8419.2529296875, 8059.09619140625, 6727.19775390625, 6150.822265625, 5477.87353515625, 4212.49560546875, 4756.94287109375, 3746.18310546875, 3320.525146484375, 3308.5595703125, 3128.802978515625, 3315.560791015625, 2888.586181640625, 2851.666015625, 2752.310302734375, 24154.013671875, 2513.1015625, 2374.80712890625, 2180.02783203125, 2191.520751953125, 16615.1875, 5779.68017578125, 3783.81591796875, 3637.293701171875, 7035.91259765625, 6783.05859375, 3853.9111328125, 6581.578125, 5915.599609375, 23363.552734375, 8540.0732421875, 7967.6181640625, 7375.486328125, 5318.76416015625, 4297.03466796875, 4269.265625, 4244.5146484375, 3935.36669921875, 4322.0888671875, 3520.4482421875, 3345.57080078125, 3342.674072265625, 3725.9052734375, 3043.14794921875, 3030.775146484375, 2930.173095703125, 2735.744140625, 4881.21728515625, 2458.36572265625, 2267.386962890625, 2259.438232421875, 2206.826416015625, 2430.2216796875, 2079.24072265625, 2049.8515625, 1928.708740234375, 1874.6693115234375, 1811.3955078125, 1811.77099609375, 9598.705078125, 2644.24658203125, 3385.743896484375, 3422.73583984375, 4121.96240234375, 3141.595947265625, 6171.28173828125, 11309.3798828125, 5434.53759765625, 5319.5791015625, 20995.5703125, 11000.806640625, 7573.5869140625, 6636.40673828125, 6406.8857421875, 5347.42333984375, 4071.189453125, 3264.02734375, 3014.91552734375, 2457.5234375, 2336.893798828125, 2169.140625, 3286.290771484375, 1871.9378662109375, 1819.6746826171875, 1702.1988525390625, 1677.161376953125, 1600.7415771484375, 1548.7191162109375, 1435.0648193359375, 1260.95703125, 1288.930419921875, 1196.828369140625, 1084.4364013671875, 1038.7484130859375, 957.474365234375, 946.8408203125, 935.224365234375, 916.2206420898438, 885.0601806640625, 1308.5931396484375], \"loglift\": [30.0, 29.0, 28.0, 27.0, 26.0, 25.0, 24.0, 23.0, 22.0, 21.0, 20.0, 19.0, 18.0, 17.0, 16.0, 15.0, 14.0, 13.0, 12.0, 11.0, 10.0, 9.0, 8.0, 7.0, 6.0, 5.0, 4.0, 3.0, 2.0, 1.0, 1.648900032043457, 1.648900032043457, 1.648900032043457, 1.648900032043457, 1.648900032043457, 1.648900032043457, 1.648800015449524, 1.648800015449524, 1.648800015449524, 1.6486999988555908, 1.6486999988555908, 1.6486999988555908, 1.6486999988555908, 1.6486999988555908, 1.6486999988555908, 1.6486999988555908, 1.6486999988555908, 1.6486999988555908, 1.6486999988555908, 1.6486999988555908, 1.6486999988555908, 1.6485999822616577, 1.6485999822616577, 1.6485999822616577, 1.6485999822616577, 1.6484999656677246, 1.6484999656677246, 1.6484999656677246, 1.6484999656677246, 1.6484999656677246, 1.6469000577926636, 1.6466000080108643, 1.642699956893921, 1.6274000406265259, 1.6121000051498413, 1.6288000345230103, 1.4825999736785889, 1.4234000444412231, 0.5515000224113464, 1.2843999862670898, 0.9625999927520752, 1.2939000129699707, 1.8809000253677368, 1.8809000253677368, 1.8808000087738037, 1.8808000087738037, 1.8808000087738037, 1.8806999921798706, 1.8806999921798706, 1.8805999755859375, 1.8805999755859375, 1.8805999755859375, 1.8805999755859375, 1.8805999755859375, 1.8805999755859375, 1.8805999755859375, 1.8804999589920044, 1.8804999589920044, 1.8804999589920044, 1.8804999589920044, 1.8804999589920044, 1.8804999589920044, 1.8804999589920044, 1.8804999589920044, 1.8803999423980713, 1.8803999423980713, 1.8803999423980713, 1.8803999423980713, 1.8803999423980713, 1.8803999423980713, 1.8803999423980713, 1.8803000450134277, 1.8796000480651855, 1.8732999563217163, 1.87909996509552, 1.8803000450134277, 1.8704999685287476, 1.8461999893188477, 1.2824000120162964, 1.1287000179290771, 1.1287000179290771, 1.1287000179290771, 1.1287000179290771, 1.1287000179290771, 1.1287000179290771, 1.1287000179290771, 1.1287000179290771, 1.1287000179290771, 1.1287000179290771, 1.1287000179290771, 1.1287000179290771, 1.128600001335144, 1.128600001335144, 1.128600001335144, 1.128600001335144, 1.128499984741211, 1.128499984741211, 1.128499984741211, 1.128499984741211, 1.128499984741211, 1.128499984741211, 1.128499984741211, 1.128499984741211, 1.128499984741211, 1.1283999681472778, 1.1283999681472778, 1.1283999681472778, 1.1283999681472778, 1.1283999681472778, 1.1277999877929688, 1.1223000288009644, 1.1266000270843506, 1.1268999576568604, 1.1136000156402588, 1.1086000204086304, 1.1174999475479126, 1.076200008392334, 0.9370999932289124, 1.485200047492981, 1.4851000308990479, 1.4851000308990479, 1.4851000308990479, 1.4851000308990479, 1.4850000143051147, 1.4850000143051147, 1.4850000143051147, 1.4850000143051147, 1.4850000143051147, 1.4850000143051147, 1.4850000143051147, 1.4850000143051147, 1.4850000143051147, 1.4850000143051147, 1.4850000143051147, 1.4848999977111816, 1.4848999977111816, 1.4848999977111816, 1.4848999977111816, 1.4848999977111816, 1.4848999977111816, 1.4848999977111816, 1.4847999811172485, 1.4847999811172485, 1.4847999811172485, 1.4847999811172485, 1.4847999811172485, 1.4847999811172485, 1.4847999811172485, 1.4846999645233154, 1.4845000505447388, 1.4809999465942383, 1.479599952697754, 1.471500039100647, 1.4472999572753906, 1.3252999782562256, 1.0684000253677368, 0.9909999966621399, 0.7831000089645386, 2.249500036239624, 2.2493999004364014, 2.2493999004364014, 2.2493999004364014, 2.2493999004364014, 2.249300003051758, 2.249300003051758, 2.2492001056671143, 2.2492001056671143, 2.2492001056671143, 2.2492001056671143, 2.2490999698638916, 2.2490999698638916, 2.2490999698638916, 2.2490999698638916, 2.249000072479248, 2.249000072479248, 2.249000072479248, 2.249000072479248, 2.2488999366760254, 2.2488999366760254, 2.2488999366760254, 2.248800039291382, 2.248800039291382, 2.248699903488159, 2.248699903488159, 2.248699903488159, 2.2486000061035156, 2.2486000061035156, 2.248500108718872, 2.2460999488830566], \"logprob\": [30.0, 29.0, 28.0, 27.0, 26.0, 25.0, 24.0, 23.0, 22.0, 21.0, 20.0, 19.0, 18.0, 17.0, 16.0, 15.0, 14.0, 13.0, 12.0, 11.0, 10.0, 9.0, 8.0, 7.0, 6.0, 5.0, 4.0, 3.0, 2.0, 1.0, -3.810800075531006, -3.566800117492676, -3.8889999389648438, -4.032199859619141, -4.087800025939941, -4.195899963378906, -4.576700210571289, -4.593599796295166, -4.678699970245361, -4.688399791717529, -4.792600154876709, -4.925300121307373, -4.877399921417236, -4.919000148773193, -4.942299842834473, -4.9832000732421875, -5.017399787902832, -5.040500164031982, -5.029600143432617, -5.045100212097168, -5.050099849700928, -4.997099876403809, -5.1529998779296875, -4.99429988861084, -5.22599983215332, -5.32390022277832, -5.214399814605713, -5.403500080108643, -5.408699989318848, -5.418799877166748, -4.369999885559082, -4.848899841308594, -4.975900173187256, -4.665200233459473, -4.516600131988525, -5.135000228881836, -4.835100173950195, -4.817500114440918, -4.459799766540527, -4.881800174713135, -4.8028998374938965, -4.991700172424316, -3.371500015258789, -3.566200017929077, -3.9581000804901123, -4.110199928283691, -4.249899864196777, -4.225399971008301, -4.434700012207031, -4.7399001121521, -4.758299827575684, -4.813399791717529, -4.583700180053711, -4.829500198364258, -4.8495001792907715, -4.76669979095459, -4.940000057220459, -4.946599960327148, -4.9664998054504395, -4.993899822235107, -5.033199787139893, -5.022900104522705, -5.117099761962891, -5.09250020980835, -5.147900104522705, -5.159200191497803, -5.1178998947143555, -5.209000110626221, -5.25439977645874, -5.255499839782715, -5.294300079345703, -5.283400058746338, -4.420300006866455, -3.950200080871582, -4.581500053405762, -5.201200008392334, -4.705900192260742, -4.3292999267578125, -4.287799835205078, -2.8027000427246094, -3.3201000690460205, -3.4498000144958496, -3.4621999263763428, -3.5797998905181885, -3.948499917984009, -4.041100025177002, -4.054800033569336, -4.0671000480651855, -3.8301000595092773, -4.177700042724609, -4.221399784088135, -4.402100086212158, -4.491700172424316, -4.607600212097168, -4.870299816131592, -4.748700141906738, -4.987599849700928, -5.10830020904541, -5.1118998527526855, -5.167699813842773, -5.109799861907959, -5.247700214385986, -5.260499954223633, -5.296000003814697, -3.124000072479248, -5.386899948120117, -5.443600177764893, -5.529200077056885, -5.523900032043457, -3.498800039291382, -4.560200214385986, -4.979599952697754, -5.018700122833252, -4.372300148010254, -4.413899898529053, -4.970300197601318, -4.476399898529053, -4.7221999168396, -2.80049991607666, -3.806999921798706, -3.8763999938964844, -3.9535999298095703, -4.280600070953369, -4.493899822235107, -4.500400066375732, -4.506199836730957, -4.581900119781494, -4.488100051879883, -4.693299770355225, -4.74429988861084, -4.745100021362305, -4.636600017547607, -4.839000225067139, -4.843100070953369, -4.8769001960754395, -4.9456000328063965, -4.366600036621094, -5.052499771118164, -5.133399963378906, -5.136899948120117, -5.1605000495910645, -5.0640997886657715, -5.220099925994873, -5.234300136566162, -5.295199871063232, -5.323699951171875, -5.357999801635742, -5.357800006866455, -3.690500020980835, -4.980000019073486, -4.736400127410889, -4.726900100708008, -4.549099922180176, -4.844799995422363, -4.2916998863220215, -3.9428999423980713, -4.7530999183654785, -4.982399940490723, -2.1431000232696533, -2.7894999980926514, -3.1628000736236572, -3.2948999404907227, -3.3301000595092773, -3.5109000205993652, -3.7836999893188477, -4.004700183868408, -4.084099769592285, -4.288599967956543, -4.338900089263916, -4.413400173187256, -3.997999906539917, -4.560800075531006, -4.589200019836426, -4.655900001525879, -4.67080020904541, -4.717400074005127, -4.750500202178955, -4.8267998695373535, -4.956200122833252, -4.934199810028076, -5.008399963378906, -5.107100009918213, -5.150100231170654, -5.2316999435424805, -5.2428998947143555, -5.255199909210205, -5.2758002281188965, -5.310500144958496, -4.921800136566162]}, \"token.table\": {\"Topic\": [1, 5, 4, 4, 2, 1, 5, 1, 5, 1, 2, 4, 1, 2, 2, 4, 4, 4, 5, 3, 4, 5, 2, 4, 1, 2, 4, 2, 2, 4, 1, 2, 3, 4, 2, 2, 3, 1, 5, 1, 3, 5, 5, 5, 5, 5, 5, 1, 3, 4, 1, 2, 1, 2, 2, 1, 3, 3, 1, 4, 3, 1, 3, 3, 5, 3, 5, 4, 3, 2, 3, 3, 1, 1, 1, 2, 4, 3, 3, 5, 1, 2, 4, 1, 2, 3, 2, 2, 1, 3, 1, 5, 2, 2, 4, 3, 1, 3, 4, 4, 4, 2, 4, 1, 1, 2, 3, 4, 5, 2, 1, 3, 1, 1, 1, 2, 3, 3, 3, 4, 5, 3, 4, 5, 1, 5, 1, 2, 3, 4, 5, 2, 3, 4, 2, 4, 4, 4, 5, 1, 1, 2, 3, 4, 4, 3, 5, 1, 4, 2, 1, 3, 3, 3, 4, 1, 2, 3, 3, 3, 4, 3, 4, 4, 3, 2, 3, 2, 5, 4, 5, 5, 1, 3, 4, 2, 2, 2, 4, 3, 5, 5, 2, 3, 5, 5, 4, 5, 5, 5, 2, 3, 2, 5, 1, 3, 2, 5, 2, 3, 1, 1, 2, 1, 2, 3, 4, 2, 3, 3, 1, 1, 1, 3, 4, 4, 5, 1, 2, 4, 5, 1, 5, 2, 4, 1, 1, 2, 4, 1, 2, 3, 4, 5, 5, 2, 1, 2, 4, 3, 1, 2, 4, 5, 3, 4, 4], \"Freq\": [0.9993997812271118, 0.9996291995048523, 0.9997279644012451, 0.9996227622032166, 0.9996675252914429, 0.9995295405387878, 0.9994741678237915, 0.9935689568519592, 0.006176716648042202, 0.503423273563385, 0.0011279088212177157, 0.4955279231071472, 0.9998081922531128, 0.9997325539588928, 0.14761924743652344, 0.8521730303764343, 0.9994972944259644, 0.9997506141662598, 0.000204866926651448, 0.9936535954475403, 0.006228718440979719, 0.9999266862869263, 0.9995322823524475, 0.9997480511665344, 0.0012831208296120167, 0.9985887408256531, 0.9998743534088135, 0.9999471306800842, 0.9990416169166565, 0.9998060464859009, 0.9998491406440735, 0.9991931319236755, 0.004134985152631998, 0.99564528465271, 0.9997096061706543, 0.01990252546966076, 0.9800888299942017, 0.9997348785400391, 0.999504566192627, 0.9996828436851501, 0.9998405575752258, 0.9995975494384766, 0.9999387264251709, 0.9993075132369995, 0.9994989633560181, 0.9997870326042175, 0.9995356798171997, 0.9992316961288452, 0.9976701140403748, 0.002114267786964774, 0.9996463060379028, 0.9996116161346436, 0.9996240139007568, 0.9996469020843506, 0.9994949698448181, 0.9992125034332275, 0.9998670220375061, 0.9995616674423218, 0.005551115144044161, 0.9942339062690735, 0.9997433423995972, 0.9799656867980957, 0.019895190373063087, 0.9888655543327332, 0.01089802011847496, 0.9996601343154907, 0.9996963143348694, 0.9998563528060913, 0.9996841549873352, 0.9997876882553101, 0.99976646900177, 0.9998308420181274, 0.9996373057365417, 0.9995275735855103, 0.9997841119766235, 0.9994948506355286, 0.9997816681861877, 0.9999380707740784, 0.9999707937240601, 0.999295711517334, 0.007570373360067606, 0.9923166036605835, 0.9997591972351074, 0.9637061357498169, 0.017841404303908348, 0.018382051959633827, 0.9997974634170532, 0.9996052980422974, 0.9978013038635254, 0.0019337234552949667, 0.9997929334640503, 0.9991119503974915, 0.9995608329772949, 0.9982767701148987, 0.0015068328939378262, 0.9998018145561218, 0.9998514652252197, 0.0004167228762526065, 0.9995098114013672, 0.9996527433395386, 0.9995996356010437, 0.036923907697200775, 0.962886393070221, 0.999407172203064, 0.0006620449130423367, 6.0185899201314896e-05, 0.9990257620811462, 6.0185899201314896e-05, 0.00024074359680525959, 0.9993985295295715, 0.051051586866378784, 0.9488605856895447, 0.9998357892036438, 0.9995901584625244, 0.033992696553468704, 0.9656758308410645, 0.9998219609260559, 0.9997970461845398, 0.9996682405471802, 0.00028980692150071263, 4.140098826610483e-05, 0.9849468469619751, 0.0021319196093827486, 0.012933645397424698, 0.9998882412910461, 0.00010848304373212159, 0.9974503517150879, 0.00117025850340724, 0.0007801723550073802, 0.9996429681777954, 0.9999728202819824, 0.9896998405456543, 0.010150766931474209, 0.9999223947525024, 0.9995850324630737, 0.9995744228363037, 0.9997442364692688, 0.9998787641525269, 0.998802125453949, 0.9991812705993652, 0.1308404952287674, 0.017918724566698074, 0.8256136775016785, 0.025694774463772774, 0.9997570514678955, 0.9998760223388672, 0.9996852278709412, 0.9998230338096619, 0.9994032979011536, 0.9995179772377014, 0.6945550441741943, 0.3053235709667206, 0.9998639822006226, 0.9998823404312134, 0.9996325373649597, 0.9997907280921936, 0.5495933294296265, 0.4503139555454254, 0.9998418688774109, 0.9998908638954163, 0.9997983574867249, 0.9999282360076904, 0.9997035264968872, 0.9998294115066528, 0.9998511672019958, 0.9993247985839844, 0.999883770942688, 0.9997736811637878, 0.9993078708648682, 0.9998512268066406, 0.9998617768287659, 0.9995367527008057, 0.8466891050338745, 0.15118281543254852, 0.0019591725431382656, 0.9998586773872375, 0.9991515874862671, 0.999500572681427, 0.9995845556259155, 0.9995285272598267, 0.9999208450317383, 0.999241054058075, 0.9998682141304016, 0.9998663067817688, 0.999707818031311, 0.9996175169944763, 0.0030567178037017584, 0.9964900016784668, 0.9996072053909302, 0.9992781281471252, 0.0016495781019330025, 0.9982696771621704, 0.9997100830078125, 0.999922513961792, 0.9995617866516113, 0.9998309016227722, 0.9997085928916931, 0.9986677169799805, 0.9994407892227173, 0.9999586939811707, 0.9995898008346558, 0.9994453191757202, 0.9994321465492249, 0.36304837465286255, 0.0009200414642691612, 0.02594516985118389, 0.6099874973297119, 0.999415934085846, 0.9997623562812805, 0.999523937702179, 0.9995614290237427, 0.9996247291564941, 0.9998177289962769, 0.0003781795676331967, 0.9991503953933716, 0.9998293519020081, 0.9986908435821533, 0.3337053060531616, 0.007162196561694145, 0.6590989232063293, 8.842218085192144e-05, 0.9994819760322571, 0.9992579817771912, 0.999785840511322, 0.9999335408210754, 0.9994401335716248, 0.01237274706363678, 0.00121301447506994, 0.9864233732223511, 0.7980666756629944, 0.0018144751666113734, 0.003628950333222747, 0.1953584998846054, 0.0015120627358555794, 0.9992794990539551, 0.9995312094688416, 0.9785491824150085, 0.021335111930966377, 0.9996255040168762, 0.9999715685844421, 0.7010902166366577, 0.06514415144920349, 0.09044285118579865, 0.143253892660141, 0.9999423027038574, 0.9998726844787598, 0.9999340772628784], \"Term\": [\"able\", \"absolutely\", \"amazon\", \"another\", \"anyone\", \"around\", \"attachment\", \"away\", \"away\", \"back\", \"back\", \"back\", \"bag\", \"batter\", \"beater\", \"beater\", \"beater_blade\", \"best\", \"best\", \"better\", \"better\", \"blade\", \"blend\", \"blender\", \"bottom\", \"bottom\", \"bought\", \"bowl\", \"break\", \"broke\", \"button\", \"cake\", \"came\", \"came\", \"can\", \"clean\", \"clean\", \"close\", \"coffee\", \"cold\", \"color\", \"comfort\", \"comfortable\", \"comfy\", \"cook\", \"cooker\", \"cooking\", \"couple\", \"design\", \"design\", \"difficult\", \"dishwasher\", \"dog\", \"dough\", \"drink\", \"easier\", \"easy\", \"easy_clean\", \"every\", \"every\", \"excellent\", \"feature\", \"feature\", \"feel\", \"feel\", \"fine\", \"firm\", \"first\", \"fit\", \"floor\", \"foam\", \"foot\", \"full\", \"gallon\", \"garbage\", \"get\", \"gift\", \"good\", \"great\", \"guest\", \"hand\", \"hand\", \"happy\", \"hard\", \"hard\", \"hard\", \"highly\", \"highly_recommend\", \"hold\", \"hold\", \"hour\", \"impressed\", \"inch\", \"issue\", \"issue\", \"jar\", \"keep\", \"kitchen\", \"kitchen\", \"kitchenaid\", \"know\", \"last\", \"last\", \"le\", \"like\", \"like\", \"like\", \"like\", \"like\", \"liner\", \"little\", \"little\", \"lock\", \"locking\", \"long\", \"long\", \"look\", \"looking\", \"love\", \"love\", \"love\", \"made\", \"made\", \"made\", \"make\", \"make\", \"making\", \"making\", \"making\", \"many\", \"mattress\", \"metal\", \"metal\", \"mixer\", \"mixing\", \"model\", \"money\", \"month\", \"motor\", \"move\", \"need\", \"need\", \"need\", \"need\", \"never\", \"nice\", \"night\", \"open\", \"ordered\", \"part\", \"pedal\", \"pedal\", \"perfect\", \"perfectly\", \"pillow\", \"place\", \"plastic\", \"plastic\", \"pretty\", \"price\", \"problem\", \"product\", \"purchase\", \"purchased\", \"quality\", \"read\", \"really\", \"recommend\", \"recommended\", \"review\", \"rice\", \"rice_cooker\", \"right\", \"right\", \"right\", \"scrape\", \"scrape_side\", \"scraping\", \"second\", \"seems\", \"sheet\", \"shower\", \"side\", \"size\", \"sleep\", \"sleeping\", \"slept\", \"slept\", \"slim\", \"slow\", \"small\", \"small\", \"smell\", \"soft\", \"soup\", \"space\", \"spatula\", \"spring\", \"stainless\", \"star\", \"stay\", \"step\", \"stick\", \"still\", \"still\", \"still\", \"still\", \"stop\", \"store\", \"sturdy\", \"sure\", \"take\", \"thing\", \"think\", \"think\", \"thought\", \"tight\", \"time\", \"time\", \"time\", \"time\", \"took\", \"topper\", \"towel\", \"trash\", \"trash_bag\", \"using\", \"using\", \"using\", \"want\", \"want\", \"want\", \"want\", \"want\", \"warm\", \"wash\", \"water\", \"water\", \"week\", \"well\", \"without\", \"without\", \"without\", \"without\", \"work\", \"worth\", \"year\"]}, \"R\": 30, \"lambda.step\": 0.01, \"plot.opts\": {\"xlab\": \"PC1\", \"ylab\": \"PC2\"}, \"topic.order\": [1, 2, 3, 4, 5]};\n",
       "\n",
       "function LDAvis_load_lib(url, callback){\n",
       "  var s = document.createElement('script');\n",
       "  s.src = url;\n",
       "  s.async = true;\n",
       "  s.onreadystatechange = s.onload = callback;\n",
       "  s.onerror = function(){console.warn(\"failed to load library \" + url);};\n",
       "  document.getElementsByTagName(\"head\")[0].appendChild(s);\n",
       "}\n",
       "\n",
       "if(typeof(LDAvis) !== \"undefined\"){\n",
       "   // already loaded: just create the visualization\n",
       "   !function(LDAvis){\n",
       "       new LDAvis(\"#\" + \"ldavis_el814115489574128414951620\", ldavis_el814115489574128414951620_data);\n",
       "   }(LDAvis);\n",
       "}else if(typeof define === \"function\" && define.amd){\n",
       "   // require.js is available: use it to load d3/LDAvis\n",
       "   require.config({paths: {d3: \"https://cdnjs.cloudflare.com/ajax/libs/d3/3.5.5/d3.min\"}});\n",
       "   require([\"d3\"], function(d3){\n",
       "      window.d3 = d3;\n",
       "      LDAvis_load_lib(\"https://cdn.rawgit.com/bmabey/pyLDAvis/files/ldavis.v1.0.0.js\", function(){\n",
       "        new LDAvis(\"#\" + \"ldavis_el814115489574128414951620\", ldavis_el814115489574128414951620_data);\n",
       "      });\n",
       "    });\n",
       "}else{\n",
       "    // require.js not available: dynamically load d3 & LDAvis\n",
       "    LDAvis_load_lib(\"https://cdnjs.cloudflare.com/ajax/libs/d3/3.5.5/d3.min.js\", function(){\n",
       "         LDAvis_load_lib(\"https://cdn.rawgit.com/bmabey/pyLDAvis/files/ldavis.v1.0.0.js\", function(){\n",
       "                 new LDAvis(\"#\" + \"ldavis_el814115489574128414951620\", ldavis_el814115489574128414951620_data);\n",
       "            })\n",
       "         });\n",
       "}\n",
       "</script>"
      ],
      "text/plain": [
       "PreparedData(topic_coordinates=              x         y  topics  cluster       Freq\n",
       "topic                                                \n",
       "0      0.163595 -0.120485       1        1  19.223074\n",
       "1      0.008668  0.322350       2        1  15.243729\n",
       "2      0.007537  0.183855       3        1  32.343155\n",
       "3      0.221681 -0.223583       4        1  22.644762\n",
       "4     -0.401482 -0.162137       5        1  10.545282, topic_info=     Category          Freq       Term         Total  loglift  logprob\n",
       "4523  Default  20995.000000   mattress  20995.000000  30.0000  30.0000\n",
       "124   Default  33295.000000      great  33295.000000  29.0000  29.0000\n",
       "2957  Default  23363.000000      trash  23363.000000  28.0000  28.0000\n",
       "163   Default  24154.000000       love  24154.000000  27.0000  27.0000\n",
       "2933  Default  11000.000000      blade  11000.000000  26.0000  26.0000\n",
       "...       ...           ...        ...           ...      ...      ...\n",
       "352    Topic5    946.048462  impressed    946.840820   2.2487  -5.2429\n",
       "3063   Topic5    934.415588      tight    935.224365   2.2486  -5.2552\n",
       "1324   Topic5    915.418701     spring    916.220642   2.2486  -5.2758\n",
       "3034   Topic5    884.201355      motor    885.060181   2.2485  -5.3105\n",
       "3313   Topic5   1304.179443      slept   1308.593140   2.2461  -4.9218\n",
       "\n",
       "[219 rows x 6 columns], token_table=      Topic      Freq        Term\n",
       "term                             \n",
       "929       1  0.999400        able\n",
       "646       5  0.999629  absolutely\n",
       "580       4  0.999728      amazon\n",
       "257       4  0.999623     another\n",
       "418       2  0.999668      anyone\n",
       "...     ...       ...         ...\n",
       "169       4  0.090443     without\n",
       "169       5  0.143254     without\n",
       "31        3  0.999942        work\n",
       "744       4  0.999873       worth\n",
       "277       4  0.999934        year\n",
       "\n",
       "[247 rows x 3 columns], R=30, lambda_step=0.01, plot_opts={'xlab': 'PC1', 'ylab': 'PC2'}, topic_order=[1, 2, 3, 4, 5])"
      ]
     },
     "execution_count": 133,
     "metadata": {},
     "output_type": "execute_result"
    }
   ],
   "source": [
    "vis"
   ]
  },
  {
   "cell_type": "code",
   "execution_count": 134,
   "metadata": {},
   "outputs": [],
   "source": [
    "pyLDAvis.save_html(vis,\"vis_sent.html\")"
   ]
  },
  {
   "cell_type": "markdown",
   "metadata": {},
   "source": [
    "# Applying LDA Mallet model"
   ]
  },
  {
   "cell_type": "code",
   "execution_count": 137,
   "metadata": {},
   "outputs": [],
   "source": [
    "mallet_path = '/Users/harika_pradeep/Downloads/mallet-2.0.8/bin/mallet' # update this path\n",
    "ldamallet = gensim.models.wrappers.LdaMallet(mallet_path, corpus=corpus, num_topics=5, id2word=texts_dict)"
   ]
  },
  {
   "cell_type": "code",
   "execution_count": 138,
   "metadata": {},
   "outputs": [
    {
     "name": "stdout",
     "output_type": "stream",
     "text": [
      "[(0,\n",
      "  [('pillow', 0.0383277953790279),\n",
      "   ('mattress', 0.02810306917408378),\n",
      "   ('back', 0.015229959747384985),\n",
      "   ('month', 0.01455908283046835),\n",
      "   ('side', 0.014453709492732753),\n",
      "   ('bowl', 0.013898743247325273),\n",
      "   ('blade', 0.011949336499216725),\n",
      "   ('button', 0.011812351160160448),\n",
      "   ('mixer', 0.011489206257771284),\n",
      "   ('problem', 0.010063153753749535)]),\n",
      " (1,\n",
      "  [('time', 0.05239099735527062),\n",
      "   ('make', 0.03314891833737731),\n",
      "   ('rice', 0.029035677434577283),\n",
      "   ('cooker', 0.024911871700691292),\n",
      "   ('made', 0.024045555551642655),\n",
      "   ('pressure', 0.016829775919932666),\n",
      "   ('cook', 0.01606910808174362),\n",
      "   ('cooking', 0.014625247833329224),\n",
      "   ('steam', 0.013434943530977846),\n",
      "   ('floor', 0.013177865974552843)]),\n",
      " (2,\n",
      "  [('great', 0.1184565550630848),\n",
      "   ('star', 0.07940570572445221),\n",
      "   ('good', 0.06227674081472696),\n",
      "   ('product', 0.04057334692830042),\n",
      "   ('nice', 0.03555153255509083),\n",
      "   ('sheet', 0.0344417393234423),\n",
      "   ('price', 0.033630203022799315),\n",
      "   ('quality', 0.028469664495633658),\n",
      "   ('soft', 0.026073204736042615),\n",
      "   ('recommend', 0.017441094256126406)]),\n",
      " (3,\n",
      "  [('love', 0.08043783644858168),\n",
      "   ('easy', 0.0498427999563431),\n",
      "   ('clean', 0.03765055468906782),\n",
      "   ('water', 0.030348586255822388),\n",
      "   ('cold', 0.017909890752130914),\n",
      "   ('long', 0.016198821967869932),\n",
      "   ('hour', 0.015991099625747712),\n",
      "   ('drink', 0.014283551559149817),\n",
      "   ('carpet', 0.014167367876267899),\n",
      "   ('easy_clean', 0.013090028271362835)]),\n",
      " (4,\n",
      "  [('work', 0.03760415195593843),\n",
      "   ('bought', 0.032082333003813024),\n",
      "   ('perfect', 0.026475780257025842),\n",
      "   ('year', 0.023887868945064256),\n",
      "   ('size', 0.020950430730122864),\n",
      "   ('kitchen', 0.02071388222002542),\n",
      "   ('purchased', 0.013327919785341053),\n",
      "   ('scale', 0.013200819093348398),\n",
      "   ('small', 0.012459398390057901),\n",
      "   ('blender', 0.011297839288236125)])]\n"
     ]
    }
   ],
   "source": [
    "pprint(ldamallet.show_topics(formatted=False))"
   ]
  },
  {
   "cell_type": "code",
   "execution_count": 151,
   "metadata": {},
   "outputs": [
    {
     "name": "stdout",
     "output_type": "stream",
     "text": [
      "\n",
      "Coherence Score:  0.3672662708907546\n"
     ]
    }
   ],
   "source": [
    "#Coeherenc coefficient calculation for Mallet LDA\n",
    "coherence_model_ldamallet = CoherenceModel(model=ldamallet, texts=texts, dictionary=texts_dict, coherence='c_v')\n",
    "coherence_ldamallet = coherence_model_ldamallet.get_coherence()\n",
    "print('\\nCoherence Score: ', coherence_ldamallet)"
   ]
  },
  {
   "cell_type": "markdown",
   "metadata": {},
   "source": [
    "The coherence coefficient is better for lda mallet rather than lda model. Now we can check for which value of 'k' (the number of topics) we get better coheherence"
   ]
  },
  {
   "cell_type": "code",
   "execution_count": 152,
   "metadata": {},
   "outputs": [],
   "source": [
    "def compute_coherence_values(dictionary, corpus, texts, limit, start=2, step=3):\n",
    "    coherence_values = []\n",
    "    model_list = []\n",
    "    for num_topics in range(start, limit, step):\n",
    "        model = gensim.models.wrappers.LdaMallet(mallet_path, corpus=corpus, num_topics=num_topics, id2word=texts_dict)\n",
    "        model_list.append(model)\n",
    "        coherencemodel = CoherenceModel(model=model, texts=texts, dictionary=dictionary, coherence='c_v')\n",
    "        coherence_values.append(coherencemodel.get_coherence())\n",
    "\n",
    "    return model_list, coherence_values"
   ]
  },
  {
   "cell_type": "code",
   "execution_count": 153,
   "metadata": {},
   "outputs": [],
   "source": [
    "model_list, coherence_values = compute_coherence_values(dictionary=texts_dict, corpus=corpus, texts=texts, start=2, limit=40, step=6)"
   ]
  },
  {
   "cell_type": "code",
   "execution_count": 155,
   "metadata": {},
   "outputs": [],
   "source": [
    "import matplotlib.pyplot as plt"
   ]
  },
  {
   "cell_type": "code",
   "execution_count": 156,
   "metadata": {},
   "outputs": [
    {
     "data": {
      "image/png": "[encoded data removed]",
      "text/plain": [
       "<Figure size 432x288 with 1 Axes>"
      ]
     },
     "metadata": {
      "needs_background": "light"
     },
     "output_type": "display_data"
    }
   ],
   "source": [
    "#Plotting the coherence for LDAmallet model for differen k values\n",
    "limit=40; start=2; step=6;\n",
    "x = range(start, limit, step)\n",
    "plt.plot(x, coherence_values)\n",
    "plt.xlabel(\"Num Topics\")\n",
    "plt.ylabel(\"Coherence score\")\n",
    "plt.legend((\"coherence_values\"), loc='best')\n",
    "plt.show()"
   ]
  },
  {
   "cell_type": "code",
   "execution_count": 157,
   "metadata": {},
   "outputs": [],
   "source": [
    "#best LDA model at topic number = 20 \n",
    "ldamallet = gensim.models.wrappers.LdaMallet(mallet_path, corpus=corpus, num_topics=20, id2word=texts_dict)"
   ]
  },
  {
   "cell_type": "code",
   "execution_count": 158,
   "metadata": {},
   "outputs": [
    {
     "name": "stdout",
     "output_type": "stream",
     "text": [
      "[(10,\n",
      "  [('button', 0.047977959544915995),\n",
      "   ('hand', 0.046992991021084035),\n",
      "   ('hold', 0.044766105662855264),\n",
      "   ('trash', 0.043138766362611165),\n",
      "   ('open', 0.030419824989650693),\n",
      "   ('feature', 0.02538078312135098),\n",
      "   ('lock', 0.0218977060225829),\n",
      "   ('place', 0.02021326709776883),\n",
      "   ('turn', 0.01795783192725508),\n",
      "   ('close', 0.017786533053545172)]),\n",
      " (14,\n",
      "  [('recommend', 0.07153118554868075),\n",
      "   ('review', 0.03637010169973686),\n",
      "   ('highly', 0.03506151767299623),\n",
      "   ('amazon', 0.033781381125097786),\n",
      "   ('highly_recommend', 0.025616954697389945),\n",
      "   ('give', 0.02408079083991181),\n",
      "   ('read', 0.02336960386885712),\n",
      "   ('buying', 0.021392504089325085),\n",
      "   ('order', 0.0190598108242657),\n",
      "   ('decided', 0.01731029087547116)]),\n",
      " (1,\n",
      "  [('sheet', 0.13642859105773722),\n",
      "   ('soft', 0.10328670752150375),\n",
      "   ('nice', 0.07601198164280415),\n",
      "   ('feel', 0.058053257852647776),\n",
      "   ('towel', 0.05031740361098134),\n",
      "   ('wash', 0.03579378383577455),\n",
      "   ('super', 0.03565637967517656),\n",
      "   ('thick', 0.023248783973178706),\n",
      "   ('comfortable', 0.02095413449119239),\n",
      "   ('washed', 0.020363296600621066)]),\n",
      " (15,\n",
      "  [('food', 0.06133121795719301),\n",
      "   ('scale', 0.05492632908789094),\n",
      "   ('small', 0.05184140554992435),\n",
      "   ('needed', 0.031466220087259265),\n",
      "   ('large', 0.026192469848544946),\n",
      "   ('weight', 0.024341515725764987),\n",
      "   ('item', 0.02393019258736944),\n",
      "   ('extra', 0.022534631939241698),\n",
      "   ('perfect', 0.020110763445125086),\n",
      "   ('unit', 0.019596609522130652)]),\n",
      " (17,\n",
      "  [('make', 0.126074843963462),\n",
      "   ('made', 0.05163269132892234),\n",
      "   ('minute', 0.03568080147866384),\n",
      "   ('soup', 0.034515550079022794),\n",
      "   ('making', 0.032265409445233185),\n",
      "   ('meal', 0.025434625378371864),\n",
      "   ('chicken', 0.018590447617261793),\n",
      "   ('meat', 0.01640727545471592),\n",
      "   ('cooked', 0.014532158259891244),\n",
      "   ('bean', 0.013085639281026493)]),\n",
      " (4,\n",
      "  [('year', 0.07186542162663055),\n",
      "   ('bought', 0.0685864993941122),\n",
      "   ('blender', 0.045619787582864064),\n",
      "   ('purchased', 0.04479292893292466),\n",
      "   ('brand', 0.034058022667331954),\n",
      "   ('found', 0.028327036852234658),\n",
      "   ('stick', 0.02817021883241856),\n",
      "   ('le', 0.024378073989592988),\n",
      "   ('model', 0.02413571886805902),\n",
      "   ('expensive', 0.019217335519281488)]),\n",
      " (13,\n",
      "  [('carpet', 0.055672385168788044),\n",
      "   ('steam', 0.052767017155506364),\n",
      "   ('floor', 0.05177089097952407),\n",
      "   ('cleaning', 0.040688987271721086),\n",
      "   ('machine', 0.036054233536247926),\n",
      "   ('cleaner', 0.032332595462091863),\n",
      "   ('house', 0.021845600442722744),\n",
      "   ('room', 0.02114001106806862),\n",
      "   ('quickly', 0.01657443276148312),\n",
      "   ('stain', 0.014914222468179302)]),\n",
      " (12,\n",
      "  [('month', 0.041788017097732374),\n",
      "   ('problem', 0.04151271462725494),\n",
      "   ('back', 0.041440266608708254),\n",
      "   ('smell', 0.03977396218213432),\n",
      "   ('issue', 0.030920814315728466),\n",
      "   ('day', 0.02148808230094907),\n",
      "   ('full', 0.0213866550749837),\n",
      "   ('mine', 0.01767731652539303),\n",
      "   ('complaint', 0.01711222198072883),\n",
      "   ('started', 0.01688038832137941)]),\n",
      " (8,\n",
      "  [('great', 0.38093120222376653),\n",
      "   ('work', 0.1945517720639333),\n",
      "   ('product', 0.0993328700486449),\n",
      "   ('star', 0.07848505906879778),\n",
      "   ('happy', 0.05759555246699097),\n",
      "   ('purchase', 0.056914523974982624),\n",
      "   ('pleased', 0.019485753995830437),\n",
      "   ('advertised', 0.0130090340514246),\n",
      "   ('price', 0.010799166087560806),\n",
      "   ('beat', 0.010771369006254344)]),\n",
      " (19,\n",
      "  [('love', 0.37733061281924996),\n",
      "   ('star', 0.24267923731794835),\n",
      "   ('bought', 0.050531203827481885),\n",
      "   ('gift', 0.035826356152817845),\n",
      "   ('awesome', 0.03536199254203898),\n",
      "   ('great', 0.0286920424963062),\n",
      "   ('absolutely', 0.02258495743333568),\n",
      "   ('loved', 0.022486456061352283),\n",
      "   ('wife', 0.020994863857032295),\n",
      "   ('husband', 0.019193695912193064)])]\n"
     ]
    }
   ],
   "source": [
    "pprint(ldamallet.show_topics(formatted=False))"
   ]
  },
  {
   "cell_type": "code",
   "execution_count": 159,
   "metadata": {},
   "outputs": [
    {
     "name": "stdout",
     "output_type": "stream",
     "text": [
      "\n",
      "Coherence Score:  0.5370146906257448\n"
     ]
    }
   ],
   "source": [
    "#Coeherenc coefficient calculation for Mallet LDA\n",
    "coherence_model_ldamallet = CoherenceModel(model=ldamallet, texts=texts, dictionary=texts_dict, coherence='c_v')\n",
    "coherence_ldamallet = coherence_model_ldamallet.get_coherence()\n",
    "print('\\nCoherence Score: ', coherence_ldamallet)"
   ]
  },
  {
   "cell_type": "code",
   "execution_count": 161,
   "metadata": {},
   "outputs": [],
   "source": [
    "ldamallet.save('ldamallet.lda')"
   ]
  },
  {
   "cell_type": "code",
   "execution_count": null,
   "metadata": {},
   "outputs": [],
   "source": []
  }
 ],
 "metadata": {
  "kernelspec": {
   "display_name": "Python 3.6 (tensorflow)",
   "language": "python",
   "name": "tensorflow"
  },
  "language_info": {
   "codemirror_mode": {
    "name": "ipython",
    "version": 3
   },
   "file_extension": ".py",
   "mimetype": "text/x-python",
   "name": "python",
   "nbconvert_exporter": "python",
   "pygments_lexer": "ipython3",
   "version": "3.6.9"
  }
 },
 "nbformat": 4,
 "nbformat_minor": 2
}
