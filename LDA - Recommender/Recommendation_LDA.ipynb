{
 "cells": [
  {
   "cell_type": "code",
   "execution_count": null,
   "metadata": {},
   "outputs": [],
   "source": [
    "#Import all the necessary packages\n",
    "import pandas as pd\n",
    "from gensim import corpora, models, similarities\n",
    "import gensim\n",
    "import numpy as np\n",
    "import pickle\n",
    "from matplotlib import pyplot as plt\n",
    "from nltk.stem import WordNetLemmatizer\n",
    "from nltk.tokenize import RegexpTokenizer\n",
    "from nltk.corpus import stopwords\n",
    "from stop_words import get_stop_words\n",
    "import seaborn as sns\n",
    "from wordcloud import WordCloud, STOPWORDS\n",
    "import matplotlib.colors as mcolors\n"
   ]
  },
  {
   "cell_type": "code",
   "execution_count": null,
   "metadata": {},
   "outputs": [],
   "source": [
    "df = pd.read_csv('df_grouped.csv')"
   ]
  },
  {
   "cell_type": "code",
   "execution_count": 3,
   "metadata": {},
   "outputs": [
    {
     "data": {
      "text/html": [
       "<div>\n",
       "<style scoped>\n",
       "    .dataframe tbody tr th:only-of-type {\n",
       "        vertical-align: middle;\n",
       "    }\n",
       "\n",
       "    .dataframe tbody tr th {\n",
       "        vertical-align: top;\n",
       "    }\n",
       "\n",
       "    .dataframe thead th {\n",
       "        text-align: right;\n",
       "    }\n",
       "</style>\n",
       "<table border=\"1\" class=\"dataframe\">\n",
       "  <thead>\n",
       "    <tr style=\"text-align: right;\">\n",
       "      <th></th>\n",
       "      <th>asin</th>\n",
       "      <th>reviewText</th>\n",
       "      <th>count</th>\n",
       "    </tr>\n",
       "  </thead>\n",
       "  <tbody>\n",
       "    <tr>\n",
       "      <th>0</th>\n",
       "      <td>B00FLYWNYQ</td>\n",
       "      <td>I was excited to try this so as soon as I got ...</td>\n",
       "      <td>7433</td>\n",
       "    </tr>\n",
       "    <tr>\n",
       "      <th>1</th>\n",
       "      <td>B00COK3FD8</td>\n",
       "      <td>The tupperware was exactly as described. I lov...</td>\n",
       "      <td>4563</td>\n",
       "    </tr>\n",
       "    <tr>\n",
       "      <th>2</th>\n",
       "      <td>B009HVH4XO</td>\n",
       "      <td>i have 4 of these and i didn't think they coul...</td>\n",
       "      <td>4460</td>\n",
       "    </tr>\n",
       "    <tr>\n",
       "      <th>3</th>\n",
       "      <td>B00NX47YP4</td>\n",
       "      <td>Pros:\\nSeems to weigh accurately\\nEasy to use ...</td>\n",
       "      <td>4379</td>\n",
       "    </tr>\n",
       "    <tr>\n",
       "      <th>4</th>\n",
       "      <td>B00902X68W</td>\n",
       "      <td>I love these sheets.  They are so soft and coz...</td>\n",
       "      <td>3725</td>\n",
       "    </tr>\n",
       "    <tr>\n",
       "      <th>...</th>\n",
       "      <td>...</td>\n",
       "      <td>...</td>\n",
       "      <td>...</td>\n",
       "    </tr>\n",
       "    <tr>\n",
       "      <th>188133</th>\n",
       "      <td>B00176NOZO</td>\n",
       "      <td>I'm not sure if the one I received was defecti...</td>\n",
       "      <td>1</td>\n",
       "    </tr>\n",
       "    <tr>\n",
       "      <th>188134</th>\n",
       "      <td>B00KLFM0ZW</td>\n",
       "      <td>They are really nice quality and they look rea...</td>\n",
       "      <td>1</td>\n",
       "    </tr>\n",
       "    <tr>\n",
       "      <th>188135</th>\n",
       "      <td>B00FYHDHT0</td>\n",
       "      <td>Luxury look at a reasonable price.  Very elega...</td>\n",
       "      <td>1</td>\n",
       "    </tr>\n",
       "    <tr>\n",
       "      <th>188136</th>\n",
       "      <td>B01D1AI06Q</td>\n",
       "      <td>Good luck cutting anything with this junk. Nic...</td>\n",
       "      <td>1</td>\n",
       "    </tr>\n",
       "    <tr>\n",
       "      <th>188137</th>\n",
       "      <td>B01B70WOOQ</td>\n",
       "      <td>Worked great at first.  Just before the return...</td>\n",
       "      <td>1</td>\n",
       "    </tr>\n",
       "  </tbody>\n",
       "</table>\n",
       "<p>188138 rows × 3 columns</p>\n",
       "</div>"
      ],
      "text/plain": [
       "              asin                                         reviewText  count\n",
       "0       B00FLYWNYQ  I was excited to try this so as soon as I got ...   7433\n",
       "1       B00COK3FD8  The tupperware was exactly as described. I lov...   4563\n",
       "2       B009HVH4XO  i have 4 of these and i didn't think they coul...   4460\n",
       "3       B00NX47YP4  Pros:\\nSeems to weigh accurately\\nEasy to use ...   4379\n",
       "4       B00902X68W  I love these sheets.  They are so soft and coz...   3725\n",
       "...            ...                                                ...    ...\n",
       "188133  B00176NOZO  I'm not sure if the one I received was defecti...      1\n",
       "188134  B00KLFM0ZW  They are really nice quality and they look rea...      1\n",
       "188135  B00FYHDHT0  Luxury look at a reasonable price.  Very elega...      1\n",
       "188136  B01D1AI06Q  Good luck cutting anything with this junk. Nic...      1\n",
       "188137  B01B70WOOQ  Worked great at first.  Just before the return...      1\n",
       "\n",
       "[188138 rows x 3 columns]"
      ]
     },
     "execution_count": 3,
     "metadata": {},
     "output_type": "execute_result"
    }
   ],
   "source": [
    "df"
   ]
  },
  {
   "cell_type": "code",
   "execution_count": 4,
   "metadata": {},
   "outputs": [],
   "source": [
    "#Load model\n",
    "lda_model = models.LdaModel.load('LDA_Model_grp_7_15.lda')"
   ]
  },
  {
   "cell_type": "code",
   "execution_count": 5,
   "metadata": {},
   "outputs": [],
   "source": [
    "#Load corpus\n",
    "corpus = corpora.MmCorpus('amzn_h_k_review.mm')"
   ]
  },
  {
   "cell_type": "code",
   "execution_count": 51,
   "metadata": {},
   "outputs": [],
   "source": [
    "#Load Dictionary\n",
    "texts_dict_unq =  corpora.Dictionary.load('auto_review_unq.dict')"
   ]
  },
  {
   "cell_type": "code",
   "execution_count": 7,
   "metadata": {},
   "outputs": [],
   "source": [
    "#To load texts (tokenized)\n",
    "with open('texts.pkl', 'rb') as f:\n",
    "    texts = pickle.load(f)"
   ]
  },
  {
   "cell_type": "code",
   "execution_count": 8,
   "metadata": {},
   "outputs": [],
   "source": [
    "#To find the most representing topic for each item\n",
    "def format_topics_sentences(ldamodel=lda_model, corpus=corpus, texts=texts):\n",
    "    # Init output\n",
    "    sent_topics_df = pd.DataFrame()\n",
    "\n",
    "    # Get main topic in each document\n",
    "    for i, row in enumerate(ldamodel[corpus]):\n",
    "        row = sorted(row, key=lambda x: (x[1]), reverse=True)\n",
    "        # Get the Dominant topic, Perc Contribution and Keywords for each document\n",
    "        for j, (topic_num, prop_topic) in enumerate(row):\n",
    "            if j == 0:  # => dominant topic\n",
    "                wp = ldamodel.show_topic(topic_num)\n",
    "                topic_keywords = \", \".join([word for word, prop in wp])\n",
    "                sent_topics_df = sent_topics_df.append(pd.Series([int(topic_num), round(prop_topic,4), topic_keywords]), ignore_index=True)\n",
    "            else:\n",
    "                break\n",
    "    sent_topics_df.columns = ['Dominant_Topic', 'Perc_Contribution', 'Topic_Keywords']\n",
    "\n",
    "    # Add original text to the end of the output\n",
    "    contents = pd.Series(texts)\n",
    "    sent_topics_df = pd.concat([sent_topics_df, contents], axis=1)\n",
    "    return(sent_topics_df)"
   ]
  },
  {
   "cell_type": "code",
   "execution_count": 9,
   "metadata": {},
   "outputs": [],
   "source": [
    "df_topic_sents_keywords = format_topics_sentences(ldamodel=lda_model, corpus=corpus, texts=texts)\n",
    "\n",
    "# Format\n",
    "df_dominant_topic = df_topic_sents_keywords.reset_index()\n",
    "df_dominant_topic.columns = ['Document_No', 'Dominant_Topic', 'Topic_Perc_Contrib', 'Keywords', 'Text']"
   ]
  },
  {
   "cell_type": "code",
   "execution_count": 10,
   "metadata": {},
   "outputs": [
    {
     "data": {
      "text/html": [
       "<div>\n",
       "<style scoped>\n",
       "    .dataframe tbody tr th:only-of-type {\n",
       "        vertical-align: middle;\n",
       "    }\n",
       "\n",
       "    .dataframe tbody tr th {\n",
       "        vertical-align: top;\n",
       "    }\n",
       "\n",
       "    .dataframe thead th {\n",
       "        text-align: right;\n",
       "    }\n",
       "</style>\n",
       "<table border=\"1\" class=\"dataframe\">\n",
       "  <thead>\n",
       "    <tr style=\"text-align: right;\">\n",
       "      <th></th>\n",
       "      <th>Document_No</th>\n",
       "      <th>Dominant_Topic</th>\n",
       "      <th>Topic_Perc_Contrib</th>\n",
       "      <th>Keywords</th>\n",
       "      <th>Text</th>\n",
       "    </tr>\n",
       "  </thead>\n",
       "  <tbody>\n",
       "    <tr>\n",
       "      <th>0</th>\n",
       "      <td>0</td>\n",
       "      <td>1.0</td>\n",
       "      <td>0.8206</td>\n",
       "      <td>knife, cook, oven, cooking, pan, sharp, food, ...</td>\n",
       "      <td>[excited, soon, followed, manual, setting, bro...</td>\n",
       "    </tr>\n",
       "    <tr>\n",
       "      <th>1</th>\n",
       "      <td>1</td>\n",
       "      <td>0.0</td>\n",
       "      <td>0.9064</td>\n",
       "      <td>coffee, bowl, container, drink, cup, food, mac...</td>\n",
       "      <td>[tupperware, exactly, described, love, rubberm...</td>\n",
       "    </tr>\n",
       "    <tr>\n",
       "      <th>2</th>\n",
       "      <td>2</td>\n",
       "      <td>0.0</td>\n",
       "      <td>0.8913</td>\n",
       "      <td>coffee, bowl, container, drink, cup, food, mac...</td>\n",
       "      <td>[think, better, easy, clean, verify, rinsed, i...</td>\n",
       "    </tr>\n",
       "    <tr>\n",
       "      <th>3</th>\n",
       "      <td>3</td>\n",
       "      <td>5.0</td>\n",
       "      <td>0.6611</td>\n",
       "      <td>candle, clock, unit, smell, filter, battery, s...</td>\n",
       "      <td>[pro, seems, weigh, accurately, easy, button, ...</td>\n",
       "    </tr>\n",
       "    <tr>\n",
       "      <th>4</th>\n",
       "      <td>4</td>\n",
       "      <td>4.0</td>\n",
       "      <td>0.9647</td>\n",
       "      <td>pillow, sheet, vacuum, blanket, fabric, towel,...</td>\n",
       "      <td>[love, sheet, soft, cozy, problem, pilling, wa...</td>\n",
       "    </tr>\n",
       "    <tr>\n",
       "      <th>5</th>\n",
       "      <td>5</td>\n",
       "      <td>2.0</td>\n",
       "      <td>0.6996</td>\n",
       "      <td>chair, mattress, comfortable, wine, bottle, pi...</td>\n",
       "      <td>[received, pillow, today, pillow, although, ap...</td>\n",
       "    </tr>\n",
       "    <tr>\n",
       "      <th>6</th>\n",
       "      <td>6</td>\n",
       "      <td>4.0</td>\n",
       "      <td>0.6021</td>\n",
       "      <td>pillow, sheet, vacuum, blanket, fabric, towel,...</td>\n",
       "      <td>[another, single, tank, stay, turned, extreme,...</td>\n",
       "    </tr>\n",
       "    <tr>\n",
       "      <th>7</th>\n",
       "      <td>7</td>\n",
       "      <td>4.0</td>\n",
       "      <td>0.5815</td>\n",
       "      <td>pillow, sheet, vacuum, blanket, fabric, towel,...</td>\n",
       "      <td>[wish, something, compare, bought, review, lov...</td>\n",
       "    </tr>\n",
       "    <tr>\n",
       "      <th>8</th>\n",
       "      <td>8</td>\n",
       "      <td>0.0</td>\n",
       "      <td>0.8238</td>\n",
       "      <td>coffee, bowl, container, drink, cup, food, mac...</td>\n",
       "      <td>[thermos, best, opened, found, still, thermos,...</td>\n",
       "    </tr>\n",
       "    <tr>\n",
       "      <th>9</th>\n",
       "      <td>9</td>\n",
       "      <td>0.0</td>\n",
       "      <td>0.8185</td>\n",
       "      <td>coffee, bowl, container, drink, cup, food, mac...</td>\n",
       "      <td>[update, still, original, hello, kitty, blue, ...</td>\n",
       "    </tr>\n",
       "  </tbody>\n",
       "</table>\n",
       "</div>"
      ],
      "text/plain": [
       "   Document_No  Dominant_Topic  Topic_Perc_Contrib  \\\n",
       "0            0             1.0              0.8206   \n",
       "1            1             0.0              0.9064   \n",
       "2            2             0.0              0.8913   \n",
       "3            3             5.0              0.6611   \n",
       "4            4             4.0              0.9647   \n",
       "5            5             2.0              0.6996   \n",
       "6            6             4.0              0.6021   \n",
       "7            7             4.0              0.5815   \n",
       "8            8             0.0              0.8238   \n",
       "9            9             0.0              0.8185   \n",
       "\n",
       "                                            Keywords  \\\n",
       "0  knife, cook, oven, cooking, pan, sharp, food, ...   \n",
       "1  coffee, bowl, container, drink, cup, food, mac...   \n",
       "2  coffee, bowl, container, drink, cup, food, mac...   \n",
       "3  candle, clock, unit, smell, filter, battery, s...   \n",
       "4  pillow, sheet, vacuum, blanket, fabric, towel,...   \n",
       "5  chair, mattress, comfortable, wine, bottle, pi...   \n",
       "6  pillow, sheet, vacuum, blanket, fabric, towel,...   \n",
       "7  pillow, sheet, vacuum, blanket, fabric, towel,...   \n",
       "8  coffee, bowl, container, drink, cup, food, mac...   \n",
       "9  coffee, bowl, container, drink, cup, food, mac...   \n",
       "\n",
       "                                                Text  \n",
       "0  [excited, soon, followed, manual, setting, bro...  \n",
       "1  [tupperware, exactly, described, love, rubberm...  \n",
       "2  [think, better, easy, clean, verify, rinsed, i...  \n",
       "3  [pro, seems, weigh, accurately, easy, button, ...  \n",
       "4  [love, sheet, soft, cozy, problem, pilling, wa...  \n",
       "5  [received, pillow, today, pillow, although, ap...  \n",
       "6  [another, single, tank, stay, turned, extreme,...  \n",
       "7  [wish, something, compare, bought, review, lov...  \n",
       "8  [thermos, best, opened, found, still, thermos,...  \n",
       "9  [update, still, original, hello, kitty, blue, ...  "
      ]
     },
     "execution_count": 10,
     "metadata": {},
     "output_type": "execute_result"
    }
   ],
   "source": [
    "# Show\n",
    "df_dominant_topic.head(10)"
   ]
  },
  {
   "cell_type": "code",
   "execution_count": 11,
   "metadata": {},
   "outputs": [],
   "source": [
    "#Merge dataframe to get item id\n",
    "df_merged = pd.concat([df['asin'], df_dominant_topic], axis=1, sort=False)"
   ]
  },
  {
   "cell_type": "code",
   "execution_count": 12,
   "metadata": {},
   "outputs": [],
   "source": [
    "df_merged.set_index('Document_No',inplace = True)"
   ]
  },
  {
   "cell_type": "code",
   "execution_count": 13,
   "metadata": {},
   "outputs": [
    {
     "data": {
      "text/html": [
       "<div>\n",
       "<style scoped>\n",
       "    .dataframe tbody tr th:only-of-type {\n",
       "        vertical-align: middle;\n",
       "    }\n",
       "\n",
       "    .dataframe tbody tr th {\n",
       "        vertical-align: top;\n",
       "    }\n",
       "\n",
       "    .dataframe thead th {\n",
       "        text-align: right;\n",
       "    }\n",
       "</style>\n",
       "<table border=\"1\" class=\"dataframe\">\n",
       "  <thead>\n",
       "    <tr style=\"text-align: right;\">\n",
       "      <th></th>\n",
       "      <th>asin</th>\n",
       "      <th>Dominant_Topic</th>\n",
       "      <th>Topic_Perc_Contrib</th>\n",
       "      <th>Keywords</th>\n",
       "      <th>Text</th>\n",
       "    </tr>\n",
       "    <tr>\n",
       "      <th>Document_No</th>\n",
       "      <th></th>\n",
       "      <th></th>\n",
       "      <th></th>\n",
       "      <th></th>\n",
       "      <th></th>\n",
       "    </tr>\n",
       "  </thead>\n",
       "  <tbody>\n",
       "    <tr>\n",
       "      <th>0</th>\n",
       "      <td>B00FLYWNYQ</td>\n",
       "      <td>1.0</td>\n",
       "      <td>0.8206</td>\n",
       "      <td>knife, cook, oven, cooking, pan, sharp, food, ...</td>\n",
       "      <td>[excited, soon, followed, manual, setting, bro...</td>\n",
       "    </tr>\n",
       "    <tr>\n",
       "      <th>1</th>\n",
       "      <td>B00COK3FD8</td>\n",
       "      <td>0.0</td>\n",
       "      <td>0.9064</td>\n",
       "      <td>coffee, bowl, container, drink, cup, food, mac...</td>\n",
       "      <td>[tupperware, exactly, described, love, rubberm...</td>\n",
       "    </tr>\n",
       "    <tr>\n",
       "      <th>2</th>\n",
       "      <td>B009HVH4XO</td>\n",
       "      <td>0.0</td>\n",
       "      <td>0.8913</td>\n",
       "      <td>coffee, bowl, container, drink, cup, food, mac...</td>\n",
       "      <td>[think, better, easy, clean, verify, rinsed, i...</td>\n",
       "    </tr>\n",
       "    <tr>\n",
       "      <th>3</th>\n",
       "      <td>B00NX47YP4</td>\n",
       "      <td>5.0</td>\n",
       "      <td>0.6611</td>\n",
       "      <td>candle, clock, unit, smell, filter, battery, s...</td>\n",
       "      <td>[pro, seems, weigh, accurately, easy, button, ...</td>\n",
       "    </tr>\n",
       "    <tr>\n",
       "      <th>4</th>\n",
       "      <td>B00902X68W</td>\n",
       "      <td>4.0</td>\n",
       "      <td>0.9647</td>\n",
       "      <td>pillow, sheet, vacuum, blanket, fabric, towel,...</td>\n",
       "      <td>[love, sheet, soft, cozy, problem, pilling, wa...</td>\n",
       "    </tr>\n",
       "    <tr>\n",
       "      <th>...</th>\n",
       "      <td>...</td>\n",
       "      <td>...</td>\n",
       "      <td>...</td>\n",
       "      <td>...</td>\n",
       "      <td>...</td>\n",
       "    </tr>\n",
       "    <tr>\n",
       "      <th>188133</th>\n",
       "      <td>B00176NOZO</td>\n",
       "      <td>5.0</td>\n",
       "      <td>0.6188</td>\n",
       "      <td>candle, clock, unit, smell, filter, battery, s...</td>\n",
       "      <td>[sure, received, defective, hold, temperature,...</td>\n",
       "    </tr>\n",
       "    <tr>\n",
       "      <th>188134</th>\n",
       "      <td>B00KLFM0ZW</td>\n",
       "      <td>4.0</td>\n",
       "      <td>0.8135</td>\n",
       "      <td>pillow, sheet, vacuum, blanket, fabric, towel,...</td>\n",
       "      <td>[really, nice, quality, look, really, good, wa...</td>\n",
       "    </tr>\n",
       "    <tr>\n",
       "      <th>188135</th>\n",
       "      <td>B00FYHDHT0</td>\n",
       "      <td>4.0</td>\n",
       "      <td>0.9548</td>\n",
       "      <td>pillow, sheet, vacuum, blanket, fabric, towel,...</td>\n",
       "      <td>[luxury, look, reasonable, price, elegant, see...</td>\n",
       "    </tr>\n",
       "    <tr>\n",
       "      <th>188136</th>\n",
       "      <td>B01D1AI06Q</td>\n",
       "      <td>1.0</td>\n",
       "      <td>0.8651</td>\n",
       "      <td>knife, cook, oven, cooking, pan, sharp, food, ...</td>\n",
       "      <td>[good, luck, cutting, anything, junk, nice, id...</td>\n",
       "    </tr>\n",
       "    <tr>\n",
       "      <th>188137</th>\n",
       "      <td>B01B70WOOQ</td>\n",
       "      <td>0.0</td>\n",
       "      <td>0.5096</td>\n",
       "      <td>coffee, bowl, container, drink, cup, food, mac...</td>\n",
       "      <td>[worked, great, first, return, date, policy, e...</td>\n",
       "    </tr>\n",
       "  </tbody>\n",
       "</table>\n",
       "<p>188138 rows × 5 columns</p>\n",
       "</div>"
      ],
      "text/plain": [
       "                   asin  Dominant_Topic  Topic_Perc_Contrib  \\\n",
       "Document_No                                                   \n",
       "0            B00FLYWNYQ             1.0              0.8206   \n",
       "1            B00COK3FD8             0.0              0.9064   \n",
       "2            B009HVH4XO             0.0              0.8913   \n",
       "3            B00NX47YP4             5.0              0.6611   \n",
       "4            B00902X68W             4.0              0.9647   \n",
       "...                 ...             ...                 ...   \n",
       "188133       B00176NOZO             5.0              0.6188   \n",
       "188134       B00KLFM0ZW             4.0              0.8135   \n",
       "188135       B00FYHDHT0             4.0              0.9548   \n",
       "188136       B01D1AI06Q             1.0              0.8651   \n",
       "188137       B01B70WOOQ             0.0              0.5096   \n",
       "\n",
       "                                                      Keywords  \\\n",
       "Document_No                                                      \n",
       "0            knife, cook, oven, cooking, pan, sharp, food, ...   \n",
       "1            coffee, bowl, container, drink, cup, food, mac...   \n",
       "2            coffee, bowl, container, drink, cup, food, mac...   \n",
       "3            candle, clock, unit, smell, filter, battery, s...   \n",
       "4            pillow, sheet, vacuum, blanket, fabric, towel,...   \n",
       "...                                                        ...   \n",
       "188133       candle, clock, unit, smell, filter, battery, s...   \n",
       "188134       pillow, sheet, vacuum, blanket, fabric, towel,...   \n",
       "188135       pillow, sheet, vacuum, blanket, fabric, towel,...   \n",
       "188136       knife, cook, oven, cooking, pan, sharp, food, ...   \n",
       "188137       coffee, bowl, container, drink, cup, food, mac...   \n",
       "\n",
       "                                                          Text  \n",
       "Document_No                                                     \n",
       "0            [excited, soon, followed, manual, setting, bro...  \n",
       "1            [tupperware, exactly, described, love, rubberm...  \n",
       "2            [think, better, easy, clean, verify, rinsed, i...  \n",
       "3            [pro, seems, weigh, accurately, easy, button, ...  \n",
       "4            [love, sheet, soft, cozy, problem, pilling, wa...  \n",
       "...                                                        ...  \n",
       "188133       [sure, received, defective, hold, temperature,...  \n",
       "188134       [really, nice, quality, look, really, good, wa...  \n",
       "188135       [luxury, look, reasonable, price, elegant, see...  \n",
       "188136       [good, luck, cutting, anything, junk, nice, id...  \n",
       "188137       [worked, great, first, return, date, policy, e...  \n",
       "\n",
       "[188138 rows x 5 columns]"
      ]
     },
     "execution_count": 13,
     "metadata": {},
     "output_type": "execute_result"
    }
   ],
   "source": [
    "df_merged"
   ]
  },
  {
   "cell_type": "code",
   "execution_count": 18,
   "metadata": {},
   "outputs": [],
   "source": [
    "#Save for later use\n",
    "df_merged.to_csv('df_topic.csv',index=False)"
   ]
  },
  {
   "cell_type": "code",
   "execution_count": null,
   "metadata": {},
   "outputs": [],
   "source": [
    "#load merged data\n",
    "#df_merged = pd.read_csv('df_topic.csv')"
   ]
  },
  {
   "cell_type": "code",
   "execution_count": 14,
   "metadata": {},
   "outputs": [
    {
     "data": {
      "image/png": "[encoded data removed]",
      "text/plain": [
       "<Figure size 800x800 with 1 Axes>"
      ]
     },
     "metadata": {
      "needs_background": "light"
     },
     "output_type": "display_data"
    }
   ],
   "source": [
    "#Plot distribution of document word counts\n",
    "doc_lens = [len(d) for d in df_merged.Text]\n",
    "# Plot\n",
    "plt.figure(figsize=(5,5), dpi=160)\n",
    "plt.hist(doc_lens, bins = 4000, color='navy')\n",
    "plt.text(600, 30000, \"Mean   : \" + str(round(np.mean(doc_lens))))\n",
    "plt.text(600, 28000, \"Median : \" + str(round(np.median(doc_lens))))\n",
    "plt.text(600, 26000, \"Stdev   : \" + str(round(np.std(doc_lens))))\n",
    "plt.text(600, 24000, \"1%ile    : \" + str(round(np.quantile(doc_lens, q=0.01))))\n",
    "plt.text(600, 22000, \"99%ile  : \" + str(round(np.quantile(doc_lens, q=0.99))))\n",
    "plt.gca().set(xlim=(0, 2500), ylabel='Number of Documents', xlabel='Document Word Count')\n",
    "plt.tick_params(size=16)\n",
    "plt.title('Distribution of Document Word Counts', fontdict=dict(size=14))\n",
    "plt.show()"
   ]
  },
  {
   "cell_type": "code",
   "execution_count": 15,
   "metadata": {},
   "outputs": [
    {
     "data": {
      "image/png": "[encoded data removed]",
      "text/plain": [
       "<Figure size 1280x1280 with 7 Axes>"
      ]
     },
     "metadata": {},
     "output_type": "display_data"
    }
   ],
   "source": [
    "#Plot distribution of document word counts by dominant topic\n",
    "cols = [color for name, color in mcolors.TABLEAU_COLORS.items()]\n",
    "fig, axes = plt.subplots(4,2,figsize=(8,8), dpi=160, sharex=True, sharey=True)\n",
    "fig.delaxes(axes[3,1]) \n",
    "for i, ax in enumerate(axes.flatten()):  \n",
    "    if(i<7):\n",
    "        df_dominant_topic_sub = df_merged.loc[df_merged.Dominant_Topic == i, :]\n",
    "        doc_lens = [len(d) for d in df_dominant_topic_sub.Text]\n",
    "        ax.hist(doc_lens, bins = 4000, color=cols[i])\n",
    "        ax.tick_params(axis='y', labelcolor=cols[i], color=cols[i])\n",
    "        ax.set(xlim=(0, 1000), xlabel='Document Word Count')\n",
    "        ax.set_ylabel('Number of Documents', color=cols[i])\n",
    "        ax.set_title('Topic: '+str(i), fontdict=dict(size=16, color=cols[i]))\n",
    "\n",
    "fig.tight_layout()\n",
    "fig.subplots_adjust(top=0.90)\n",
    "\n",
    "fig.suptitle('Distribution of Document Word Counts by Dominant Topic', fontsize=22)\n",
    "plt.show()"
   ]
  },
  {
   "cell_type": "code",
   "execution_count": 16,
   "metadata": {},
   "outputs": [
    {
     "name": "stdout",
     "output_type": "stream",
     "text": [
      "234\n",
      "['three', \"mightn't\", 'me', 'having', 'review', \"we've\", 'and', 'nor', \"hadn't\", 'am']\n"
     ]
    }
   ],
   "source": [
    "#create a merged list of stop words\n",
    "nltk_stpwd = stopwords.words('english')\n",
    "#Extend stopwords with commonly found tokens in review texts\n",
    "nltk_stpwd.extend(['generally', 'used', 'personally', 'review', 'honestly','truly','whatever','done','star','one','two','three','four','five','since','ever','even','much','thing','also','go','come','must'])\n",
    "stop_words_stpwd = get_stop_words('en')\n",
    "stop_words = list(set(nltk_stpwd + stop_words_stpwd))\n",
    "\n",
    "print(len(set(stop_words)))\n",
    "print(stop_words[:10])"
   ]
  },
  {
   "cell_type": "code",
   "execution_count": 17,
   "metadata": {
    "scrolled": false
   },
   "outputs": [
    {
     "data": {
      "image/png": "[encoded data removed]",
      "text/plain": [
       "<Figure size 720x720 with 7 Axes>"
      ]
     },
     "metadata": {
      "needs_background": "light"
     },
     "output_type": "display_data"
    }
   ],
   "source": [
    "# 1. Wordcloud of Top N words in each topic\n",
    "cols = [color for name, color in mcolors.TABLEAU_COLORS.items()]  # more colors: 'mcolors.XKCD_COLORS'\n",
    "\n",
    "cloud = WordCloud(stopwords=stop_words,\n",
    "                  background_color='white',\n",
    "                  width=2500,\n",
    "                  height=1800,\n",
    "                  max_words=10,\n",
    "                  colormap='tab10',\n",
    "                  color_func=lambda *args, **kwargs: cols[i],\n",
    "                  prefer_horizontal=1.0)\n",
    "\n",
    "topics = lda_model.show_topics(formatted=False)\n",
    "\n",
    "fig, axes = plt.subplots(3, 3, figsize=(10,10), sharex=True, sharey=True)\n",
    "fig.delaxes(axes[2,1]) \n",
    "fig.delaxes(axes[2,2]) \n",
    "for i, ax in enumerate(axes.flatten()):\n",
    "    if(i<7):\n",
    "        fig.add_subplot(ax)\n",
    "        topic_words = dict(topics[i][1])\n",
    "        cloud.generate_from_frequencies(topic_words, max_font_size=300)\n",
    "        plt.gca().imshow(cloud)\n",
    "        plt.gca().set_title('Topic ' + str(i), fontdict=dict(size=16))\n",
    "        plt.gca().axis('off')\n",
    "\n",
    "\n",
    "plt.subplots_adjust(wspace=0, hspace=0)\n",
    "plt.axis('off')\n",
    "plt.margins(x=0, y=0)\n",
    "plt.tight_layout()\n",
    "plt.show()"
   ]
  },
  {
   "cell_type": "markdown",
   "metadata": {},
   "source": [
    "#### Gensim Similarity: https://radimrehurek.com/gensim/similarities/docsim.html"
   ]
  },
  {
   "cell_type": "code",
   "execution_count": 19,
   "metadata": {},
   "outputs": [],
   "source": [
    "#Cosine similarity measures between bag of words vectors give us similarities in the range of -1 to 1 (the greater, the more similar)\n",
    "index = similarities.MatrixSimilarity(lda_model[corpus])"
   ]
  },
  {
   "cell_type": "code",
   "execution_count": 20,
   "metadata": {},
   "outputs": [],
   "source": [
    "#Save similarity pickle file for later use\n",
    "with open('index.pkl', 'wb') as f:\n",
    "    pickle.dump(index, f)"
   ]
  },
  {
   "cell_type": "code",
   "execution_count": null,
   "metadata": {},
   "outputs": [],
   "source": [
    "#load similarity pickle file\n",
    "#with open('index.pkl', 'rb') as f:\n",
    "    #index = pickle.load(f)"
   ]
  },
  {
   "cell_type": "code",
   "execution_count": 21,
   "metadata": {},
   "outputs": [],
   "source": [
    "#Find of which topic each document is composed os\n",
    "corpus_lda_model = lda_model[corpus]"
   ]
  },
  {
   "cell_type": "code",
   "execution_count": 135,
   "metadata": {},
   "outputs": [],
   "source": [
    "Title_prod = pd.read_pickle('Title_prod')"
   ]
  },
  {
   "cell_type": "code",
   "execution_count": 136,
   "metadata": {},
   "outputs": [],
   "source": [
    "df_final = df_merged.join(Title_prod.set_index('asin'), on='asin')"
   ]
  },
  {
   "cell_type": "code",
   "execution_count": 137,
   "metadata": {},
   "outputs": [
    {
     "data": {
      "text/html": [
       "<div>\n",
       "<style scoped>\n",
       "    .dataframe tbody tr th:only-of-type {\n",
       "        vertical-align: middle;\n",
       "    }\n",
       "\n",
       "    .dataframe tbody tr th {\n",
       "        vertical-align: top;\n",
       "    }\n",
       "\n",
       "    .dataframe thead th {\n",
       "        text-align: right;\n",
       "    }\n",
       "</style>\n",
       "<table border=\"1\" class=\"dataframe\">\n",
       "  <thead>\n",
       "    <tr style=\"text-align: right;\">\n",
       "      <th></th>\n",
       "      <th>asin</th>\n",
       "      <th>Dominant_Topic</th>\n",
       "      <th>Topic_Perc_Contrib</th>\n",
       "      <th>Keywords</th>\n",
       "      <th>Text</th>\n",
       "      <th>title</th>\n",
       "    </tr>\n",
       "    <tr>\n",
       "      <th>Document_No</th>\n",
       "      <th></th>\n",
       "      <th></th>\n",
       "      <th></th>\n",
       "      <th></th>\n",
       "      <th></th>\n",
       "      <th></th>\n",
       "    </tr>\n",
       "  </thead>\n",
       "  <tbody>\n",
       "    <tr>\n",
       "      <th>0</th>\n",
       "      <td>B00FLYWNYQ</td>\n",
       "      <td>1.0</td>\n",
       "      <td>0.8206</td>\n",
       "      <td>knife, cook, oven, cooking, pan, sharp, food, ...</td>\n",
       "      <td>[excited, soon, followed, manual, setting, bro...</td>\n",
       "      <td>Instant Pot DUO60 6 Qt 7-in-1 Multi-Use Progra...</td>\n",
       "    </tr>\n",
       "    <tr>\n",
       "      <th>1</th>\n",
       "      <td>B00COK3FD8</td>\n",
       "      <td>0.0</td>\n",
       "      <td>0.9064</td>\n",
       "      <td>coffee, bowl, container, drink, cup, food, mac...</td>\n",
       "      <td>[tupperware, exactly, described, love, rubberm...</td>\n",
       "      <td>Rubbermaid Easy Find Lids Food Storage Contain...</td>\n",
       "    </tr>\n",
       "    <tr>\n",
       "      <th>2</th>\n",
       "      <td>B009HVH4XO</td>\n",
       "      <td>0.0</td>\n",
       "      <td>0.8913</td>\n",
       "      <td>coffee, bowl, container, drink, cup, food, mac...</td>\n",
       "      <td>[think, better, easy, clean, verify, rinsed, i...</td>\n",
       "      <td>Contigo AUTOSEAL West Loop Vacuum-Insulated St...</td>\n",
       "    </tr>\n",
       "    <tr>\n",
       "      <th>3</th>\n",
       "      <td>B00NX47YP4</td>\n",
       "      <td>5.0</td>\n",
       "      <td>0.6611</td>\n",
       "      <td>candle, clock, unit, smell, filter, battery, s...</td>\n",
       "      <td>[pro, seems, weigh, accurately, easy, button, ...</td>\n",
       "      <td>Ozeri ZK14-R Pronto Digital Multifunction Kitc...</td>\n",
       "    </tr>\n",
       "    <tr>\n",
       "      <th>4</th>\n",
       "      <td>B00902X68W</td>\n",
       "      <td>4.0</td>\n",
       "      <td>0.9647</td>\n",
       "      <td>pillow, sheet, vacuum, blanket, fabric, towel,...</td>\n",
       "      <td>[love, sheet, soft, cozy, problem, pilling, wa...</td>\n",
       "      <td>Clara Clark 1800 Premier Series 4pc Bed Sheet ...</td>\n",
       "    </tr>\n",
       "    <tr>\n",
       "      <th>...</th>\n",
       "      <td>...</td>\n",
       "      <td>...</td>\n",
       "      <td>...</td>\n",
       "      <td>...</td>\n",
       "      <td>...</td>\n",
       "      <td>...</td>\n",
       "    </tr>\n",
       "    <tr>\n",
       "      <th>188133</th>\n",
       "      <td>B00176NOZO</td>\n",
       "      <td>5.0</td>\n",
       "      <td>0.6188</td>\n",
       "      <td>candle, clock, unit, smell, filter, battery, s...</td>\n",
       "      <td>[sure, received, defective, hold, temperature,...</td>\n",
       "      <td>var aPageStart = (new Date()).getTime();\\nvar ...</td>\n",
       "    </tr>\n",
       "    <tr>\n",
       "      <th>188134</th>\n",
       "      <td>B00KLFM0ZW</td>\n",
       "      <td>4.0</td>\n",
       "      <td>0.8135</td>\n",
       "      <td>pillow, sheet, vacuum, blanket, fabric, towel,...</td>\n",
       "      <td>[really, nice, quality, look, really, good, wa...</td>\n",
       "      <td>Cuisinart 100% Cotton Terry Super Absorbent Ki...</td>\n",
       "    </tr>\n",
       "    <tr>\n",
       "      <th>188135</th>\n",
       "      <td>B00FYHDHT0</td>\n",
       "      <td>4.0</td>\n",
       "      <td>0.9548</td>\n",
       "      <td>pillow, sheet, vacuum, blanket, fabric, towel,...</td>\n",
       "      <td>[luxury, look, reasonable, price, elegant, see...</td>\n",
       "      <td>Lenox 844724 Sharon Sacks Jeweled Jardin 5-Pie...</td>\n",
       "    </tr>\n",
       "    <tr>\n",
       "      <th>188136</th>\n",
       "      <td>B01D1AI06Q</td>\n",
       "      <td>1.0</td>\n",
       "      <td>0.8651</td>\n",
       "      <td>knife, cook, oven, cooking, pan, sharp, food, ...</td>\n",
       "      <td>[good, luck, cutting, anything, junk, nice, id...</td>\n",
       "      <td>ONSON Watermelon Slicer &amp; Corer Fruit Knife Fa...</td>\n",
       "    </tr>\n",
       "    <tr>\n",
       "      <th>188137</th>\n",
       "      <td>B01B70WOOQ</td>\n",
       "      <td>0.0</td>\n",
       "      <td>0.5096</td>\n",
       "      <td>coffee, bowl, container, drink, cup, food, mac...</td>\n",
       "      <td>[worked, great, first, return, date, policy, e...</td>\n",
       "      <td>Electric Hand-held Milk Frother Coffee Foamer ...</td>\n",
       "    </tr>\n",
       "  </tbody>\n",
       "</table>\n",
       "<p>192603 rows × 6 columns</p>\n",
       "</div>"
      ],
      "text/plain": [
       "                   asin  Dominant_Topic  Topic_Perc_Contrib  \\\n",
       "Document_No                                                   \n",
       "0            B00FLYWNYQ             1.0              0.8206   \n",
       "1            B00COK3FD8             0.0              0.9064   \n",
       "2            B009HVH4XO             0.0              0.8913   \n",
       "3            B00NX47YP4             5.0              0.6611   \n",
       "4            B00902X68W             4.0              0.9647   \n",
       "...                 ...             ...                 ...   \n",
       "188133       B00176NOZO             5.0              0.6188   \n",
       "188134       B00KLFM0ZW             4.0              0.8135   \n",
       "188135       B00FYHDHT0             4.0              0.9548   \n",
       "188136       B01D1AI06Q             1.0              0.8651   \n",
       "188137       B01B70WOOQ             0.0              0.5096   \n",
       "\n",
       "                                                      Keywords  \\\n",
       "Document_No                                                      \n",
       "0            knife, cook, oven, cooking, pan, sharp, food, ...   \n",
       "1            coffee, bowl, container, drink, cup, food, mac...   \n",
       "2            coffee, bowl, container, drink, cup, food, mac...   \n",
       "3            candle, clock, unit, smell, filter, battery, s...   \n",
       "4            pillow, sheet, vacuum, blanket, fabric, towel,...   \n",
       "...                                                        ...   \n",
       "188133       candle, clock, unit, smell, filter, battery, s...   \n",
       "188134       pillow, sheet, vacuum, blanket, fabric, towel,...   \n",
       "188135       pillow, sheet, vacuum, blanket, fabric, towel,...   \n",
       "188136       knife, cook, oven, cooking, pan, sharp, food, ...   \n",
       "188137       coffee, bowl, container, drink, cup, food, mac...   \n",
       "\n",
       "                                                          Text  \\\n",
       "Document_No                                                      \n",
       "0            [excited, soon, followed, manual, setting, bro...   \n",
       "1            [tupperware, exactly, described, love, rubberm...   \n",
       "2            [think, better, easy, clean, verify, rinsed, i...   \n",
       "3            [pro, seems, weigh, accurately, easy, button, ...   \n",
       "4            [love, sheet, soft, cozy, problem, pilling, wa...   \n",
       "...                                                        ...   \n",
       "188133       [sure, received, defective, hold, temperature,...   \n",
       "188134       [really, nice, quality, look, really, good, wa...   \n",
       "188135       [luxury, look, reasonable, price, elegant, see...   \n",
       "188136       [good, luck, cutting, anything, junk, nice, id...   \n",
       "188137       [worked, great, first, return, date, policy, e...   \n",
       "\n",
       "                                                         title  \n",
       "Document_No                                                     \n",
       "0            Instant Pot DUO60 6 Qt 7-in-1 Multi-Use Progra...  \n",
       "1            Rubbermaid Easy Find Lids Food Storage Contain...  \n",
       "2            Contigo AUTOSEAL West Loop Vacuum-Insulated St...  \n",
       "3            Ozeri ZK14-R Pronto Digital Multifunction Kitc...  \n",
       "4            Clara Clark 1800 Premier Series 4pc Bed Sheet ...  \n",
       "...                                                        ...  \n",
       "188133       var aPageStart = (new Date()).getTime();\\nvar ...  \n",
       "188134       Cuisinart 100% Cotton Terry Super Absorbent Ki...  \n",
       "188135       Lenox 844724 Sharon Sacks Jeweled Jardin 5-Pie...  \n",
       "188136       ONSON Watermelon Slicer & Corer Fruit Knife Fa...  \n",
       "188137       Electric Hand-held Milk Frother Coffee Foamer ...  \n",
       "\n",
       "[192603 rows x 6 columns]"
      ]
     },
     "execution_count": 137,
     "metadata": {},
     "output_type": "execute_result"
    }
   ],
   "source": [
    "df_final"
   ]
  },
  {
   "cell_type": "code",
   "execution_count": 138,
   "metadata": {},
   "outputs": [],
   "source": [
    "df_final.drop_duplicates(subset = ['asin'],inplace = True)"
   ]
  },
  {
   "cell_type": "code",
   "execution_count": 139,
   "metadata": {},
   "outputs": [
    {
     "data": {
      "text/html": [
       "<div>\n",
       "<style scoped>\n",
       "    .dataframe tbody tr th:only-of-type {\n",
       "        vertical-align: middle;\n",
       "    }\n",
       "\n",
       "    .dataframe tbody tr th {\n",
       "        vertical-align: top;\n",
       "    }\n",
       "\n",
       "    .dataframe thead th {\n",
       "        text-align: right;\n",
       "    }\n",
       "</style>\n",
       "<table border=\"1\" class=\"dataframe\">\n",
       "  <thead>\n",
       "    <tr style=\"text-align: right;\">\n",
       "      <th></th>\n",
       "      <th>asin</th>\n",
       "      <th>Dominant_Topic</th>\n",
       "      <th>Topic_Perc_Contrib</th>\n",
       "      <th>Keywords</th>\n",
       "      <th>Text</th>\n",
       "      <th>title</th>\n",
       "    </tr>\n",
       "    <tr>\n",
       "      <th>Document_No</th>\n",
       "      <th></th>\n",
       "      <th></th>\n",
       "      <th></th>\n",
       "      <th></th>\n",
       "      <th></th>\n",
       "      <th></th>\n",
       "    </tr>\n",
       "  </thead>\n",
       "  <tbody>\n",
       "    <tr>\n",
       "      <th>0</th>\n",
       "      <td>B00FLYWNYQ</td>\n",
       "      <td>1.0</td>\n",
       "      <td>0.8206</td>\n",
       "      <td>knife, cook, oven, cooking, pan, sharp, food, ...</td>\n",
       "      <td>[excited, soon, followed, manual, setting, bro...</td>\n",
       "      <td>Instant Pot DUO60 6 Qt 7-in-1 Multi-Use Progra...</td>\n",
       "    </tr>\n",
       "    <tr>\n",
       "      <th>1</th>\n",
       "      <td>B00COK3FD8</td>\n",
       "      <td>0.0</td>\n",
       "      <td>0.9064</td>\n",
       "      <td>coffee, bowl, container, drink, cup, food, mac...</td>\n",
       "      <td>[tupperware, exactly, described, love, rubberm...</td>\n",
       "      <td>Rubbermaid Easy Find Lids Food Storage Contain...</td>\n",
       "    </tr>\n",
       "    <tr>\n",
       "      <th>2</th>\n",
       "      <td>B009HVH4XO</td>\n",
       "      <td>0.0</td>\n",
       "      <td>0.8913</td>\n",
       "      <td>coffee, bowl, container, drink, cup, food, mac...</td>\n",
       "      <td>[think, better, easy, clean, verify, rinsed, i...</td>\n",
       "      <td>Contigo AUTOSEAL West Loop Vacuum-Insulated St...</td>\n",
       "    </tr>\n",
       "    <tr>\n",
       "      <th>3</th>\n",
       "      <td>B00NX47YP4</td>\n",
       "      <td>5.0</td>\n",
       "      <td>0.6611</td>\n",
       "      <td>candle, clock, unit, smell, filter, battery, s...</td>\n",
       "      <td>[pro, seems, weigh, accurately, easy, button, ...</td>\n",
       "      <td>Ozeri ZK14-R Pronto Digital Multifunction Kitc...</td>\n",
       "    </tr>\n",
       "    <tr>\n",
       "      <th>4</th>\n",
       "      <td>B00902X68W</td>\n",
       "      <td>4.0</td>\n",
       "      <td>0.9647</td>\n",
       "      <td>pillow, sheet, vacuum, blanket, fabric, towel,...</td>\n",
       "      <td>[love, sheet, soft, cozy, problem, pilling, wa...</td>\n",
       "      <td>Clara Clark 1800 Premier Series 4pc Bed Sheet ...</td>\n",
       "    </tr>\n",
       "    <tr>\n",
       "      <th>...</th>\n",
       "      <td>...</td>\n",
       "      <td>...</td>\n",
       "      <td>...</td>\n",
       "      <td>...</td>\n",
       "      <td>...</td>\n",
       "      <td>...</td>\n",
       "    </tr>\n",
       "    <tr>\n",
       "      <th>188133</th>\n",
       "      <td>B00176NOZO</td>\n",
       "      <td>5.0</td>\n",
       "      <td>0.6188</td>\n",
       "      <td>candle, clock, unit, smell, filter, battery, s...</td>\n",
       "      <td>[sure, received, defective, hold, temperature,...</td>\n",
       "      <td>var aPageStart = (new Date()).getTime();\\nvar ...</td>\n",
       "    </tr>\n",
       "    <tr>\n",
       "      <th>188134</th>\n",
       "      <td>B00KLFM0ZW</td>\n",
       "      <td>4.0</td>\n",
       "      <td>0.8135</td>\n",
       "      <td>pillow, sheet, vacuum, blanket, fabric, towel,...</td>\n",
       "      <td>[really, nice, quality, look, really, good, wa...</td>\n",
       "      <td>Cuisinart 100% Cotton Terry Super Absorbent Ki...</td>\n",
       "    </tr>\n",
       "    <tr>\n",
       "      <th>188135</th>\n",
       "      <td>B00FYHDHT0</td>\n",
       "      <td>4.0</td>\n",
       "      <td>0.9548</td>\n",
       "      <td>pillow, sheet, vacuum, blanket, fabric, towel,...</td>\n",
       "      <td>[luxury, look, reasonable, price, elegant, see...</td>\n",
       "      <td>Lenox 844724 Sharon Sacks Jeweled Jardin 5-Pie...</td>\n",
       "    </tr>\n",
       "    <tr>\n",
       "      <th>188136</th>\n",
       "      <td>B01D1AI06Q</td>\n",
       "      <td>1.0</td>\n",
       "      <td>0.8651</td>\n",
       "      <td>knife, cook, oven, cooking, pan, sharp, food, ...</td>\n",
       "      <td>[good, luck, cutting, anything, junk, nice, id...</td>\n",
       "      <td>ONSON Watermelon Slicer &amp; Corer Fruit Knife Fa...</td>\n",
       "    </tr>\n",
       "    <tr>\n",
       "      <th>188137</th>\n",
       "      <td>B01B70WOOQ</td>\n",
       "      <td>0.0</td>\n",
       "      <td>0.5096</td>\n",
       "      <td>coffee, bowl, container, drink, cup, food, mac...</td>\n",
       "      <td>[worked, great, first, return, date, policy, e...</td>\n",
       "      <td>Electric Hand-held Milk Frother Coffee Foamer ...</td>\n",
       "    </tr>\n",
       "  </tbody>\n",
       "</table>\n",
       "<p>188138 rows × 6 columns</p>\n",
       "</div>"
      ],
      "text/plain": [
       "                   asin  Dominant_Topic  Topic_Perc_Contrib  \\\n",
       "Document_No                                                   \n",
       "0            B00FLYWNYQ             1.0              0.8206   \n",
       "1            B00COK3FD8             0.0              0.9064   \n",
       "2            B009HVH4XO             0.0              0.8913   \n",
       "3            B00NX47YP4             5.0              0.6611   \n",
       "4            B00902X68W             4.0              0.9647   \n",
       "...                 ...             ...                 ...   \n",
       "188133       B00176NOZO             5.0              0.6188   \n",
       "188134       B00KLFM0ZW             4.0              0.8135   \n",
       "188135       B00FYHDHT0             4.0              0.9548   \n",
       "188136       B01D1AI06Q             1.0              0.8651   \n",
       "188137       B01B70WOOQ             0.0              0.5096   \n",
       "\n",
       "                                                      Keywords  \\\n",
       "Document_No                                                      \n",
       "0            knife, cook, oven, cooking, pan, sharp, food, ...   \n",
       "1            coffee, bowl, container, drink, cup, food, mac...   \n",
       "2            coffee, bowl, container, drink, cup, food, mac...   \n",
       "3            candle, clock, unit, smell, filter, battery, s...   \n",
       "4            pillow, sheet, vacuum, blanket, fabric, towel,...   \n",
       "...                                                        ...   \n",
       "188133       candle, clock, unit, smell, filter, battery, s...   \n",
       "188134       pillow, sheet, vacuum, blanket, fabric, towel,...   \n",
       "188135       pillow, sheet, vacuum, blanket, fabric, towel,...   \n",
       "188136       knife, cook, oven, cooking, pan, sharp, food, ...   \n",
       "188137       coffee, bowl, container, drink, cup, food, mac...   \n",
       "\n",
       "                                                          Text  \\\n",
       "Document_No                                                      \n",
       "0            [excited, soon, followed, manual, setting, bro...   \n",
       "1            [tupperware, exactly, described, love, rubberm...   \n",
       "2            [think, better, easy, clean, verify, rinsed, i...   \n",
       "3            [pro, seems, weigh, accurately, easy, button, ...   \n",
       "4            [love, sheet, soft, cozy, problem, pilling, wa...   \n",
       "...                                                        ...   \n",
       "188133       [sure, received, defective, hold, temperature,...   \n",
       "188134       [really, nice, quality, look, really, good, wa...   \n",
       "188135       [luxury, look, reasonable, price, elegant, see...   \n",
       "188136       [good, luck, cutting, anything, junk, nice, id...   \n",
       "188137       [worked, great, first, return, date, policy, e...   \n",
       "\n",
       "                                                         title  \n",
       "Document_No                                                     \n",
       "0            Instant Pot DUO60 6 Qt 7-in-1 Multi-Use Progra...  \n",
       "1            Rubbermaid Easy Find Lids Food Storage Contain...  \n",
       "2            Contigo AUTOSEAL West Loop Vacuum-Insulated St...  \n",
       "3            Ozeri ZK14-R Pronto Digital Multifunction Kitc...  \n",
       "4            Clara Clark 1800 Premier Series 4pc Bed Sheet ...  \n",
       "...                                                        ...  \n",
       "188133       var aPageStart = (new Date()).getTime();\\nvar ...  \n",
       "188134       Cuisinart 100% Cotton Terry Super Absorbent Ki...  \n",
       "188135       Lenox 844724 Sharon Sacks Jeweled Jardin 5-Pie...  \n",
       "188136       ONSON Watermelon Slicer & Corer Fruit Knife Fa...  \n",
       "188137       Electric Hand-held Milk Frother Coffee Foamer ...  \n",
       "\n",
       "[188138 rows x 6 columns]"
      ]
     },
     "execution_count": 139,
     "metadata": {},
     "output_type": "execute_result"
    }
   ],
   "source": [
    "df_final"
   ]
  },
  {
   "cell_type": "markdown",
   "metadata": {},
   "source": [
    "## Let's make some recommendations!"
   ]
  },
  {
   "cell_type": "code",
   "execution_count": 175,
   "metadata": {},
   "outputs": [],
   "source": [
    "#Define recommender function\n",
    "def Product_recommender(asin):\n",
    "    prd_checked = 0\n",
    "    for i in range(len(df_final)):\n",
    "        recommendation_scores = []\n",
    "        if df_final.asin[i] == asin:\n",
    "            lda_vectors = corpus_lda_model[i]\n",
    "\n",
    "            sims = index[lda_vectors]\n",
    "            sims = list(enumerate(sims))\n",
    "            for sim in sims:\n",
    "                item_num = sim[0]\n",
    "                recommendation_score = [df_final.title[item_num], sim[1]]\n",
    "                recommendation_scores.append(recommendation_score)\n",
    "                \n",
    "            recommendation = sorted(recommendation_scores, key=lambda x: x[1], reverse=True)\n",
    "            \n",
    "            print(\"Your item's most prominant topic is:\")\n",
    "            print(lda_model.print_topic(max(lda_vectors, key=lambda item: item[-1])[0]))\n",
    "            print('-----')\n",
    "            print('Here are your recommendations for \"{}\":'.format(df_final.title[i]))\n",
    "            display(recommendation[1:6])\n",
    "        \n",
    "        else:\n",
    "            prd_checked +=1\n",
    "            \n",
    "        if prd_checked == len(df_final):\n",
    "            print('Sorry, but it looks like \"{}\" is not available.'.format(asin))"
   ]
  },
  {
   "cell_type": "code",
   "execution_count": 176,
   "metadata": {},
   "outputs": [
    {
     "name": "stdout",
     "output_type": "stream",
     "text": [
      "Your item's most prominant topic is:\n",
      "0.024*\"coffee\" + 0.012*\"bowl\" + 0.009*\"container\" + 0.007*\"drink\" + 0.007*\"cup\" + 0.007*\"food\" + 0.006*\"machine\" + 0.005*\"cold\" + 0.005*\"lunch\" + 0.005*\"bag\"\n",
      "-----\n",
      "Here are your recommendations for \"Rubbermaid Easy Find Lids Food Storage Containers, Racer Red, 42-Piece Set 1880801\":\n"
     ]
    },
    {
     "data": {
      "text/plain": [
       "[['Classic 28 oz. Unbreakable Polycarbonate Jumbo Cooler', 0.99999994],\n",
       " ['Wine Enthusiast Steady-Temp Double Wall Beer Glasses, Set of 2',\n",
       "  0.99999994],\n",
       " ['Set of 4 - 16-oz Clear Glass Mason Jar Beverage Cups with Handles,  4 Clear Glass Drink Cups with Metal Lids',\n",
       "  0.99999994],\n",
       " ['Imperial 10 Pcs Glass Nested Dipping or Storage Bowls with Black and Red Lids - 2 Pack',\n",
       "  0.99999994],\n",
       " ['Cuisinox Stainless Steel Double Walled Beer Stein', 0.99999994]]"
      ]
     },
     "metadata": {},
     "output_type": "display_data"
    }
   ],
   "source": [
    "Product_recommender('B00COK3FD8')"
   ]
  },
  {
   "cell_type": "code",
   "execution_count": 177,
   "metadata": {},
   "outputs": [
    {
     "name": "stdout",
     "output_type": "stream",
     "text": [
      "Your item's most prominant topic is:\n",
      "0.025*\"pillow\" + 0.023*\"sheet\" + 0.014*\"vacuum\" + 0.011*\"blanket\" + 0.009*\"fabric\" + 0.009*\"towel\" + 0.007*\"floor\" + 0.007*\"comforter\" + 0.007*\"warm\" + 0.007*\"washed\"\n",
      "-----\n",
      "Here are your recommendations for \"Clara Clark 1800 Premier Series 4pc Bed Sheet Set - King, Camel Gold\":\n"
     ]
    },
    {
     "data": {
      "text/plain": [
       "[['Sweet Home Collection 2 Piece Reversible Polyester Microfiber Goose Down Alternative Comforter Set with Pillow Shams, Twin, Burgundy/Black',\n",
       "  1.0],\n",
       " ['Bare Home Premium 1800 Ultra-Soft Microfiber Sheet Set Full Extra Long - Double Brushed - Hypoallergenic - Wrinkle Resistant (Full XL, Grey)',\n",
       "  0.99999994],\n",
       " ['Clara Clark Complete 7 Piece Bed Sheet and Duvet Cover Set, Queen Size, Camel Yellow Gold',\n",
       "  0.99999994],\n",
       " ['Utopia Bedding Hypoallergenic Brushed Cotton Pillowcases, Maximum Softness and Easy Care, Elegant Double-Stitched Tailoring, Reduces Allergies and Respiratory Irritation (King, Grey)',\n",
       "  0.99999994],\n",
       " ['BrylaneHome Amelia Bedspread', 0.99999994]]"
      ]
     },
     "metadata": {},
     "output_type": "display_data"
    }
   ],
   "source": [
    "Product_recommender('B00902X68W')"
   ]
  },
  {
   "cell_type": "code",
   "execution_count": 178,
   "metadata": {},
   "outputs": [
    {
     "name": "stdout",
     "output_type": "stream",
     "text": [
      "Your item's most prominant topic is:\n",
      "0.026*\"chair\" + 0.019*\"mattress\" + 0.015*\"comfortable\" + 0.014*\"wine\" + 0.010*\"bottle\" + 0.009*\"pillow\" + 0.008*\"foam\" + 0.007*\"towel\" + 0.006*\"sleep\" + 0.006*\"seat\"\n",
      "-----\n",
      "Here are your recommendations for \"ZYLISS Lock N' Lift Can Opener with Lid Lifter Magnet, White\":\n"
     ]
    },
    {
     "data": {
      "text/plain": [
       "[[\"Chef'n EzSqueeze One-Handed Can Opener (Black and Meringue)\", 0.9980025],\n",
       " ['EZ-DUZ-IT Deluxe Can Opener with Red Grips', 0.9977635],\n",
       " ['Swing-A-Way 6090 Easy Crank Can Opener, Black', 0.9977413],\n",
       " ['Resource for Cooking Stainless Steel Manual Can Opener', 0.9977094],\n",
       " ['Commercial Swing-a-way Easy Crank Can Opener Heavy Duty - Ergonomic Design',\n",
       "  0.99740726]]"
      ]
     },
     "metadata": {},
     "output_type": "display_data"
    }
   ],
   "source": [
    "Product_recommender('B000HK03HI')"
   ]
  },
  {
   "cell_type": "code",
   "execution_count": 179,
   "metadata": {},
   "outputs": [
    {
     "name": "stdout",
     "output_type": "stream",
     "text": [
      "Your item's most prominant topic is:\n",
      "0.007*\"frame\" + 0.007*\"wall\" + 0.006*\"shelf\" + 0.006*\"tree\" + 0.005*\"wood\" + 0.005*\"party\" + 0.004*\"hang\" + 0.004*\"stand\" + 0.004*\"ornament\" + 0.004*\"door\"\n",
      "-----\n",
      "Here are your recommendations for \"Country Living Havenbrook Nightstand, Hazelnut\":\n"
     ]
    },
    {
     "data": {
      "text/plain": [
       "[['Lipper International 520W Child\\'s Table for Play or Activity, 23.75\" x 23.75\" Square, 21.66\" Tall, White',\n",
       "  0.99999994],\n",
       " ['Country Living Havenbrook Nightstand, Hazelnut', 0.99999994],\n",
       " ['Anagram International Hot Wheels Speed City Bouquet, Multicolor',\n",
       "  0.99999976],\n",
       " ['Zuo Modern 102151 Galaxy Dining Table, Round Dining Table, Tempered Glass Top, Chromed Steel Tube Center and Base, Chrome Finish',\n",
       "  0.99999964],\n",
       " ['JPI DGA Marilyn Monroe Smile Now Cry Later Super Soft Queen Size Comforter w/Pillow Shams',\n",
       "  0.99999964]]"
      ]
     },
     "metadata": {},
     "output_type": "display_data"
    }
   ],
   "source": [
    "Product_recommender('B0116MAECO')"
   ]
  },
  {
   "cell_type": "code",
   "execution_count": 180,
   "metadata": {},
   "outputs": [
    {
     "name": "stdout",
     "output_type": "stream",
     "text": [
      "Your item's most prominant topic is:\n",
      "0.015*\"candle\" + 0.013*\"clock\" + 0.012*\"unit\" + 0.011*\"smell\" + 0.011*\"filter\" + 0.009*\"battery\" + 0.007*\"scent\" + 0.005*\"heat\" + 0.005*\"turn\" + 0.005*\"working\"\n",
      "-----\n",
      "Here are your recommendations for \"BLACK+DECKER BDH2000PL MAX Lithium Pivot Vacuum, 20-volt\":\n"
     ]
    },
    {
     "data": {
      "text/plain": [
       "[['BLACK+DECKER PHV1800CB 18-Volt Pivoting-Nose Cordless Handheld Vacuum Cleaner',\n",
       "  0.99981004],\n",
       " ['Generic Hoover WindTunnel Self-Propelled, and Bagless Models HEPA Exhaust Filter, Fits Hoover Part#40110001',\n",
       "  0.9996555],\n",
       " ['HQRP 1500mAh Battery for Dyson DC16 Root 6 / Animal/ISSEY MIYAKE 912433-04 912433-03 exclusive Vacuum Cleaners Replacement plus HQRP Coaster',\n",
       "  0.9995447],\n",
       " ['Think Crucial 2 Replacements for Eureka HF8 HEPA Style Filter Fits 3600 & Mighty Mite Canisters, Compatible With Part # 60666, 60666A, 60666B & 60666-6',\n",
       "  0.9993624],\n",
       " ['Think Crucial 4 Replacements for Eureka DCF-21 Filter Fits Sanitaire AirSpeed Bagless, Compatible With Part # 67821, 68931 & EF91; Washable & Reusable',\n",
       "  0.9992909]]"
      ]
     },
     "metadata": {},
     "output_type": "display_data"
    }
   ],
   "source": [
    "Product_recommender('B00IOEFBKS')"
   ]
  },
  {
   "cell_type": "code",
   "execution_count": 181,
   "metadata": {},
   "outputs": [
    {
     "name": "stdout",
     "output_type": "stream",
     "text": [
      "Your item's most prominant topic is:\n",
      "0.026*\"curtain\" + 0.019*\"shower\" + 0.015*\"bathroom\" + 0.011*\"board\" + 0.009*\"window\" + 0.009*\"spoon\" + 0.009*\"soap\" + 0.009*\"mold\" + 0.008*\"tray\" + 0.007*\"shower_curtain\"\n",
      "-----\n",
      "Here are your recommendations for \"InterDesign PEVA 3 Gauge Shower Curtain Liner - Mold/Mildew Resistant, PVC Free – Sand, 54\" x 78\"\":\n"
     ]
    },
    {
     "data": {
      "text/plain": [
       "[['LynnWang Design 72x72 Inch PVC FREE Shower Curtain or Liner,White Floral,With 12 Hooks, 100% EVA',\n",
       "  0.99990875],\n",
       " ['Utopia Roller Shower Curtain Rings/Hooks, 100% Stainless Steel, Polished Chrome, Set of 12 Rings (Chrome)',\n",
       "  0.9998978],\n",
       " ['mDesign - 2 Pack - Waterproof, Mold/Mildew Resistant, Heavy Duty PEVA Shower Curtain Liner for Bathroom Showers and Bathtubs - No Odor, Chlorine Free - 3 Gauge, 72\" x 72\" - Clear',\n",
       "  0.99989456],\n",
       " ['Eforcurtain Small 36 by 72-inch Cobblestone Waterproof and No More Mildew Shower Curtain Liner PVC Semi-Transparent Bath Stall Curtain Used as Stand Alone or Liner',\n",
       "  0.9998553],\n",
       " ['InterDesign Vinyl 4.8 Gauge Shower Liner, 72 x 72, Clear', 0.9997402]]"
      ]
     },
     "metadata": {},
     "output_type": "display_data"
    }
   ],
   "source": [
    "Product_recommender('B00AYULZEQ')"
   ]
  },
  {
   "cell_type": "markdown",
   "metadata": {},
   "source": [
    "## Get recommendations just by querying istead of item id"
   ]
  },
  {
   "cell_type": "code",
   "execution_count": 182,
   "metadata": {},
   "outputs": [],
   "source": [
    "def Query_Rec(doc):\n",
    "    tokenizer = RegexpTokenizer(r'\\w+')\n",
    "    lemmatizer = WordNetLemmatizer()\n",
    "    tokens = tokenizer.tokenize(doc.lower())\n",
    "    tokens_alp = [token for token in tokens if not token.isnumeric()]\n",
    "    token_gr_3 = [token for token in tokens_alp if len(token) > 3]\n",
    "    stopped_tokens = [token for token in token_gr_3 if not token in stop_words]\n",
    "    lemm_tokens = [lemmatizer.lemmatize(token) for token in stopped_tokens] \n",
    "    \n",
    "    # translate words in query to ids and frequencies. \n",
    "    id2word = gensim.corpora.Dictionary()\n",
    "    _ = id2word.merge_with(texts_dict_unq) # garbage\n",
    "\n",
    "    # translate this document into (word, frequency) pairs\n",
    "    query = id2word.doc2bow(lemm_tokens)\n",
    "    a = list(sorted(lda_model[query], key=lambda x: x[1])) # sort by the second entry in the tuple\n",
    "    print('Query comprised of the following topics', a)\n",
    "    \n",
    "    sims = index[a]\n",
    "    sims = list(enumerate(sims))\n",
    "    recommendation_scores = []\n",
    "    for sim in sims:\n",
    "        item_num = sim[0]\n",
    "        recommendation_score = [df_final.title[item_num], sim[1]]\n",
    "        recommendation_scores.append(recommendation_score)\n",
    "    recommendation = sorted(recommendation_scores, key=lambda x: x[1], reverse=True)\n",
    "    print(\"Your item's most prominant topic is:\")\n",
    "    print(lda_model.print_topic(max(a, key=lambda item: item[-1])[0]))\n",
    "    print('-----')\n",
    "    print('Here are your recommendations for \"{}\":'.format(doc))\n",
    "    display(recommendation[1:5])"
   ]
  },
  {
   "cell_type": "code",
   "execution_count": 183,
   "metadata": {},
   "outputs": [
    {
     "name": "stdout",
     "output_type": "stream",
     "text": [
      "Query comprised of the following topics [(0, 0.010909599), (3, 0.32739046), (5, 0.62681526)]\n",
      "Your item's most prominant topic is:\n",
      "0.015*\"candle\" + 0.013*\"clock\" + 0.012*\"unit\" + 0.011*\"smell\" + 0.011*\"filter\" + 0.009*\"battery\" + 0.007*\"scent\" + 0.005*\"heat\" + 0.005*\"turn\" + 0.005*\"working\"\n",
      "-----\n",
      "Here are your recommendations for \"Dimmable Light Bulbs for Indoor Outdoor Patio Decor\":\n"
     ]
    },
    {
     "data": {
      "text/plain": [
       "[['LightFairy Wall Art Framed Canvas Decoration, Design for Home Decor, Glow in The Dark Painting for Living Room - Solar System (32 x 16 inch)',\n",
       "  0.999881],\n",
       " ['Candle Choice Set of 6 Indoor and Outdoor Remote Controlled Multi-color / Color Changing Flameless Votive Candles / LED Votive Candles /Battery-operated Candles',\n",
       "  0.999881],\n",
       " ['Sunnydaze Tiered Pitchers on Brick Steps Tabletop Water Fountain with LED Light, 10 Inch',\n",
       "  0.999881],\n",
       " ['12 Inch Natural Beeswax Glitter Candles, Gold Color, Boxed Set of 2 candles',\n",
       "  0.999881]]"
      ]
     },
     "metadata": {},
     "output_type": "display_data"
    }
   ],
   "source": [
    "Query_Rec('Dimmable Light Bulbs for Indoor Outdoor Patio Decor')"
   ]
  }
 ],
 "metadata": {
  "kernelspec": {
   "display_name": "Python 3",
   "language": "python",
   "name": "python3"
  },
  "language_info": {
   "codemirror_mode": {
    "name": "ipython",
    "version": 3
   },
   "file_extension": ".py",
   "mimetype": "text/x-python",
   "name": "python",
   "nbconvert_exporter": "python",
   "pygments_lexer": "ipython3",
   "version": "3.6.10"
  }
 },
 "nbformat": 4,
 "nbformat_minor": 4
}
