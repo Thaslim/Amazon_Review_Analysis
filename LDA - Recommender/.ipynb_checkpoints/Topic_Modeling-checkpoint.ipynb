{
 "cells": [
  {
   "cell_type": "code",
   "execution_count": 2,
   "metadata": {},
   "outputs": [],
   "source": [
    "#Import all the necessary packages\n",
    "import pandas as pd\n",
    "import gensim\n",
    "from nltk.stem import WordNetLemmatizer\n",
    "from nltk.tokenize import RegexpTokenizer\n",
    "from nltk.corpus import stopwords\n",
    "from stop_words import get_stop_words\n",
    "from gensim import corpora, models\n",
    "from gensim.models import Phrases\n",
    "from nltk.stem.porter import *\n",
    "import numpy as np\n",
    "import operator\n",
    "import nltk\n",
    "# Compute bigrams.\n",
    "from gensim.models import Phrases\n",
    "from pprint import pprint\n",
    "# Plotting tools\n",
    "import pyLDAvis\n",
    "import pyLDAvis.gensim  # don't skip this\n",
    "import pickle"
   ]
  },
  {
   "cell_type": "code",
   "execution_count": 2,
   "metadata": {},
   "outputs": [],
   "source": [
    "#Load data\n",
    "df = pd.read_pickle('Clean_data')"
   ]
  },
  {
   "cell_type": "code",
   "execution_count": 3,
   "metadata": {},
   "outputs": [],
   "source": [
    "#Filter required columns\n",
    "df = df.filter(items=['asin','reviewText'])"
   ]
  },
  {
   "cell_type": "code",
   "execution_count": 4,
   "metadata": {},
   "outputs": [
    {
     "data": {
      "text/html": [
       "<div>\n",
       "<style scoped>\n",
       "    .dataframe tbody tr th:only-of-type {\n",
       "        vertical-align: middle;\n",
       "    }\n",
       "\n",
       "    .dataframe tbody tr th {\n",
       "        vertical-align: top;\n",
       "    }\n",
       "\n",
       "    .dataframe thead th {\n",
       "        text-align: right;\n",
       "    }\n",
       "</style>\n",
       "<table border=\"1\" class=\"dataframe\">\n",
       "  <thead>\n",
       "    <tr style=\"text-align: right;\">\n",
       "      <th></th>\n",
       "      <th>asin</th>\n",
       "      <th>reviewText</th>\n",
       "    </tr>\n",
       "  </thead>\n",
       "  <tbody>\n",
       "    <tr>\n",
       "      <th>0</th>\n",
       "      <td>B00004R940</td>\n",
       "      <td>I'll admit it -- I'm a bit of a snob when it c...</td>\n",
       "    </tr>\n",
       "    <tr>\n",
       "      <th>1</th>\n",
       "      <td>B00004S4TZ</td>\n",
       "      <td>Maybe when Mom cooked for a big family every d...</td>\n",
       "    </tr>\n",
       "    <tr>\n",
       "      <th>2</th>\n",
       "      <td>B00004RDAZ</td>\n",
       "      <td>This was an impulse buy, I was looking for a b...</td>\n",
       "    </tr>\n",
       "    <tr>\n",
       "      <th>3</th>\n",
       "      <td>B00004S576</td>\n",
       "      <td>I bought this rice cooker based on the first t...</td>\n",
       "    </tr>\n",
       "    <tr>\n",
       "      <th>4</th>\n",
       "      <td>B00004SBIB</td>\n",
       "      <td>I went mad when I first saw this amazing cassa...</td>\n",
       "    </tr>\n",
       "    <tr>\n",
       "      <th>...</th>\n",
       "      <td>...</td>\n",
       "      <td>...</td>\n",
       "    </tr>\n",
       "    <tr>\n",
       "      <th>6053291</th>\n",
       "      <td>B01HCJCM52</td>\n",
       "      <td>These are exactly what I was looking for to so...</td>\n",
       "    </tr>\n",
       "    <tr>\n",
       "      <th>6053292</th>\n",
       "      <td>B01HIAZ9BY</td>\n",
       "      <td>Looks cheap but its sturdy to my surprise. //G...</td>\n",
       "    </tr>\n",
       "    <tr>\n",
       "      <th>6053293</th>\n",
       "      <td>B01HIAZ9BY</td>\n",
       "      <td>Great look and quality //Great product</td>\n",
       "    </tr>\n",
       "    <tr>\n",
       "      <th>6053294</th>\n",
       "      <td>B01HHAW9HW</td>\n",
       "      <td>This is a great lunchbox. My daughter loves th...</td>\n",
       "    </tr>\n",
       "    <tr>\n",
       "      <th>6053295</th>\n",
       "      <td>B01HHHGFQ6</td>\n",
       "      <td>well made and comfortable, as advertised //Fiv...</td>\n",
       "    </tr>\n",
       "  </tbody>\n",
       "</table>\n",
       "<p>6053296 rows × 2 columns</p>\n",
       "</div>"
      ],
      "text/plain": [
       "               asin                                         reviewText\n",
       "0        B00004R940  I'll admit it -- I'm a bit of a snob when it c...\n",
       "1        B00004S4TZ  Maybe when Mom cooked for a big family every d...\n",
       "2        B00004RDAZ  This was an impulse buy, I was looking for a b...\n",
       "3        B00004S576  I bought this rice cooker based on the first t...\n",
       "4        B00004SBIB  I went mad when I first saw this amazing cassa...\n",
       "...             ...                                                ...\n",
       "6053291  B01HCJCM52  These are exactly what I was looking for to so...\n",
       "6053292  B01HIAZ9BY  Looks cheap but its sturdy to my surprise. //G...\n",
       "6053293  B01HIAZ9BY             Great look and quality //Great product\n",
       "6053294  B01HHAW9HW  This is a great lunchbox. My daughter loves th...\n",
       "6053295  B01HHHGFQ6  well made and comfortable, as advertised //Fiv...\n",
       "\n",
       "[6053296 rows x 2 columns]"
      ]
     },
     "execution_count": 4,
     "metadata": {},
     "output_type": "execute_result"
    }
   ],
   "source": [
    "df"
   ]
  },
  {
   "cell_type": "code",
   "execution_count": 5,
   "metadata": {},
   "outputs": [
    {
     "name": "stdout",
     "output_type": "stream",
     "text": [
      "Number of Products: 188138\n"
     ]
    }
   ],
   "source": [
    "#Check the no.of unique product id\n",
    "n_products = df.asin.unique().shape[0]\n",
    "print('Number of Products:', n_products)"
   ]
  },
  {
   "cell_type": "code",
   "execution_count": 6,
   "metadata": {},
   "outputs": [],
   "source": [
    "#Group reviews by product id and add a column count\n",
    "df_grouped = df.groupby(['asin']).agg({'reviewText': ' ** '.join,'asin':'size'}).rename(columns={'asin':'count'}).reset_index()"
   ]
  },
  {
   "cell_type": "code",
   "execution_count": 7,
   "metadata": {},
   "outputs": [],
   "source": [
    "#Sort dataframe by count in descending order\n",
    "df_grouped.sort_values(by = 'count',ascending=False,inplace=True)"
   ]
  },
  {
   "cell_type": "code",
   "execution_count": 8,
   "metadata": {},
   "outputs": [],
   "source": [
    "#reset index\n",
    "df_grouped.reset_index(inplace=True,drop=True)"
   ]
  },
  {
   "cell_type": "code",
   "execution_count": 9,
   "metadata": {},
   "outputs": [
    {
     "data": {
      "text/html": [
       "<div>\n",
       "<style scoped>\n",
       "    .dataframe tbody tr th:only-of-type {\n",
       "        vertical-align: middle;\n",
       "    }\n",
       "\n",
       "    .dataframe tbody tr th {\n",
       "        vertical-align: top;\n",
       "    }\n",
       "\n",
       "    .dataframe thead th {\n",
       "        text-align: right;\n",
       "    }\n",
       "</style>\n",
       "<table border=\"1\" class=\"dataframe\">\n",
       "  <thead>\n",
       "    <tr style=\"text-align: right;\">\n",
       "      <th></th>\n",
       "      <th>asin</th>\n",
       "      <th>reviewText</th>\n",
       "      <th>count</th>\n",
       "    </tr>\n",
       "  </thead>\n",
       "  <tbody>\n",
       "    <tr>\n",
       "      <th>0</th>\n",
       "      <td>B00FLYWNYQ</td>\n",
       "      <td>I was excited to try this so as soon as I got ...</td>\n",
       "      <td>7433</td>\n",
       "    </tr>\n",
       "    <tr>\n",
       "      <th>1</th>\n",
       "      <td>B00COK3FD8</td>\n",
       "      <td>The tupperware was exactly as described. I lov...</td>\n",
       "      <td>4563</td>\n",
       "    </tr>\n",
       "    <tr>\n",
       "      <th>2</th>\n",
       "      <td>B009HVH4XO</td>\n",
       "      <td>i have 4 of these and i didn't think they coul...</td>\n",
       "      <td>4460</td>\n",
       "    </tr>\n",
       "    <tr>\n",
       "      <th>3</th>\n",
       "      <td>B00NX47YP4</td>\n",
       "      <td>Pros:\\nSeems to weigh accurately\\nEasy to use ...</td>\n",
       "      <td>4379</td>\n",
       "    </tr>\n",
       "    <tr>\n",
       "      <th>4</th>\n",
       "      <td>B00902X68W</td>\n",
       "      <td>I love these sheets.  They are so soft and coz...</td>\n",
       "      <td>3725</td>\n",
       "    </tr>\n",
       "    <tr>\n",
       "      <th>...</th>\n",
       "      <td>...</td>\n",
       "      <td>...</td>\n",
       "      <td>...</td>\n",
       "    </tr>\n",
       "    <tr>\n",
       "      <th>188133</th>\n",
       "      <td>B00176NOZO</td>\n",
       "      <td>I'm not sure if the one I received was defecti...</td>\n",
       "      <td>1</td>\n",
       "    </tr>\n",
       "    <tr>\n",
       "      <th>188134</th>\n",
       "      <td>B00KLFM0ZW</td>\n",
       "      <td>They are really nice quality and they look rea...</td>\n",
       "      <td>1</td>\n",
       "    </tr>\n",
       "    <tr>\n",
       "      <th>188135</th>\n",
       "      <td>B00FYHDHT0</td>\n",
       "      <td>Luxury look at a reasonable price.  Very elega...</td>\n",
       "      <td>1</td>\n",
       "    </tr>\n",
       "    <tr>\n",
       "      <th>188136</th>\n",
       "      <td>B01D1AI06Q</td>\n",
       "      <td>Good luck cutting anything with this junk. Nic...</td>\n",
       "      <td>1</td>\n",
       "    </tr>\n",
       "    <tr>\n",
       "      <th>188137</th>\n",
       "      <td>B01B70WOOQ</td>\n",
       "      <td>Worked great at first.  Just before the return...</td>\n",
       "      <td>1</td>\n",
       "    </tr>\n",
       "  </tbody>\n",
       "</table>\n",
       "<p>188138 rows × 3 columns</p>\n",
       "</div>"
      ],
      "text/plain": [
       "              asin                                         reviewText  count\n",
       "0       B00FLYWNYQ  I was excited to try this so as soon as I got ...   7433\n",
       "1       B00COK3FD8  The tupperware was exactly as described. I lov...   4563\n",
       "2       B009HVH4XO  i have 4 of these and i didn't think they coul...   4460\n",
       "3       B00NX47YP4  Pros:\\nSeems to weigh accurately\\nEasy to use ...   4379\n",
       "4       B00902X68W  I love these sheets.  They are so soft and coz...   3725\n",
       "...            ...                                                ...    ...\n",
       "188133  B00176NOZO  I'm not sure if the one I received was defecti...      1\n",
       "188134  B00KLFM0ZW  They are really nice quality and they look rea...      1\n",
       "188135  B00FYHDHT0  Luxury look at a reasonable price.  Very elega...      1\n",
       "188136  B01D1AI06Q  Good luck cutting anything with this junk. Nic...      1\n",
       "188137  B01B70WOOQ  Worked great at first.  Just before the return...      1\n",
       "\n",
       "[188138 rows x 3 columns]"
      ]
     },
     "execution_count": 9,
     "metadata": {},
     "output_type": "execute_result"
    }
   ],
   "source": [
    "df_grouped"
   ]
  },
  {
   "cell_type": "code",
   "execution_count": 26,
   "metadata": {},
   "outputs": [],
   "source": [
    "#Print a random review text\n",
    "#df_grouped.reviewText[0]"
   ]
  },
  {
   "cell_type": "markdown",
   "metadata": {},
   "source": [
    "### Tokenize"
   ]
  },
  {
   "cell_type": "code",
   "execution_count": 11,
   "metadata": {},
   "outputs": [],
   "source": [
    "tokenizer = RegexpTokenizer(r'\\w+')"
   ]
  },
  {
   "cell_type": "code",
   "execution_count": 12,
   "metadata": {},
   "outputs": [],
   "source": [
    "doc_1 = df_grouped.reviewText[0]"
   ]
  },
  {
   "cell_type": "code",
   "execution_count": 13,
   "metadata": {},
   "outputs": [
    {
     "name": "stdout",
     "output_type": "stream",
     "text": [
      "2854393 characters in string vs 541632 words in a list\n"
     ]
    }
   ],
   "source": [
    "# Using the sample reviewtext\n",
    "tokens = tokenizer.tokenize(doc_1.lower())\n",
    "print('{} characters in string vs {} words in a list'.format(len(doc_1), len(tokens)))"
   ]
  },
  {
   "cell_type": "code",
   "execution_count": 14,
   "metadata": {},
   "outputs": [
    {
     "name": "stdout",
     "output_type": "stream",
     "text": [
      "535183 words in a list after removing numbers\n"
     ]
    }
   ],
   "source": [
    "# Remove numbers, but not words that contain numbers.\n",
    "docs = [token for token in tokens if not token.isnumeric()]\n",
    "print('{} words in a list after removing numbers'.format(len(docs)))"
   ]
  },
  {
   "cell_type": "code",
   "execution_count": 15,
   "metadata": {},
   "outputs": [
    {
     "name": "stdout",
     "output_type": "stream",
     "text": [
      "291878 words in a list after words that are less than 4 chars\n"
     ]
    }
   ],
   "source": [
    "# Remove words that are less than 4 characters only\n",
    "docs = [token for token in docs if len(token) > 3]\n",
    "print('{} words in a list after words that are less than 4 chars'.format(len(docs)))"
   ]
  },
  {
   "cell_type": "markdown",
   "metadata": {},
   "source": [
    "### Remove stop words"
   ]
  },
  {
   "cell_type": "code",
   "execution_count": 17,
   "metadata": {},
   "outputs": [
    {
     "name": "stdout",
     "output_type": "stream",
     "text": [
      "234\n",
      "['hadn', 'is', 'do', 'my', 'you', 'd', 'to', 'shouldn', \"can't\", \"you're\"]\n"
     ]
    }
   ],
   "source": [
    "#create a merged list of stop words\n",
    "nltk_stpwd = stopwords.words('english')\n",
    "#Extend stopwords with commonly found tokens in review texts\n",
    "nltk_stpwd.extend(['generally', 'used', 'personally', 'review', 'honestly','truly','whatever','done','star','one','two','three','four','five','since','ever','even','much','thing','also','go','come','must'])\n",
    "stop_words_stpwd = get_stop_words('en')\n",
    "merged_stopwords = list(set(nltk_stpwd + stop_words_stpwd))\n",
    "\n",
    "print(len(set(merged_stopwords)))\n",
    "print(merged_stopwords[:10])"
   ]
  },
  {
   "cell_type": "code",
   "execution_count": 18,
   "metadata": {},
   "outputs": [
    {
     "name": "stdout",
     "output_type": "stream",
     "text": [
      "223868 words in a list after removing stop words\n"
     ]
    }
   ],
   "source": [
    "stopped_tokens = [token for token in docs if not token in merged_stopwords]\n",
    "print('{} words in a list after removing stop words'.format(len(stopped_tokens)))"
   ]
  },
  {
   "cell_type": "markdown",
   "metadata": {},
   "source": [
    "### Lemmatization\n",
    "##### https://nlp.stanford.edu/IR-book/html/htmledition/stemming-and-lemmatization-1.html"
   ]
  },
  {
   "cell_type": "code",
   "execution_count": 19,
   "metadata": {},
   "outputs": [],
   "source": [
    "# Instantiate a WordNetLemmatizer\n",
    "lemmatizer = WordNetLemmatizer() "
   ]
  },
  {
   "cell_type": "code",
   "execution_count": null,
   "metadata": {},
   "outputs": [],
   "source": [
    "lemm_tokens = [lemmatizer.lemmatize(token) for token in stopped_tokens]\n",
    "print(lemm_tokens[:10])"
   ]
  },
  {
   "cell_type": "markdown",
   "metadata": {},
   "source": [
    "#### Do all the preprocessing steps for the entire dataset"
   ]
  },
  {
   "cell_type": "code",
   "execution_count": 22,
   "metadata": {},
   "outputs": [],
   "source": [
    "num_reviews = df_grouped.shape[0]\n",
    "\n",
    "doc_set = [df_grouped.reviewText[i] for i in range(num_reviews)]\n",
    "\n",
    "texts = []\n",
    "\n",
    "for doc in doc_set:\n",
    "    # putting our 5 steps together\n",
    "    tokens = tokenizer.tokenize(doc.lower())\n",
    "    tokens_alp = [token for token in tokens if not token.isnumeric()]\n",
    "    token_gr_3 = [token for token in tokens_alp if len(token) > 3]\n",
    "    stopped_tokens = [token for token in token_gr_3 if not token in merged_stopwords]\n",
    "    lemm_tokens = [lemmatizer.lemmatize(token) for token in stopped_tokens]\n",
    "    # add tokens to list\n",
    "    texts.append(lemm_tokens)"
   ]
  },
  {
   "cell_type": "markdown",
   "metadata": {},
   "source": [
    "#### Add bigrams and trigrams to docs (only ones that appear 30 times or more)."
   ]
  },
  {
   "cell_type": "code",
   "execution_count": 23,
   "metadata": {},
   "outputs": [],
   "source": [
    "\n",
    "bigram = Phrases(texts, min_count=30)\n",
    "for idx in range(len(texts)):\n",
    "    for token in bigram[texts[idx]]:\n",
    "        if '_' in token:\n",
    "            # Token is a bigram, add to document.\n",
    "            texts[idx].append(token)"
   ]
  },
  {
   "cell_type": "code",
   "execution_count": 24,
   "metadata": {},
   "outputs": [],
   "source": [
    "#Save preprocessed pickle file for later use\n",
    "with open('texts.pkl', 'wb') as f:\n",
    "    pickle.dump(texts, f)"
   ]
  },
  {
   "cell_type": "code",
   "execution_count": 25,
   "metadata": {},
   "outputs": [
    {
     "name": "stdout",
     "output_type": "stream",
     "text": [
      "Dictionary(292059 unique tokens: ['00pm', '02atm', '1000w', '100v', '10min']...)\n"
     ]
    }
   ],
   "source": [
    "# Gensim's Dictionary encapsulates the mapping between normalized words and their integer ids.\n",
    "texts_dict = corpora.Dictionary(texts)\n",
    "texts_dict.save('auto_review.dict') # lets save to disk for later use\n",
    "# Examine each token’s unique id\n",
    "print(texts_dict)"
   ]
  },
  {
   "cell_type": "code",
   "execution_count": 26,
   "metadata": {},
   "outputs": [
    {
     "name": "stdout",
     "output_type": "stream",
     "text": [
      "IDs 1 through 10: [('00pm', 0), ('02atm', 1), ('1000w', 2), ('100v', 3), ('10min', 4), ('10mins', 5), ('10minutes', 6), ('10oz', 7), ('10qt', 8), ('10th', 9)]\n"
     ]
    }
   ],
   "source": [
    "print(\"IDs 1 through 10: {}\".format(sorted(texts_dict.token2id.items(), key=operator.itemgetter(1), reverse = False)[:10]))"
   ]
  },
  {
   "cell_type": "code",
   "execution_count": 17,
   "metadata": {},
   "outputs": [
    {
     "name": "stdout",
     "output_type": "stream",
     "text": [
      "Dictionary(39976 unique tokens: ['00pm', '1000w', '10min', '10mins', '10minutes']...)\n",
      "top terms:\n",
      "[('00pm', 0), ('1000w', 1), ('10min', 2), ('10mins', 3), ('10minutes', 4), ('10oz', 5), ('10qt', 6), ('10th', 7), ('110f', 8), ('11lb', 9), ('11pm', 10), ('120v', 11), ('120vac', 12), ('12oz', 13), ('12qt', 14), ('150f', 15), ('15lbs', 16), ('15mins', 17), ('15minutes', 18), ('165f', 19), ('180f', 20), ('195f', 21), ('1960s', 22), ('1970s', 23), ('1cup', 24), ('1min', 25), ('1tbsp', 26), ('1tsp', 27), ('20ish', 28), ('20min', 29), ('20minutes', 30), ('21st', 31), ('21st_century', 32), ('220v', 33), ('22nd', 34), ('2hrs', 35), ('2lbs', 36), ('30mins', 37), ('30pm', 38), ('30sec', 39), ('3hrs', 40), ('3rds', 41), ('3times', 42), ('3yrs', 43), ('45mins', 44), ('4hrs', 45), ('4lbs', 46), ('4min', 47), ('50lb', 48), ('50th', 49), ('50th_anniversary', 50), ('5lbs', 51), ('60hz', 52), ('6lbs', 53), ('6months', 54), ('75lbs', 55), ('75th', 56), ('75th_birthday', 57), ('7lbs', 58), ('7min', 59), ('7yrs', 60), ('80lb', 61), ('8hrs', 62), ('aaaaaa', 63), ('aaah', 64), ('abandoned', 65), ('abide', 66), ('ability', 67), ('ability_adjust', 68), ('abnormally', 69), ('abou', 70), ('abound', 71), ('abrasive', 72), ('abrasive_sponge', 73), ('abruptly', 74), ('absent', 75), ('absolute', 76), ('absolute_favorite', 77), ('absolute_nightmare', 78), ('absolute_perfection', 79), ('absolutely_adore', 80), ('absolutly', 81), ('absorb', 82), ('absorb_odor', 83), ('absorbed', 84), ('absorbing', 85), ('absorbs', 86), ('absorbs_odor', 87), ('absorption', 88), ('absurd', 89), ('abundance', 90), ('abused', 91), ('abut', 92), ('abysmal', 93), ('accelerated', 94), ('accelerates', 95), ('accept', 96), ('acceptable', 97), ('accepted', 98), ('access', 99)]\n"
     ]
    }
   ],
   "source": [
    "#Filter tokens that appear too rare are too frequent\n",
    "texts_dict.filter_extremes(no_below = 20, no_above = 0.15) # inplace filter\n",
    "print(texts_dict)\n",
    "print(\"top terms:\")\n",
    "print(sorted(texts_dict.token2id.items(), key=operator.itemgetter(1), reverse = False)[:100])"
   ]
  },
  {
   "cell_type": "code",
   "execution_count": 22,
   "metadata": {},
   "outputs": [
    {
     "data": {
      "text/plain": [
       "188138"
      ]
     },
     "execution_count": 22,
     "metadata": {},
     "output_type": "execute_result"
    }
   ],
   "source": [
    "#Create bag of words corpus\n",
    "corpus = [texts_dict.doc2bow(text) for text in texts]\n",
    "len(corpus)"
   ]
  },
  {
   "cell_type": "code",
   "execution_count": 23,
   "metadata": {},
   "outputs": [],
   "source": [
    "#Save corpus for later use\n",
    "gensim.corpora.MmCorpus.serialize('amzn_h_k_review.mm', corpus)"
   ]
  },
  {
   "cell_type": "code",
   "execution_count": 21,
   "metadata": {},
   "outputs": [],
   "source": [
    "#To load texts \n",
    "#with open('texts.pkl', 'rb') as f:\n",
    "    #texts = pickle.load(f)"
   ]
  },
  {
   "cell_type": "code",
   "execution_count": 16,
   "metadata": {},
   "outputs": [],
   "source": [
    "#Load dictionary\n",
    "#texts_dict =  corpora.Dictionary.load('auto_review.dict')"
   ]
  },
  {
   "cell_type": "code",
   "execution_count": 9,
   "metadata": {},
   "outputs": [],
   "source": [
    "#Load corpus\n",
    "#corpus = corpora.MmCorpus('amzn_h_k_review.mm')"
   ]
  },
  {
   "cell_type": "code",
   "execution_count": 54,
   "metadata": {},
   "outputs": [],
   "source": [
    "#Build LDA model with num_topics = 7\n",
    "lda_model = gensim.models.LdaModel(corpus=corpus, alpha='auto',eta='auto',id2word=texts_dict,num_topics=7,chunksize=10000,passes=10)"
   ]
  },
  {
   "cell_type": "code",
   "execution_count": 55,
   "metadata": {},
   "outputs": [],
   "source": [
    "#Save model for later use\n",
    "lda_model.save('LDA_Model_grp_7_15.lda')"
   ]
  },
  {
   "cell_type": "code",
   "execution_count": 24,
   "metadata": {},
   "outputs": [],
   "source": [
    "#To load model\n",
    "#lda_model = models.LdaModel.load('LDA_Model_grp_7_15.lda')"
   ]
  },
  {
   "cell_type": "code",
   "execution_count": 12,
   "metadata": {},
   "outputs": [],
   "source": [
    "#Get top 20 words in each topic\n",
    "top_topics = lda_model.top_topics(corpus, topn=20)"
   ]
  },
  {
   "cell_type": "code",
   "execution_count": 13,
   "metadata": {},
   "outputs": [
    {
     "name": "stdout",
     "output_type": "stream",
     "text": [
      "Average topic coherence: -1.2511.\n"
     ]
    }
   ],
   "source": [
    "#Find the average topic coherence\n",
    "avg_topic_coherence = sum([t[1] for t in top_topics]) / 10\n",
    "print('Average topic coherence: %.4f.' % avg_topic_coherence)"
   ]
  },
  {
   "cell_type": "code",
   "execution_count": 14,
   "metadata": {
    "scrolled": true
   },
   "outputs": [
    {
     "name": "stdout",
     "output_type": "stream",
     "text": [
      "Topic 0:\n",
      "([(0.02548651, 'pillow'),\n",
      "  (0.02293437, 'sheet'),\n",
      "  (0.013917377, 'vacuum'),\n",
      "  (0.011032599, 'blanket'),\n",
      "  (0.009316477, 'fabric'),\n",
      "  (0.008612212, 'towel'),\n",
      "  (0.0072261314, 'floor'),\n",
      "  (0.0069879536, 'comforter'),\n",
      "  (0.0066475132, 'warm'),\n",
      "  (0.006570338, 'washed'),\n",
      "  (0.0054044086, 'cotton'),\n",
      "  (0.005298636, 'carpet'),\n",
      "  (0.0052566724, 'case'),\n",
      "  (0.0047472743, 'washing'),\n",
      "  (0.004519601, 'comfortable'),\n",
      "  (0.0043066745, 'blue'),\n",
      "  (0.00410424, 'throw'),\n",
      "  (0.004075046, 'bag'),\n",
      "  (0.004072287, 'king'),\n",
      "  (0.0039258823, 'hair')],\n",
      " -1.5690847396789387)\n",
      "Topic 1:\n",
      "([(0.02147665, 'knife'),\n",
      "  (0.008283081, 'cook'),\n",
      "  (0.008155044, 'oven'),\n",
      "  (0.008044792, 'cooking'),\n",
      "  (0.0073750694, 'pan'),\n",
      "  (0.007208541, 'sharp'),\n",
      "  (0.006936081, 'food'),\n",
      "  (0.005925456, 'cake'),\n",
      "  (0.0057505374, 'blade'),\n",
      "  (0.0056528873, 'bread'),\n",
      "  (0.004860285, 'heat'),\n",
      "  (0.004433428, 'tool'),\n",
      "  (0.0043840907, 'steel'),\n",
      "  (0.004277366, 'iron'),\n",
      "  (0.004179265, 'baking'),\n",
      "  (0.003952857, 'cooker'),\n",
      "  (0.003948592, 'rice'),\n",
      "  (0.0037762234, 'toaster'),\n",
      "  (0.0036455742, 'stainless'),\n",
      "  (0.0035317142, 'meat')],\n",
      " -1.6311677181135518)\n",
      "Topic 2:\n",
      "([(0.014729907, 'candle'),\n",
      "  (0.0127788, 'clock'),\n",
      "  (0.011933922, 'unit'),\n",
      "  (0.011425549, 'smell'),\n",
      "  (0.010775544, 'filter'),\n",
      "  (0.00889538, 'battery'),\n",
      "  (0.0066471277, 'scent'),\n",
      "  (0.0053706295, 'heat'),\n",
      "  (0.005225073, 'turn'),\n",
      "  (0.005029581, 'working'),\n",
      "  (0.004851348, 'setting'),\n",
      "  (0.00475298, 'hour'),\n",
      "  (0.004419745, 'timer'),\n",
      "  (0.0042479057, 'power'),\n",
      "  (0.004236291, 'button'),\n",
      "  (0.0042037116, 'night'),\n",
      "  (0.0040459395, 'quiet'),\n",
      "  (0.0037455377, 'scale'),\n",
      "  (0.0037129691, 'burn'),\n",
      "  (0.00360289, 'loud')],\n",
      " -1.647728050957479)\n",
      "Topic 3:\n",
      "([(0.024317482, 'coffee'),\n",
      "  (0.011863715, 'bowl'),\n",
      "  (0.008937708, 'container'),\n",
      "  (0.007415723, 'drink'),\n",
      "  (0.007389918, 'cup'),\n",
      "  (0.0066962554, 'food'),\n",
      "  (0.006341557, 'machine'),\n",
      "  (0.005306786, 'cold'),\n",
      "  (0.005299774, 'lunch'),\n",
      "  (0.0051748664, 'bag'),\n",
      "  (0.004978749, 'maker'),\n",
      "  (0.0049354765, 'dishwasher'),\n",
      "  (0.004796019, 'bottle'),\n",
      "  (0.004597787, 'seal'),\n",
      "  (0.0045310995, 'dish'),\n",
      "  (0.0044037, 'lid'),\n",
      "  (0.003978351, 'leak'),\n",
      "  (0.003800174, 'plate'),\n",
      "  (0.003552725, 'mug'),\n",
      "  (0.0035265821, 'microwave')],\n",
      " -1.6561096237710984)\n",
      "Topic 4:\n",
      "([(0.007413203, 'frame'),\n",
      "  (0.0067321043, 'wall'),\n",
      "  (0.0062294602, 'shelf'),\n",
      "  (0.005667018, 'tree'),\n",
      "  (0.005458777, 'wood'),\n",
      "  (0.00486133, 'party'),\n",
      "  (0.004457704, 'hang'),\n",
      "  (0.004378446, 'stand'),\n",
      "  (0.004019319, 'ornament'),\n",
      "  (0.0039932304, 'door'),\n",
      "  (0.0038866254, 'drawer'),\n",
      "  (0.003707056, 'rack'),\n",
      "  (0.003676945, 'adorable'),\n",
      "  (0.00357861, 'storage'),\n",
      "  (0.0035745192, 'screw'),\n",
      "  (0.0033896747, 'hanger'),\n",
      "  (0.003342472, 'broken'),\n",
      "  (0.0030864375, 'assemble'),\n",
      "  (0.0029463037, 'holder'),\n",
      "  (0.0029053264, 'hanging')],\n",
      " -1.8069996455487336)\n",
      "Topic 5:\n",
      "([(0.02575997, 'chair'),\n",
      "  (0.019111529, 'mattress'),\n",
      "  (0.015160591, 'comfortable'),\n",
      "  (0.014105529, 'wine'),\n",
      "  (0.009871103, 'bottle'),\n",
      "  (0.009201988, 'pillow'),\n",
      "  (0.0075199273, 'foam'),\n",
      "  (0.006562449, 'towel'),\n",
      "  (0.006043532, 'sleep'),\n",
      "  (0.0058488883, 'seat'),\n",
      "  (0.00575641, 'opener'),\n",
      "  (0.005623039, 'support'),\n",
      "  (0.0052033593, 'desk'),\n",
      "  (0.0050000837, 'neck'),\n",
      "  (0.0049032182, 'firm'),\n",
      "  (0.0047968966, 'night'),\n",
      "  (0.0046051545, 'stool'),\n",
      "  (0.0042675114, 'leg'),\n",
      "  (0.0039252513, 'hour'),\n",
      "  (0.0038893018, 'memory')],\n",
      " -2.068286475546528)\n",
      "Topic 6:\n",
      "([(0.025875453, 'curtain'),\n",
      "  (0.019432394, 'shower'),\n",
      "  (0.0149910655, 'bathroom'),\n",
      "  (0.010593263, 'board'),\n",
      "  (0.009125681, 'window'),\n",
      "  (0.0090893665, 'spoon'),\n",
      "  (0.008999729, 'soap'),\n",
      "  (0.008825494, 'mold'),\n",
      "  (0.0076722335, 'tray'),\n",
      "  (0.007136124, 'shower_curtain'),\n",
      "  (0.0070861476, 'sink'),\n",
      "  (0.006615621, 'salt'),\n",
      "  (0.005518872, 'bottle'),\n",
      "  (0.00549613, 'dish'),\n",
      "  (0.0054664565, 'pepper'),\n",
      "  (0.0050691958, 'liner'),\n",
      "  (0.004820566, 'counter'),\n",
      "  (0.004696216, 'holder'),\n",
      "  (0.004682157, 'spice'),\n",
      "  (0.0046150354, 'bath')],\n",
      " -2.1315717149502866)\n"
     ]
    }
   ],
   "source": [
    "#Print topics and word distribution for each topic\n",
    "counter = 0\n",
    "for topic in top_topics:\n",
    "    print('Topic {}:'.format(counter))\n",
    "    counter += 1\n",
    "    pprint(topic)"
   ]
  },
  {
   "cell_type": "code",
   "execution_count": 25,
   "metadata": {},
   "outputs": [],
   "source": [
    "# Visualize the topics\n",
    "pyLDAvis.enable_notebook()\n",
    "#Prepare topic visualization\n",
    "vis = pyLDAvis.gensim.prepare(lda_model, corpus, texts_dict,sort_topics = False)"
   ]
  },
  {
   "cell_type": "code",
   "execution_count": 28,
   "metadata": {},
   "outputs": [
    {
     "data": {
      "text/html": [
       "\n",
       "<link rel=\"stylesheet\" type=\"text/css\" href=\"https://cdn.rawgit.com/bmabey/pyLDAvis/files/ldavis.v1.0.0.css\">\n",
       "\n",
       "\n",
       "<div id=\"ldavis_el1469627262204579287786586544\"></div>\n",
       "<script type=\"text/javascript\">\n",
       "\n",
       "var ldavis_el1469627262204579287786586544_data = {\"mdsDat\": {\"x\": [-0.13669617830819933, -0.16283903782484674, 0.06735970738454489, -0.020764524586825154, 0.16334282941492545, 0.09817491918787391, -0.008577715267472816], \"y\": [0.017399873826316473, -0.026123166323163558, -0.06598215946206241, 0.16873614090562722, -0.015389320068682122, 0.07411584303528895, -0.15275721191332473], \"topics\": [1, 2, 3, 4, 5, 6, 7], \"cluster\": [1, 1, 1, 1, 1, 1, 1], \"Freq\": [18.959192276000977, 18.803150177001953, 17.61114501953125, 14.571113586425781, 11.56187915802002, 9.733895301818848, 8.75963020324707]}, \"tinfo\": {\"Term\": [\"coffee\", \"knife\", \"pillow\", \"chair\", \"curtain\", \"sheet\", \"mattress\", \"candle\", \"shower\", \"clock\", \"bowl\", \"vacuum\", \"comfortable\", \"wine\", \"bathroom\", \"blanket\", \"bottle\", \"filter\", \"unit\", \"oven\", \"battery\", \"cook\", \"pan\", \"food\", \"container\", \"smell\", \"drink\", \"board\", \"cooking\", \"towel\", \"mug\", \"blender\", \"coffee_maker\", \"pitcher\", \"brew\", \"juicer\", \"carafe\", \"thermos\", \"teapot\", \"french_press\", \"smoothy\", \"keurig\", \"infuser\", \"corelle\", \"frother\", \"lunchbox\", \"coffeemaker\", \"pulp\", \"coffee\", \"bento\", \"smoothie\", \"froth\", \"brewer\", \"pod\", \"tea\", \"bodum\", \"butter_dish\", \"starbucks\", \"espresso_machine\", \"kernel\", \"milk\", \"lunch\", \"popcorn\", \"drink\", \"brewing\", \"yogurt\", \"popper\", \"beverage\", \"bowl\", \"straw\", \"mixer\", \"strainer\", \"drinking\", \"tumbler\", \"container\", \"seal\", \"pour\", \"espresso\", \"freezer\", \"lid\", \"cup\", \"juice\", \"maker\", \"leak\", \"cold\", \"machine\", \"taste\", \"liquid\", \"bag\", \"microwave\", \"dishwasher\", \"food\", \"fruit\", \"plate\", \"dish\", \"bottle\", \"cream\", \"stainless\", \"knife\", \"pan\", \"cooker\", \"pizza\", \"cookware\", \"spatula\", \"skillet\", \"slicer\", \"muffin\", \"steak\", \"peeler\", \"tongs\", \"nonstick\", \"loaf\", \"sharpener\", \"toaster_oven\", \"frying\", \"mitt\", \"slicing\", \"pressure_cooker\", \"induction\", \"rice_cooker\", \"griddle\", \"fryer\", \"clad\", \"sharpening\", \"calphalon\", \"sharpen\", \"cookie_sheet\", \"chef_knife\", \"oven\", \"toaster\", \"cookie\", \"cast_iron\", \"bread\", \"egg\", \"dough\", \"garlic\", \"cook\", \"bake\", \"toast\", \"cooked\", \"cutter\", \"slice\", \"cooky\", \"meat\", \"potato\", \"cooking\", \"rice\", \"baking\", \"chef\", \"cake\", \"sharp\", \"chicken\", \"blade\", \"grill\", \"cheese\", \"cast\", \"utensil\", \"iron\", \"tool\", \"food\", \"steel\", \"heat\", \"cutting\", \"stainless\", \"dishwasher\", \"ornament\", \"hanger\", \"wreath\", \"statue\", \"vase\", \"figurine\", \"hamper\", \"album\", \"artwork\", \"shelving\", \"garland\", \"hallmark\", \"stud\", \"shoe_rack\", \"lenox\", \"banner\", \"vas\", \"nativity\", \"necklace\", \"keepsake\", \"willow\", \"plaque\", \"petal\", \"coat_rack\", \"poster\", \"willow_tree\", \"bookend\", \"nutcracker\", \"pirate\", \"bachelorette\", \"tree\", \"shoe\", \"bookcase\", \"christmas_tree\", \"coaster\", \"glitter\", \"framed\", \"birthday_party\", \"shore\", \"painting\", \"decoration\", \"adorable\", \"halloween\", \"branch\", \"shelf\", \"organize\", \"jewelry\", \"closet\", \"wedding\", \"frame\", \"organizer\", \"flower\", \"balloon\", \"party\", \"napkin\", \"mirror\", \"birthday\", \"sign\", \"card\", \"drawer\", \"wall\", \"hanging\", \"themed\", \"detail\", \"hang\", \"wood\", \"clothes\", \"stand\", \"cabinet\", \"door\", \"rack\", \"assemble\", \"screw\", \"gorgeous\", \"storage\", \"packaged\", \"broken\", \"hook\", \"holder\", \"paper\", \"kid\", \"clock\", \"battery\", \"candle\", \"alarm\", \"heater\", \"incense\", \"humidifier\", \"alarm_clock\", \"purifier\", \"radio\", \"sensor\", \"probe\", \"flicker\", \"votive\", \"louder\", \"dehumidifier\", \"battery_life\", \"yankee_candle\", \"white_noise\", \"flameless\", \"power_cord\", \"ashtray\", \"dimmer\", \"atomic\", \"honeywell\", \"flickering\", \"ozone\", \"flameless_candle\", \"rechargeable\", \"compressor\", \"scent\", \"timer\", \"thermometer\", \"fragrance\", \"beep\", \"wick\", \"battery_operated\", \"plugged\", \"quiet\", \"scale\", \"digital\", \"reset\", \"loud\", \"remote\", \"stopped_working\", \"input_type\", \"hidden_name\", \"video_block\", \"value_http\", \"class_video\", \"cord\", \"power\", \"unit\", \"filter\", \"noise\", \"smell\", \"mode\", \"bulb\", \"plug\", \"button\", \"burn\", \"sound\", \"setting\", \"kettle\", \"fire\", \"working\", \"switch\", \"turn\", \"temperature\", \"feature\", \"heat\", \"hour\", \"night\", \"model\", \"control\", \"comforter\", \"blanket\", \"duvet\", \"pillow_case\", \"rug\", \"pillowcase\", \"sham\", \"duvet_cover\", \"hoover\", \"bedspread\", \"thread_count\", \"quilt\", \"flannel\", \"bissell\", \"sweeper\", \"pillow_sham\", \"egyptian_cotton\", \"pilling\", \"dirt_devil\", \"kirby\", \"oreck\", \"coverlet\", \"bagless\", \"soft_cozy\", \"flannel_sheet\", \"carpet_cleaner\", \"shag\", \"area_rug\", \"egyptian\", \"laundered\", \"lint\", \"vacuum_cleaner\", \"shark\", \"fitted_sheet\", \"fleece\", \"miele\", \"cotton\", \"vacuum\", \"tablecloth\", \"vacuuming\", \"sheet\", \"runner\", \"absorbent\", \"dyson\", \"carpet\", \"wrinkle\", \"silky\", \"bedding\", \"pillow\", \"dirt\", \"fabric\", \"dryer\", \"king\", \"zipper\", \"washed\", \"hair\", \"cloth\", \"floor\", \"queen\", \"towel\", \"washing\", \"warm\", \"throw\", \"case\", \"pattern\", \"cleaner\", \"blue\", \"comfortable\", \"bag\", \"brush\", \"machine\", \"stool\", \"wine_bottle\", \"ottoman\", \"bottle_opener\", \"corkscrew\", \"inflate\", \"wine_opener\", \"seat_cushion\", \"step_stool\", \"recline\", \"lumbar_support\", \"wine_lover\", \"riedel\", \"open_can\", \"folding_chair\", \"foil_cutter\", \"wine_stopper\", \"growler\", \"deflate\", \"neck_support\", \"armrest\", \"beverage_cold\", \"footrest\", \"carboy\", \"tervis_tumbler\", \"rtic\", \"stemless\", \"futon_mattress\", \"headrest\", \"trash_can\", \"chair\", \"opener\", \"wine\", \"apron\", \"aerator\", \"supportive\", \"cork\", \"lumbar\", \"memory_foam\", \"seat\", \"neck\", \"futon\", \"neck_pain\", \"encasement\", \"headboard\", \"recliner\", \"mattress\", \"cushion\", \"side_sleeper\", \"foam\", \"firm\", \"mattress_protector\", \"topper\", \"memory\", \"mattress_topper\", \"strap\", \"leather\", \"comfortable\", \"leg\", \"support\", \"can\", \"desk\", \"sleep\", \"sleeping\", \"bottle\", \"sofa\", \"couch\", \"trash\", \"towel\", \"pillow\", \"pain\", \"night\", \"assemble\", \"foot\", \"height\", \"hour\", \"head\", \"screw\", \"shower_curtain\", \"ironing_board\", \"soap_dispenser\", \"privacy\", \"pepper_mill\", \"shower_caddy\", \"toothpaste\", \"spice_rack\", \"blackout_curtain\", \"pestle\", \"peppercorn\", \"pepper_grinder\", \"toothbrush_holder\", \"curtain_rod\", \"spice_jar\", \"toilet_brush\", \"moscow\", \"moscow_mule\", \"sheer_curtain\", \"room_darkening\", \"salt_shaker\", \"window_film\", \"muddler\", \"mortar_pestle\", \"soap_pump\", \"shower_stall\", \"salt_mill\", \"light_blocking\", \"martini_glass\", \"bath_bomb\", \"curtain\", \"caddy\", \"shower\", \"blackout\", \"salt_pepper\", \"suction_cup\", \"shaker\", \"martini\", \"toilet\", \"valance\", \"darkening\", \"measuring_spoon\", \"sheers\", \"spice\", \"soap\", \"pepper\", \"toothbrush\", \"blind\", \"salt\", \"mold\", \"bathroom\", \"liner\", \"mill\", \"cutting_board\", \"grommet\", \"board\", \"spoon_rest\", \"sink\", \"window\", \"sheer\", \"dispenser\", \"spoon\", \"bath\", \"tray\", \"cube\", \"cupcake\", \"grinder\", \"install\", \"panel\", \"easy_install\", \"dish\", \"counter\", \"holder\", \"bottle\", \"cutting\", \"hook\", \"door\"], \"Freq\": [282808.0, 247585.0, 235576.0, 155148.0, 139762.0, 178159.0, 131563.0, 131598.0, 107347.0, 114160.0, 144785.0, 103837.0, 136077.0, 85378.0, 97091.0, 78209.0, 144321.0, 126405.0, 138888.0, 94513.0, 79468.0, 97245.0, 85022.0, 160163.0, 113224.0, 142066.0, 88017.0, 76345.0, 98529.0, 124031.0, 41295.4765625, 40753.6796875, 30562.162109375, 26286.869140625, 25357.2890625, 21704.033203125, 17557.212890625, 16032.75390625, 14853.7275390625, 11711.8603515625, 11637.3115234375, 11232.3720703125, 10960.1318359375, 6592.46923828125, 6554.0390625, 6448.95361328125, 6433.81640625, 6294.48291015625, 282656.84375, 6019.703125, 5765.96630859375, 5527.251953125, 5482.6025390625, 5351.79736328125, 5290.81494140625, 5198.837890625, 5050.55712890625, 4964.046875, 4625.9130859375, 4175.2919921875, 33292.6171875, 61602.484375, 19655.486328125, 86197.4453125, 12442.87109375, 12600.208984375, 7521.79638671875, 17277.6796875, 137899.15625, 21216.470703125, 26566.67578125, 18514.484375, 21509.478515625, 20395.662109375, 103888.3984375, 53442.86328125, 34530.8125, 27723.962890625, 26044.236328125, 51186.875, 85897.4921875, 31754.642578125, 57871.015625, 46242.78515625, 61683.98828125, 73711.7578125, 37518.578125, 33277.6484375, 60150.609375, 40991.6015625, 57368.03515625, 77834.6328125, 33119.1875, 44171.7265625, 52667.71484375, 55747.03125, 31184.70703125, 34482.50390625, 247581.546875, 85019.359375, 45568.30078125, 32406.078125, 27633.849609375, 30140.865234375, 24711.451171875, 20650.587890625, 19045.46484375, 17556.478515625, 17521.537109375, 16359.12890625, 15014.08203125, 14799.4951171875, 13493.138671875, 12402.265625, 12274.89453125, 11774.515625, 11784.92578125, 11258.173828125, 11005.181640625, 10816.251953125, 9698.7470703125, 9216.1904296875, 8934.9970703125, 8697.0048828125, 7879.451171875, 7315.7529296875, 7142.228515625, 6920.52197265625, 94010.859375, 43532.078125, 34577.45703125, 24452.380859375, 65166.14453125, 40018.98046875, 26595.669921875, 21395.138671875, 95486.8671875, 21664.669921875, 23260.974609375, 23687.078125, 39407.27734375, 32333.0078125, 31532.462890625, 40713.390625, 25515.240234375, 92739.8828125, 45519.1328125, 48178.31640625, 25826.025390625, 68308.3046875, 83099.625, 28219.0546875, 66291.8515625, 31699.62890625, 33805.49609375, 28640.267578125, 30955.486328125, 49309.22265625, 51108.29296875, 79958.7265625, 50539.53515625, 56029.078125, 39285.12890625, 42025.9609375, 39600.1484375, 43397.14453125, 36598.78515625, 9043.7080078125, 7247.72119140625, 9323.828125, 7005.765625, 6601.09912109375, 5617.09375, 4473.85400390625, 4361.296875, 3487.860595703125, 3309.603759765625, 3125.008056640625, 3004.380859375, 2962.967529296875, 2866.976806640625, 2858.6416015625, 2840.21923828125, 2732.75830078125, 2671.776123046875, 2374.4462890625, 2246.271240234375, 2489.1875, 1943.275146484375, 28832.8671875, 1756.646484375, 1688.82568359375, 1643.1787109375, 1639.8592529296875, 1603.912109375, 61187.57421875, 25419.36328125, 4441.45556640625, 8680.73046875, 16384.828125, 4025.538330078125, 5418.35791015625, 6276.66796875, 5089.41162109375, 8966.2822265625, 23158.1796875, 39700.484375, 8086.42724609375, 5321.01025390625, 67260.34375, 7776.84814453125, 6046.62255859375, 28533.923828125, 30299.44921875, 80041.375, 14212.2744140625, 20381.900390625, 8435.4091796875, 52488.453125, 14634.7734375, 18264.36328125, 29421.962890625, 23729.927734375, 13981.826171875, 41964.4296875, 72687.4609375, 31369.2109375, 12193.4921875, 23782.498046875, 48130.44140625, 58939.16796875, 21214.75, 47274.68359375, 31204.947265625, 43115.4609375, 40025.59375, 33324.69140625, 38594.578125, 28729.640625, 38638.74609375, 28305.8828125, 36089.1328125, 29915.02734375, 31811.6484375, 29790.41015625, 27508.365234375, 114157.3515625, 79465.4453125, 131587.25, 31131.1484375, 27391.40625, 23443.984375, 12818.873046875, 8947.6552734375, 8211.5107421875, 6975.5654296875, 6416.796875, 6202.16748046875, 4360.4814453125, 3672.776611328125, 4086.1123046875, 3185.680419921875, 3169.65771484375, 2988.37646484375, 2891.466064453125, 2858.0087890625, 2856.631591796875, 2711.93115234375, 2524.381103515625, 2458.9287109375, 2450.101318359375, 2395.467041015625, 2178.94873046875, 2176.603515625, 2158.860107421875, 2170.556884765625, 59381.046875, 39483.078125, 19813.01171875, 14308.6865234375, 5193.74853515625, 10506.478515625, 3883.227294921875, 8335.5341796875, 36143.75, 33460.15625, 10340.65234375, 4872.2314453125, 32185.837890625, 21510.69140625, 12280.52734375, 7684.50732421875, 7684.412109375, 7682.83447265625, 7684.2373046875, 7684.6220703125, 29965.33984375, 37947.98046875, 106609.765625, 96261.5859375, 25989.37890625, 102068.3046875, 9647.787109375, 13794.05859375, 18031.71484375, 37844.2265625, 33169.2109375, 28227.67578125, 43338.73828125, 24766.3125, 17614.908203125, 44930.953125, 19961.6875, 46677.34765625, 31235.48046875, 30667.5234375, 47977.65234375, 42459.98046875, 37553.1796875, 30532.083984375, 25097.9921875, 49533.55859375, 78203.703125, 24323.65234375, 22660.640625, 22830.91015625, 14548.689453125, 13425.4990234375, 9973.150390625, 9289.2685546875, 9053.4169921875, 7748.0400390625, 20310.90234375, 6281.69482421875, 5418.35791015625, 3897.060302734375, 3587.9697265625, 3099.514404296875, 2996.472900390625, 2985.49560546875, 2570.08544921875, 2545.89794921875, 2407.721923828125, 2379.024658203125, 2308.77392578125, 2267.2890625, 2254.40380859375, 2112.977294921875, 2042.706787109375, 4674.55517578125, 1975.7164306640625, 10404.806640625, 8854.404296875, 8258.2578125, 8465.880859375, 4130.734375, 3790.740966796875, 38308.72265625, 98652.2265625, 18798.978515625, 6625.84033203125, 162568.46875, 14950.0029296875, 11547.70703125, 13020.1923828125, 37558.9609375, 18990.025390625, 8066.7431640625, 12918.953125, 180659.109375, 18451.197265625, 66039.109375, 20476.939453125, 28866.0859375, 21820.4921875, 46573.3203125, 27828.306640625, 25829.88671875, 51221.86328125, 22264.822265625, 61046.984375, 33650.6796875, 47120.37109375, 29092.580078125, 37261.5078125, 25666.5703125, 21497.46484375, 30527.521484375, 32036.833984375, 28885.642578125, 23826.728515625, 21550.03125, 27482.2265625, 8445.974609375, 9349.6181640625, 5484.2705078125, 4821.5556640625, 2971.194091796875, 2514.455322265625, 2503.246337890625, 2485.529052734375, 1686.9515380859375, 1561.4765625, 1554.40869140625, 1505.8096923828125, 1561.9957275390625, 1473.8662109375, 1435.1895751953125, 1427.2069091796875, 1410.562744140625, 1380.6998291015625, 1625.60888671875, 1343.807861328125, 1336.9588623046875, 1232.1048583984375, 1221.796630859375, 1194.509521484375, 1142.0552978515625, 1122.3466796875, 1103.816650390625, 1072.4901123046875, 1063.5360107421875, 153728.03125, 34352.5859375, 84177.703125, 13785.076171875, 3803.961669921875, 3932.090576171875, 15201.8798828125, 2631.8330078125, 19902.3984375, 34904.46875, 29839.048828125, 7865.23095703125, 2389.0078125, 1655.381591796875, 12518.44921875, 8601.1533203125, 114052.0625, 22910.04296875, 3382.674560546875, 44876.74609375, 29260.984375, 2667.7822265625, 20389.447265625, 23210.224609375, 4171.44677734375, 12416.419921875, 13987.6396484375, 90474.015625, 25467.271484375, 33556.6640625, 12504.4248046875, 31052.138671875, 36066.046875, 18943.91796875, 58907.87890625, 14559.564453125, 18908.8125, 17808.796875, 39162.79296875, 54914.79296875, 18446.953125, 28626.48828125, 21588.87109375, 22437.671875, 17145.533203125, 23424.76171875, 18722.603515625, 19070.169921875, 38323.85546875, 7201.8193359375, 5965.0078125, 9861.216796875, 3617.8388671875, 2915.229248046875, 2913.252685546875, 2903.556884765625, 2878.80029296875, 2396.211669921875, 2264.88330078125, 2069.500732421875, 1927.3248291015625, 1870.285400390625, 1793.30078125, 1785.86767578125, 1766.7548828125, 1673.443603515625, 1555.5557861328125, 1548.122802734375, 1500.4412841796875, 1495.048583984375, 1420.992919921875, 1387.6617431640625, 1263.8128662109375, 1245.0162353515625, 1169.2120361328125, 1040.0540771484375, 1182.01318359375, 991.3347778320312, 138961.578125, 10889.837890625, 104359.765625, 6639.66259765625, 12975.3271484375, 7682.08447265625, 18243.0390625, 3092.39013671875, 13878.8701171875, 8806.6982421875, 2234.8603515625, 5724.435546875, 3398.845458984375, 25145.06640625, 48332.16015625, 29357.068359375, 7461.77783203125, 12834.3505859375, 35528.54296875, 47396.44921875, 80508.046875, 27223.619140625, 12973.4775390625, 20561.884765625, 4211.78173828125, 56890.08203125, 3951.134765625, 38055.4609375, 49008.57421875, 8500.1953125, 19630.2265625, 48813.55078125, 24784.595703125, 41202.9765625, 21209.40625, 19774.853515625, 24695.294921875, 23540.232421875, 16445.783203125, 16744.078125, 29516.427734375, 25888.37890625, 25220.568359375, 29638.560546875, 22063.78515625, 20937.177734375, 18537.908203125], \"Total\": [282808.0, 247585.0, 235576.0, 155148.0, 139762.0, 178159.0, 131563.0, 131598.0, 107347.0, 114160.0, 144785.0, 103837.0, 136077.0, 85378.0, 97091.0, 78209.0, 144321.0, 126405.0, 138888.0, 94513.0, 79468.0, 97245.0, 85022.0, 160163.0, 113224.0, 142066.0, 88017.0, 76345.0, 98529.0, 124031.0, 41298.84765625, 40757.05078125, 30565.53125, 26290.23828125, 25360.658203125, 21707.400390625, 17560.580078125, 16036.1572265625, 14857.1171875, 11715.2275390625, 11640.6806640625, 11235.740234375, 10963.5, 6595.83740234375, 6557.40673828125, 6452.32275390625, 6437.1865234375, 6297.85302734375, 282808.90625, 6023.07177734375, 5769.33544921875, 5530.62158203125, 5485.9716796875, 5355.169921875, 5294.185546875, 5202.20703125, 5053.92529296875, 4967.41845703125, 4629.28173828125, 4178.66162109375, 33409.05859375, 62255.21875, 19679.908203125, 88017.6171875, 12462.572265625, 12673.9736328125, 7533.95947265625, 17460.728515625, 144785.828125, 21554.75390625, 27153.603515625, 18801.138671875, 21934.19921875, 20924.30859375, 113224.578125, 57263.890625, 36558.29296875, 29350.279296875, 27647.919921875, 57517.40234375, 102932.125, 34883.2265625, 67927.9765625, 53689.9921875, 92537.1875, 117533.6171875, 48427.01171875, 42887.8359375, 101828.4375, 58132.6328125, 98411.4765625, 160163.375, 43182.0859375, 77469.140625, 109518.9453125, 144321.296875, 40541.67578125, 86581.3125, 247585.296875, 85022.71875, 45571.66796875, 32409.4453125, 27637.212890625, 30144.87890625, 24714.814453125, 20653.951171875, 19048.833984375, 17559.845703125, 17524.900390625, 16362.4970703125, 15017.4501953125, 14802.86328125, 13496.505859375, 12405.6337890625, 12278.27734375, 11777.8876953125, 11788.3310546875, 11261.5380859375, 11008.548828125, 10819.6162109375, 9702.111328125, 9219.5556640625, 8938.3662109375, 8700.3720703125, 7882.8173828125, 7319.12109375, 7145.59521484375, 6923.88623046875, 94513.6953125, 43556.51953125, 34633.78125, 24481.841796875, 65931.953125, 40303.9375, 26678.310546875, 21458.943359375, 97245.8046875, 21741.349609375, 23419.228515625, 23899.166015625, 40230.78515625, 32917.85546875, 32130.203125, 41904.74609375, 25924.21484375, 98529.953125, 47223.0546875, 50881.6015625, 26405.8671875, 74648.2109375, 92612.7265625, 29034.431640625, 78077.28125, 33760.015625, 36748.1953125, 30399.0234375, 34207.2421875, 68238.625, 77723.0390625, 160163.375, 90463.1171875, 128071.4453125, 63270.05078125, 86581.3125, 98411.4765625, 43400.734375, 36607.53515625, 9047.2939453125, 7251.30810546875, 9328.513671875, 7009.3515625, 6604.69677734375, 5620.6806640625, 4477.4482421875, 4364.8896484375, 3491.44775390625, 3313.195068359375, 3128.636474609375, 3007.966796875, 2966.563232421875, 2870.564208984375, 2862.230224609375, 2843.80517578125, 2736.347900390625, 2675.36376953125, 2378.035888671875, 2249.860595703125, 2493.42626953125, 1946.861083984375, 28887.5625, 1760.2320556640625, 1692.4117431640625, 1646.7681884765625, 1643.4500732421875, 1607.4998779296875, 61481.05078125, 25905.87890625, 4456.8740234375, 8773.197265625, 16720.357421875, 4053.589111328125, 5489.1875, 6380.12890625, 5158.22265625, 9197.9677734375, 24488.064453125, 42882.0859375, 8315.3798828125, 5404.18896484375, 74166.15625, 8045.22705078125, 6191.2705078125, 31314.212890625, 33902.7265625, 94375.5390625, 15357.1455078125, 22693.12890625, 8853.1650390625, 63375.63671875, 16086.333984375, 20731.189453125, 35504.95703125, 28732.068359375, 15765.900390625, 55821.7265625, 106355.984375, 40350.140625, 13502.8330078125, 30237.806640625, 72073.7421875, 92304.46875, 27555.9296875, 81709.203125, 47352.0390625, 75487.7421875, 69700.828125, 55639.3828125, 74040.515625, 46596.42578125, 79498.921875, 45741.63671875, 76386.4375, 66557.3046875, 82771.6640625, 70401.0078125, 79065.625, 114160.765625, 79468.8671875, 131598.203125, 31134.5703125, 27394.828125, 23447.40625, 12822.2958984375, 8951.0771484375, 8214.93359375, 6978.990234375, 6420.2216796875, 6205.58984375, 4363.90380859375, 3676.19970703125, 4090.469482421875, 3189.103759765625, 3173.08056640625, 2991.798095703125, 2894.8876953125, 2861.431396484375, 2860.09521484375, 2715.355712890625, 2527.8046875, 2462.3505859375, 2453.52294921875, 2398.888671875, 2182.370849609375, 2180.025390625, 2162.285400390625, 2174.078857421875, 59541.57421875, 39783.15625, 19926.615234375, 14356.2958984375, 5211.3271484375, 10625.5302734375, 3893.303955078125, 8428.3984375, 37342.7265625, 34557.76171875, 10521.3984375, 4919.09130859375, 33790.2890625, 22625.57421875, 12757.6533203125, 7916.361328125, 7916.37890625, 7914.857421875, 7916.38330078125, 7917.3466796875, 33214.4453125, 44655.53515625, 138888.578125, 126405.6484375, 30098.96875, 142066.296875, 10194.4423828125, 15276.037109375, 21150.001953125, 50878.96875, 45122.65234375, 37667.3125, 64977.03125, 32101.14453125, 21047.044921875, 74896.671875, 25232.451171875, 86130.7578125, 49881.00390625, 55353.6796875, 128071.4453125, 107031.6015625, 94189.765625, 60441.5703125, 43784.78515625, 49537.0, 78209.15625, 24327.091796875, 22664.080078125, 22834.62890625, 14552.12890625, 13428.94140625, 9976.5888671875, 9292.708984375, 9056.857421875, 7751.4794921875, 20319.974609375, 6285.1357421875, 5421.7978515625, 3900.50927734375, 3591.4091796875, 3102.9541015625, 2999.913818359375, 2988.935791015625, 2573.52734375, 2549.339599609375, 2411.162841796875, 2382.465087890625, 2312.2138671875, 2270.72900390625, 2257.84521484375, 2116.4189453125, 2046.1470947265625, 4682.67919921875, 1979.1607666015625, 10445.125, 8893.736328125, 8307.673828125, 8522.537109375, 4139.72412109375, 3798.1533203125, 39368.1875, 103837.1484375, 19226.7578125, 6732.12890625, 178159.421875, 15495.78125, 11918.9755859375, 13532.5166015625, 40637.21484375, 20196.048828125, 8322.4775390625, 13714.703125, 235576.765625, 20393.36328125, 85245.8984375, 23240.734375, 35725.6875, 26358.96484375, 65382.84375, 35282.546875, 36057.859375, 90078.5078125, 29771.48046875, 124031.2578125, 57346.3203125, 101265.9375, 50465.3984375, 81593.3046875, 46196.421875, 32306.08203125, 69687.140625, 136077.875, 101828.4375, 49883.9140625, 117533.6171875, 27485.646484375, 8449.3955078125, 9354.6630859375, 5487.69140625, 4824.97607421875, 2974.617431640625, 2517.875, 2506.666015625, 2488.955810546875, 1690.3709716796875, 1564.8956298828125, 1557.828369140625, 1509.229736328125, 1565.610107421875, 1477.2852783203125, 1438.60888671875, 1430.626708984375, 1413.98486328125, 1384.1229248046875, 1629.642333984375, 1347.226806640625, 1340.4014892578125, 1235.5244140625, 1225.2186279296875, 1197.9486083984375, 1145.4788818359375, 1125.7691650390625, 1107.2366943359375, 1075.9127197265625, 1066.96142578125, 155148.171875, 34470.58984375, 85378.6328125, 13965.3017578125, 3821.133544921875, 3952.96240234375, 15529.5771484375, 2649.586669921875, 20454.86328125, 36364.19921875, 31325.302734375, 8072.0751953125, 2419.363525390625, 1664.0987548828125, 13182.5087890625, 8991.609375, 131563.5, 25489.490234375, 3489.33447265625, 51698.42578125, 33340.93359375, 2732.893798828125, 23443.314453125, 27797.6640625, 4392.72265625, 14648.7099609375, 16887.541015625, 136077.875, 33009.1875, 45307.265625, 15076.5322265625, 47464.26171875, 60777.73046875, 28669.498046875, 144321.296875, 21085.345703125, 31890.189453125, 29669.65234375, 124031.2578125, 235576.765625, 33725.47265625, 94189.765625, 55639.3828125, 64080.84765625, 30821.9921875, 107031.6015625, 48667.40625, 74040.515625, 38327.26171875, 7205.2275390625, 5968.41259765625, 9868.0029296875, 3621.244140625, 2918.63330078125, 2916.662841796875, 2906.966064453125, 2882.205810546875, 2399.619140625, 2268.289306640625, 2072.9052734375, 1930.7301025390625, 1873.6907958984375, 1796.705810546875, 1789.2720947265625, 1770.16162109375, 1676.8489990234375, 1558.961669921875, 1551.527587890625, 1503.8466796875, 1498.4559326171875, 1424.3984375, 1391.0694580078125, 1267.218017578125, 1248.4212646484375, 1172.6162109375, 1043.461669921875, 1186.041259765625, 994.7420654296875, 139762.90625, 10934.2421875, 107347.1484375, 6673.9306640625, 13158.033203125, 7770.50634765625, 18627.306640625, 3103.115966796875, 14285.865234375, 8997.1953125, 2255.735595703125, 5919.63818359375, 3478.87158203125, 27412.421875, 54301.546875, 32606.84375, 7854.8046875, 13830.61328125, 40473.49609375, 55067.56640625, 97091.1015625, 31728.8671875, 14430.0576171875, 24044.1875, 4366.50048828125, 76345.421875, 4078.601806640625, 52781.91796875, 71503.0703125, 9742.5791015625, 25662.923828125, 74123.5859375, 35241.90234375, 66171.546875, 32835.32421875, 30496.884765625, 48023.40625, 46432.51953125, 26234.35546875, 28842.794921875, 109518.9453125, 85106.9140625, 82771.6640625, 144321.296875, 63270.05078125, 66557.3046875, 75487.7421875], \"Category\": [\"Default\", \"Default\", \"Default\", \"Default\", \"Default\", \"Default\", \"Default\", \"Default\", \"Default\", \"Default\", \"Default\", \"Default\", \"Default\", \"Default\", \"Default\", \"Default\", \"Default\", \"Default\", \"Default\", \"Default\", \"Default\", \"Default\", \"Default\", \"Default\", \"Default\", \"Default\", \"Default\", \"Default\", \"Default\", \"Default\", \"Topic1\", \"Topic1\", \"Topic1\", \"Topic1\", \"Topic1\", \"Topic1\", \"Topic1\", \"Topic1\", \"Topic1\", \"Topic1\", \"Topic1\", \"Topic1\", \"Topic1\", \"Topic1\", \"Topic1\", \"Topic1\", \"Topic1\", \"Topic1\", \"Topic1\", \"Topic1\", \"Topic1\", \"Topic1\", \"Topic1\", \"Topic1\", \"Topic1\", \"Topic1\", \"Topic1\", \"Topic1\", \"Topic1\", \"Topic1\", \"Topic1\", \"Topic1\", \"Topic1\", \"Topic1\", \"Topic1\", \"Topic1\", \"Topic1\", \"Topic1\", \"Topic1\", \"Topic1\", \"Topic1\", \"Topic1\", \"Topic1\", \"Topic1\", \"Topic1\", \"Topic1\", \"Topic1\", \"Topic1\", \"Topic1\", \"Topic1\", \"Topic1\", \"Topic1\", \"Topic1\", \"Topic1\", \"Topic1\", \"Topic1\", \"Topic1\", \"Topic1\", \"Topic1\", \"Topic1\", \"Topic1\", \"Topic1\", \"Topic1\", \"Topic1\", \"Topic1\", \"Topic1\", \"Topic1\", \"Topic1\", \"Topic2\", \"Topic2\", \"Topic2\", \"Topic2\", \"Topic2\", \"Topic2\", \"Topic2\", \"Topic2\", \"Topic2\", \"Topic2\", \"Topic2\", \"Topic2\", \"Topic2\", \"Topic2\", \"Topic2\", \"Topic2\", \"Topic2\", \"Topic2\", \"Topic2\", \"Topic2\", \"Topic2\", \"Topic2\", \"Topic2\", \"Topic2\", \"Topic2\", \"Topic2\", \"Topic2\", \"Topic2\", \"Topic2\", \"Topic2\", \"Topic2\", \"Topic2\", \"Topic2\", \"Topic2\", \"Topic2\", \"Topic2\", \"Topic2\", \"Topic2\", \"Topic2\", \"Topic2\", \"Topic2\", \"Topic2\", \"Topic2\", \"Topic2\", \"Topic2\", \"Topic2\", \"Topic2\", \"Topic2\", \"Topic2\", \"Topic2\", \"Topic2\", \"Topic2\", \"Topic2\", \"Topic2\", \"Topic2\", \"Topic2\", \"Topic2\", \"Topic2\", \"Topic2\", \"Topic2\", \"Topic2\", \"Topic2\", \"Topic2\", \"Topic2\", \"Topic2\", \"Topic2\", \"Topic2\", \"Topic3\", \"Topic3\", \"Topic3\", \"Topic3\", \"Topic3\", \"Topic3\", \"Topic3\", \"Topic3\", \"Topic3\", \"Topic3\", \"Topic3\", \"Topic3\", \"Topic3\", \"Topic3\", \"Topic3\", \"Topic3\", \"Topic3\", \"Topic3\", \"Topic3\", \"Topic3\", \"Topic3\", \"Topic3\", \"Topic3\", \"Topic3\", \"Topic3\", \"Topic3\", \"Topic3\", \"Topic3\", \"Topic3\", \"Topic3\", \"Topic3\", \"Topic3\", \"Topic3\", \"Topic3\", \"Topic3\", \"Topic3\", \"Topic3\", \"Topic3\", \"Topic3\", \"Topic3\", \"Topic3\", \"Topic3\", \"Topic3\", \"Topic3\", \"Topic3\", \"Topic3\", \"Topic3\", \"Topic3\", \"Topic3\", \"Topic3\", \"Topic3\", \"Topic3\", \"Topic3\", \"Topic3\", \"Topic3\", \"Topic3\", \"Topic3\", \"Topic3\", \"Topic3\", \"Topic3\", \"Topic3\", \"Topic3\", \"Topic3\", \"Topic3\", \"Topic3\", \"Topic3\", \"Topic3\", \"Topic3\", \"Topic3\", \"Topic3\", \"Topic3\", \"Topic3\", \"Topic3\", \"Topic3\", \"Topic3\", \"Topic3\", \"Topic3\", \"Topic3\", \"Topic3\", \"Topic3\", \"Topic3\", \"Topic4\", \"Topic4\", \"Topic4\", \"Topic4\", \"Topic4\", \"Topic4\", \"Topic4\", \"Topic4\", \"Topic4\", \"Topic4\", \"Topic4\", \"Topic4\", \"Topic4\", \"Topic4\", \"Topic4\", \"Topic4\", \"Topic4\", \"Topic4\", \"Topic4\", \"Topic4\", \"Topic4\", \"Topic4\", \"Topic4\", \"Topic4\", \"Topic4\", \"Topic4\", \"Topic4\", \"Topic4\", \"Topic4\", \"Topic4\", \"Topic4\", \"Topic4\", \"Topic4\", \"Topic4\", \"Topic4\", \"Topic4\", \"Topic4\", \"Topic4\", \"Topic4\", \"Topic4\", \"Topic4\", \"Topic4\", \"Topic4\", \"Topic4\", \"Topic4\", \"Topic4\", \"Topic4\", \"Topic4\", \"Topic4\", \"Topic4\", \"Topic4\", \"Topic4\", \"Topic4\", \"Topic4\", \"Topic4\", \"Topic4\", \"Topic4\", \"Topic4\", \"Topic4\", \"Topic4\", \"Topic4\", \"Topic4\", \"Topic4\", \"Topic4\", \"Topic4\", \"Topic4\", \"Topic4\", \"Topic4\", \"Topic4\", \"Topic4\", \"Topic4\", \"Topic4\", \"Topic4\", \"Topic4\", \"Topic4\", \"Topic5\", \"Topic5\", \"Topic5\", \"Topic5\", \"Topic5\", \"Topic5\", \"Topic5\", \"Topic5\", \"Topic5\", \"Topic5\", \"Topic5\", \"Topic5\", \"Topic5\", \"Topic5\", \"Topic5\", \"Topic5\", \"Topic5\", \"Topic5\", \"Topic5\", \"Topic5\", \"Topic5\", \"Topic5\", \"Topic5\", \"Topic5\", \"Topic5\", \"Topic5\", \"Topic5\", \"Topic5\", \"Topic5\", \"Topic5\", \"Topic5\", \"Topic5\", \"Topic5\", \"Topic5\", \"Topic5\", \"Topic5\", \"Topic5\", \"Topic5\", \"Topic5\", \"Topic5\", \"Topic5\", \"Topic5\", \"Topic5\", \"Topic5\", \"Topic5\", \"Topic5\", \"Topic5\", \"Topic5\", \"Topic5\", \"Topic5\", \"Topic5\", \"Topic5\", \"Topic5\", \"Topic5\", \"Topic5\", \"Topic5\", \"Topic5\", \"Topic5\", \"Topic5\", \"Topic5\", \"Topic5\", \"Topic5\", \"Topic5\", \"Topic5\", \"Topic5\", \"Topic5\", \"Topic5\", \"Topic5\", \"Topic5\", \"Topic5\", \"Topic5\", \"Topic6\", \"Topic6\", \"Topic6\", \"Topic6\", \"Topic6\", \"Topic6\", \"Topic6\", \"Topic6\", \"Topic6\", \"Topic6\", \"Topic6\", \"Topic6\", \"Topic6\", \"Topic6\", \"Topic6\", \"Topic6\", \"Topic6\", \"Topic6\", \"Topic6\", \"Topic6\", \"Topic6\", \"Topic6\", \"Topic6\", \"Topic6\", \"Topic6\", \"Topic6\", \"Topic6\", \"Topic6\", \"Topic6\", \"Topic6\", \"Topic6\", \"Topic6\", \"Topic6\", \"Topic6\", \"Topic6\", \"Topic6\", \"Topic6\", \"Topic6\", \"Topic6\", \"Topic6\", \"Topic6\", \"Topic6\", \"Topic6\", \"Topic6\", \"Topic6\", \"Topic6\", \"Topic6\", \"Topic6\", \"Topic6\", \"Topic6\", \"Topic6\", \"Topic6\", \"Topic6\", \"Topic6\", \"Topic6\", \"Topic6\", \"Topic6\", \"Topic6\", \"Topic6\", \"Topic6\", \"Topic6\", \"Topic6\", \"Topic6\", \"Topic6\", \"Topic6\", \"Topic6\", \"Topic6\", \"Topic6\", \"Topic6\", \"Topic6\", \"Topic6\", \"Topic6\", \"Topic6\", \"Topic6\", \"Topic6\", \"Topic6\", \"Topic6\", \"Topic6\", \"Topic7\", \"Topic7\", \"Topic7\", \"Topic7\", \"Topic7\", \"Topic7\", \"Topic7\", \"Topic7\", \"Topic7\", \"Topic7\", \"Topic7\", \"Topic7\", \"Topic7\", \"Topic7\", \"Topic7\", \"Topic7\", \"Topic7\", \"Topic7\", \"Topic7\", \"Topic7\", \"Topic7\", \"Topic7\", \"Topic7\", \"Topic7\", \"Topic7\", \"Topic7\", \"Topic7\", \"Topic7\", \"Topic7\", \"Topic7\", \"Topic7\", \"Topic7\", \"Topic7\", \"Topic7\", \"Topic7\", \"Topic7\", \"Topic7\", \"Topic7\", \"Topic7\", \"Topic7\", \"Topic7\", \"Topic7\", \"Topic7\", \"Topic7\", \"Topic7\", \"Topic7\", \"Topic7\", \"Topic7\", \"Topic7\", \"Topic7\", \"Topic7\", \"Topic7\", \"Topic7\", \"Topic7\", \"Topic7\", \"Topic7\", \"Topic7\", \"Topic7\", \"Topic7\", \"Topic7\", \"Topic7\", \"Topic7\", \"Topic7\", \"Topic7\", \"Topic7\", \"Topic7\", \"Topic7\", \"Topic7\", \"Topic7\", \"Topic7\", \"Topic7\", \"Topic7\", \"Topic7\", \"Topic7\", \"Topic7\", \"Topic7\", \"Topic7\"], \"logprob\": [30.0, 29.0, 28.0, 27.0, 26.0, 25.0, 24.0, 23.0, 22.0, 21.0, 20.0, 19.0, 18.0, 17.0, 16.0, 15.0, 14.0, 13.0, 12.0, 11.0, 10.0, 9.0, 8.0, 7.0, 6.0, 5.0, 4.0, 3.0, 2.0, 1.0, -5.639999866485596, -5.653200149536133, -5.940999984741211, -6.091700077056885, -6.127699851989746, -6.283299922943115, -6.495299816131592, -6.58620023727417, -6.662499904632568, -6.900199890136719, -6.906599998474121, -6.941999912261963, -6.9664998054504395, -7.474899768829346, -7.4807000160217285, -7.4969000816345215, -7.499199867248535, -7.521100044250488, -3.716599941253662, -7.565800189971924, -7.608799934387207, -7.651100158691406, -7.659200191497803, -7.6834001541137695, -7.694799900054932, -7.712399959564209, -7.741300106048584, -7.758600234985352, -7.829100131988525, -7.931600093841553, -5.855500221252441, -5.240099906921387, -6.382400035858154, -4.904200077056885, -6.839600086212158, -6.827099800109863, -7.3429999351501465, -6.51140022277832, -4.434299945831299, -6.306000232696533, -6.081099987030029, -6.442200183868408, -6.292300224304199, -6.3454999923706055, -4.71750020980835, -5.382199764251709, -5.818900108337402, -6.03849983215332, -6.10099983215332, -5.425300121307373, -4.907599925994873, -5.9028000831604, -5.302599906921387, -5.526899814605713, -5.238800048828125, -5.0605998039245605, -5.736000061035156, -5.855899810791016, -5.263899803161621, -5.64739990234375, -5.311299800872803, -5.006199836730957, -5.8607001304626465, -5.572700023651123, -5.3968000411987305, -5.340000152587891, -5.920899868011475, -5.820300102233887, -3.8408000469207764, -4.909599781036377, -5.533299922943115, -5.874199867248535, -6.0335001945495605, -5.946599960327148, -6.145299911499023, -6.32480001449585, -6.405700206756592, -6.487100124359131, -6.489099979400635, -6.557700157165527, -6.643499851226807, -6.657899856567383, -6.75029993057251, -6.83459997177124, -6.84499979019165, -6.886600017547607, -6.885700225830078, -6.931399822235107, -6.95419979095459, -6.971499919891357, -7.08050012588501, -7.1315999031066895, -7.162600040435791, -7.189599990844727, -7.288300037384033, -7.362500190734863, -7.386499881744385, -7.418000221252441, -4.809100151062012, -5.578999996185303, -5.809299945831299, -6.155799865722656, -5.175600051879883, -5.6631999015808105, -6.071800231933594, -6.289400100708008, -4.793499946594238, -6.276800155639648, -6.2058000564575195, -6.187600135803223, -5.678599834442139, -5.876399993896484, -5.901500225067139, -5.645999908447266, -6.11329984664917, -4.822700023651123, -5.53439998626709, -5.47760009765625, -6.101099967956543, -5.128499984741211, -4.932499885559082, -6.012499809265137, -5.1585001945495605, -5.896200180053711, -5.831900119781494, -5.997700214385986, -5.920000076293945, -5.454400062561035, -5.418600082397461, -4.9710001945495605, -5.429800033569336, -5.326700210571289, -5.681700229644775, -5.614200115203857, -5.673699855804443, -5.516600131988525, -5.686999797821045, -7.085000038146973, -7.306300163269043, -7.054500102996826, -7.3403000831604, -7.399799823760986, -7.561200141906738, -7.78879976272583, -7.814300060272217, -8.037699699401855, -8.090200424194336, -8.147600173950195, -8.187000274658203, -8.200799942016602, -8.233799934387207, -8.236700057983398, -8.243200302124023, -8.281700134277344, -8.304300308227539, -8.422300338745117, -8.477800369262695, -8.375100135803223, -8.622699737548828, -5.92549991607666, -8.723600387573242, -8.762999534606934, -8.790399551391602, -8.792400360107422, -8.814599990844727, -5.173099994659424, -6.051499843597412, -7.79610013961792, -7.125899791717529, -6.490699768066406, -7.894400119781494, -7.5971999168396, -7.450200080871582, -7.659900188446045, -7.093599796295166, -6.144700050354004, -5.6057000160217285, -7.196800231933594, -7.6153998374938965, -5.078499794006348, -7.235899925231934, -7.487500190734863, -5.9359002113342285, -5.875899791717529, -4.9045000076293945, -6.632900238037109, -6.27239990234375, -7.154600143432617, -5.326399803161621, -6.603600025177002, -6.3821001052856445, -5.905300140380859, -6.120299816131592, -6.6493000984191895, -5.55019998550415, -5.000899791717529, -5.84119987487793, -6.786099910736084, -6.118100166320801, -5.413099765777588, -5.2104997634887695, -6.2322998046875, -5.431099891662598, -5.846499919891357, -5.523200035095215, -5.597499847412109, -5.780700206756592, -5.633900165557861, -5.929100036621094, -5.632800102233887, -5.943999767303467, -5.701000213623047, -5.888700008392334, -5.827199935913086, -5.8927998542785645, -5.972499847412109, -4.360000133514404, -4.7221999168396, -4.217899799346924, -5.659299850463867, -5.787300109863281, -5.94290018081665, -6.546599864959717, -6.906199932098389, -6.992000102996826, -7.155099868774414, -7.23859977722168, -7.272600173950195, -7.625, -7.796599864959717, -7.690000057220459, -7.938899993896484, -7.943900108337402, -8.002799987792969, -8.035799980163574, -8.04740047454834, -8.047900199890137, -8.099900245666504, -8.171600341796875, -8.197799682617188, -8.201399803161621, -8.223999977111816, -8.318699836730957, -8.31980037689209, -8.32800006866455, -8.322600364685059, -5.013599872589111, -5.4217000007629395, -6.111199855804443, -6.436699867248535, -7.450099945068359, -6.74560022354126, -7.740900039672852, -6.9770002365112305, -5.510000228881836, -5.587200164794922, -6.761499881744385, -7.513999938964844, -5.625999927520752, -6.0289998054504395, -6.5894999504089355, -7.058300018310547, -7.0584001541137695, -7.058599948883057, -7.0584001541137695, -7.058300018310547, -5.697500228881836, -5.461299896240234, -4.428400039672852, -4.5304999351501465, -5.839900016784668, -4.47189998626709, -6.8308000564575195, -6.473299980163574, -6.205399990081787, -5.464099884033203, -5.595900058746338, -5.757199764251709, -5.328499794006348, -5.8881001472473145, -6.228799819946289, -5.292399883270264, -6.103700160980225, -5.254300117492676, -5.656000137329102, -5.674300193786621, -5.226799964904785, -5.348999977111816, -5.471799850463867, -5.678800106048584, -5.874800205230713, -4.963600158691406, -4.506899833679199, -5.674799919128418, -5.74560022354126, -5.738100051879883, -6.188700199127197, -6.269100189208984, -6.566299915313721, -6.637400150299072, -6.663099765777588, -6.81879997253418, -5.855100154876709, -7.028600215911865, -7.176400184631348, -7.50600004196167, -7.588600158691406, -7.735000133514404, -7.768799781799316, -7.772500038146973, -7.922299861907959, -7.931700229644775, -7.987500190734863, -7.999499797821045, -8.029500007629395, -8.047599792480469, -8.053299903869629, -8.1181001663208, -8.151900291442871, -7.324100017547607, -8.18529987335205, -6.52400016784668, -6.685299873352051, -6.755000114440918, -6.730199813842773, -7.447800159454346, -7.533699989318848, -5.2204999923706055, -4.274600028991699, -5.932400226593018, -6.975200176239014, -3.775099992752075, -6.161499977111816, -6.4197001457214355, -6.299699783325195, -5.240300178527832, -5.922299861907959, -6.778500080108643, -6.307499885559082, -3.669600009918213, -5.951099872589111, -4.676000118255615, -5.84689998626709, -5.503600120544434, -5.783400058746338, -5.025199890136719, -5.540200233459473, -5.614699840545654, -4.930099964141846, -5.763199806213379, -4.7546000480651855, -5.350200176239014, -5.013500213623047, -5.495699882507324, -5.248300075531006, -5.620999813079834, -5.798299789428711, -5.4475998878479, -5.3993000984191895, -5.502900123596191, -5.695400238037109, -5.79580020904541, -5.3805999755859375, -6.560400009155273, -6.458799839019775, -6.992199897766113, -7.120999813079834, -7.605199813842773, -7.77209997177124, -7.776500225067139, -7.783599853515625, -8.171199798583984, -8.248499870300293, -8.253000259399414, -8.284799575805664, -8.248200416564941, -8.30620002746582, -8.332799911499023, -8.338399887084961, -8.350099563598633, -8.371500015258789, -8.208200454711914, -8.398599624633789, -8.40369987487793, -8.485400199890137, -8.493800163269043, -8.516400337219238, -8.561300277709961, -8.578700065612793, -8.59529972076416, -8.624099731445312, -8.632499694824219, -3.658900022506714, -5.157400131225586, -4.261199951171875, -6.070499897003174, -7.358099937438965, -7.324900150299072, -5.972700119018555, -7.726399898529053, -5.7032999992370605, -5.141499996185303, -5.298299789428711, -6.631700038909912, -7.823200225830078, -8.190099716186523, -6.166900157928467, -6.542200088500977, -3.9574999809265137, -5.5625, -7.475500106811523, -4.890200138092041, -5.31790018081665, -7.712900161743164, -5.679100036621094, -5.549499988555908, -7.265900135040283, -6.175099849700928, -6.0559000968933105, -4.1890997886657715, -5.456699848175049, -5.1809000968933105, -6.168000221252441, -5.258500099182129, -5.108799934387207, -5.752600193023682, -4.618100166320801, -6.015900135040283, -5.754499912261963, -5.8144001960754395, -5.026400089263916, -4.688300132751465, -5.779200077056885, -5.339799880981445, -5.6219000816345215, -5.583399772644043, -5.852399826049805, -5.540299892425537, -5.764400005340576, -5.745999813079834, -4.942599773406982, -6.614299774169922, -6.802700042724609, -6.300000190734863, -7.302800178527832, -7.518700122833252, -7.519400119781494, -7.52269983291626, -7.531300067901611, -7.714799880981445, -7.771100044250488, -7.861400127410889, -7.932499885559082, -7.962600231170654, -8.004599571228027, -8.00879955291748, -8.019499778747559, -8.073800086975098, -8.14680004119873, -8.151599884033203, -8.182900428771973, -8.18649959564209, -8.237299919128418, -8.26099967956543, -8.354499816894531, -8.369500160217285, -8.432299613952637, -8.549400329589844, -8.42140007019043, -8.597399711608887, -3.6545000076293945, -6.200799942016602, -3.9407999515533447, -6.6956000328063965, -6.025599956512451, -6.549799919128418, -5.684899806976318, -7.459700107574463, -5.9583001136779785, -6.413099765777588, -7.7845001220703125, -6.843900203704834, -7.365200042724609, -5.363999843597412, -4.710599899291992, -5.209099769592285, -6.57889986038208, -6.036499977111816, -5.0183000564575195, -4.730100154876709, -4.200300216674805, -5.284599781036377, -6.0258002281188965, -5.565199851989746, -7.1508002281188965, -4.547500133514404, -7.214700222015381, -4.9496002197265625, -4.696700096130371, -6.448599815368652, -5.611599922180176, -4.700699806213379, -5.378399848937988, -4.870100021362305, -5.534200191497803, -5.6041998863220215, -5.381999969482422, -5.429900169372559, -5.788599967956543, -5.770599842071533, -5.203700065612793, -5.33489990234375, -5.361000061035156, -5.1996002197265625, -5.494699954986572, -5.547100067138672, -5.668799877166748], \"loglift\": [30.0, 29.0, 28.0, 27.0, 26.0, 25.0, 24.0, 23.0, 22.0, 21.0, 20.0, 19.0, 18.0, 17.0, 16.0, 15.0, 14.0, 13.0, 12.0, 11.0, 10.0, 9.0, 8.0, 7.0, 6.0, 5.0, 4.0, 3.0, 2.0, 1.0, 1.6627999544143677, 1.6627999544143677, 1.6627999544143677, 1.6627999544143677, 1.6627000570297241, 1.6627000570297241, 1.6627000570297241, 1.6627000570297241, 1.6627000570297241, 1.662600040435791, 1.662600040435791, 1.662600040435791, 1.662600040435791, 1.6624000072479248, 1.6624000072479248, 1.6624000072479248, 1.6624000072479248, 1.6622999906539917, 1.6622999906539917, 1.6622999906539917, 1.6622999906539917, 1.6622999906539917, 1.6622999906539917, 1.6622999906539917, 1.6621999740600586, 1.6621999740600586, 1.6621999740600586, 1.6621999740600586, 1.6621999740600586, 1.6620999574661255, 1.6593999862670898, 1.6523000001907349, 1.6615999937057495, 1.6419999599456787, 1.6612999439239502, 1.656999945640564, 1.6612999439239502, 1.6523000001907349, 1.6140999794006348, 1.6470999717712402, 1.6410000324249268, 1.6475000381469727, 1.6433000564575195, 1.6373000144958496, 1.576799988746643, 1.5937999486923218, 1.6058000326156616, 1.6059000492095947, 1.6030999422073364, 1.5463000535964966, 1.4819999933242798, 1.5688999891281128, 1.5026999711990356, 1.5135999917984009, 1.2573000192642212, 1.1963000297546387, 1.4076999425888062, 1.4091999530792236, 1.1363999843597412, 1.3135000467300415, 1.1232000589370728, 0.9412999749183655, 1.3976000547409058, 1.101099967956543, 0.9308000206947327, 0.7117000222206116, 1.4005000591278076, 0.7422000169754028, 1.6711000204086304, 1.6711000204086304, 1.6711000204086304, 1.6710000038146973, 1.6710000038146973, 1.6710000038146973, 1.6710000038146973, 1.6710000038146973, 1.6710000038146973, 1.6710000038146973, 1.6710000038146973, 1.6708999872207642, 1.6708999872207642, 1.6708999872207642, 1.6708999872207642, 1.6708999872207642, 1.6708999872207642, 1.6708999872207642, 1.6708999872207642, 1.670799970626831, 1.670799970626831, 1.670799970626831, 1.670799970626831, 1.670799970626831, 1.670799970626831, 1.670799970626831, 1.670699954032898, 1.670699954032898, 1.670699954032898, 1.670699954032898, 1.6657999753952026, 1.6706000566482544, 1.6694999933242798, 1.6698999404907227, 1.659500002861023, 1.6641000509262085, 1.6679999828338623, 1.6682000160217285, 1.652899980545044, 1.6676000356674194, 1.6643999814987183, 1.6621999740600586, 1.6505000591278076, 1.6532000303268433, 1.652400016784668, 1.642300009727478, 1.6552000045776367, 1.6105999946594238, 1.6344000101089478, 1.6166000366210938, 1.648900032043457, 1.5823999643325806, 1.5628000497817993, 1.642699956893921, 1.5075000524520874, 1.608199954032898, 1.5877000093460083, 1.6115000247955322, 1.5713000297546387, 1.3461999893188477, 1.2518999576568604, 0.9764999747276306, 1.0889999866485596, 0.8443999886512756, 1.194599986076355, 0.9483000040054321, 0.7608000040054321, 1.7366000413894653, 1.7364000082015991, 1.736199975013733, 1.7360999584197998, 1.7360999584197998, 1.7360999584197998, 1.7360999584197998, 1.7359999418258667, 1.73580002784729, 1.73580002784729, 1.7355999946594238, 1.7355999946594238, 1.7354999780654907, 1.7353999614715576, 1.7353999614715576, 1.7353999614715576, 1.7353999614715576, 1.7353999614715576, 1.7352999448776245, 1.7352999448776245, 1.7351000308990479, 1.7350000143051147, 1.7348999977111816, 1.7347999811172485, 1.7346999645233154, 1.7345999479293823, 1.7345000505447388, 1.7345000505447388, 1.7345000505447388, 1.7344000339508057, 1.7318999767303467, 1.7177000045776367, 1.733199954032898, 1.7259999513626099, 1.7164000272750854, 1.729699969291687, 1.7237000465393066, 1.7202999591827393, 1.7231999635696411, 1.7110999822616577, 1.680799961090088, 1.659500002861023, 1.7086999416351318, 1.7210999727249146, 1.6389000415802002, 1.7027000188827515, 1.7130000591278076, 1.6437000036239624, 1.6243000030517578, 1.5719000101089478, 1.6591999530792236, 1.6291999816894531, 1.6883000135421753, 1.548200011253357, 1.6420999765396118, 1.6100000143051147, 1.548699975013733, 1.5454000234603882, 1.6165000200271606, 1.451300024986267, 1.3559999465942383, 1.4848999977111816, 1.634600043296814, 1.496500015258789, 1.332900047302246, 1.288100004196167, 1.475100040435791, 1.1893999576568604, 1.319599986076355, 1.1764999628067017, 1.1819000244140625, 1.2239999771118164, 1.0851000547409058, 1.253000020980835, 1.0152000188827515, 1.256700038909912, 0.9868000149726868, 0.9369000196456909, 0.7803999781608582, 0.8766000270843506, 0.680899977684021, 1.9261000156402588, 1.9261000156402588, 1.9259999990463257, 1.9259999990463257, 1.9259999990463257, 1.9259999990463257, 1.9258999824523926, 1.9256999492645264, 1.9256999492645264, 1.9256000518798828, 1.9256000518798828, 1.9256000518798828, 1.9253000020980835, 1.9251999855041504, 1.9250999689102173, 1.9250999689102173, 1.9249999523162842, 1.9249999523162842, 1.9249000549316406, 1.9249000549316406, 1.9249000549316406, 1.9249000549316406, 1.9248000383377075, 1.9247000217437744, 1.9247000217437744, 1.9247000217437744, 1.9246000051498413, 1.9246000051498413, 1.9244999885559082, 1.9244999885559082, 1.9234000444412231, 1.9185999631881714, 1.9204000234603882, 1.9227999448776245, 1.9227999448776245, 1.9148999452590942, 1.9234999418258667, 1.9149999618530273, 1.8934999704360962, 1.8939000368118286, 1.9088000059127808, 1.916599988937378, 1.877500057220459, 1.875599980354309, 1.8880000114440918, 1.896399974822998, 1.896399974822998, 1.896399974822998, 1.896399974822998, 1.896299958229065, 1.823199987411499, 1.7633999586105347, 1.6615999937057495, 1.6536999940872192, 1.7792999744415283, 1.5954999923706055, 1.871000051498413, 1.8241000175476074, 1.7666000127792358, 1.6302000284194946, 1.618399977684021, 1.6375999450683594, 1.5211000442504883, 1.666700005531311, 1.7481000423431396, 1.4150999784469604, 1.6917999982833862, 1.3135000467300415, 1.4579999446868896, 1.3356000185012817, 0.9442999958992004, 1.0016000270843506, 1.006600022315979, 1.2431999444961548, 1.3696000576019287, 2.157399892807007, 2.157399892807007, 2.1572999954223633, 2.1572999954223633, 2.1572999954223633, 2.1572000980377197, 2.1572000980377197, 2.157099962234497, 2.157099962234497, 2.157099962234497, 2.1570000648498535, 2.1570000648498535, 2.156899929046631, 2.1568000316619873, 2.156599998474121, 2.1565001010894775, 2.1563000679016113, 2.1563000679016113, 2.1563000679016113, 2.156100034713745, 2.156100034713745, 2.1559998989105225, 2.1559998989105225, 2.1559998989105225, 2.155900001525879, 2.155900001525879, 2.1558001041412354, 2.1558001041412354, 2.1556999683380127, 2.1556999683380127, 2.153599977493286, 2.1530001163482666, 2.1514999866485596, 2.1507999897003174, 2.1552999019622803, 2.1554999351501465, 2.130199909210205, 2.1061999797821045, 2.134999990463257, 2.1414999961853027, 2.0659000873565674, 2.1215999126434326, 2.1257998943328857, 2.1189000606536865, 2.078700065612793, 2.095900058746338, 2.126199960708618, 2.0977001190185547, 1.8919999599456787, 2.0573999881744385, 1.9021999835968018, 2.0308001041412354, 1.9443000555038452, 1.968500018119812, 1.8181999921798706, 1.9200999736785889, 1.8238999843597412, 1.592900037765503, 1.8668999671936035, 1.4486000537872314, 1.624400019645691, 1.3924000263214111, 1.6066999435424805, 1.3737000226974487, 1.569700002670288, 1.750100016593933, 1.3321000337600708, 0.7110999822616577, 0.8974999785423279, 1.4185999631881714, 0.4611000120639801, 2.329400062561035, 2.329200029373169, 2.3289999961853027, 2.328900098800659, 2.3287999629974365, 2.328399896621704, 2.328200101852417, 2.328200101852417, 2.328200101852417, 2.327500104904175, 2.327399969100952, 2.327399969100952, 2.3273000717163086, 2.327199935913086, 2.327199935913086, 2.327199935913086, 2.327199935913086, 2.3271000385284424, 2.3271000385284424, 2.3271000385284424, 2.3269999027252197, 2.3269999027252197, 2.3268001079559326, 2.3268001079559326, 2.32669997215271, 2.3266000747680664, 2.3264999389648438, 2.3264999389648438, 2.3264000415802, 2.3262999057769775, 2.3203999996185303, 2.3261001110076904, 2.3153998851776123, 2.3166000843048096, 2.3250999450683594, 2.3243000507354736, 2.308199882507324, 2.3227999210357666, 2.3022000789642334, 2.288599967956543, 2.280900001525879, 2.3036000728607178, 2.3169000148773193, 2.3243000507354736, 2.277899980545044, 2.2852001190185547, 2.1867001056671143, 2.222899913787842, 2.2985000610351562, 2.187999963760376, 2.1989998817443848, 2.3053998947143555, 2.190000057220459, 2.149199962615967, 2.277899980545044, 2.1642000675201416, 2.141200065612793, 1.9213999509811401, 2.070199966430664, 2.0292999744415283, 2.1424999237060547, 1.9052000045776367, 1.8077000379562378, 1.9151999950408936, 1.433500051498413, 1.9592000246047974, 1.8069000244140625, 1.819100022315979, 1.1766999959945679, 0.8733000159263611, 1.726199984550476, 1.1385999917984009, 1.3827999830245972, 1.2802000045776367, 1.7431000471115112, 0.8101999759674072, 1.3743000030517578, 0.9731000065803528, 2.4349000453948975, 2.434499979019165, 2.4344000816345215, 2.434299945831299, 2.4340999126434326, 2.433799982070923, 2.433799982070923, 2.433799982070923, 2.433799982070923, 2.4335999488830566, 2.433500051498413, 2.4333999156951904, 2.433300018310547, 2.433199882507324, 2.4330999851226807, 2.4330999851226807, 2.4330999851226807, 2.433000087738037, 2.432800054550171, 2.432800054550171, 2.4326999187469482, 2.4326999187469482, 2.4326000213623047, 2.4326000213623047, 2.432300090789795, 2.432300090789795, 2.4321000576019287, 2.4316999912261963, 2.4316000938415527, 2.4316000938415527, 2.42930006980896, 2.4309000968933105, 2.4068000316619873, 2.4298999309539795, 2.4210000038146973, 2.4235999584198, 2.4142000675201416, 2.4316000938415527, 2.406100034713745, 2.413599967956543, 2.4256999492645264, 2.4014999866485596, 2.4117000102996826, 2.3487000465393066, 2.3185999393463135, 2.3299999237060547, 2.383699893951416, 2.360300064086914, 2.3046998977661133, 2.2850000858306885, 2.2476999759674072, 2.281899929046631, 2.3285999298095703, 2.278599977493286, 2.398900032043457, 2.140899896621704, 2.4033000469207764, 2.1078999042510986, 2.057300090789795, 2.2985999584198, 2.1670000553131104, 2.0172998905181885, 2.0829999446868896, 1.961300015449524, 1.9980000257492065, 2.001800060272217, 1.7698999643325806, 1.7556999921798706, 1.968000054359436, 1.8911999464035034, 1.123900055885315, 1.2448999881744385, 1.2466000318527222, 0.8521000146865845, 1.381500005722046, 1.278499960899353, 1.030900001525879]}, \"token.table\": {\"Topic\": [1, 2, 4, 5, 6, 7, 1, 2, 3, 4, 5, 6, 7, 1, 2, 4, 5, 6, 7, 1, 2, 4, 5, 6, 7, 1, 2, 4, 5, 6, 7, 1, 2, 3, 4, 5, 6, 7, 1, 2, 3, 4, 5, 6, 7, 1, 2, 4, 5, 6, 7, 1, 2, 4, 5, 6, 7, 1, 2, 3, 4, 5, 6, 7, 1, 2, 4, 5, 6, 7, 1, 2, 3, 4, 5, 6, 7, 1, 2, 4, 5, 6, 7, 1, 2, 3, 4, 5, 6, 7, 1, 2, 3, 4, 5, 6, 7, 1, 2, 4, 5, 6, 7, 1, 2, 4, 5, 6, 7, 1, 2, 4, 5, 6, 7, 1, 2, 3, 4, 5, 6, 7, 1, 2, 3, 4, 5, 6, 7, 1, 2, 3, 4, 5, 6, 7, 1, 2, 4, 5, 6, 7, 1, 2, 3, 4, 5, 6, 7, 1, 2, 4, 5, 6, 7, 1, 2, 4, 5, 6, 7, 1, 2, 4, 5, 6, 7, 1, 2, 4, 5, 6, 7, 1, 2, 4, 5, 6, 7, 1, 2, 4, 5, 6, 7, 1, 2, 4, 5, 6, 7, 1, 2, 4, 5, 6, 7, 1, 2, 4, 5, 6, 7, 1, 2, 3, 4, 5, 6, 7, 1, 2, 3, 4, 5, 6, 7, 1, 2, 4, 5, 6, 7, 1, 2, 4, 5, 6, 7, 1, 2, 4, 5, 6, 7, 1, 2, 4, 5, 6, 7, 1, 2, 4, 5, 6, 7, 1, 2, 4, 5, 6, 7, 1, 2, 3, 4, 5, 6, 7, 1, 2, 3, 4, 5, 6, 7, 1, 2, 3, 4, 5, 6, 7, 1, 2, 4, 5, 6, 7, 1, 2, 3, 4, 5, 6, 7, 1, 2, 3, 4, 5, 6, 7, 1, 2, 4, 5, 6, 7, 1, 2, 4, 5, 6, 7, 1, 2, 3, 4, 5, 6, 7, 1, 2, 3, 4, 5, 6, 7, 1, 2, 4, 5, 6, 7, 1, 2, 4, 5, 6, 7, 1, 2, 4, 5, 6, 7, 1, 2, 4, 5, 6, 7, 1, 2, 3, 4, 5, 6, 7, 1, 2, 3, 4, 5, 6, 7, 1, 2, 3, 4, 5, 6, 7, 1, 2, 4, 5, 6, 7, 1, 2, 4, 5, 6, 7, 1, 2, 3, 4, 5, 6, 7, 1, 2, 3, 4, 5, 6, 7, 1, 2, 3, 4, 5, 6, 7, 1, 2, 3, 4, 5, 6, 7, 1, 2, 4, 5, 6, 7, 1, 2, 3, 4, 5, 6, 7, 1, 2, 3, 4, 5, 6, 7, 1, 2, 4, 5, 6, 7, 1, 2, 4, 5, 6, 7, 1, 2, 3, 4, 5, 6, 7, 1, 2, 3, 4, 5, 6, 7, 1, 2, 4, 5, 6, 7, 1, 2, 3, 4, 5, 6, 7, 1, 2, 3, 4, 5, 6, 7, 1, 2, 4, 5, 6, 7, 1, 2, 4, 5, 6, 7, 1, 2, 4, 5, 6, 7, 1, 2, 4, 5, 6, 7, 1, 2, 4, 5, 6, 7, 1, 2, 3, 4, 5, 6, 7, 1, 2, 3, 4, 5, 6, 7, 1, 2, 4, 5, 6, 7, 1, 2, 4, 5, 6, 7, 1, 2, 3, 4, 5, 6, 7, 1, 2, 4, 5, 6, 7, 1, 2, 3, 4, 5, 6, 7, 1, 2, 3, 4, 5, 6, 7, 1, 2, 3, 4, 5, 6, 7, 1, 2, 3, 4, 5, 6, 7, 1, 2, 3, 4, 5, 6, 7, 1, 2, 3, 4, 5, 6, 7, 1, 2, 4, 5, 6, 7, 1, 2, 4, 5, 6, 7, 1, 2, 4, 5, 6, 7, 1, 2, 4, 5, 6, 7, 1, 2, 4, 5, 6, 7, 1, 2, 4, 5, 6, 7, 1, 2, 3, 4, 5, 6, 7, 1, 2, 3, 4, 5, 6, 7, 1, 2, 4, 5, 6, 7, 1, 2, 4, 5, 6, 7, 1, 2, 4, 5, 6, 7, 1, 2, 3, 4, 5, 6, 7, 1, 2, 4, 5, 6, 7, 1, 2, 4, 5, 6, 7, 1, 2, 4, 5, 6, 7, 1, 2, 3, 4, 5, 6, 7, 1, 2, 3, 4, 5, 6, 7, 1, 2, 4, 5, 6, 7, 1, 2, 3, 4, 5, 6, 7, 1, 2, 4, 5, 6, 7, 1, 2, 3, 4, 5, 6, 7, 1, 2, 3, 4, 5, 6, 7, 1, 2, 3, 4, 5, 6, 7, 1, 2, 4, 5, 6, 7, 1, 2, 3, 4, 5, 6, 7, 1, 2, 3, 4, 5, 6, 7, 1, 2, 3, 4, 5, 6, 7, 1, 2, 4, 5, 6, 7, 1, 2, 4, 5, 6, 7, 1, 2, 4, 5, 6, 7, 1, 2, 4, 5, 6, 7, 1, 2, 3, 4, 5, 6, 7, 1, 2, 3, 4, 5, 6, 7, 1, 2, 4, 5, 6, 7, 1, 2, 4, 5, 6, 7, 1, 2, 3, 4, 5, 6, 7, 1, 2, 4, 5, 6, 7, 1, 2, 4, 5, 6, 7, 1, 2, 3, 4, 5, 6, 7, 1, 2, 3, 4, 5, 6, 7, 1, 2, 3, 4, 5, 6, 7, 1, 2, 4, 5, 6, 7, 1, 2, 3, 4, 5, 6, 7, 1, 2, 4, 5, 6, 7, 1, 2, 3, 4, 5, 6, 7, 1, 2, 4, 5, 6, 7, 1, 2, 4, 5, 6, 7, 1, 2, 3, 4, 5, 6, 7, 1, 2, 4, 5, 6, 7, 1, 2, 3, 4, 5, 6, 7, 1, 2, 4, 5, 6, 7, 1, 2, 3, 4, 5, 6, 7, 1, 2, 3, 4, 5, 6, 7, 1, 2, 4, 5, 6, 7, 1, 2, 4, 5, 6, 7, 1, 2, 4, 5, 6, 7, 1, 2, 3, 4, 5, 6, 7, 1, 2, 4, 5, 6, 7, 1, 2, 3, 4, 5, 6, 7, 1, 2, 4, 5, 6, 7, 1, 2, 4, 5, 6, 7, 1, 2, 3, 4, 5, 6, 7, 1, 2, 4, 5, 6, 7, 1, 2, 3, 4, 5, 6, 7, 1, 2, 3, 4, 5, 6, 7, 1, 2, 3, 4, 5, 6, 7, 1, 2, 4, 5, 6, 7, 1, 2, 3, 4, 5, 6, 7, 1, 2, 3, 4, 5, 6, 7, 1, 2, 4, 5, 6, 7, 1, 2, 4, 5, 6, 7, 1, 2, 4, 5, 6, 7, 1, 2, 4, 5, 6, 7, 1, 2, 4, 5, 6, 7, 1, 2, 3, 4, 5, 6, 7, 1, 2, 4, 5, 6, 7, 1, 2, 4, 5, 6, 7, 1, 2, 3, 4, 5, 6, 7, 1, 2, 3, 4, 5, 6, 7, 1, 2, 3, 4, 5, 6, 7, 1, 2, 4, 5, 6, 7, 1, 2, 4, 5, 6, 7, 1, 2, 3, 4, 5, 6, 7, 1, 2, 3, 4, 5, 6, 7, 1, 2, 4, 5, 6, 7, 1, 2, 4, 5, 6, 7, 1, 2, 3, 4, 5, 6, 7, 1, 2, 3, 4, 5, 6, 7, 1, 2, 4, 5, 6, 7, 1, 2, 4, 5, 6, 7, 1, 2, 4, 5, 6, 7, 1, 2, 4, 5, 6, 7, 1, 2, 4, 5, 6, 7, 1, 2, 4, 5, 6, 7, 1, 2, 4, 5, 6, 7, 1, 2, 4, 5, 6, 7, 1, 2, 4, 5, 6, 7, 1, 2, 3, 4, 5, 6, 7, 1, 2, 4, 5, 6, 7, 1, 2, 3, 4, 5, 6, 7, 1, 2, 3, 4, 5, 6, 7, 1, 2, 4, 5, 6, 7, 1, 2, 4, 5, 6, 7, 1, 2, 4, 5, 6, 7, 1, 2, 3, 4, 5, 6, 7, 1, 2, 4, 5, 6, 7, 1, 2, 3, 4, 5, 6, 7, 1, 2, 3, 4, 5, 6, 7, 1, 2, 3, 4, 5, 6, 7, 1, 2, 3, 4, 5, 6, 7, 1, 2, 3, 4, 5, 6, 7, 1, 2, 3, 4, 5, 6, 7, 1, 2, 3, 4, 5, 6, 7, 1, 2, 3, 4, 5, 6, 7, 1, 2, 3, 4, 5, 6, 7, 1, 2, 4, 5, 6, 7, 1, 2, 4, 5, 6, 7, 1, 2, 4, 5, 6, 7, 1, 2, 3, 4, 5, 6, 7, 1, 2, 4, 5, 6, 7, 1, 2, 3, 4, 5, 6, 7, 1, 2, 4, 5, 6, 7, 1, 2, 3, 4, 5, 6, 7, 1, 2, 4, 5, 6, 7, 1, 2, 3, 4, 5, 6, 7, 1, 2, 4, 5, 6, 7, 1, 2, 4, 5, 6, 7, 1, 2, 4, 5, 6, 7, 1, 2, 4, 5, 6, 7, 1, 2, 4, 5, 6, 7, 1, 2, 4, 5, 6, 7, 1, 2, 3, 4, 5, 6, 7, 1, 2, 3, 4, 5, 6, 7, 1, 2, 4, 5, 6, 7, 1, 2, 3, 4, 5, 6, 7, 1, 2, 4, 5, 6, 7, 1, 2, 4, 5, 6, 7, 1, 2, 3, 4, 5, 6, 7, 1, 2, 4, 5, 6, 7, 1, 2, 4, 5, 6, 7, 1, 2, 4, 5, 6, 7, 1, 2, 3, 4, 5, 6, 7, 1, 2, 4, 5, 6, 7, 1, 2, 4, 5, 6, 7, 1, 2, 4, 5, 6, 7, 1, 2, 4, 5, 6, 7, 1, 2, 4, 5, 6, 7, 1, 2, 3, 4, 5, 6, 7, 1, 2, 3, 4, 5, 6, 7, 1, 2, 3, 4, 5, 6, 7, 1, 2, 4, 5, 6, 7, 1, 2, 4, 5, 6, 7, 1, 2, 3, 4, 5, 6, 7, 1, 2, 4, 5, 6, 7, 1, 2, 4, 5, 6, 7, 1, 2, 4, 5, 6, 7, 1, 2, 4, 5, 6, 7, 1, 2, 4, 5, 6, 7, 1, 2, 4, 5, 6, 7, 1, 2, 4, 5, 6, 7, 1, 2, 4, 5, 6, 7, 1, 2, 4, 5, 6, 7, 1, 2, 4, 5, 6, 7, 1, 2, 3, 4, 5, 6, 7, 1, 2, 4, 5, 6, 7, 1, 2, 4, 5, 6, 7, 1, 2, 4, 5, 6, 7, 1, 2, 4, 5, 6, 7, 1, 2, 4, 5, 6, 7, 1, 2, 4, 5, 6, 7, 1, 2, 4, 5, 6, 7, 1, 2, 3, 4, 5, 6, 7, 1, 2, 4, 5, 6, 7, 1, 2, 4, 5, 6, 7, 1, 2, 4, 5, 6, 7, 1, 2, 4, 5, 6, 7, 1, 2, 4, 5, 6, 7, 1, 2, 3, 4, 5, 6, 7, 1, 2, 4, 5, 6, 7, 1, 2, 4, 5, 6, 7, 1, 2, 4, 5, 6, 7, 1, 2, 3, 4, 5, 6, 7, 1, 2, 3, 4, 5, 6, 7, 1, 2, 4, 5, 6, 7, 1, 2, 4, 5, 6, 7, 1, 2, 4, 5, 6, 7, 1, 2, 4, 5, 6, 7, 1, 2, 4, 5, 6, 7, 1, 2, 4, 5, 6, 7, 1, 2, 3, 4, 5, 6, 7, 1, 2, 3, 4, 5, 6, 7, 1, 2, 3, 4, 5, 6, 7, 1, 2, 4, 5, 6, 7, 1, 2, 4, 5, 6, 7, 1, 2, 3, 4, 5, 6, 7, 1, 2, 3, 4, 5, 6, 7, 1, 2, 4, 5, 6, 7, 1, 2, 4, 5, 6, 7, 1, 2, 3, 4, 5, 6, 7, 1, 2, 4, 5, 6, 7, 1, 2, 4, 5, 6, 7, 1, 2, 4, 5, 6, 7, 1, 2, 3, 4, 5, 6, 7, 1, 2, 3, 4, 5, 6, 7, 1, 2, 3, 4, 5, 6, 7, 1, 2, 4, 5, 6, 7, 1, 2, 4, 5, 6, 7, 1, 2, 4, 5, 6, 7, 1, 2, 3, 4, 5, 6, 7, 1, 2, 3, 4, 5, 6, 7, 1, 2, 3, 4, 5, 6, 7, 1, 2, 4, 5, 6, 7, 1, 2, 3, 4, 5, 6, 7, 1, 2, 3, 4, 5, 6, 7, 1, 2, 3, 4, 5, 6, 7, 1, 2, 3, 4, 5, 6, 7, 1, 2, 4, 5, 6, 7, 1, 2, 4, 5, 6, 7, 1, 2, 4, 5, 6, 7, 1, 2, 4, 5, 6, 7, 1, 2, 4, 5, 6, 7, 1, 2, 4, 5, 6, 7, 1, 2, 3, 4, 5, 6, 7, 1, 2, 4, 5, 6, 7, 1, 2, 4, 5, 6, 7, 1, 2, 4, 5, 6, 7, 1, 2, 4, 5, 6, 7, 1, 2, 4, 5, 6, 7, 1, 2, 3, 4, 5, 6, 7, 1, 2, 4, 5, 6, 7, 1, 2, 4, 5, 6, 7, 1, 2, 3, 4, 5, 6, 7, 1, 2, 3, 4, 5, 6, 7, 1, 2, 3, 4, 5, 6, 7, 1, 2, 4, 5, 6, 7, 1, 2, 4, 5, 6, 7, 1, 2, 4, 5, 6, 7, 1, 2, 4, 5, 6, 7, 1, 2, 3, 4, 5, 6, 7, 1, 2, 4, 5, 6, 7, 1, 2, 4, 5, 6, 7, 1, 2, 3, 4, 5, 6, 7, 1, 2, 4, 5, 6, 7, 1, 2, 4, 5, 6, 7, 1, 2, 3, 4, 5, 6, 7, 1, 2, 4, 5, 6, 7, 1, 2, 4, 5, 6, 7, 1, 2, 4, 5, 6, 7, 1, 2, 4, 5, 6, 7, 1, 2, 4, 5, 6, 7, 1, 2, 3, 4, 5, 6, 7, 1, 2, 3, 4, 5, 6, 7, 1, 2, 4, 5, 6, 7, 1, 2, 4, 5, 6, 7, 1, 2, 4, 5, 6, 7, 1, 2, 4, 5, 6, 7, 1, 2, 3, 4, 5, 6, 7, 1, 2, 4, 5, 6, 7, 1, 2, 4, 5, 6, 7, 1, 2, 4, 5, 6, 7, 1, 2, 4, 5, 6, 7, 1, 2, 4, 5, 6, 7, 1, 2, 4, 5, 6, 7, 1, 2, 4, 5, 6, 7, 1, 2, 3, 4, 5, 6, 7, 1, 2, 4, 5, 6, 7, 1, 2, 4, 5, 6, 7, 1, 2, 4, 5, 6, 7, 1, 2, 4, 5, 6, 7, 1, 2, 3, 4, 5, 6, 7, 1, 2, 4, 5, 6, 7, 1, 2, 3, 4, 5, 6, 7, 1, 2, 3, 4, 5, 6, 7, 1, 2, 3, 4, 5, 6, 7, 1, 2, 4, 5, 6, 7, 1, 2, 4, 5, 6, 7, 1, 2, 3, 4, 5, 6, 7, 1, 2, 4, 5, 6, 7, 1, 2, 4, 5, 6, 7, 1, 2, 4, 5, 6, 7, 1, 2, 4, 5, 6, 7, 1, 2, 3, 4, 5, 6, 7, 1, 2, 4, 5, 6, 7, 1, 2, 4, 5, 6, 7, 1, 2, 4, 5, 6, 7, 1, 2, 3, 4, 5, 6, 7, 1, 2, 4, 5, 6, 7, 1, 2, 4, 5, 6, 7, 1, 2, 3, 4, 5, 6, 7, 1, 2, 3, 4, 5, 6, 7, 1, 2, 3, 4, 5, 6, 7, 1, 2, 3, 4, 5, 6, 7, 1, 2, 3, 4, 5, 6, 7, 1, 2, 3, 4, 5, 6, 7, 1, 2, 3, 4, 5, 6, 7, 1, 2, 4, 5, 6, 7, 1, 2, 4, 5, 6, 7, 1, 2, 4, 5, 6, 7, 1, 2, 4, 5, 6, 7, 1, 2, 3, 4, 5, 6, 7, 1, 2, 3, 4, 5, 6, 7, 1, 2, 3, 4, 5, 6, 7, 1, 2, 4, 5, 6, 7, 1, 2, 4, 5, 6, 7, 1, 2, 4, 5, 6, 7, 1, 2, 4, 5, 6, 7, 1, 2, 4, 5, 6, 7, 1, 2, 4, 5, 6, 7, 1, 2, 3, 4, 5, 6, 7, 1, 2, 4, 5, 6, 7, 1, 2, 4, 5, 6, 7, 1, 2, 4, 5, 6, 7, 1, 2, 4, 5, 6, 7, 1, 2, 4, 5, 6, 7, 1, 2, 3, 4, 5, 6, 7, 1, 2, 4, 5, 6, 7, 1, 2, 3, 4, 5, 6, 7, 1, 2, 4, 5, 6, 7, 1, 2, 4, 5, 6, 7, 1, 2, 4, 5, 6, 7, 1, 2, 4, 5, 6, 7, 1, 2, 4, 5, 6, 7, 1, 2, 4, 5, 6, 7, 1, 2, 3, 4, 5, 6, 7, 1, 2, 3, 4, 5, 6, 7, 1, 2, 4, 5, 6, 7, 1, 2, 3, 4, 5, 6, 7, 1, 2, 4, 5, 6, 7, 1, 2, 3, 4, 5, 6, 7, 1, 2, 4, 5, 6, 7, 1, 2, 4, 5, 6, 7, 1, 2, 4, 5, 6, 7, 1, 2, 4, 5, 6, 7, 1, 2, 3, 4, 5, 6, 7, 1, 2, 4, 5, 6, 7, 1, 2, 3, 4, 5, 6, 7, 1, 2, 3, 4, 5, 6, 7, 1, 2, 3, 4, 5, 6, 7, 1, 2, 4, 5, 6, 7, 1, 2, 3, 4, 5, 6, 7, 1, 2, 4, 5, 6, 7, 1, 2, 4, 5, 6, 7, 1, 2, 3, 4, 5, 6, 7, 1, 2, 3, 4, 5, 6, 7, 1, 2, 3, 4, 5, 6, 7, 1, 2, 4, 5, 6, 7, 1, 2, 4, 5, 6, 7, 1, 2, 4, 5, 6, 7, 1, 2, 4, 5, 6, 7, 1, 2, 3, 4, 5, 6, 7, 1, 2, 4, 5, 6, 7, 1, 2, 4, 5, 6, 7, 1, 2, 4, 5, 6, 7, 1, 2, 3, 4, 5, 6, 7, 1, 2, 4, 5, 6, 7, 1, 2, 4, 5, 6, 7, 1, 2, 4, 5, 6, 7, 1, 2, 4, 5, 6, 7, 1, 2, 3, 4, 5, 6, 7, 1, 2, 4, 5, 6, 7, 1, 2, 4, 5, 6, 7, 1, 2, 3, 4, 5, 6, 7, 1, 2, 4, 5, 6, 7, 1, 2, 4, 5, 6, 7, 1, 2, 4, 5, 6, 7, 1, 2, 3, 4, 5, 6, 7, 1, 2, 3, 4, 5, 6, 7, 1, 2, 3, 4, 5, 6, 7, 1, 2, 4, 5, 6, 7, 1, 2, 3, 4, 5, 6, 7, 1, 2, 3, 4, 5, 6, 7, 1, 2, 4, 5, 6, 7, 1, 2, 3, 4, 5, 6, 7, 1, 2, 3, 4, 5, 6, 7, 1, 2, 3, 4, 5, 6, 7, 1, 2, 4, 5, 6, 7, 1, 2, 4, 5, 6, 7, 1, 2, 4, 5, 6, 7, 1, 2, 4, 5, 6, 7, 1, 2, 4, 5, 6, 7, 1, 2, 3, 4, 5, 6, 7, 1, 2, 3, 4, 5, 6, 7, 1, 2, 4, 5, 6, 7, 1, 2, 4, 5, 6, 7, 1, 2, 3, 4, 5, 6, 7, 1, 2, 4, 5, 6, 7, 1, 2, 3, 4, 5, 6, 7, 1, 2, 4, 5, 6, 7, 1, 2, 3, 4, 5, 6, 7, 1, 2, 4, 5, 6, 7, 1, 2, 4, 5, 6, 7, 1, 2, 3, 4, 5, 6, 7, 1, 2, 3, 4, 5, 6, 7, 1, 2, 3, 4, 5, 6, 7, 1, 2, 4, 5, 6, 7, 1, 2, 3, 4, 5, 6, 7, 1, 2, 4, 5, 6, 7, 1, 2, 4, 5, 6, 7, 1, 2, 4, 5, 6, 7, 1, 2, 4, 5, 6, 7, 1, 2, 3, 4, 5, 6, 7, 1, 2, 3, 4, 5, 6, 7, 1, 2, 3, 4, 5, 6, 7, 1, 2, 3, 4, 5, 6, 7, 1, 2, 4, 5, 6, 7, 1, 2, 4, 5, 6, 7, 1, 2, 3, 4, 5, 6, 7], \"Freq\": [8.389983122469857e-05, 8.389983122469857e-05, 8.389983122469857e-05, 0.9688752293586731, 0.030875137075781822, 8.389983122469857e-05, 0.026164771988987923, 0.0032880862709134817, 0.9257945418357849, 2.3319760657614097e-05, 0.006039818283170462, 2.3319760657614097e-05, 0.038687482476234436, 0.003663834184408188, 0.00026170245837420225, 0.00026170245837420225, 0.00026170245837420225, 0.9955161213874817, 0.00026170245837420225, 3.2118638046085835e-05, 3.2118638046085835e-05, 0.9998853206634521, 3.2118638046085835e-05, 3.2118638046085835e-05, 3.2118638046085835e-05, 0.00011171840014867485, 0.00011171840014867485, 0.9996562004089355, 0.00011171840014867485, 0.00011171840014867485, 0.00011171840014867485, 0.00017791439313441515, 0.00017791439313441515, 0.9993451833724976, 0.00017791439313441515, 0.00017791439313441515, 0.00017791439313441515, 0.00017791439313441515, 7.160604582168162e-05, 0.009165573865175247, 0.00358030223287642, 7.160604582168162e-05, 7.160604582168162e-05, 0.9870892763137817, 7.160604582168162e-05, 0.0004887233953922987, 0.0004887233953922987, 0.0004887233953922987, 0.9984619617462158, 0.0004887233953922987, 0.0004887233953922987, 0.0007422654889523983, 0.0007422654889523983, 0.0007422654889523983, 0.0007422654889523983, 0.9976048469543457, 0.0007422654889523983, 0.00022334149980451912, 0.00022334149980451912, 0.9992298483848572, 0.00022334149980451912, 0.00022334149980451912, 0.00022334149980451912, 0.00022334149980451912, 0.0003682758833747357, 0.0003682758833747357, 0.998764157295227, 0.0003682758833747357, 0.0003682758833747357, 0.0003682758833747357, 0.00826752558350563, 1.797288132365793e-05, 0.5989462733268738, 0.004744840785861015, 1.797288132365793e-05, 0.3880165219306946, 1.797288132365793e-05, 0.00040611601434648037, 0.00040611601434648037, 0.9986392855644226, 0.00040611601434648037, 0.00040611601434648037, 0.00040611601434648037, 0.0006220840150490403, 0.0006220840150490403, 0.9978227615356445, 0.0006220840150490403, 0.0006220840150490403, 0.0006220840150490403, 0.0006220840150490403, 0.5907092690467834, 1.964087823580485e-05, 0.10808375477790833, 9.820439117902424e-06, 0.2836732268333435, 0.01750984415411949, 9.820439117902424e-06, 0.00041973331826739013, 0.00041973331826739013, 0.00041973331826739013, 0.9985455870628357, 0.00041973331826739013, 0.00041973331826739013, 0.0018858074909076095, 0.9964882731437683, 0.0014718497404828668, 4.5995304390089586e-05, 4.5995304390089586e-05, 9.199060878017917e-05, 0.03700748458504677, 0.9468648433685303, 0.005365397315472364, 0.002220842055976391, 0.00023584163864143193, 0.008293763734400272, 0.00011295395233901218, 0.006664283107966185, 0.9527665972709656, 0.00011295395233901218, 0.00033886186429299414, 0.03998570144176483, 0.00011295395233901218, 0.00034836356644518673, 0.00034836356644518673, 0.9987583756446838, 0.00034836356644518673, 0.00034836356644518673, 0.00034836356644518673, 0.00034836356644518673, 0.011009621433913708, 0.015322668477892876, 0.017450816929340363, 0.03478813171386719, 0.2050967663526535, 0.013081018812954426, 0.7032821178436279, 0.0010052857687696815, 0.0010052857687696815, 0.0010052857687696815, 0.0010052857687696815, 0.0010052857687696815, 0.9962381720542908, 1.029960549203679e-05, 1.029960549203679e-05, 0.1016056016087532, 0.06449612975120544, 0.004418530501425266, 0.0002780893410090357, 0.8292006254196167, 1.2583544048538897e-05, 1.2583544048538897e-05, 0.9999513626098633, 1.2583544048538897e-05, 1.2583544048538897e-05, 1.2583544048538897e-05, 0.00031515114824287593, 0.00031515114824287593, 0.9990291595458984, 0.00031515114824287593, 0.00031515114824287593, 0.00031515114824287593, 0.00025685125729069114, 0.00025685125729069114, 0.9973534345626831, 0.00025685125729069114, 0.00025685125729069114, 0.001797958742827177, 7.291444489965215e-05, 7.291444489965215e-05, 7.291444489965215e-05, 0.9419817328453064, 0.057821158319711685, 7.291444489965215e-05, 0.00011041357356589288, 0.00011041357356589288, 0.00011041357356589288, 0.9995740652084351, 0.00011041357356589288, 0.00011041357356589288, 0.0001918897032737732, 0.002878345549106598, 0.9966750741004944, 0.0001918897032737732, 0.0001918897032737732, 0.0001918897032737732, 0.9994900226593018, 0.00016602824325673282, 0.00016602824325673282, 0.00016602824325673282, 0.00016602824325673282, 0.00016602824325673282, 0.9895349144935608, 5.727137977373786e-05, 5.727137977373786e-05, 5.727137977373786e-05, 0.010308847762644291, 5.727137977373786e-05, 0.0007460451452061534, 0.0007460451452061534, 0.0007460451452061534, 0.0007460451452061534, 0.9974623322486877, 0.0007460451452061534, 0.062244828790426254, 0.07359535992145538, 0.8286730051040649, 0.007576406933367252, 0.021236471831798553, 0.006365308538079262, 0.00028165080584585667, 0.002821259666234255, 0.011911985464394093, 0.9838359355926514, 0.0001567366416566074, 0.0001567366416566074, 0.0001567366416566074, 0.0010971565498039126, 0.00018444066517986357, 0.00018444066517986357, 0.00018444066517986357, 0.9992995262145996, 0.00018444066517986357, 0.00018444066517986357, 0.00014983673463575542, 0.00014983673463575542, 0.0046449387446045876, 0.00014983673463575542, 0.00014983673463575542, 0.9949159622192383, 0.00034695648355409503, 0.00034695648355409503, 0.00034695648355409503, 0.00034695648355409503, 0.00034695648355409503, 0.9988877177238464, 0.10585665702819824, 0.8490561842918396, 0.042790938168764114, 1.2807822713511996e-05, 0.000627583300229162, 0.001652209204621613, 1.2786226761818398e-05, 1.2786226761818398e-05, 1.2786226761818398e-05, 0.9999340772628784, 3.8358681194949895e-05, 1.2786226761818398e-05, 0.9999251365661621, 2.453563138260506e-05, 2.453563138260506e-05, 2.453563138260506e-05, 2.453563138260506e-05, 2.453563138260506e-05, 0.0003615168679971248, 0.0015183708164840937, 0.0007230337359942496, 0.04612955078482628, 0.008097978308796883, 0.015183708630502224, 0.9279415011405945, 0.11986429244279861, 0.03636251762509346, 0.18049241602420807, 0.11808491498231888, 0.43807220458984375, 0.008552510291337967, 0.09855476766824722, 1.3098362614982761e-05, 0.06135272979736328, 0.14532633125782013, 0.0039688036777079105, 0.00254108221270144, 0.04163969308137894, 0.7451658248901367, 0.9993835091590881, 0.00019222609989810735, 0.00019222609989810735, 0.00019222609989810735, 0.00019222609989810735, 0.00019222609989810735, 0.0002243725029984489, 0.0002243725029984489, 0.9964383244514465, 0.002692470094189048, 0.0002243725029984489, 0.0002243725029984489, 0.0002243725029984489, 0.0005908727762289345, 0.0005908727762289345, 0.9979841113090515, 0.0005908727762289345, 0.0005908727762289345, 0.0005908727762289345, 0.0005908727762289345, 0.38627007603645325, 6.928984475962352e-06, 0.00018015359819401056, 6.928984475962352e-06, 0.408172607421875, 0.20536816120147705, 0.0001822259946493432, 0.0001822259946493432, 0.0001822259946493432, 0.0001822259946493432, 0.9993273019790649, 0.0001822259946493432, 0.9524343609809875, 0.046351220458745956, 2.7627012968878262e-05, 0.0002693633723538369, 6.9067532422195654e-06, 6.9067532422195654e-06, 0.0009047847124747932, 0.0001850416447268799, 0.0005551249487325549, 0.9846065640449524, 0.011472581885755062, 0.003145708004012704, 0.0001850416447268799, 0.0001850416447268799, 0.011511868797242641, 0.9883826971054077, 6.0668611695291474e-05, 1.5167152923822869e-05, 1.5167152923822869e-05, 1.5167152923822869e-05, 0.9998557567596436, 3.9431153709301725e-05, 3.9431153709301725e-05, 3.9431153709301725e-05, 3.9431153709301725e-05, 3.9431153709301725e-05, 0.9994583129882812, 0.00018228311091661453, 0.00018228311091661453, 0.00018228311091661453, 0.00018228311091661453, 0.00018228311091661453, 0.998429536819458, 8.024025737540796e-05, 0.0013640843098983169, 8.024025737540796e-05, 8.024025737540796e-05, 8.024025737540796e-05, 0.27730053663253784, 0.05210348963737488, 0.47245296835899353, 0.11190468072891235, 0.004163042642176151, 0.04338466376066208, 0.038697969168424606, 0.07116522639989853, 0.10053341090679169, 0.0010825132485479116, 0.0019044214859604836, 0.4776489734649658, 2.004654197662603e-05, 0.3476671874523163, 6.54620016575791e-05, 0.006284352391958237, 0.09046848863363266, 0.9029828906059265, 6.54620016575791e-05, 6.54620016575791e-05, 0.0001963860122486949, 0.045586857944726944, 0.21672041714191437, 0.7350853085517883, 0.002570770913735032, 2.2161817469168454e-05, 2.2161817469168454e-05, 0.9994211792945862, 0.00019786600023508072, 0.00019786600023508072, 0.00019786600023508072, 0.00019786600023508072, 0.00019786600023508072, 0.13278570771217346, 0.01419053878635168, 0.0060339272022247314, 0.743804395198822, 0.07971859723329544, 0.02004757523536682, 0.0034002261236310005, 0.1296459436416626, 0.04679840803146362, 0.6590001583099365, 0.016176706179976463, 2.111841422447469e-05, 0.00033789462759159505, 0.14804008603096008, 0.001006013946607709, 9.145581134362146e-05, 0.002835130086168647, 9.145581134362146e-05, 9.145581134362146e-05, 9.145581134362146e-05, 0.9959537982940674, 0.001929048215970397, 0.9150654673576355, 0.07676004618406296, 0.0012726360000669956, 1.339616846962599e-05, 0.0005626390920951962, 0.00439394311979413, 0.0001268581982003525, 0.9995157122612, 0.0001268581982003525, 0.0001268581982003525, 0.0001268581982003525, 0.0001268581982003525, 0.11494685709476471, 0.031041620299220085, 0.021092383190989494, 0.0019898475147783756, 6.632824806729332e-05, 0.8293684124946594, 0.0015255498001351953, 7.5988878052157816e-06, 7.5988878052157816e-06, 6.079110244172625e-05, 0.9999148845672607, 7.5988878052157816e-06, 7.5988878052157816e-06, 7.5988878052157816e-06, 0.9997961521148682, 5.694572610082105e-05, 5.694572610082105e-05, 5.694572610082105e-05, 5.694572610082105e-05, 5.694572610082105e-05, 0.0008161808364093304, 0.0008161808364093304, 0.0008161808364093304, 0.0008161808364093304, 0.9973730444908142, 0.0008161808364093304, 0.01617414690554142, 0.03444141894578934, 0.8868507146835327, 0.035646554082632065, 0.007801647763699293, 0.013002745807170868, 0.006089090835303068, 2.4607985324109904e-05, 2.4607985324109904e-05, 0.019710997119545937, 0.02244248241186142, 0.9242513179779053, 0.03354068472981453, 2.4607985324109904e-05, 0.00044290017103776336, 0.00044290017103776336, 0.00044290017103776336, 0.9982969760894775, 0.00044290017103776336, 0.00044290017103776336, 0.10546208173036575, 0.09857426583766937, 0.14401917159557343, 0.09850072860717773, 0.45667964220046997, 0.0736825168132782, 0.02309012971818447, 3.289579399279319e-05, 0.9421355128288269, 0.032435253262519836, 0.015625501051545143, 0.001513206516392529, 0.0002631663519423455, 0.007960782386362553, 4.084660031367093e-05, 0.9987810850143433, 4.084660031367093e-05, 4.084660031367093e-05, 4.084660031367093e-05, 0.0011028582230210304, 6.445451163017424e-06, 6.445451163017424e-06, 6.445451163017424e-06, 0.009133204817771912, 0.9908463358879089, 6.445451163017424e-06, 0.07965017110109329, 0.9199091196060181, 2.7212221539230086e-05, 0.0003809710906352848, 2.7212221539230086e-05, 2.7212221539230086e-05, 0.019578982144594193, 0.9780402183532715, 3.78703698515892e-05, 3.78703698515892e-05, 3.78703698515892e-05, 0.0023100925609469414, 0.0001444275549147278, 0.9995831251144409, 0.0001444275549147278, 0.0001444275549147278, 0.0001444275549147278, 0.0001444275549147278, 0.021491724997758865, 0.9719150066375732, 6.888373172841966e-05, 0.005751791410148144, 3.444186586420983e-05, 0.0005166279734112322, 0.00024109306104946882, 0.00011398352944524959, 0.00011398352944524959, 0.9894910454750061, 0.010144534520804882, 0.00011398352944524959, 0.00011398352944524959, 0.00011398352944524959, 0.00011187727068318054, 0.9996234178543091, 0.00011187727068318054, 0.00011187727068318054, 0.00011187727068318054, 0.00011187727068318054, 0.007073076441884041, 0.021471839398145676, 0.9706534743309021, 0.00012630493438336998, 0.00012630493438336998, 0.0007578296354040504, 0.04287118464708328, 0.05745048075914383, 0.007336080074310303, 0.17801602184772491, 0.6654164791107178, 0.00018572354747448117, 0.04872147738933563, 8.759577212913428e-06, 8.759577212913428e-06, 0.9999670386314392, 8.759577212913428e-06, 8.759577212913428e-06, 8.759577212913428e-06, 3.1934381695464253e-05, 3.1934381695464253e-05, 0.911215603351593, 0.041386958211660385, 0.041450824588537216, 0.005875925999134779, 3.1934381695464253e-05, 0.027705471962690353, 0.05735226720571518, 0.09911847114562988, 0.0004437312891241163, 0.7163487076759338, 0.0244606863707304, 0.07457458972930908, 0.0005080575938336551, 3.6289828130975366e-05, 0.7698887586593628, 0.004790257662534714, 0.2235090583562851, 0.0012701440136879683, 3.6289828130975366e-05, 0.017463741824030876, 5.980733476462774e-05, 0.9799431562423706, 5.980733476462774e-05, 5.980733476462774e-05, 0.0024521006271243095, 5.980733476462774e-05, 0.0005136473337188363, 0.0005136473337188363, 0.9980167746543884, 0.0005136473337188363, 0.0005136473337188363, 0.0005136473337188363, 0.0005136473337188363, 0.9994628429412842, 3.53595646629401e-06, 1.0607869626255706e-05, 1.7679782104096375e-05, 1.0607869626255706e-05, 0.0004950339207425714, 3.53595646629401e-06, 0.9998844861984253, 3.271659079473466e-05, 3.271659079473466e-05, 3.271659079473466e-05, 3.271659079473466e-05, 3.271659079473466e-05, 0.9995049834251404, 0.0001553473703097552, 0.0001553473703097552, 0.0001553473703097552, 0.0001553473703097552, 0.0001553473703097552, 0.6665860414505005, 0.012784049846231937, 0.1274622678756714, 0.16018424928188324, 0.025578904896974564, 0.007402429357171059, 0.010258832015097141, 0.08243808895349503, 0.00694455299526453, 0.23543137311935425, 0.6648693084716797, 5.878986485186033e-05, 2.01869315787917e-05, 2.01869315787917e-05, 2.01869315787917e-05, 0.9999394416809082, 2.01869315787917e-05, 2.01869315787917e-05, 0.0004599649109877646, 0.0004599649109877646, 0.9985838532447815, 0.0004599649109877646, 0.0004599649109877646, 0.0004599649109877646, 0.9175392985343933, 0.004018561914563179, 0.024800268933176994, 0.019280266016721725, 0.0007153923506848514, 0.00037094418075866997, 0.033278994262218475, 0.16083212196826935, 0.15644703805446625, 0.03731890022754669, 0.5732128024101257, 0.016946526244282722, 0.032294321805238724, 0.022907501086592674, 0.014715287834405899, 0.9819138050079346, 0.003270064014941454, 1.0283220035489649e-05, 1.0283220035489649e-05, 9.254898031940684e-05, 0.007950068451464176, 0.9911224246025085, 0.0008368492708541453, 4.1842464270303026e-05, 4.1842464270303026e-05, 4.1842464270303026e-05, 2.1943458705209196e-05, 0.9999195337295532, 2.1943458705209196e-05, 2.1943458705209196e-05, 2.1943458705209196e-05, 2.1943458705209196e-05, 8.662063191877678e-05, 0.9983605146408081, 0.0014725506771355867, 2.8873544579255395e-05, 2.8873544579255395e-05, 2.8873544579255395e-05, 2.8873544579255395e-05, 0.00013994635082781315, 0.9994968771934509, 0.00013994635082781315, 0.00013994635082781315, 0.00013994635082781315, 0.00013994635082781315, 0.019232729449868202, 0.9412366151809692, 0.023221364244818687, 1.0149197805731092e-05, 1.0149197805731092e-05, 0.016299612820148468, 3.618309710873291e-05, 0.999883770942688, 3.618309710873291e-05, 3.618309710873291e-05, 3.618309710873291e-05, 3.618309710873291e-05, 0.017646947875618935, 0.981381893157959, 0.000871454190928489, 3.112336344202049e-05, 3.112336344202049e-05, 3.112336344202049e-05, 3.112336344202049e-05, 0.00024085905170068145, 0.0006623624358326197, 0.033750373870134354, 0.9021677374839783, 0.06156959757208824, 3.010738146258518e-05, 0.0015956913121044636, 0.9994181990623474, 0.00015161077317316085, 0.00015161077317316085, 0.00015161077317316085, 0.00015161077317316085, 0.00015161077317316085, 6.439325079554692e-05, 6.439325079554692e-05, 0.020927807316184044, 6.439325079554692e-05, 6.439325079554692e-05, 0.9789062142372131, 6.439325079554692e-05, 0.00020725491049233824, 0.00020725491049233824, 0.00020725491049233824, 0.00020725491049233824, 0.9993832111358643, 0.00020725491049233824, 0.00033021587296389043, 2.54012193181552e-05, 0.000177808542503044, 0.0004064195090904832, 0.9730953574180603, 2.54012193181552e-05, 0.0259600467979908, 3.135760562145151e-05, 3.135760562145151e-05, 0.008121619932353497, 0.002978972624987364, 0.3958897888660431, 0.5929409861564636, 3.135760562145151e-05, 0.3408183753490448, 0.2576288878917694, 0.030444059520959854, 0.0267898328602314, 1.174992667074548e-05, 0.040125999599695206, 0.30418211221694946, 0.0004147376457694918, 0.0004147376457694918, 0.0004147376457694918, 0.9986882209777832, 0.0004147376457694918, 0.0004147376457694918, 0.7692084312438965, 0.032830413430929184, 0.02602260373532772, 0.0013072966830804944, 0.12004930526018143, 0.003403904614970088, 0.04718601331114769, 0.2683999836444855, 0.0033500506542623043, 0.06179320812225342, 0.018455734476447105, 3.0455006708507426e-05, 0.0020404853858053684, 0.6459202170372009, 0.8345013856887817, 0.022888869047164917, 1.9430279280641116e-05, 9.715139640320558e-06, 9.715139640320558e-06, 2.9145419830456376e-05, 0.14253081381320953, 3.2790234399726614e-05, 0.3514785170555115, 3.2790234399726614e-05, 3.2790234399726614e-05, 3.2790234399726614e-05, 0.64842689037323, 7.1549743552168366e-06, 7.1549743552168366e-06, 7.1549743552168366e-06, 0.005709669552743435, 7.1549743552168366e-06, 0.9942695498466492, 0.0005337059847079217, 0.0005337059847079217, 0.0005337059847079217, 0.0005337059847079217, 0.0005337059847079217, 0.9980301856994629, 3.923185431631282e-05, 3.923185431631282e-05, 3.923185431631282e-05, 0.10110048949718475, 0.8988018035888672, 3.923185431631282e-05, 2.4856586605892517e-05, 0.9795235395431519, 0.005294452887028456, 2.4856586605892517e-05, 2.4856586605892517e-05, 0.011210320517420769, 0.0039024841971695423, 0.004662553779780865, 0.6209098696708679, 0.00641693826764822, 0.004393863957375288, 0.0029713900294154882, 0.011917171068489552, 0.34872740507125854, 4.159009404247627e-05, 0.1447335183620453, 4.159009404247627e-05, 4.159009404247627e-05, 4.159009404247627e-05, 0.8551754951477051, 0.0004433143767528236, 0.00797965843230486, 0.0004433143767528236, 0.0004433143767528236, 0.0004433143767528236, 0.9908075928688049, 4.08362211601343e-05, 0.005063691176474094, 0.9456852078437805, 0.0015926125925034285, 0.027727793902158737, 4.08362211601343e-05, 0.01988723874092102, 0.000722479191608727, 0.000722479191608727, 0.000722479191608727, 0.000722479191608727, 0.9977437257766724, 0.000722479191608727, 0.0003135677252430469, 0.0003135677252430469, 0.9990267753601074, 0.0003135677252430469, 0.0003135677252430469, 0.0003135677252430469, 0.008764488622546196, 2.1068482965347357e-05, 0.23718897998332977, 0.09980140626430511, 2.1068482965347357e-05, 0.6542185544967651, 2.1068482965347357e-05, 0.02883807010948658, 0.04686186462640762, 0.7864988446235657, 0.015080458484590054, 0.06220689415931702, 0.005092962179332972, 0.05542730167508125, 0.0005702663911506534, 0.012355771847069263, 0.0040869093500077724, 0.9828541278839111, 9.50444009504281e-05, 9.50444009504281e-05, 9.50444009504281e-05, 0.0003956001892220229, 0.0003956001892220229, 0.9984948635101318, 0.0003956001892220229, 0.0003956001892220229, 0.0003956001892220229, 0.018192192539572716, 0.007845689542591572, 0.016524983569979668, 0.034962356090545654, 0.9047551155090332, 0.006914013996720314, 0.010738788172602654, 0.0003345672448631376, 0.0003345672448631376, 0.0003345672448631376, 0.9986832141876221, 0.0003345672448631376, 0.0003345672448631376, 0.48090308904647827, 0.24149246513843536, 0.0045654200948774815, 2.7392521587898955e-05, 0.0030223082285374403, 0.00047480370267294347, 0.26950588822364807, 0.5829401612281799, 0.40239208936691284, 1.0161416867049411e-05, 1.0161416867049411e-05, 1.0161416867049411e-05, 0.014642600901424885, 0.2349693328142166, 3.896672205883078e-05, 3.896672205883078e-05, 3.896672205883078e-05, 3.896672205883078e-05, 0.764916718006134, 0.014240723103284836, 0.002927627647295594, 0.5711523294448853, 0.15156103670597076, 0.0009273028699681163, 0.013631352223455906, 0.24557629227638245, 0.0007121890084818006, 0.9969146847724915, 3.748363451450132e-05, 0.00029986907611601055, 0.002024116227403283, 3.748363451450132e-05, 0.03315913304686546, 0.1980053335428238, 0.7517502903938293, 0.0015943612670525908, 1.7914171621669084e-05, 0.0034932633861899376, 0.011966667138040066, 0.9793152809143066, 1.1361361430317629e-05, 1.1361361430317629e-05, 1.1361361430317629e-05, 0.02064359374344349, 1.1361361430317629e-05, 0.9806147813796997, 4.559090666589327e-05, 4.559090666589327e-05, 4.559090666589327e-05, 4.559090666589327e-05, 0.019239362329244614, 4.559090666589327e-05, 0.0018071718513965607, 0.0006023906171321869, 0.06032511591911316, 0.016049407422542572, 0.88108229637146, 8.605579932918772e-05, 0.04005897417664528, 4.1106435674009845e-05, 4.1106435674009845e-05, 4.1106435674009845e-05, 0.9998729228973389, 4.1106435674009845e-05, 4.1106435674009845e-05, 0.00010023466165876016, 0.00010023466165876016, 0.00010023466165876016, 0.9996402859687805, 0.00010023466165876016, 0.00010023466165876016, 7.389608799712732e-05, 7.389608799712732e-05, 0.03761310875415802, 0.9621270298957825, 7.389608799712732e-05, 7.389608799712732e-05, 3.4670702007133514e-05, 3.4670702007133514e-05, 0.2052505612373352, 0.18184784054756165, 0.0013868281384930015, 0.030960937961935997, 0.5805262923240662, 0.006996835116297007, 0.9929302930831909, 2.4811472030705772e-05, 2.4811472030705772e-05, 2.4811472030705772e-05, 2.4811472030705772e-05, 0.00021355296485126019, 0.00021355296485126019, 0.0008542118594050407, 0.00021355296485126019, 0.9983600974082947, 0.00021355296485126019, 0.00021355296485126019, 0.0003222735249437392, 0.0003222735249437392, 0.0003222735249437392, 0.9990479946136475, 0.0003222735249437392, 0.0003222735249437392, 0.0006009258795529604, 0.0006009258795529604, 0.0006009258795529604, 0.0036055552773177624, 0.9945323467254639, 0.0006009258795529604, 0.94459068775177, 3.407122494536452e-05, 0.04320231452584267, 3.407122494536452e-05, 3.407122494536452e-05, 0.011277575977146626, 0.000851780641824007, 0.9992910623550415, 0.00021601622574962676, 0.00021601622574962676, 0.00021601622574962676, 0.00021601622574962676, 0.00021601622574962676, 1.1730769983842038e-05, 1.1730769983842038e-05, 0.04314577206969261, 1.1730769983842038e-05, 0.7746883034706116, 0.08956442773342133, 0.09257923066616058, 0.14665691554546356, 0.15426255762577057, 0.03634808212518692, 0.5540372133255005, 0.01719849556684494, 0.05934564769268036, 0.03215685114264488, 0.000142666554893367, 0.000142666554893367, 0.9995218515396118, 0.000142666554893367, 0.000142666554893367, 0.000142666554893367, 0.000142666554893367, 0.22183343768119812, 7.911038665042724e-06, 0.7615324258804321, 0.016621092334389687, 7.911038665042724e-06, 7.911038665042724e-06, 0.011212975718080997, 0.09459760040044785, 0.03658470883965492, 0.8369345664978027, 0.00935998372733593, 0.011212975718080997, 4.751260712509975e-05, 0.018925685435533524, 0.0733632743358612, 0.00029993162024766207, 2.9993161660968326e-05, 0.023754583671689034, 0.8776298761367798, 0.005998632404953241, 0.00011733594874385744, 0.00011733594874385744, 0.00011733594874385744, 0.9933661818504333, 0.006336141377687454, 0.00011733594874385744, 0.0003494754491839558, 0.0003494754491839558, 0.9988008141517639, 0.0003494754491839558, 0.0003494754491839558, 0.0003494754491839558, 0.0004587102448567748, 0.0004587102448567748, 0.9986122250556946, 0.0004587102448567748, 0.0004587102448567748, 0.0004587102448567748, 0.00015910554793663323, 0.00015910554793663323, 0.00015910554793663323, 0.99950110912323, 0.00015910554793663323, 0.00015910554793663323, 0.0004403872007969767, 0.0004403872007969767, 0.0004403872007969767, 0.9983577728271484, 0.0004403872007969767, 0.0004403872007969767, 0.00024156199651770294, 0.00024156199651770294, 0.0014493719208985567, 0.00024156199651770294, 0.9978925585746765, 0.00024156199651770294, 0.00024156199651770294, 0.00022915261797606945, 0.00022915261797606945, 0.9991054534912109, 0.00022915261797606945, 0.00022915261797606945, 0.00022915261797606945, 0.0004168596933595836, 0.0004168596933595836, 0.9983789920806885, 0.0004168596933595836, 0.0004168596933595836, 0.0004168596933595836, 0.023623837158083916, 0.004118629731237888, 0.09929116815328598, 0.09614945948123932, 0.5686373114585876, 0.14779330790042877, 0.060380663722753525, 0.005904871039092541, 0.010047093965113163, 0.8981572985649109, 0.005596407689154148, 0.04265608265995979, 4.406620064401068e-05, 0.037676602602005005, 0.06398647278547287, 1.934294959937688e-05, 0.014836041256785393, 0.0018182371277362108, 0.0458814762532711, 0.8680534958839417, 0.005416025873273611, 0.0006951159448362887, 0.0006951159448362887, 0.0006951159448362887, 0.0006951159448362887, 0.9974914193153381, 0.0006951159448362887, 0.0006769173196516931, 0.0006769173196516931, 0.0006769173196516931, 0.0006769173196516931, 0.9977761507034302, 0.0006769173196516931, 0.48597252368927, 0.49923399090766907, 0.0013860847102478147, 0.009084474295377731, 0.0013611101312562823, 0.0012986739166080952, 0.0016732914373278618, 0.0036360318772494793, 0.024609537795186043, 0.1568799465894699, 0.18169234693050385, 0.1809432953596115, 0.3501514196395874, 0.1020897850394249, 0.0008093729265965521, 0.0008093729265965521, 0.0008093729265965521, 0.0008093729265965521, 0.9971474409103394, 0.0008093729265965521, 6.965584907447919e-05, 6.965584907447919e-05, 0.9967055916786194, 0.0007662143325433135, 6.965584907447919e-05, 0.002437954768538475, 1.0595966159598902e-05, 8.476772927679121e-05, 0.8481116890907288, 0.0004980104276910424, 1.0595966159598902e-05, 0.15127860009670258, 1.0595966159598902e-05, 0.00018217632896266878, 0.00018217632896266878, 0.9870313405990601, 0.00018217632896266878, 0.00018217632896266878, 0.012387990020215511, 0.00018217632896266878, 0.9419876933097839, 0.03533719852566719, 0.006474266294389963, 3.61690872523468e-05, 7.23381745046936e-05, 0.016095243394374847, 0.9997245073318481, 8.535898814443499e-05, 8.535898814443499e-05, 8.535898814443499e-05, 8.535898814443499e-05, 8.535898814443499e-05, 0.9993451833724976, 0.00018081150483340025, 0.00018081150483340025, 0.00018081150483340025, 0.00018081150483340025, 0.00018081150483340025, 0.9994804859161377, 0.00015249931311700493, 0.00015249931311700493, 0.00015249931311700493, 0.00015249931311700493, 0.00015249931311700493, 0.7669615745544434, 0.2329438179731369, 2.3157750547397882e-05, 2.3157750547397882e-05, 2.3157750547397882e-05, 2.3157750547397882e-05, 0.0001084650939446874, 0.9996143579483032, 0.0001084650939446874, 0.0001084650939446874, 0.0001084650939446874, 0.0001084650939446874, 8.144464663928375e-05, 0.9997330904006958, 8.144464663928375e-05, 8.144464663928375e-05, 8.144464663928375e-05, 8.144464663928375e-05, 0.00012388387403916568, 0.00012388387403916568, 0.00012388387403916568, 0.025272311642766, 0.9743466973304749, 0.00012388387403916568, 0.0009031492518261075, 0.0009031492518261075, 0.0009031492518261075, 0.0009031492518261075, 0.9970768094062805, 0.0009031492518261075, 0.0002864141424652189, 0.0002864141424652189, 0.9990125298500061, 0.0002864141424652189, 0.0002864141424652189, 0.0002864141424652189, 0.0002864141424652189, 0.002842637710273266, 0.9970201849937439, 4.6600616769865155e-05, 4.6600616769865155e-05, 4.6600616769865155e-05, 4.6600616769865155e-05, 0.0002466949517838657, 0.0002466949517838657, 0.9931939244270325, 0.0002466949517838657, 0.0034537294413894415, 0.0002466949517838657, 0.0029603394214063883, 0.020709743723273277, 0.03506706655025482, 0.6165708899497986, 0.0002575304824858904, 0.25027671456336975, 0.0001287652412429452, 0.07700161635875702, 0.00010307034972356632, 0.9996793270111084, 0.00010307034972356632, 0.00010307034972356632, 0.00010307034972356632, 0.00010307034972356632, 2.962083999591414e-05, 0.9389805793762207, 0.06095968559384346, 2.962083999591414e-05, 2.962083999591414e-05, 2.962083999591414e-05, 0.48549243807792664, 0.0002290549746248871, 2.0823179511353374e-05, 2.0823179511353374e-05, 2.0823179511353374e-05, 0.5142284035682678, 0.005267376080155373, 0.00022901635384187102, 0.025420814752578735, 0.0018321308307349682, 0.00022901635384187102, 0.0027481962461024523, 0.9646168351173401, 0.0007072211592458189, 0.0007072211592458189, 0.0007072211592458189, 0.0007072211592458189, 0.9978890419006348, 0.0007072211592458189, 0.002154039451852441, 0.02448802813887596, 0.04690704494714737, 0.03503148630261421, 0.788718581199646, 0.0017572427168488503, 0.10092809051275253, 0.00030182345653884113, 0.00030182345653884113, 0.999035656452179, 0.00030182345653884113, 0.00030182345653884113, 0.00030182345653884113, 0.00030182345653884113, 0.00012025908654322848, 0.00012025908654322848, 0.9724149703979492, 0.014190572313964367, 0.00012025908654322848, 0.00012025908654322848, 0.013108240440487862, 0.00015140741015784442, 0.00015140741015784442, 0.9994402527809143, 0.00015140741015784442, 0.00015140741015784442, 0.00015140741015784442, 0.00015140741015784442, 0.009892646223306656, 0.034173332154750824, 0.6677882671356201, 0.009906520135700703, 0.06430913507938385, 0.004814513493329287, 0.20910528302192688, 2.731678068812471e-05, 2.731678068812471e-05, 0.9997668266296387, 2.731678068812471e-05, 2.731678068812471e-05, 2.731678068812471e-05, 0.00016390068049076945, 0.0002478306123521179, 0.019999930635094643, 0.7774198651313782, 0.01276327669620514, 0.04225511848926544, 0.0021313433535397053, 0.1451791673898697, 0.06710857152938843, 0.07602623850107193, 0.11105995625257492, 0.06671816110610962, 0.1978120654821396, 0.3847133219242096, 0.09655332565307617, 7.585809362353757e-05, 7.585809362353757e-05, 0.027308914810419083, 0.00037929046084173024, 0.022529853507876396, 0.9495916366577148, 7.585809362353757e-05, 0.0009294433984905481, 0.0009294433984905481, 0.0009294433984905481, 0.0009294433984905481, 0.9963633418083191, 0.0009294433984905481, 0.11878526210784912, 0.43748238682746887, 0.3746190369129181, 0.04828554764389992, 0.014983824454247952, 0.0058326818980276585, 3.650323924375698e-05, 3.650323924375698e-05, 0.9998602867126465, 3.650323924375698e-05, 3.650323924375698e-05, 3.650323924375698e-05, 0.04525988921523094, 0.034423474222421646, 0.2690935730934143, 0.04461100324988365, 0.010155086405575275, 0.5562911033630371, 0.04016612470149994, 0.007073941174894571, 0.021348144859075546, 0.9706457853317261, 0.00012632037396542728, 0.00012632037396542728, 0.0007579223020002246, 0.13885186612606049, 0.11229688674211502, 0.38433441519737244, 0.04998087137937546, 1.2081429304089397e-05, 0.009834283031523228, 0.30470573902130127, 0.00040757720125839114, 0.00040757720125839114, 0.9985641241073608, 0.00040757720125839114, 0.00040757720125839114, 0.00040757720125839114, 0.07806806266307831, 0.08765379339456558, 0.44946232438087463, 0.03832787275314331, 0.014994597993791103, 0.016902728006243706, 0.3145710229873657, 0.00010761124576674774, 0.00010761124576674774, 0.00010761124576674774, 0.999600887298584, 0.00010761124576674774, 0.00010761124576674774, 0.26333343982696533, 0.03673681244254112, 0.07119392603635788, 0.3967052698135376, 0.006895159836858511, 0.21886059641838074, 0.00627851951867342, 7.798915612511337e-05, 7.798915612511337e-05, 0.9997429847717285, 7.798915612511337e-05, 7.798915612511337e-05, 7.798915612511337e-05, 4.264864037395455e-05, 4.264864037395455e-05, 0.9998547434806824, 4.264864037395455e-05, 4.264864037395455e-05, 4.264864037395455e-05, 9.08384972717613e-05, 0.9996776580810547, 9.08384972717613e-05, 9.08384972717613e-05, 9.08384972717613e-05, 9.08384972717613e-05, 0.0003361776762176305, 0.0003361776762176305, 0.0003361776762176305, 0.0003361776762176305, 0.9987838864326477, 0.0003361776762176305, 0.999680757522583, 9.12117466214113e-05, 9.12117466214113e-05, 9.12117466214113e-05, 9.12117466214113e-05, 9.12117466214113e-05, 0.00707395700737834, 0.021348191425204277, 0.9707742929458618, 0.00012632066500373185, 0.00012632066500373185, 0.0007579239900223911, 2.1536630811169744e-05, 2.1536630811169744e-05, 0.22497163712978363, 0.2241101711988449, 0.0010768314823508263, 0.042814821004867554, 0.5069722533226013, 1.4654457118012942e-05, 0.7225966453552246, 0.02139550819993019, 0.008602166548371315, 0.16149212419986725, 1.4654457118012942e-05, 0.08587511628866196, 0.00013878812023904175, 0.00013878812023904175, 0.00013878812023904175, 0.00013878812023904175, 0.00013878812023904175, 0.9995520710945129, 0.00016151773161254823, 0.00016151773161254823, 0.9766977429389954, 0.02002820000052452, 0.00016151773161254823, 0.00016151773161254823, 0.0030688371043652296, 0.910322904586792, 0.07496439665555954, 0.0050740716978907585, 0.00025800365256145597, 0.00028667072183452547, 0.009058794938027859, 0.9998433589935303, 4.606723814504221e-05, 4.606723814504221e-05, 4.606723814504221e-05, 4.606723814504221e-05, 4.606723814504221e-05, 0.00037378096021711826, 0.00037378096021711826, 0.9987426996231079, 0.00037378096021711826, 0.00037378096021711826, 0.00037378096021711826, 0.00037378096021711826, 0.999123752117157, 0.0002393110771663487, 0.0002393110771663487, 0.0002393110771663487, 0.0002393110771663487, 0.0002393110771663487, 0.22422876954078674, 0.004205457400530577, 0.77149897813797, 3.115153594990261e-05, 3.115153594990261e-05, 3.115153594990261e-05, 0.9996671080589294, 8.900170359993353e-05, 8.900170359993353e-05, 8.900170359993353e-05, 8.900170359993353e-05, 8.900170359993353e-05, 0.2455175668001175, 0.09220188856124878, 0.347913533449173, 0.041585709899663925, 0.07722698897123337, 0.1429445445537567, 0.052614521235227585, 0.002379240468144417, 0.0123440595343709, 0.00047584809362888336, 0.8079900741577148, 0.17676356434822083, 2.7991063689114526e-05, 0.00038857173058204353, 0.00038857173058204353, 0.00038857173058204353, 0.9986293911933899, 0.00038857173058204353, 0.00038857173058204353, 4.039011855638819e-06, 0.9999867081642151, 4.039011855638819e-06, 4.039011855638819e-06, 4.039011855638819e-06, 4.039011855638819e-06, 0.0005052646738477051, 0.0005052646738477051, 0.0005052646738477051, 0.9984029531478882, 0.0005052646738477051, 0.0005052646738477051, 0.8612964749336243, 0.004078972619026899, 0.060569945722818375, 0.0011920285178348422, 0.03961632028222084, 0.033246420323848724, 5.9215253713773564e-05, 0.038253054022789, 0.06235365942120552, 0.002960762707516551, 0.0680975392460823, 0.8283029198646545, 5.9215253713773564e-05, 3.0294595489976928e-05, 0.04041299223899841, 0.1691044420003891, 0.008482486940920353, 0.004392716567963362, 0.7715124487876892, 0.006089213769882917, 0.00033709040144458413, 0.00033709040144458413, 0.9987988471984863, 0.00033709040144458413, 0.00033709040144458413, 0.00033709040144458413, 0.00033709040144458413, 0.8899393677711487, 0.10431625694036484, 1.7386042600264773e-05, 1.7386042600264773e-05, 1.7386042600264773e-05, 0.005720008164644241, 0.0009583485662005842, 0.0009583485662005842, 0.0009583485662005842, 0.0009583485662005842, 0.0009583485662005842, 0.9966825246810913, 0.027230722829699516, 0.07687006145715714, 0.005673067178577185, 3.1517040042672306e-05, 0.004633004777133465, 0.02754589356482029, 0.8580198884010315, 9.573843999532983e-05, 9.573843999532983e-05, 9.573843999532983e-05, 0.9961584806442261, 0.0009573844145052135, 0.0026806762907654047, 0.7759309411048889, 0.08030249178409576, 0.009000221267342567, 0.010445852763950825, 0.01345369778573513, 0.1108705997467041, 6.755450158379972e-05, 0.9997389912605286, 6.755450158379972e-05, 6.755450158379972e-05, 6.755450158379972e-05, 6.755450158379972e-05, 0.028321746736764908, 0.0002959430275950581, 0.9525221586227417, 0.00828640442341566, 0.010180439800024033, 0.0003847259213216603, 0.0004889414412900805, 0.0002444707206450403, 0.9989073276519775, 0.0002444707206450403, 0.0002444707206450403, 0.0002444707206450403, 0.0003774173674173653, 0.0003774173674173653, 0.0003774173674173653, 0.005661260336637497, 0.9933624863624573, 0.0003774173674173653, 0.0006390202324837446, 0.0006390202324837446, 0.0006390202324837446, 0.0006390202324837446, 0.9975106120109558, 0.0006390202324837446, 0.9895073771476746, 0.009701997973024845, 1.6062909708125517e-05, 1.6062909708125517e-05, 0.0007549567962996662, 1.6062909708125517e-05, 0.9994850158691406, 0.00015498294669669122, 0.00015498294669669122, 0.00015498294669669122, 0.00015498294669669122, 0.00015498294669669122, 0.6271567344665527, 0.05566918104887009, 0.13204732537269592, 0.1833517998456955, 0.0007061809301376343, 0.0010720336576923728, 0.8519464731216431, 0.13247855007648468, 0.0026793084107339382, 0.0093334149569273, 0.0020462849643081427, 0.0013985401019454002, 0.00010305032628821209, 0.00032225673203356564, 0.00032225673203356564, 0.00032225673203356564, 0.00032225673203356564, 0.002578053856268525, 0.9964178204536438, 0.0008431409951299429, 0.0008431409951299429, 0.0008431409951299429, 0.0008431409951299429, 0.0008431409951299429, 0.99659264087677, 7.600892331538489e-06, 7.600892331538489e-06, 7.600892331538489e-06, 0.1330840289592743, 0.8668969869613647, 7.600892331538489e-06, 0.00036591250682249665, 0.00036591250682249665, 0.00036591250682249665, 0.02268657460808754, 0.9762545228004456, 0.00036591250682249665, 0.00022764924506191164, 0.00022764924506191164, 0.00022764924506191164, 0.04962753504514694, 0.949524998664856, 0.00022764924506191164, 0.03226548433303833, 0.0003378584806341678, 0.0001689292403170839, 0.0001689292403170839, 0.0001689292403170839, 0.9669510126113892, 0.017659097909927368, 0.9715605974197388, 0.010714776813983917, 2.3863645765231922e-05, 2.3863645765231922e-05, 2.3863645765231922e-05, 0.0003957166918553412, 0.0037413216196000576, 0.08820885419845581, 0.036405935883522034, 0.036262039095163345, 0.8349622488021851, 3.597424438339658e-05, 4.888813055003993e-05, 4.888813055003993e-05, 4.888813055003993e-05, 0.026888471096754074, 0.9729715585708618, 4.888813055003993e-05, 0.7051461338996887, 0.17007659375667572, 0.12473201006650925, 1.720204272714909e-05, 1.720204272714909e-05, 1.720204272714909e-05, 0.00026328585227020085, 0.0013164292322471738, 0.00026328585227020085, 0.9981166124343872, 0.00026328585227020085, 0.00026328585227020085, 0.9965261220932007, 0.0006285720155574381, 0.00038911603041924536, 0.0015564641216769814, 0.0008680280297994614, 2.9932001780252904e-05, 0.07754646986722946, 0.013513459824025631, 0.0005543983425013721, 0.008801073767244816, 0.0005543983425013721, 0.8990262150764465, 4.823649942409247e-05, 0.012734435498714447, 0.8809913992881775, 0.0014953315258026123, 4.823649942409247e-05, 4.823649942409247e-05, 0.10472144186496735, 8.490486652590334e-05, 0.9997548460960388, 8.490486652590334e-05, 8.490486652590334e-05, 8.490486652590334e-05, 8.490486652590334e-05, 0.9783968329429626, 0.021507274359464645, 3.682752503664233e-05, 3.682752503664233e-05, 3.682752503664233e-05, 3.682752503664233e-05, 0.008632154203951359, 0.022953683510422707, 0.9463980197906494, 9.809266339289024e-05, 0.02187466435134411, 9.809266339289024e-05, 0.2636265158653259, 0.14667057991027832, 0.010307474993169308, 0.5051490068435669, 0.02200472354888916, 0.045779749751091, 0.006452512927353382, 0.05811043083667755, 0.043510183691978455, 5.4478528909385204e-05, 0.018504539504647255, 0.0010350920492783189, 0.018105031922459602, 0.8606880903244019, 0.0007188713643699884, 0.0007188713643699884, 0.0007188713643699884, 0.0007188713643699884, 0.0007188713643699884, 0.997793436050415, 0.0005649201921187341, 0.0005649201921187341, 0.0005649201921187341, 0.0005649201921187341, 0.0005649201921187341, 0.9982139468193054, 0.0005963566363789141, 0.0005963566363789141, 0.0005963566363789141, 0.0005963566363789141, 0.0005963566363789141, 0.9977046251296997, 0.0007020507473498583, 0.0007020507473498583, 0.0007020507473498583, 0.0007020507473498583, 0.0007020507473498583, 0.9976141452789307, 5.2496652642730623e-05, 0.9997987151145935, 5.2496652642730623e-05, 5.2496652642730623e-05, 5.2496652642730623e-05, 5.2496652642730623e-05, 0.9999068379402161, 2.42137502937112e-05, 2.42137502937112e-05, 2.42137502937112e-05, 2.42137502937112e-05, 2.42137502937112e-05, 0.018462875857949257, 0.0013676205417141318, 0.9097784757614136, 6.216456677066162e-05, 0.07018379867076874, 6.216456677066162e-05, 6.216456677066162e-05, 0.00035164153086952865, 0.00035164153086952865, 0.9986619353294373, 0.00035164153086952865, 0.00035164153086952865, 0.00035164153086952865, 0.00035164153086952865, 0.01280115358531475, 0.004469230771064758, 0.0015003845328465104, 0.0014684614725410938, 0.012066922150552273, 0.9525526165962219, 0.015131537802517414, 0.0004133318434469402, 0.0004133318434469402, 0.0004133318434469402, 0.011159960180521011, 0.9874497652053833, 0.0004133318434469402, 0.0006136315641924739, 0.0006136315641924739, 0.0006136315641924739, 0.0006136315641924739, 0.9977649450302124, 0.0006136315641924739, 0.00036545059992931783, 0.00036545059992931783, 0.9987764954566956, 0.00036545059992931783, 0.00036545059992931783, 0.00036545059992931783, 0.00036545059992931783, 0.02935563027858734, 0.03277426213026047, 0.03687237203121185, 0.39869511127471924, 0.18142098188400269, 0.30391836166381836, 0.01695513352751732, 0.014518769457936287, 0.0018937526037916541, 0.8634514808654785, 0.009036854840815067, 0.1013655960559845, 0.00973455235362053, 6.6589200287126e-05, 0.9997702836990356, 6.6589200287126e-05, 6.6589200287126e-05, 6.6589200287126e-05, 6.6589200287126e-05, 0.0006072500254958868, 0.0006072500254958868, 0.9977117776870728, 0.0006072500254958868, 0.0006072500254958868, 0.0006072500254958868, 0.0006072500254958868, 0.0006387286121025681, 0.0006387286121025681, 0.0006387286121025681, 0.0006387286121025681, 0.9976941347122192, 0.0006387286121025681, 2.901023799495306e-05, 0.003336177207529545, 2.901023799495306e-05, 2.901023799495306e-05, 0.9965887069702148, 2.901023799495306e-05, 0.00039225845830515027, 0.00039225845830515027, 0.00039225845830515027, 0.9986900091171265, 0.00039225845830515027, 0.00039225845830515027, 0.016904432326555252, 0.00012429729395080358, 0.9666600823402405, 0.00012429729395080358, 0.00012429729395080358, 0.00012429729395080358, 0.01615864969789982, 6.511626997962594e-05, 6.511626997962594e-05, 0.9254323840141296, 6.511626997962594e-05, 6.511626997962594e-05, 6.511626997962594e-05, 0.07436277717351913, 2.3041084205033258e-05, 2.3041084205033258e-05, 0.9999139308929443, 2.3041084205033258e-05, 2.3041084205033258e-05, 2.3041084205033258e-05, 2.3041084205033258e-05, 0.00010689855844248086, 0.00010689855844248086, 0.00010689855844248086, 0.00021379711688496172, 0.9995015263557434, 0.00010689855844248086, 0.0006030871882103384, 0.9946812391281128, 0.004697731696069241, 1.0580477464827709e-05, 1.0580477464827709e-05, 1.0580477464827709e-05, 0.0004582172550726682, 0.0004582172550726682, 0.9984554052352905, 0.0004582172550726682, 0.0004582172550726682, 0.0004582172550726682, 0.1008271723985672, 0.057256367057561874, 0.6188235282897949, 0.07011117786169052, 0.05517948418855667, 0.0653889998793602, 0.03242122754454613, 0.11454249918460846, 0.1208285540342331, 0.06635933369398117, 0.07347562164068222, 0.03442501649260521, 0.5469752550125122, 0.04337967187166214, 0.00010871966514969245, 0.00010871966514969245, 0.9747805595397949, 0.003805188462138176, 0.0082626948133111, 0.00010871966514969245, 0.012937640771269798, 1.1761561836465262e-05, 0.9999562501907349, 1.1761561836465262e-05, 1.1761561836465262e-05, 1.1761561836465262e-05, 1.1761561836465262e-05, 3.8117956137284636e-05, 3.8117956137284636e-05, 0.21940694749355316, 0.14541999995708466, 0.0005336513859219849, 0.0076998271979391575, 0.6268879175186157, 0.12266869843006134, 0.22262465953826904, 0.4231473505496979, 0.01853666640818119, 0.04218689724802971, 0.03823808953166008, 0.13259753584861755, 0.1093953475356102, 0.05295410379767418, 0.8282046914100647, 0.0025561873335391283, 3.1557869078824297e-05, 0.0029664395842701197, 0.0038658389821648598, 0.08258215337991714, 0.03385543450713158, 0.15351837873458862, 0.00034634716575965285, 0.5556058287620544, 6.494009721791372e-05, 0.17408274114131927, 5.7061664847424254e-05, 0.9998344779014587, 5.7061664847424254e-05, 5.7061664847424254e-05, 5.7061664847424254e-05, 5.7061664847424254e-05, 0.011561989784240723, 0.08804900199174881, 3.066840872634202e-05, 3.066840872634202e-05, 3.066840872634202e-05, 0.9003324508666992, 0.0004824147035833448, 0.0004824147035833448, 0.0004824147035833448, 0.0004824147035833448, 0.0004824147035833448, 0.9985984563827515, 0.0002761481737252325, 0.0002761481737252325, 0.0002761481737252325, 0.0002761481737252325, 0.0002761481737252325, 0.9991041421890259, 0.00044086086563766, 0.00044086086563766, 0.00044086086563766, 0.00044086086563766, 0.00044086086563766, 0.9985498785972595, 0.00041673280065879226, 0.00041673280065879226, 0.00041673280065879226, 0.00041673280065879226, 0.00041673280065879226, 0.9984917640686035, 0.0004010545671917498, 0.0004010545671917498, 0.9982247948646545, 0.0004010545671917498, 0.0004010545671917498, 0.0004010545671917498, 0.0004010545671917498, 0.00033334290492348373, 0.00033334290492348373, 0.00033334290492348373, 0.9986953735351562, 0.00033334290492348373, 0.00033334290492348373, 4.24490099248942e-06, 4.24490099248942e-06, 4.24490099248942e-06, 0.7668795585632324, 0.2331087291240692, 4.24490099248942e-06, 4.412268026499078e-05, 4.412268026499078e-05, 4.412268026499078e-05, 0.9998641014099121, 4.412268026499078e-05, 4.412268026499078e-05, 0.0002784422249533236, 0.0002784422249533236, 0.0002784422249533236, 0.9990507364273071, 0.0002784422249533236, 0.0002784422249533236, 6.87184656271711e-05, 6.87184656271711e-05, 6.87184656271711e-05, 0.9997850060462952, 6.87184656271711e-05, 6.87184656271711e-05, 0.0006084760534577072, 0.0006084760534577072, 0.9979007244110107, 0.0006084760534577072, 0.0006084760534577072, 0.0006084760534577072, 0.0006084760534577072, 0.9998767971992493, 3.803693107329309e-05, 3.803693107329309e-05, 3.803693107329309e-05, 3.803693107329309e-05, 3.803693107329309e-05, 3.0855200748192146e-05, 0.9998936653137207, 3.0855200748192146e-05, 3.0855200748192146e-05, 3.0855200748192146e-05, 3.0855200748192146e-05, 0.0004444719816092402, 0.0004444719816092402, 0.998284101486206, 0.0004444719816092402, 0.0004444719816092402, 0.0004444719816092402, 0.0004444719816092402, 0.5701883435249329, 0.23313799500465393, 0.17612174153327942, 0.01953035779297352, 1.290836553380359e-05, 0.0009939441224560142, 1.290836553380359e-05, 0.057494085282087326, 0.011867610737681389, 0.022080376744270325, 0.852576732635498, 4.7281318984460086e-05, 0.03092198260128498, 0.0250118188560009, 0.010678185150027275, 0.00011864650150528178, 0.989037275314331, 0.00011864650150528178, 0.00011864650150528178, 0.00011864650150528178, 0.9994080662727356, 0.0001867354440037161, 0.0001867354440037161, 0.0001867354440037161, 0.0001867354440037161, 0.0001867354440037161, 0.9987343549728394, 0.0010162648977711797, 0.00015243973757606, 5.081324343336746e-05, 5.081324343336746e-05, 5.081324343336746e-05, 0.9984126091003418, 0.0011945909354835749, 0.00013273232616484165, 0.00013273232616484165, 0.00013273232616484165, 0.00013273232616484165, 0.0006577225285582244, 0.0005192545941099524, 0.9981111884117126, 3.4616972698131576e-05, 0.0006577225285582244, 3.4616972698131576e-05, 3.4616972698131576e-05, 0.011456470005214214, 0.9842149615287781, 3.8573973142774776e-05, 0.0033559356816112995, 0.0009257753845304251, 3.8573973142774776e-05, 0.9445462822914124, 0.0362161323428154, 0.003337136236950755, 2.7353575205779634e-05, 0.00038295003469102085, 0.015509476885199547, 0.06572533398866653, 0.019236138090491295, 0.022281672805547714, 0.8497938513755798, 0.023782046511769295, 0.019191350787878036, 2.239364039269276e-05, 0.00034963872167281806, 0.00034963872167281806, 0.998917818069458, 0.00034963872167281806, 0.00034963872167281806, 0.00034963872167281806, 8.879781671566889e-05, 0.9996858239173889, 8.879781671566889e-05, 8.879781671566889e-05, 8.879781671566889e-05, 8.879781671566889e-05, 0.00010133762407349423, 0.00010133762407349423, 0.0004053504962939769, 0.00010133762407349423, 0.00010133762407349423, 0.00010133762407349423, 0.9992903470993042, 0.00016114504251163453, 0.00016114504251163453, 0.9994215369224548, 0.00016114504251163453, 0.00016114504251163453, 0.00016114504251163453, 0.9993882179260254, 0.00015878427075222135, 0.00015878427075222135, 0.00015878427075222135, 0.00015878427075222135, 0.00015878427075222135, 0.00012172952847322449, 0.00012172952847322449, 0.9996429085731506, 0.00012172952847322449, 0.00012172952847322449, 0.00012172952847322449, 3.358919275342487e-05, 0.001041264971718192, 3.358919275342487e-05, 0.7478633522987366, 0.25101202726364136, 3.358919275342487e-05, 0.005355795379728079, 2.6778976462082937e-05, 0.9678993225097656, 0.0018209704430773854, 0.02482411079108715, 8.033693302422762e-05, 4.9212660087505355e-05, 4.9212660087505355e-05, 0.00029527596780098975, 4.9212660087505355e-05, 0.9995583295822144, 4.9212660087505355e-05, 4.9212660087505355e-05, 0.030430054292082787, 0.24906447529792786, 0.5742542743682861, 1.434703153790906e-05, 1.434703153790906e-05, 0.0004447579849511385, 0.14578019082546234, 0.00014328720862977207, 0.00014328720862977207, 0.9995715618133545, 0.00014328720862977207, 0.00014328720862977207, 0.00014328720862977207, 0.0004624736320693046, 0.0004624736320693046, 0.9984806180000305, 0.0004624736320693046, 0.0004624736320693046, 0.0004624736320693046, 0.0005915861111134291, 0.0005915861111134291, 0.0005915861111134291, 0.0005915861111134291, 0.9980058073997498, 0.0005915861111134291, 0.00011121479474240914, 0.00011121479474240914, 0.00011121479474240914, 0.04315134137868881, 0.9565584659576416, 0.00011121479474240914, 4.419777178554796e-05, 4.419777178554796e-05, 0.020861348137259483, 0.9507383108139038, 4.419777178554796e-05, 0.02833077311515808, 4.419777178554796e-05, 0.0002032895718002692, 0.0002032895718002692, 0.9904268383979797, 0.0002032895718002692, 0.008741451427340508, 0.0002032895718002692, 0.036020539700984955, 0.9639147520065308, 2.1176098016439937e-05, 2.1176098016439937e-05, 2.1176098016439937e-05, 2.1176098016439937e-05, 9.242472151527181e-05, 0.9996657967567444, 9.242472151527181e-05, 9.242472151527181e-05, 9.242472151527181e-05, 9.242472151527181e-05, 0.0006625896203331649, 0.0006625896203331649, 0.0006625896203331649, 0.0006625896203331649, 0.9978600144386292, 0.0006625896203331649, 0.0006445260951295495, 0.0006445260951295495, 0.0006445260951295495, 0.0006445260951295495, 0.0006445260951295495, 0.9977263808250427, 0.0008729973342269659, 0.0008729973342269659, 0.0008729973342269659, 0.0008729973342269659, 0.9969629645347595, 0.0008729973342269659, 4.3793133954750374e-05, 4.3793133954750374e-05, 4.3793133954750374e-05, 0.9998410940170288, 4.3793133954750374e-05, 4.3793133954750374e-05, 6.453369132941589e-05, 6.453369132941589e-05, 0.035041794180870056, 6.453369132941589e-05, 0.96477872133255, 6.453369132941589e-05, 6.453369132941589e-05, 0.051441069692373276, 0.039359088987112045, 0.03135385364294052, 2.4707527700229548e-05, 2.4707527700229548e-05, 0.8778337240219116, 0.0008527939207851887, 0.0008527939207851887, 0.0008527939207851887, 0.0008527939207851887, 0.0008527939207851887, 0.9969161152839661, 7.599920354550704e-05, 0.013679856434464455, 7.599920354550704e-05, 7.599920354550704e-05, 7.599920354550704e-05, 0.9860896468162537, 0.000664961407892406, 0.000664961407892406, 0.000664961407892406, 0.000664961407892406, 0.000664961407892406, 0.9974421262741089, 0.004311621654778719, 0.010446278378367424, 0.010475215502083302, 0.9682340025901794, 2.893706005124841e-05, 0.005903160199522972, 0.0006076782592572272, 1.6794987459434196e-05, 1.6794987459434196e-05, 0.9973031282424927, 0.0010748791974037886, 0.0015787287848070264, 1.6794987459434196e-05, 0.08252238482236862, 0.01564008556306362, 0.5212686657905579, 0.04964849352836609, 1.3506119103112724e-05, 0.25756168365478516, 0.07333822548389435, 0.9332757592201233, 0.016275526955723763, 0.0019034682773053646, 0.017428085207939148, 0.0023575066588819027, 0.015769099816679955, 0.012975017540156841, 0.01097233034670353, 0.000577491067815572, 0.00010999829828506336, 0.0032174501102417707, 0.020982176065444946, 0.9598451256752014, 0.004289933480322361, 0.0003989362739957869, 0.0003989362739957869, 0.0003989362739957869, 0.0003989362739957869, 0.9985374808311462, 0.0003989362739957869, 0.0001557578652864322, 0.0001557578652864322, 0.999498188495636, 0.0001557578652864322, 0.0001557578652864322, 0.0001557578652864322, 0.09057046473026276, 0.12898403406143188, 0.0401526503264904, 0.6669895648956299, 0.03462762013077736, 0.021438345313072205, 0.017252249643206596, 0.0004724962345790118, 0.0004724962345790118, 0.0004724962345790118, 0.9983845353126526, 0.0004724962345790118, 0.0004724962345790118, 0.020453842356801033, 5.368462734622881e-05, 5.368462734622881e-05, 5.368462734622881e-05, 5.368462734622881e-05, 0.9793686270713806, 7.446603558491915e-05, 7.446603558491915e-05, 7.446603558491915e-05, 0.999706506729126, 7.446603558491915e-05, 7.446603558491915e-05, 0.0016851889668032527, 0.004092601593583822, 0.00012037064152536914, 0.9940207004547119, 0.00012037064152536914, 0.00012037064152536914, 0.017438208684325218, 0.8972848653793335, 0.04376288503408432, 0.007839095778763294, 0.0063166264444589615, 0.014274495653808117, 0.013086753897368908, 0.00013662842684425414, 0.9995735883712769, 0.00013662842684425414, 0.00013662842684425414, 0.00013662842684425414, 0.00013662842684425414, 7.409325189655647e-05, 0.9997402429580688, 7.409325189655647e-05, 7.409325189655647e-05, 7.409325189655647e-05, 7.409325189655647e-05, 0.00011493761121528223, 0.9996124505996704, 0.00011493761121528223, 0.00011493761121528223, 0.00011493761121528223, 0.00011493761121528223, 0.003181908978149295, 0.005747964605689049, 0.010366864502429962, 0.0022581289522349834, 0.10561884939670563, 0.0004105689004063606, 0.8724589347839355, 0.0006414526142179966, 0.0006414526142179966, 0.0006414526142179966, 0.0006414526142179966, 0.0006414526142179966, 0.998100221157074, 0.00028744954033754766, 0.0071862381882965565, 0.00028744954033754766, 0.014947375282645226, 0.00028744954033754766, 0.9770409464836121, 5.612950189970434e-06, 0.06550312787294388, 0.007566257379949093, 1.1225900379940867e-05, 0.9124861359596252, 0.011989261955022812, 0.002441633492708206, 0.03666092827916145, 0.011770867742598057, 0.906882643699646, 0.008130392991006374, 1.3483238944900222e-05, 0.0007280948921106756, 0.03581148386001587, 0.00022910087136551738, 0.00022910087136551738, 0.9991088509559631, 0.00022910087136551738, 0.00022910087136551738, 0.00022910087136551738, 0.00022910087136551738, 3.8601276173722e-05, 3.8601276173722e-05, 0.9812058806419373, 0.0011580382706597447, 0.007450046483427286, 0.010113534517586231, 3.8601276173722e-05, 0.00033245046506635845, 0.00033245046506635845, 0.9986812472343445, 0.00033245046506635845, 0.00033245046506635845, 0.00033245046506635845, 0.00033245046506635845, 0.0001938652276294306, 0.005234361160546541, 0.9865801334381104, 0.004846630617976189, 0.0021325175184756517, 0.0009693261235952377, 0.0001938652276294306, 0.00034467614023014903, 0.000530987570527941, 0.024472005665302277, 0.0023847862612456083, 8.384013926843181e-05, 1.8631142665981315e-05, 0.9721730351448059, 0.0003426261246204376, 0.0003426261246204376, 0.0003426261246204376, 0.0003426261246204376, 0.0003426261246204376, 0.998755156993866, 2.6091089239344e-05, 2.6091089239344e-05, 2.6091089239344e-05, 2.6091089239344e-05, 2.6091089239344e-05, 0.9999148845672607, 0.0008010116871446371, 0.0008010116871446371, 0.0008010116871446371, 0.0008010116871446371, 0.0008010116871446371, 0.9972594976425171, 0.00028658760129474103, 0.00028658760129474103, 0.00028658760129474103, 0.02980511076748371, 0.9695258736610413, 0.00028658760129474103, 0.031776342540979385, 0.05405110493302345, 0.8259064555168152, 0.01969924382865429, 0.022518392652273178, 0.01611439883708954, 0.02993171289563179, 0.017422696575522423, 0.006368295755237341, 0.001562034827657044, 0.00012015652464469895, 0.9693027138710022, 0.00012015652464469895, 0.005286887288093567, 0.09956061094999313, 0.06519278138875961, 0.0009094023262150586, 0.010571802034974098, 0.003713392885401845, 0.09906801581382751, 0.7209855318069458, 4.046156391268596e-05, 0.9998456835746765, 4.046156391268596e-05, 4.046156391268596e-05, 4.046156391268596e-05, 4.046156391268596e-05, 1.645339398237411e-05, 1.645339398237411e-05, 0.13975512981414795, 0.26679179072380066, 0.5934081673622131, 1.645339398237411e-05, 3.4880275052273646e-05, 3.4880275052273646e-05, 0.0775388553738594, 0.2616020739078522, 0.6607719659805298, 3.4880275052273646e-05, 0.01613106206059456, 0.9822328686714172, 3.0378649171325378e-05, 3.0378649171325378e-05, 0.0015796897932887077, 3.0378649171325378e-05, 4.841688496526331e-05, 0.9998571276664734, 4.841688496526331e-05, 4.841688496526331e-05, 4.841688496526331e-05, 4.841688496526331e-05, 8.482964767608792e-05, 0.9997174143791199, 8.482964767608792e-05, 8.482964767608792e-05, 8.482964767608792e-05, 8.482964767608792e-05, 0.027022594586014748, 0.004709069151431322, 0.004455666057765484, 0.7184532880783081, 0.08115225285291672, 0.12519507110118866, 0.039009954780340195, 0.9994218945503235, 0.0001733301905915141, 0.0001733301905915141, 0.0001733301905915141, 0.0001733301905915141, 0.0001733301905915141, 0.9996837973594666, 8.590563083998859e-05, 8.590563083998859e-05, 8.590563083998859e-05, 8.590563083998859e-05, 8.590563083998859e-05, 0.03550543263554573, 0.06819327175617218, 0.0023940387181937695, 0.0038120460230857134, 1.8415681552141905e-05, 0.8900667428970337, 0.00016754874377511442, 0.00016754874377511442, 0.00016754874377511442, 0.00016754874377511442, 0.00016754874377511442, 0.9994282126426697, 0.0007891302229836583, 0.0007891302229836583, 0.0007891302229836583, 0.0007891302229836583, 0.0007891302229836583, 0.9974605441093445, 4.742630335385911e-05, 4.742630335385911e-05, 0.008252176456153393, 4.742630335385911e-05, 0.3011096119880676, 0.6905269622802734, 4.742630335385911e-05, 0.00043248594738543034, 0.00043248594738543034, 0.00043248594738543034, 0.9986100196838379, 0.00043248594738543034, 0.00043248594738543034, 0.054211460053920746, 0.03666308894753456, 0.03945064917206764, 0.7494030594825745, 0.02230050228536129, 0.07935262471437454, 0.018636848777532578, 3.317313166917302e-05, 0.9998713135719299, 3.317313166917302e-05, 3.317313166917302e-05, 3.317313166917302e-05, 3.317313166917302e-05, 0.05293220654129982, 0.02779761701822281, 0.0019334300886839628, 3.647981066023931e-05, 3.647981066023931e-05, 0.9172848463058472, 0.0005565741448663175, 0.0005565741448663175, 0.0005565741448663175, 0.0005565741448663175, 0.0005565741448663175, 0.9979374408721924, 0.00034400125150568783, 0.00034400125150568783, 0.00034400125150568783, 0.00034400125150568783, 0.00034400125150568783, 0.9989796876907349, 0.10505428165197372, 0.23637551069259644, 1.3490982382791117e-05, 1.3490982382791117e-05, 1.3490982382791117e-05, 0.6585488319396973, 0.0002451820473652333, 0.03064775839447975, 0.0002451820473652333, 0.0002451820473652333, 0.0002451820473652333, 0.9687142968177795, 0.3982730209827423, 0.4853934347629547, 3.4649510780582204e-05, 0.00011549836199264973, 1.1549836017366033e-05, 0.00013859804312232882, 0.11604120582342148, 0.09467721730470657, 0.07592780143022537, 0.5785762071609497, 0.0904916450381279, 0.027903834357857704, 0.08201034367084503, 0.05042271688580513, 0.9993118047714233, 0.00020131180644966662, 0.00020131180644966662, 0.00020131180644966662, 0.00020131180644966662, 0.00020131180644966662, 0.0001379061577608809, 0.0001379061577608809, 0.9995437860488892, 0.0001379061577608809, 0.0001379061577608809, 0.0001379061577608809, 0.0001379061577608809, 5.694810897693969e-05, 0.9997810125350952, 5.694810897693969e-05, 5.694810897693969e-05, 5.694810897693969e-05, 5.694810897693969e-05, 0.3128678500652313, 0.5586807131767273, 0.013784623704850674, 0.0020008154679089785, 6.632537406403571e-05, 0.0163823664188385, 0.09622706472873688, 0.0008882815600372851, 0.0008882815600372851, 0.0008882815600372851, 0.0008882815600372851, 0.9966519474983215, 0.0008882815600372851, 0.0004017749160993844, 0.0004017749160993844, 0.0004017749160993844, 0.0004017749160993844, 0.9988124370574951, 0.0004017749160993844, 3.638262569438666e-05, 3.638262569438666e-05, 3.638262569438666e-05, 3.638262569438666e-05, 0.99986732006073, 3.638262569438666e-05, 0.0348026379942894, 0.00039192161057144403, 0.9626378417015076, 7.838432065909728e-05, 7.838432065909728e-05, 0.0020379924681037664, 0.34634432196617126, 0.07779979705810547, 0.48603174090385437, 0.004000054206699133, 0.003773636184632778, 0.08069291710853577, 0.0013710877392441034, 0.9847276210784912, 0.015105468221008778, 5.318826879374683e-05, 5.318826879374683e-05, 5.318826879374683e-05, 5.318826879374683e-05, 0.01692981831729412, 6.826539902249351e-05, 0.09843870252370834, 6.826539902249351e-05, 0.03686331585049629, 0.8475831747055054, 6.826539902249351e-05, 0.9842840433120728, 0.0013454108266159892, 0.007144595496356487, 0.0006031151860952377, 4.639347753254697e-05, 0.005381643306463957, 0.0011598370037972927, 0.000319628044962883, 0.000319628044962883, 0.9988377094268799, 0.000319628044962883, 0.000319628044962883, 0.000319628044962883, 0.000319628044962883, 0.0073354290798306465, 0.0037320605479180813, 0.0001286917395191267, 0.0001286917395191267, 0.0001286917395191267, 0.9886099696159363, 0.018518000841140747, 0.03187126666307449, 0.12516756355762482, 0.05376620963215828, 0.002383723622187972, 0.7406538128852844, 0.02767767943441868, 0.0002529748308006674, 0.002276773564517498, 0.0002529748308006674, 0.002529748249799013, 0.9946970343589783, 0.0002529748308006674, 0.000256376777542755, 0.000256376777542755, 0.000256376777542755, 0.9991003274917603, 0.000256376777542755, 0.000256376777542755, 0.08992388099431992, 0.039195556193590164, 0.017834177240729332, 0.7911241054534912, 0.03650061413645744, 0.01811159774661064, 0.007331828121095896, 5.201084786676802e-05, 5.201084786676802e-05, 0.02210461162030697, 5.201084786676802e-05, 0.9777519702911377, 5.201084786676802e-05, 5.201084786676802e-05, 0.7747535705566406, 0.12716044485569, 0.011336647905409336, 0.0411340668797493, 0.017676085233688354, 0.017965180799365044, 0.010015071369707584, 0.9993982911109924, 0.00018888646445702761, 0.00018888646445702761, 0.00018888646445702761, 0.00018888646445702761, 0.00018888646445702761, 0.9997901916503906, 6.730781024089083e-05, 6.730781024089083e-05, 6.730781024089083e-05, 6.730781024089083e-05, 6.730781024089083e-05, 0.17046569287776947, 0.1763998121023178, 0.6261903047561646, 0.017662033438682556, 0.009262043051421642, 2.004771158681251e-05, 0.0008347603725269437, 0.0008347603725269437, 0.0008347603725269437, 0.0008347603725269437, 0.9975386261940002, 0.0008347603725269437, 7.405853102682158e-05, 7.405853102682158e-05, 0.9029957056045532, 7.405853102682158e-05, 0.041843071579933167, 7.405853102682158e-05, 0.05495143309235573, 5.018413867219351e-05, 0.005570439156144857, 0.9942983388900757, 5.018413867219351e-05, 5.018413867219351e-05, 5.018413867219351e-05, 0.9998031258583069, 6.23590822215192e-05, 6.23590822215192e-05, 6.23590822215192e-05, 6.23590822215192e-05, 6.23590822215192e-05, 0.0001290076324949041, 0.0001290076324949041, 0.0001290076324949041, 0.9995511174201965, 0.0001290076324949041, 0.0001290076324949041, 0.1426323801279068, 0.11114545911550522, 0.036559704691171646, 0.07101895660161972, 0.576494038105011, 0.036321915686130524, 0.025859301909804344, 2.513626532163471e-05, 0.007465471047908068, 0.9924551844596863, 2.513626532163471e-05, 2.513626532163471e-05, 2.513626532163471e-05, 4.269995406502858e-05, 0.9932436347007751, 0.006447693333029747, 4.269995406502858e-05, 0.0001707998162601143, 4.269995406502858e-05, 0.0003214214520994574, 0.9994370937347412, 0.0001836693991208449, 2.2958674890105613e-05, 2.2958674890105613e-05, 2.2958674890105613e-05, 8.060853724600747e-05, 0.9997071027755737, 8.060853724600747e-05, 8.060853724600747e-05, 8.060853724600747e-05, 8.060853724600747e-05, 6.999925972195342e-05, 6.999925972195342e-05, 0.011969873681664467, 0.007559920195490122, 0.007069925311952829, 0.0018899800488725305, 0.9715197086334229, 0.0005588865024037659, 0.0005588865024037659, 0.0005588865024037659, 0.0005588865024037659, 0.0005588865024037659, 0.9981712698936462, 6.111536640673876e-05, 0.9997862577438354, 6.111536640673876e-05, 6.111536640673876e-05, 6.111536640673876e-05, 6.111536640673876e-05, 0.05033256486058235, 0.6575656533241272, 0.09237930178642273, 0.03816114366054535, 0.07473974674940109, 0.0595962293446064, 0.027212008833885193, 0.028517577797174454, 0.01909659244120121, 0.0016550379805266857, 0.000763863674364984, 0.00012731061724480242, 0.9499918222427368, 0.0005179388099350035, 0.0005179388099350035, 0.0005179388099350035, 0.0005179388099350035, 0.0005179388099350035, 0.9980680346488953, 0.00034285758738406, 0.00034285758738406, 0.00034285758738406, 0.00034285758738406, 0.00034285758738406, 0.9987441897392273, 4.265608367859386e-05, 0.0007251534261740744, 0.0834353044629097, 4.265608367859386e-05, 0.03719610720872879, 0.8697149157524109, 0.00887246523052454, 0.013561097905039787, 0.043618038296699524, 0.015455781482160091, 8.062484084803145e-06, 0.4921904504299164, 0.3157510459423065, 0.11941345036029816, 0.08419377356767654, 0.06842008233070374, 0.03525487706065178, 0.08146370947360992, 0.027536554262042046, 0.6002429723739624, 0.10293345898389816, 0.0009372410131618381, 0.0009372410131618381, 0.0009372410131618381, 0.0009372410131618381, 0.9972244501113892, 0.0009372410131618381, 0.13271565735340118, 0.19345173239707947, 0.029181726276874542, 0.009566045366227627, 1.5112235814740416e-05, 0.012392032891511917, 0.6226694583892822, 0.00017891691823024303, 1.6265174053842202e-05, 0.9952334761619568, 0.004554248880594969, 1.6265174053842202e-05, 1.6265174053842202e-05, 1.6265174053842202e-05, 0.9747514724731445, 4.779130540555343e-05, 4.779130540555343e-05, 4.779130540555343e-05, 0.010609669610857964, 0.014528556726872921, 0.11883094906806946, 0.16422705352306366, 0.031196752563118935, 0.5419318675994873, 0.02879342995584011, 0.06365902721881866, 0.05136376619338989, 0.0839809849858284, 0.03944168984889984, 0.09925942122936249, 0.7675937414169312, 7.200016170827439e-06, 0.004420809913426638, 0.005299211945384741, 0.04072237014770508, 0.9049253463745117, 0.0047943065874278545, 2.9233575332909822e-05, 2.9233575332909822e-05, 2.9233575332909822e-05, 0.04949244484305382, 0.04949095845222473, 9.630464774090797e-06, 0.0002696530136745423, 0.9500645995140076, 0.00015408743638545275, 9.630464774090797e-06, 0.0041602314449846745, 0.00011243868357269093, 0.00011243868357269093, 0.9955320954322815, 0.00011243868357269093, 0.00011243868357269093, 0.0001485414250055328, 0.0001485414250055328, 0.015299766324460506, 0.9842354655265808, 0.0001485414250055328, 0.0001485414250055328, 0.00011114574590465054, 0.00011114574590465054, 0.00011114574590465054, 0.020895401015877724, 0.00011114574590465054, 0.97886061668396, 0.007073937449604273, 0.0213481318205595, 0.9706452488899231, 0.00012632031575776637, 0.00012632031575776637, 0.0007579218945465982, 0.0003493778931442648, 0.0003493778931442648, 0.9988714456558228, 0.0003493778931442648, 0.0003493778931442648, 0.0003493778931442648, 0.0003493778931442648, 0.00021439642296172678, 0.00010719821148086339, 0.9995161294937134, 0.00010719821148086339, 0.00010719821148086339, 0.00010719821148086339, 0.00010719821148086339, 0.007075301371514797, 0.021352248266339302, 0.970706045627594, 0.00012634466111194342, 0.00012634466111194342, 0.000758067995775491, 0.00027202002820558846, 0.00027202002820558846, 0.999129593372345, 0.00027202002820558846, 0.00027202002820558846, 0.00027202002820558846, 0.019086843356490135, 0.0029335443396121264, 0.6834312081336975, 0.13520631194114685, 0.013172742910683155, 0.004456731025129557, 0.14169394969940186, 0.24440596997737885, 0.06262718141078949, 0.22049862146377563, 0.4653094708919525, 0.007129741832613945, 1.9749977582250722e-05, 0.14132148027420044, 0.10843823105096817, 0.0008870828314684331, 1.5294532204279676e-05, 0.7123122215270996, 0.0008259047172032297, 0.03620215877890587, 0.19582773745059967, 0.14823967218399048, 1.7437911083106883e-05, 0.586803138256073, 0.0029818827752023935, 0.0661245584487915, 0.015455983579158783, 0.07975759357213974, 0.8937039375305176, 0.0013273268705233932, 0.007374037988483906, 2.9496151910279877e-05, 0.002330196090042591, 0.0003454365360084921, 0.0003454365360084921, 0.9986570477485657, 0.0003454365360084921, 0.0003454365360084921, 0.0003454365360084921, 9.411294740857556e-05, 9.411294740857556e-05, 0.9887506365776062, 0.010917101986706257, 9.411294740857556e-05, 9.411294740857556e-05, 0.0004205151053611189, 0.0004205151053611189, 0.9983028769493103, 0.0004205151053611189, 0.0004205151053611189, 0.0004205151053611189, 0.0004205151053611189, 0.0005681068869307637, 0.0005681068869307637, 0.9981638193130493, 0.0005681068869307637, 0.0005681068869307637, 0.0005681068869307637, 0.0005681068869307637, 1.3985413716000039e-05, 1.3985413716000039e-05, 0.05759193375706673, 0.2301999032497406, 0.009146460331976414, 0.017635606229305267, 0.6854111552238464, 0.0006673536263406277, 0.0006673536263406277, 0.0006673536263406277, 0.0006673536263406277, 0.0006673536263406277, 0.997693657875061, 0.009604276157915592, 0.0015929044457152486, 0.0023307939991354942, 0.0001522629172541201, 1.1712532796082087e-05, 0.9859375357627869, 0.0003748010494746268, 0.00011835166515083984, 0.00011835166515083984, 0.00011835166515083984, 0.00011835166515083984, 0.9995981454849243, 0.00011835166515083984, 0.0006419192650355399, 0.0006419192650355399, 0.0006419192650355399, 0.0006419192650355399, 0.9975425004959106, 0.0006419192650355399, 0.0003971603000536561, 0.0003971603000536561, 0.0003971603000536561, 0.0003971603000536561, 0.9984610080718994, 0.0003971603000536561, 0.0006989943794906139, 0.0006989943794906139, 0.0006989943794906139, 0.0006989943794906139, 0.9974649548530579, 0.0006989943794906139, 1.0833711712621152e-05, 0.0807761549949646, 0.6385281085968018, 0.07708185911178589, 0.03506872430443764, 0.09273657202720642, 0.0758034810423851, 0.11503849178552628, 0.09828206896781921, 0.04191107302904129, 0.5999065041542053, 0.018892696127295494, 0.06569050252437592, 0.060283053666353226, 0.00011053028720198199, 0.00011053028720198199, 0.9996359348297119, 0.00011053028720198199, 0.00011053028720198199, 0.00011053028720198199, 0.00011053028720198199, 4.951463415636681e-05, 4.951463415636681e-05, 0.021241778507828712, 4.951463415636681e-05, 0.940282940864563, 4.951463415636681e-05, 0.03837384283542633, 0.00033424716093577445, 0.00033424716093577445, 0.998730480670929, 0.00033424716093577445, 0.00033424716093577445, 0.00033424716093577445, 0.9941633343696594, 0.005602031480520964, 7.890185224823654e-05, 7.890185224823654e-05, 7.890185224823654e-05, 7.890185224823654e-05, 0.04366635903716087, 3.793775613303296e-05, 0.007511675823479891, 3.793775613303296e-05, 0.8278018832206726, 0.12094556540250778, 3.793775613303296e-05], \"Term\": [\"absorbent\", \"absorbent\", \"absorbent\", \"absorbent\", \"absorbent\", \"absorbent\", \"adorable\", \"adorable\", \"adorable\", \"adorable\", \"adorable\", \"adorable\", \"adorable\", \"aerator\", \"aerator\", \"aerator\", \"aerator\", \"aerator\", \"aerator\", \"alarm\", \"alarm\", \"alarm\", \"alarm\", \"alarm\", \"alarm\", \"alarm_clock\", \"alarm_clock\", \"alarm_clock\", \"alarm_clock\", \"alarm_clock\", \"alarm_clock\", \"album\", \"album\", \"album\", \"album\", \"album\", \"album\", \"album\", \"apron\", \"apron\", \"apron\", \"apron\", \"apron\", \"apron\", \"apron\", \"area_rug\", \"area_rug\", \"area_rug\", \"area_rug\", \"area_rug\", \"area_rug\", \"armrest\", \"armrest\", \"armrest\", \"armrest\", \"armrest\", \"armrest\", \"artwork\", \"artwork\", \"artwork\", \"artwork\", \"artwork\", \"artwork\", \"artwork\", \"ashtray\", \"ashtray\", \"ashtray\", \"ashtray\", \"ashtray\", \"ashtray\", \"assemble\", \"assemble\", \"assemble\", \"assemble\", \"assemble\", \"assemble\", \"assemble\", \"atomic\", \"atomic\", \"atomic\", \"atomic\", \"atomic\", \"atomic\", \"bachelorette\", \"bachelorette\", \"bachelorette\", \"bachelorette\", \"bachelorette\", \"bachelorette\", \"bachelorette\", \"bag\", \"bag\", \"bag\", \"bag\", \"bag\", \"bag\", \"bag\", \"bagless\", \"bagless\", \"bagless\", \"bagless\", \"bagless\", \"bagless\", \"bake\", \"bake\", \"bake\", \"bake\", \"bake\", \"bake\", \"baking\", \"baking\", \"baking\", \"baking\", \"baking\", \"baking\", \"balloon\", \"balloon\", \"balloon\", \"balloon\", \"balloon\", \"balloon\", \"balloon\", \"banner\", \"banner\", \"banner\", \"banner\", \"banner\", \"banner\", \"banner\", \"bath\", \"bath\", \"bath\", \"bath\", \"bath\", \"bath\", \"bath\", \"bath_bomb\", \"bath_bomb\", \"bath_bomb\", \"bath_bomb\", \"bath_bomb\", \"bath_bomb\", \"bathroom\", \"bathroom\", \"bathroom\", \"bathroom\", \"bathroom\", \"bathroom\", \"bathroom\", \"battery\", \"battery\", \"battery\", \"battery\", \"battery\", \"battery\", \"battery_life\", \"battery_life\", \"battery_life\", \"battery_life\", \"battery_life\", \"battery_life\", \"battery_operated\", \"battery_operated\", \"battery_operated\", \"battery_operated\", \"battery_operated\", \"battery_operated\", \"bedding\", \"bedding\", \"bedding\", \"bedding\", \"bedding\", \"bedding\", \"bedspread\", \"bedspread\", \"bedspread\", \"bedspread\", \"bedspread\", \"bedspread\", \"beep\", \"beep\", \"beep\", \"beep\", \"beep\", \"beep\", \"bento\", \"bento\", \"bento\", \"bento\", \"bento\", \"bento\", \"beverage\", \"beverage\", \"beverage\", \"beverage\", \"beverage\", \"beverage\", \"beverage_cold\", \"beverage_cold\", \"beverage_cold\", \"beverage_cold\", \"beverage_cold\", \"beverage_cold\", \"birthday\", \"birthday\", \"birthday\", \"birthday\", \"birthday\", \"birthday\", \"birthday\", \"birthday_party\", \"birthday_party\", \"birthday_party\", \"birthday_party\", \"birthday_party\", \"birthday_party\", \"birthday_party\", \"bissell\", \"bissell\", \"bissell\", \"bissell\", \"bissell\", \"bissell\", \"blackout\", \"blackout\", \"blackout\", \"blackout\", \"blackout\", \"blackout\", \"blackout_curtain\", \"blackout_curtain\", \"blackout_curtain\", \"blackout_curtain\", \"blackout_curtain\", \"blackout_curtain\", \"blade\", \"blade\", \"blade\", \"blade\", \"blade\", \"blade\", \"blanket\", \"blanket\", \"blanket\", \"blanket\", \"blanket\", \"blanket\", \"blender\", \"blender\", \"blender\", \"blender\", \"blender\", \"blender\", \"blind\", \"blind\", \"blind\", \"blind\", \"blind\", \"blind\", \"blind\", \"blue\", \"blue\", \"blue\", \"blue\", \"blue\", \"blue\", \"blue\", \"board\", \"board\", \"board\", \"board\", \"board\", \"board\", \"board\", \"bodum\", \"bodum\", \"bodum\", \"bodum\", \"bodum\", \"bodum\", \"bookcase\", \"bookcase\", \"bookcase\", \"bookcase\", \"bookcase\", \"bookcase\", \"bookcase\", \"bookend\", \"bookend\", \"bookend\", \"bookend\", \"bookend\", \"bookend\", \"bookend\", \"bottle\", \"bottle\", \"bottle\", \"bottle\", \"bottle\", \"bottle\", \"bottle_opener\", \"bottle_opener\", \"bottle_opener\", \"bottle_opener\", \"bottle_opener\", \"bottle_opener\", \"bowl\", \"bowl\", \"bowl\", \"bowl\", \"bowl\", \"bowl\", \"bowl\", \"branch\", \"branch\", \"branch\", \"branch\", \"branch\", \"branch\", \"branch\", \"bread\", \"bread\", \"bread\", \"bread\", \"bread\", \"bread\", \"brew\", \"brew\", \"brew\", \"brew\", \"brew\", \"brew\", \"brewer\", \"brewer\", \"brewer\", \"brewer\", \"brewer\", \"brewer\", \"brewing\", \"brewing\", \"brewing\", \"brewing\", \"brewing\", \"brewing\", \"broken\", \"broken\", \"broken\", \"broken\", \"broken\", \"broken\", \"broken\", \"brush\", \"brush\", \"brush\", \"brush\", \"brush\", \"brush\", \"brush\", \"bulb\", \"bulb\", \"bulb\", \"bulb\", \"bulb\", \"bulb\", \"bulb\", \"burn\", \"burn\", \"burn\", \"burn\", \"burn\", \"burn\", \"butter_dish\", \"butter_dish\", \"butter_dish\", \"butter_dish\", \"butter_dish\", \"butter_dish\", \"button\", \"button\", \"button\", \"button\", \"button\", \"button\", \"button\", \"cabinet\", \"cabinet\", \"cabinet\", \"cabinet\", \"cabinet\", \"cabinet\", \"cabinet\", \"caddy\", \"caddy\", \"caddy\", \"caddy\", \"caddy\", \"caddy\", \"caddy\", \"cake\", \"cake\", \"cake\", \"cake\", \"cake\", \"cake\", \"cake\", \"calphalon\", \"calphalon\", \"calphalon\", \"calphalon\", \"calphalon\", \"calphalon\", \"can\", \"can\", \"can\", \"can\", \"can\", \"can\", \"can\", \"candle\", \"candle\", \"candle\", \"candle\", \"candle\", \"candle\", \"candle\", \"carafe\", \"carafe\", \"carafe\", \"carafe\", \"carafe\", \"carafe\", \"carboy\", \"carboy\", \"carboy\", \"carboy\", \"carboy\", \"carboy\", \"card\", \"card\", \"card\", \"card\", \"card\", \"card\", \"card\", \"carpet\", \"carpet\", \"carpet\", \"carpet\", \"carpet\", \"carpet\", \"carpet\", \"carpet_cleaner\", \"carpet_cleaner\", \"carpet_cleaner\", \"carpet_cleaner\", \"carpet_cleaner\", \"carpet_cleaner\", \"case\", \"case\", \"case\", \"case\", \"case\", \"case\", \"case\", \"cast\", \"cast\", \"cast\", \"cast\", \"cast\", \"cast\", \"cast\", \"cast_iron\", \"cast_iron\", \"cast_iron\", \"cast_iron\", \"cast_iron\", \"cast_iron\", \"chair\", \"chair\", \"chair\", \"chair\", \"chair\", \"chair\", \"cheese\", \"cheese\", \"cheese\", \"cheese\", \"cheese\", \"cheese\", \"chef\", \"chef\", \"chef\", \"chef\", \"chef\", \"chef\", \"chef_knife\", \"chef_knife\", \"chef_knife\", \"chef_knife\", \"chef_knife\", \"chef_knife\", \"chicken\", \"chicken\", \"chicken\", \"chicken\", \"chicken\", \"chicken\", \"chicken\", \"christmas_tree\", \"christmas_tree\", \"christmas_tree\", \"christmas_tree\", \"christmas_tree\", \"christmas_tree\", \"christmas_tree\", \"clad\", \"clad\", \"clad\", \"clad\", \"clad\", \"clad\", \"class_video\", \"class_video\", \"class_video\", \"class_video\", \"class_video\", \"class_video\", \"cleaner\", \"cleaner\", \"cleaner\", \"cleaner\", \"cleaner\", \"cleaner\", \"cleaner\", \"clock\", \"clock\", \"clock\", \"clock\", \"clock\", \"clock\", \"closet\", \"closet\", \"closet\", \"closet\", \"closet\", \"closet\", \"closet\", \"cloth\", \"cloth\", \"cloth\", \"cloth\", \"cloth\", \"cloth\", \"cloth\", \"clothes\", \"clothes\", \"clothes\", \"clothes\", \"clothes\", \"clothes\", \"clothes\", \"coaster\", \"coaster\", \"coaster\", \"coaster\", \"coaster\", \"coaster\", \"coaster\", \"coat_rack\", \"coat_rack\", \"coat_rack\", \"coat_rack\", \"coat_rack\", \"coat_rack\", \"coat_rack\", \"coffee\", \"coffee\", \"coffee\", \"coffee\", \"coffee\", \"coffee\", \"coffee\", \"coffee_maker\", \"coffee_maker\", \"coffee_maker\", \"coffee_maker\", \"coffee_maker\", \"coffee_maker\", \"coffeemaker\", \"coffeemaker\", \"coffeemaker\", \"coffeemaker\", \"coffeemaker\", \"coffeemaker\", \"cold\", \"cold\", \"cold\", \"cold\", \"cold\", \"cold\", \"comfortable\", \"comfortable\", \"comfortable\", \"comfortable\", \"comfortable\", \"comfortable\", \"comforter\", \"comforter\", \"comforter\", \"comforter\", \"comforter\", \"comforter\", \"compressor\", \"compressor\", \"compressor\", \"compressor\", \"compressor\", \"compressor\", \"container\", \"container\", \"container\", \"container\", \"container\", \"container\", \"container\", \"control\", \"control\", \"control\", \"control\", \"control\", \"control\", \"control\", \"cook\", \"cook\", \"cook\", \"cook\", \"cook\", \"cook\", \"cooked\", \"cooked\", \"cooked\", \"cooked\", \"cooked\", \"cooked\", \"cooker\", \"cooker\", \"cooker\", \"cooker\", \"cooker\", \"cooker\", \"cookie\", \"cookie\", \"cookie\", \"cookie\", \"cookie\", \"cookie\", \"cookie\", \"cookie_sheet\", \"cookie_sheet\", \"cookie_sheet\", \"cookie_sheet\", \"cookie_sheet\", \"cookie_sheet\", \"cooking\", \"cooking\", \"cooking\", \"cooking\", \"cooking\", \"cooking\", \"cookware\", \"cookware\", \"cookware\", \"cookware\", \"cookware\", \"cookware\", \"cooky\", \"cooky\", \"cooky\", \"cooky\", \"cooky\", \"cooky\", \"cooky\", \"cord\", \"cord\", \"cord\", \"cord\", \"cord\", \"cord\", \"cord\", \"corelle\", \"corelle\", \"corelle\", \"corelle\", \"corelle\", \"corelle\", \"cork\", \"cork\", \"cork\", \"cork\", \"cork\", \"cork\", \"cork\", \"corkscrew\", \"corkscrew\", \"corkscrew\", \"corkscrew\", \"corkscrew\", \"corkscrew\", \"cotton\", \"cotton\", \"cotton\", \"cotton\", \"cotton\", \"cotton\", \"cotton\", \"couch\", \"couch\", \"couch\", \"couch\", \"couch\", \"couch\", \"couch\", \"counter\", \"counter\", \"counter\", \"counter\", \"counter\", \"counter\", \"counter\", \"coverlet\", \"coverlet\", \"coverlet\", \"coverlet\", \"coverlet\", \"coverlet\", \"cream\", \"cream\", \"cream\", \"cream\", \"cream\", \"cream\", \"cream\", \"cube\", \"cube\", \"cube\", \"cube\", \"cube\", \"cube\", \"cube\", \"cup\", \"cup\", \"cup\", \"cup\", \"cup\", \"cup\", \"cup\", \"cupcake\", \"cupcake\", \"cupcake\", \"cupcake\", \"cupcake\", \"cupcake\", \"curtain\", \"curtain\", \"curtain\", \"curtain\", \"curtain\", \"curtain\", \"curtain_rod\", \"curtain_rod\", \"curtain_rod\", \"curtain_rod\", \"curtain_rod\", \"curtain_rod\", \"cushion\", \"cushion\", \"cushion\", \"cushion\", \"cushion\", \"cushion\", \"cutter\", \"cutter\", \"cutter\", \"cutter\", \"cutter\", \"cutter\", \"cutter\", \"cutting\", \"cutting\", \"cutting\", \"cutting\", \"cutting\", \"cutting\", \"cutting\", \"cutting_board\", \"cutting_board\", \"cutting_board\", \"cutting_board\", \"cutting_board\", \"cutting_board\", \"darkening\", \"darkening\", \"darkening\", \"darkening\", \"darkening\", \"darkening\", \"decoration\", \"decoration\", \"decoration\", \"decoration\", \"decoration\", \"decoration\", \"decoration\", \"deflate\", \"deflate\", \"deflate\", \"deflate\", \"deflate\", \"deflate\", \"dehumidifier\", \"dehumidifier\", \"dehumidifier\", \"dehumidifier\", \"dehumidifier\", \"dehumidifier\", \"desk\", \"desk\", \"desk\", \"desk\", \"desk\", \"desk\", \"desk\", \"detail\", \"detail\", \"detail\", \"detail\", \"detail\", \"detail\", \"detail\", \"digital\", \"digital\", \"digital\", \"digital\", \"digital\", \"digital\", \"digital\", \"dimmer\", \"dimmer\", \"dimmer\", \"dimmer\", \"dimmer\", \"dimmer\", \"dirt\", \"dirt\", \"dirt\", \"dirt\", \"dirt\", \"dirt\", \"dirt\", \"dirt_devil\", \"dirt_devil\", \"dirt_devil\", \"dirt_devil\", \"dirt_devil\", \"dirt_devil\", \"dish\", \"dish\", \"dish\", \"dish\", \"dish\", \"dish\", \"dish\", \"dishwasher\", \"dishwasher\", \"dishwasher\", \"dishwasher\", \"dishwasher\", \"dishwasher\", \"dispenser\", \"dispenser\", \"dispenser\", \"dispenser\", \"dispenser\", \"dispenser\", \"door\", \"door\", \"door\", \"door\", \"door\", \"door\", \"door\", \"dough\", \"dough\", \"dough\", \"dough\", \"dough\", \"dough\", \"drawer\", \"drawer\", \"drawer\", \"drawer\", \"drawer\", \"drawer\", \"drawer\", \"drink\", \"drink\", \"drink\", \"drink\", \"drink\", \"drink\", \"drinking\", \"drinking\", \"drinking\", \"drinking\", \"drinking\", \"drinking\", \"drinking\", \"dryer\", \"dryer\", \"dryer\", \"dryer\", \"dryer\", \"dryer\", \"dryer\", \"duvet\", \"duvet\", \"duvet\", \"duvet\", \"duvet\", \"duvet\", \"duvet_cover\", \"duvet_cover\", \"duvet_cover\", \"duvet_cover\", \"duvet_cover\", \"duvet_cover\", \"dyson\", \"dyson\", \"dyson\", \"dyson\", \"dyson\", \"dyson\", \"easy_install\", \"easy_install\", \"easy_install\", \"easy_install\", \"easy_install\", \"easy_install\", \"easy_install\", \"egg\", \"egg\", \"egg\", \"egg\", \"egg\", \"egg\", \"egyptian\", \"egyptian\", \"egyptian\", \"egyptian\", \"egyptian\", \"egyptian\", \"egyptian\", \"egyptian_cotton\", \"egyptian_cotton\", \"egyptian_cotton\", \"egyptian_cotton\", \"egyptian_cotton\", \"egyptian_cotton\", \"encasement\", \"encasement\", \"encasement\", \"encasement\", \"encasement\", \"encasement\", \"espresso\", \"espresso\", \"espresso\", \"espresso\", \"espresso\", \"espresso\", \"espresso\", \"espresso_machine\", \"espresso_machine\", \"espresso_machine\", \"espresso_machine\", \"espresso_machine\", \"espresso_machine\", \"fabric\", \"fabric\", \"fabric\", \"fabric\", \"fabric\", \"fabric\", \"fabric\", \"feature\", \"feature\", \"feature\", \"feature\", \"feature\", \"feature\", \"feature\", \"figurine\", \"figurine\", \"figurine\", \"figurine\", \"figurine\", \"figurine\", \"figurine\", \"filter\", \"filter\", \"filter\", \"filter\", \"filter\", \"filter\", \"fire\", \"fire\", \"fire\", \"fire\", \"fire\", \"fire\", \"fire\", \"firm\", \"firm\", \"firm\", \"firm\", \"firm\", \"firm\", \"firm\", \"fitted_sheet\", \"fitted_sheet\", \"fitted_sheet\", \"fitted_sheet\", \"fitted_sheet\", \"fitted_sheet\", \"flameless\", \"flameless\", \"flameless\", \"flameless\", \"flameless\", \"flameless\", \"flameless_candle\", \"flameless_candle\", \"flameless_candle\", \"flameless_candle\", \"flameless_candle\", \"flameless_candle\", \"flannel\", \"flannel\", \"flannel\", \"flannel\", \"flannel\", \"flannel\", \"flannel_sheet\", \"flannel_sheet\", \"flannel_sheet\", \"flannel_sheet\", \"flannel_sheet\", \"flannel_sheet\", \"fleece\", \"fleece\", \"fleece\", \"fleece\", \"fleece\", \"fleece\", \"fleece\", \"flicker\", \"flicker\", \"flicker\", \"flicker\", \"flicker\", \"flicker\", \"flickering\", \"flickering\", \"flickering\", \"flickering\", \"flickering\", \"flickering\", \"floor\", \"floor\", \"floor\", \"floor\", \"floor\", \"floor\", \"floor\", \"flower\", \"flower\", \"flower\", \"flower\", \"flower\", \"flower\", \"flower\", \"foam\", \"foam\", \"foam\", \"foam\", \"foam\", \"foam\", \"foam\", \"foil_cutter\", \"foil_cutter\", \"foil_cutter\", \"foil_cutter\", \"foil_cutter\", \"foil_cutter\", \"folding_chair\", \"folding_chair\", \"folding_chair\", \"folding_chair\", \"folding_chair\", \"folding_chair\", \"food\", \"food\", \"food\", \"food\", \"food\", \"food\", \"food\", \"foot\", \"foot\", \"foot\", \"foot\", \"foot\", \"foot\", \"foot\", \"footrest\", \"footrest\", \"footrest\", \"footrest\", \"footrest\", \"footrest\", \"fragrance\", \"fragrance\", \"fragrance\", \"fragrance\", \"fragrance\", \"fragrance\", \"frame\", \"frame\", \"frame\", \"frame\", \"frame\", \"frame\", \"frame\", \"framed\", \"framed\", \"framed\", \"framed\", \"framed\", \"framed\", \"framed\", \"freezer\", \"freezer\", \"freezer\", \"freezer\", \"freezer\", \"freezer\", \"french_press\", \"french_press\", \"french_press\", \"french_press\", \"french_press\", \"french_press\", \"froth\", \"froth\", \"froth\", \"froth\", \"froth\", \"froth\", \"frother\", \"frother\", \"frother\", \"frother\", \"frother\", \"frother\", \"fruit\", \"fruit\", \"fruit\", \"fruit\", \"fruit\", \"fruit\", \"fryer\", \"fryer\", \"fryer\", \"fryer\", \"fryer\", \"fryer\", \"frying\", \"frying\", \"frying\", \"frying\", \"frying\", \"frying\", \"futon\", \"futon\", \"futon\", \"futon\", \"futon\", \"futon\", \"futon_mattress\", \"futon_mattress\", \"futon_mattress\", \"futon_mattress\", \"futon_mattress\", \"futon_mattress\", \"garland\", \"garland\", \"garland\", \"garland\", \"garland\", \"garland\", \"garland\", \"garlic\", \"garlic\", \"garlic\", \"garlic\", \"garlic\", \"garlic\", \"glitter\", \"glitter\", \"glitter\", \"glitter\", \"glitter\", \"glitter\", \"glitter\", \"gorgeous\", \"gorgeous\", \"gorgeous\", \"gorgeous\", \"gorgeous\", \"gorgeous\", \"gorgeous\", \"griddle\", \"griddle\", \"griddle\", \"griddle\", \"griddle\", \"griddle\", \"grill\", \"grill\", \"grill\", \"grill\", \"grill\", \"grill\", \"grinder\", \"grinder\", \"grinder\", \"grinder\", \"grinder\", \"grinder\", \"grommet\", \"grommet\", \"grommet\", \"grommet\", \"grommet\", \"grommet\", \"grommet\", \"growler\", \"growler\", \"growler\", \"growler\", \"growler\", \"growler\", \"hair\", \"hair\", \"hair\", \"hair\", \"hair\", \"hair\", \"hair\", \"hallmark\", \"hallmark\", \"hallmark\", \"hallmark\", \"hallmark\", \"hallmark\", \"hallmark\", \"halloween\", \"halloween\", \"halloween\", \"halloween\", \"halloween\", \"halloween\", \"halloween\", \"hamper\", \"hamper\", \"hamper\", \"hamper\", \"hamper\", \"hamper\", \"hamper\", \"hang\", \"hang\", \"hang\", \"hang\", \"hang\", \"hang\", \"hang\", \"hanger\", \"hanger\", \"hanger\", \"hanger\", \"hanger\", \"hanger\", \"hanger\", \"hanging\", \"hanging\", \"hanging\", \"hanging\", \"hanging\", \"hanging\", \"hanging\", \"head\", \"head\", \"head\", \"head\", \"head\", \"head\", \"head\", \"headboard\", \"headboard\", \"headboard\", \"headboard\", \"headboard\", \"headboard\", \"headboard\", \"headrest\", \"headrest\", \"headrest\", \"headrest\", \"headrest\", \"headrest\", \"heat\", \"heat\", \"heat\", \"heat\", \"heat\", \"heat\", \"heater\", \"heater\", \"heater\", \"heater\", \"heater\", \"heater\", \"height\", \"height\", \"height\", \"height\", \"height\", \"height\", \"height\", \"hidden_name\", \"hidden_name\", \"hidden_name\", \"hidden_name\", \"hidden_name\", \"hidden_name\", \"holder\", \"holder\", \"holder\", \"holder\", \"holder\", \"holder\", \"holder\", \"honeywell\", \"honeywell\", \"honeywell\", \"honeywell\", \"honeywell\", \"honeywell\", \"hook\", \"hook\", \"hook\", \"hook\", \"hook\", \"hook\", \"hook\", \"hoover\", \"hoover\", \"hoover\", \"hoover\", \"hoover\", \"hoover\", \"hour\", \"hour\", \"hour\", \"hour\", \"hour\", \"hour\", \"hour\", \"humidifier\", \"humidifier\", \"humidifier\", \"humidifier\", \"humidifier\", \"humidifier\", \"incense\", \"incense\", \"incense\", \"incense\", \"incense\", \"incense\", \"induction\", \"induction\", \"induction\", \"induction\", \"induction\", \"induction\", \"inflate\", \"inflate\", \"inflate\", \"inflate\", \"inflate\", \"inflate\", \"infuser\", \"infuser\", \"infuser\", \"infuser\", \"infuser\", \"infuser\", \"input_type\", \"input_type\", \"input_type\", \"input_type\", \"input_type\", \"input_type\", \"install\", \"install\", \"install\", \"install\", \"install\", \"install\", \"install\", \"iron\", \"iron\", \"iron\", \"iron\", \"iron\", \"iron\", \"iron\", \"ironing_board\", \"ironing_board\", \"ironing_board\", \"ironing_board\", \"ironing_board\", \"ironing_board\", \"jewelry\", \"jewelry\", \"jewelry\", \"jewelry\", \"jewelry\", \"jewelry\", \"jewelry\", \"juice\", \"juice\", \"juice\", \"juice\", \"juice\", \"juice\", \"juicer\", \"juicer\", \"juicer\", \"juicer\", \"juicer\", \"juicer\", \"keepsake\", \"keepsake\", \"keepsake\", \"keepsake\", \"keepsake\", \"keepsake\", \"keepsake\", \"kernel\", \"kernel\", \"kernel\", \"kernel\", \"kernel\", \"kernel\", \"kettle\", \"kettle\", \"kettle\", \"kettle\", \"kettle\", \"kettle\", \"keurig\", \"keurig\", \"keurig\", \"keurig\", \"keurig\", \"keurig\", \"kid\", \"kid\", \"kid\", \"kid\", \"kid\", \"kid\", \"kid\", \"king\", \"king\", \"king\", \"king\", \"king\", \"king\", \"kirby\", \"kirby\", \"kirby\", \"kirby\", \"kirby\", \"kirby\", \"knife\", \"knife\", \"knife\", \"knife\", \"knife\", \"knife\", \"laundered\", \"laundered\", \"laundered\", \"laundered\", \"laundered\", \"laundered\", \"leak\", \"leak\", \"leak\", \"leak\", \"leak\", \"leak\", \"leather\", \"leather\", \"leather\", \"leather\", \"leather\", \"leather\", \"leather\", \"leg\", \"leg\", \"leg\", \"leg\", \"leg\", \"leg\", \"leg\", \"lenox\", \"lenox\", \"lenox\", \"lenox\", \"lenox\", \"lenox\", \"lenox\", \"lid\", \"lid\", \"lid\", \"lid\", \"lid\", \"lid\", \"light_blocking\", \"light_blocking\", \"light_blocking\", \"light_blocking\", \"light_blocking\", \"light_blocking\", \"liner\", \"liner\", \"liner\", \"liner\", \"liner\", \"liner\", \"liner\", \"lint\", \"lint\", \"lint\", \"lint\", \"lint\", \"lint\", \"liquid\", \"liquid\", \"liquid\", \"liquid\", \"liquid\", \"liquid\", \"loaf\", \"loaf\", \"loaf\", \"loaf\", \"loaf\", \"loaf\", \"loud\", \"loud\", \"loud\", \"loud\", \"loud\", \"loud\", \"louder\", \"louder\", \"louder\", \"louder\", \"louder\", \"louder\", \"lumbar\", \"lumbar\", \"lumbar\", \"lumbar\", \"lumbar\", \"lumbar\", \"lumbar_support\", \"lumbar_support\", \"lumbar_support\", \"lumbar_support\", \"lumbar_support\", \"lumbar_support\", \"lunch\", \"lunch\", \"lunch\", \"lunch\", \"lunch\", \"lunch\", \"lunchbox\", \"lunchbox\", \"lunchbox\", \"lunchbox\", \"lunchbox\", \"lunchbox\", \"machine\", \"machine\", \"machine\", \"machine\", \"machine\", \"machine\", \"maker\", \"maker\", \"maker\", \"maker\", \"maker\", \"maker\", \"maker\", \"martini\", \"martini\", \"martini\", \"martini\", \"martini\", \"martini\", \"martini_glass\", \"martini_glass\", \"martini_glass\", \"martini_glass\", \"martini_glass\", \"martini_glass\", \"mattress\", \"mattress\", \"mattress\", \"mattress\", \"mattress\", \"mattress\", \"mattress_protector\", \"mattress_protector\", \"mattress_protector\", \"mattress_protector\", \"mattress_protector\", \"mattress_protector\", \"mattress_topper\", \"mattress_topper\", \"mattress_topper\", \"mattress_topper\", \"mattress_topper\", \"mattress_topper\", \"measuring_spoon\", \"measuring_spoon\", \"measuring_spoon\", \"measuring_spoon\", \"measuring_spoon\", \"measuring_spoon\", \"meat\", \"meat\", \"meat\", \"meat\", \"meat\", \"meat\", \"memory\", \"memory\", \"memory\", \"memory\", \"memory\", \"memory\", \"memory\", \"memory_foam\", \"memory_foam\", \"memory_foam\", \"memory_foam\", \"memory_foam\", \"memory_foam\", \"microwave\", \"microwave\", \"microwave\", \"microwave\", \"microwave\", \"microwave\", \"miele\", \"miele\", \"miele\", \"miele\", \"miele\", \"miele\", \"milk\", \"milk\", \"milk\", \"milk\", \"milk\", \"milk\", \"mill\", \"mill\", \"mill\", \"mill\", \"mill\", \"mill\", \"mirror\", \"mirror\", \"mirror\", \"mirror\", \"mirror\", \"mirror\", \"mirror\", \"mitt\", \"mitt\", \"mitt\", \"mitt\", \"mitt\", \"mitt\", \"mixer\", \"mixer\", \"mixer\", \"mixer\", \"mixer\", \"mixer\", \"mode\", \"mode\", \"mode\", \"mode\", \"mode\", \"mode\", \"model\", \"model\", \"model\", \"model\", \"model\", \"model\", \"model\", \"mold\", \"mold\", \"mold\", \"mold\", \"mold\", \"mold\", \"mold\", \"mortar_pestle\", \"mortar_pestle\", \"mortar_pestle\", \"mortar_pestle\", \"mortar_pestle\", \"mortar_pestle\", \"moscow\", \"moscow\", \"moscow\", \"moscow\", \"moscow\", \"moscow\", \"moscow_mule\", \"moscow_mule\", \"moscow_mule\", \"moscow_mule\", \"moscow_mule\", \"moscow_mule\", \"muddler\", \"muddler\", \"muddler\", \"muddler\", \"muddler\", \"muddler\", \"muffin\", \"muffin\", \"muffin\", \"muffin\", \"muffin\", \"muffin\", \"mug\", \"mug\", \"mug\", \"mug\", \"mug\", \"mug\", \"napkin\", \"napkin\", \"napkin\", \"napkin\", \"napkin\", \"napkin\", \"napkin\", \"nativity\", \"nativity\", \"nativity\", \"nativity\", \"nativity\", \"nativity\", \"nativity\", \"neck\", \"neck\", \"neck\", \"neck\", \"neck\", \"neck\", \"neck\", \"neck_pain\", \"neck_pain\", \"neck_pain\", \"neck_pain\", \"neck_pain\", \"neck_pain\", \"neck_support\", \"neck_support\", \"neck_support\", \"neck_support\", \"neck_support\", \"neck_support\", \"necklace\", \"necklace\", \"necklace\", \"necklace\", \"necklace\", \"necklace\", \"necklace\", \"night\", \"night\", \"night\", \"night\", \"night\", \"night\", \"night\", \"noise\", \"noise\", \"noise\", \"noise\", \"noise\", \"noise\", \"nonstick\", \"nonstick\", \"nonstick\", \"nonstick\", \"nonstick\", \"nonstick\", \"nutcracker\", \"nutcracker\", \"nutcracker\", \"nutcracker\", \"nutcracker\", \"nutcracker\", \"nutcracker\", \"open_can\", \"open_can\", \"open_can\", \"open_can\", \"open_can\", \"open_can\", \"opener\", \"opener\", \"opener\", \"opener\", \"opener\", \"opener\", \"oreck\", \"oreck\", \"oreck\", \"oreck\", \"oreck\", \"oreck\", \"organize\", \"organize\", \"organize\", \"organize\", \"organize\", \"organize\", \"organize\", \"organizer\", \"organizer\", \"organizer\", \"organizer\", \"organizer\", \"organizer\", \"organizer\", \"ornament\", \"ornament\", \"ornament\", \"ornament\", \"ornament\", \"ornament\", \"ornament\", \"ottoman\", \"ottoman\", \"ottoman\", \"ottoman\", \"ottoman\", \"ottoman\", \"oven\", \"oven\", \"oven\", \"oven\", \"oven\", \"oven\", \"ozone\", \"ozone\", \"ozone\", \"ozone\", \"ozone\", \"ozone\", \"packaged\", \"packaged\", \"packaged\", \"packaged\", \"packaged\", \"packaged\", \"packaged\", \"pain\", \"pain\", \"pain\", \"pain\", \"pain\", \"pain\", \"pain\", \"painting\", \"painting\", \"painting\", \"painting\", \"painting\", \"painting\", \"painting\", \"pan\", \"pan\", \"pan\", \"pan\", \"pan\", \"pan\", \"panel\", \"panel\", \"panel\", \"panel\", \"panel\", \"panel\", \"panel\", \"paper\", \"paper\", \"paper\", \"paper\", \"paper\", \"paper\", \"paper\", \"party\", \"party\", \"party\", \"party\", \"party\", \"party\", \"party\", \"pattern\", \"pattern\", \"pattern\", \"pattern\", \"pattern\", \"pattern\", \"pattern\", \"peeler\", \"peeler\", \"peeler\", \"peeler\", \"peeler\", \"peeler\", \"pepper\", \"pepper\", \"pepper\", \"pepper\", \"pepper\", \"pepper\", \"pepper_grinder\", \"pepper_grinder\", \"pepper_grinder\", \"pepper_grinder\", \"pepper_grinder\", \"pepper_grinder\", \"pepper_mill\", \"pepper_mill\", \"pepper_mill\", \"pepper_mill\", \"pepper_mill\", \"pepper_mill\", \"peppercorn\", \"peppercorn\", \"peppercorn\", \"peppercorn\", \"peppercorn\", \"peppercorn\", \"pestle\", \"pestle\", \"pestle\", \"pestle\", \"pestle\", \"pestle\", \"petal\", \"petal\", \"petal\", \"petal\", \"petal\", \"petal\", \"petal\", \"pilling\", \"pilling\", \"pilling\", \"pilling\", \"pilling\", \"pilling\", \"pillow\", \"pillow\", \"pillow\", \"pillow\", \"pillow\", \"pillow\", \"pillow_case\", \"pillow_case\", \"pillow_case\", \"pillow_case\", \"pillow_case\", \"pillow_case\", \"pillow_sham\", \"pillow_sham\", \"pillow_sham\", \"pillow_sham\", \"pillow_sham\", \"pillow_sham\", \"pillowcase\", \"pillowcase\", \"pillowcase\", \"pillowcase\", \"pillowcase\", \"pillowcase\", \"pirate\", \"pirate\", \"pirate\", \"pirate\", \"pirate\", \"pirate\", \"pirate\", \"pitcher\", \"pitcher\", \"pitcher\", \"pitcher\", \"pitcher\", \"pitcher\", \"pizza\", \"pizza\", \"pizza\", \"pizza\", \"pizza\", \"pizza\", \"plaque\", \"plaque\", \"plaque\", \"plaque\", \"plaque\", \"plaque\", \"plaque\", \"plate\", \"plate\", \"plate\", \"plate\", \"plate\", \"plate\", \"plate\", \"plug\", \"plug\", \"plug\", \"plug\", \"plug\", \"plug\", \"plug\", \"plugged\", \"plugged\", \"plugged\", \"plugged\", \"plugged\", \"plugged\", \"pod\", \"pod\", \"pod\", \"pod\", \"pod\", \"pod\", \"popcorn\", \"popcorn\", \"popcorn\", \"popcorn\", \"popcorn\", \"popcorn\", \"popper\", \"popper\", \"popper\", \"popper\", \"popper\", \"popper\", \"poster\", \"poster\", \"poster\", \"poster\", \"poster\", \"poster\", \"poster\", \"potato\", \"potato\", \"potato\", \"potato\", \"potato\", \"potato\", \"pour\", \"pour\", \"pour\", \"pour\", \"pour\", \"pour\", \"power\", \"power\", \"power\", \"power\", \"power\", \"power\", \"power\", \"power_cord\", \"power_cord\", \"power_cord\", \"power_cord\", \"power_cord\", \"power_cord\", \"pressure_cooker\", \"pressure_cooker\", \"pressure_cooker\", \"pressure_cooker\", \"pressure_cooker\", \"pressure_cooker\", \"privacy\", \"privacy\", \"privacy\", \"privacy\", \"privacy\", \"privacy\", \"privacy\", \"probe\", \"probe\", \"probe\", \"probe\", \"probe\", \"probe\", \"pulp\", \"pulp\", \"pulp\", \"pulp\", \"pulp\", \"pulp\", \"purifier\", \"purifier\", \"purifier\", \"purifier\", \"purifier\", \"purifier\", \"queen\", \"queen\", \"queen\", \"queen\", \"queen\", \"queen\", \"quiet\", \"quiet\", \"quiet\", \"quiet\", \"quiet\", \"quiet\", \"quilt\", \"quilt\", \"quilt\", \"quilt\", \"quilt\", \"quilt\", \"quilt\", \"rack\", \"rack\", \"rack\", \"rack\", \"rack\", \"rack\", \"rack\", \"radio\", \"radio\", \"radio\", \"radio\", \"radio\", \"radio\", \"rechargeable\", \"rechargeable\", \"rechargeable\", \"rechargeable\", \"rechargeable\", \"rechargeable\", \"recline\", \"recline\", \"recline\", \"recline\", \"recline\", \"recline\", \"recliner\", \"recliner\", \"recliner\", \"recliner\", \"recliner\", \"recliner\", \"remote\", \"remote\", \"remote\", \"remote\", \"remote\", \"remote\", \"remote\", \"reset\", \"reset\", \"reset\", \"reset\", \"reset\", \"reset\", \"rice\", \"rice\", \"rice\", \"rice\", \"rice\", \"rice\", \"rice_cooker\", \"rice_cooker\", \"rice_cooker\", \"rice_cooker\", \"rice_cooker\", \"rice_cooker\", \"riedel\", \"riedel\", \"riedel\", \"riedel\", \"riedel\", \"riedel\", \"room_darkening\", \"room_darkening\", \"room_darkening\", \"room_darkening\", \"room_darkening\", \"room_darkening\", \"rtic\", \"rtic\", \"rtic\", \"rtic\", \"rtic\", \"rtic\", \"rug\", \"rug\", \"rug\", \"rug\", \"rug\", \"rug\", \"runner\", \"runner\", \"runner\", \"runner\", \"runner\", \"runner\", \"runner\", \"salt\", \"salt\", \"salt\", \"salt\", \"salt\", \"salt\", \"salt_mill\", \"salt_mill\", \"salt_mill\", \"salt_mill\", \"salt_mill\", \"salt_mill\", \"salt_pepper\", \"salt_pepper\", \"salt_pepper\", \"salt_pepper\", \"salt_pepper\", \"salt_pepper\", \"salt_shaker\", \"salt_shaker\", \"salt_shaker\", \"salt_shaker\", \"salt_shaker\", \"salt_shaker\", \"scale\", \"scale\", \"scale\", \"scale\", \"scale\", \"scale\", \"scale\", \"scent\", \"scent\", \"scent\", \"scent\", \"scent\", \"scent\", \"screw\", \"screw\", \"screw\", \"screw\", \"screw\", \"screw\", \"screw\", \"seal\", \"seal\", \"seal\", \"seal\", \"seal\", \"seal\", \"seal\", \"seat\", \"seat\", \"seat\", \"seat\", \"seat\", \"seat\", \"seat\", \"seat_cushion\", \"seat_cushion\", \"seat_cushion\", \"seat_cushion\", \"seat_cushion\", \"seat_cushion\", \"sensor\", \"sensor\", \"sensor\", \"sensor\", \"sensor\", \"sensor\", \"setting\", \"setting\", \"setting\", \"setting\", \"setting\", \"setting\", \"setting\", \"shag\", \"shag\", \"shag\", \"shag\", \"shag\", \"shag\", \"shaker\", \"shaker\", \"shaker\", \"shaker\", \"shaker\", \"shaker\", \"sham\", \"sham\", \"sham\", \"sham\", \"sham\", \"sham\", \"shark\", \"shark\", \"shark\", \"shark\", \"shark\", \"shark\", \"sharp\", \"sharp\", \"sharp\", \"sharp\", \"sharp\", \"sharp\", \"sharp\", \"sharpen\", \"sharpen\", \"sharpen\", \"sharpen\", \"sharpen\", \"sharpen\", \"sharpener\", \"sharpener\", \"sharpener\", \"sharpener\", \"sharpener\", \"sharpener\", \"sharpening\", \"sharpening\", \"sharpening\", \"sharpening\", \"sharpening\", \"sharpening\", \"sheer\", \"sheer\", \"sheer\", \"sheer\", \"sheer\", \"sheer\", \"sheer\", \"sheer_curtain\", \"sheer_curtain\", \"sheer_curtain\", \"sheer_curtain\", \"sheer_curtain\", \"sheer_curtain\", \"sheers\", \"sheers\", \"sheers\", \"sheers\", \"sheers\", \"sheers\", \"sheet\", \"sheet\", \"sheet\", \"sheet\", \"sheet\", \"sheet\", \"sheet\", \"shelf\", \"shelf\", \"shelf\", \"shelf\", \"shelf\", \"shelf\", \"shelf\", \"shelving\", \"shelving\", \"shelving\", \"shelving\", \"shelving\", \"shelving\", \"shelving\", \"shoe\", \"shoe\", \"shoe\", \"shoe\", \"shoe\", \"shoe\", \"shoe\", \"shoe_rack\", \"shoe_rack\", \"shoe_rack\", \"shoe_rack\", \"shoe_rack\", \"shoe_rack\", \"shoe_rack\", \"shore\", \"shore\", \"shore\", \"shore\", \"shore\", \"shore\", \"shore\", \"shower\", \"shower\", \"shower\", \"shower\", \"shower\", \"shower\", \"shower\", \"shower_caddy\", \"shower_caddy\", \"shower_caddy\", \"shower_caddy\", \"shower_caddy\", \"shower_caddy\", \"shower_curtain\", \"shower_curtain\", \"shower_curtain\", \"shower_curtain\", \"shower_curtain\", \"shower_curtain\", \"shower_stall\", \"shower_stall\", \"shower_stall\", \"shower_stall\", \"shower_stall\", \"shower_stall\", \"side_sleeper\", \"side_sleeper\", \"side_sleeper\", \"side_sleeper\", \"side_sleeper\", \"side_sleeper\", \"sign\", \"sign\", \"sign\", \"sign\", \"sign\", \"sign\", \"sign\", \"silky\", \"silky\", \"silky\", \"silky\", \"silky\", \"silky\", \"silky\", \"sink\", \"sink\", \"sink\", \"sink\", \"sink\", \"sink\", \"sink\", \"skillet\", \"skillet\", \"skillet\", \"skillet\", \"skillet\", \"skillet\", \"sleep\", \"sleep\", \"sleep\", \"sleep\", \"sleep\", \"sleep\", \"sleeping\", \"sleeping\", \"sleeping\", \"sleeping\", \"sleeping\", \"sleeping\", \"slice\", \"slice\", \"slice\", \"slice\", \"slice\", \"slice\", \"slicer\", \"slicer\", \"slicer\", \"slicer\", \"slicer\", \"slicer\", \"slicing\", \"slicing\", \"slicing\", \"slicing\", \"slicing\", \"slicing\", \"smell\", \"smell\", \"smell\", \"smell\", \"smell\", \"smell\", \"smell\", \"smoothie\", \"smoothie\", \"smoothie\", \"smoothie\", \"smoothie\", \"smoothie\", \"smoothy\", \"smoothy\", \"smoothy\", \"smoothy\", \"smoothy\", \"smoothy\", \"soap\", \"soap\", \"soap\", \"soap\", \"soap\", \"soap\", \"soap_dispenser\", \"soap_dispenser\", \"soap_dispenser\", \"soap_dispenser\", \"soap_dispenser\", \"soap_dispenser\", \"soap_pump\", \"soap_pump\", \"soap_pump\", \"soap_pump\", \"soap_pump\", \"soap_pump\", \"sofa\", \"sofa\", \"sofa\", \"sofa\", \"sofa\", \"sofa\", \"sofa\", \"soft_cozy\", \"soft_cozy\", \"soft_cozy\", \"soft_cozy\", \"soft_cozy\", \"soft_cozy\", \"sound\", \"sound\", \"sound\", \"sound\", \"sound\", \"sound\", \"sound\", \"spatula\", \"spatula\", \"spatula\", \"spatula\", \"spatula\", \"spatula\", \"spice\", \"spice\", \"spice\", \"spice\", \"spice\", \"spice\", \"spice_jar\", \"spice_jar\", \"spice_jar\", \"spice_jar\", \"spice_jar\", \"spice_jar\", \"spice_rack\", \"spice_rack\", \"spice_rack\", \"spice_rack\", \"spice_rack\", \"spice_rack\", \"spoon\", \"spoon\", \"spoon\", \"spoon\", \"spoon\", \"spoon\", \"spoon_rest\", \"spoon_rest\", \"spoon_rest\", \"spoon_rest\", \"spoon_rest\", \"spoon_rest\", \"stainless\", \"stainless\", \"stainless\", \"stainless\", \"stainless\", \"stainless\", \"stainless\", \"stand\", \"stand\", \"stand\", \"stand\", \"stand\", \"stand\", \"stand\", \"starbucks\", \"starbucks\", \"starbucks\", \"starbucks\", \"starbucks\", \"starbucks\", \"statue\", \"statue\", \"statue\", \"statue\", \"statue\", \"statue\", \"statue\", \"steak\", \"steak\", \"steak\", \"steak\", \"steak\", \"steak\", \"steel\", \"steel\", \"steel\", \"steel\", \"steel\", \"steel\", \"steel\", \"stemless\", \"stemless\", \"stemless\", \"stemless\", \"stemless\", \"stemless\", \"step_stool\", \"step_stool\", \"step_stool\", \"step_stool\", \"step_stool\", \"step_stool\", \"stool\", \"stool\", \"stool\", \"stool\", \"stool\", \"stool\", \"stopped_working\", \"stopped_working\", \"stopped_working\", \"stopped_working\", \"stopped_working\", \"stopped_working\", \"storage\", \"storage\", \"storage\", \"storage\", \"storage\", \"storage\", \"storage\", \"strainer\", \"strainer\", \"strainer\", \"strainer\", \"strainer\", \"strainer\", \"strap\", \"strap\", \"strap\", \"strap\", \"strap\", \"strap\", \"strap\", \"straw\", \"straw\", \"straw\", \"straw\", \"straw\", \"straw\", \"straw\", \"stud\", \"stud\", \"stud\", \"stud\", \"stud\", \"stud\", \"stud\", \"suction_cup\", \"suction_cup\", \"suction_cup\", \"suction_cup\", \"suction_cup\", \"suction_cup\", \"support\", \"support\", \"support\", \"support\", \"support\", \"support\", \"support\", \"supportive\", \"supportive\", \"supportive\", \"supportive\", \"supportive\", \"supportive\", \"sweeper\", \"sweeper\", \"sweeper\", \"sweeper\", \"sweeper\", \"sweeper\", \"switch\", \"switch\", \"switch\", \"switch\", \"switch\", \"switch\", \"switch\", \"tablecloth\", \"tablecloth\", \"tablecloth\", \"tablecloth\", \"tablecloth\", \"tablecloth\", \"tablecloth\", \"taste\", \"taste\", \"taste\", \"taste\", \"taste\", \"taste\", \"taste\", \"tea\", \"tea\", \"tea\", \"tea\", \"tea\", \"tea\", \"teapot\", \"teapot\", \"teapot\", \"teapot\", \"teapot\", \"teapot\", \"temperature\", \"temperature\", \"temperature\", \"temperature\", \"temperature\", \"temperature\", \"tervis_tumbler\", \"tervis_tumbler\", \"tervis_tumbler\", \"tervis_tumbler\", \"tervis_tumbler\", \"tervis_tumbler\", \"themed\", \"themed\", \"themed\", \"themed\", \"themed\", \"themed\", \"themed\", \"thermometer\", \"thermometer\", \"thermometer\", \"thermometer\", \"thermometer\", \"thermometer\", \"thermos\", \"thermos\", \"thermos\", \"thermos\", \"thermos\", \"thermos\", \"thread_count\", \"thread_count\", \"thread_count\", \"thread_count\", \"thread_count\", \"thread_count\", \"throw\", \"throw\", \"throw\", \"throw\", \"throw\", \"throw\", \"throw\", \"timer\", \"timer\", \"timer\", \"timer\", \"timer\", \"timer\", \"toast\", \"toast\", \"toast\", \"toast\", \"toast\", \"toast\", \"toaster\", \"toaster\", \"toaster\", \"toaster\", \"toaster\", \"toaster\", \"toaster_oven\", \"toaster_oven\", \"toaster_oven\", \"toaster_oven\", \"toaster_oven\", \"toaster_oven\", \"toilet\", \"toilet\", \"toilet\", \"toilet\", \"toilet\", \"toilet\", \"toilet\", \"toilet_brush\", \"toilet_brush\", \"toilet_brush\", \"toilet_brush\", \"toilet_brush\", \"toilet_brush\", \"tongs\", \"tongs\", \"tongs\", \"tongs\", \"tongs\", \"tongs\", \"tool\", \"tool\", \"tool\", \"tool\", \"tool\", \"tool\", \"tool\", \"toothbrush\", \"toothbrush\", \"toothbrush\", \"toothbrush\", \"toothbrush\", \"toothbrush\", \"toothbrush_holder\", \"toothbrush_holder\", \"toothbrush_holder\", \"toothbrush_holder\", \"toothbrush_holder\", \"toothbrush_holder\", \"toothpaste\", \"toothpaste\", \"toothpaste\", \"toothpaste\", \"toothpaste\", \"toothpaste\", \"topper\", \"topper\", \"topper\", \"topper\", \"topper\", \"topper\", \"topper\", \"towel\", \"towel\", \"towel\", \"towel\", \"towel\", \"towel\", \"towel\", \"trash\", \"trash\", \"trash\", \"trash\", \"trash\", \"trash\", \"trash\", \"trash_can\", \"trash_can\", \"trash_can\", \"trash_can\", \"trash_can\", \"trash_can\", \"tray\", \"tray\", \"tray\", \"tray\", \"tray\", \"tray\", \"tray\", \"tree\", \"tree\", \"tree\", \"tree\", \"tree\", \"tree\", \"tree\", \"tumbler\", \"tumbler\", \"tumbler\", \"tumbler\", \"tumbler\", \"tumbler\", \"turn\", \"turn\", \"turn\", \"turn\", \"turn\", \"turn\", \"turn\", \"unit\", \"unit\", \"unit\", \"unit\", \"unit\", \"unit\", \"unit\", \"utensil\", \"utensil\", \"utensil\", \"utensil\", \"utensil\", \"utensil\", \"utensil\", \"vacuum\", \"vacuum\", \"vacuum\", \"vacuum\", \"vacuum\", \"vacuum\", \"vacuum_cleaner\", \"vacuum_cleaner\", \"vacuum_cleaner\", \"vacuum_cleaner\", \"vacuum_cleaner\", \"vacuum_cleaner\", \"vacuuming\", \"vacuuming\", \"vacuuming\", \"vacuuming\", \"vacuuming\", \"vacuuming\", \"valance\", \"valance\", \"valance\", \"valance\", \"valance\", \"valance\", \"value_http\", \"value_http\", \"value_http\", \"value_http\", \"value_http\", \"value_http\", \"vas\", \"vas\", \"vas\", \"vas\", \"vas\", \"vas\", \"vas\", \"vase\", \"vase\", \"vase\", \"vase\", \"vase\", \"vase\", \"vase\", \"video_block\", \"video_block\", \"video_block\", \"video_block\", \"video_block\", \"video_block\", \"votive\", \"votive\", \"votive\", \"votive\", \"votive\", \"votive\", \"wall\", \"wall\", \"wall\", \"wall\", \"wall\", \"wall\", \"wall\", \"warm\", \"warm\", \"warm\", \"warm\", \"warm\", \"warm\", \"washed\", \"washed\", \"washed\", \"washed\", \"washed\", \"washed\", \"washed\", \"washing\", \"washing\", \"washing\", \"washing\", \"washing\", \"washing\", \"wedding\", \"wedding\", \"wedding\", \"wedding\", \"wedding\", \"wedding\", \"wedding\", \"white_noise\", \"white_noise\", \"white_noise\", \"white_noise\", \"white_noise\", \"white_noise\", \"wick\", \"wick\", \"wick\", \"wick\", \"wick\", \"wick\", \"willow\", \"willow\", \"willow\", \"willow\", \"willow\", \"willow\", \"willow\", \"willow_tree\", \"willow_tree\", \"willow_tree\", \"willow_tree\", \"willow_tree\", \"willow_tree\", \"willow_tree\", \"window\", \"window\", \"window\", \"window\", \"window\", \"window\", \"window\", \"window_film\", \"window_film\", \"window_film\", \"window_film\", \"window_film\", \"window_film\", \"wine\", \"wine\", \"wine\", \"wine\", \"wine\", \"wine\", \"wine\", \"wine_bottle\", \"wine_bottle\", \"wine_bottle\", \"wine_bottle\", \"wine_bottle\", \"wine_bottle\", \"wine_lover\", \"wine_lover\", \"wine_lover\", \"wine_lover\", \"wine_lover\", \"wine_lover\", \"wine_opener\", \"wine_opener\", \"wine_opener\", \"wine_opener\", \"wine_opener\", \"wine_opener\", \"wine_stopper\", \"wine_stopper\", \"wine_stopper\", \"wine_stopper\", \"wine_stopper\", \"wine_stopper\", \"wood\", \"wood\", \"wood\", \"wood\", \"wood\", \"wood\", \"wood\", \"working\", \"working\", \"working\", \"working\", \"working\", \"working\", \"working\", \"wreath\", \"wreath\", \"wreath\", \"wreath\", \"wreath\", \"wreath\", \"wreath\", \"wrinkle\", \"wrinkle\", \"wrinkle\", \"wrinkle\", \"wrinkle\", \"wrinkle\", \"wrinkle\", \"yankee_candle\", \"yankee_candle\", \"yankee_candle\", \"yankee_candle\", \"yankee_candle\", \"yankee_candle\", \"yogurt\", \"yogurt\", \"yogurt\", \"yogurt\", \"yogurt\", \"yogurt\", \"zipper\", \"zipper\", \"zipper\", \"zipper\", \"zipper\", \"zipper\", \"zipper\"]}, \"R\": 30, \"lambda.step\": 0.01, \"plot.opts\": {\"xlab\": \"PC1\", \"ylab\": \"PC2\"}, \"topic.order\": [1, 2, 4, 6, 5, 3, 7]};\n",
       "\n",
       "function LDAvis_load_lib(url, callback){\n",
       "  var s = document.createElement('script');\n",
       "  s.src = url;\n",
       "  s.async = true;\n",
       "  s.onreadystatechange = s.onload = callback;\n",
       "  s.onerror = function(){console.warn(\"failed to load library \" + url);};\n",
       "  document.getElementsByTagName(\"head\")[0].appendChild(s);\n",
       "}\n",
       "\n",
       "if(typeof(LDAvis) !== \"undefined\"){\n",
       "   // already loaded: just create the visualization\n",
       "   !function(LDAvis){\n",
       "       new LDAvis(\"#\" + \"ldavis_el1469627262204579287786586544\", ldavis_el1469627262204579287786586544_data);\n",
       "   }(LDAvis);\n",
       "}else if(typeof define === \"function\" && define.amd){\n",
       "   // require.js is available: use it to load d3/LDAvis\n",
       "   require.config({paths: {d3: \"https://cdnjs.cloudflare.com/ajax/libs/d3/3.5.5/d3.min\"}});\n",
       "   require([\"d3\"], function(d3){\n",
       "      window.d3 = d3;\n",
       "      LDAvis_load_lib(\"https://cdn.rawgit.com/bmabey/pyLDAvis/files/ldavis.v1.0.0.js\", function(){\n",
       "        new LDAvis(\"#\" + \"ldavis_el1469627262204579287786586544\", ldavis_el1469627262204579287786586544_data);\n",
       "      });\n",
       "    });\n",
       "}else{\n",
       "    // require.js not available: dynamically load d3 & LDAvis\n",
       "    LDAvis_load_lib(\"https://cdnjs.cloudflare.com/ajax/libs/d3/3.5.5/d3.min.js\", function(){\n",
       "         LDAvis_load_lib(\"https://cdn.rawgit.com/bmabey/pyLDAvis/files/ldavis.v1.0.0.js\", function(){\n",
       "                 new LDAvis(\"#\" + \"ldavis_el1469627262204579287786586544\", ldavis_el1469627262204579287786586544_data);\n",
       "            })\n",
       "         });\n",
       "}\n",
       "</script>"
      ],
      "text/plain": [
       "<IPython.core.display.HTML object>"
      ]
     },
     "execution_count": 28,
     "metadata": {},
     "output_type": "execute_result"
    }
   ],
   "source": [
    "pyLDAvis.display(vis)"
   ]
  },
  {
   "cell_type": "code",
   "execution_count": 29,
   "metadata": {},
   "outputs": [],
   "source": [
    "#save pyLDAvis as html\n",
    "pyLDAvis.save_html(vis,\"vis.html\")"
   ]
  },
  {
   "cell_type": "code",
   "execution_count": 30,
   "metadata": {},
   "outputs": [
    {
     "name": "stdout",
     "output_type": "stream",
     "text": [
      "[1, 2, 4, 6, 5, 3, 7]\n"
     ]
    }
   ],
   "source": [
    "print(vis.topic_order)"
   ]
  },
  {
   "cell_type": "markdown",
   "metadata": {},
   "source": [
    "#### The topic order here is different than gensim\n",
    "#### Notice that in gensim topic starte from 0, in PyLDAvis topic starts from 1"
   ]
  }
 ],
 "metadata": {
  "kernelspec": {
   "display_name": "Python 3",
   "language": "python",
   "name": "python3"
  }
 },
 "nbformat": 4,
 "nbformat_minor": 4
}
