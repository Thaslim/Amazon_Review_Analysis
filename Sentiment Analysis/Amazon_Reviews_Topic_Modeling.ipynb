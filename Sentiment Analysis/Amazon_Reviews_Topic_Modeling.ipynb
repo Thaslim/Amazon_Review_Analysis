{
 "cells": [
  {
   "cell_type": "markdown",
   "metadata": {},
   "source": [
    "# Topic modeling and setiment analysis on Amazon reviews dataset"
   ]
  },
  {
   "cell_type": "markdown",
   "metadata": {},
   "source": [
    "Goal: Applying Topic modeling and performing sentiment analysis on the reviews provided by users for each product\n",
    "Dataset Size : 19525627 rows after performing the initial data cleaning \n",
    "Instead of performing on the complete dataset we are trying for first 50 rows for the initial performance analysis( part of this experiment is in progress). Our next experiment will be to run this on group of product IDs based on thier reviews"
   ]
  },
  {
   "cell_type": "code",
   "execution_count": 1,
   "metadata": {},
   "outputs": [],
   "source": [
    "#Uploading necessary libraries\n",
    "import re\n",
    "import numpy as np\n",
    "import pandas as pd\n",
    "from pprint import pprint"
   ]
  },
  {
   "cell_type": "code",
   "execution_count": 3,
   "metadata": {},
   "outputs": [],
   "source": [
    "# Gensim is library mostly suitable for topic modeling andnatural laguage processing\n",
    "import gensim\n",
    "import gensim.corpora as corpora\n",
    "from gensim.utils import simple_preprocess\n",
    "from gensim.models import CoherenceModel"
   ]
  },
  {
   "cell_type": "code",
   "execution_count": 4,
   "metadata": {},
   "outputs": [],
   "source": [
    "# spacy for lemmatization\n",
    "import spacy\n",
    "\n",
    "# Plotting tools for topics genrated\n",
    "import pyLDAvis\n",
    "import pyLDAvis.gensim  # don't skip this\n",
    "import matplotlib.pyplot as plt\n",
    "%matplotlib inline\n",
    "\n",
    "# Enable logging for gensim - optional\n",
    "import logging\n",
    "logging.basicConfig(format='%(asctime)s : %(levelname)s : %(message)s', level=logging.ERROR)\n",
    "\n",
    "import warnings\n",
    "warnings.filterwarnings(\"ignore\",category=DeprecationWarning)"
   ]
  },
  {
   "cell_type": "code",
   "execution_count": 5,
   "metadata": {},
   "outputs": [
    {
     "name": "stderr",
     "output_type": "stream",
     "text": [
      "C:\\Users\\sprad\\anaconda3\\lib\\site-packages\\numpy\\lib\\arraysetops.py:569: FutureWarning: elementwise comparison failed; returning scalar instead, but in the future will perform elementwise comparison\n",
      "  mask |= (ar1 == a)\n"
     ]
    }
   ],
   "source": [
    "#Uploading data\n",
    "df = pd.read_csv(r\"C:\\Users\\sprad\\Desktop\\Amazon_Reviews_datasets\\Clean_data.csv\", index_col = 0)"
   ]
  },
  {
   "cell_type": "code",
   "execution_count": 6,
   "metadata": {
    "scrolled": true
   },
   "outputs": [
    {
     "data": {
      "text/plain": [
       "(19525627, 5)"
      ]
     },
     "execution_count": 6,
     "metadata": {},
     "output_type": "execute_result"
    }
   ],
   "source": [
    "df.shape"
   ]
  },
  {
   "cell_type": "code",
   "execution_count": 7,
   "metadata": {},
   "outputs": [
    {
     "data": {
      "text/plain": [
       "(9083456, 1237730)"
      ]
     },
     "execution_count": 7,
     "metadata": {},
     "output_type": "execute_result"
    }
   ],
   "source": [
    "#Retrieving unique ProductIds\n",
    "unique_reviewIds = df.reviewerID.unique()\n",
    "unique_ProductIds = df.asin.unique()\n",
    "unique_reviewIds.size, unique_ProductIds.size"
   ]
  },
  {
   "cell_type": "code",
   "execution_count": 8,
   "metadata": {},
   "outputs": [
    {
     "data": {
      "text/html": [
       "<div>\n",
       "<style scoped>\n",
       "    .dataframe tbody tr th:only-of-type {\n",
       "        vertical-align: middle;\n",
       "    }\n",
       "\n",
       "    .dataframe tbody tr th {\n",
       "        vertical-align: top;\n",
       "    }\n",
       "\n",
       "    .dataframe thead th {\n",
       "        text-align: right;\n",
       "    }\n",
       "</style>\n",
       "<table border=\"1\" class=\"dataframe\">\n",
       "  <thead>\n",
       "    <tr style=\"text-align: right;\">\n",
       "      <th></th>\n",
       "      <th>overall</th>\n",
       "      <th>reviewerID</th>\n",
       "      <th>asin</th>\n",
       "      <th>reviewText</th>\n",
       "      <th>rev_date</th>\n",
       "    </tr>\n",
       "  </thead>\n",
       "  <tbody>\n",
       "    <tr>\n",
       "      <th>0</th>\n",
       "      <td>5.0</td>\n",
       "      <td>A84J7PUWOC138</td>\n",
       "      <td>B00004SPEM</td>\n",
       "      <td>For drip coffee at home, you can't go wrong wi...</td>\n",
       "      <td>2000-05-04</td>\n",
       "    </tr>\n",
       "    <tr>\n",
       "      <th>1</th>\n",
       "      <td>4.0</td>\n",
       "      <td>A2MNB77YGJ3CN0</td>\n",
       "      <td>B00004R940</td>\n",
       "      <td>I'll admit it -- I'm a bit of a snob when it c...</td>\n",
       "      <td>2000-05-07</td>\n",
       "    </tr>\n",
       "    <tr>\n",
       "      <th>2</th>\n",
       "      <td>5.0</td>\n",
       "      <td>A2Y8K7GP1QXUF4</td>\n",
       "      <td>B00004RFLJ</td>\n",
       "      <td>This is perfection.  You will never use a bett...</td>\n",
       "      <td>2000-05-15</td>\n",
       "    </tr>\n",
       "    <tr>\n",
       "      <th>3</th>\n",
       "      <td>5.0</td>\n",
       "      <td>A3MDOV15JHNLB2</td>\n",
       "      <td>B00004SAF7</td>\n",
       "      <td>This corkscrew is amazing.  There are several ...</td>\n",
       "      <td>2000-05-16</td>\n",
       "    </tr>\n",
       "    <tr>\n",
       "      <th>4</th>\n",
       "      <td>5.0</td>\n",
       "      <td>A1LUUO72VAFKFJ</td>\n",
       "      <td>B00004S4TZ</td>\n",
       "      <td>Maybe when Mom cooked for a big family every d...</td>\n",
       "      <td>2000-05-19</td>\n",
       "    </tr>\n",
       "  </tbody>\n",
       "</table>\n",
       "</div>"
      ],
      "text/plain": [
       "   overall      reviewerID        asin  \\\n",
       "0      5.0   A84J7PUWOC138  B00004SPEM   \n",
       "1      4.0  A2MNB77YGJ3CN0  B00004R940   \n",
       "2      5.0  A2Y8K7GP1QXUF4  B00004RFLJ   \n",
       "3      5.0  A3MDOV15JHNLB2  B00004SAF7   \n",
       "4      5.0  A1LUUO72VAFKFJ  B00004S4TZ   \n",
       "\n",
       "                                          reviewText    rev_date  \n",
       "0  For drip coffee at home, you can't go wrong wi...  2000-05-04  \n",
       "1  I'll admit it -- I'm a bit of a snob when it c...  2000-05-07  \n",
       "2  This is perfection.  You will never use a bett...  2000-05-15  \n",
       "3  This corkscrew is amazing.  There are several ...  2000-05-16  \n",
       "4  Maybe when Mom cooked for a big family every d...  2000-05-19  "
      ]
     },
     "execution_count": 8,
     "metadata": {},
     "output_type": "execute_result"
    }
   ],
   "source": [
    "#Slicing the first 50 unique productIds and retrieving their respected reviewtext\n",
    "productIds= unique_ProductIds[:50]\n",
    "productIds_list = productIds.tolist()\n",
    "product_reviews = df[df['asin'].isin(productIds_list)]\n",
    "product_reviews.head()"
   ]
  },
  {
   "cell_type": "code",
   "execution_count": 9,
   "metadata": {},
   "outputs": [
    {
     "data": {
      "text/plain": [
       "(5843, 5)"
      ]
     },
     "execution_count": 9,
     "metadata": {},
     "output_type": "execute_result"
    }
   ],
   "source": [
    "product_reviews.shape"
   ]
  },
  {
   "cell_type": "code",
   "execution_count": 11,
   "metadata": {},
   "outputs": [
    {
     "data": {
      "text/plain": [
       "((5843, 5), 5800)"
      ]
     },
     "execution_count": 11,
     "metadata": {},
     "output_type": "execute_result"
    }
   ],
   "source": [
    "#comparing the reviewIDs and their productID count. We can infer from the output that for 5800 productIds there are 5843 reviews\n",
    "product_reviews_unique_reviewIds = product_reviews.reviewerID.unique()\n",
    "product_reviews.shape,product_reviews_unique_reviewIds.size"
   ]
  },
  {
   "cell_type": "code",
   "execution_count": 12,
   "metadata": {},
   "outputs": [
    {
     "data": {
      "text/html": [
       "<div>\n",
       "<style scoped>\n",
       "    .dataframe tbody tr th:only-of-type {\n",
       "        vertical-align: middle;\n",
       "    }\n",
       "\n",
       "    .dataframe tbody tr th {\n",
       "        vertical-align: top;\n",
       "    }\n",
       "\n",
       "    .dataframe thead th {\n",
       "        text-align: right;\n",
       "    }\n",
       "</style>\n",
       "<table border=\"1\" class=\"dataframe\">\n",
       "  <thead>\n",
       "    <tr style=\"text-align: right;\">\n",
       "      <th></th>\n",
       "      <th>product_ID</th>\n",
       "      <th>sentences</th>\n",
       "    </tr>\n",
       "  </thead>\n",
       "  <tbody>\n",
       "    <tr>\n",
       "      <th>0</th>\n",
       "      <td>B00004SPEM</td>\n",
       "      <td>For drip coffee at home, you can't go wrong wi...</td>\n",
       "    </tr>\n",
       "    <tr>\n",
       "      <th>1</th>\n",
       "      <td>B00004SPEM</td>\n",
       "      <td>It's simple</td>\n",
       "    </tr>\n",
       "    <tr>\n",
       "      <th>2</th>\n",
       "      <td>B00004SPEM</td>\n",
       "      <td>It filters the water, and it's easy to use</td>\n",
       "    </tr>\n",
       "    <tr>\n",
       "      <th>3</th>\n",
       "      <td>B00004SPEM</td>\n",
       "      <td>It doesn't leak all over the counter or have...</td>\n",
       "    </tr>\n",
       "    <tr>\n",
       "      <th>4</th>\n",
       "      <td>B00004SPEM</td>\n",
       "      <td>I've had both these problems with  other, mo...</td>\n",
       "    </tr>\n",
       "    <tr>\n",
       "      <th>...</th>\n",
       "      <td>...</td>\n",
       "      <td>...</td>\n",
       "    </tr>\n",
       "    <tr>\n",
       "      <th>26296</th>\n",
       "      <td>B00004UE75</td>\n",
       "      <td>Do not purchase //Reject</td>\n",
       "    </tr>\n",
       "    <tr>\n",
       "      <th>26297</th>\n",
       "      <td>B00004SGFA</td>\n",
       "      <td>I didn't realize this was a thing! So thankful...</td>\n",
       "    </tr>\n",
       "    <tr>\n",
       "      <th>26298</th>\n",
       "      <td>B00004SGFA</td>\n",
       "      <td>And its great for hiding/storing my attachmen...</td>\n",
       "    </tr>\n",
       "    <tr>\n",
       "      <th>26299</th>\n",
       "      <td>B00004SGFA</td>\n",
       "      <td>//Yes! Just yes</td>\n",
       "    </tr>\n",
       "    <tr>\n",
       "      <th>26300</th>\n",
       "      <td>B00004SGFA</td>\n",
       "      <td></td>\n",
       "    </tr>\n",
       "  </tbody>\n",
       "</table>\n",
       "<p>26301 rows × 2 columns</p>\n",
       "</div>"
      ],
      "text/plain": [
       "       product_ID                                          sentences\n",
       "0      B00004SPEM  For drip coffee at home, you can't go wrong wi...\n",
       "1      B00004SPEM                                        It's simple\n",
       "2      B00004SPEM         It filters the water, and it's easy to use\n",
       "3      B00004SPEM    It doesn't leak all over the counter or have...\n",
       "4      B00004SPEM    I've had both these problems with  other, mo...\n",
       "...           ...                                                ...\n",
       "26296  B00004UE75                           Do not purchase //Reject\n",
       "26297  B00004SGFA  I didn't realize this was a thing! So thankful...\n",
       "26298  B00004SGFA   And its great for hiding/storing my attachmen...\n",
       "26299  B00004SGFA                                    //Yes! Just yes\n",
       "26300  B00004SGFA                                                   \n",
       "\n",
       "[26301 rows x 2 columns]"
      ]
     },
     "execution_count": 12,
     "metadata": {},
     "output_type": "execute_result"
    }
   ],
   "source": [
    "#Slicing the reviews to sentences \n",
    "product_reviews_copy = product_reviews\n",
    "review_sentences = pd.DataFrame(product_reviews_copy.reviewText.str.split('.').tolist(), index=product_reviews_copy.asin).stack()\n",
    "review_sentences =review_sentences.reset_index([0, 'asin'])\n",
    "review_sentences.columns = ['product_ID', 'sentences']\n",
    "\n",
    "review_sentences"
   ]
  },
  {
   "cell_type": "code",
   "execution_count": 13,
   "metadata": {},
   "outputs": [
    {
     "data": {
      "text/html": [
       "<div>\n",
       "<style scoped>\n",
       "    .dataframe tbody tr th:only-of-type {\n",
       "        vertical-align: middle;\n",
       "    }\n",
       "\n",
       "    .dataframe tbody tr th {\n",
       "        vertical-align: top;\n",
       "    }\n",
       "\n",
       "    .dataframe thead th {\n",
       "        text-align: right;\n",
       "    }\n",
       "</style>\n",
       "<table border=\"1\" class=\"dataframe\">\n",
       "  <thead>\n",
       "    <tr style=\"text-align: right;\">\n",
       "      <th></th>\n",
       "      <th>overall</th>\n",
       "      <th>reviewerID</th>\n",
       "      <th>asin</th>\n",
       "      <th>reviewText</th>\n",
       "      <th>rev_date</th>\n",
       "      <th>product_ID</th>\n",
       "      <th>sentences</th>\n",
       "    </tr>\n",
       "  </thead>\n",
       "  <tbody>\n",
       "    <tr>\n",
       "      <th>0</th>\n",
       "      <td>5.0</td>\n",
       "      <td>A84J7PUWOC138</td>\n",
       "      <td>B00004SPEM</td>\n",
       "      <td>For drip coffee at home, you can't go wrong wi...</td>\n",
       "      <td>2000-05-04</td>\n",
       "      <td>B00004SPEM</td>\n",
       "      <td>For drip coffee at home, you can't go wrong wi...</td>\n",
       "    </tr>\n",
       "    <tr>\n",
       "      <th>1</th>\n",
       "      <td>5.0</td>\n",
       "      <td>A84J7PUWOC138</td>\n",
       "      <td>B00004SPEM</td>\n",
       "      <td>For drip coffee at home, you can't go wrong wi...</td>\n",
       "      <td>2000-05-04</td>\n",
       "      <td>B00004SPEM</td>\n",
       "      <td>It's simple</td>\n",
       "    </tr>\n",
       "    <tr>\n",
       "      <th>2</th>\n",
       "      <td>5.0</td>\n",
       "      <td>A84J7PUWOC138</td>\n",
       "      <td>B00004SPEM</td>\n",
       "      <td>For drip coffee at home, you can't go wrong wi...</td>\n",
       "      <td>2000-05-04</td>\n",
       "      <td>B00004SPEM</td>\n",
       "      <td>It filters the water, and it's easy to use</td>\n",
       "    </tr>\n",
       "    <tr>\n",
       "      <th>3</th>\n",
       "      <td>5.0</td>\n",
       "      <td>A84J7PUWOC138</td>\n",
       "      <td>B00004SPEM</td>\n",
       "      <td>For drip coffee at home, you can't go wrong wi...</td>\n",
       "      <td>2000-05-04</td>\n",
       "      <td>B00004SPEM</td>\n",
       "      <td>It doesn't leak all over the counter or have...</td>\n",
       "    </tr>\n",
       "    <tr>\n",
       "      <th>4</th>\n",
       "      <td>5.0</td>\n",
       "      <td>A84J7PUWOC138</td>\n",
       "      <td>B00004SPEM</td>\n",
       "      <td>For drip coffee at home, you can't go wrong wi...</td>\n",
       "      <td>2000-05-04</td>\n",
       "      <td>B00004SPEM</td>\n",
       "      <td>I've had both these problems with  other, mo...</td>\n",
       "    </tr>\n",
       "    <tr>\n",
       "      <th>...</th>\n",
       "      <td>...</td>\n",
       "      <td>...</td>\n",
       "      <td>...</td>\n",
       "      <td>...</td>\n",
       "      <td>...</td>\n",
       "      <td>...</td>\n",
       "      <td>...</td>\n",
       "    </tr>\n",
       "    <tr>\n",
       "      <th>16469252</th>\n",
       "      <td>5.0</td>\n",
       "      <td>A96D2IKR4GOJD</td>\n",
       "      <td>B00002ND67</td>\n",
       "      <td>nice //Five Stars</td>\n",
       "      <td>2018-05-11</td>\n",
       "      <td>B00002ND67</td>\n",
       "      <td></td>\n",
       "    </tr>\n",
       "    <tr>\n",
       "      <th>16469253</th>\n",
       "      <td>5.0</td>\n",
       "      <td>A96D2IKR4GOJD</td>\n",
       "      <td>B00002ND67</td>\n",
       "      <td>nice //Five Stars</td>\n",
       "      <td>2018-05-11</td>\n",
       "      <td>B00002ND67</td>\n",
       "      <td>Works as advertised</td>\n",
       "    </tr>\n",
       "    <tr>\n",
       "      <th>16469254</th>\n",
       "      <td>5.0</td>\n",
       "      <td>A96D2IKR4GOJD</td>\n",
       "      <td>B00002ND67</td>\n",
       "      <td>nice //Five Stars</td>\n",
       "      <td>2018-05-11</td>\n",
       "      <td>B00002ND67</td>\n",
       "      <td>//Five Stars</td>\n",
       "    </tr>\n",
       "    <tr>\n",
       "      <th>16469255</th>\n",
       "      <td>5.0</td>\n",
       "      <td>A96D2IKR4GOJD</td>\n",
       "      <td>B00002ND67</td>\n",
       "      <td>nice //Five Stars</td>\n",
       "      <td>2018-05-11</td>\n",
       "      <td>B00002ND67</td>\n",
       "      <td>No fan in site //One Star</td>\n",
       "    </tr>\n",
       "    <tr>\n",
       "      <th>16469256</th>\n",
       "      <td>5.0</td>\n",
       "      <td>A96D2IKR4GOJD</td>\n",
       "      <td>B00002ND67</td>\n",
       "      <td>nice //Five Stars</td>\n",
       "      <td>2018-05-11</td>\n",
       "      <td>B00002ND67</td>\n",
       "      <td>nice //Five Stars</td>\n",
       "    </tr>\n",
       "  </tbody>\n",
       "</table>\n",
       "<p>16469257 rows × 7 columns</p>\n",
       "</div>"
      ],
      "text/plain": [
       "          overall     reviewerID        asin  \\\n",
       "0             5.0  A84J7PUWOC138  B00004SPEM   \n",
       "1             5.0  A84J7PUWOC138  B00004SPEM   \n",
       "2             5.0  A84J7PUWOC138  B00004SPEM   \n",
       "3             5.0  A84J7PUWOC138  B00004SPEM   \n",
       "4             5.0  A84J7PUWOC138  B00004SPEM   \n",
       "...           ...            ...         ...   \n",
       "16469252      5.0  A96D2IKR4GOJD  B00002ND67   \n",
       "16469253      5.0  A96D2IKR4GOJD  B00002ND67   \n",
       "16469254      5.0  A96D2IKR4GOJD  B00002ND67   \n",
       "16469255      5.0  A96D2IKR4GOJD  B00002ND67   \n",
       "16469256      5.0  A96D2IKR4GOJD  B00002ND67   \n",
       "\n",
       "                                                 reviewText    rev_date  \\\n",
       "0         For drip coffee at home, you can't go wrong wi...  2000-05-04   \n",
       "1         For drip coffee at home, you can't go wrong wi...  2000-05-04   \n",
       "2         For drip coffee at home, you can't go wrong wi...  2000-05-04   \n",
       "3         For drip coffee at home, you can't go wrong wi...  2000-05-04   \n",
       "4         For drip coffee at home, you can't go wrong wi...  2000-05-04   \n",
       "...                                                     ...         ...   \n",
       "16469252                                  nice //Five Stars  2018-05-11   \n",
       "16469253                                  nice //Five Stars  2018-05-11   \n",
       "16469254                                  nice //Five Stars  2018-05-11   \n",
       "16469255                                  nice //Five Stars  2018-05-11   \n",
       "16469256                                  nice //Five Stars  2018-05-11   \n",
       "\n",
       "          product_ID                                          sentences  \n",
       "0         B00004SPEM  For drip coffee at home, you can't go wrong wi...  \n",
       "1         B00004SPEM                                        It's simple  \n",
       "2         B00004SPEM         It filters the water, and it's easy to use  \n",
       "3         B00004SPEM    It doesn't leak all over the counter or have...  \n",
       "4         B00004SPEM    I've had both these problems with  other, mo...  \n",
       "...              ...                                                ...  \n",
       "16469252  B00002ND67                                                     \n",
       "16469253  B00002ND67                                Works as advertised  \n",
       "16469254  B00002ND67                                       //Five Stars  \n",
       "16469255  B00002ND67                          No fan in site //One Star  \n",
       "16469256  B00002ND67                                  nice //Five Stars  \n",
       "\n",
       "[16469257 rows x 7 columns]"
      ]
     },
     "execution_count": 13,
     "metadata": {},
     "output_type": "execute_result"
    }
   ],
   "source": [
    "# Merging the two dataframes to get reviewer ID and over all rating\n",
    "product_reviews_final = product_reviews_copy.merge(review_sentences, how='inner', left_on='asin', right_on='product_ID')\n",
    "product_reviews_final"
   ]
  },
  {
   "cell_type": "code",
   "execution_count": 14,
   "metadata": {},
   "outputs": [
    {
     "data": {
      "text/html": [
       "<div>\n",
       "<style scoped>\n",
       "    .dataframe tbody tr th:only-of-type {\n",
       "        vertical-align: middle;\n",
       "    }\n",
       "\n",
       "    .dataframe tbody tr th {\n",
       "        vertical-align: top;\n",
       "    }\n",
       "\n",
       "    .dataframe thead th {\n",
       "        text-align: right;\n",
       "    }\n",
       "</style>\n",
       "<table border=\"1\" class=\"dataframe\">\n",
       "  <thead>\n",
       "    <tr style=\"text-align: right;\">\n",
       "      <th></th>\n",
       "      <th>overall</th>\n",
       "      <th>reviewerID</th>\n",
       "      <th>asin</th>\n",
       "      <th>reviewText</th>\n",
       "      <th>rev_date</th>\n",
       "      <th>product_ID</th>\n",
       "      <th>sentences</th>\n",
       "    </tr>\n",
       "  </thead>\n",
       "  <tbody>\n",
       "    <tr>\n",
       "      <th>0</th>\n",
       "      <td>5.0</td>\n",
       "      <td>A84J7PUWOC138</td>\n",
       "      <td>B00004SPEM</td>\n",
       "      <td>For drip coffee at home, you can't go wrong wi...</td>\n",
       "      <td>2000-05-04</td>\n",
       "      <td>B00004SPEM</td>\n",
       "      <td>For drip coffee at home, you can't go wrong wi...</td>\n",
       "    </tr>\n",
       "    <tr>\n",
       "      <th>1</th>\n",
       "      <td>5.0</td>\n",
       "      <td>A84J7PUWOC138</td>\n",
       "      <td>B00004SPEM</td>\n",
       "      <td>For drip coffee at home, you can't go wrong wi...</td>\n",
       "      <td>2000-05-04</td>\n",
       "      <td>B00004SPEM</td>\n",
       "      <td>It's simple</td>\n",
       "    </tr>\n",
       "    <tr>\n",
       "      <th>2</th>\n",
       "      <td>5.0</td>\n",
       "      <td>A84J7PUWOC138</td>\n",
       "      <td>B00004SPEM</td>\n",
       "      <td>For drip coffee at home, you can't go wrong wi...</td>\n",
       "      <td>2000-05-04</td>\n",
       "      <td>B00004SPEM</td>\n",
       "      <td>It filters the water, and it's easy to use</td>\n",
       "    </tr>\n",
       "    <tr>\n",
       "      <th>3</th>\n",
       "      <td>5.0</td>\n",
       "      <td>A84J7PUWOC138</td>\n",
       "      <td>B00004SPEM</td>\n",
       "      <td>For drip coffee at home, you can't go wrong wi...</td>\n",
       "      <td>2000-05-04</td>\n",
       "      <td>B00004SPEM</td>\n",
       "      <td>It doesn't leak all over the counter or have...</td>\n",
       "    </tr>\n",
       "    <tr>\n",
       "      <th>4</th>\n",
       "      <td>5.0</td>\n",
       "      <td>A84J7PUWOC138</td>\n",
       "      <td>B00004SPEM</td>\n",
       "      <td>For drip coffee at home, you can't go wrong wi...</td>\n",
       "      <td>2000-05-04</td>\n",
       "      <td>B00004SPEM</td>\n",
       "      <td>I've had both these problems with  other, mo...</td>\n",
       "    </tr>\n",
       "  </tbody>\n",
       "</table>\n",
       "</div>"
      ],
      "text/plain": [
       "   overall     reviewerID        asin  \\\n",
       "0      5.0  A84J7PUWOC138  B00004SPEM   \n",
       "1      5.0  A84J7PUWOC138  B00004SPEM   \n",
       "2      5.0  A84J7PUWOC138  B00004SPEM   \n",
       "3      5.0  A84J7PUWOC138  B00004SPEM   \n",
       "4      5.0  A84J7PUWOC138  B00004SPEM   \n",
       "\n",
       "                                          reviewText    rev_date  product_ID  \\\n",
       "0  For drip coffee at home, you can't go wrong wi...  2000-05-04  B00004SPEM   \n",
       "1  For drip coffee at home, you can't go wrong wi...  2000-05-04  B00004SPEM   \n",
       "2  For drip coffee at home, you can't go wrong wi...  2000-05-04  B00004SPEM   \n",
       "3  For drip coffee at home, you can't go wrong wi...  2000-05-04  B00004SPEM   \n",
       "4  For drip coffee at home, you can't go wrong wi...  2000-05-04  B00004SPEM   \n",
       "\n",
       "                                           sentences  \n",
       "0  For drip coffee at home, you can't go wrong wi...  \n",
       "1                                        It's simple  \n",
       "2         It filters the water, and it's easy to use  \n",
       "3    It doesn't leak all over the counter or have...  \n",
       "4    I've had both these problems with  other, mo...  "
      ]
     },
     "execution_count": 14,
     "metadata": {},
     "output_type": "execute_result"
    }
   ],
   "source": [
    "product_reviews_final.head()"
   ]
  },
  {
   "cell_type": "code",
   "execution_count": 15,
   "metadata": {},
   "outputs": [],
   "source": [
    "df_final = product_reviews_final.drop(['reviewText', 'rev_date', 'product_ID'], axis = 1) #, "
   ]
  },
  {
   "cell_type": "code",
   "execution_count": 16,
   "metadata": {},
   "outputs": [
    {
     "data": {
      "text/html": [
       "<div>\n",
       "<style scoped>\n",
       "    .dataframe tbody tr th:only-of-type {\n",
       "        vertical-align: middle;\n",
       "    }\n",
       "\n",
       "    .dataframe tbody tr th {\n",
       "        vertical-align: top;\n",
       "    }\n",
       "\n",
       "    .dataframe thead th {\n",
       "        text-align: right;\n",
       "    }\n",
       "</style>\n",
       "<table border=\"1\" class=\"dataframe\">\n",
       "  <thead>\n",
       "    <tr style=\"text-align: right;\">\n",
       "      <th></th>\n",
       "      <th>overall</th>\n",
       "      <th>reviewerID</th>\n",
       "      <th>asin</th>\n",
       "      <th>sentences</th>\n",
       "    </tr>\n",
       "  </thead>\n",
       "  <tbody>\n",
       "    <tr>\n",
       "      <th>0</th>\n",
       "      <td>5.0</td>\n",
       "      <td>A84J7PUWOC138</td>\n",
       "      <td>B00004SPEM</td>\n",
       "      <td>For drip coffee at home, you can't go wrong wi...</td>\n",
       "    </tr>\n",
       "    <tr>\n",
       "      <th>1</th>\n",
       "      <td>5.0</td>\n",
       "      <td>A84J7PUWOC138</td>\n",
       "      <td>B00004SPEM</td>\n",
       "      <td>It's simple</td>\n",
       "    </tr>\n",
       "    <tr>\n",
       "      <th>2</th>\n",
       "      <td>5.0</td>\n",
       "      <td>A84J7PUWOC138</td>\n",
       "      <td>B00004SPEM</td>\n",
       "      <td>It filters the water, and it's easy to use</td>\n",
       "    </tr>\n",
       "    <tr>\n",
       "      <th>3</th>\n",
       "      <td>5.0</td>\n",
       "      <td>A84J7PUWOC138</td>\n",
       "      <td>B00004SPEM</td>\n",
       "      <td>It doesn't leak all over the counter or have...</td>\n",
       "    </tr>\n",
       "    <tr>\n",
       "      <th>4</th>\n",
       "      <td>5.0</td>\n",
       "      <td>A84J7PUWOC138</td>\n",
       "      <td>B00004SPEM</td>\n",
       "      <td>I've had both these problems with  other, mo...</td>\n",
       "    </tr>\n",
       "  </tbody>\n",
       "</table>\n",
       "</div>"
      ],
      "text/plain": [
       "   overall     reviewerID        asin  \\\n",
       "0      5.0  A84J7PUWOC138  B00004SPEM   \n",
       "1      5.0  A84J7PUWOC138  B00004SPEM   \n",
       "2      5.0  A84J7PUWOC138  B00004SPEM   \n",
       "3      5.0  A84J7PUWOC138  B00004SPEM   \n",
       "4      5.0  A84J7PUWOC138  B00004SPEM   \n",
       "\n",
       "                                           sentences  \n",
       "0  For drip coffee at home, you can't go wrong wi...  \n",
       "1                                        It's simple  \n",
       "2         It filters the water, and it's easy to use  \n",
       "3    It doesn't leak all over the counter or have...  \n",
       "4    I've had both these problems with  other, mo...  "
      ]
     },
     "execution_count": 16,
     "metadata": {},
     "output_type": "execute_result"
    }
   ],
   "source": [
    "df_final.head()"
   ]
  },
  {
   "cell_type": "code",
   "execution_count": 17,
   "metadata": {},
   "outputs": [
    {
     "data": {
      "text/plain": [
       "(16469257, 4)"
      ]
     },
     "execution_count": 17,
     "metadata": {},
     "output_type": "execute_result"
    }
   ],
   "source": [
    "df_final.shape"
   ]
  },
  {
   "cell_type": "code",
   "execution_count": 18,
   "metadata": {},
   "outputs": [
    {
     "name": "stderr",
     "output_type": "stream",
     "text": [
      "[nltk_data] Downloading package stopwords to\n",
      "[nltk_data]     C:\\Users\\sprad\\AppData\\Roaming\\nltk_data...\n",
      "[nltk_data]   Package stopwords is already up-to-date!\n"
     ]
    },
    {
     "data": {
      "text/plain": [
       "True"
      ]
     },
     "execution_count": 18,
     "metadata": {},
     "output_type": "execute_result"
    }
   ],
   "source": [
    "#Downloading stopwords\n",
    "import nltk\n",
    "nltk.download('stopwords')"
   ]
  },
  {
   "cell_type": "code",
   "execution_count": 19,
   "metadata": {},
   "outputs": [],
   "source": [
    "#Importing stopwords\n",
    "from nltk.corpus import stopwords\n",
    "stop_words = stopwords.words('english')\n",
    "stop_words.extend(['from', 'subject', 're', 'edu', 'use'])"
   ]
  },
  {
   "cell_type": "code",
   "execution_count": 20,
   "metadata": {},
   "outputs": [
    {
     "name": "stdout",
     "output_type": "stream",
     "text": [
      "[\"For drip coffee at home, you can't go wrong with this unit\"] 16469257\n"
     ]
    }
   ],
   "source": [
    "reviews_data = df_final.sentences.values.tolist()\n",
    "print(reviews_data[:1], len(reviews_data))"
   ]
  },
  {
   "cell_type": "code",
   "execution_count": 21,
   "metadata": {},
   "outputs": [
    {
     "data": {
      "text/plain": [
       "(100000, \"For drip coffee at home, you can't go wrong with this unit\")"
      ]
     },
     "execution_count": 21,
     "metadata": {},
     "output_type": "execute_result"
    }
   ],
   "source": [
    "reviews_100k = reviews_data[:100000]\n",
    "len(reviews_100k),reviews_100k[0]"
   ]
  },
  {
   "cell_type": "code",
   "execution_count": 22,
   "metadata": {},
   "outputs": [
    {
     "name": "stdout",
     "output_type": "stream",
     "text": [
      "[['for', 'drip', 'coffee', 'at', 'home', 'you', 'can', 'go', 'wrong', 'with', 'this', 'unit']]\n"
     ]
    }
   ],
   "source": [
    "def sent_to_words(sentences):\n",
    "    for sentence in sentences:\n",
    "        yield(gensim.utils.simple_preprocess(str(sentence), deacc=True))  # deacc=True removes punctuations\n",
    "\n",
    "# SPLIT SENTENCES INTO TOKENS\n",
    "\n",
    "# reviews_data_100p__30000r_words = list(sent_to_words(reviews_data_100p_30000))\n",
    "# print(reviews_data_100p__30000r_words[:1])\n",
    "\n",
    "\n",
    "reviews_100k_words = list(sent_to_words(reviews_100k))\n",
    "print(reviews_100k_words[:1])"
   ]
  },
  {
   "cell_type": "code",
   "execution_count": 23,
   "metadata": {},
   "outputs": [
    {
     "name": "stdout",
     "output_type": "stream",
     "text": [
      "['for', 'drip', 'coffee', 'at', 'home', 'you', 'can', 'go', 'wrong', 'with', 'this', 'unit']\n"
     ]
    }
   ],
   "source": [
    "# Build the bigram and trigram models FOR 30000\n",
    "\n",
    "bigram = gensim.models.Phrases(reviews_100k_words, min_count=5, threshold=100) # higher threshold fewer phrases.\n",
    "trigram = gensim.models.Phrases(bigram[reviews_100k_words], threshold=100)  \n",
    "\n",
    "# Faster way to get a sentence clubbed as a trigram/bigram\n",
    "bigram_mod = gensim.models.phrases.Phraser(bigram)\n",
    "trigram_mod = gensim.models.phrases.Phraser(trigram)\n",
    "\n",
    "# See trigram example\n",
    "print(trigram_mod[bigram_mod[reviews_100k_words[0]]])"
   ]
  },
  {
   "cell_type": "code",
   "execution_count": 24,
   "metadata": {},
   "outputs": [],
   "source": [
    "# Define functions for stopwords, bigrams, trigrams and lemmatization\n",
    "def remove_stopwords(texts):\n",
    "    return [[word for word in simple_preprocess(str(doc)) if word not in stop_words] for doc in texts]\n",
    "\n",
    "def make_bigrams(texts):\n",
    "    return [bigram_mod[doc] for doc in texts]\n",
    "\n",
    "def make_trigrams(texts):\n",
    "    return [trigram_mod[bigram_mod[doc]] for doc in texts]\n",
    "\n",
    "def lemmatization(texts, allowed_postags=['NOUN', 'ADJ', 'VERB', 'ADV']):\n",
    "    \"\"\"https://spacy.io/api/annotation\"\"\"\n",
    "    texts_out = []\n",
    "    for sent in texts:\n",
    "        doc = nlp(\" \".join(sent)) \n",
    "        texts_out.append([token.lemma_ for token in doc if token.pos_ in allowed_postags])\n",
    "    return texts_out"
   ]
  },
  {
   "cell_type": "code",
   "execution_count": 25,
   "metadata": {},
   "outputs": [
    {
     "data": {
      "text/plain": [
       "[['for',\n",
       "  'drip',\n",
       "  'coffee',\n",
       "  'at',\n",
       "  'home',\n",
       "  'you',\n",
       "  'can',\n",
       "  'go',\n",
       "  'wrong',\n",
       "  'with',\n",
       "  'this',\n",
       "  'unit']]"
      ]
     },
     "execution_count": 25,
     "metadata": {},
     "output_type": "execute_result"
    }
   ],
   "source": [
    "reviews_100k_words[:1]"
   ]
  },
  {
   "cell_type": "code",
   "execution_count": 26,
   "metadata": {},
   "outputs": [
    {
     "data": {
      "text/plain": [
       "[['drip', 'coffee', 'home', 'go', 'wrong', 'unit']]"
      ]
     },
     "execution_count": 26,
     "metadata": {},
     "output_type": "execute_result"
    }
   ],
   "source": [
    "data_words_nostops = remove_stopwords(reviews_100k_words)\n",
    "data_words_nostops[:1]"
   ]
  },
  {
   "cell_type": "code",
   "execution_count": 27,
   "metadata": {},
   "outputs": [
    {
     "data": {
      "text/plain": [
       "[['drip', 'coffee', 'home', 'go', 'wrong', 'unit']]"
      ]
     },
     "execution_count": 27,
     "metadata": {},
     "output_type": "execute_result"
    }
   ],
   "source": [
    "data_words_bigrams = make_bigrams(data_words_nostops)\n",
    "data_words_bigrams[:1]"
   ]
  },
  {
   "cell_type": "code",
   "execution_count": 28,
   "metadata": {},
   "outputs": [],
   "source": [
    "# Remove Stop Words \n",
    "data_words_nostops = remove_stopwords(reviews_100k_words)\n",
    "\n",
    "# Form Bigrams\n",
    "data_words_bigrams = make_bigrams(data_words_nostops)"
   ]
  },
  {
   "cell_type": "code",
   "execution_count": 29,
   "metadata": {},
   "outputs": [
    {
     "name": "stdout",
     "output_type": "stream",
     "text": [
      "[['drip', 'coffee', 'home', 'go', 'wrong', 'unit']]\n"
     ]
    }
   ],
   "source": [
    "# Initialize spacy 'en' model, keeping only tagger component (for efficiency)\n",
    "# python3 -m spacy download en\n",
    "#nlp = spacy.load('en', disable=['parser', 'ner'])\n",
    "\n",
    "# # Do lemmatization keeping only noun, adj, vb, adv\n",
    "#data_lemmatized = lemmatization(data_words_bigrams, allowed_postags=['NOUN', 'ADJ', 'VERB', 'ADV'])\n",
    "\n",
    "# WITHOUT LEMETIZATION\n",
    "data_lemmatized = data_words_bigrams\n",
    "\n",
    "\n",
    "print(data_lemmatized[:1])"
   ]
  },
  {
   "cell_type": "code",
   "execution_count": 30,
   "metadata": {},
   "outputs": [
    {
     "name": "stdout",
     "output_type": "stream",
     "text": [
      "[['drip', 'coffee', 'home', 'go', 'wrong', 'unit'], ['simple'], ['filters', 'water', 'easy']]\n"
     ]
    }
   ],
   "source": [
    "print(data_lemmatized[:3])"
   ]
  },
  {
   "cell_type": "code",
   "execution_count": 31,
   "metadata": {},
   "outputs": [
    {
     "name": "stdout",
     "output_type": "stream",
     "text": [
      "[[(0, 1), (1, 1), (2, 1), (3, 1), (4, 1), (5, 1)], [(6, 1)]]\n"
     ]
    }
   ],
   "source": [
    "# Create Dictionary\n",
    "id2word = corpora.Dictionary(data_lemmatized)\n",
    "\n",
    "# Create Corpus\n",
    "texts = data_lemmatized\n",
    "\n",
    "# Term Document Frequency\n",
    "corpus = [id2word.doc2bow(text) for text in texts]\n",
    "\n",
    "# View\n",
    "print(corpus[:2])"
   ]
  },
  {
   "cell_type": "code",
   "execution_count": 32,
   "metadata": {},
   "outputs": [
    {
     "data": {
      "text/plain": [
       "'filters'"
      ]
     },
     "execution_count": 32,
     "metadata": {},
     "output_type": "execute_result"
    }
   ],
   "source": [
    "id2word[8]"
   ]
  },
  {
   "cell_type": "code",
   "execution_count": 33,
   "metadata": {},
   "outputs": [
    {
     "name": "stdout",
     "output_type": "stream",
     "text": [
      "Dictionary(1866 unique tokens: ['coffee', 'drip', 'go', 'home', 'unit']...)\n"
     ]
    }
   ],
   "source": [
    "print(id2word)"
   ]
  },
  {
   "cell_type": "code",
   "execution_count": 34,
   "metadata": {},
   "outputs": [],
   "source": [
    "# Build LDA model\n",
    "lda_model = gensim.models.ldamodel.LdaModel(corpus=corpus,\n",
    "                                           id2word=id2word,\n",
    "                                           num_topics=5, \n",
    "                                           random_state=100,\n",
    "                                           update_every=1,\n",
    "                                           chunksize=100,\n",
    "                                           passes=10,\n",
    "                                           alpha='auto',\n",
    "                                           per_word_topics=True)"
   ]
  },
  {
   "cell_type": "code",
   "execution_count": 35,
   "metadata": {},
   "outputs": [
    {
     "name": "stdout",
     "output_type": "stream",
     "text": [
      "[(0,\n",
      "  '0.081*\"set\" + 0.078*\"one\" + 0.051*\"like\" + 0.036*\"hand\" + 0.034*\"would\" + '\n",
      "  '0.031*\"best\" + 0.029*\"used\" + 0.028*\"better\" + 0.026*\"ever\" + '\n",
      "  '0.024*\"never\"'),\n",
      " (1,\n",
      "  '0.115*\"knife\" + 0.112*\"peeler\" + 0.055*\"sharp\" + 0.038*\"paring\" + '\n",
      "  '0.028*\"really\" + 0.026*\"work\" + 0.025*\"well\" + 0.022*\"much\" + 0.022*\"years\" '\n",
      "  '+ 0.019*\"hold\"'),\n",
      " (2,\n",
      "  '0.179*\"great\" + 0.075*\"hands\" + 0.058*\"products\" + 0.039*\"comfortable\" + '\n",
      "  '0.037*\"kitchen\" + 0.034*\"get\" + 0.026*\"tools\" + 0.024*\"find\" + '\n",
      "  '0.024*\"works\" + 0.021*\"already\"'),\n",
      " (3,\n",
      "  '0.100*\"stars\" + 0.072*\"five\" + 0.029*\"grips\" + 0.027*\"buy\" + 0.025*\"blade\" '\n",
      "  '+ 0.025*\"old\" + 0.024*\"cutting\" + 0.023*\"peel\" + 0.016*\"small\" + '\n",
      "  '0.015*\"replaced\"'),\n",
      " (4,\n",
      "  '0.088*\"good\" + 0.070*\"oxo\" + 0.060*\"love\" + 0.041*\"handles\" + '\n",
      "  '0.039*\"quality\" + 0.032*\"bought\" + 0.032*\"arthritis\" + 0.028*\"excellent\" + '\n",
      "  '0.028*\"grip\" + 0.027*\"easy\"')]\n"
     ]
    }
   ],
   "source": [
    "pprint(lda_model.print_topics())\n",
    "doc_lda = lda_model[corpus]"
   ]
  },
  {
   "cell_type": "code",
   "execution_count": 36,
   "metadata": {},
   "outputs": [
    {
     "data": {
      "text/html": [
       "\n",
       "<link rel=\"stylesheet\" type=\"text/css\" href=\"https://cdn.rawgit.com/bmabey/pyLDAvis/files/ldavis.v1.0.0.css\">\n",
       "\n",
       "\n",
       "<div id=\"ldavis_el1254422069872676566133782895\"></div>\n",
       "<script type=\"text/javascript\">\n",
       "\n",
       "var ldavis_el1254422069872676566133782895_data = {\"mdsDat\": {\"x\": [0.10829358451823261, 0.20971083294060236, 0.1355415926300384, -0.40102278014389464, -0.05252322994497879], \"y\": [0.19457974059531083, -0.3204774160017398, 0.006971003144212956, -0.1475967481758535, 0.26652342043806937], \"topics\": [1, 2, 3, 4, 5], \"cluster\": [1, 1, 1, 1, 1], \"Freq\": [27.692642211914062, 19.44222640991211, 19.0799503326416, 17.243459701538086, 16.541711807250977]}, \"tinfo\": {\"Term\": [\"great\", \"knife\", \"peeler\", \"stars\", \"good\", \"set\", \"one\", \"hands\", \"five\", \"oxo\", \"sharp\", \"love\", \"products\", \"like\", \"paring\", \"handles\", \"quality\", \"comfortable\", \"hand\", \"kitchen\", \"would\", \"bought\", \"get\", \"arthritis\", \"best\", \"really\", \"work\", \"used\", \"better\", \"well\", \"knife\", \"paring\", \"really\", \"work\", \"well\", \"much\", \"years\", \"hold\", \"handle\", \"parer\", \"two\", \"time\", \"peeler\", \"also\", \"still\", \"make\", \"fine\", \"broke\", \"need\", \"replace\", \"ordered\", \"wanted\", \"way\", \"got\", \"came\", \"sharp\", \"cuts\", \"onto\", \"stainless\", \"ago\", \"knives\", \"fact\", \"pairing\", \"without\", \"vegetable\", \"one\", \"like\", \"hand\", \"set\", \"would\", \"best\", \"used\", \"better\", \"ever\", \"brand\", \"perfect\", \"never\", \"using\", \"peelers\", \"new\", \"potatoes\", \"peeling\", \"people\", \"could\", \"wish\", \"found\", \"favorite\", \"rather\", \"keep\", \"year\", \"purchased\", \"another\", \"extremely\", \"disappointing\", \"think\", \"anything\", \"rust\", \"good\", \"love\", \"handles\", \"quality\", \"arthritis\", \"bought\", \"excellent\", \"grip\", \"easy\", \"product\", \"easier\", \"recommend\", \"items\", \"price\", \"large\", \"especially\", \"wife\", \"although\", \"highly\", \"job\", \"makes\", \"give\", \"sold\", \"though\", \"often\", \"done\", \"say\", \"gets\", \"gift\", \"fat\", \"combo\", \"sticky\", \"oxo\", \"awesome\", \"pleased\", \"great\", \"hands\", \"products\", \"kitchen\", \"get\", \"tools\", \"find\", \"works\", \"already\", \"arthritic\", \"long\", \"nice\", \"loves\", \"even\", \"tried\", \"lot\", \"value\", \"shape\", \"packaging\", \"things\", \"mom\", \"go\", \"disappointed\", \"everything\", \"enough\", \"thanks\", \"otherwise\", \"fits\", \"shary\", \"issue\", \"comfortable\", \"stars\", \"five\", \"grips\", \"buy\", \"old\", \"blade\", \"cutting\", \"peel\", \"small\", \"replaced\", \"four\", \"vegetables\", \"must\", \"last\", \"right\", \"tip\", \"little\", \"easily\", \"fruit\", \"lasts\", \"want\", \"cardboard\", \"bit\", \"painful\", \"larger\", \"handed\", \"side\", \"barest\", \"understand\", \"opted\", \"carrots\", \"cut\"], \"Freq\": [16588.0, 17095.0, 16612.0, 8861.0, 9006.0, 8464.0, 8104.0, 6979.0, 6435.0, 7367.0, 8140.0, 6118.0, 5406.0, 5310.0, 5615.0, 4172.0, 3997.0, 3668.0, 3728.0, 3432.0, 3530.0, 3315.0, 3118.0, 3305.0, 3251.0, 4110.0, 3904.0, 2982.0, 2950.0, 3704.0, 17094.955078125, 5614.240234375, 4109.78515625, 3903.296142578125, 3703.266357421875, 3289.68212890625, 3263.703857421875, 2792.7607421875, 2439.41748046875, 2028.540283203125, 1813.4249267578125, 1794.6383056640625, 16602.927734375, 1447.81005859375, 1387.0345458984375, 1271.1343994140625, 1258.3133544921875, 1193.885009765625, 1178.1300048828125, 1174.3643798828125, 1191.893798828125, 1029.189208984375, 1031.3768310546875, 822.3325805664062, 778.4942626953125, 8130.3369140625, 631.2637329101562, 615.7449340820312, 617.0632934570312, 610.5838012695312, 2375.690673828125, 616.84814453125, 1342.544677734375, 1302.117431640625, 874.5513305664062, 8103.7412109375, 5309.35986328125, 3727.125244140625, 8462.404296875, 3529.9384765625, 3250.97998046875, 2982.019287109375, 2949.489990234375, 2760.1953125, 2493.121826171875, 2494.0263671875, 2510.068359375, 2057.333984375, 1971.32080078125, 1980.4444580078125, 1778.3743896484375, 1696.658203125, 1693.2943115234375, 1483.6949462890625, 1453.4898681640625, 1245.191162109375, 1218.756591796875, 1034.610595703125, 989.75634765625, 978.6495361328125, 963.5599975585938, 759.6110229492188, 749.7647094726562, 749.1611328125, 761.1143798828125, 1217.513916015625, 944.7465209960938, 9005.9326171875, 6117.2841796875, 4171.453125, 3996.4423828125, 3304.34130859375, 3314.48193359375, 2849.56494140625, 2837.293701171875, 2805.35498046875, 2528.038818359375, 1638.5638427734375, 1293.6373291015625, 1246.466796875, 1242.5130615234375, 1232.5511474609375, 1237.38427734375, 1191.0272216796875, 1080.8662109375, 1071.026611328125, 1048.8258056640625, 989.7266235351562, 894.0969848632812, 813.3682861328125, 661.9601440429688, 641.1407470703125, 628.8576049804688, 622.737060546875, 621.7718505859375, 609.0662841796875, 608.19287109375, 1252.1123046875, 810.1644897460938, 7130.89013671875, 809.552001953125, 662.87451171875, 16587.392578125, 6978.73046875, 5405.564453125, 3431.310546875, 3117.177001953125, 2442.06591796875, 2260.924072265625, 2207.84619140625, 1964.754150390625, 1889.9449462890625, 1714.595947265625, 1479.123779296875, 1449.704833984375, 1483.33203125, 1219.4501953125, 1191.9744873046875, 1000.1882934570312, 990.7010498046875, 964.0416870117188, 949.6669311523438, 733.741455078125, 735.1400146484375, 713.0280151367188, 713.4497680664062, 522.8624267578125, 515.5226440429688, 509.67230224609375, 507.56793212890625, 507.56158447265625, 508.1982421875, 3651.573974609375, 8860.404296875, 6434.19921875, 2616.94921875, 2404.14501953125, 2224.3173828125, 2228.8115234375, 2137.870849609375, 2056.91015625, 1386.0888671875, 1372.5760498046875, 1123.3873291015625, 1095.6019287109375, 1090.461181640625, 1076.8482666015625, 936.45654296875, 885.9923095703125, 885.8406372070312, 874.4410400390625, 858.2467041015625, 860.0317993164062, 676.3776245117188, 673.6727905273438, 668.3621215820312, 648.2323608398438, 632.06884765625, 475.98779296875, 475.98779296875, 471.10009765625, 473.77960205078125, 472.4247741699219, 1103.87939453125, 610.5670776367188], \"Total\": [16588.0, 17095.0, 16612.0, 8861.0, 9006.0, 8464.0, 8104.0, 6979.0, 6435.0, 7367.0, 8140.0, 6118.0, 5406.0, 5310.0, 5615.0, 4172.0, 3997.0, 3668.0, 3728.0, 3432.0, 3530.0, 3315.0, 3118.0, 3305.0, 3251.0, 4110.0, 3904.0, 2982.0, 2950.0, 3704.0, 17095.9375, 5615.18798828125, 4110.73193359375, 3904.248046875, 3704.2197265625, 3290.636474609375, 3264.654541015625, 2793.705078125, 2440.37890625, 2029.482177734375, 1814.3631591796875, 1795.5924072265625, 16612.3671875, 1448.7747802734375, 1387.9910888671875, 1272.080810546875, 1259.286865234375, 1194.8284912109375, 1179.070556640625, 1175.3031005859375, 1192.862060546875, 1030.14013671875, 1032.3585205078125, 823.27392578125, 779.449951171875, 8140.46337890625, 632.2200927734375, 616.68408203125, 618.004638671875, 611.527587890625, 2403.466796875, 617.808349609375, 1494.0135498046875, 1638.367919921875, 1089.747314453125, 8104.6396484375, 5310.2646484375, 3728.0283203125, 8464.5185546875, 3530.84521484375, 3251.87548828125, 2982.92236328125, 2950.38671875, 2761.08935546875, 2494.017822265625, 2494.9248046875, 2510.97900390625, 2058.233154296875, 1972.2186279296875, 1981.3514404296875, 1779.2664794921875, 1697.560791015625, 1694.2064208984375, 1484.6025390625, 1454.38720703125, 1246.08935546875, 1219.6536865234375, 1035.5211181640625, 990.6544189453125, 979.5543823242188, 964.4793090820312, 760.5113525390625, 750.6655883789062, 750.0630493164062, 762.0311889648438, 1248.657470703125, 1006.18701171875, 9006.876953125, 6118.22314453125, 4172.396484375, 3997.38623046875, 3305.283203125, 3315.42626953125, 2850.500244140625, 2838.233154296875, 2806.296630859375, 2528.973388671875, 1639.5050048828125, 1294.5784912109375, 1247.402099609375, 1243.4483642578125, 1233.4844970703125, 1238.3297119140625, 1191.9586181640625, 1081.8155517578125, 1071.9683837890625, 1049.7646484375, 990.6588134765625, 895.0357666015625, 814.3233642578125, 662.9135131835938, 642.0750122070312, 629.7894897460938, 623.6690063476562, 622.7152099609375, 609.9955444335938, 609.1253662109375, 1254.7177734375, 812.018310546875, 7367.3232421875, 847.732177734375, 885.3802490234375, 16588.294921875, 6979.63671875, 5406.46923828125, 3432.2177734375, 3118.0888671875, 2442.97216796875, 2261.84521484375, 2208.748779296875, 1965.666748046875, 1890.837158203125, 1715.5128173828125, 1480.021728515625, 1450.608642578125, 1484.274658203125, 1220.364013671875, 1192.8890380859375, 1001.0821533203125, 991.596923828125, 964.9564208984375, 950.5933837890625, 734.6414794921875, 736.0516967773438, 713.923828125, 714.3490600585938, 523.7599487304688, 516.4221801757812, 510.5686950683594, 508.46624755859375, 508.46527099609375, 509.1077880859375, 3668.607666015625, 8861.326171875, 6435.1181640625, 2617.8857421875, 2405.07421875, 2225.253662109375, 2229.759033203125, 2138.7978515625, 2057.853271484375, 1387.0240478515625, 1373.5177001953125, 1124.306396484375, 1096.5196533203125, 1091.386962890625, 1077.771484375, 937.3843994140625, 886.9113159179688, 886.7654418945312, 875.3671264648438, 859.1611938476562, 860.9712524414062, 677.2969970703125, 674.5888061523438, 669.2797241210938, 649.1527099609375, 632.998779296875, 476.9034729003906, 476.9034729003906, 472.014404296875, 474.7027893066406, 473.34967041015625, 1114.5087890625, 1044.4979248046875], \"Category\": [\"Default\", \"Default\", \"Default\", \"Default\", \"Default\", \"Default\", \"Default\", \"Default\", \"Default\", \"Default\", \"Default\", \"Default\", \"Default\", \"Default\", \"Default\", \"Default\", \"Default\", \"Default\", \"Default\", \"Default\", \"Default\", \"Default\", \"Default\", \"Default\", \"Default\", \"Default\", \"Default\", \"Default\", \"Default\", \"Default\", \"Topic1\", \"Topic1\", \"Topic1\", \"Topic1\", \"Topic1\", \"Topic1\", \"Topic1\", \"Topic1\", \"Topic1\", \"Topic1\", \"Topic1\", \"Topic1\", \"Topic1\", \"Topic1\", \"Topic1\", \"Topic1\", \"Topic1\", \"Topic1\", \"Topic1\", \"Topic1\", \"Topic1\", \"Topic1\", \"Topic1\", \"Topic1\", \"Topic1\", \"Topic1\", \"Topic1\", \"Topic1\", \"Topic1\", \"Topic1\", \"Topic1\", \"Topic1\", \"Topic1\", \"Topic1\", \"Topic1\", \"Topic2\", \"Topic2\", \"Topic2\", \"Topic2\", \"Topic2\", \"Topic2\", \"Topic2\", \"Topic2\", \"Topic2\", \"Topic2\", \"Topic2\", \"Topic2\", \"Topic2\", \"Topic2\", \"Topic2\", \"Topic2\", \"Topic2\", \"Topic2\", \"Topic2\", \"Topic2\", \"Topic2\", \"Topic2\", \"Topic2\", \"Topic2\", \"Topic2\", \"Topic2\", \"Topic2\", \"Topic2\", \"Topic2\", \"Topic2\", \"Topic2\", \"Topic2\", \"Topic3\", \"Topic3\", \"Topic3\", \"Topic3\", \"Topic3\", \"Topic3\", \"Topic3\", \"Topic3\", \"Topic3\", \"Topic3\", \"Topic3\", \"Topic3\", \"Topic3\", \"Topic3\", \"Topic3\", \"Topic3\", \"Topic3\", \"Topic3\", \"Topic3\", \"Topic3\", \"Topic3\", \"Topic3\", \"Topic3\", \"Topic3\", \"Topic3\", \"Topic3\", \"Topic3\", \"Topic3\", \"Topic3\", \"Topic3\", \"Topic3\", \"Topic3\", \"Topic3\", \"Topic3\", \"Topic3\", \"Topic4\", \"Topic4\", \"Topic4\", \"Topic4\", \"Topic4\", \"Topic4\", \"Topic4\", \"Topic4\", \"Topic4\", \"Topic4\", \"Topic4\", \"Topic4\", \"Topic4\", \"Topic4\", \"Topic4\", \"Topic4\", \"Topic4\", \"Topic4\", \"Topic4\", \"Topic4\", \"Topic4\", \"Topic4\", \"Topic4\", \"Topic4\", \"Topic4\", \"Topic4\", \"Topic4\", \"Topic4\", \"Topic4\", \"Topic4\", \"Topic4\", \"Topic5\", \"Topic5\", \"Topic5\", \"Topic5\", \"Topic5\", \"Topic5\", \"Topic5\", \"Topic5\", \"Topic5\", \"Topic5\", \"Topic5\", \"Topic5\", \"Topic5\", \"Topic5\", \"Topic5\", \"Topic5\", \"Topic5\", \"Topic5\", \"Topic5\", \"Topic5\", \"Topic5\", \"Topic5\", \"Topic5\", \"Topic5\", \"Topic5\", \"Topic5\", \"Topic5\", \"Topic5\", \"Topic5\", \"Topic5\", \"Topic5\", \"Topic5\"], \"logprob\": [30.0, 29.0, 28.0, 27.0, 26.0, 25.0, 24.0, 23.0, 22.0, 21.0, 20.0, 19.0, 18.0, 17.0, 16.0, 15.0, 14.0, 13.0, 12.0, 11.0, 10.0, 9.0, 8.0, 7.0, 6.0, 5.0, 4.0, 3.0, 2.0, 1.0, -2.162400007247925, -3.275899887084961, -3.587899923324585, -3.639400005340576, -3.691999912261963, -3.8104000091552734, -3.8183999061584473, -3.9742000102996826, -4.109499931335449, -4.293900012969971, -4.406000137329102, -4.416399955749512, -2.1916000843048096, -4.631199836730957, -4.674099922180176, -4.761300086975098, -4.771500110626221, -4.823999881744385, -4.837299823760986, -4.8404998779296875, -4.825699806213379, -4.972499847412109, -4.970300197601318, -5.196800231933594, -5.2515997886657715, -2.905600070953369, -5.461299896240234, -5.486100196838379, -5.484000205993652, -5.49459981918335, -4.135900020599365, -5.484399795532227, -4.706699848175049, -4.737199783325195, -5.135300159454346, -2.5552000999450684, -2.9779999256134033, -3.331899881362915, -2.511899948120117, -3.386199951171875, -3.468600034713745, -3.5548999309539795, -3.5659000873565674, -3.632200002670288, -3.7339999675750732, -3.733599901199341, -3.7272000312805176, -3.926100015640259, -3.9688000679016113, -3.964200019836426, -4.071800231933594, -4.118800163269043, -4.120800018310547, -4.252999782562256, -4.273499965667725, -4.428199768066406, -4.449699878692627, -4.613500118255615, -4.657800197601318, -4.669099807739258, -4.684599876403809, -4.922500133514404, -4.935500144958496, -4.936299800872803, -4.920499801635742, -4.450699806213379, -4.7042999267578125, -2.430799961090088, -2.8176000118255615, -3.2004001140594482, -3.243299961090088, -3.433500051498413, -3.4303998947143555, -3.5815000534057617, -3.5857999324798584, -3.5971999168395996, -3.7012999057769775, -4.134900093078613, -4.371200084686279, -4.408400058746338, -4.411600112915039, -4.419600009918213, -4.4156999588012695, -4.45389986038208, -4.550899982452393, -4.560100078582764, -4.580999851226807, -4.638999938964844, -4.740600109100342, -4.835299968719482, -5.041200160980225, -5.073200225830078, -5.09250020980835, -5.10230016708374, -5.103899955749512, -5.124499797821045, -5.125999927520752, -4.403900146484375, -4.839200019836426, -2.664299964904785, -4.840000152587891, -5.039899826049805, -1.7188999652862549, -2.5845999717712402, -2.840100049972534, -3.294600009918213, -3.3905999660491943, -3.6345999240875244, -3.711699962615967, -3.7355000972747803, -3.852099895477295, -3.890899896621704, -3.988300085067749, -4.136000156402588, -4.156099796295166, -4.133200168609619, -4.329100131988525, -4.351900100708008, -4.527299880981445, -4.536799907684326, -4.5640997886657715, -4.579100131988525, -4.837100028991699, -4.83519983291626, -4.865699768066406, -4.865099906921387, -5.175899982452393, -5.190100193023682, -5.201499938964844, -5.205599784851074, -5.205599784851074, -5.204400062561035, -3.232300043106079, -2.3043999671936035, -2.624300003051758, -3.523900032043457, -3.608799934387207, -3.686500072479248, -3.684499979019165, -3.726099967956543, -3.764699935913086, -4.1595001220703125, -4.169300079345703, -4.36959981918335, -4.394599914550781, -4.3993000984191895, -4.411900043487549, -4.551599979400635, -4.60699987411499, -4.6072001457214355, -4.620100021362305, -4.638800144195557, -4.63670015335083, -4.8769001960754395, -4.88100004196167, -4.888899803161621, -4.91949987411499, -4.944699764251709, -5.228300094604492, -5.228300094604492, -5.23859977722168, -5.232999801635742, -5.235799789428711, -4.3871002197265625, -4.979300022125244], \"loglift\": [30.0, 29.0, 28.0, 27.0, 26.0, 25.0, 24.0, 23.0, 22.0, 21.0, 20.0, 19.0, 18.0, 17.0, 16.0, 15.0, 14.0, 13.0, 12.0, 11.0, 10.0, 9.0, 8.0, 7.0, 6.0, 5.0, 4.0, 3.0, 2.0, 1.0, 1.2839000225067139, 1.2838000059127808, 1.2838000059127808, 1.2838000059127808, 1.2836999893188477, 1.2836999893188477, 1.2836999893188477, 1.2836999893188477, 1.2835999727249146, 1.2834999561309814, 1.2834999561309814, 1.2834999561309814, 1.283400058746338, 1.2833000421524048, 1.2833000421524048, 1.2833000421524048, 1.2832000255584717, 1.2832000255584717, 1.2832000255584717, 1.2832000255584717, 1.2832000255584717, 1.2831000089645386, 1.2831000089645386, 1.2828999757766724, 1.2827999591827393, 1.2827999591827393, 1.2825000286102295, 1.2825000286102295, 1.2825000286102295, 1.2825000286102295, 1.2724000215530396, 1.2824000120162964, 1.1770999431610107, 1.0542999505996704, 1.0640000104904175, 1.6375999450683594, 1.6375999450683594, 1.6375000476837158, 1.6375000476837158, 1.6375000476837158, 1.6374000310897827, 1.6374000310897827, 1.6374000310897827, 1.6374000310897827, 1.6374000310897827, 1.6374000310897827, 1.6374000310897827, 1.6373000144958496, 1.6373000144958496, 1.6373000144958496, 1.6371999979019165, 1.6371999979019165, 1.6371999979019165, 1.6370999813079834, 1.6370999813079834, 1.6369999647140503, 1.6369999647140503, 1.6368000507354736, 1.6368000507354736, 1.6368000507354736, 1.6368000507354736, 1.6365000009536743, 1.6365000009536743, 1.6365000009536743, 1.6365000009536743, 1.6124999523162842, 1.5746999979019165, 1.6563999652862549, 1.6563999652862549, 1.6562999486923218, 1.6562999486923218, 1.6562000513076782, 1.6562000513076782, 1.6562000513076782, 1.6562000513076782, 1.6562000513076782, 1.6562000513076782, 1.656000018119812, 1.6557999849319458, 1.6557999849319458, 1.6557999849319458, 1.6557999849319458, 1.6557999849319458, 1.6557999849319458, 1.6556999683380127, 1.6556999683380127, 1.6555999517440796, 1.6555999517440796, 1.655500054359436, 1.655400037765503, 1.6550999879837036, 1.6550999879837036, 1.6550999879837036, 1.6549999713897705, 1.6549999713897705, 1.6549999713897705, 1.6549999713897705, 1.6545000076293945, 1.6541999578475952, 1.623900055885315, 1.6103999614715576, 1.3671000003814697, 1.757699966430664, 1.757599949836731, 1.757599949836731, 1.7575000524520874, 1.7574000358581543, 1.7574000358581543, 1.7573000192642212, 1.7573000192642212, 1.7573000192642212, 1.7573000192642212, 1.757200002670288, 1.757099986076355, 1.757099986076355, 1.757099986076355, 1.7569999694824219, 1.7569999694824219, 1.7568000555038452, 1.7568000555038452, 1.7568000555038452, 1.7568000555038452, 1.756500005722046, 1.756500005722046, 1.756500005722046, 1.756500005722046, 1.75600004196167, 1.75600004196167, 1.75600004196167, 1.75600004196167, 1.75600004196167, 1.7559000253677368, 1.753100037574768, 1.7992000579833984, 1.7991000413894653, 1.7989000082015991, 1.7989000082015991, 1.7989000082015991, 1.7989000082015991, 1.7989000082015991, 1.798799991607666, 1.7985999584197998, 1.7985999584197998, 1.7984999418258667, 1.7984000444412231, 1.7984000444412231, 1.7984000444412231, 1.79830002784729, 1.798200011253357, 1.798200011253357, 1.798200011253357, 1.798200011253357, 1.798200011253357, 1.7978999614715576, 1.7978999614715576, 1.7978999614715576, 1.7978999614715576, 1.7977999448776245, 1.7973999977111816, 1.7973999977111816, 1.7972999811172485, 1.7972999811172485, 1.7972999811172485, 1.7897000312805176, 1.2624000310897827]}, \"token.table\": {\"Topic\": [1, 4, 1, 3, 2, 1, 2, 4, 4, 3, 1, 3, 5, 2, 2, 5, 5, 3, 2, 1, 5, 1, 5, 2, 5, 1, 3, 1, 2, 4, 2, 3, 5, 1, 5, 4, 2, 3, 3, 5, 3, 4, 3, 4, 2, 4, 3, 2, 1, 3, 2, 4, 1, 4, 5, 2, 5, 5, 4, 3, 3, 3, 4, 3, 1, 4, 3, 5, 2, 5, 1, 3, 4, 3, 1, 4, 3, 3, 2, 4, 1, 1, 2, 4, 5, 3, 5, 5, 5, 2, 5, 4, 4, 3, 4, 1, 3, 4, 1, 5, 1, 2, 2, 4, 3, 5, 2, 1, 5, 1, 4, 1, 2, 3, 4, 5, 1, 2, 1, 1, 5, 1, 2, 5, 2, 2, 2, 2, 2, 3, 2, 3, 3, 4, 2, 3, 2, 1, 3, 1, 5, 5, 1, 2, 3, 2, 5, 4, 1, 3, 4, 5, 5, 3, 1, 5, 1, 3, 1, 4, 4, 2, 3, 1, 5, 4, 4, 1, 5, 2, 2, 4, 1, 5, 5, 5, 1, 1, 1, 3, 2, 1, 5, 1, 4, 2, 2, 1], \"Freq\": [0.999137282371521, 0.9996607899665833, 0.9994652271270752, 0.9992461204528809, 0.9993276000022888, 0.019220642745494843, 0.9754476547241211, 0.004805160686373711, 0.9995572566986084, 0.9996117949485779, 0.04364585876464844, 0.9554904699325562, 0.9978508949279785, 0.9997307658195496, 0.9995299577713013, 0.9980878829956055, 0.9996595978736877, 0.999569833278656, 0.9995918869972229, 0.9993066191673279, 0.999553382396698, 0.9981397986412048, 0.9991271495819092, 0.008972562849521637, 0.9905709028244019, 0.0015939839649945498, 0.9978339672088623, 0.0008177489507943392, 0.003816161770373583, 0.9954730272293091, 0.9995941519737244, 0.4145532548427582, 0.5849700570106506, 0.9980701208114624, 0.9996269345283508, 0.9987059831619263, 0.9985827207565308, 0.998746395111084, 0.9996919631958008, 0.9984382390975952, 0.9995379447937012, 0.9985490441322327, 0.9989262223243713, 0.9991412162780762, 0.9996054768562317, 0.9981114864349365, 0.9998245239257812, 0.9991133213043213, 0.9986915588378906, 0.998152494430542, 0.9994640350341797, 0.9996263384819031, 0.9989780783653259, 0.9990830421447754, 0.9998262524604797, 0.9991257786750793, 0.9988380670547485, 0.998648464679718, 0.999650776386261, 0.998851478099823, 0.998367965221405, 0.9988427758216858, 0.9985711574554443, 0.999902606010437, 0.9984526038169861, 0.9999219179153442, 0.9995655417442322, 0.9996616840362549, 0.9997241497039795, 0.998105525970459, 0.9994349479675293, 0.9996653199195862, 0.9999087452888489, 0.9990966320037842, 0.999747633934021, 0.9978240728378296, 0.9988759756088257, 0.9992715716362, 0.9993394017219543, 0.9996451735496521, 0.9999451637268066, 0.9885720014572144, 0.004992787726223469, 0.0008321313071064651, 0.005408853758126497, 0.9996072053909302, 0.9984221458435059, 0.9992842078208923, 0.998871922492981, 0.9997618198394775, 0.9991368055343628, 0.9997010827064514, 0.9992547035217285, 0.9998000860214233, 0.999580442905426, 0.9991503357887268, 0.999334990978241, 0.9991267919540405, 0.9998065829277039, 0.9987291693687439, 0.9990920424461365, 0.9996101260185242, 0.9993179440498352, 0.9993096590042114, 0.9983257055282593, 0.999436616897583, 0.9999210834503174, 0.9988906979560852, 0.9971486926078796, 0.9992772936820984, 0.9988861680030823, 0.030268795788288116, 0.0017645485932007432, 0.9679228067398071, 0.99900883436203, 0.9982242584228516, 0.8989208936691284, 0.10107003152370453, 0.9997624158859253, 0.9997884035110474, 0.9995853304862976, 0.9994361400604248, 0.0004213728243485093, 0.00012039223656756803, 0.9993820786476135, 0.9996696710586548, 0.9992879033088684, 0.9996293187141418, 0.250739723443985, 0.7488307952880859, 0.9992882013320923, 0.9996393918991089, 0.9996151328086853, 0.999913215637207, 0.9995030164718628, 0.9996532201766968, 0.9994967579841614, 0.9998219609260559, 0.9995531439781189, 0.998891294002533, 0.9996230602264404, 0.9985231161117554, 0.06062491238117218, 0.9391891956329346, 0.9989272952079773, 0.9997024536132812, 0.00011814021127065644, 0.9993979930877686, 0.9987146258354187, 0.001105588162317872, 0.9990849494934082, 0.998105525970459, 0.9992616772651672, 0.998374879360199, 0.9983744025230408, 0.999850332736969, 0.001231499365530908, 0.9975144267082214, 0.9992859363555908, 0.9991824626922607, 0.9993757605552673, 0.9986467957496643, 0.9986220002174377, 0.9996700882911682, 0.998972475528717, 0.9996020793914795, 0.9988822937011719, 0.9992486834526062, 0.9985195398330688, 0.9996907711029053, 0.9994008541107178, 0.9989190101623535, 0.8029384613037109, 0.1963758021593094, 0.9995260834693909, 0.9980850219726562, 0.9988932013511658, 0.9986840486526489, 0.9996707439422607, 0.9991957545280457, 0.9990462064743042, 0.7946932911872864, 0.20508213341236115, 0.9996803402900696, 0.9996609687805176, 0.999760627746582, 0.9994340538978577, 0.9997994899749756], \"Term\": [\"ago\", \"already\", \"also\", \"although\", \"another\", \"anything\", \"anything\", \"anything\", \"arthritic\", \"arthritis\", \"awesome\", \"awesome\", \"barest\", \"best\", \"better\", \"bit\", \"blade\", \"bought\", \"brand\", \"broke\", \"buy\", \"came\", \"cardboard\", \"carrots\", \"carrots\", \"combo\", \"combo\", \"comfortable\", \"comfortable\", \"comfortable\", \"could\", \"cut\", \"cut\", \"cuts\", \"cutting\", \"disappointed\", \"disappointing\", \"done\", \"easier\", \"easily\", \"easy\", \"enough\", \"especially\", \"even\", \"ever\", \"everything\", \"excellent\", \"extremely\", \"fact\", \"fat\", \"favorite\", \"find\", \"fine\", \"fits\", \"five\", \"found\", \"four\", \"fruit\", \"get\", \"gets\", \"gift\", \"give\", \"go\", \"good\", \"got\", \"great\", \"grip\", \"grips\", \"hand\", \"handed\", \"handle\", \"handles\", \"hands\", \"highly\", \"hold\", \"issue\", \"items\", \"job\", \"keep\", \"kitchen\", \"knife\", \"knives\", \"knives\", \"knives\", \"knives\", \"large\", \"larger\", \"last\", \"lasts\", \"like\", \"little\", \"long\", \"lot\", \"love\", \"loves\", \"make\", \"makes\", \"mom\", \"much\", \"must\", \"need\", \"never\", \"new\", \"nice\", \"often\", \"old\", \"one\", \"onto\", \"opted\", \"ordered\", \"otherwise\", \"oxo\", \"oxo\", \"oxo\", \"packaging\", \"painful\", \"pairing\", \"pairing\", \"parer\", \"paring\", \"peel\", \"peeler\", \"peeler\", \"peeler\", \"peelers\", \"peeling\", \"people\", \"perfect\", \"pleased\", \"pleased\", \"potatoes\", \"price\", \"product\", \"products\", \"purchased\", \"quality\", \"rather\", \"really\", \"recommend\", \"replace\", \"replaced\", \"right\", \"rust\", \"rust\", \"say\", \"set\", \"set\", \"shape\", \"sharp\", \"sharp\", \"shary\", \"side\", \"small\", \"sold\", \"stainless\", \"stars\", \"sticky\", \"sticky\", \"still\", \"thanks\", \"things\", \"think\", \"though\", \"time\", \"tip\", \"tools\", \"tried\", \"two\", \"understand\", \"used\", \"using\", \"value\", \"vegetable\", \"vegetable\", \"vegetables\", \"want\", \"wanted\", \"way\", \"well\", \"wife\", \"wish\", \"without\", \"without\", \"work\", \"works\", \"would\", \"year\", \"years\"]}, \"R\": 30, \"lambda.step\": 0.01, \"plot.opts\": {\"xlab\": \"PC1\", \"ylab\": \"PC2\"}, \"topic.order\": [2, 1, 5, 3, 4]};\n",
       "\n",
       "function LDAvis_load_lib(url, callback){\n",
       "  var s = document.createElement('script');\n",
       "  s.src = url;\n",
       "  s.async = true;\n",
       "  s.onreadystatechange = s.onload = callback;\n",
       "  s.onerror = function(){console.warn(\"failed to load library \" + url);};\n",
       "  document.getElementsByTagName(\"head\")[0].appendChild(s);\n",
       "}\n",
       "\n",
       "if(typeof(LDAvis) !== \"undefined\"){\n",
       "   // already loaded: just create the visualization\n",
       "   !function(LDAvis){\n",
       "       new LDAvis(\"#\" + \"ldavis_el1254422069872676566133782895\", ldavis_el1254422069872676566133782895_data);\n",
       "   }(LDAvis);\n",
       "}else if(typeof define === \"function\" && define.amd){\n",
       "   // require.js is available: use it to load d3/LDAvis\n",
       "   require.config({paths: {d3: \"https://cdnjs.cloudflare.com/ajax/libs/d3/3.5.5/d3.min\"}});\n",
       "   require([\"d3\"], function(d3){\n",
       "      window.d3 = d3;\n",
       "      LDAvis_load_lib(\"https://cdn.rawgit.com/bmabey/pyLDAvis/files/ldavis.v1.0.0.js\", function(){\n",
       "        new LDAvis(\"#\" + \"ldavis_el1254422069872676566133782895\", ldavis_el1254422069872676566133782895_data);\n",
       "      });\n",
       "    });\n",
       "}else{\n",
       "    // require.js not available: dynamically load d3 & LDAvis\n",
       "    LDAvis_load_lib(\"https://cdnjs.cloudflare.com/ajax/libs/d3/3.5.5/d3.min.js\", function(){\n",
       "         LDAvis_load_lib(\"https://cdn.rawgit.com/bmabey/pyLDAvis/files/ldavis.v1.0.0.js\", function(){\n",
       "                 new LDAvis(\"#\" + \"ldavis_el1254422069872676566133782895\", ldavis_el1254422069872676566133782895_data);\n",
       "            })\n",
       "         });\n",
       "}\n",
       "</script>"
      ],
      "text/plain": [
       "PreparedData(topic_coordinates=              x         y  topics  cluster       Freq\n",
       "topic                                                \n",
       "1      0.108294  0.194580       1        1  27.692642\n",
       "0      0.209711 -0.320477       2        1  19.442226\n",
       "4      0.135542  0.006971       3        1  19.079950\n",
       "2     -0.401023 -0.147597       4        1  17.243460\n",
       "3     -0.052523  0.266523       5        1  16.541712, topic_info=            Term          Freq         Total Category  logprob  loglift\n",
       "173        great  16588.000000  16588.000000  Default  30.0000  30.0000\n",
       "375        knife  17095.000000  17095.000000  Default  29.0000  29.0000\n",
       "1543      peeler  16612.000000  16612.000000  Default  28.0000  28.0000\n",
       "358        stars   8861.000000   8861.000000  Default  27.0000  27.0000\n",
       "20          good   9006.000000   9006.000000  Default  26.0000  26.0000\n",
       "...          ...           ...           ...      ...      ...      ...\n",
       "1575      barest    471.100098    472.014404   Topic5  -5.2386   1.7973\n",
       "685   understand    473.779602    474.702789   Topic5  -5.2330   1.7973\n",
       "1557       opted    472.424774    473.349670   Topic5  -5.2358   1.7973\n",
       "1576     carrots   1103.879395   1114.508789   Topic5  -4.3871   1.7897\n",
       "503          cut    610.567078   1044.497925   Topic5  -4.9793   1.2624\n",
       "\n",
       "[195 rows x 6 columns], token_table=      Topic      Freq      Term\n",
       "term                           \n",
       "442       1  0.999137       ago\n",
       "150       4  0.999661   already\n",
       "96        1  0.999465      also\n",
       "1021      3  0.999246  although\n",
       "741       2  0.999328   another\n",
       "...     ...       ...       ...\n",
       "557       1  0.999680      work\n",
       "309       4  0.999661     works\n",
       "111       2  0.999761     would\n",
       "448       2  0.999434      year\n",
       "533       1  0.999799     years\n",
       "\n",
       "[188 rows x 3 columns], R=30, lambda_step=0.01, plot_opts={'xlab': 'PC1', 'ylab': 'PC2'}, topic_order=[2, 1, 5, 3, 4])"
      ]
     },
     "execution_count": 36,
     "metadata": {},
     "output_type": "execute_result"
    }
   ],
   "source": [
    "# Visualize the topics\n",
    "pyLDAvis.enable_notebook()\n",
    "vis = pyLDAvis.gensim.prepare(lda_model, corpus, id2word)\n",
    "vis"
   ]
  }
 ],
 "metadata": {
  "kernelspec": {
   "display_name": "Python 3",
   "language": "python",
   "name": "python3"
  },
  "language_info": {
   "codemirror_mode": {
    "name": "ipython",
    "version": 3
   },
   "file_extension": ".py",
   "mimetype": "text/x-python",
   "name": "python",
   "nbconvert_exporter": "python",
   "pygments_lexer": "ipython3",
   "version": "3.8.1"
  }
 },
 "nbformat": 4,
 "nbformat_minor": 4
}
