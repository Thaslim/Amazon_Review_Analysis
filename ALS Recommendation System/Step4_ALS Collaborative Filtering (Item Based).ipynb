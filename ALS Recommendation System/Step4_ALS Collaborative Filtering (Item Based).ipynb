{
 "cells": [
  {
   "cell_type": "markdown",
   "metadata": {
    "colab_type": "text",
    "id": "yaLOq_Ee0ILi"
   },
   "source": [
    "## **Item Based Collaborative Filtering**\n",
    "\n",
    "This notebook explains how to use the Amazon Reviews Dataset to build a item-based recommender using latent factorized collaborative filtering with Spark's Alternating Least Saqures (ALS) implementation. \n",
    "\n",
    "It is organised in two parts:\n",
    "The first one is about getting and parsing titles and ratings data into Spark \n",
    "\n",
    "1.   Visualizing the preformance of ALS based on input parameters\n",
    "2.   Given an item of choice, recommending relevant items\n",
    "\n",
    "\n",
    "\n",
    "> This notebook gives an inference about similar products, given products of choice. \n",
    "\n"
   ]
  },
  {
   "cell_type": "markdown",
   "metadata": {
    "colab_type": "text",
    "id": "ujZTDvYP15Dz"
   },
   "source": [
    "***Setting up the pyspark envirnoment***"
   ]
  },
  {
   "cell_type": "code",
   "execution_count": 0,
   "metadata": {
    "colab": {},
    "colab_type": "code",
    "id": "aja-KfOo5w9R"
   },
   "outputs": [],
   "source": [
    "# Install pyspark and initiate\n",
    "!apt-get install openjdk-8-jdk-headless -qq > /dev/null\n",
    "!wget -q https://downloads.apache.org/spark/spark-2.4.5/spark-2.4.5-bin-hadoop2.6.tgz\n",
    "!tar xf spark-2.4.5-bin-hadoop2.6.tgz\n",
    "!pip install -q findspark"
   ]
  },
  {
   "cell_type": "code",
   "execution_count": 0,
   "metadata": {
    "colab": {},
    "colab_type": "code",
    "id": "5yfXSWNOrnCC"
   },
   "outputs": [],
   "source": [
    "#Envirnoment set up\n",
    "import os\n",
    "os.environ[\"JAVA_HOME\"] = \"/usr/lib/jvm/java-8-openjdk-amd64\"\n",
    "os.environ[\"SPARK_HOME\"] = \"/content/spark-2.4.5-bin-hadoop2.6\""
   ]
  },
  {
   "cell_type": "code",
   "execution_count": 0,
   "metadata": {
    "colab": {},
    "colab_type": "code",
    "id": "ghyUlkfPtKZn"
   },
   "outputs": [],
   "source": [
    "#Spark session creation\n",
    "import findspark\n",
    "findspark.init()\n",
    "from pyspark.sql import SparkSession\n",
    "spark = SparkSession.builder.master(\"local[*]\").getOrCreate()"
   ]
  },
  {
   "cell_type": "code",
   "execution_count": 4,
   "metadata": {
    "colab": {
     "base_uri": "https://localhost:8080/",
     "height": 51
    },
    "colab_type": "code",
    "id": "GPwVEMK3tZen",
    "outputId": "38ed4c65-d17f-4d59-fc2d-6c0d9f00f12a"
   },
   "outputs": [
    {
     "name": "stderr",
     "output_type": "stream",
     "text": [
      "/usr/local/lib/python3.6/dist-packages/statsmodels/tools/_testing.py:19: FutureWarning: pandas.util.testing is deprecated. Use the functions in the public API at pandas.testing instead.\n",
      "  import pandas.util.testing as tm\n"
     ]
    }
   ],
   "source": [
    "#Import libraries\n",
    "import time\n",
    "\n",
    "# spark imports\n",
    "from pyspark.sql import SparkSession\n",
    "from pyspark.sql.types import *\n",
    "from pyspark.sql import Row\n",
    "from pyspark.sql.functions import UserDefinedFunction, explode, desc\n",
    "from pyspark.sql.types import StringType, ArrayType\n",
    "from pyspark.mllib.recommendation import ALS\n",
    "from pyspark.ml.feature import StringIndexer\n",
    "\n",
    "# data science imports\n",
    "import math\n",
    "import numpy as np\n",
    "import pandas as pd\n",
    "\n",
    "# visualization imports\n",
    "import seaborn as sns\n",
    "import matplotlib.pyplot as plt\n",
    "\n",
    "%matplotlib inline"
   ]
  },
  {
   "cell_type": "code",
   "execution_count": 0,
   "metadata": {
    "colab": {},
    "colab_type": "code",
    "id": "lpjFctVCtexb"
   },
   "outputs": [],
   "source": [
    "#Creating an object to run SparkContext and configuration parameters set up\n",
    "sc = spark.sparkContext\n",
    "spark.conf.set(\"spark.executor.memory\", '8g')\n",
    "spark.conf.set('spark.executor.cores', '3')\n",
    "spark.conf.set('spark.cores.max', '3')\n",
    "spark.conf.set(\"spark.driver.memory\",'8g')"
   ]
  },
  {
   "cell_type": "code",
   "execution_count": 6,
   "metadata": {
    "colab": {
     "base_uri": "https://localhost:8080/",
     "height": 122
    },
    "colab_type": "code",
    "id": "iPyhpB5ntg-5",
    "outputId": "ca97054a-8e2d-4e03-87ba-3d5732831d46"
   },
   "outputs": [
    {
     "name": "stdout",
     "output_type": "stream",
     "text": [
      "Go to this URL in a browser: https://accounts.google.com/o/oauth2/auth?client_id=947318989803-6bn6qk8qdgf4n4g3pfee6491hc0brc4i.apps.googleusercontent.com&redirect_uri=urn%3aietf%3awg%3aoauth%3a2.0%3aoob&response_type=code&scope=email%20https%3a%2f%2fwww.googleapis.com%2fauth%2fdocs.test%20https%3a%2f%2fwww.googleapis.com%2fauth%2fdrive%20https%3a%2f%2fwww.googleapis.com%2fauth%2fdrive.photos.readonly%20https%3a%2f%2fwww.googleapis.com%2fauth%2fpeopleapi.readonly\n",
      "\n",
      "Enter your authorization code:\n",
      "··········\n",
      "Mounted at /content/drive\n"
     ]
    }
   ],
   "source": [
    "#Drive mounting \n",
    "from google.colab import drive\n",
    "drive.mount('/content/drive')"
   ]
  },
  {
   "cell_type": "markdown",
   "metadata": {
    "colab_type": "text",
    "id": "Mt6f3MkD2GgF"
   },
   "source": [
    "***Analyzing the ratings dataset***"
   ]
  },
  {
   "cell_type": "code",
   "execution_count": 7,
   "metadata": {
    "colab": {
     "base_uri": "https://localhost:8080/",
     "height": 34
    },
    "colab_type": "code",
    "id": "6qQgct91wEcq",
    "outputId": "fae0fc4b-2e7f-4f4a-ab1b-8653a8855acc"
   },
   "outputs": [
    {
     "data": {
      "text/plain": [
       "DataFrame[userID: int, productID: int, rating: float]"
      ]
     },
     "execution_count": 7,
     "metadata": {
      "tags": []
     },
     "output_type": "execute_result"
    }
   ],
   "source": [
    "#Creating a RDD\n",
    "data = spark.read \\\n",
    "    .format(\"csv\") \\\n",
    "    .option(\"header\", \"true\") \\\n",
    "    .option(\"inferSchema\", \"true\") \\\n",
    "    .load(\"/content/drive/My Drive/AmazonRatings\")\n",
    "data.withColumn('userID', data.userID.cast(IntegerType()))\n",
    "data.withColumn('productID', data.productID.cast(IntegerType()))\n",
    "data.withColumn('rating', data.rating.cast(FloatType()))"
   ]
  },
  {
   "cell_type": "code",
   "execution_count": 0,
   "metadata": {
    "colab": {
     "base_uri": "https://localhost:8080/",
     "height": 187
    },
    "colab_type": "code",
    "id": "InmNlvPD2RL1",
    "outputId": "26e721c1-e9e5-4335-aafe-146d86e478d5"
   },
   "outputs": [
    {
     "name": "stdout",
     "output_type": "stream",
     "text": [
      "+-------+-----------------+----------------+------------------+\n",
      "|summary|           userID|       productID|            rating|\n",
      "+-------+-----------------+----------------+------------------+\n",
      "|  count|            50000|           50000|             50000|\n",
      "|   mean|       6825.52462|      1647.20638|             4.297|\n",
      "| stddev|6079.531320262724|2040.66577409514|1.1438431568809393|\n",
      "|    min|                0|               0|               1.0|\n",
      "|    max|            21677|            8851|               5.0|\n",
      "+-------+-----------------+----------------+------------------+\n",
      "\n"
     ]
    }
   ],
   "source": [
    "#Summary of the data\n",
    "data.describe().show()"
   ]
  },
  {
   "cell_type": "code",
   "execution_count": 0,
   "metadata": {
    "colab": {
     "base_uri": "https://localhost:8080/",
     "height": 102
    },
    "colab_type": "code",
    "id": "xfxL7w5g2kUI",
    "outputId": "78ea05ee-5b7b-4c1a-da46-f53b216f25a3"
   },
   "outputs": [
    {
     "name": "stdout",
     "output_type": "stream",
     "text": [
      "root\n",
      " |-- userID: integer (nullable = true)\n",
      " |-- productID: integer (nullable = true)\n",
      " |-- rating: double (nullable = true)\n",
      "\n"
     ]
    }
   ],
   "source": [
    "#Understanding the schema of the data\n",
    "data.printSchema()"
   ]
  },
  {
   "cell_type": "code",
   "execution_count": 0,
   "metadata": {
    "colab": {
     "base_uri": "https://localhost:8080/",
     "height": 51
    },
    "colab_type": "code",
    "id": "x6b_BDYz27nh",
    "outputId": "15b0474e-b764-4793-ac71-b62798acd2c7"
   },
   "outputs": [
    {
     "name": "stdout",
     "output_type": "stream",
     "text": [
      "Distinct values of ratings:\n",
      "[1.0, 2.0, 3.0, 4.0, 5.0]\n"
     ]
    }
   ],
   "source": [
    "print('Distinct values of ratings:')\n",
    "print(sorted(data.select('rating').distinct().rdd.map(lambda r: r[0]).collect()))"
   ]
  },
  {
   "cell_type": "code",
   "execution_count": 0,
   "metadata": {
    "colab": {
     "base_uri": "https://localhost:8080/",
     "height": 68
    },
    "colab_type": "code",
    "id": "ZMum37VK27rC",
    "outputId": "3d452023-8497-4282-dfd9-e480e51b3e39"
   },
   "outputs": [
    {
     "name": "stdout",
     "output_type": "stream",
     "text": [
      "For the users that rated items and the items that were rated:\n",
      "Minimum number of ratings per user is 1\n",
      "Minimum number of ratings per item is 1\n"
     ]
    }
   ],
   "source": [
    "temp1 = data.groupBy(\"userID\").count().toPandas()['count'].min()\n",
    "temp2 = data.groupBy(\"productID\").count().toPandas()['count'].min()\n",
    "print('For the users that rated items and the items that were rated:')\n",
    "print('Minimum number of ratings per user is {}'.format(temp1))\n",
    "print('Minimum number of ratings per item is {}'.format(temp2))"
   ]
  },
  {
   "cell_type": "code",
   "execution_count": 0,
   "metadata": {
    "colab": {
     "base_uri": "https://localhost:8080/",
     "height": 34
    },
    "colab_type": "code",
    "id": "EUxQ3PIr27uA",
    "outputId": "1f5bef5b-cc8c-428f-c145-92334b4a6e63"
   },
   "outputs": [
    {
     "name": "stdout",
     "output_type": "stream",
     "text": [
      "Total number of distinct users are: 21678 in the data\n"
     ]
    }
   ],
   "source": [
    "count = data.select('userID').distinct().count()\n",
    "print('Total number of distinct users are: {} in the data'.format(count))"
   ]
  },
  {
   "cell_type": "code",
   "execution_count": 0,
   "metadata": {
    "colab": {
     "base_uri": "https://localhost:8080/",
     "height": 34
    },
    "colab_type": "code",
    "id": "Semj3esS27zz",
    "outputId": "c865c392-671e-4a29-e290-701505e80f71"
   },
   "outputs": [
    {
     "name": "stdout",
     "output_type": "stream",
     "text": [
      "Total number of distinct items are: 8852 in the data\n"
     ]
    }
   ],
   "source": [
    "count = data.select('productID').distinct().count()\n",
    "print('Total number of distinct items are: {} in the data'.format(count))"
   ]
  },
  {
   "cell_type": "markdown",
   "metadata": {
    "colab_type": "text",
    "id": "gAsX5oRc5EdZ"
   },
   "source": [
    "## **Steps for building recommendation model using ALS**\n",
    "\n",
    "\n",
    "*   Load the data as a spark RDD dataframe\n",
    "*   Split the data into train, test and validation dataset (6:2:2)\n",
    "*   Train the ALS model with train data using different input parameters:\n",
    "        - Number of iterations\n",
    "        - Number of latent factors\n",
    "        - Number of regularizations\n",
    "\n"
   ]
  },
  {
   "cell_type": "markdown",
   "metadata": {
    "colab_type": "text",
    "id": "ENgVvEiu6YVN"
   },
   "source": [
    "***Load the Spark RDD data***"
   ]
  },
  {
   "cell_type": "code",
   "execution_count": 0,
   "metadata": {
    "colab": {},
    "colab_type": "code",
    "id": "iSZqrqxkY9k6"
   },
   "outputs": [],
   "source": [
    "ratings = sc.textFile('/content/drive/My Drive/AmazonRatings')\n",
    "\n",
    "# preprocess data -- only need [\"userId\", \"productId\", \"rating\"]\n",
    "header = ratings.take(1)[0]\n",
    "rating_data = ratings \\\n",
    "    .filter(lambda line: line!=header) \\\n",
    "    .map(lambda line: line.split(\",\")) \\\n",
    "    .map(lambda tokens: (int(tokens[0]), int(tokens[1]), float(tokens[2]))) \\\n",
    "    .cache()"
   ]
  },
  {
   "cell_type": "code",
   "execution_count": 9,
   "metadata": {
    "colab": {
     "base_uri": "https://localhost:8080/",
     "height": 34
    },
    "colab_type": "code",
    "id": "9exQyGFFY9n8",
    "outputId": "53bba169-2ab3-4812-9266-353d98320a02"
   },
   "outputs": [
    {
     "data": {
      "text/plain": [
       "[(20, 4391, 4.0), (20, 4391, 4.0), (946, 2883, 5.0), (946, 2883, 5.0)]"
      ]
     },
     "execution_count": 9,
     "metadata": {
      "tags": []
     },
     "output_type": "execute_result"
    }
   ],
   "source": [
    "rating_data.take(4)"
   ]
  },
  {
   "cell_type": "markdown",
   "metadata": {
    "colab_type": "text",
    "id": "waYFFQ_N6kMR"
   },
   "source": [
    "***Train-Validation-Test Split***"
   ]
  },
  {
   "cell_type": "code",
   "execution_count": 10,
   "metadata": {
    "colab": {
     "base_uri": "https://localhost:8080/",
     "height": 34
    },
    "colab_type": "code",
    "id": "B6-d5tzUY9qz",
    "outputId": "186f0de0-5d54-403e-ce44-d12861f51429"
   },
   "outputs": [
    {
     "data": {
      "text/plain": [
       "PythonRDD[17] at RDD at PythonRDD.scala:53"
      ]
     },
     "execution_count": 10,
     "metadata": {
      "tags": []
     },
     "output_type": "execute_result"
    }
   ],
   "source": [
    "train, validation, test = rating_data.randomSplit([6, 2, 2], seed=99)\n",
    "# cache data\n",
    "train.cache()\n",
    "validation.cache()\n",
    "test.cache()"
   ]
  },
  {
   "cell_type": "code",
   "execution_count": 11,
   "metadata": {
    "colab": {
     "base_uri": "https://localhost:8080/",
     "height": 68
    },
    "colab_type": "code",
    "id": "e-BxxrRfwO_8",
    "outputId": "4f628637-b1e0-4b32-f292-bbfa77ace3aa"
   },
   "outputs": [
    {
     "name": "stdout",
     "output_type": "stream",
     "text": [
      "Train dataset size:  29829\n",
      "Validation dataset size:  10149\n",
      "Test dataset size:  10022\n"
     ]
    }
   ],
   "source": [
    "# Each dataset size\n",
    "print('Train dataset size: ', train.count())\n",
    "print('Validation dataset size: ', validation.count())\n",
    "print('Test dataset size: ' ,test.count())"
   ]
  },
  {
   "cell_type": "markdown",
   "metadata": {
    "colab_type": "text",
    "id": "MbH19pfv6rmP"
   },
   "source": [
    "***Training the model with different input parameters***"
   ]
  },
  {
   "cell_type": "code",
   "execution_count": 0,
   "metadata": {
    "colab": {},
    "colab_type": "code",
    "id": "CWQ09m9p2gcZ"
   },
   "outputs": [],
   "source": [
    "def train_ALS(train_data, validation_data, num_iters, reg_param, ranks):\n",
    "    \"\"\"\n",
    "    Grid Search Function to select the best model based on RMSE of hold-out data\n",
    "    \"\"\"\n",
    "    # initial\n",
    "    min_error = float('inf')\n",
    "    best_rank = -1\n",
    "    best_regularization = 0\n",
    "    best_model = None\n",
    "    for rank in ranks:\n",
    "        for reg in reg_param:\n",
    "            # train ALS model\n",
    "            model = ALS.train(\n",
    "                ratings=train_data,    # (userID, productID, rating) tuple\n",
    "                iterations=num_iters,\n",
    "                rank=rank,\n",
    "                lambda_=reg,           # regularization param\n",
    "                nonnegative = True,\n",
    "                seed=99)\n",
    "            # make prediction\n",
    "            valid_data = validation_data.map(lambda p: (p[0], p[1]))\n",
    "            predictions = model.predictAll(valid_data).map(lambda r: ((r[0], r[1]), r[2]))\n",
    "            # get the rating result\n",
    "            ratesAndPreds = validation_data.map(lambda r: ((r[0], r[1]), r[2])).join(predictions)\n",
    "            # get the RMSE\n",
    "            MSE = ratesAndPreds.map(lambda r: (r[1][0] - r[1][1])**2).mean()\n",
    "            error = math.sqrt(MSE)\n",
    "            print('{} latent factors and regularization = {}: validation RMSE is {}'.format(rank, reg, error))\n",
    "            if error < min_error:\n",
    "                min_error = error\n",
    "                best_rank = rank\n",
    "                best_regularization = reg\n",
    "                best_model = model\n",
    "    print('\\nThe best model has {} latent factors and regularization = {}'.format(best_rank, best_regularization))\n",
    "    return best_model"
   ]
  },
  {
   "cell_type": "code",
   "execution_count": 34,
   "metadata": {
    "colab": {
     "base_uri": "https://localhost:8080/",
     "height": 578
    },
    "colab_type": "code",
    "id": "mlSMdkoE2gfZ",
    "outputId": "b5c6924f-a24f-4dc2-d6b1-f5b182a71b3a"
   },
   "outputs": [
    {
     "name": "stdout",
     "output_type": "stream",
     "text": [
      "10 latent factors and regularization = 0.001: validation RMSE is 3.8862582022966667\n",
      "10 latent factors and regularization = 0.01: validation RMSE is 2.0685580467217615\n",
      "10 latent factors and regularization = 0.05: validation RMSE is 1.6366131301314546\n",
      "10 latent factors and regularization = 0.1: validation RMSE is 1.542165048422527\n",
      "10 latent factors and regularization = 0.2: validation RMSE is 1.4617201012741474\n",
      "12 latent factors and regularization = 0.001: validation RMSE is 3.3721834947478047\n",
      "12 latent factors and regularization = 0.01: validation RMSE is 2.0127573632264166\n",
      "12 latent factors and regularization = 0.05: validation RMSE is 1.6598461080290603\n",
      "12 latent factors and regularization = 0.1: validation RMSE is 1.5756098141965846\n",
      "12 latent factors and regularization = 0.2: validation RMSE is 1.4938474923659772\n",
      "14 latent factors and regularization = 0.001: validation RMSE is 3.60193085063171\n",
      "14 latent factors and regularization = 0.01: validation RMSE is 1.9024970227996185\n",
      "14 latent factors and regularization = 0.05: validation RMSE is 1.6255495938499893\n",
      "14 latent factors and regularization = 0.1: validation RMSE is 1.553904599621675\n",
      "14 latent factors and regularization = 0.2: validation RMSE is 1.4756230779567725\n",
      "16 latent factors and regularization = 0.001: validation RMSE is 2.3860819830663416\n",
      "16 latent factors and regularization = 0.01: validation RMSE is 1.7595046427763916\n",
      "16 latent factors and regularization = 0.05: validation RMSE is 1.5961048365858048\n",
      "16 latent factors and regularization = 0.1: validation RMSE is 1.5476227697976987\n",
      "16 latent factors and regularization = 0.2: validation RMSE is 1.489883674887096\n",
      "18 latent factors and regularization = 0.001: validation RMSE is 2.4128068160785667\n",
      "18 latent factors and regularization = 0.01: validation RMSE is 1.7190548567953587\n",
      "18 latent factors and regularization = 0.05: validation RMSE is 1.5621256950285636\n",
      "18 latent factors and regularization = 0.1: validation RMSE is 1.5347703713537146\n",
      "18 latent factors and regularization = 0.2: validation RMSE is 1.4898613586458824\n",
      "20 latent factors and regularization = 0.001: validation RMSE is 2.2377712042792237\n",
      "20 latent factors and regularization = 0.01: validation RMSE is 1.6951815436829358\n",
      "20 latent factors and regularization = 0.05: validation RMSE is 1.531486173438588\n",
      "20 latent factors and regularization = 0.1: validation RMSE is 1.5035280777304127\n",
      "20 latent factors and regularization = 0.2: validation RMSE is 1.466728176912119\n",
      "\n",
      "The best model has 10 latent factors and regularization = 0.2\n",
      "Total Runtime: 107.97 seconds\n"
     ]
    }
   ],
   "source": [
    "# hyper-param config\n",
    "num_iterations = 5\n",
    "ranks = [10, 12, 14, 16, 18, 20]\n",
    "reg_params = [0.001, 0.01, 0.05, 0.1, 0.2]\n",
    "\n",
    "# grid search and select best model\n",
    "start_time = time.time()\n",
    "final_model = train_ALS(train, validation, num_iterations, reg_params, ranks)\n",
    "print ('Total Runtime: {:.2f} seconds'.format(time.time() - start_time))"
   ]
  },
  {
   "cell_type": "markdown",
   "metadata": {
    "colab_type": "text",
    "id": "ZwbqhFUs61SG"
   },
   "source": [
    "***Plotting the model for different number of iterations***"
   ]
  },
  {
   "cell_type": "code",
   "execution_count": 0,
   "metadata": {
    "colab": {},
    "colab_type": "code",
    "id": "aE5-1pZX2gle"
   },
   "outputs": [],
   "source": [
    "def plot_learning_curve(arr_iters, train_data, validation_data, reg, rank):\n",
    "    \"\"\"\n",
    "    Plot function to show learning curve of ALS\n",
    "    \"\"\"\n",
    "    errors = []\n",
    "    for num_iters in arr_iters:\n",
    "        # train ALS model\n",
    "        model = ALS.train(\n",
    "            ratings=train_data,    # (userID, productID, rating) tuple\n",
    "            iterations=num_iters,\n",
    "            rank=rank,\n",
    "            lambda_=reg,           # regularization param\n",
    "            nonnegative = True,\n",
    "            seed=99)\n",
    "        # make prediction\n",
    "        valid_data = validation_data.map(lambda p: (p[0], p[1]))\n",
    "        predictions = model.predictAll(valid_data).map(lambda r: ((r[0], r[1]), r[2]))\n",
    "        # get the rating result\n",
    "        ratesAndPreds = validation_data.map(lambda r: ((r[0], r[1]), r[2])).join(predictions)\n",
    "        # get the RMSE\n",
    "        MSE = ratesAndPreds.map(lambda r: (r[1][0] - r[1][1])**2).mean()\n",
    "        error = math.sqrt(MSE)\n",
    "        # add to errors\n",
    "        errors.append(error)\n",
    "\n",
    "    # plot\n",
    "    plt.figure(figsize=(12, 6))\n",
    "    plt.plot(arr_iters, errors, marker='s',c='g')\n",
    "    plt.xlabel('number of iterations')\n",
    "    plt.ylabel('RMSE')\n",
    "    plt.title('ALS Learning Curve')\n",
    "    plt.grid(True)\n",
    "    plt.show()"
   ]
  },
  {
   "cell_type": "code",
   "execution_count": 0,
   "metadata": {
    "colab": {
     "base_uri": "https://localhost:8080/",
     "height": 404
    },
    "colab_type": "code",
    "id": "mokeZGXi4zyj",
    "outputId": "be92cd39-1368-4bff-ce9a-ce4970901598"
   },
   "outputs": [
    {
     "data": {
      "image/png": "[encoded data removed]",
      "text/plain": [
       "<Figure size 864x432 with 1 Axes>"
      ]
     },
     "metadata": {
      "needs_background": "light",
      "tags": []
     },
     "output_type": "display_data"
    }
   ],
   "source": [
    "# create an array of num_iters\n",
    "iter_array = list(range(1, 20))\n",
    "# create learning curve plot\n",
    "plot_learning_curve(iter_array, train, validation, 0.2, 10)"
   ]
  },
  {
   "cell_type": "markdown",
   "metadata": {
    "colab_type": "text",
    "id": "-uH-2h_97BD7"
   },
   "source": [
    "***Plotting the model for different number of latent factors***"
   ]
  },
  {
   "cell_type": "code",
   "execution_count": 0,
   "metadata": {
    "colab": {},
    "colab_type": "code",
    "id": "hTNuua0QHW6J"
   },
   "outputs": [],
   "source": [
    "def plot_learning_curve(ranks, train_data, validation_data, reg, iters):\n",
    "    \"\"\"\n",
    "    Plot function to show learning curve of ALS\n",
    "    \"\"\"\n",
    "    errors = []\n",
    "    for rank in ranks:\n",
    "        # train ALS model\n",
    "        model = ALS.train(\n",
    "            ratings=train_data,    # (userID, productID, rating) tuple\n",
    "            iterations=iters,\n",
    "            rank=rank,\n",
    "            lambda_=reg,           # regularization param\n",
    "            nonnegative = True,\n",
    "            seed=99)\n",
    "        # make prediction\n",
    "        valid_data = validation_data.map(lambda p: (p[0], p[1]))\n",
    "        predictions = model.predictAll(valid_data).map(lambda r: ((r[0], r[1]), r[2]))\n",
    "        # get the rating result\n",
    "        ratesAndPreds = validation_data.map(lambda r: ((r[0], r[1]), r[2])).join(predictions)\n",
    "        # get the RMSE\n",
    "        MSE = ratesAndPreds.map(lambda r: (r[1][0] - r[1][1])**2).mean()\n",
    "        error = math.sqrt(MSE)\n",
    "        # add to errors\n",
    "        errors.append(error)\n",
    "\n",
    "    # plot\n",
    "    plt.figure(figsize=(12, 6))\n",
    "    plt.plot(ranks, errors,marker='s',c='r')\n",
    "    plt.xlabel('number of latent factors')\n",
    "    plt.ylabel('RMSE')\n",
    "    plt.title('ALS Learning Curve')\n",
    "    plt.grid(True)\n",
    "    plt.show()"
   ]
  },
  {
   "cell_type": "code",
   "execution_count": 0,
   "metadata": {
    "colab": {
     "base_uri": "https://localhost:8080/",
     "height": 404
    },
    "colab_type": "code",
    "id": "pr9sDzL1HW9y",
    "outputId": "722dd393-04d5-4592-fdca-9fcb0cbc375d"
   },
   "outputs": [
    {
     "data": {
      "image/png": "[encoded data removed]",
      "text/plain": [
       "<Figure size 864x432 with 1 Axes>"
      ]
     },
     "metadata": {
      "needs_background": "light",
      "tags": []
     },
     "output_type": "display_data"
    }
   ],
   "source": [
    "# create an array of latent factors\n",
    "rank_array = [8,10,12,14,16,18,20]\n",
    "# create learning curve plot\n",
    "plot_learning_curve(rank_array, train, validation, 0.01, 15)"
   ]
  },
  {
   "cell_type": "markdown",
   "metadata": {
    "colab_type": "text",
    "id": "ogTvexKl7Npu"
   },
   "source": [
    "***Evaluation on test data***"
   ]
  },
  {
   "cell_type": "code",
   "execution_count": 0,
   "metadata": {
    "colab": {
     "base_uri": "https://localhost:8080/",
     "height": 34
    },
    "colab_type": "code",
    "id": "mVVBXrGU4z1f",
    "outputId": "ea4af94b-1214-4c82-a92a-4d0f7b577952"
   },
   "outputs": [
    {
     "name": "stdout",
     "output_type": "stream",
     "text": [
      "The out-of-sample RMSE of rating predictions is 1.4883\n"
     ]
    }
   ],
   "source": [
    "# make prediction using test data\n",
    "test_data = test.map(lambda p: (p[0], p[1]))\n",
    "predictions = final_model.predictAll(test_data).map(lambda r: ((r[0], r[1]), r[2]))\n",
    "# get the rating result\n",
    "ratesAndPreds = test.map(lambda r: ((r[0], r[1]), r[2])).join(predictions)\n",
    "# get the RMSE\n",
    "MSE = ratesAndPreds.map(lambda r: (r[1][0] - r[1][1])**2).mean()\n",
    "error = math.sqrt(MSE)\n",
    "print('The out-of-sample RMSE of rating predictions is', round(error, 4))"
   ]
  },
  {
   "cell_type": "code",
   "execution_count": 0,
   "metadata": {
    "colab": {
     "base_uri": "https://localhost:8080/",
     "height": 357
    },
    "colab_type": "code",
    "id": "karduHI-7f98",
    "outputId": "3cd8faee-54cc-441d-8c7a-f1a69f205b5b"
   },
   "outputs": [
    {
     "data": {
      "text/plain": [
       "[((9200, 286), 2.571978601691752),\n",
       " ((5618, 203), 4.81312272111132),\n",
       " ((4926, 1645), 2.3661862455201135),\n",
       " ((8390, 53), 3.8393389102177125),\n",
       " ((3706, 886), 2.7095479305236383),\n",
       " ((1596, 18), 2.168200537692793),\n",
       " ((1596, 18), 2.168200537692793),\n",
       " ((9336, 2709), 3.3476333021284326),\n",
       " ((4724, 2747), 0.29765803853937844),\n",
       " ((1732, 454), 4.799518767670065),\n",
       " ((1732, 454), 4.799518767670065),\n",
       " ((2602, 461), 3.8831169913793966),\n",
       " ((1550, 37), 4.133109607717692),\n",
       " ((11084, 2786), 4.9012353448756505),\n",
       " ((1310, 1457), 2.429872954157286),\n",
       " ((1202, 138), 2.20288098497994),\n",
       " ((2192, 66), 4.75782602985089),\n",
       " ((3118, 4010), 4.93750633583022),\n",
       " ((7134, 1877), 4.854220596217139),\n",
       " ((5204, 97), 4.761799481190472)]"
      ]
     },
     "execution_count": 19,
     "metadata": {
      "tags": []
     },
     "output_type": "execute_result"
    }
   ],
   "source": [
    "#Plotting the predictions\n",
    "predictions.take(20)"
   ]
  },
  {
   "cell_type": "markdown",
   "metadata": {
    "colab_type": "text",
    "id": "-8QLyyeb7Wwq"
   },
   "source": [
    "***Predictions and analysis of best model***"
   ]
  },
  {
   "cell_type": "code",
   "execution_count": 0,
   "metadata": {
    "colab": {
     "base_uri": "https://localhost:8080/",
     "height": 357
    },
    "colab_type": "code",
    "id": "QY63o8MUGLDT",
    "outputId": "4c7d141c-83ce-48b1-f4ec-d68854532866"
   },
   "outputs": [
    {
     "data": {
      "text/plain": [
       "[((477, 1449), (5.0, 4.705894710349848)),\n",
       " ((3145, 601), (5.0, 4.9972345128228355)),\n",
       " ((2038, 1440), (5.0, 4.900238389027521)),\n",
       " ((2866, 416), (5.0, 4.7506889733290745)),\n",
       " ((849, 1005), (5.0, 3.0297701323003876)),\n",
       " ((11466, 1580), (2.0, 1.9327245650960498)),\n",
       " ((3134, 1432), (5.0, 4.852891553883378)),\n",
       " ((7019, 55), (5.0, 4.778057149664647)),\n",
       " ((311, 1511), (3.0, 2.628505276596183)),\n",
       " ((311, 1511), (3.0, 2.628505276596183)),\n",
       " ((311, 1511), (3.0, 2.628505276596183)),\n",
       " ((311, 1511), (3.0, 2.628505276596183)),\n",
       " ((1079, 2947), (5.0, 0.6280320311163534)),\n",
       " ((25, 1561), (5.0, 4.91418609822861)),\n",
       " ((957, 1141), (5.0, 4.2817410281122)),\n",
       " ((12532, 1874), (5.0, 4.876260893980344)),\n",
       " ((414, 224), (1.0, 1.2454781463434177)),\n",
       " ((11744, 82), (4.0, 3.8270133041672114)),\n",
       " ((2535, 239), (5.0, 4.854087677708743)),\n",
       " ((3311, 1695), (5.0, 4.9651040603385175))]"
      ]
     },
     "execution_count": 20,
     "metadata": {
      "tags": []
     },
     "output_type": "execute_result"
    }
   ],
   "source": [
    "#original vs predictions\n",
    "ratesAndPreds.take(20)"
   ]
  },
  {
   "cell_type": "code",
   "execution_count": 0,
   "metadata": {
    "colab": {
     "base_uri": "https://localhost:8080/",
     "height": 105
    },
    "colab_type": "code",
    "id": "vJ_oVQAEJmO6",
    "outputId": "5e3ea564-7538-4143-d254-7a368226d032"
   },
   "outputs": [
    {
     "data": {
      "text/plain": [
       "[(0,\n",
       "  array('d', [0.20377470552921295, 0.5628600716590881, 0.40561437606811523, 0.4612044394016266, 0.708041787147522, 0.5044846534729004, 0.41496211290359497, 0.9613056182861328, 0.46496254205703735, 0.4898398220539093])),\n",
       " (1,\n",
       "  array('d', [0.8054433465003967, 0.6690448522567749, 0.6552834510803223, 1.0386834144592285, 0.16884833574295044, 0.8438513278961182, 0.7182007431983948, 0.224129319190979, 0.7702435851097107, 0.8051297068595886]))]"
      ]
     },
     "execution_count": 22,
     "metadata": {
      "tags": []
     },
     "output_type": "execute_result"
    }
   ],
   "source": [
    "final_model.userFeatures().sortByKey().take(2)"
   ]
  },
  {
   "cell_type": "code",
   "execution_count": 0,
   "metadata": {
    "colab": {
     "base_uri": "https://localhost:8080/",
     "height": 105
    },
    "colab_type": "code",
    "id": "sE3LvROhJmT7",
    "outputId": "f95ebce7-4f75-450e-bfc5-232a181f155c"
   },
   "outputs": [
    {
     "data": {
      "text/plain": [
       "[(0,\n",
       "  array('d', [1.0645198822021484, 0.1909005045890808, 0.17491741478443146, 0.7126218676567078, 0.22311843931674957, 0.9023882746696472, 0.42078256607055664, 0.4214809834957123, 0.4533446133136749, 0.47181436419487])),\n",
       " (1,\n",
       "  array('d', [0.2400311529636383, 0.4040917754173279, 0.7909649610519409, 0.6326550841331482, 0.2040405422449112, 0.9815348982810974, 0.19623591005802155, 0.5687397718429565, 0.8260688781738281, 0.5692168474197388]))]"
      ]
     },
     "execution_count": 23,
     "metadata": {
      "tags": []
     },
     "output_type": "execute_result"
    }
   ],
   "source": [
    "final_model.productFeatures().sortByKey().take(2)"
   ]
  },
  {
   "cell_type": "code",
   "execution_count": 0,
   "metadata": {
    "colab": {
     "base_uri": "https://localhost:8080/",
     "height": 34
    },
    "colab_type": "code",
    "id": "2BOftD0FJmXx",
    "outputId": "6ade84f1-5376-43c7-9bc4-edb5112a31c8"
   },
   "outputs": [
    {
     "data": {
      "text/plain": [
       "2.358886686980523"
      ]
     },
     "execution_count": 24,
     "metadata": {
      "tags": []
     },
     "output_type": "execute_result"
    }
   ],
   "source": [
    "np.dot( \n",
    "    final_model.userFeatures().sortByKey().take(1)[0][1], \n",
    "    final_model.productFeatures().sortByKey().take(1)[0][1] \n",
    ")"
   ]
  },
  {
   "cell_type": "code",
   "execution_count": 0,
   "metadata": {
    "colab": {
     "base_uri": "https://localhost:8080/",
     "height": 34
    },
    "colab_type": "code",
    "id": "uR2mznSsKgfb",
    "outputId": "e20a21de-aa31-4777-f4f6-c27cd5d5c8a2"
   },
   "outputs": [
    {
     "data": {
      "text/plain": [
       "[Rating(user=0, product=500, rating=3.756836091085288)]"
      ]
     },
     "execution_count": 28,
     "metadata": {
      "tags": []
     },
     "output_type": "execute_result"
    }
   ],
   "source": [
    "product = sc.parallelize([(0, 500)]) \n",
    "individual_rating_RDD = final_model.predictAll(product)\n",
    "individual_rating_RDD.collect()"
   ]
  },
  {
   "cell_type": "markdown",
   "metadata": {
    "colab_type": "text",
    "id": "8FoKW-dfgbyQ"
   },
   "source": [
    "## **Making Recommendations of Products**"
   ]
  },
  {
   "cell_type": "code",
   "execution_count": 0,
   "metadata": {
    "colab": {},
    "colab_type": "code",
    "id": "iPzToYV5gZ50"
   },
   "outputs": [],
   "source": [
    "#reload the data\n",
    "ratings = sc.textFile('/content/drive/My Drive/AmazonRatings')\n",
    "\n",
    "# preprocess data -- only need [\"userId\", \"productId\", \"rating\"]\n",
    "header = ratings.take(1)[0]\n",
    "rating_data = ratings \\\n",
    "    .filter(lambda line: line!=header) \\\n",
    "    .map(lambda line: line.split(\",\")) \\\n",
    "    .map(lambda tokens: (int(tokens[0]), int(tokens[1]), float(tokens[2]))) \\\n",
    "    .cache()"
   ]
  },
  {
   "cell_type": "code",
   "execution_count": 15,
   "metadata": {
    "colab": {
     "base_uri": "https://localhost:8080/",
     "height": 187
    },
    "colab_type": "code",
    "id": "4ik3T6megZ9z",
    "outputId": "fa27b448-f6fc-4c45-fa05-65a7ad7434ee"
   },
   "outputs": [
    {
     "data": {
      "text/plain": [
       "[(20, 4391, 4.0),\n",
       " (20, 4391, 4.0),\n",
       " (946, 2883, 5.0),\n",
       " (946, 2883, 5.0),\n",
       " (4622, 1491, 5.0),\n",
       " (4622, 1491, 5.0),\n",
       " (9825, 79, 2.0),\n",
       " (9825, 79, 2.0),\n",
       " (7545, 2015, 5.0),\n",
       " (7545, 2015, 5.0)]"
      ]
     },
     "execution_count": 15,
     "metadata": {
      "tags": []
     },
     "output_type": "execute_result"
    }
   ],
   "source": [
    "#Checking the tuple\n",
    "rating_data.take(10)"
   ]
  },
  {
   "cell_type": "code",
   "execution_count": 0,
   "metadata": {
    "colab": {},
    "colab_type": "code",
    "id": "IgCIfboziqpp"
   },
   "outputs": [],
   "source": [
    "#Load the titles data\n",
    "pd.options.display.max_colwidth = 100\n",
    "title_df = pd.read_csv('/content/drive/My Drive/AmazonTitles')"
   ]
  },
  {
   "cell_type": "code",
   "execution_count": 0,
   "metadata": {
    "colab": {},
    "colab_type": "code",
    "id": "QJUcD5sxjg6L"
   },
   "outputs": [],
   "source": [
    "#Drop the duplicates in titles data\n",
    "title_df.drop_duplicates(subset = ['productID'],inplace = True)"
   ]
  },
  {
   "cell_type": "code",
   "execution_count": 18,
   "metadata": {
    "colab": {
     "base_uri": "https://localhost:8080/",
     "height": 34
    },
    "colab_type": "code",
    "id": "WpyPtyCEr75i",
    "outputId": "f747989d-4b07-4c48-f23c-f97d9ba311ef"
   },
   "outputs": [
    {
     "name": "stdout",
     "output_type": "stream",
     "text": [
      "Number of unique products:  8852\n"
     ]
    }
   ],
   "source": [
    "#Total products\n",
    "print('Number of unique products: ', title_df.shape[0])"
   ]
  },
  {
   "cell_type": "code",
   "execution_count": 19,
   "metadata": {
    "colab": {
     "base_uri": "https://localhost:8080/",
     "height": 669
    },
    "colab_type": "code",
    "id": "6weXm_gho6Hk",
    "outputId": "d966e407-8159-49c0-dd8d-95ec55080836"
   },
   "outputs": [
    {
     "data": {
      "text/html": [
       "<div>\n",
       "<style scoped>\n",
       "    .dataframe tbody tr th:only-of-type {\n",
       "        vertical-align: middle;\n",
       "    }\n",
       "\n",
       "    .dataframe tbody tr th {\n",
       "        vertical-align: top;\n",
       "    }\n",
       "\n",
       "    .dataframe thead th {\n",
       "        text-align: right;\n",
       "    }\n",
       "</style>\n",
       "<table border=\"1\" class=\"dataframe\">\n",
       "  <thead>\n",
       "    <tr style=\"text-align: right;\">\n",
       "      <th></th>\n",
       "      <th>productID</th>\n",
       "      <th>title</th>\n",
       "    </tr>\n",
       "  </thead>\n",
       "  <tbody>\n",
       "    <tr>\n",
       "      <th>0</th>\n",
       "      <td>4391</td>\n",
       "      <td>George Foreman GR20WHT XL Grill</td>\n",
       "    </tr>\n",
       "    <tr>\n",
       "      <th>2</th>\n",
       "      <td>2883</td>\n",
       "      <td>Polder 307T 307 Preset Thermometer, White</td>\n",
       "    </tr>\n",
       "    <tr>\n",
       "      <th>4</th>\n",
       "      <td>1491</td>\n",
       "      <td>Hamilton Beach 52204 Blender/Food Processor</td>\n",
       "    </tr>\n",
       "    <tr>\n",
       "      <th>6</th>\n",
       "      <td>79</td>\n",
       "      <td>Zojirushi NHS-10 6-Cup (Uncooked) Rice Cooker</td>\n",
       "    </tr>\n",
       "    <tr>\n",
       "      <th>8</th>\n",
       "      <td>2015</td>\n",
       "      <td>Le Creuset Enameled Cast-Iron 2-1/4-Quart Pumpkin Casserole, Flame</td>\n",
       "    </tr>\n",
       "    <tr>\n",
       "      <th>10</th>\n",
       "      <td>1449</td>\n",
       "      <td>OXO Good Grips Garlic Press</td>\n",
       "    </tr>\n",
       "    <tr>\n",
       "      <th>12</th>\n",
       "      <td>4994</td>\n",
       "      <td>OXO 20581 Grater</td>\n",
       "    </tr>\n",
       "    <tr>\n",
       "      <th>14</th>\n",
       "      <td>136</td>\n",
       "      <td>Hoffritz Stainless-Steel Mandoline Slicer</td>\n",
       "    </tr>\n",
       "    <tr>\n",
       "      <th>18</th>\n",
       "      <td>753</td>\n",
       "      <td>Cuisipro Stainless Steel Measuring Spoon Set</td>\n",
       "    </tr>\n",
       "    <tr>\n",
       "      <th>20</th>\n",
       "      <td>381</td>\n",
       "      <td>Norpro Egg Perfect Egg Timer</td>\n",
       "    </tr>\n",
       "    <tr>\n",
       "      <th>22</th>\n",
       "      <td>1736</td>\n",
       "      <td>Cuisinart DGB-300 Automatic Grind &amp; Brew 10-Cup Coffeemaker, White</td>\n",
       "    </tr>\n",
       "    <tr>\n",
       "      <th>24</th>\n",
       "      <td>2822</td>\n",
       "      <td>Riedel Vinum Burgundy/Pinot Noir Wine Glasses, Set of 2</td>\n",
       "    </tr>\n",
       "    <tr>\n",
       "      <th>26</th>\n",
       "      <td>82</td>\n",
       "      <td>George Foreman GR10AWHT Champ Grill</td>\n",
       "    </tr>\n",
       "    <tr>\n",
       "      <th>28</th>\n",
       "      <td>399</td>\n",
       "      <td>KitchenAid KBC90N 2-Pack Bowl Covers for Tilt-Head Stand Mixers</td>\n",
       "    </tr>\n",
       "    <tr>\n",
       "      <th>32</th>\n",
       "      <td>5621</td>\n",
       "      <td>Cuisinart WMR-C Classic Round Waffle Maker</td>\n",
       "    </tr>\n",
       "    <tr>\n",
       "      <th>34</th>\n",
       "      <td>2628</td>\n",
       "      <td>Lodge 2-1/2-Quart Cast Iron Deep Fryer Kit</td>\n",
       "    </tr>\n",
       "    <tr>\n",
       "      <th>36</th>\n",
       "      <td>254</td>\n",
       "      <td>Amco Stainless Steel Measuring Cups, Set of 4</td>\n",
       "    </tr>\n",
       "    <tr>\n",
       "      <th>38</th>\n",
       "      <td>323</td>\n",
       "      <td>Proctor-Silex 26500Y Durable Belgian Waffle Baker</td>\n",
       "    </tr>\n",
       "    <tr>\n",
       "      <th>40</th>\n",
       "      <td>78</td>\n",
       "      <td>Polder Portable Kitchen Timer, Clock, and Stopwatch Combination - Easy to read digital display a...</td>\n",
       "    </tr>\n",
       "    <tr>\n",
       "      <th>42</th>\n",
       "      <td>601</td>\n",
       "      <td>Braun KF187W FlavorSelect 12-Cup Coffeemaker, White</td>\n",
       "    </tr>\n",
       "  </tbody>\n",
       "</table>\n",
       "</div>"
      ],
      "text/plain": [
       "    productID                                                                                                title\n",
       "0        4391                                                                      George Foreman GR20WHT XL Grill\n",
       "2        2883                                                            Polder 307T 307 Preset Thermometer, White\n",
       "4        1491                                                          Hamilton Beach 52204 Blender/Food Processor\n",
       "6          79                                                        Zojirushi NHS-10 6-Cup (Uncooked) Rice Cooker\n",
       "8        2015                                   Le Creuset Enameled Cast-Iron 2-1/4-Quart Pumpkin Casserole, Flame\n",
       "10       1449                                                                          OXO Good Grips Garlic Press\n",
       "12       4994                                                                                     OXO 20581 Grater\n",
       "14        136                                                            Hoffritz Stainless-Steel Mandoline Slicer\n",
       "18        753                                                         Cuisipro Stainless Steel Measuring Spoon Set\n",
       "20        381                                                                         Norpro Egg Perfect Egg Timer\n",
       "22       1736                                   Cuisinart DGB-300 Automatic Grind & Brew 10-Cup Coffeemaker, White\n",
       "24       2822                                              Riedel Vinum Burgundy/Pinot Noir Wine Glasses, Set of 2\n",
       "26         82                                                                  George Foreman GR10AWHT Champ Grill\n",
       "28        399                                      KitchenAid KBC90N 2-Pack Bowl Covers for Tilt-Head Stand Mixers\n",
       "32       5621                                                           Cuisinart WMR-C Classic Round Waffle Maker\n",
       "34       2628                                                           Lodge 2-1/2-Quart Cast Iron Deep Fryer Kit\n",
       "36        254                                                        Amco Stainless Steel Measuring Cups, Set of 4\n",
       "38        323                                                    Proctor-Silex 26500Y Durable Belgian Waffle Baker\n",
       "40         78  Polder Portable Kitchen Timer, Clock, and Stopwatch Combination - Easy to read digital display a...\n",
       "42        601                                                  Braun KF187W FlavorSelect 12-Cup Coffeemaker, White"
      ]
     },
     "execution_count": 19,
     "metadata": {
      "tags": []
     },
     "output_type": "execute_result"
    }
   ],
   "source": [
    "#Display of productID's with their respective titles\n",
    "pd.options.display.max_colwidth = 100\n",
    "title_df.head(20)"
   ]
  },
  {
   "cell_type": "code",
   "execution_count": 0,
   "metadata": {
    "colab": {},
    "colab_type": "code",
    "id": "JQKfRHFljXMD"
   },
   "outputs": [],
   "source": [
    "#Create a spark dataframe\n",
    "titles = spark.createDataFrame(title_df)"
   ]
  },
  {
   "cell_type": "markdown",
   "metadata": {
    "colab_type": "text",
    "id": "6UBtO_P5De78"
   },
   "source": [
    "\n",
    "\n",
    "> **get_itemId**: This function returns the productsID's corresponding to user's choice of products\n",
    "\n",
    "\n",
    "\n",
    ">> 1.   Input parameters: title data and user's item list\n",
    "2.   Return parameter: list of productID's correspponding to user choice\n",
    "\n",
    "\n"
   ]
  },
  {
   "cell_type": "code",
   "execution_count": 0,
   "metadata": {
    "colab": {},
    "colab_type": "code",
    "id": "pgJWo4bghK0P"
   },
   "outputs": [],
   "source": [
    "def get_itemId(df_titles, mylist):\n",
    "    itemID_list = []\n",
    "    for item in mylist:\n",
    "        itemIds = df_titles \\\n",
    "            .filter(titles.title.like('%{}%'.format(item))) \\\n",
    "            .select('productID') \\\n",
    "            .rdd \\\n",
    "            .map(lambda r: r[0]) \\\n",
    "            .collect()\n",
    "        itemID_list.extend(itemIds)\n",
    "    return list(set(itemID_list))"
   ]
  },
  {
   "cell_type": "markdown",
   "metadata": {
    "colab_type": "text",
    "id": "t7wehDZcEkn2"
   },
   "source": [
    "> **add_data_to_train**: This function returns the new training data including the new user to the existing training data\n",
    "\n",
    "\n",
    "\n",
    ">> 1.   Input parameters: training data and user's item list\n",
    "2.   Return parameter: new training data"
   ]
  },
  {
   "cell_type": "code",
   "execution_count": 0,
   "metadata": {
    "colab": {},
    "colab_type": "code",
    "id": "LIAFDKy4U_ED"
   },
   "outputs": [],
   "source": [
    "def add_data_to_train(train_data, item_list):\n",
    "    # get new user id\n",
    "    new_id = train_data.map(lambda r: r[0]).max() + 1\n",
    "    # get max rating\n",
    "    max_rating = train_data.map(lambda r: r[2]).max()\n",
    "    # create new user rdd\n",
    "    user_rows = [(new_id, item, max_rating) for item in item_list]\n",
    "    new_rdd = sc.parallelize(user_rows)\n",
    "    # return new train data\n",
    "    return train_data.union(new_rdd)"
   ]
  },
  {
   "cell_type": "markdown",
   "metadata": {
    "colab_type": "text",
    "id": "MANWSyvXFFp8"
   },
   "source": [
    "> **get_modified**: This function returns the inference data where we exclude the items of users choice and then make predictions\n",
    "\n",
    "\n",
    "\n",
    ">> 1.   Input parameters: training data, title data and user's item list\n",
    "2.   Return parameter: test data for prediction"
   ]
  },
  {
   "cell_type": "code",
   "execution_count": 0,
   "metadata": {
    "colab": {},
    "colab_type": "code",
    "id": "PgpVup4aKgmb"
   },
   "outputs": [],
   "source": [
    "def get_modified(train_data, title_data, item_list):\n",
    "    # get new user id\n",
    "    new_id = train_data.map(lambda r: r[0]).max() + 1\n",
    "    # return inference rdd\n",
    "    return title_data.rdd \\\n",
    "        .map(lambda r: r[0]) \\\n",
    "        .distinct() \\\n",
    "        .filter(lambda x: x not in item_list) \\\n",
    "        .map(lambda x: (new_id, x))"
   ]
  },
  {
   "cell_type": "markdown",
   "metadata": {
    "colab_type": "text",
    "id": "aMl_TdwEFsQ5"
   },
   "source": [
    "***Making Recommendations by training the best model***"
   ]
  },
  {
   "cell_type": "code",
   "execution_count": 0,
   "metadata": {
    "colab": {},
    "colab_type": "code",
    "id": "khssbaSNKgpj"
   },
   "outputs": [],
   "source": [
    "def get_recommendations(best_model_params, ratings_data, title_data, \n",
    "                        mylist,toprecs):\n",
    "    # modify train data by adding new user's rows\n",
    "    prod_list = get_itemId(title_data, mylist)\n",
    "    train_data = add_data_to_train(ratings_data, prod_list)\n",
    "    \n",
    "    # train best ALS\n",
    "    model = ALS.train(\n",
    "        ratings=train_data,\n",
    "        iterations=best_model_params.get('iterations', None),\n",
    "        rank=best_model_params.get('rank', None),\n",
    "        lambda_=best_model_params.get('lambda_', None),\n",
    "        seed=99)\n",
    "    \n",
    "    # get inference rdd\n",
    "    inference_rdd = get_modified(ratings_data, title_data, prod_list)\n",
    "    \n",
    "    # inference\n",
    "    predictions = model.predictAll(inference_rdd).map(lambda r: (r[1], r[2]))\n",
    "    \n",
    "    # get top n productids\n",
    "    topn_rows = predictions.sortBy(lambda r: r[1], ascending=False).take(toprecs)\n",
    "    topn_ids = [r[0] for r in topn_rows]\n",
    "    \n",
    "    # return titles for top products\n",
    "    return title_data.filter(title_data.productID.isin(topn_ids)) \\\n",
    "                    .select('title') \\\n",
    "                    .rdd \\\n",
    "                    .map(lambda r: r[0]) \\\n",
    "                    .collect()"
   ]
  },
  {
   "cell_type": "markdown",
   "metadata": {
    "colab_type": "text",
    "id": "rf5BxHegF3dA"
   },
   "source": [
    "### A) Test for a single item from the item list(title data) available"
   ]
  },
  {
   "cell_type": "code",
   "execution_count": 26,
   "metadata": {
    "colab": {
     "base_uri": "https://localhost:8080/",
     "height": 204
    },
    "colab_type": "code",
    "id": "R16A2K54Kgsd",
    "outputId": "7c4eef04-ef9f-4925-b876-a794d6643843"
   },
   "outputs": [
    {
     "name": "stdout",
     "output_type": "stream",
     "text": [
      "Recommendations for Zojirushi NHS-10 6-Cup (Uncooked) Rice Cooker:\n",
      "1: Fiesta 10-1/4-Inch Deep Dish Pie Baker, Sunflower\n",
      "2: Norpro Silcone Basting/Pastry Brush\n",
      "3: Mastrad Silicone Spoon, Blue\n",
      "4: Mastrad 12-Inch Stainless and Silicone Tongs\n",
      "5: Le Creuset Enameled Cast-Iron 15-3/4-by-10-3/4-Inch Rectangular Roaster, Cherry\n",
      "6: Orka Gourmet 27-Ounce Round Steamer, Blue\n",
      "7: J.A. Henckels Bellasera 45-Piece Flatware Set, Service for 8\n",
      "8: Polder Traffic Light Kitchen Timer\n",
      "9: Lodge 3.6 Quart Cast Iron Casserole Pan. Red Enamel Cast Iron Casserole Dish with Dual Handles and Lid (Island Spice Red)\n",
      "10: Eureka RR Style Synthetic Bag, 3 pack\n"
     ]
    }
   ],
   "source": [
    "# my items\n",
    "my_item_list = ['Zojirushi NHS-10 6-Cup (Uncooked) Rice Cooker']\n",
    "\n",
    "# get recommends\n",
    "recommends = get_recommendations(\n",
    "    best_model_params={'iterations': 15, 'rank': 10, 'lambda_': 0.2}, \n",
    "    ratings_data=rating_data, \n",
    "    title_data=titles, \n",
    "    mylist=my_item_list,\n",
    "    toprecs=10)\n",
    "\n",
    "print('Recommendations for {}:'.format(my_item_list[0]))\n",
    "for i, title in enumerate(recommends):\n",
    "    print('{0}: {1}'.format(i+1, title))"
   ]
  },
  {
   "cell_type": "code",
   "execution_count": 35,
   "metadata": {
    "colab": {
     "base_uri": "https://localhost:8080/",
     "height": 374
    },
    "colab_type": "code",
    "id": "kbYnRBQ4MyLh",
    "outputId": "350505ac-7b71-43d0-8195-5fa3a3f40be9"
   },
   "outputs": [
    {
     "name": "stdout",
     "output_type": "stream",
     "text": [
      "Recommendations for Cuisipro Stainless Steel Measuring Spoon Set:\n",
      "1: Polder 307T 307 Preset Thermometer, White\n",
      "2: Le Creuset Enameled Cast Iron Round French Oven (5 1/2 Quart, Cherry Red)\n",
      "3: Eureka 570B  Cordless Boss Upright Vacuum\n",
      "4: Hamilton Beach 04162 HEPA Air Purifier with UV Germicidal Light\n",
      "5: Coopers DIY Beer Home Brewing 6 Gallon All Inclusive Craft Beer Making Kit with Patented Brewing Fermenter, Beer Hydrometer, Brewing Ingredients, Bottles and Brewing Accessories\n",
      "6: Medelco 4 Cup Universal Glass Espresso Replacement Carafe, Black\n",
      "7: Anolon Advanced Nonstick Hard-Anodized Aluminum 8-Piece Cookware Set\n",
      "8: Cuisipro Accutec Razor-Sharp Kitchen Rasp\n",
      "9: Prepac Black 7-Drawer Lingerie Chest\n",
      "10: The ARC Curved Shower Bar, Stainless Steel\n",
      "11: Vacu Vin Foil Cutter with Magnetic Holder\n",
      "12: EnviroCare Replacement Micro Filtration Vacuum Bags for Hoover Windtunnel Upright Type Y 18 Pack\n",
      "13: Polder 893-90 Dual Kitchen 20-Hour Timer/Clock/Stopwatch\n",
      "14: KitchenAid Silicone Mixer Spatula, Almond\n",
      "15: iSi One Pint Dessert Whip, White\n",
      "16: Tovolo Spatulart Measurement Conversion Spatula\n",
      "17: Corelle Impressions 20-Ounce Salad/Pasta Bowl, Chutney\n",
      "18: OXO Good Grips Stainless Steel Bladed Dough Blender and Cutter\n",
      "19: Elite Home Renaissance 600-Thread-Count Cotton Sateen King Sheet Set, Ivory\n",
      "20: Shake-N-Lite Vibrating Alarm Clock with Backlight\n"
     ]
    }
   ],
   "source": [
    "# my items\n",
    "my_item_list = ['Cuisipro Stainless Steel Measuring Spoon Set']\n",
    "\n",
    "# get recommends\n",
    "recommends = get_recommendations(\n",
    "    best_model_params={'iterations': 15, 'rank': 10, 'lambda_': 0.2}, \n",
    "    ratings_data=rating_data, \n",
    "    title_data=titles, \n",
    "    mylist=my_item_list,\n",
    "    toprecs=20)\n",
    "\n",
    "print('Recommendations for {}:'.format(my_item_list[0]))\n",
    "for i, title in enumerate(recommends):\n",
    "    print('{0}: {1}'.format(i+1, title))"
   ]
  },
  {
   "cell_type": "markdown",
   "metadata": {
    "colab_type": "text",
    "id": "AdZzktRAGFpZ"
   },
   "source": [
    "### B) Test for 2 items from the item list(title data) available"
   ]
  },
  {
   "cell_type": "code",
   "execution_count": 30,
   "metadata": {
    "colab": {
     "base_uri": "https://localhost:8080/",
     "height": 374
    },
    "colab_type": "code",
    "id": "IigXIx_xrrz-",
    "outputId": "497595e9-09b7-4a02-f478-bc7257fbe16e"
   },
   "outputs": [
    {
     "name": "stdout",
     "output_type": "stream",
     "text": [
      "Recommendations for ['Proctor-Silex 26500Y Durable Belgian Waffle Baker', 'OXO Good Grips Garlic Press']:\n",
      "1: Amco Stainless-Steel Cocktail Picks, Set of 4\n",
      "2: Pyrex 6022369 Storage 14-Piece Round Set, Clear with Blue Lids\n",
      "3: FoodSaver 1 Quart Size Bag, Package of 48\n",
      "4: simplehuman KT1025 System Stainless-Steel Dish Rack\n",
      "5: KitchenAid KHM900ER 9-Speed Hand-Mixer, Empire Red\n",
      "6: Classic 7\" Hollow Edge Santoku Knife with Board\n",
      "7: MASTERCOOL (52224-A-SP Gray Infrared Thermometer with Laser\n",
      "8: Polder 77-90 Diet Utility Food Scale, 18 oz./500 g Capacity, White\n",
      "9: OXO Good Grips Vegetable Brush (color may vary)\n",
      "10: William Bounds Sili Gourmet V-Shaped Roasting Rack\n",
      "11: Melitta Coffee Maker, 6 Cup Pour-Over Brewer with Glass Carafe, 1-Count\n",
      "12: Bardwil Reflections Spill Proof Oblong / Rectangle Tablecloth, 60-Inch x 102-Inch, Pearl\n",
      "13: Cuisinart TOB-195 Exact Heat Toaster Oven Broiler, Stainless\n",
      "14: Lodge 10-1/4-Inch Cast-Iron Lid\n",
      "15: Weber 7514 Warm-Up Basket (24.3 x 4 x 0.6)\n",
      "16: Brentwood Originals Laurel Burch 18-inch Feline Friends Square Pillow\n",
      "17: Height Adjustable Bed Risers Set of 6 - Black\n",
      "18: Hamilton Beach HDC500B 4 Cup Coffee Brewer\n",
      "19: Lenox Opal Innocence Platinum-Banded Bone China 5-Piece Place Setting, Service for 1\n",
      "20: Lolita Glassware, 5 O'Clock Somewhere Martini Glass\n"
     ]
    }
   ],
   "source": [
    "# my items\n",
    "my_item_list = ['Proctor-Silex 26500Y Durable Belgian Waffle Baker',\n",
    "                'OXO Good Grips Garlic Press']\n",
    "\n",
    "# get recommends\n",
    "recommends = get_recommendations(\n",
    "    best_model_params={'iterations': 15, 'rank': 10, 'lambda_': 0.2}, \n",
    "    ratings_data=rating_data, \n",
    "    title_data=titles, \n",
    "    mylist=my_item_list,\n",
    "    toprecs = 20)\n",
    "\n",
    "print('Recommendations for {}:'.format(my_item_list))\n",
    "for i, title in enumerate(recommends):\n",
    "    print('{0}: {1}'.format(i+1, title))"
   ]
  },
  {
   "cell_type": "markdown",
   "metadata": {
    "colab_type": "text",
    "id": "nb8hy_CUGMDT"
   },
   "source": [
    "### **Getting a quick review of our recommendations**\n",
    "\n",
    "#### **My purchased list:**\n",
    "> 1. [Waffle Baker](https://www.amazon.com/Proctor-Silex-26500Y-Durable-Belgian-Waffle/dp/B00004X13D)\n",
    "2. [Rice Cooker](https://www.amazon.com/OXO-Grips-Soft-Handled-Garlic-Press/dp/B00HEZ888K)\n",
    "\n",
    "#### **Top 5 Recommendations:**\n",
    "> 1. [Stainless Steel Set](https://www.amazon.com/Amco-Stainless-Steel-Cocktail-Picks-Set/product-reviews/B00005N9DL)\n",
    "2. [Storage Set](https://www.amazon.com/Pyrex-692264408076-6022369-Storage-14-Piece/product-reviews/B0000CFTB0)\n",
    "3. [Bed Sheet Set](https://www.amazon.com/FoodSaver-BPA-Free-Multilayer-Construction-Preservation/dp/B01D5TM5MS)\n",
    "4. [Dish Rack](https://www.amazon.com/simplehuman-kt1025-system-stainless-steel-dish/dp/b000c2205e)\n",
    "5. [Hand Mixer](https://www.amazon.com/gp/product/B000JLFLYU)"
   ]
  },
  {
   "cell_type": "markdown",
   "metadata": {},
   "source": [
    "## Conclusion:\n",
    "\n",
    "#### The ALS recommender does a decent job in recommending relevant items. Carefully designing the model by finding the best parameters has improvised the results.\n",
    "\n",
    "#### Though the recommendations makes sense, in the above cell, the recommendation of Storage Set given the favourite list is waffle baker and cooker does not show very good results.\n",
    "\n",
    "#### These recommendations are further compared with the results recommendations made by LDA model where the reviewText is being taken into consideration."
   ]
  }
 ],
 "metadata": {
  "colab": {
   "collapsed_sections": [],
   "name": "Collaborative Filtering ALS (Item Based).ipynb",
   "provenance": []
  },
  "kernelspec": {
   "display_name": "Python 3",
   "language": "python",
   "name": "python3"
  },
  "language_info": {
   "codemirror_mode": {
    "name": "ipython",
    "version": 3
   },
   "file_extension": ".py",
   "mimetype": "text/x-python",
   "name": "python",
   "nbconvert_exporter": "python",
   "pygments_lexer": "ipython3",
   "version": "3.7.4"
  }
 },
 "nbformat": 4,
 "nbformat_minor": 1
}
