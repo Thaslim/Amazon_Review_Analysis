{
 "cells": [
  {
   "cell_type": "code",
   "execution_count": 1,
   "metadata": {},
   "outputs": [],
   "source": [
    "#import libraries\n",
    "import pandas as pd\n",
    "\n",
    "from pyspark.context import SparkContext\n",
    "from pyspark.sql.session import SparkSession\n",
    "from pyspark.ml.feature import StringIndexer"
   ]
  },
  {
   "cell_type": "code",
   "execution_count": 2,
   "metadata": {},
   "outputs": [],
   "source": [
    "#import ratings data\n",
    "df_ratings = pd.read_csv('Preprocessed_data_csv')"
   ]
  },
  {
   "cell_type": "code",
   "execution_count": 8,
   "metadata": {},
   "outputs": [
    {
     "name": "stdout",
     "output_type": "stream",
     "text": [
      "Total number of Ratings: 6053296\n"
     ]
    }
   ],
   "source": [
    "print(\"Total number of Ratings: {}\".format(df_ratings.shape[0]))"
   ]
  },
  {
   "cell_type": "code",
   "execution_count": 3,
   "metadata": {},
   "outputs": [],
   "source": [
    "#import title data\n",
    "df_title = pd.read_csv('title_data_csv')"
   ]
  },
  {
   "cell_type": "code",
   "execution_count": 9,
   "metadata": {},
   "outputs": [
    {
     "name": "stdout",
     "output_type": "stream",
     "text": [
      "Total number of Ratings: 1301225\n"
     ]
    }
   ],
   "source": [
    "print(\"Total number of Ratings: {}\".format(df_title.shape[0]))"
   ]
  },
  {
   "cell_type": "code",
   "execution_count": 5,
   "metadata": {},
   "outputs": [
    {
     "data": {
      "text/html": [
       "<div>\n",
       "<style scoped>\n",
       "    .dataframe tbody tr th:only-of-type {\n",
       "        vertical-align: middle;\n",
       "    }\n",
       "\n",
       "    .dataframe tbody tr th {\n",
       "        vertical-align: top;\n",
       "    }\n",
       "\n",
       "    .dataframe thead th {\n",
       "        text-align: right;\n",
       "    }\n",
       "</style>\n",
       "<table border=\"1\" class=\"dataframe\">\n",
       "  <thead>\n",
       "    <tr style=\"text-align: right;\">\n",
       "      <th></th>\n",
       "      <th>overall</th>\n",
       "      <th>reviewerID</th>\n",
       "      <th>asin</th>\n",
       "      <th>title</th>\n",
       "    </tr>\n",
       "  </thead>\n",
       "  <tbody>\n",
       "    <tr>\n",
       "      <td>0</td>\n",
       "      <td>4.0</td>\n",
       "      <td>A2MNB77YGJ3CN0</td>\n",
       "      <td>B00004R940</td>\n",
       "      <td>George Foreman GR20WHT XL Grill</td>\n",
       "    </tr>\n",
       "    <tr>\n",
       "      <td>1</td>\n",
       "      <td>4.0</td>\n",
       "      <td>A2MNB77YGJ3CN0</td>\n",
       "      <td>B00004R940</td>\n",
       "      <td>George Foreman GR20WHT XL Grill</td>\n",
       "    </tr>\n",
       "    <tr>\n",
       "      <td>2</td>\n",
       "      <td>5.0</td>\n",
       "      <td>A1LUUO72VAFKFJ</td>\n",
       "      <td>B00004S4TZ</td>\n",
       "      <td>Polder 307T 307 Preset Thermometer, White</td>\n",
       "    </tr>\n",
       "    <tr>\n",
       "      <td>3</td>\n",
       "      <td>5.0</td>\n",
       "      <td>A1LUUO72VAFKFJ</td>\n",
       "      <td>B00004S4TZ</td>\n",
       "      <td>Polder 307T 307 Preset Thermometer, White</td>\n",
       "    </tr>\n",
       "    <tr>\n",
       "      <td>4</td>\n",
       "      <td>5.0</td>\n",
       "      <td>ALSQSIHU2ETLM</td>\n",
       "      <td>B00004RDAZ</td>\n",
       "      <td>Hamilton Beach 52204 Blender/Food Processor</td>\n",
       "    </tr>\n",
       "  </tbody>\n",
       "</table>\n",
       "</div>"
      ],
      "text/plain": [
       "   overall      reviewerID        asin  \\\n",
       "0      4.0  A2MNB77YGJ3CN0  B00004R940   \n",
       "1      4.0  A2MNB77YGJ3CN0  B00004R940   \n",
       "2      5.0  A1LUUO72VAFKFJ  B00004S4TZ   \n",
       "3      5.0  A1LUUO72VAFKFJ  B00004S4TZ   \n",
       "4      5.0   ALSQSIHU2ETLM  B00004RDAZ   \n",
       "\n",
       "                                         title  \n",
       "0              George Foreman GR20WHT XL Grill  \n",
       "1              George Foreman GR20WHT XL Grill  \n",
       "2    Polder 307T 307 Preset Thermometer, White  \n",
       "3    Polder 307T 307 Preset Thermometer, White  \n",
       "4  Hamilton Beach 52204 Blender/Food Processor  "
      ]
     },
     "execution_count": 5,
     "metadata": {},
     "output_type": "execute_result"
    }
   ],
   "source": [
    "#Merge the data \n",
    "df = pd.merge(df_ratings,df_title,on='asin',how='left')\n",
    "df.head()"
   ]
  },
  {
   "cell_type": "code",
   "execution_count": 10,
   "metadata": {},
   "outputs": [],
   "source": [
    "#take portion of data\n",
    "df = df.iloc[0:50000]"
   ]
  },
  {
   "cell_type": "code",
   "execution_count": 11,
   "metadata": {},
   "outputs": [
    {
     "data": {
      "text/plain": [
       "overall       50000\n",
       "reviewerID    50000\n",
       "asin          50000\n",
       "title         50000\n",
       "dtype: int64"
      ]
     },
     "execution_count": 11,
     "metadata": {},
     "output_type": "execute_result"
    }
   ],
   "source": [
    "df.count()"
   ]
  },
  {
   "cell_type": "code",
   "execution_count": 13,
   "metadata": {},
   "outputs": [],
   "source": [
    "#Creating Spark Context\n",
    "sc = SparkContext('local')\n",
    "spark = SparkSession(sc)"
   ]
  },
  {
   "cell_type": "code",
   "execution_count": 14,
   "metadata": {},
   "outputs": [],
   "source": [
    "#Create a spark dataframe\n",
    "data = spark.createDataFrame(df)"
   ]
  },
  {
   "cell_type": "code",
   "execution_count": 15,
   "metadata": {},
   "outputs": [
    {
     "name": "stdout",
     "output_type": "stream",
     "text": [
      "+-------+--------------+----------+--------------------+\n",
      "|overall|    reviewerID|      asin|               title|\n",
      "+-------+--------------+----------+--------------------+\n",
      "|    4.0|A2MNB77YGJ3CN0|B00004R940|George Foreman GR...|\n",
      "|    4.0|A2MNB77YGJ3CN0|B00004R940|George Foreman GR...|\n",
      "|    5.0|A1LUUO72VAFKFJ|B00004S4TZ|Polder 307T 307 P...|\n",
      "|    5.0|A1LUUO72VAFKFJ|B00004S4TZ|Polder 307T 307 P...|\n",
      "|    5.0| ALSQSIHU2ETLM|B00004RDAZ|Hamilton Beach 52...|\n",
      "+-------+--------------+----------+--------------------+\n",
      "only showing top 5 rows\n",
      "\n"
     ]
    }
   ],
   "source": [
    "#Display of the dataframe\n",
    "data.show(5)"
   ]
  },
  {
   "cell_type": "code",
   "execution_count": 17,
   "metadata": {},
   "outputs": [
    {
     "name": "stdout",
     "output_type": "stream",
     "text": [
      "+-------+------------------+--------------+-------------------+--------------------+\n",
      "|summary|           overall|    reviewerID|               asin|               title|\n",
      "+-------+------------------+--------------+-------------------+--------------------+\n",
      "|  count|             50000|         50000|              50000|               50000|\n",
      "|   mean|             4.297|          null|  4.8959391429375E9|                42.0|\n",
      "| stddev|1.1438431568809393|          null|2.508200634354148E9|                 0.0|\n",
      "|    min|               1.0|A100C1Z111U34R|         1581174292|\"MINI\" Miniature ...|\n",
      "|    max|               5.0| AZZU5BA2CHYVF|         B01HBC1K1W|“Dyson Genuine DC...|\n",
      "+-------+------------------+--------------+-------------------+--------------------+\n",
      "\n"
     ]
    }
   ],
   "source": [
    "#Analyzing dataframe\n",
    "data.describe().show()"
   ]
  },
  {
   "cell_type": "code",
   "execution_count": 18,
   "metadata": {},
   "outputs": [
    {
     "name": "stdout",
     "output_type": "stream",
     "text": [
      "+-------+--------------------+------+------+\n",
      "|overall|               title|itemid|userid|\n",
      "+-------+--------------------+------+------+\n",
      "|    4.0|George Foreman GR...|4391.0|  20.0|\n",
      "|    4.0|George Foreman GR...|4391.0|  20.0|\n",
      "|    5.0|Polder 307T 307 P...|2883.0| 946.0|\n",
      "|    5.0|Polder 307T 307 P...|2883.0| 946.0|\n",
      "|    5.0|Hamilton Beach 52...|1491.0|4622.0|\n",
      "+-------+--------------------+------+------+\n",
      "only showing top 5 rows\n",
      "\n"
     ]
    }
   ],
   "source": [
    "#transform itemID and userID string type to index (integer type)\n",
    "\n",
    "# Indexing for items\n",
    "itemIndexer = StringIndexer(inputCol=\"asin\", outputCol=\"itemid\",handleInvalid='error')  \n",
    "# Indexing for users\n",
    "userIndexer = StringIndexer(inputCol='reviewerID',outputCol='userid',handleInvalid='error')\n",
    "\n",
    "temp = itemIndexer.fit(data)\n",
    "itemIndexed = temp.transform(data)\n",
    "\n",
    "temp = userIndexer.fit(itemIndexed)\n",
    "userIndexed = temp.transform(itemIndexed) \n",
    "\n",
    "# remove old columns - user and item ID's of string type\n",
    "df_final = userIndexed.drop('asin').drop('reviewerID') \n",
    "df_final.show(5)"
   ]
  },
  {
   "cell_type": "code",
   "execution_count": 19,
   "metadata": {},
   "outputs": [],
   "source": [
    "# renaming columns \n",
    "df_final = df_final.selectExpr(\"userid as userID\",\"itemid as productID\",\"overall as rating\",\"title as title\")"
   ]
  },
  {
   "cell_type": "code",
   "execution_count": 20,
   "metadata": {},
   "outputs": [
    {
     "name": "stdout",
     "output_type": "stream",
     "text": [
      "+------+---------+------+--------------------+\n",
      "|userID|productID|rating|               title|\n",
      "+------+---------+------+--------------------+\n",
      "|  20.0|   4391.0|   4.0|George Foreman GR...|\n",
      "|  20.0|   4391.0|   4.0|George Foreman GR...|\n",
      "| 946.0|   2883.0|   5.0|Polder 307T 307 P...|\n",
      "| 946.0|   2883.0|   5.0|Polder 307T 307 P...|\n",
      "|4622.0|   1491.0|   5.0|Hamilton Beach 52...|\n",
      "+------+---------+------+--------------------+\n",
      "only showing top 5 rows\n",
      "\n"
     ]
    }
   ],
   "source": [
    "df_final.show(5)"
   ]
  },
  {
   "cell_type": "code",
   "execution_count": 21,
   "metadata": {},
   "outputs": [
    {
     "name": "stdout",
     "output_type": "stream",
     "text": [
      "+------+---------+------+--------------------+\n",
      "|userID|productID|rating|               title|\n",
      "+------+---------+------+--------------------+\n",
      "|    20|     4391|   4.0|George Foreman GR...|\n",
      "|    20|     4391|   4.0|George Foreman GR...|\n",
      "|   946|     2883|   5.0|Polder 307T 307 P...|\n",
      "|   946|     2883|   5.0|Polder 307T 307 P...|\n",
      "|  4622|     1491|   5.0|Hamilton Beach 52...|\n",
      "+------+---------+------+--------------------+\n",
      "only showing top 5 rows\n",
      "\n"
     ]
    }
   ],
   "source": [
    "#Changng the type of the users and items to Integer format\n",
    "df_final = df_final.selectExpr(\"cast(userID as long) as userID\", \"cast(productID as long) as productID\", \"rating\", \"title\")\n",
    "df_final.show(5)"
   ]
  },
  {
   "cell_type": "code",
   "execution_count": 22,
   "metadata": {},
   "outputs": [
    {
     "name": "stdout",
     "output_type": "stream",
     "text": [
      "+---------+--------------------+\n",
      "|productID|               title|\n",
      "+---------+--------------------+\n",
      "|     4391|George Foreman GR...|\n",
      "|     4391|George Foreman GR...|\n",
      "|     2883|Polder 307T 307 P...|\n",
      "|     2883|Polder 307T 307 P...|\n",
      "|     1491|Hamilton Beach 52...|\n",
      "+---------+--------------------+\n",
      "only showing top 5 rows\n",
      "\n"
     ]
    }
   ],
   "source": [
    "#Separate dataframe of item and their titles\n",
    "df_titles =  df_final.selectExpr(\"productID\", \"title\")\n",
    "df_titles.show(5)"
   ]
  },
  {
   "cell_type": "code",
   "execution_count": 23,
   "metadata": {},
   "outputs": [
    {
     "name": "stdout",
     "output_type": "stream",
     "text": [
      "+------+---------+------+\n",
      "|userID|productID|rating|\n",
      "+------+---------+------+\n",
      "|    20|     4391|   4.0|\n",
      "|    20|     4391|   4.0|\n",
      "|   946|     2883|   5.0|\n",
      "|   946|     2883|   5.0|\n",
      "|  4622|     1491|   5.0|\n",
      "+------+---------+------+\n",
      "only showing top 5 rows\n",
      "\n"
     ]
    }
   ],
   "source": [
    "#Dataframe for users, items and ratings\n",
    "df_temp = df_final.drop('title')\n",
    "df_temp.show(5)"
   ]
  },
  {
   "cell_type": "code",
   "execution_count": 24,
   "metadata": {},
   "outputs": [],
   "source": [
    "#Saving the final ratings data\n",
    "final_data = df_temp.toPandas()\n",
    "final_data.to_csv('AmazonRatings', index = False)"
   ]
  },
  {
   "cell_type": "code",
   "execution_count": 25,
   "metadata": {},
   "outputs": [],
   "source": [
    "#Saving the final title data\n",
    "final_title = df_titles.toPandas()\n",
    "final_title.to_csv('AmazonTitles', index = False)"
   ]
  }
 ],
 "metadata": {
  "kernelspec": {
   "display_name": "Python 3",
   "language": "python",
   "name": "python3"
  },
  "language_info": {
   "codemirror_mode": {
    "name": "ipython",
    "version": 3
   },
   "file_extension": ".py",
   "mimetype": "text/x-python",
   "name": "python",
   "nbconvert_exporter": "python",
   "pygments_lexer": "ipython3",
   "version": "3.7.4"
  }
 },
 "nbformat": 4,
 "nbformat_minor": 2
}
