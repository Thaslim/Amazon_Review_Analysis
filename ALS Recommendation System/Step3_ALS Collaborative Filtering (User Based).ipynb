{
 "cells": [
  {
   "cell_type": "code",
   "execution_count": 1,
   "metadata": {},
   "outputs": [],
   "source": [
    "#import libraries\n",
    "import pandas as pd\n",
    "from time import time\n",
    "from pyspark.context import SparkContext\n",
    "from pyspark.sql.session import SparkSession\n",
    "from pyspark.ml.feature import StringIndexer\n",
    "from pyspark.sql.functions import lit\n",
    "from pyspark.ml.feature import IndexToString\n",
    "from pyspark.ml.evaluation import RegressionEvaluator\n",
    "from pyspark.ml.tuning import ParamGridBuilder, TrainValidationSplit,CrossValidator\n",
    "from pyspark.ml.recommendation import ALS\n",
    "from pyspark.sql import Row\n",
    "from pyspark.sql.types import *\n",
    "%matplotlib inline\n",
    "import matplotlib.pyplot as plt\n",
    "import matplotlib.colors as mcolors"
   ]
  },
  {
   "cell_type": "markdown",
   "metadata": {},
   "source": [
    "### Load preprocessed pickle file "
   ]
  },
  {
   "cell_type": "markdown",
   "metadata": {},
   "source": [
    "The preprocessed pickle file is converted into csv file and then start the spark session"
   ]
  },
  {
   "cell_type": "code",
   "execution_count": 2,
   "metadata": {},
   "outputs": [],
   "source": [
    "#Load the dataset that contains userID, productID and ratings\n",
    "df = pd.read_pickle('Preprocessed_data')\n",
    "#Load the dataset which contains the titles/names of items\n",
    "df_title = pd.read_pickle('Title_prod')"
   ]
  },
  {
   "cell_type": "code",
   "execution_count": 3,
   "metadata": {},
   "outputs": [
    {
     "data": {
      "text/html": [
       "<div>\n",
       "<style scoped>\n",
       "    .dataframe tbody tr th:only-of-type {\n",
       "        vertical-align: middle;\n",
       "    }\n",
       "\n",
       "    .dataframe tbody tr th {\n",
       "        vertical-align: top;\n",
       "    }\n",
       "\n",
       "    .dataframe thead th {\n",
       "        text-align: right;\n",
       "    }\n",
       "</style>\n",
       "<table border=\"1\" class=\"dataframe\">\n",
       "  <thead>\n",
       "    <tr style=\"text-align: right;\">\n",
       "      <th></th>\n",
       "      <th>overall</th>\n",
       "      <th>reviewerID</th>\n",
       "      <th>asin</th>\n",
       "      <th>reviewText</th>\n",
       "      <th>rev_date</th>\n",
       "    </tr>\n",
       "  </thead>\n",
       "  <tbody>\n",
       "    <tr>\n",
       "      <td>0</td>\n",
       "      <td>4.0</td>\n",
       "      <td>A2MNB77YGJ3CN0</td>\n",
       "      <td>B00004R940</td>\n",
       "      <td>I'll admit it -- I'm a bit of a snob when it c...</td>\n",
       "      <td>2000-05-07</td>\n",
       "    </tr>\n",
       "    <tr>\n",
       "      <td>1</td>\n",
       "      <td>5.0</td>\n",
       "      <td>A1LUUO72VAFKFJ</td>\n",
       "      <td>B00004S4TZ</td>\n",
       "      <td>Maybe when Mom cooked for a big family every d...</td>\n",
       "      <td>2000-05-19</td>\n",
       "    </tr>\n",
       "    <tr>\n",
       "      <td>2</td>\n",
       "      <td>5.0</td>\n",
       "      <td>ALSQSIHU2ETLM</td>\n",
       "      <td>B00004RDAZ</td>\n",
       "      <td>This was an impulse buy, I was looking for a b...</td>\n",
       "      <td>2000-05-31</td>\n",
       "    </tr>\n",
       "  </tbody>\n",
       "</table>\n",
       "</div>"
      ],
      "text/plain": [
       "   overall      reviewerID        asin  \\\n",
       "0      4.0  A2MNB77YGJ3CN0  B00004R940   \n",
       "1      5.0  A1LUUO72VAFKFJ  B00004S4TZ   \n",
       "2      5.0   ALSQSIHU2ETLM  B00004RDAZ   \n",
       "\n",
       "                                          reviewText   rev_date  \n",
       "0  I'll admit it -- I'm a bit of a snob when it c... 2000-05-07  \n",
       "1  Maybe when Mom cooked for a big family every d... 2000-05-19  \n",
       "2  This was an impulse buy, I was looking for a b... 2000-05-31  "
      ]
     },
     "execution_count": 3,
     "metadata": {},
     "output_type": "execute_result"
    }
   ],
   "source": [
    "#Top 3 records of ratings dataset\n",
    "df.head(3)"
   ]
  },
  {
   "cell_type": "code",
   "execution_count": 4,
   "metadata": {},
   "outputs": [
    {
     "data": {
      "text/html": [
       "<div>\n",
       "<style scoped>\n",
       "    .dataframe tbody tr th:only-of-type {\n",
       "        vertical-align: middle;\n",
       "    }\n",
       "\n",
       "    .dataframe tbody tr th {\n",
       "        vertical-align: top;\n",
       "    }\n",
       "\n",
       "    .dataframe thead th {\n",
       "        text-align: right;\n",
       "    }\n",
       "</style>\n",
       "<table border=\"1\" class=\"dataframe\">\n",
       "  <thead>\n",
       "    <tr style=\"text-align: right;\">\n",
       "      <th></th>\n",
       "      <th>asin</th>\n",
       "      <th>title</th>\n",
       "    </tr>\n",
       "  </thead>\n",
       "  <tbody>\n",
       "    <tr>\n",
       "      <td>0</td>\n",
       "      <td>0001487795</td>\n",
       "      <td>You Are Special Today Red Plate [With Red Pen]</td>\n",
       "    </tr>\n",
       "    <tr>\n",
       "      <td>1</td>\n",
       "      <td>0002020300</td>\n",
       "      <td>Vicks Inhaler Relief for Cold Sinus Nasal Cong...</td>\n",
       "    </tr>\n",
       "    <tr>\n",
       "      <td>2</td>\n",
       "      <td>0006564224</td>\n",
       "      <td>Artistic Churchware Communion Cup Filler: RW525</td>\n",
       "    </tr>\n",
       "  </tbody>\n",
       "</table>\n",
       "</div>"
      ],
      "text/plain": [
       "         asin                                              title\n",
       "0  0001487795     You Are Special Today Red Plate [With Red Pen]\n",
       "1  0002020300  Vicks Inhaler Relief for Cold Sinus Nasal Cong...\n",
       "2  0006564224    Artistic Churchware Communion Cup Filler: RW525"
      ]
     },
     "execution_count": 4,
     "metadata": {},
     "output_type": "execute_result"
    }
   ],
   "source": [
    "#Top 3 records of titles dataset\n",
    "df_title.head(3)"
   ]
  },
  {
   "cell_type": "code",
   "execution_count": 5,
   "metadata": {},
   "outputs": [
    {
     "name": "stdout",
     "output_type": "stream",
     "text": [
      "Total number of records in dataset:  6053296\n",
      "Total number of records in title dataset:  1301225\n"
     ]
    }
   ],
   "source": [
    "#Dataset size\n",
    "print(\"Total number of records in dataset: \" ,df.shape[0])\n",
    "print(\"Total number of records in title dataset: \", df_title.shape[0])"
   ]
  },
  {
   "cell_type": "code",
   "execution_count": 6,
   "metadata": {},
   "outputs": [],
   "source": [
    "#Removal of Date and Review text columns (Not necessary for our analysis)\n",
    "df.drop('rev_date',axis=1,inplace=True)\n",
    "df.drop('reviewText',axis=1,inplace=True)"
   ]
  },
  {
   "cell_type": "code",
   "execution_count": 7,
   "metadata": {},
   "outputs": [
    {
     "data": {
      "text/html": [
       "<div>\n",
       "<style scoped>\n",
       "    .dataframe tbody tr th:only-of-type {\n",
       "        vertical-align: middle;\n",
       "    }\n",
       "\n",
       "    .dataframe tbody tr th {\n",
       "        vertical-align: top;\n",
       "    }\n",
       "\n",
       "    .dataframe thead th {\n",
       "        text-align: right;\n",
       "    }\n",
       "</style>\n",
       "<table border=\"1\" class=\"dataframe\">\n",
       "  <thead>\n",
       "    <tr style=\"text-align: right;\">\n",
       "      <th></th>\n",
       "      <th>overall</th>\n",
       "      <th>reviewerID</th>\n",
       "      <th>asin</th>\n",
       "    </tr>\n",
       "  </thead>\n",
       "  <tbody>\n",
       "    <tr>\n",
       "      <td>0</td>\n",
       "      <td>4.0</td>\n",
       "      <td>A2MNB77YGJ3CN0</td>\n",
       "      <td>B00004R940</td>\n",
       "    </tr>\n",
       "  </tbody>\n",
       "</table>\n",
       "</div>"
      ],
      "text/plain": [
       "   overall      reviewerID        asin\n",
       "0      4.0  A2MNB77YGJ3CN0  B00004R940"
      ]
     },
     "execution_count": 7,
     "metadata": {},
     "output_type": "execute_result"
    }
   ],
   "source": [
    "#Displaying the modified dataset\n",
    "df.head(1)"
   ]
  },
  {
   "cell_type": "code",
   "execution_count": 8,
   "metadata": {},
   "outputs": [],
   "source": [
    "#Save the CSV datafile\n",
    "df.to_csv('Preprocessed_data_csv', index=False)"
   ]
  },
  {
   "cell_type": "code",
   "execution_count": 9,
   "metadata": {},
   "outputs": [],
   "source": [
    "#Save the CSV datafile\n",
    "df_title.to_csv('title_data_csv', index=False)"
   ]
  },
  {
   "cell_type": "markdown",
   "metadata": {},
   "source": [
    "### 1. Load the data into spark RDD dataframe"
   ]
  },
  {
   "cell_type": "code",
   "execution_count": 2,
   "metadata": {},
   "outputs": [],
   "source": [
    "#Creating Spark Context\n",
    "sc = SparkContext('local')\n",
    "spark = SparkSession(sc)"
   ]
  },
  {
   "cell_type": "code",
   "execution_count": 3,
   "metadata": {},
   "outputs": [
    {
     "data": {
      "text/plain": [
       "DataFrame[overall: float, reviewerID: string, asin: string]"
      ]
     },
     "execution_count": 3,
     "metadata": {},
     "output_type": "execute_result"
    }
   ],
   "source": [
    "#Creating a RDD\n",
    "data = spark.read \\\n",
    "    .format(\"csv\") \\\n",
    "    .option(\"header\", \"true\") \\\n",
    "    .option(\"inferSchema\", \"true\") \\\n",
    "    .load(\"Preprocessed_data_csv\")\n",
    "data.withColumn('userId', data.reviewerID.cast(IntegerType()))\n",
    "data.withColumn('asin', data.asin.cast(IntegerType()))\n",
    "data.withColumn('overall', data.overall.cast(FloatType()))"
   ]
  },
  {
   "cell_type": "markdown",
   "metadata": {},
   "source": [
    "### 2. Analyzing dataset"
   ]
  },
  {
   "cell_type": "code",
   "execution_count": 13,
   "metadata": {},
   "outputs": [
    {
     "name": "stdout",
     "output_type": "stream",
     "text": [
      "+-------+--------------+----------+\n",
      "|overall|    reviewerID|      asin|\n",
      "+-------+--------------+----------+\n",
      "|    4.0|A2MNB77YGJ3CN0|B00004R940|\n",
      "|    5.0|A1LUUO72VAFKFJ|B00004S4TZ|\n",
      "|    5.0| ALSQSIHU2ETLM|B00004RDAZ|\n",
      "|    2.0|A2E041EYGSY0HK|B00004S576|\n",
      "|    5.0|A2RQOO8VYAEZZG|B00004SBIB|\n",
      "+-------+--------------+----------+\n",
      "only showing top 5 rows\n",
      "\n"
     ]
    }
   ],
   "source": [
    "data.show(5)"
   ]
  },
  {
   "cell_type": "code",
   "execution_count": 14,
   "metadata": {},
   "outputs": [
    {
     "name": "stdout",
     "output_type": "stream",
     "text": [
      "root\n",
      " |-- overall: double (nullable = true)\n",
      " |-- reviewerID: string (nullable = true)\n",
      " |-- asin: string (nullable = true)\n",
      "\n"
     ]
    }
   ],
   "source": [
    "#Dataset column details\n",
    "data.printSchema()"
   ]
  },
  {
   "cell_type": "code",
   "execution_count": 15,
   "metadata": {},
   "outputs": [
    {
     "name": "stdout",
     "output_type": "stream",
     "text": [
      "+-------+------------------+--------------------+--------------------+\n",
      "|summary|           overall|          reviewerID|                asin|\n",
      "+-------+------------------+--------------------+--------------------+\n",
      "|  count|           6053296|             6053296|             6053296|\n",
      "|   mean| 4.374284191620565|                null| 5.457612212007353E9|\n",
      "| stddev|1.1174635054637467|                null|3.0129487134473906E9|\n",
      "|    min|               1.0|A0001528BGUBOEVR6T5U|          0560467893|\n",
      "|    max|               5.0|       AZZZYAYJQSDOJ|          B01HJGJNWS|\n",
      "+-------+------------------+--------------------+--------------------+\n",
      "\n"
     ]
    }
   ],
   "source": [
    "#Summary of the data\n",
    "data.describe().show()"
   ]
  },
  {
   "cell_type": "code",
   "execution_count": 16,
   "metadata": {},
   "outputs": [
    {
     "name": "stdout",
     "output_type": "stream",
     "text": [
      "Distinct values of ratings:\n",
      "[1.0, 2.0, 3.0, 4.0, 5.0]\n"
     ]
    }
   ],
   "source": [
    "print('Distinct values of ratings:')\n",
    "print(sorted(data.select('overall').distinct().rdd.map(lambda r: r[0]).collect()))"
   ]
  },
  {
   "cell_type": "code",
   "execution_count": 17,
   "metadata": {},
   "outputs": [
    {
     "name": "stdout",
     "output_type": "stream",
     "text": [
      "Number of distinct users:  772925\n",
      "Number of distinct items:  188138\n"
     ]
    }
   ],
   "source": [
    "# Number of distict users and items\n",
    "users = data.select(\"reviewerID\").distinct().count()\n",
    "items = data.select(\"asin\").distinct().count()\n",
    "print('Number of distinct users: ', users)\n",
    "print('Number of distinct items: ', items)"
   ]
  },
  {
   "cell_type": "code",
   "execution_count": 18,
   "metadata": {},
   "outputs": [
    {
     "name": "stdout",
     "output_type": "stream",
     "text": [
      "1289 out of 188138 items are rated by only one user\n"
     ]
    }
   ],
   "source": [
    "#items which are rated by a single user\n",
    "temp = sum(data.groupBy(\"asin\").count().toPandas()['count'] == 1)\n",
    "temp2 = data.select('asin').distinct().count()\n",
    "print('{} out of {} items are rated by only one user'.format(temp, temp2))"
   ]
  },
  {
   "cell_type": "code",
   "execution_count": 10,
   "metadata": {},
   "outputs": [
    {
     "data": {
      "text/html": [
       "<div>\n",
       "<style scoped>\n",
       "    .dataframe tbody tr th:only-of-type {\n",
       "        vertical-align: middle;\n",
       "    }\n",
       "\n",
       "    .dataframe tbody tr th {\n",
       "        vertical-align: top;\n",
       "    }\n",
       "\n",
       "    .dataframe thead th {\n",
       "        text-align: right;\n",
       "    }\n",
       "</style>\n",
       "<table border=\"1\" class=\"dataframe\">\n",
       "  <thead>\n",
       "    <tr style=\"text-align: right;\">\n",
       "      <th></th>\n",
       "      <th>count</th>\n",
       "      <th>rating</th>\n",
       "    </tr>\n",
       "  </thead>\n",
       "  <tbody>\n",
       "    <tr>\n",
       "      <td>0</td>\n",
       "      <td>312180</td>\n",
       "      <td>1.0</td>\n",
       "    </tr>\n",
       "    <tr>\n",
       "      <td>1</td>\n",
       "      <td>890974</td>\n",
       "      <td>4.0</td>\n",
       "    </tr>\n",
       "    <tr>\n",
       "      <td>2</td>\n",
       "      <td>450407</td>\n",
       "      <td>3.0</td>\n",
       "    </tr>\n",
       "    <tr>\n",
       "      <td>3</td>\n",
       "      <td>249045</td>\n",
       "      <td>2.0</td>\n",
       "    </tr>\n",
       "    <tr>\n",
       "      <td>4</td>\n",
       "      <td>4150690</td>\n",
       "      <td>5.0</td>\n",
       "    </tr>\n",
       "  </tbody>\n",
       "</table>\n",
       "</div>"
      ],
      "text/plain": [
       "     count  rating\n",
       "0   312180     1.0\n",
       "1   890974     4.0\n",
       "2   450407     3.0\n",
       "3   249045     2.0\n",
       "4  4150690     5.0"
      ]
     },
     "execution_count": 10,
     "metadata": {},
     "output_type": "execute_result"
    }
   ],
   "source": [
    "data.createOrReplaceTempView('df_count')\n",
    "# count number of ratings in each value of the rating(category)\n",
    "ratingcount = spark.sql(\"\"\"\n",
    "      SELECT COUNT(overall) as count\n",
    "      ,overall as rating\n",
    "      FROM df_count\n",
    "      GROUP BY overall\n",
    "\"\"\")\n",
    "\n",
    "counts = ratingcount.toPandas()\n",
    "counts"
   ]
  },
  {
   "cell_type": "markdown",
   "metadata": {},
   "source": [
    "### 4. Basic Visualization"
   ]
  },
  {
   "cell_type": "code",
   "execution_count": 11,
   "metadata": {},
   "outputs": [
    {
     "data": {
      "image/png": "[encoded data removed]",
      "text/plain": [
       "<Figure size 720x432 with 1 Axes>"
      ]
     },
     "metadata": {
      "needs_background": "light"
     },
     "output_type": "display_data"
    }
   ],
   "source": [
    "#Visualizing count of records with each type of ratings\n",
    "colors = ['red', 'orange', 'yellow', 'green', 'blue']\n",
    "counts.sort_values('rating',axis=0,inplace=True) # sorting \n",
    "counts.plot(x='rating',y='count',kind='bar',legend=False,color=colors,figsize=(10,6))\n",
    "plt.title('Distribution of Ratings')\n",
    "plt.show()"
   ]
  },
  {
   "cell_type": "markdown",
   "metadata": {},
   "source": [
    "### 3. Preprocessing"
   ]
  },
  {
   "cell_type": "code",
   "execution_count": 4,
   "metadata": {},
   "outputs": [
    {
     "data": {
      "text/plain": [
       "60193"
      ]
     },
     "execution_count": 4,
     "metadata": {},
     "output_type": "execute_result"
    }
   ],
   "source": [
    "#This step is used to reduce the sample size\n",
    "df=data.sample(fraction=0.01)\n",
    "df.count()"
   ]
  },
  {
   "cell_type": "markdown",
   "metadata": {},
   "source": [
    "#### Convert string type ID's to Integer"
   ]
  },
  {
   "cell_type": "markdown",
   "metadata": {},
   "source": [
    "The Alternating Least Squares algorithm accepts userID and itemID only in integer format. \n",
    "We need to use STringIndexer to change ID's to integer/double format"
   ]
  },
  {
   "cell_type": "code",
   "execution_count": 5,
   "metadata": {},
   "outputs": [
    {
     "name": "stdout",
     "output_type": "stream",
     "text": [
      "+-------+-------+-------+\n",
      "|overall|   item| userid|\n",
      "+-------+-------+-------+\n",
      "|    5.0| 2170.0| 3621.0|\n",
      "|    5.0| 1383.0|  482.0|\n",
      "|    4.0|24403.0| 3169.0|\n",
      "|    4.0|30652.0|11282.0|\n",
      "|    5.0|26818.0|11129.0|\n",
      "+-------+-------+-------+\n",
      "only showing top 5 rows\n",
      "\n"
     ]
    }
   ],
   "source": [
    "#transform itemID and userID string type to index (integer type)\n",
    "\n",
    "# Indexing for items\n",
    "itemIndexer = StringIndexer(inputCol=\"asin\", outputCol=\"item\",handleInvalid='error')  \n",
    "# Indexing for users\n",
    "userIndexer = StringIndexer(inputCol='reviewerID',outputCol='userid',handleInvalid='error')\n",
    "\n",
    "temp = itemIndexer.fit(df)\n",
    "itemIndexed = temp.transform(df)\n",
    "\n",
    "temp = userIndexer.fit(itemIndexed)\n",
    "userIndexed = temp.transform(itemIndexed) \n",
    "\n",
    "# remove old columns - user and item ID's of string type\n",
    "df_final = userIndexed.drop('asin').drop('reviewerID') \n",
    "df_final.show(5)"
   ]
  },
  {
   "cell_type": "code",
   "execution_count": 6,
   "metadata": {},
   "outputs": [],
   "source": [
    "# renaming columns \n",
    "df_final = df_final.selectExpr(\"userid as userID\",\"item as productID\",\"overall as rating\")"
   ]
  },
  {
   "cell_type": "code",
   "execution_count": 7,
   "metadata": {},
   "outputs": [
    {
     "name": "stdout",
     "output_type": "stream",
     "text": [
      "+-------+---------+------+\n",
      "| userID|productID|rating|\n",
      "+-------+---------+------+\n",
      "| 3621.0|   2170.0|   5.0|\n",
      "|  482.0|   1383.0|   5.0|\n",
      "| 3169.0|  24403.0|   4.0|\n",
      "|11282.0|  30652.0|   4.0|\n",
      "|11129.0|  26818.0|   5.0|\n",
      "+-------+---------+------+\n",
      "only showing top 5 rows\n",
      "\n"
     ]
    }
   ],
   "source": [
    "df_final.show(n=5)"
   ]
  },
  {
   "cell_type": "code",
   "execution_count": 8,
   "metadata": {},
   "outputs": [
    {
     "name": "stdout",
     "output_type": "stream",
     "text": [
      "root\n",
      " |-- userID: double (nullable = false)\n",
      " |-- productID: double (nullable = false)\n",
      " |-- rating: double (nullable = true)\n",
      "\n"
     ]
    }
   ],
   "source": [
    "df_final.printSchema()"
   ]
  },
  {
   "cell_type": "code",
   "execution_count": 26,
   "metadata": {},
   "outputs": [],
   "source": [
    "#Save the preprocessed file to local\n",
    "als_data = df_temp.toPandas()\n",
    "als_data.to_csv('als_preprocessed1.csv', index = False)"
   ]
  },
  {
   "cell_type": "code",
   "execution_count": 14,
   "metadata": {},
   "outputs": [],
   "source": [
    "#Save the preprocessed file to local\n",
    "als_data = df_final.toPandas()\n",
    "als_data.to_csv('als_preprocessed.csv', index = False)"
   ]
  },
  {
   "cell_type": "markdown",
   "metadata": {},
   "source": [
    "### 5. Divide data into train-validation-test dataset"
   ]
  },
  {
   "cell_type": "code",
   "execution_count": 9,
   "metadata": {},
   "outputs": [
    {
     "name": "stdout",
     "output_type": "stream",
     "text": [
      "Train dataset size:  35990\n",
      "Validation dataset size:  12078\n",
      "Test dataset size:  12125\n"
     ]
    }
   ],
   "source": [
    "# 60-20-20 train-test-validation split\n",
    "(train, validation, test) = df_final.randomSplit([0.6,0.2,0.2])\n",
    "\n",
    "# cache into memory through clusters so that we can access this data frequently \n",
    "train.cache() \n",
    "validation.cache()\n",
    "test.cache()\n",
    "\n",
    "# Each dataset size\n",
    "print('Train dataset size: ', train.count())\n",
    "print('Validation dataset size: ', validation.count())\n",
    "print('Test dataset size: ' ,test.count())"
   ]
  },
  {
   "cell_type": "code",
   "execution_count": 23,
   "metadata": {},
   "outputs": [
    {
     "name": "stdout",
     "output_type": "stream",
     "text": [
      "Matrix size, percentage of matrix filled and number of distinct users and itmes:\n",
      "+------+---------+------+-----------+-------------------+\n",
      "|userID|productID|rating|matrix_size|         percentage|\n",
      "+------+---------+------+-----------+-------------------+\n",
      "| 35209|    23935| 36350|  842727415|0.00431337575507734|\n",
      "+------+---------+------+-----------+-------------------+\n",
      "\n"
     ]
    }
   ],
   "source": [
    "print('Matrix size, percentage of matrix filled and number of distinct users and itmes:')\n",
    "# calculate percentage of the user-item matrix that is filled\n",
    "train.createOrReplaceTempView('train')\n",
    "spark.sql(\"\"\"\n",
    "      SELECT *, 100 * rating/matrix_size AS percentage\n",
    "        FROM (\n",
    "          SELECT userID, productID, rating, userID * productID AS matrix_size\n",
    "            FROM(\n",
    "              SELECT COUNT(*) AS rating, COUNT(DISTINCT(productID)) AS productID, COUNT(DISTINCT(userID)) AS userID\n",
    "                FROM train\n",
    "                )\n",
    "            )\n",
    "\"\"\").show()"
   ]
  },
  {
   "cell_type": "markdown",
   "metadata": {},
   "source": [
    "### 6. ALS on entire Training Dataset"
   ]
  },
  {
   "cell_type": "code",
   "execution_count": 10,
   "metadata": {},
   "outputs": [],
   "source": [
    "#Defining the model\n",
    "als = ALS(userCol=\"userID\", itemCol=\"productID\", ratingCol=\"rating\",coldStartStrategy='drop',nonnegative = True)\n",
    "\n",
    "# Error evaluation\n",
    "evaluator = RegressionEvaluator(metricName=\"rmse\", labelCol=\"rating\", predictionCol=\"prediction\")"
   ]
  },
  {
   "cell_type": "code",
   "execution_count": 11,
   "metadata": {},
   "outputs": [],
   "source": [
    "# hyper-parameter config\n",
    "grid_para = ParamGridBuilder()\\\n",
    "        .addGrid(als.rank, [1, 5, 10,15,30]) \\\n",
    "        .addGrid(als.maxIter, [10])\\\n",
    "        .addGrid(als.regParam, [0.05, 0.1, 0.5,1])\\\n",
    "        .build()"
   ]
  },
  {
   "cell_type": "code",
   "execution_count": 12,
   "metadata": {},
   "outputs": [],
   "source": [
    "# train validation split\n",
    "tvs = TrainValidationSplit(estimator= als,\n",
    "                           estimatorParamMaps= grid_para,\n",
    "                           evaluator= evaluator,\n",
    "                           trainRatio= 0.8)"
   ]
  },
  {
   "cell_type": "code",
   "execution_count": 13,
   "metadata": {},
   "outputs": [
    {
     "name": "stdout",
     "output_type": "stream",
     "text": [
      "Total time taken:  707.9941310882568\n"
     ]
    }
   ],
   "source": [
    "# fit model and calculate time\n",
    "start = time()\n",
    "model = tvs.fit(train)\n",
    "end = time()\n",
    "tot_time = (end - start)\n",
    "\n",
    "print('Total time taken: ', tot_time)"
   ]
  },
  {
   "cell_type": "markdown",
   "metadata": {},
   "source": [
    "### 7. Calculate RMSE on Test Dataset"
   ]
  },
  {
   "cell_type": "code",
   "execution_count": 14,
   "metadata": {},
   "outputs": [
    {
     "name": "stdout",
     "output_type": "stream",
     "text": [
      "Test set RMSE:  3.1684938739227855\n"
     ]
    }
   ],
   "source": [
    "# predict and evaluate test set\n",
    "predictions = model.transform(test)\n",
    "rmse = evaluator.evaluate(predictions)\n",
    "\n",
    "print('Test set RMSE: ',rmse)"
   ]
  },
  {
   "cell_type": "code",
   "execution_count": 15,
   "metadata": {},
   "outputs": [
    {
     "name": "stdout",
     "output_type": "stream",
     "text": [
      "+------+---------+------+----------+\n",
      "|userID|productID|rating|prediction|\n",
      "+------+---------+------+----------+\n",
      "|   0.0|    274.0|   5.0| 0.6219561|\n",
      "|   2.0|   3111.0|   5.0|0.93746805|\n",
      "|   2.0|   2985.0|   5.0| 2.5746665|\n",
      "|   4.0|    255.0|   5.0| 1.3971246|\n",
      "|   5.0|   2095.0|   5.0| 1.8063544|\n",
      "|  14.0|   3202.0|   5.0| 0.7001703|\n",
      "|  14.0|   3606.0|   5.0| 1.5837868|\n",
      "|  17.0|     66.0|   4.0| 1.9827803|\n",
      "|  18.0|   1170.0|   5.0| 2.8749843|\n",
      "|  20.0|   4410.0|   4.0| 0.6155535|\n",
      "|  27.0|   4126.0|   2.0| 1.6883835|\n",
      "|  39.0|    370.0|   4.0| 1.5242931|\n",
      "|  44.0|   1671.0|   1.0| 2.1991313|\n",
      "|  46.0|    170.0|   3.0| 1.5318563|\n",
      "|  46.0|    568.0|   5.0| 2.3525789|\n",
      "|  54.0|   2834.0|   4.0|  1.021477|\n",
      "|  56.0|   4517.0|   5.0| 0.8964698|\n",
      "|  59.0|   9071.0|   5.0| 1.2695558|\n",
      "|  60.0|    650.0|   5.0| 1.8200127|\n",
      "|  61.0|   3445.0|   5.0| 1.1902363|\n",
      "+------+---------+------+----------+\n",
      "only showing top 20 rows\n",
      "\n"
     ]
    }
   ],
   "source": [
    "#display predictions and actual rating for test data\n",
    "predictions.sort([\"userID\",\"rating\"]).show(20)"
   ]
  },
  {
   "cell_type": "markdown",
   "metadata": {},
   "source": [
    "### 8. Recommend of Items for a User"
   ]
  },
  {
   "cell_type": "markdown",
   "metadata": {},
   "source": [
    "#### Filter out items rated by a specific user and make predictions of ratings for the items rated by that user."
   ]
  },
  {
   "cell_type": "code",
   "execution_count": 23,
   "metadata": {},
   "outputs": [
    {
     "name": "stdout",
     "output_type": "stream",
     "text": [
      "+------+---------+------+\n",
      "|userID|productID|rating|\n",
      "+------+---------+------+\n",
      "|   0.0|   2947.0|   2.0|\n",
      "|   0.0|   7458.0|   4.0|\n",
      "|   0.0|   8346.0|   5.0|\n",
      "|   0.0|  24312.0|   5.0|\n",
      "|   1.0|   2364.0|   5.0|\n",
      "|   1.0|   3863.0|   5.0|\n",
      "|   1.0|  24709.0|   5.0|\n",
      "|   2.0|    154.0|   5.0|\n",
      "|   2.0|  31262.0|   5.0|\n",
      "|   2.0|  32921.0|   4.0|\n",
      "+------+---------+------+\n",
      "only showing top 10 rows\n",
      "\n"
     ]
    }
   ],
   "source": [
    "train.show(n=10)"
   ]
  },
  {
   "cell_type": "code",
   "execution_count": 24,
   "metadata": {},
   "outputs": [
    {
     "name": "stdout",
     "output_type": "stream",
     "text": [
      "+---------+-------+\n",
      "|productID| userID|\n",
      "+---------+-------+\n",
      "|    934.0|32921.0|\n",
      "|   9923.0|32921.0|\n",
      "|    496.0|32921.0|\n",
      "|  13918.0|32921.0|\n",
      "|  13607.0|32921.0|\n",
      "|  12467.0|32921.0|\n",
      "|  16561.0|32921.0|\n",
      "|  21933.0|32921.0|\n",
      "|  29243.0|32921.0|\n",
      "|   6765.0|32921.0|\n",
      "|  15893.0|32921.0|\n",
      "|  26381.0|32921.0|\n",
      "|  14473.0|32921.0|\n",
      "|    596.0|32921.0|\n",
      "|    305.0|32921.0|\n",
      "|  16916.0|32921.0|\n",
      "|  14452.0|32921.0|\n",
      "|    769.0|32921.0|\n",
      "|  26597.0|32921.0|\n",
      "|  16981.0|32921.0|\n",
      "+---------+-------+\n",
      "only showing top 20 rows\n",
      "\n"
     ]
    }
   ],
   "source": [
    "# Create a dataset with distinct games as one column and the user of interest as another column\n",
    "user_item = train.select(\"productID\").distinct().withColumn(\"userID\", lit(32921.0))\n",
    "user_item.show()"
   ]
  },
  {
   "cell_type": "code",
   "execution_count": 25,
   "metadata": {},
   "outputs": [],
   "source": [
    "# filter out items that user has already rated \n",
    "rated = train.filter(train.userID == 32921.0).select(\"productID\", \"userID\")"
   ]
  },
  {
   "cell_type": "code",
   "execution_count": 27,
   "metadata": {
    "scrolled": false
   },
   "outputs": [
    {
     "name": "stdout",
     "output_type": "stream",
     "text": [
      "+---------+----------+\n",
      "|productID|prediction|\n",
      "+---------+----------+\n",
      "|    148.0| 0.6021734|\n",
      "|    463.0| 1.0332255|\n",
      "|    471.0| 1.4597299|\n",
      "|    496.0| 0.9136216|\n",
      "|    833.0| 1.5073291|\n",
      "|   1088.0|0.52151436|\n",
      "|   1238.0| 0.9913304|\n",
      "|   1342.0| 0.8306353|\n",
      "|   1580.0| 1.0909708|\n",
      "|   1591.0|0.41711172|\n",
      "|   1645.0| 0.5466585|\n",
      "|   1829.0|0.14468849|\n",
      "|   1959.0|  1.318557|\n",
      "|   2122.0| 1.8428688|\n",
      "|   2142.0| 1.0749868|\n",
      "|   2366.0| 1.0013459|\n",
      "|   2659.0| 1.6838344|\n",
      "|   2866.0| 1.9651259|\n",
      "|   3175.0|0.53722996|\n",
      "|   3749.0|0.68655676|\n",
      "+---------+----------+\n",
      "only showing top 20 rows\n",
      "\n"
     ]
    }
   ],
   "source": [
    "# apply trained recommender system\n",
    "predict = model.transform(user_item.subtract(rated)).dropna().select(\"productID\", \"prediction\")\n",
    "#display predictions and actual rating for test data\n",
    "predict.show(20)"
   ]
  },
  {
   "cell_type": "code",
   "execution_count": 28,
   "metadata": {
    "scrolled": false
   },
   "outputs": [
    {
     "name": "stdout",
     "output_type": "stream",
     "text": [
      "The predictions for the items rated by userID => 32921 are:\n",
      "+---------+----------+-------------+\n",
      "|productID|prediction|productID_old|\n",
      "+---------+----------+-------------+\n",
      "|    148.0| 0.6021734|   B001802PIQ|\n",
      "|    463.0| 1.0332255|   B003Y3AA2S|\n",
      "|    471.0| 1.4597299|   B015NBNRZK|\n",
      "|    496.0| 0.9136216|   B00RO6KP6M|\n",
      "|    833.0| 1.5073291|   B003L0OOUS|\n",
      "|   1088.0|0.52151436|   B005SPEV66|\n",
      "|   1238.0| 0.9913304|   B00F0A6GDU|\n",
      "|   1342.0| 0.8306353|   B01EL2N9FU|\n",
      "|   1580.0| 1.0909708|   B00GS0L7CQ|\n",
      "|   1591.0|0.41711172|   B005NBRKXQ|\n",
      "|   1645.0| 0.5466585|   B008TYX1LO|\n",
      "|   1829.0|0.14468849|   B002451AB2|\n",
      "|   1959.0|  1.318557|   B00E58O57M|\n",
      "|   2122.0| 1.8428688|   B01AH488VQ|\n",
      "|   2142.0| 1.0749868|   B00COC9P4E|\n",
      "|   2366.0| 1.0013459|   B0016KXR4Y|\n",
      "|   2659.0| 1.6838344|   B00004SGFD|\n",
      "|   2866.0| 1.9651259|   B001G97FLQ|\n",
      "|   3175.0|0.53722996|   B015AV2R90|\n",
      "|   3749.0|0.68655676|   B01A7PICSO|\n",
      "+---------+----------+-------------+\n",
      "only showing top 20 rows\n",
      "\n"
     ]
    }
   ],
   "source": [
    "# convert index back to original ASIN \n",
    "original = IndexToString(inputCol=\"productID\", outputCol=\"productID_old\")\n",
    "df_convert = original.transform(predict)\n",
    "print('The predictions for the items rated by userID => 32921 are:')\n",
    "df_convert.show()"
   ]
  },
  {
   "cell_type": "markdown",
   "metadata": {},
   "source": [
    "### 9. Adding the titles for each product"
   ]
  },
  {
   "cell_type": "markdown",
   "metadata": {},
   "source": [
    "#### Here, the titles dataset is imported from the metadata. The dataset consists:\n",
    "> 1. Asin : Item/product ID\n",
    "> 2. Title: Name of the corresponding product <br>\n",
    "\n",
    "This data is merged with our predictions to know the `titles` for the respective `product IDs`."
   ]
  },
  {
   "cell_type": "code",
   "execution_count": 29,
   "metadata": {},
   "outputs": [],
   "source": [
    "#Load the titles dataset\n",
    "title = spark.read.load('title_data_csv', format='csv', header=True, inferSchema=True)"
   ]
  },
  {
   "cell_type": "code",
   "execution_count": 30,
   "metadata": {},
   "outputs": [],
   "source": [
    "df_convert.createOrReplaceTempView('result')\n",
    "title.createOrReplaceTempView('titles')\n",
    "final = spark.sql(\"\"\"\n",
    "      SELECT m.productID_old as productID,\n",
    "      m.prediction,\n",
    "      d.title\n",
    "      FROM result m LEFT JOIN titles d ON m.productID_old = d.asin\n",
    "      WHERE m.productID_old IS NOT NULL\n",
    "      \"\"\")"
   ]
  },
  {
   "cell_type": "code",
   "execution_count": 37,
   "metadata": {},
   "outputs": [
    {
     "name": "stdout",
     "output_type": "stream",
     "text": [
      "+----------+----------+--------------------+\n",
      "| productID|prediction|               title|\n",
      "+----------+----------+--------------------+\n",
      "|B00005IX9T|0.12071096|Braun KF400-WH Ar...|\n",
      "|B0000665TD| 1.6201854|J-2000 Jiffy Garm...|\n",
      "|B00061J2B6| 1.4893143|Steamfast SF-680 ...|\n",
      "|B000A2M2EK| 0.9939964|Universal Slicer/...|\n",
      "|B000I0WQWC| 2.5426176|Holmes Arm and Ha...|\n",
      "|B000LNS2HE| 1.6467295|Anchor Hocking Gl...|\n",
      "|B000SP65HO|0.42966834|Boss Office Produ...|\n",
      "|B000TVVMNY| 1.4171958|instecho Beer Bar...|\n",
      "|B000X6K9J8|  1.639034|EZ Off Jar Opener...|\n",
      "|B000XB8K6C|0.76004446|Emile Henry Butte...|\n",
      "|B000ZPGB62| 0.6162847|Cozy Sack 7-Feet ...|\n",
      "|B000ZRXMJ4| 1.2890935|Lock & Lock 7.6 C...|\n",
      "|B0012BU6TQ|0.43128937|ANBOO Steam Mop P...|\n",
      "|B0015HEABW| 2.2693975|16 oz. Olive Oil ...|\n",
      "|B001AO1X1U| 0.8082084|Sunbeam 2551 Heri...|\n",
      "|B001B14OC2| 1.9981458|Regency Turkey La...|\n",
      "|B001FNVXS4|0.64549565|var aPageStart = ...|\n",
      "|B001G0PMW4| 1.1114763|Mountain Woods 15...|\n",
      "|B001I7FP54| 1.5823683|Deluxe Food Strai...|\n",
      "|B001KZC2R8|  0.915053|Sparkling Collect...|\n",
      "+----------+----------+--------------------+\n",
      "only showing top 20 rows\n",
      "\n"
     ]
    }
   ],
   "source": [
    "final = final.dropDuplicates(['productID'])\n",
    "final.show()"
   ]
  },
  {
   "cell_type": "markdown",
   "metadata": {},
   "source": [
    "### 10. Adding links to the products (Amazon Website)"
   ]
  },
  {
   "cell_type": "code",
   "execution_count": 32,
   "metadata": {},
   "outputs": [],
   "source": [
    "from IPython.display import HTML"
   ]
  },
  {
   "cell_type": "code",
   "execution_count": 38,
   "metadata": {},
   "outputs": [
    {
     "data": {
      "text/html": [
       "<div>\n",
       "<style scoped>\n",
       "    .dataframe tbody tr th:only-of-type {\n",
       "        vertical-align: middle;\n",
       "    }\n",
       "\n",
       "    .dataframe tbody tr th {\n",
       "        vertical-align: top;\n",
       "    }\n",
       "\n",
       "    .dataframe thead th {\n",
       "        text-align: right;\n",
       "    }\n",
       "</style>\n",
       "<table border=\"1\" class=\"dataframe\">\n",
       "  <thead>\n",
       "    <tr style=\"text-align: right;\">\n",
       "      <th></th>\n",
       "      <th>productID</th>\n",
       "      <th>prediction</th>\n",
       "      <th>title</th>\n",
       "    </tr>\n",
       "  </thead>\n",
       "  <tbody>\n",
       "    <tr>\n",
       "      <td>0</td>\n",
       "      <td>B00005IX9T</td>\n",
       "      <td>0.120711</td>\n",
       "      <td>Braun KF400-WH Aromaster 10-Cup Coffeemaker, W...</td>\n",
       "    </tr>\n",
       "    <tr>\n",
       "      <td>1</td>\n",
       "      <td>B0000665TD</td>\n",
       "      <td>1.620185</td>\n",
       "      <td>J-2000 Jiffy Garment Steamer with Plastic Stea...</td>\n",
       "    </tr>\n",
       "    <tr>\n",
       "      <td>2</td>\n",
       "      <td>B00061J2B6</td>\n",
       "      <td>1.489314</td>\n",
       "      <td>Steamfast SF-680 Digital Steam Press with Mult...</td>\n",
       "    </tr>\n",
       "    <tr>\n",
       "      <td>3</td>\n",
       "      <td>B000A2M2EK</td>\n",
       "      <td>0.993996</td>\n",
       "      <td>Universal Slicer/Shredder with Three Discs</td>\n",
       "    </tr>\n",
       "    <tr>\n",
       "      <td>4</td>\n",
       "      <td>B000I0WQWC</td>\n",
       "      <td>2.542618</td>\n",
       "      <td>Holmes Arm and Hammer Air Purifier Booster Fil...</td>\n",
       "    </tr>\n",
       "  </tbody>\n",
       "</table>\n",
       "</div>"
      ],
      "text/plain": [
       "    productID  prediction                                              title\n",
       "0  B00005IX9T    0.120711  Braun KF400-WH Aromaster 10-Cup Coffeemaker, W...\n",
       "1  B0000665TD    1.620185  J-2000 Jiffy Garment Steamer with Plastic Stea...\n",
       "2  B00061J2B6    1.489314  Steamfast SF-680 Digital Steam Press with Mult...\n",
       "3  B000A2M2EK    0.993996         Universal Slicer/Shredder with Three Discs\n",
       "4  B000I0WQWC    2.542618  Holmes Arm and Hammer Air Purifier Booster Fil..."
      ]
     },
     "execution_count": 38,
     "metadata": {},
     "output_type": "execute_result"
    }
   ],
   "source": [
    "df_links = final.toPandas()\n",
    "df_links.head(5)"
   ]
  },
  {
   "cell_type": "code",
   "execution_count": 39,
   "metadata": {},
   "outputs": [],
   "source": [
    "df_links = df_links.iloc[0:20]"
   ]
  },
  {
   "cell_type": "code",
   "execution_count": 40,
   "metadata": {},
   "outputs": [],
   "source": [
    "df_links['Link'] = df_links['productID'].apply(\n",
    "                lambda x: '<a href=\"https://www.amazon.com/gp/product/{}\">link</a>'.format(x))"
   ]
  },
  {
   "cell_type": "code",
   "execution_count": 41,
   "metadata": {},
   "outputs": [
    {
     "name": "stdout",
     "output_type": "stream",
     "text": [
      "Top 20 recommendations for the userID => 32921 are:\n"
     ]
    },
    {
     "data": {
      "text/html": [
       "<table border=\"1\" class=\"dataframe\">\n",
       "  <thead>\n",
       "    <tr style=\"text-align: right;\">\n",
       "      <th></th>\n",
       "      <th>productID</th>\n",
       "      <th>prediction</th>\n",
       "      <th>title</th>\n",
       "      <th>Link</th>\n",
       "    </tr>\n",
       "  </thead>\n",
       "  <tbody>\n",
       "    <tr>\n",
       "      <th>0</th>\n",
       "      <td>B00005IX9T</td>\n",
       "      <td>0.120711</td>\n",
       "      <td>Braun KF400-WH Aromaster 10-Cup Coffeemaker, White</td>\n",
       "      <td><a href=\"https://www.amazon.com/gp/product/B00005IX9T\">link</a></td>\n",
       "    </tr>\n",
       "    <tr>\n",
       "      <th>1</th>\n",
       "      <td>B0000665TD</td>\n",
       "      <td>1.620185</td>\n",
       "      <td>J-2000 Jiffy Garment Steamer with Plastic Steam Head, 120 Volt</td>\n",
       "      <td><a href=\"https://www.amazon.com/gp/product/B0000665TD\">link</a></td>\n",
       "    </tr>\n",
       "    <tr>\n",
       "      <th>2</th>\n",
       "      <td>B00061J2B6</td>\n",
       "      <td>1.489314</td>\n",
       "      <td>Steamfast SF-680 Digital Steam Press with Multiple Fabric Settings and Steam Burst Function,Stainless/Black</td>\n",
       "      <td><a href=\"https://www.amazon.com/gp/product/B00061J2B6\">link</a></td>\n",
       "    </tr>\n",
       "    <tr>\n",
       "      <th>3</th>\n",
       "      <td>B000A2M2EK</td>\n",
       "      <td>0.993996</td>\n",
       "      <td>Universal Slicer/Shredder with Three Discs</td>\n",
       "      <td><a href=\"https://www.amazon.com/gp/product/B000A2M2EK\">link</a></td>\n",
       "    </tr>\n",
       "    <tr>\n",
       "      <th>4</th>\n",
       "      <td>B000I0WQWC</td>\n",
       "      <td>2.542618</td>\n",
       "      <td>Holmes Arm and Hammer Air Purifier Booster Filter, 4 Pack</td>\n",
       "      <td><a href=\"https://www.amazon.com/gp/product/B000I0WQWC\">link</a></td>\n",
       "    </tr>\n",
       "    <tr>\n",
       "      <th>5</th>\n",
       "      <td>B000LNS2HE</td>\n",
       "      <td>1.646729</td>\n",
       "      <td>Anchor Hocking Glass Prep Bowls Custard Cups, 6 Ounce, Set of 4</td>\n",
       "      <td><a href=\"https://www.amazon.com/gp/product/B000LNS2HE\">link</a></td>\n",
       "    </tr>\n",
       "    <tr>\n",
       "      <th>6</th>\n",
       "      <td>B000SP65HO</td>\n",
       "      <td>0.429668</td>\n",
       "      <td>Boss Office Products B1690-CS Stand Up Caressoft Drafting Stool without Arms in Black</td>\n",
       "      <td><a href=\"https://www.amazon.com/gp/product/B000SP65HO\">link</a></td>\n",
       "    </tr>\n",
       "    <tr>\n",
       "      <th>7</th>\n",
       "      <td>B000TVVMNY</td>\n",
       "      <td>1.417196</td>\n",
       "      <td>instecho Beer Bar Blade Bottle Opener</td>\n",
       "      <td><a href=\"https://www.amazon.com/gp/product/B000TVVMNY\">link</a></td>\n",
       "    </tr>\n",
       "    <tr>\n",
       "      <th>8</th>\n",
       "      <td>B000X6K9J8</td>\n",
       "      <td>1.639034</td>\n",
       "      <td>EZ Off Jar Opener For All Jar Sizes, White</td>\n",
       "      <td><a href=\"https://www.amazon.com/gp/product/B000X6K9J8\">link</a></td>\n",
       "    </tr>\n",
       "    <tr>\n",
       "      <th>9</th>\n",
       "      <td>B000XB8K6C</td>\n",
       "      <td>0.760044</td>\n",
       "      <td>Emile Henry Butter Pot, Figue</td>\n",
       "      <td><a href=\"https://www.amazon.com/gp/product/B000XB8K6C\">link</a></td>\n",
       "    </tr>\n",
       "    <tr>\n",
       "      <th>10</th>\n",
       "      <td>B000ZPGB62</td>\n",
       "      <td>0.616285</td>\n",
       "      <td>Cozy Sack 7-Feet Bean Bag Chair, X-Large, Cinnabar</td>\n",
       "      <td><a href=\"https://www.amazon.com/gp/product/B000ZPGB62\">link</a></td>\n",
       "    </tr>\n",
       "    <tr>\n",
       "      <th>11</th>\n",
       "      <td>B000ZRXMJ4</td>\n",
       "      <td>1.289093</td>\n",
       "      <td>Lock & Lock 7.6 Cup Rectangular Storage</td>\n",
       "      <td><a href=\"https://www.amazon.com/gp/product/B000ZRXMJ4\">link</a></td>\n",
       "    </tr>\n",
       "    <tr>\n",
       "      <th>12</th>\n",
       "      <td>B0012BU6TQ</td>\n",
       "      <td>0.431289</td>\n",
       "      <td>ANBOO Steam Mop Pad for Shark S3101 S3250 S3202 for Shark Vacuum Microfilber Steam Mop White 2 Pack</td>\n",
       "      <td><a href=\"https://www.amazon.com/gp/product/B0012BU6TQ\">link</a></td>\n",
       "    </tr>\n",
       "    <tr>\n",
       "      <th>13</th>\n",
       "      <td>B0015HEABW</td>\n",
       "      <td>2.269397</td>\n",
       "      <td>16 oz. Olive Oil Bottle Set</td>\n",
       "      <td><a href=\"https://www.amazon.com/gp/product/B0015HEABW\">link</a></td>\n",
       "    </tr>\n",
       "    <tr>\n",
       "      <th>14</th>\n",
       "      <td>B001AO1X1U</td>\n",
       "      <td>0.808208</td>\n",
       "      <td>Sunbeam 2551 Heritage Series 6-Speed 250-Watt Hand Mixer, Silver</td>\n",
       "      <td><a href=\"https://www.amazon.com/gp/product/B001AO1X1U\">link</a></td>\n",
       "    </tr>\n",
       "    <tr>\n",
       "      <th>15</th>\n",
       "      <td>B001B14OC2</td>\n",
       "      <td>1.998146</td>\n",
       "      <td>Regency Turkey Lacers for Trussing Turkey, 4.5 inches Steel ,set of 6</td>\n",
       "      <td><a href=\"https://www.amazon.com/gp/product/B001B14OC2\">link</a></td>\n",
       "    </tr>\n",
       "    <tr>\n",
       "      <th>16</th>\n",
       "      <td>B001FNVXS4</td>\n",
       "      <td>0.645496</td>\n",
       "      <td>var aPageStart = (new Date()).getTime();</td>\n",
       "      <td><a href=\"https://www.amazon.com/gp/product/B001FNVXS4\">link</a></td>\n",
       "    </tr>\n",
       "    <tr>\n",
       "      <th>17</th>\n",
       "      <td>B001G0PMW4</td>\n",
       "      <td>1.111476</td>\n",
       "      <td>Mountain Woods 15-by-12-Inch Butcher Block Cutting Board</td>\n",
       "      <td><a href=\"https://www.amazon.com/gp/product/B001G0PMW4\">link</a></td>\n",
       "    </tr>\n",
       "    <tr>\n",
       "      <th>18</th>\n",
       "      <td>B001I7FP54</td>\n",
       "      <td>1.582368</td>\n",
       "      <td>Deluxe Food Strainer and Sauce Maker by VICTORIO VKP250</td>\n",
       "      <td><a href=\"https://www.amazon.com/gp/product/B001I7FP54\">link</a></td>\n",
       "    </tr>\n",
       "    <tr>\n",
       "      <th>19</th>\n",
       "      <td>B001KZC2R8</td>\n",
       "      <td>0.915053</td>\n",
       "      <td>Sparkling Collectibles Wild Sea Turtle Pewter Figurine Box - Swarovski Crystals, Trinket, Keepsake, Jewelry, Pill Holder</td>\n",
       "      <td><a href=\"https://www.amazon.com/gp/product/B001KZC2R8\">link</a></td>\n",
       "    </tr>\n",
       "  </tbody>\n",
       "</table>"
      ],
      "text/plain": [
       "<IPython.core.display.HTML object>"
      ]
     },
     "execution_count": 41,
     "metadata": {},
     "output_type": "execute_result"
    }
   ],
   "source": [
    "print(\"Top 20 recommendations for the userID => 32921 are:\")\n",
    "HTML(df_links.to_html(render_links=True,escape=False))"
   ]
  },
  {
   "cell_type": "markdown",
   "metadata": {},
   "source": [
    "Check for the product details on amazon website by clicking on the respective link"
   ]
  },
  {
   "cell_type": "markdown",
   "metadata": {},
   "source": [
    "![](amazon_img.jpg)"
   ]
  }
 ],
 "metadata": {
  "kernelspec": {
   "display_name": "Python 3",
   "language": "python",
   "name": "python3"
  },
  "language_info": {
   "codemirror_mode": {
    "name": "ipython",
    "version": 3
   },
   "file_extension": ".py",
   "mimetype": "text/x-python",
   "name": "python",
   "nbconvert_exporter": "python",
   "pygments_lexer": "ipython3",
   "version": "3.7.4"
  }
 },
 "nbformat": 4,
 "nbformat_minor": 2
}
