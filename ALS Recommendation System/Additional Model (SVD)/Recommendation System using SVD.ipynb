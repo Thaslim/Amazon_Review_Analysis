{
 "cells": [
  {
   "cell_type": "code",
   "execution_count": 1,
   "metadata": {},
   "outputs": [
    {
     "name": "stderr",
     "output_type": "stream",
     "text": [
      "/opt/anaconda3/lib/python3.7/site-packages/sklearn/externals/joblib/__init__.py:15: DeprecationWarning: sklearn.externals.joblib is deprecated in 0.21 and will be removed in 0.23. Please import this functionality directly from joblib, which can be installed with: pip install joblib. If this warning is raised when loading pickled models, you may need to re-serialize those models with scikit-learn 0.21+.\n",
      "  warnings.warn(msg, category=DeprecationWarning)\n"
     ]
    }
   ],
   "source": [
    "#import the reqired libraries\n",
    "from IPython.core.interactiveshell import InteractiveShell\n",
    "InteractiveShell.ast_node_interactivity = \"all\"\n",
    "import numpy as np\n",
    "import pandas as pd\n",
    "import math\n",
    "import json\n",
    "import time\n",
    "import re\n",
    "import matplotlib.pyplot as plt\n",
    "import seaborn as sns\n",
    "from sklearn.metrics.pairwise import cosine_similarity\n",
    "from sklearn.model_selection import train_test_split\n",
    "from sklearn.neighbors import NearestNeighbors\n",
    "from sklearn.externals import joblib\n",
    "import scipy.sparse\n",
    "from scipy.sparse import csr_matrix\n",
    "from scipy.sparse.linalg import svds\n",
    "import warnings; warnings.simplefilter('ignore')\n",
    "%matplotlib inline"
   ]
  },
  {
   "cell_type": "markdown",
   "metadata": {},
   "source": [
    "### 1. Load the dataset"
   ]
  },
  {
   "cell_type": "code",
   "execution_count": 2,
   "metadata": {},
   "outputs": [],
   "source": [
    "df = pd.read_csv(\"AmazonRatings\")"
   ]
  },
  {
   "cell_type": "code",
   "execution_count": 3,
   "metadata": {},
   "outputs": [
    {
     "data": {
      "text/html": [
       "<div>\n",
       "<style scoped>\n",
       "    .dataframe tbody tr th:only-of-type {\n",
       "        vertical-align: middle;\n",
       "    }\n",
       "\n",
       "    .dataframe tbody tr th {\n",
       "        vertical-align: top;\n",
       "    }\n",
       "\n",
       "    .dataframe thead th {\n",
       "        text-align: right;\n",
       "    }\n",
       "</style>\n",
       "<table border=\"1\" class=\"dataframe\">\n",
       "  <thead>\n",
       "    <tr style=\"text-align: right;\">\n",
       "      <th></th>\n",
       "      <th>userID</th>\n",
       "      <th>productID</th>\n",
       "      <th>rating</th>\n",
       "    </tr>\n",
       "  </thead>\n",
       "  <tbody>\n",
       "    <tr>\n",
       "      <td>0</td>\n",
       "      <td>20</td>\n",
       "      <td>4391</td>\n",
       "      <td>4.0</td>\n",
       "    </tr>\n",
       "    <tr>\n",
       "      <td>1</td>\n",
       "      <td>20</td>\n",
       "      <td>4391</td>\n",
       "      <td>4.0</td>\n",
       "    </tr>\n",
       "    <tr>\n",
       "      <td>2</td>\n",
       "      <td>946</td>\n",
       "      <td>2883</td>\n",
       "      <td>5.0</td>\n",
       "    </tr>\n",
       "    <tr>\n",
       "      <td>3</td>\n",
       "      <td>946</td>\n",
       "      <td>2883</td>\n",
       "      <td>5.0</td>\n",
       "    </tr>\n",
       "    <tr>\n",
       "      <td>4</td>\n",
       "      <td>4622</td>\n",
       "      <td>1491</td>\n",
       "      <td>5.0</td>\n",
       "    </tr>\n",
       "  </tbody>\n",
       "</table>\n",
       "</div>"
      ],
      "text/plain": [
       "   userID  productID  rating\n",
       "0      20       4391     4.0\n",
       "1      20       4391     4.0\n",
       "2     946       2883     5.0\n",
       "3     946       2883     5.0\n",
       "4    4622       1491     5.0"
      ]
     },
     "execution_count": 3,
     "metadata": {},
     "output_type": "execute_result"
    }
   ],
   "source": [
    "df.head()"
   ]
  },
  {
   "cell_type": "code",
   "execution_count": 4,
   "metadata": {},
   "outputs": [
    {
     "data": {
      "text/plain": [
       "userID         int64\n",
       "productID      int64\n",
       "rating       float64\n",
       "dtype: object"
      ]
     },
     "execution_count": 4,
     "metadata": {},
     "output_type": "execute_result"
    }
   ],
   "source": [
    "df.dtypes"
   ]
  },
  {
   "cell_type": "code",
   "execution_count": 6,
   "metadata": {},
   "outputs": [
    {
     "data": {
      "text/plain": [
       "count    50000.000000\n",
       "mean         4.297000\n",
       "std          1.143843\n",
       "min          1.000000\n",
       "25%          4.000000\n",
       "50%          5.000000\n",
       "75%          5.000000\n",
       "max          5.000000\n",
       "Name: rating, dtype: float64"
      ]
     },
     "execution_count": 6,
     "metadata": {},
     "output_type": "execute_result"
    }
   ],
   "source": [
    "#Summary statistics of rating variable\n",
    "df['rating'].describe().transpose()"
   ]
  },
  {
   "cell_type": "code",
   "execution_count": 7,
   "metadata": {},
   "outputs": [
    {
     "data": {
      "text/plain": [
       "(50000, 3)"
      ]
     },
     "execution_count": 7,
     "metadata": {},
     "output_type": "execute_result"
    }
   ],
   "source": [
    "df.shape"
   ]
  },
  {
   "cell_type": "code",
   "execution_count": 13,
   "metadata": {},
   "outputs": [
    {
     "name": "stdout",
     "output_type": "stream",
     "text": [
      "<class 'pandas.core.frame.DataFrame'>\n",
      "RangeIndex: 50000 entries, 0 to 49999\n",
      "Data columns (total 3 columns):\n",
      "userID       50000 non-null int64\n",
      "productID    50000 non-null int64\n",
      "rating       50000 non-null float64\n",
      "dtypes: float64(1), int64(2)\n",
      "memory usage: 1.1 MB\n"
     ]
    }
   ],
   "source": [
    "df.info()"
   ]
  },
  {
   "cell_type": "code",
   "execution_count": 14,
   "metadata": {},
   "outputs": [
    {
     "data": {
      "text/plain": [
       "count    50000.000000\n",
       "mean         4.297000\n",
       "std          1.143843\n",
       "min          1.000000\n",
       "25%          4.000000\n",
       "50%          5.000000\n",
       "75%          5.000000\n",
       "max          5.000000\n",
       "Name: rating, dtype: float64"
      ]
     },
     "execution_count": 14,
     "metadata": {},
     "output_type": "execute_result"
    }
   ],
   "source": [
    "#Summary statistics of rating variable\n",
    "df['rating'].describe().transpose()"
   ]
  },
  {
   "cell_type": "code",
   "execution_count": 15,
   "metadata": {},
   "outputs": [
    {
     "name": "stdout",
     "output_type": "stream",
     "text": [
      "Minimum rating is: 1\n",
      "Maximum rating is: 5\n"
     ]
    }
   ],
   "source": [
    "#Find the minimum and maximum ratings\n",
    "print('Minimum rating is: %d' %(df.rating.min()))\n",
    "print('Maximum rating is: %d' %(df.rating.max()))"
   ]
  },
  {
   "cell_type": "code",
   "execution_count": 16,
   "metadata": {},
   "outputs": [
    {
     "name": "stdout",
     "output_type": "stream",
     "text": [
      "Number of missing values across columns: \n",
      " userID       0\n",
      "productID    0\n",
      "rating       0\n",
      "dtype: int64\n"
     ]
    }
   ],
   "source": [
    "#Check for missing values\n",
    "print('Number of missing values across columns: \\n',df.isnull().sum())"
   ]
  },
  {
   "cell_type": "code",
   "execution_count": 17,
   "metadata": {},
   "outputs": [
    {
     "data": {
      "text/plain": [
       "<seaborn.axisgrid.FacetGrid at 0x13377fd90>"
      ]
     },
     "execution_count": 17,
     "metadata": {},
     "output_type": "execute_result"
    },
    {
     "data": {
      "image/png": "[encoded data removed]",
      "text/plain": [
       "<Figure size 720x360 with 1 Axes>"
      ]
     },
     "metadata": {},
     "output_type": "display_data"
    }
   ],
   "source": [
    "# Check the distribution of the rating\n",
    "with sns.axes_style('white'):\n",
    "    g = sns.factorplot(\"rating\", data=df, aspect=2.0,kind='count')\n",
    "    g.set_ylabels(\"Total number of ratings\")"
   ]
  },
  {
   "cell_type": "code",
   "execution_count": 95,
   "metadata": {},
   "outputs": [
    {
     "data": {
      "text/plain": [
       "<Figure size 432x288 with 0 Axes>"
      ]
     },
     "execution_count": 95,
     "metadata": {},
     "output_type": "execute_result"
    },
    {
     "data": {
      "text/plain": [
       "(array([ 2885.,  2223.,  3510.,  9921., 31461.]),\n",
       " array([1. , 1.8, 2.6, 3.4, 4.2, 5. ]),\n",
       " <a list of 5 Patch objects>)"
      ]
     },
     "execution_count": 95,
     "metadata": {},
     "output_type": "execute_result"
    },
    {
     "data": {
      "text/plain": [
       "Text(0.5, 0, 'Rating')"
      ]
     },
     "execution_count": 95,
     "metadata": {},
     "output_type": "execute_result"
    },
    {
     "data": {
      "text/plain": [
       "Text(0, 0.5, 'Frequency')"
      ]
     },
     "execution_count": 95,
     "metadata": {},
     "output_type": "execute_result"
    },
    {
     "data": {
      "text/plain": [
       "[0, 5, 0, 50000]"
      ]
     },
     "execution_count": 95,
     "metadata": {},
     "output_type": "execute_result"
    },
    {
     "data": {
      "image/png": "[encoded data removed]",
      "text/plain": [
       "<Figure size 432x288 with 1 Axes>"
      ]
     },
     "metadata": {
      "needs_background": "light"
     },
     "output_type": "display_data"
    }
   ],
   "source": [
    "# frequency of each rating in a histogram\n",
    "plt.figure(1)\n",
    "plt.hist(df['rating'],5, facecolor='b')\n",
    "plt.xlabel('Rating')\n",
    "plt.ylabel('Frequency')\n",
    "plt.axis([0, 5, 0, 50000])\n",
    "plt.show()"
   ]
  },
  {
   "cell_type": "code",
   "execution_count": 93,
   "metadata": {},
   "outputs": [
    {
     "data": {
      "text/plain": [
       "<Figure size 432x288 with 0 Axes>"
      ]
     },
     "execution_count": 93,
     "metadata": {},
     "output_type": "execute_result"
    },
    {
     "data": {
      "text/plain": [
       "([<matplotlib.patches.Wedge at 0x136d94310>,\n",
       "  <matplotlib.patches.Wedge at 0x134056590>,\n",
       "  <matplotlib.patches.Wedge at 0x136d83490>,\n",
       "  <matplotlib.patches.Wedge at 0x136dec490>,\n",
       "  <matplotlib.patches.Wedge at 0x14122df50>],\n",
       " [Text(-0.9563116330628311, 0.5435697383673059, 'rating of 1'),\n",
       "  Text(-1.07895659492622, 0.21413235688521434, 'rating of 2'),\n",
       "  Text(-1.0851867012790284, -0.17991615649279794, 'rating of 3'),\n",
       "  Text(-0.5867291209231271, -0.9304563066908488, 'rating of 4'),\n",
       "  Text(0.9823597475744156, 0.49494376079058794, 'rating of 5')],\n",
       " [Text(-0.5216245271251806, 0.29649258456398503, '5.8%'),\n",
       "  Text(-0.5885217790506654, 0.11679946739193509, '4.4%'),\n",
       "  Text(-0.59192001887947, -0.09813608535970796, '7.0%'),\n",
       "  Text(-0.32003406595806927, -0.507521621831372, '19.8%'),\n",
       "  Text(0.5358325895860447, 0.2699693240675934, '62.9%')])"
      ]
     },
     "execution_count": 93,
     "metadata": {},
     "output_type": "execute_result"
    },
    {
     "data": {
      "text/plain": [
       "(-1.1028917101987197,\n",
       " 1.1045079125571977,\n",
       " -1.1120368664735811,\n",
       " 1.1135926967334893)"
      ]
     },
     "execution_count": 93,
     "metadata": {},
     "output_type": "execute_result"
    },
    {
     "data": {
      "image/png": "[encoded data removed]",
      "text/plain": [
       "<Figure size 432x288 with 1 Axes>"
      ]
     },
     "metadata": {},
     "output_type": "display_data"
    }
   ],
   "source": [
    "# percentage of each rating in a pie chart\n",
    "plt.figure(2)\n",
    "labels = 'rating of 1', 'rating of 2' ,'rating of 3', 'rating of 4','rating of 5'\n",
    "colors = ['gold', 'yellowgreen', 'lightcoral', 'lightskyblue','red']\n",
    "plt.pie(df.groupby('rating').size(),labels=labels, colors=colors,autopct='%1.1f%%', shadow=True, startangle=140)\n",
    "plt.axis('equal')\n",
    "plt.show()"
   ]
  },
  {
   "cell_type": "markdown",
   "metadata": {},
   "source": [
    "### 2. Taking the subset of dataset to make it less sparse/ denser "
   ]
  },
  {
   "cell_type": "code",
   "execution_count": 18,
   "metadata": {},
   "outputs": [
    {
     "name": "stdout",
     "output_type": "stream",
     "text": [
      "Number of unique users in Raw data =  21678\n",
      "Number of unique product in Raw data =  8852\n"
     ]
    }
   ],
   "source": [
    "# Number of unique user id  in the data\n",
    "print('Number of unique users in Raw data = ', df['userID'].nunique())\n",
    "# Number of unique product id  in the data\n",
    "print('Number of unique product in Raw data = ', df['productID'].nunique())"
   ]
  },
  {
   "cell_type": "code",
   "execution_count": 39,
   "metadata": {},
   "outputs": [
    {
     "name": "stdout",
     "output_type": "stream",
     "text": [
      "Top 10 users based on ratings: \n",
      " userID\n",
      "0    145\n",
      "1     43\n",
      "2     43\n",
      "3     40\n",
      "4     38\n",
      "5     38\n",
      "6     36\n",
      "7     33\n",
      "8     33\n",
      "9     32\n",
      "dtype: int64\n"
     ]
    }
   ],
   "source": [
    "#Check the top 10 users based on ratings\n",
    "most_rated=df.groupby('userID').size().sort_values(ascending=False)[:10]\n",
    "print('Top 10 users based on ratings: \\n',most_rated)"
   ]
  },
  {
   "cell_type": "markdown",
   "metadata": {},
   "source": [
    "### 3. ratings analysis in final dataset"
   ]
  },
  {
   "cell_type": "code",
   "execution_count": 20,
   "metadata": {},
   "outputs": [
    {
     "name": "stdout",
     "output_type": "stream",
     "text": [
      "Number of users who have rated 25 or more items = 4617\n",
      "Number of unique users in the final data =  319\n",
      "Number of unique products in the final data =  319\n"
     ]
    }
   ],
   "source": [
    "counts = df.userID.value_counts()\n",
    "df_final = df[df.userID.isin(counts[counts>=10].index)]\n",
    "print('Number of users who have rated 25 or more items =', len(df_final))\n",
    "print('Number of unique users in the final data = ', df_final['userID'].nunique())\n",
    "print('Number of unique products in the final data = ', df_final['userID'].nunique())"
   ]
  },
  {
   "cell_type": "code",
   "execution_count": 35,
   "metadata": {},
   "outputs": [
    {
     "data": {
      "text/html": [
       "<div>\n",
       "<style scoped>\n",
       "    .dataframe tbody tr th:only-of-type {\n",
       "        vertical-align: middle;\n",
       "    }\n",
       "\n",
       "    .dataframe tbody tr th {\n",
       "        vertical-align: top;\n",
       "    }\n",
       "\n",
       "    .dataframe thead th {\n",
       "        text-align: right;\n",
       "    }\n",
       "</style>\n",
       "<table border=\"1\" class=\"dataframe\">\n",
       "  <thead>\n",
       "    <tr style=\"text-align: right;\">\n",
       "      <th>productID</th>\n",
       "      <th>0</th>\n",
       "      <th>1</th>\n",
       "      <th>2</th>\n",
       "      <th>3</th>\n",
       "      <th>4</th>\n",
       "      <th>5</th>\n",
       "      <th>6</th>\n",
       "      <th>7</th>\n",
       "      <th>8</th>\n",
       "      <th>9</th>\n",
       "      <th>...</th>\n",
       "      <th>8635</th>\n",
       "      <th>8637</th>\n",
       "      <th>8659</th>\n",
       "      <th>8691</th>\n",
       "      <th>8719</th>\n",
       "      <th>8736</th>\n",
       "      <th>8791</th>\n",
       "      <th>8799</th>\n",
       "      <th>8824</th>\n",
       "      <th>8828</th>\n",
       "    </tr>\n",
       "    <tr>\n",
       "      <th>userID</th>\n",
       "      <th></th>\n",
       "      <th></th>\n",
       "      <th></th>\n",
       "      <th></th>\n",
       "      <th></th>\n",
       "      <th></th>\n",
       "      <th></th>\n",
       "      <th></th>\n",
       "      <th></th>\n",
       "      <th></th>\n",
       "      <th></th>\n",
       "      <th></th>\n",
       "      <th></th>\n",
       "      <th></th>\n",
       "      <th></th>\n",
       "      <th></th>\n",
       "      <th></th>\n",
       "      <th></th>\n",
       "      <th></th>\n",
       "      <th></th>\n",
       "      <th></th>\n",
       "    </tr>\n",
       "  </thead>\n",
       "  <tbody>\n",
       "    <tr>\n",
       "      <td>0</td>\n",
       "      <td>3.0</td>\n",
       "      <td>0.0</td>\n",
       "      <td>0.0</td>\n",
       "      <td>3.0</td>\n",
       "      <td>0.0</td>\n",
       "      <td>0.0</td>\n",
       "      <td>0.0</td>\n",
       "      <td>1.0</td>\n",
       "      <td>2.0</td>\n",
       "      <td>0.0</td>\n",
       "      <td>...</td>\n",
       "      <td>0.0</td>\n",
       "      <td>0.0</td>\n",
       "      <td>0.0</td>\n",
       "      <td>0.0</td>\n",
       "      <td>0.0</td>\n",
       "      <td>0.0</td>\n",
       "      <td>0.0</td>\n",
       "      <td>0.0</td>\n",
       "      <td>0.0</td>\n",
       "      <td>0.0</td>\n",
       "    </tr>\n",
       "    <tr>\n",
       "      <td>1</td>\n",
       "      <td>0.0</td>\n",
       "      <td>0.0</td>\n",
       "      <td>0.0</td>\n",
       "      <td>0.0</td>\n",
       "      <td>0.0</td>\n",
       "      <td>4.0</td>\n",
       "      <td>0.0</td>\n",
       "      <td>0.0</td>\n",
       "      <td>5.0</td>\n",
       "      <td>0.0</td>\n",
       "      <td>...</td>\n",
       "      <td>0.0</td>\n",
       "      <td>0.0</td>\n",
       "      <td>0.0</td>\n",
       "      <td>0.0</td>\n",
       "      <td>0.0</td>\n",
       "      <td>0.0</td>\n",
       "      <td>0.0</td>\n",
       "      <td>0.0</td>\n",
       "      <td>0.0</td>\n",
       "      <td>5.0</td>\n",
       "    </tr>\n",
       "    <tr>\n",
       "      <td>2</td>\n",
       "      <td>0.0</td>\n",
       "      <td>0.0</td>\n",
       "      <td>0.0</td>\n",
       "      <td>0.0</td>\n",
       "      <td>0.0</td>\n",
       "      <td>0.0</td>\n",
       "      <td>5.0</td>\n",
       "      <td>0.0</td>\n",
       "      <td>0.0</td>\n",
       "      <td>0.0</td>\n",
       "      <td>...</td>\n",
       "      <td>0.0</td>\n",
       "      <td>0.0</td>\n",
       "      <td>0.0</td>\n",
       "      <td>0.0</td>\n",
       "      <td>0.0</td>\n",
       "      <td>0.0</td>\n",
       "      <td>5.0</td>\n",
       "      <td>0.0</td>\n",
       "      <td>0.0</td>\n",
       "      <td>0.0</td>\n",
       "    </tr>\n",
       "    <tr>\n",
       "      <td>3</td>\n",
       "      <td>0.0</td>\n",
       "      <td>0.0</td>\n",
       "      <td>0.0</td>\n",
       "      <td>0.0</td>\n",
       "      <td>0.0</td>\n",
       "      <td>0.0</td>\n",
       "      <td>0.0</td>\n",
       "      <td>0.0</td>\n",
       "      <td>0.0</td>\n",
       "      <td>0.0</td>\n",
       "      <td>...</td>\n",
       "      <td>0.0</td>\n",
       "      <td>0.0</td>\n",
       "      <td>0.0</td>\n",
       "      <td>0.0</td>\n",
       "      <td>0.0</td>\n",
       "      <td>0.0</td>\n",
       "      <td>0.0</td>\n",
       "      <td>0.0</td>\n",
       "      <td>0.0</td>\n",
       "      <td>0.0</td>\n",
       "    </tr>\n",
       "    <tr>\n",
       "      <td>4</td>\n",
       "      <td>0.0</td>\n",
       "      <td>0.0</td>\n",
       "      <td>0.0</td>\n",
       "      <td>0.0</td>\n",
       "      <td>0.0</td>\n",
       "      <td>0.0</td>\n",
       "      <td>2.0</td>\n",
       "      <td>0.0</td>\n",
       "      <td>0.0</td>\n",
       "      <td>0.0</td>\n",
       "      <td>...</td>\n",
       "      <td>0.0</td>\n",
       "      <td>0.0</td>\n",
       "      <td>0.0</td>\n",
       "      <td>0.0</td>\n",
       "      <td>0.0</td>\n",
       "      <td>0.0</td>\n",
       "      <td>0.0</td>\n",
       "      <td>0.0</td>\n",
       "      <td>0.0</td>\n",
       "      <td>0.0</td>\n",
       "    </tr>\n",
       "    <tr>\n",
       "      <td>5</td>\n",
       "      <td>5.0</td>\n",
       "      <td>0.0</td>\n",
       "      <td>0.0</td>\n",
       "      <td>0.0</td>\n",
       "      <td>0.0</td>\n",
       "      <td>5.0</td>\n",
       "      <td>0.0</td>\n",
       "      <td>0.0</td>\n",
       "      <td>0.0</td>\n",
       "      <td>0.0</td>\n",
       "      <td>...</td>\n",
       "      <td>0.0</td>\n",
       "      <td>0.0</td>\n",
       "      <td>0.0</td>\n",
       "      <td>0.0</td>\n",
       "      <td>0.0</td>\n",
       "      <td>0.0</td>\n",
       "      <td>0.0</td>\n",
       "      <td>0.0</td>\n",
       "      <td>0.0</td>\n",
       "      <td>0.0</td>\n",
       "    </tr>\n",
       "    <tr>\n",
       "      <td>6</td>\n",
       "      <td>0.0</td>\n",
       "      <td>0.0</td>\n",
       "      <td>0.0</td>\n",
       "      <td>0.0</td>\n",
       "      <td>0.0</td>\n",
       "      <td>0.0</td>\n",
       "      <td>0.0</td>\n",
       "      <td>0.0</td>\n",
       "      <td>0.0</td>\n",
       "      <td>0.0</td>\n",
       "      <td>...</td>\n",
       "      <td>0.0</td>\n",
       "      <td>0.0</td>\n",
       "      <td>0.0</td>\n",
       "      <td>0.0</td>\n",
       "      <td>0.0</td>\n",
       "      <td>0.0</td>\n",
       "      <td>0.0</td>\n",
       "      <td>0.0</td>\n",
       "      <td>0.0</td>\n",
       "      <td>0.0</td>\n",
       "    </tr>\n",
       "    <tr>\n",
       "      <td>7</td>\n",
       "      <td>0.0</td>\n",
       "      <td>0.0</td>\n",
       "      <td>0.0</td>\n",
       "      <td>0.0</td>\n",
       "      <td>0.0</td>\n",
       "      <td>0.0</td>\n",
       "      <td>0.0</td>\n",
       "      <td>0.0</td>\n",
       "      <td>0.0</td>\n",
       "      <td>0.0</td>\n",
       "      <td>...</td>\n",
       "      <td>0.0</td>\n",
       "      <td>0.0</td>\n",
       "      <td>0.0</td>\n",
       "      <td>0.0</td>\n",
       "      <td>0.0</td>\n",
       "      <td>0.0</td>\n",
       "      <td>0.0</td>\n",
       "      <td>0.0</td>\n",
       "      <td>0.0</td>\n",
       "      <td>0.0</td>\n",
       "    </tr>\n",
       "    <tr>\n",
       "      <td>8</td>\n",
       "      <td>0.0</td>\n",
       "      <td>4.0</td>\n",
       "      <td>0.0</td>\n",
       "      <td>0.0</td>\n",
       "      <td>0.0</td>\n",
       "      <td>0.0</td>\n",
       "      <td>0.0</td>\n",
       "      <td>0.0</td>\n",
       "      <td>0.0</td>\n",
       "      <td>5.0</td>\n",
       "      <td>...</td>\n",
       "      <td>0.0</td>\n",
       "      <td>0.0</td>\n",
       "      <td>0.0</td>\n",
       "      <td>0.0</td>\n",
       "      <td>0.0</td>\n",
       "      <td>0.0</td>\n",
       "      <td>0.0</td>\n",
       "      <td>0.0</td>\n",
       "      <td>0.0</td>\n",
       "      <td>0.0</td>\n",
       "    </tr>\n",
       "    <tr>\n",
       "      <td>9</td>\n",
       "      <td>0.0</td>\n",
       "      <td>0.0</td>\n",
       "      <td>0.0</td>\n",
       "      <td>0.0</td>\n",
       "      <td>0.0</td>\n",
       "      <td>0.0</td>\n",
       "      <td>0.0</td>\n",
       "      <td>0.0</td>\n",
       "      <td>0.0</td>\n",
       "      <td>0.0</td>\n",
       "      <td>...</td>\n",
       "      <td>0.0</td>\n",
       "      <td>0.0</td>\n",
       "      <td>0.0</td>\n",
       "      <td>0.0</td>\n",
       "      <td>0.0</td>\n",
       "      <td>0.0</td>\n",
       "      <td>0.0</td>\n",
       "      <td>0.0</td>\n",
       "      <td>0.0</td>\n",
       "      <td>0.0</td>\n",
       "    </tr>\n",
       "  </tbody>\n",
       "</table>\n",
       "<p>10 rows × 1851 columns</p>\n",
       "</div>"
      ],
      "text/plain": [
       "productID  0     1     2     3     4     5     6     7     8     9     ...  \\\n",
       "userID                                                                 ...   \n",
       "0           3.0   0.0   0.0   3.0   0.0   0.0   0.0   1.0   2.0   0.0  ...   \n",
       "1           0.0   0.0   0.0   0.0   0.0   4.0   0.0   0.0   5.0   0.0  ...   \n",
       "2           0.0   0.0   0.0   0.0   0.0   0.0   5.0   0.0   0.0   0.0  ...   \n",
       "3           0.0   0.0   0.0   0.0   0.0   0.0   0.0   0.0   0.0   0.0  ...   \n",
       "4           0.0   0.0   0.0   0.0   0.0   0.0   2.0   0.0   0.0   0.0  ...   \n",
       "5           5.0   0.0   0.0   0.0   0.0   5.0   0.0   0.0   0.0   0.0  ...   \n",
       "6           0.0   0.0   0.0   0.0   0.0   0.0   0.0   0.0   0.0   0.0  ...   \n",
       "7           0.0   0.0   0.0   0.0   0.0   0.0   0.0   0.0   0.0   0.0  ...   \n",
       "8           0.0   4.0   0.0   0.0   0.0   0.0   0.0   0.0   0.0   5.0  ...   \n",
       "9           0.0   0.0   0.0   0.0   0.0   0.0   0.0   0.0   0.0   0.0  ...   \n",
       "\n",
       "productID  8635  8637  8659  8691  8719  8736  8791  8799  8824  8828  \n",
       "userID                                                                 \n",
       "0           0.0   0.0   0.0   0.0   0.0   0.0   0.0   0.0   0.0   0.0  \n",
       "1           0.0   0.0   0.0   0.0   0.0   0.0   0.0   0.0   0.0   5.0  \n",
       "2           0.0   0.0   0.0   0.0   0.0   0.0   5.0   0.0   0.0   0.0  \n",
       "3           0.0   0.0   0.0   0.0   0.0   0.0   0.0   0.0   0.0   0.0  \n",
       "4           0.0   0.0   0.0   0.0   0.0   0.0   0.0   0.0   0.0   0.0  \n",
       "5           0.0   0.0   0.0   0.0   0.0   0.0   0.0   0.0   0.0   0.0  \n",
       "6           0.0   0.0   0.0   0.0   0.0   0.0   0.0   0.0   0.0   0.0  \n",
       "7           0.0   0.0   0.0   0.0   0.0   0.0   0.0   0.0   0.0   0.0  \n",
       "8           0.0   0.0   0.0   0.0   0.0   0.0   0.0   0.0   0.0   0.0  \n",
       "9           0.0   0.0   0.0   0.0   0.0   0.0   0.0   0.0   0.0   0.0  \n",
       "\n",
       "[10 rows x 1851 columns]"
      ]
     },
     "execution_count": 35,
     "metadata": {},
     "output_type": "execute_result"
    }
   ],
   "source": [
    "#constructing the pivot table\n",
    "final_ratings_matrix = df_final.pivot_table(index = 'userID', columns ='productID', values = 'rating').fillna(0)\n",
    "final_ratings_matrix.head(10)"
   ]
  },
  {
   "cell_type": "code",
   "execution_count": 36,
   "metadata": {},
   "outputs": [
    {
     "name": "stdout",
     "output_type": "stream",
     "text": [
      "Shape of final_ratings_matrix:  (319, 1851)\n"
     ]
    }
   ],
   "source": [
    "print('Shape of final_ratings_matrix: ', final_ratings_matrix.shape)"
   ]
  },
  {
   "cell_type": "code",
   "execution_count": 37,
   "metadata": {},
   "outputs": [
    {
     "name": "stdout",
     "output_type": "stream",
     "text": [
      "given_num_of_ratings =  2914\n",
      "possible_num_of_ratings =  590469\n",
      "density: 0.49%\n"
     ]
    }
   ],
   "source": [
    "#Calucating the density of the rating marix\n",
    "given_num_of_ratings = np.count_nonzero(final_ratings_matrix)\n",
    "print('given_num_of_ratings = ', given_num_of_ratings)\n",
    "possible_num_of_ratings = final_ratings_matrix.shape[0] * final_ratings_matrix.shape[1]\n",
    "print('possible_num_of_ratings = ', possible_num_of_ratings)\n",
    "density = (given_num_of_ratings/possible_num_of_ratings)\n",
    "density *= 100\n",
    "print ('density: {:4.2f}%'.format(density))"
   ]
  },
  {
   "cell_type": "markdown",
   "metadata": {},
   "source": [
    "### 4. Splitting the data"
   ]
  },
  {
   "cell_type": "code",
   "execution_count": 40,
   "metadata": {},
   "outputs": [
    {
     "data": {
      "text/html": [
       "<div>\n",
       "<style scoped>\n",
       "    .dataframe tbody tr th:only-of-type {\n",
       "        vertical-align: middle;\n",
       "    }\n",
       "\n",
       "    .dataframe tbody tr th {\n",
       "        vertical-align: top;\n",
       "    }\n",
       "\n",
       "    .dataframe thead th {\n",
       "        text-align: right;\n",
       "    }\n",
       "</style>\n",
       "<table border=\"1\" class=\"dataframe\">\n",
       "  <thead>\n",
       "    <tr style=\"text-align: right;\">\n",
       "      <th></th>\n",
       "      <th>userID</th>\n",
       "      <th>productID</th>\n",
       "      <th>rating</th>\n",
       "    </tr>\n",
       "  </thead>\n",
       "  <tbody>\n",
       "    <tr>\n",
       "      <td>2838</td>\n",
       "      <td>81</td>\n",
       "      <td>1936</td>\n",
       "      <td>1.0</td>\n",
       "    </tr>\n",
       "    <tr>\n",
       "      <td>375</td>\n",
       "      <td>17</td>\n",
       "      <td>640</td>\n",
       "      <td>5.0</td>\n",
       "    </tr>\n",
       "    <tr>\n",
       "      <td>1130</td>\n",
       "      <td>62</td>\n",
       "      <td>138</td>\n",
       "      <td>2.0</td>\n",
       "    </tr>\n",
       "    <tr>\n",
       "      <td>1348</td>\n",
       "      <td>132</td>\n",
       "      <td>560</td>\n",
       "      <td>1.0</td>\n",
       "    </tr>\n",
       "    <tr>\n",
       "      <td>8366</td>\n",
       "      <td>177</td>\n",
       "      <td>3278</td>\n",
       "      <td>5.0</td>\n",
       "    </tr>\n",
       "  </tbody>\n",
       "</table>\n",
       "</div>"
      ],
      "text/plain": [
       "      userID  productID  rating\n",
       "2838      81       1936     1.0\n",
       "375       17        640     5.0\n",
       "1130      62        138     2.0\n",
       "1348     132        560     1.0\n",
       "8366     177       3278     5.0"
      ]
     },
     "execution_count": 40,
     "metadata": {},
     "output_type": "execute_result"
    }
   ],
   "source": [
    "counts = df.userID.value_counts()\n",
    "df_final = df[df.userID.isin(counts[counts>=10].index)]\n",
    "#Split the data randomnly into train and test datasets into 70:30 ratio\n",
    "train_data, test_data = train_test_split(df_final, test_size = 0.3, random_state=0)\n",
    "train_data.head()"
   ]
  },
  {
   "cell_type": "code",
   "execution_count": 41,
   "metadata": {},
   "outputs": [
    {
     "name": "stdout",
     "output_type": "stream",
     "text": [
      "Shape of training data:  (3231, 3)\n",
      "Shape of testing data:  (1386, 3)\n"
     ]
    }
   ],
   "source": [
    "print('Shape of training data: ',train_data.shape)\n",
    "print('Shape of testing data: ',test_data.shape)"
   ]
  },
  {
   "cell_type": "markdown",
   "metadata": {},
   "source": [
    "### 5. Building Collaborative Filtering recommender model"
   ]
  },
  {
   "cell_type": "code",
   "execution_count": 42,
   "metadata": {},
   "outputs": [
    {
     "data": {
      "text/html": [
       "<div>\n",
       "<style scoped>\n",
       "    .dataframe tbody tr th:only-of-type {\n",
       "        vertical-align: middle;\n",
       "    }\n",
       "\n",
       "    .dataframe tbody tr th {\n",
       "        vertical-align: top;\n",
       "    }\n",
       "\n",
       "    .dataframe thead th {\n",
       "        text-align: right;\n",
       "    }\n",
       "</style>\n",
       "<table border=\"1\" class=\"dataframe\">\n",
       "  <thead>\n",
       "    <tr style=\"text-align: right;\">\n",
       "      <th></th>\n",
       "      <th>index</th>\n",
       "      <th>userID</th>\n",
       "      <th>productID</th>\n",
       "      <th>rating</th>\n",
       "    </tr>\n",
       "  </thead>\n",
       "  <tbody>\n",
       "    <tr>\n",
       "      <td>0</td>\n",
       "      <td>2838</td>\n",
       "      <td>81</td>\n",
       "      <td>1936</td>\n",
       "      <td>1.0</td>\n",
       "    </tr>\n",
       "    <tr>\n",
       "      <td>1</td>\n",
       "      <td>375</td>\n",
       "      <td>17</td>\n",
       "      <td>640</td>\n",
       "      <td>5.0</td>\n",
       "    </tr>\n",
       "    <tr>\n",
       "      <td>2</td>\n",
       "      <td>1130</td>\n",
       "      <td>62</td>\n",
       "      <td>138</td>\n",
       "      <td>2.0</td>\n",
       "    </tr>\n",
       "    <tr>\n",
       "      <td>3</td>\n",
       "      <td>1348</td>\n",
       "      <td>132</td>\n",
       "      <td>560</td>\n",
       "      <td>1.0</td>\n",
       "    </tr>\n",
       "    <tr>\n",
       "      <td>4</td>\n",
       "      <td>8366</td>\n",
       "      <td>177</td>\n",
       "      <td>3278</td>\n",
       "      <td>5.0</td>\n",
       "    </tr>\n",
       "  </tbody>\n",
       "</table>\n",
       "</div>"
      ],
      "text/plain": [
       "   index  userID  productID  rating\n",
       "0   2838      81       1936     1.0\n",
       "1    375      17        640     5.0\n",
       "2   1130      62        138     2.0\n",
       "3   1348     132        560     1.0\n",
       "4   8366     177       3278     5.0"
      ]
     },
     "execution_count": 42,
     "metadata": {},
     "output_type": "execute_result"
    }
   ],
   "source": [
    "df_cf = pd.concat([train_data, test_data]).reset_index()\n",
    "df_cf.head()"
   ]
  },
  {
   "cell_type": "code",
   "execution_count": 46,
   "metadata": {},
   "outputs": [
    {
     "data": {
      "text/html": [
       "<div>\n",
       "<style scoped>\n",
       "    .dataframe tbody tr th:only-of-type {\n",
       "        vertical-align: middle;\n",
       "    }\n",
       "\n",
       "    .dataframe tbody tr th {\n",
       "        vertical-align: top;\n",
       "    }\n",
       "\n",
       "    .dataframe thead th {\n",
       "        text-align: right;\n",
       "    }\n",
       "</style>\n",
       "<table border=\"1\" class=\"dataframe\">\n",
       "  <thead>\n",
       "    <tr style=\"text-align: right;\">\n",
       "      <th>productID</th>\n",
       "      <th>0</th>\n",
       "      <th>1</th>\n",
       "      <th>2</th>\n",
       "      <th>3</th>\n",
       "      <th>4</th>\n",
       "      <th>5</th>\n",
       "      <th>6</th>\n",
       "      <th>7</th>\n",
       "      <th>8</th>\n",
       "      <th>9</th>\n",
       "      <th>...</th>\n",
       "      <th>8635</th>\n",
       "      <th>8637</th>\n",
       "      <th>8659</th>\n",
       "      <th>8691</th>\n",
       "      <th>8719</th>\n",
       "      <th>8736</th>\n",
       "      <th>8791</th>\n",
       "      <th>8799</th>\n",
       "      <th>8824</th>\n",
       "      <th>8828</th>\n",
       "    </tr>\n",
       "    <tr>\n",
       "      <th>userID</th>\n",
       "      <th></th>\n",
       "      <th></th>\n",
       "      <th></th>\n",
       "      <th></th>\n",
       "      <th></th>\n",
       "      <th></th>\n",
       "      <th></th>\n",
       "      <th></th>\n",
       "      <th></th>\n",
       "      <th></th>\n",
       "      <th></th>\n",
       "      <th></th>\n",
       "      <th></th>\n",
       "      <th></th>\n",
       "      <th></th>\n",
       "      <th></th>\n",
       "      <th></th>\n",
       "      <th></th>\n",
       "      <th></th>\n",
       "      <th></th>\n",
       "      <th></th>\n",
       "    </tr>\n",
       "  </thead>\n",
       "  <tbody>\n",
       "    <tr>\n",
       "      <td>0</td>\n",
       "      <td>3.0</td>\n",
       "      <td>0.0</td>\n",
       "      <td>0.0</td>\n",
       "      <td>3.0</td>\n",
       "      <td>0.0</td>\n",
       "      <td>0.0</td>\n",
       "      <td>0.0</td>\n",
       "      <td>1.0</td>\n",
       "      <td>2.0</td>\n",
       "      <td>0.0</td>\n",
       "      <td>...</td>\n",
       "      <td>0.0</td>\n",
       "      <td>0.0</td>\n",
       "      <td>0.0</td>\n",
       "      <td>0.0</td>\n",
       "      <td>0.0</td>\n",
       "      <td>0.0</td>\n",
       "      <td>0.0</td>\n",
       "      <td>0.0</td>\n",
       "      <td>0.0</td>\n",
       "      <td>0.0</td>\n",
       "    </tr>\n",
       "    <tr>\n",
       "      <td>1</td>\n",
       "      <td>0.0</td>\n",
       "      <td>0.0</td>\n",
       "      <td>0.0</td>\n",
       "      <td>0.0</td>\n",
       "      <td>0.0</td>\n",
       "      <td>4.0</td>\n",
       "      <td>0.0</td>\n",
       "      <td>0.0</td>\n",
       "      <td>5.0</td>\n",
       "      <td>0.0</td>\n",
       "      <td>...</td>\n",
       "      <td>0.0</td>\n",
       "      <td>0.0</td>\n",
       "      <td>0.0</td>\n",
       "      <td>0.0</td>\n",
       "      <td>0.0</td>\n",
       "      <td>0.0</td>\n",
       "      <td>0.0</td>\n",
       "      <td>0.0</td>\n",
       "      <td>0.0</td>\n",
       "      <td>5.0</td>\n",
       "    </tr>\n",
       "    <tr>\n",
       "      <td>2</td>\n",
       "      <td>0.0</td>\n",
       "      <td>0.0</td>\n",
       "      <td>0.0</td>\n",
       "      <td>0.0</td>\n",
       "      <td>0.0</td>\n",
       "      <td>0.0</td>\n",
       "      <td>5.0</td>\n",
       "      <td>0.0</td>\n",
       "      <td>0.0</td>\n",
       "      <td>0.0</td>\n",
       "      <td>...</td>\n",
       "      <td>0.0</td>\n",
       "      <td>0.0</td>\n",
       "      <td>0.0</td>\n",
       "      <td>0.0</td>\n",
       "      <td>0.0</td>\n",
       "      <td>0.0</td>\n",
       "      <td>5.0</td>\n",
       "      <td>0.0</td>\n",
       "      <td>0.0</td>\n",
       "      <td>0.0</td>\n",
       "    </tr>\n",
       "    <tr>\n",
       "      <td>3</td>\n",
       "      <td>0.0</td>\n",
       "      <td>0.0</td>\n",
       "      <td>0.0</td>\n",
       "      <td>0.0</td>\n",
       "      <td>0.0</td>\n",
       "      <td>0.0</td>\n",
       "      <td>0.0</td>\n",
       "      <td>0.0</td>\n",
       "      <td>0.0</td>\n",
       "      <td>0.0</td>\n",
       "      <td>...</td>\n",
       "      <td>0.0</td>\n",
       "      <td>0.0</td>\n",
       "      <td>0.0</td>\n",
       "      <td>0.0</td>\n",
       "      <td>0.0</td>\n",
       "      <td>0.0</td>\n",
       "      <td>0.0</td>\n",
       "      <td>0.0</td>\n",
       "      <td>0.0</td>\n",
       "      <td>0.0</td>\n",
       "    </tr>\n",
       "    <tr>\n",
       "      <td>4</td>\n",
       "      <td>0.0</td>\n",
       "      <td>0.0</td>\n",
       "      <td>0.0</td>\n",
       "      <td>0.0</td>\n",
       "      <td>0.0</td>\n",
       "      <td>0.0</td>\n",
       "      <td>2.0</td>\n",
       "      <td>0.0</td>\n",
       "      <td>0.0</td>\n",
       "      <td>0.0</td>\n",
       "      <td>...</td>\n",
       "      <td>0.0</td>\n",
       "      <td>0.0</td>\n",
       "      <td>0.0</td>\n",
       "      <td>0.0</td>\n",
       "      <td>0.0</td>\n",
       "      <td>0.0</td>\n",
       "      <td>0.0</td>\n",
       "      <td>0.0</td>\n",
       "      <td>0.0</td>\n",
       "      <td>0.0</td>\n",
       "    </tr>\n",
       "  </tbody>\n",
       "</table>\n",
       "<p>5 rows × 1851 columns</p>\n",
       "</div>"
      ],
      "text/plain": [
       "productID  0     1     2     3     4     5     6     7     8     9     ...  \\\n",
       "userID                                                                 ...   \n",
       "0           3.0   0.0   0.0   3.0   0.0   0.0   0.0   1.0   2.0   0.0  ...   \n",
       "1           0.0   0.0   0.0   0.0   0.0   4.0   0.0   0.0   5.0   0.0  ...   \n",
       "2           0.0   0.0   0.0   0.0   0.0   0.0   5.0   0.0   0.0   0.0  ...   \n",
       "3           0.0   0.0   0.0   0.0   0.0   0.0   0.0   0.0   0.0   0.0  ...   \n",
       "4           0.0   0.0   0.0   0.0   0.0   0.0   2.0   0.0   0.0   0.0  ...   \n",
       "\n",
       "productID  8635  8637  8659  8691  8719  8736  8791  8799  8824  8828  \n",
       "userID                                                                 \n",
       "0           0.0   0.0   0.0   0.0   0.0   0.0   0.0   0.0   0.0   0.0  \n",
       "1           0.0   0.0   0.0   0.0   0.0   0.0   0.0   0.0   0.0   5.0  \n",
       "2           0.0   0.0   0.0   0.0   0.0   0.0   5.0   0.0   0.0   0.0  \n",
       "3           0.0   0.0   0.0   0.0   0.0   0.0   0.0   0.0   0.0   0.0  \n",
       "4           0.0   0.0   0.0   0.0   0.0   0.0   0.0   0.0   0.0   0.0  \n",
       "\n",
       "[5 rows x 1851 columns]"
      ]
     },
     "execution_count": 46,
     "metadata": {},
     "output_type": "execute_result"
    }
   ],
   "source": [
    "# Matrix with row per 'user' and column per 'item' \n",
    "pivot_df = df_cf.pivot_table(index = 'userID', columns ='productID', values = 'rating').fillna(0)\n",
    "pivot_df.head()"
   ]
  },
  {
   "cell_type": "code",
   "execution_count": 47,
   "metadata": {},
   "outputs": [
    {
     "name": "stdout",
     "output_type": "stream",
     "text": [
      "Shape of the pivot table:  (319, 1851)\n"
     ]
    }
   ],
   "source": [
    "print('Shape of the pivot table: ', pivot_df.shape)"
   ]
  },
  {
   "cell_type": "code",
   "execution_count": 48,
   "metadata": {},
   "outputs": [
    {
     "data": {
      "text/html": [
       "<div>\n",
       "<style scoped>\n",
       "    .dataframe tbody tr th:only-of-type {\n",
       "        vertical-align: middle;\n",
       "    }\n",
       "\n",
       "    .dataframe tbody tr th {\n",
       "        vertical-align: top;\n",
       "    }\n",
       "\n",
       "    .dataframe thead th {\n",
       "        text-align: right;\n",
       "    }\n",
       "</style>\n",
       "<table border=\"1\" class=\"dataframe\">\n",
       "  <thead>\n",
       "    <tr style=\"text-align: right;\">\n",
       "      <th>productID</th>\n",
       "      <th>0</th>\n",
       "      <th>1</th>\n",
       "      <th>2</th>\n",
       "      <th>3</th>\n",
       "      <th>4</th>\n",
       "      <th>5</th>\n",
       "      <th>6</th>\n",
       "      <th>7</th>\n",
       "      <th>8</th>\n",
       "      <th>9</th>\n",
       "      <th>...</th>\n",
       "      <th>8637</th>\n",
       "      <th>8659</th>\n",
       "      <th>8691</th>\n",
       "      <th>8719</th>\n",
       "      <th>8736</th>\n",
       "      <th>8791</th>\n",
       "      <th>8799</th>\n",
       "      <th>8824</th>\n",
       "      <th>8828</th>\n",
       "      <th>user_index</th>\n",
       "    </tr>\n",
       "    <tr>\n",
       "      <th>userID</th>\n",
       "      <th></th>\n",
       "      <th></th>\n",
       "      <th></th>\n",
       "      <th></th>\n",
       "      <th></th>\n",
       "      <th></th>\n",
       "      <th></th>\n",
       "      <th></th>\n",
       "      <th></th>\n",
       "      <th></th>\n",
       "      <th></th>\n",
       "      <th></th>\n",
       "      <th></th>\n",
       "      <th></th>\n",
       "      <th></th>\n",
       "      <th></th>\n",
       "      <th></th>\n",
       "      <th></th>\n",
       "      <th></th>\n",
       "      <th></th>\n",
       "      <th></th>\n",
       "    </tr>\n",
       "  </thead>\n",
       "  <tbody>\n",
       "    <tr>\n",
       "      <td>0</td>\n",
       "      <td>3.0</td>\n",
       "      <td>0.0</td>\n",
       "      <td>0.0</td>\n",
       "      <td>3.0</td>\n",
       "      <td>0.0</td>\n",
       "      <td>0.0</td>\n",
       "      <td>0.0</td>\n",
       "      <td>1.0</td>\n",
       "      <td>2.0</td>\n",
       "      <td>0.0</td>\n",
       "      <td>...</td>\n",
       "      <td>0.0</td>\n",
       "      <td>0.0</td>\n",
       "      <td>0.0</td>\n",
       "      <td>0.0</td>\n",
       "      <td>0.0</td>\n",
       "      <td>0.0</td>\n",
       "      <td>0.0</td>\n",
       "      <td>0.0</td>\n",
       "      <td>0.0</td>\n",
       "      <td>0</td>\n",
       "    </tr>\n",
       "    <tr>\n",
       "      <td>1</td>\n",
       "      <td>0.0</td>\n",
       "      <td>0.0</td>\n",
       "      <td>0.0</td>\n",
       "      <td>0.0</td>\n",
       "      <td>0.0</td>\n",
       "      <td>4.0</td>\n",
       "      <td>0.0</td>\n",
       "      <td>0.0</td>\n",
       "      <td>5.0</td>\n",
       "      <td>0.0</td>\n",
       "      <td>...</td>\n",
       "      <td>0.0</td>\n",
       "      <td>0.0</td>\n",
       "      <td>0.0</td>\n",
       "      <td>0.0</td>\n",
       "      <td>0.0</td>\n",
       "      <td>0.0</td>\n",
       "      <td>0.0</td>\n",
       "      <td>0.0</td>\n",
       "      <td>5.0</td>\n",
       "      <td>1</td>\n",
       "    </tr>\n",
       "    <tr>\n",
       "      <td>2</td>\n",
       "      <td>0.0</td>\n",
       "      <td>0.0</td>\n",
       "      <td>0.0</td>\n",
       "      <td>0.0</td>\n",
       "      <td>0.0</td>\n",
       "      <td>0.0</td>\n",
       "      <td>5.0</td>\n",
       "      <td>0.0</td>\n",
       "      <td>0.0</td>\n",
       "      <td>0.0</td>\n",
       "      <td>...</td>\n",
       "      <td>0.0</td>\n",
       "      <td>0.0</td>\n",
       "      <td>0.0</td>\n",
       "      <td>0.0</td>\n",
       "      <td>0.0</td>\n",
       "      <td>5.0</td>\n",
       "      <td>0.0</td>\n",
       "      <td>0.0</td>\n",
       "      <td>0.0</td>\n",
       "      <td>2</td>\n",
       "    </tr>\n",
       "    <tr>\n",
       "      <td>3</td>\n",
       "      <td>0.0</td>\n",
       "      <td>0.0</td>\n",
       "      <td>0.0</td>\n",
       "      <td>0.0</td>\n",
       "      <td>0.0</td>\n",
       "      <td>0.0</td>\n",
       "      <td>0.0</td>\n",
       "      <td>0.0</td>\n",
       "      <td>0.0</td>\n",
       "      <td>0.0</td>\n",
       "      <td>...</td>\n",
       "      <td>0.0</td>\n",
       "      <td>0.0</td>\n",
       "      <td>0.0</td>\n",
       "      <td>0.0</td>\n",
       "      <td>0.0</td>\n",
       "      <td>0.0</td>\n",
       "      <td>0.0</td>\n",
       "      <td>0.0</td>\n",
       "      <td>0.0</td>\n",
       "      <td>3</td>\n",
       "    </tr>\n",
       "    <tr>\n",
       "      <td>4</td>\n",
       "      <td>0.0</td>\n",
       "      <td>0.0</td>\n",
       "      <td>0.0</td>\n",
       "      <td>0.0</td>\n",
       "      <td>0.0</td>\n",
       "      <td>0.0</td>\n",
       "      <td>2.0</td>\n",
       "      <td>0.0</td>\n",
       "      <td>0.0</td>\n",
       "      <td>0.0</td>\n",
       "      <td>...</td>\n",
       "      <td>0.0</td>\n",
       "      <td>0.0</td>\n",
       "      <td>0.0</td>\n",
       "      <td>0.0</td>\n",
       "      <td>0.0</td>\n",
       "      <td>0.0</td>\n",
       "      <td>0.0</td>\n",
       "      <td>0.0</td>\n",
       "      <td>0.0</td>\n",
       "      <td>4</td>\n",
       "    </tr>\n",
       "  </tbody>\n",
       "</table>\n",
       "<p>5 rows × 1852 columns</p>\n",
       "</div>"
      ],
      "text/plain": [
       "productID    0    1    2    3    4    5    6    7    8    9  ...  8637  8659  \\\n",
       "userID                                                       ...               \n",
       "0          3.0  0.0  0.0  3.0  0.0  0.0  0.0  1.0  2.0  0.0  ...   0.0   0.0   \n",
       "1          0.0  0.0  0.0  0.0  0.0  4.0  0.0  0.0  5.0  0.0  ...   0.0   0.0   \n",
       "2          0.0  0.0  0.0  0.0  0.0  0.0  5.0  0.0  0.0  0.0  ...   0.0   0.0   \n",
       "3          0.0  0.0  0.0  0.0  0.0  0.0  0.0  0.0  0.0  0.0  ...   0.0   0.0   \n",
       "4          0.0  0.0  0.0  0.0  0.0  0.0  2.0  0.0  0.0  0.0  ...   0.0   0.0   \n",
       "\n",
       "productID  8691  8719  8736  8791  8799  8824  8828  user_index  \n",
       "userID                                                           \n",
       "0           0.0   0.0   0.0   0.0   0.0   0.0   0.0           0  \n",
       "1           0.0   0.0   0.0   0.0   0.0   0.0   5.0           1  \n",
       "2           0.0   0.0   0.0   5.0   0.0   0.0   0.0           2  \n",
       "3           0.0   0.0   0.0   0.0   0.0   0.0   0.0           3  \n",
       "4           0.0   0.0   0.0   0.0   0.0   0.0   0.0           4  \n",
       "\n",
       "[5 rows x 1852 columns]"
      ]
     },
     "execution_count": 48,
     "metadata": {},
     "output_type": "execute_result"
    }
   ],
   "source": [
    "#define user index from 0 to 10\n",
    "pivot_df['user_index'] = np.arange(0, pivot_df.shape[0], 1)\n",
    "pivot_df.head()"
   ]
  },
  {
   "cell_type": "code",
   "execution_count": 49,
   "metadata": {},
   "outputs": [
    {
     "data": {
      "text/html": [
       "<div>\n",
       "<style scoped>\n",
       "    .dataframe tbody tr th:only-of-type {\n",
       "        vertical-align: middle;\n",
       "    }\n",
       "\n",
       "    .dataframe tbody tr th {\n",
       "        vertical-align: top;\n",
       "    }\n",
       "\n",
       "    .dataframe thead th {\n",
       "        text-align: right;\n",
       "    }\n",
       "</style>\n",
       "<table border=\"1\" class=\"dataframe\">\n",
       "  <thead>\n",
       "    <tr style=\"text-align: right;\">\n",
       "      <th>productID</th>\n",
       "      <th>0</th>\n",
       "      <th>1</th>\n",
       "      <th>2</th>\n",
       "      <th>3</th>\n",
       "      <th>4</th>\n",
       "      <th>5</th>\n",
       "      <th>6</th>\n",
       "      <th>7</th>\n",
       "      <th>8</th>\n",
       "      <th>9</th>\n",
       "      <th>...</th>\n",
       "      <th>8635</th>\n",
       "      <th>8637</th>\n",
       "      <th>8659</th>\n",
       "      <th>8691</th>\n",
       "      <th>8719</th>\n",
       "      <th>8736</th>\n",
       "      <th>8791</th>\n",
       "      <th>8799</th>\n",
       "      <th>8824</th>\n",
       "      <th>8828</th>\n",
       "    </tr>\n",
       "    <tr>\n",
       "      <th>user_index</th>\n",
       "      <th></th>\n",
       "      <th></th>\n",
       "      <th></th>\n",
       "      <th></th>\n",
       "      <th></th>\n",
       "      <th></th>\n",
       "      <th></th>\n",
       "      <th></th>\n",
       "      <th></th>\n",
       "      <th></th>\n",
       "      <th></th>\n",
       "      <th></th>\n",
       "      <th></th>\n",
       "      <th></th>\n",
       "      <th></th>\n",
       "      <th></th>\n",
       "      <th></th>\n",
       "      <th></th>\n",
       "      <th></th>\n",
       "      <th></th>\n",
       "      <th></th>\n",
       "    </tr>\n",
       "  </thead>\n",
       "  <tbody>\n",
       "    <tr>\n",
       "      <td>0</td>\n",
       "      <td>3.0</td>\n",
       "      <td>0.0</td>\n",
       "      <td>0.0</td>\n",
       "      <td>3.0</td>\n",
       "      <td>0.0</td>\n",
       "      <td>0.0</td>\n",
       "      <td>0.0</td>\n",
       "      <td>1.0</td>\n",
       "      <td>2.0</td>\n",
       "      <td>0.0</td>\n",
       "      <td>...</td>\n",
       "      <td>0.0</td>\n",
       "      <td>0.0</td>\n",
       "      <td>0.0</td>\n",
       "      <td>0.0</td>\n",
       "      <td>0.0</td>\n",
       "      <td>0.0</td>\n",
       "      <td>0.0</td>\n",
       "      <td>0.0</td>\n",
       "      <td>0.0</td>\n",
       "      <td>0.0</td>\n",
       "    </tr>\n",
       "    <tr>\n",
       "      <td>1</td>\n",
       "      <td>0.0</td>\n",
       "      <td>0.0</td>\n",
       "      <td>0.0</td>\n",
       "      <td>0.0</td>\n",
       "      <td>0.0</td>\n",
       "      <td>4.0</td>\n",
       "      <td>0.0</td>\n",
       "      <td>0.0</td>\n",
       "      <td>5.0</td>\n",
       "      <td>0.0</td>\n",
       "      <td>...</td>\n",
       "      <td>0.0</td>\n",
       "      <td>0.0</td>\n",
       "      <td>0.0</td>\n",
       "      <td>0.0</td>\n",
       "      <td>0.0</td>\n",
       "      <td>0.0</td>\n",
       "      <td>0.0</td>\n",
       "      <td>0.0</td>\n",
       "      <td>0.0</td>\n",
       "      <td>5.0</td>\n",
       "    </tr>\n",
       "    <tr>\n",
       "      <td>2</td>\n",
       "      <td>0.0</td>\n",
       "      <td>0.0</td>\n",
       "      <td>0.0</td>\n",
       "      <td>0.0</td>\n",
       "      <td>0.0</td>\n",
       "      <td>0.0</td>\n",
       "      <td>5.0</td>\n",
       "      <td>0.0</td>\n",
       "      <td>0.0</td>\n",
       "      <td>0.0</td>\n",
       "      <td>...</td>\n",
       "      <td>0.0</td>\n",
       "      <td>0.0</td>\n",
       "      <td>0.0</td>\n",
       "      <td>0.0</td>\n",
       "      <td>0.0</td>\n",
       "      <td>0.0</td>\n",
       "      <td>5.0</td>\n",
       "      <td>0.0</td>\n",
       "      <td>0.0</td>\n",
       "      <td>0.0</td>\n",
       "    </tr>\n",
       "    <tr>\n",
       "      <td>3</td>\n",
       "      <td>0.0</td>\n",
       "      <td>0.0</td>\n",
       "      <td>0.0</td>\n",
       "      <td>0.0</td>\n",
       "      <td>0.0</td>\n",
       "      <td>0.0</td>\n",
       "      <td>0.0</td>\n",
       "      <td>0.0</td>\n",
       "      <td>0.0</td>\n",
       "      <td>0.0</td>\n",
       "      <td>...</td>\n",
       "      <td>0.0</td>\n",
       "      <td>0.0</td>\n",
       "      <td>0.0</td>\n",
       "      <td>0.0</td>\n",
       "      <td>0.0</td>\n",
       "      <td>0.0</td>\n",
       "      <td>0.0</td>\n",
       "      <td>0.0</td>\n",
       "      <td>0.0</td>\n",
       "      <td>0.0</td>\n",
       "    </tr>\n",
       "    <tr>\n",
       "      <td>4</td>\n",
       "      <td>0.0</td>\n",
       "      <td>0.0</td>\n",
       "      <td>0.0</td>\n",
       "      <td>0.0</td>\n",
       "      <td>0.0</td>\n",
       "      <td>0.0</td>\n",
       "      <td>2.0</td>\n",
       "      <td>0.0</td>\n",
       "      <td>0.0</td>\n",
       "      <td>0.0</td>\n",
       "      <td>...</td>\n",
       "      <td>0.0</td>\n",
       "      <td>0.0</td>\n",
       "      <td>0.0</td>\n",
       "      <td>0.0</td>\n",
       "      <td>0.0</td>\n",
       "      <td>0.0</td>\n",
       "      <td>0.0</td>\n",
       "      <td>0.0</td>\n",
       "      <td>0.0</td>\n",
       "      <td>0.0</td>\n",
       "    </tr>\n",
       "  </tbody>\n",
       "</table>\n",
       "<p>5 rows × 1851 columns</p>\n",
       "</div>"
      ],
      "text/plain": [
       "productID   0     1     2     3     4     5     6     7     8     9     ...  \\\n",
       "user_index                                                              ...   \n",
       "0            3.0   0.0   0.0   3.0   0.0   0.0   0.0   1.0   2.0   0.0  ...   \n",
       "1            0.0   0.0   0.0   0.0   0.0   4.0   0.0   0.0   5.0   0.0  ...   \n",
       "2            0.0   0.0   0.0   0.0   0.0   0.0   5.0   0.0   0.0   0.0  ...   \n",
       "3            0.0   0.0   0.0   0.0   0.0   0.0   0.0   0.0   0.0   0.0  ...   \n",
       "4            0.0   0.0   0.0   0.0   0.0   0.0   2.0   0.0   0.0   0.0  ...   \n",
       "\n",
       "productID   8635  8637  8659  8691  8719  8736  8791  8799  8824  8828  \n",
       "user_index                                                              \n",
       "0            0.0   0.0   0.0   0.0   0.0   0.0   0.0   0.0   0.0   0.0  \n",
       "1            0.0   0.0   0.0   0.0   0.0   0.0   0.0   0.0   0.0   5.0  \n",
       "2            0.0   0.0   0.0   0.0   0.0   0.0   5.0   0.0   0.0   0.0  \n",
       "3            0.0   0.0   0.0   0.0   0.0   0.0   0.0   0.0   0.0   0.0  \n",
       "4            0.0   0.0   0.0   0.0   0.0   0.0   0.0   0.0   0.0   0.0  \n",
       "\n",
       "[5 rows x 1851 columns]"
      ]
     },
     "execution_count": 49,
     "metadata": {},
     "output_type": "execute_result"
    }
   ],
   "source": [
    "pivot_df.set_index(['user_index'], inplace=True)\n",
    "# Actual ratings given by users\n",
    "pivot_df.head()"
   ]
  },
  {
   "cell_type": "markdown",
   "metadata": {},
   "source": [
    "### 6. Singular Value Decomposition"
   ]
  },
  {
   "cell_type": "code",
   "execution_count": 50,
   "metadata": {},
   "outputs": [],
   "source": [
    "# Singular Value Decomposition\n",
    "U, sigma, Vt = svds(pivot_df, k = 10)"
   ]
  },
  {
   "cell_type": "code",
   "execution_count": 51,
   "metadata": {},
   "outputs": [
    {
     "name": "stdout",
     "output_type": "stream",
     "text": [
      "Left singular matrix: \n",
      " [[ 8.38070768e-02  4.40838630e-02  2.26388606e-02 ...  3.35342898e-02\n",
      "   2.01202701e-01  9.40551662e-01]\n",
      " [ 7.54097940e-02  9.48300344e-02  3.37508988e-02 ... -1.66454683e-01\n",
      "  -3.19682323e-01  4.66595558e-02]\n",
      " [ 1.95292833e-02 -2.57853687e-02  6.74558173e-03 ...  7.86313412e-01\n",
      "  -3.28411699e-01  2.16597695e-02]\n",
      " ...\n",
      " [-8.64254396e-04  5.02468451e-02  1.23414200e-03 ... -5.59734340e-03\n",
      "  -2.51297993e-02  4.01579006e-03]\n",
      " [-9.11374959e-03 -2.32851422e-02  1.15471750e-02 ... -1.22492511e-02\n",
      "  -5.03140340e-02  5.39198471e-03]\n",
      " [-1.79747586e-02 -1.78770659e-02  1.33191755e-02 ... -6.58886579e-03\n",
      "  -5.24756589e-03  2.40277827e-02]]\n"
     ]
    }
   ],
   "source": [
    "print('Left singular matrix: \\n',U)"
   ]
  },
  {
   "cell_type": "code",
   "execution_count": 52,
   "metadata": {},
   "outputs": [
    {
     "name": "stdout",
     "output_type": "stream",
     "text": [
      "Sigma: \n",
      " [22.90551347 23.7378883  23.82262359 24.06278094 24.61031316 25.22986259\n",
      " 26.39591028 27.56188392 29.06464405 36.54132816]\n"
     ]
    }
   ],
   "source": [
    "print('Sigma: \\n',sigma)"
   ]
  },
  {
   "cell_type": "code",
   "execution_count": 53,
   "metadata": {},
   "outputs": [
    {
     "name": "stdout",
     "output_type": "stream",
     "text": [
      "Diagonal matrix: \n",
      " [[22.90551347  0.          0.          0.          0.          0.\n",
      "   0.          0.          0.          0.        ]\n",
      " [ 0.         23.7378883   0.          0.          0.          0.\n",
      "   0.          0.          0.          0.        ]\n",
      " [ 0.          0.         23.82262359  0.          0.          0.\n",
      "   0.          0.          0.          0.        ]\n",
      " [ 0.          0.          0.         24.06278094  0.          0.\n",
      "   0.          0.          0.          0.        ]\n",
      " [ 0.          0.          0.          0.         24.61031316  0.\n",
      "   0.          0.          0.          0.        ]\n",
      " [ 0.          0.          0.          0.          0.         25.22986259\n",
      "   0.          0.          0.          0.        ]\n",
      " [ 0.          0.          0.          0.          0.          0.\n",
      "  26.39591028  0.          0.          0.        ]\n",
      " [ 0.          0.          0.          0.          0.          0.\n",
      "   0.         27.56188392  0.          0.        ]\n",
      " [ 0.          0.          0.          0.          0.          0.\n",
      "   0.          0.         29.06464405  0.        ]\n",
      " [ 0.          0.          0.          0.          0.          0.\n",
      "   0.          0.          0.         36.54132816]]\n"
     ]
    }
   ],
   "source": [
    "# Construct diagonal array in SVD\n",
    "sigma = np.diag(sigma)\n",
    "print('Diagonal matrix: \\n',sigma)"
   ]
  },
  {
   "cell_type": "code",
   "execution_count": 54,
   "metadata": {},
   "outputs": [
    {
     "name": "stdout",
     "output_type": "stream",
     "text": [
      "Right singular matrix: \n",
      " [[-7.38429437e-02  1.60259739e-01 -2.03549977e-02 ... -8.86899751e-05\n",
      "  -8.77227024e-03  1.64610573e-02]\n",
      " [-7.39025273e-02 -4.84717991e-02 -6.29260756e-04 ...  8.74205092e-05\n",
      "  -1.49961387e-03  1.99744040e-02]\n",
      " [ 5.01445623e-02  1.69534421e-01 -7.37509010e-05 ...  2.13861666e-04\n",
      "   3.95008639e-03  7.08379130e-03]\n",
      " ...\n",
      " [-3.37490511e-02 -2.19073946e-01 -4.29787124e-06 ... -1.31845163e-05\n",
      "   3.11023516e-04 -3.01965359e-02]\n",
      " [-4.24190822e-02 -3.30638736e-01 -2.23593770e-04 ... -3.52367056e-05\n",
      "  -2.02108461e-03 -5.49950522e-02]\n",
      " [ 9.76017139e-02  3.87029769e-02  4.89744034e-03 ...  2.68775506e-06\n",
      "   2.67928918e-04  6.38449095e-03]]\n"
     ]
    }
   ],
   "source": [
    "print('Right singular matrix: \\n',Vt)"
   ]
  },
  {
   "cell_type": "code",
   "execution_count": 55,
   "metadata": {},
   "outputs": [
    {
     "data": {
      "text/html": [
       "<div>\n",
       "<style scoped>\n",
       "    .dataframe tbody tr th:only-of-type {\n",
       "        vertical-align: middle;\n",
       "    }\n",
       "\n",
       "    .dataframe tbody tr th {\n",
       "        vertical-align: top;\n",
       "    }\n",
       "\n",
       "    .dataframe thead th {\n",
       "        text-align: right;\n",
       "    }\n",
       "</style>\n",
       "<table border=\"1\" class=\"dataframe\">\n",
       "  <thead>\n",
       "    <tr style=\"text-align: right;\">\n",
       "      <th>productID</th>\n",
       "      <th>0</th>\n",
       "      <th>1</th>\n",
       "      <th>2</th>\n",
       "      <th>3</th>\n",
       "      <th>4</th>\n",
       "      <th>5</th>\n",
       "      <th>6</th>\n",
       "      <th>7</th>\n",
       "      <th>8</th>\n",
       "      <th>9</th>\n",
       "      <th>...</th>\n",
       "      <th>8635</th>\n",
       "      <th>8637</th>\n",
       "      <th>8659</th>\n",
       "      <th>8691</th>\n",
       "      <th>8719</th>\n",
       "      <th>8736</th>\n",
       "      <th>8791</th>\n",
       "      <th>8799</th>\n",
       "      <th>8824</th>\n",
       "      <th>8828</th>\n",
       "    </tr>\n",
       "  </thead>\n",
       "  <tbody>\n",
       "    <tr>\n",
       "      <td>0</td>\n",
       "      <td>3.143336</td>\n",
       "      <td>-0.103964</td>\n",
       "      <td>0.120401</td>\n",
       "      <td>2.915172</td>\n",
       "      <td>-0.093669</td>\n",
       "      <td>-0.381222</td>\n",
       "      <td>-0.336933</td>\n",
       "      <td>0.998358</td>\n",
       "      <td>2.207340</td>\n",
       "      <td>-0.095660</td>\n",
       "      <td>...</td>\n",
       "      <td>0.055833</td>\n",
       "      <td>-0.004416</td>\n",
       "      <td>-0.000102</td>\n",
       "      <td>-0.009959</td>\n",
       "      <td>-0.036101</td>\n",
       "      <td>-0.021609</td>\n",
       "      <td>-0.044235</td>\n",
       "      <td>-0.000152</td>\n",
       "      <td>-0.023453</td>\n",
       "      <td>-0.124403</td>\n",
       "    </tr>\n",
       "    <tr>\n",
       "      <td>1</td>\n",
       "      <td>0.380384</td>\n",
       "      <td>-0.861100</td>\n",
       "      <td>-0.012223</td>\n",
       "      <td>-1.319240</td>\n",
       "      <td>0.911685</td>\n",
       "      <td>5.452473</td>\n",
       "      <td>-0.559471</td>\n",
       "      <td>-0.080041</td>\n",
       "      <td>10.374510</td>\n",
       "      <td>-0.087133</td>\n",
       "      <td>...</td>\n",
       "      <td>0.049698</td>\n",
       "      <td>-0.002946</td>\n",
       "      <td>0.000118</td>\n",
       "      <td>0.019142</td>\n",
       "      <td>0.230188</td>\n",
       "      <td>-0.014092</td>\n",
       "      <td>-0.095114</td>\n",
       "      <td>-0.000214</td>\n",
       "      <td>-0.032226</td>\n",
       "      <td>2.103710</td>\n",
       "    </tr>\n",
       "    <tr>\n",
       "      <td>2</td>\n",
       "      <td>-0.419201</td>\n",
       "      <td>-0.247343</td>\n",
       "      <td>0.000354</td>\n",
       "      <td>-0.606667</td>\n",
       "      <td>0.043042</td>\n",
       "      <td>0.540779</td>\n",
       "      <td>6.131249</td>\n",
       "      <td>0.703151</td>\n",
       "      <td>-0.343315</td>\n",
       "      <td>0.099429</td>\n",
       "      <td>...</td>\n",
       "      <td>0.040254</td>\n",
       "      <td>-0.001049</td>\n",
       "      <td>0.000545</td>\n",
       "      <td>0.001901</td>\n",
       "      <td>-0.004830</td>\n",
       "      <td>0.181208</td>\n",
       "      <td>3.763112</td>\n",
       "      <td>0.000068</td>\n",
       "      <td>0.023603</td>\n",
       "      <td>-0.095114</td>\n",
       "    </tr>\n",
       "    <tr>\n",
       "      <td>3</td>\n",
       "      <td>-0.494749</td>\n",
       "      <td>-1.093559</td>\n",
       "      <td>-0.045504</td>\n",
       "      <td>-0.008519</td>\n",
       "      <td>0.513945</td>\n",
       "      <td>1.072906</td>\n",
       "      <td>-0.418330</td>\n",
       "      <td>0.423152</td>\n",
       "      <td>-0.047023</td>\n",
       "      <td>0.757847</td>\n",
       "      <td>...</td>\n",
       "      <td>0.037127</td>\n",
       "      <td>0.020422</td>\n",
       "      <td>0.000894</td>\n",
       "      <td>0.035520</td>\n",
       "      <td>0.048843</td>\n",
       "      <td>-0.011097</td>\n",
       "      <td>-0.103464</td>\n",
       "      <td>0.000773</td>\n",
       "      <td>0.003689</td>\n",
       "      <td>-0.159439</td>\n",
       "    </tr>\n",
       "    <tr>\n",
       "      <td>4</td>\n",
       "      <td>-0.555597</td>\n",
       "      <td>1.708074</td>\n",
       "      <td>0.056341</td>\n",
       "      <td>-1.358472</td>\n",
       "      <td>-0.029340</td>\n",
       "      <td>-0.598361</td>\n",
       "      <td>3.545854</td>\n",
       "      <td>-0.014842</td>\n",
       "      <td>0.187890</td>\n",
       "      <td>-1.368866</td>\n",
       "      <td>...</td>\n",
       "      <td>0.298937</td>\n",
       "      <td>0.250911</td>\n",
       "      <td>-0.000781</td>\n",
       "      <td>-0.106437</td>\n",
       "      <td>-0.082208</td>\n",
       "      <td>-0.052547</td>\n",
       "      <td>0.125242</td>\n",
       "      <td>-0.002191</td>\n",
       "      <td>-0.031449</td>\n",
       "      <td>0.193201</td>\n",
       "    </tr>\n",
       "  </tbody>\n",
       "</table>\n",
       "<p>5 rows × 1851 columns</p>\n",
       "</div>"
      ],
      "text/plain": [
       "productID      0         1         2         3         4         5     \\\n",
       "0          3.143336 -0.103964  0.120401  2.915172 -0.093669 -0.381222   \n",
       "1          0.380384 -0.861100 -0.012223 -1.319240  0.911685  5.452473   \n",
       "2         -0.419201 -0.247343  0.000354 -0.606667  0.043042  0.540779   \n",
       "3         -0.494749 -1.093559 -0.045504 -0.008519  0.513945  1.072906   \n",
       "4         -0.555597  1.708074  0.056341 -1.358472 -0.029340 -0.598361   \n",
       "\n",
       "productID      6         7          8         9     ...      8635      8637  \\\n",
       "0         -0.336933  0.998358   2.207340 -0.095660  ...  0.055833 -0.004416   \n",
       "1         -0.559471 -0.080041  10.374510 -0.087133  ...  0.049698 -0.002946   \n",
       "2          6.131249  0.703151  -0.343315  0.099429  ...  0.040254 -0.001049   \n",
       "3         -0.418330  0.423152  -0.047023  0.757847  ...  0.037127  0.020422   \n",
       "4          3.545854 -0.014842   0.187890 -1.368866  ...  0.298937  0.250911   \n",
       "\n",
       "productID      8659      8691      8719      8736      8791      8799  \\\n",
       "0         -0.000102 -0.009959 -0.036101 -0.021609 -0.044235 -0.000152   \n",
       "1          0.000118  0.019142  0.230188 -0.014092 -0.095114 -0.000214   \n",
       "2          0.000545  0.001901 -0.004830  0.181208  3.763112  0.000068   \n",
       "3          0.000894  0.035520  0.048843 -0.011097 -0.103464  0.000773   \n",
       "4         -0.000781 -0.106437 -0.082208 -0.052547  0.125242 -0.002191   \n",
       "\n",
       "productID      8824      8828  \n",
       "0         -0.023453 -0.124403  \n",
       "1         -0.032226  2.103710  \n",
       "2          0.023603 -0.095114  \n",
       "3          0.003689 -0.159439  \n",
       "4         -0.031449  0.193201  \n",
       "\n",
       "[5 rows x 1851 columns]"
      ]
     },
     "execution_count": 55,
     "metadata": {},
     "output_type": "execute_result"
    }
   ],
   "source": [
    "#Predicted ratings\n",
    "all_user_predicted_ratings = np.dot(np.dot(U, sigma), Vt) \n",
    "# Convert predicted ratings to dataframe\n",
    "preds_df = pd.DataFrame(all_user_predicted_ratings, columns = pivot_df.columns)\n",
    "preds_df.head()"
   ]
  },
  {
   "cell_type": "code",
   "execution_count": 79,
   "metadata": {},
   "outputs": [],
   "source": [
    "def recommend_items(userID, pivot_df, preds_df, num_recommendations):\n",
    "    # index starts at 0  \n",
    "    user_idx = userID-1 \n",
    "    # Get and sort the user's ratings\n",
    "    sorted_user_ratings = pivot_df.iloc[user_idx].sort_values(ascending=False)\n",
    "    #sorted_user_ratings\n",
    "    sorted_user_predictions = preds_df.iloc[user_idx].sort_values(ascending=False)\n",
    "    #sorted_user_predictions\n",
    "    temp = pd.concat([sorted_user_ratings, sorted_user_predictions], axis=1)\n",
    "    temp.index.name = 'Recommended Items'\n",
    "    temp.columns = ['user_ratings', 'user_predictions']\n",
    "    temp = temp.loc[temp.user_ratings == 0]   \n",
    "    temp = temp.sort_values('user_predictions', ascending=False)\n",
    "    return temp"
   ]
  },
  {
   "cell_type": "code",
   "execution_count": 57,
   "metadata": {},
   "outputs": [
    {
     "name": "stdout",
     "output_type": "stream",
     "text": [
      "\n",
      "Below are the recommended items for user(user_id = 4):\n",
      "\n",
      "                   user_ratings  user_predictions\n",
      "Recommended Items                                \n",
      "5                           0.0          1.072906\n",
      "331                         0.0          0.841992\n",
      "9                           0.0          0.757847\n",
      "302                         0.0          0.746830\n",
      "140                         0.0          0.741225\n"
     ]
    }
   ],
   "source": [
    "userID = 4\n",
    "num_recommendations = 5\n",
    "recommend_items(userID, pivot_df, preds_df, num_recommendations)"
   ]
  },
  {
   "cell_type": "code",
   "execution_count": 58,
   "metadata": {},
   "outputs": [
    {
     "name": "stdout",
     "output_type": "stream",
     "text": [
      "\n",
      "Below are the recommended items for user(user_id = 6):\n",
      "\n",
      "                   user_ratings  user_predictions\n",
      "Recommended Items                                \n",
      "20                          0.0          1.451944\n",
      "59                          0.0          1.329621\n",
      "67                          0.0          1.282755\n",
      "56                          0.0          1.117758\n",
      "477                         0.0          0.967925\n"
     ]
    }
   ],
   "source": [
    "userID = 6\n",
    "num_recommendations = 5\n",
    "recommend_items(userID, pivot_df, preds_df, num_recommendations)"
   ]
  },
  {
   "cell_type": "code",
   "execution_count": 59,
   "metadata": {},
   "outputs": [
    {
     "name": "stdout",
     "output_type": "stream",
     "text": [
      "\n",
      "Below are the recommended items for user(user_id = 8):\n",
      "\n",
      "                   user_ratings  user_predictions\n",
      "Recommended Items                                \n",
      "59                          0.0          0.960353\n",
      "336                         0.0          0.849380\n",
      "264                         0.0          0.695460\n",
      "447                         0.0          0.637629\n",
      "458                         0.0          0.637629\n"
     ]
    }
   ],
   "source": [
    "userID = 8\n",
    "num_recommendations = 5\n",
    "recommend_items(userID, pivot_df, preds_df, num_recommendations)"
   ]
  },
  {
   "cell_type": "markdown",
   "metadata": {},
   "source": [
    "### 7. Evaluation of Collabrative recommendation model"
   ]
  },
  {
   "cell_type": "code",
   "execution_count": 60,
   "metadata": {},
   "outputs": [
    {
     "data": {
      "text/html": [
       "<div>\n",
       "<style scoped>\n",
       "    .dataframe tbody tr th:only-of-type {\n",
       "        vertical-align: middle;\n",
       "    }\n",
       "\n",
       "    .dataframe tbody tr th {\n",
       "        vertical-align: top;\n",
       "    }\n",
       "\n",
       "    .dataframe thead th {\n",
       "        text-align: right;\n",
       "    }\n",
       "</style>\n",
       "<table border=\"1\" class=\"dataframe\">\n",
       "  <thead>\n",
       "    <tr style=\"text-align: right;\">\n",
       "      <th>productID</th>\n",
       "      <th>0</th>\n",
       "      <th>1</th>\n",
       "      <th>2</th>\n",
       "      <th>3</th>\n",
       "      <th>4</th>\n",
       "      <th>5</th>\n",
       "      <th>6</th>\n",
       "      <th>7</th>\n",
       "      <th>8</th>\n",
       "      <th>9</th>\n",
       "      <th>...</th>\n",
       "      <th>8635</th>\n",
       "      <th>8637</th>\n",
       "      <th>8659</th>\n",
       "      <th>8691</th>\n",
       "      <th>8719</th>\n",
       "      <th>8736</th>\n",
       "      <th>8791</th>\n",
       "      <th>8799</th>\n",
       "      <th>8824</th>\n",
       "      <th>8828</th>\n",
       "    </tr>\n",
       "    <tr>\n",
       "      <th>userID</th>\n",
       "      <th></th>\n",
       "      <th></th>\n",
       "      <th></th>\n",
       "      <th></th>\n",
       "      <th></th>\n",
       "      <th></th>\n",
       "      <th></th>\n",
       "      <th></th>\n",
       "      <th></th>\n",
       "      <th></th>\n",
       "      <th></th>\n",
       "      <th></th>\n",
       "      <th></th>\n",
       "      <th></th>\n",
       "      <th></th>\n",
       "      <th></th>\n",
       "      <th></th>\n",
       "      <th></th>\n",
       "      <th></th>\n",
       "      <th></th>\n",
       "      <th></th>\n",
       "    </tr>\n",
       "  </thead>\n",
       "  <tbody>\n",
       "    <tr>\n",
       "      <td>0</td>\n",
       "      <td>3.0</td>\n",
       "      <td>0.0</td>\n",
       "      <td>0.0</td>\n",
       "      <td>3.0</td>\n",
       "      <td>0.0</td>\n",
       "      <td>0.0</td>\n",
       "      <td>0.0</td>\n",
       "      <td>1.0</td>\n",
       "      <td>2.0</td>\n",
       "      <td>0.0</td>\n",
       "      <td>...</td>\n",
       "      <td>0.0</td>\n",
       "      <td>0.0</td>\n",
       "      <td>0.0</td>\n",
       "      <td>0.0</td>\n",
       "      <td>0.0</td>\n",
       "      <td>0.0</td>\n",
       "      <td>0.0</td>\n",
       "      <td>0.0</td>\n",
       "      <td>0.0</td>\n",
       "      <td>0.0</td>\n",
       "    </tr>\n",
       "    <tr>\n",
       "      <td>1</td>\n",
       "      <td>0.0</td>\n",
       "      <td>0.0</td>\n",
       "      <td>0.0</td>\n",
       "      <td>0.0</td>\n",
       "      <td>0.0</td>\n",
       "      <td>4.0</td>\n",
       "      <td>0.0</td>\n",
       "      <td>0.0</td>\n",
       "      <td>5.0</td>\n",
       "      <td>0.0</td>\n",
       "      <td>...</td>\n",
       "      <td>0.0</td>\n",
       "      <td>0.0</td>\n",
       "      <td>0.0</td>\n",
       "      <td>0.0</td>\n",
       "      <td>0.0</td>\n",
       "      <td>0.0</td>\n",
       "      <td>0.0</td>\n",
       "      <td>0.0</td>\n",
       "      <td>0.0</td>\n",
       "      <td>5.0</td>\n",
       "    </tr>\n",
       "    <tr>\n",
       "      <td>2</td>\n",
       "      <td>0.0</td>\n",
       "      <td>0.0</td>\n",
       "      <td>0.0</td>\n",
       "      <td>0.0</td>\n",
       "      <td>0.0</td>\n",
       "      <td>0.0</td>\n",
       "      <td>5.0</td>\n",
       "      <td>0.0</td>\n",
       "      <td>0.0</td>\n",
       "      <td>0.0</td>\n",
       "      <td>...</td>\n",
       "      <td>0.0</td>\n",
       "      <td>0.0</td>\n",
       "      <td>0.0</td>\n",
       "      <td>0.0</td>\n",
       "      <td>0.0</td>\n",
       "      <td>0.0</td>\n",
       "      <td>5.0</td>\n",
       "      <td>0.0</td>\n",
       "      <td>0.0</td>\n",
       "      <td>0.0</td>\n",
       "    </tr>\n",
       "    <tr>\n",
       "      <td>3</td>\n",
       "      <td>0.0</td>\n",
       "      <td>0.0</td>\n",
       "      <td>0.0</td>\n",
       "      <td>0.0</td>\n",
       "      <td>0.0</td>\n",
       "      <td>0.0</td>\n",
       "      <td>0.0</td>\n",
       "      <td>0.0</td>\n",
       "      <td>0.0</td>\n",
       "      <td>0.0</td>\n",
       "      <td>...</td>\n",
       "      <td>0.0</td>\n",
       "      <td>0.0</td>\n",
       "      <td>0.0</td>\n",
       "      <td>0.0</td>\n",
       "      <td>0.0</td>\n",
       "      <td>0.0</td>\n",
       "      <td>0.0</td>\n",
       "      <td>0.0</td>\n",
       "      <td>0.0</td>\n",
       "      <td>0.0</td>\n",
       "    </tr>\n",
       "    <tr>\n",
       "      <td>4</td>\n",
       "      <td>0.0</td>\n",
       "      <td>0.0</td>\n",
       "      <td>0.0</td>\n",
       "      <td>0.0</td>\n",
       "      <td>0.0</td>\n",
       "      <td>0.0</td>\n",
       "      <td>2.0</td>\n",
       "      <td>0.0</td>\n",
       "      <td>0.0</td>\n",
       "      <td>0.0</td>\n",
       "      <td>...</td>\n",
       "      <td>0.0</td>\n",
       "      <td>0.0</td>\n",
       "      <td>0.0</td>\n",
       "      <td>0.0</td>\n",
       "      <td>0.0</td>\n",
       "      <td>0.0</td>\n",
       "      <td>0.0</td>\n",
       "      <td>0.0</td>\n",
       "      <td>0.0</td>\n",
       "      <td>0.0</td>\n",
       "    </tr>\n",
       "  </tbody>\n",
       "</table>\n",
       "<p>5 rows × 1851 columns</p>\n",
       "</div>"
      ],
      "text/plain": [
       "productID  0     1     2     3     4     5     6     7     8     9     ...  \\\n",
       "userID                                                                 ...   \n",
       "0           3.0   0.0   0.0   3.0   0.0   0.0   0.0   1.0   2.0   0.0  ...   \n",
       "1           0.0   0.0   0.0   0.0   0.0   4.0   0.0   0.0   5.0   0.0  ...   \n",
       "2           0.0   0.0   0.0   0.0   0.0   0.0   5.0   0.0   0.0   0.0  ...   \n",
       "3           0.0   0.0   0.0   0.0   0.0   0.0   0.0   0.0   0.0   0.0  ...   \n",
       "4           0.0   0.0   0.0   0.0   0.0   0.0   2.0   0.0   0.0   0.0  ...   \n",
       "\n",
       "productID  8635  8637  8659  8691  8719  8736  8791  8799  8824  8828  \n",
       "userID                                                                 \n",
       "0           0.0   0.0   0.0   0.0   0.0   0.0   0.0   0.0   0.0   0.0  \n",
       "1           0.0   0.0   0.0   0.0   0.0   0.0   0.0   0.0   0.0   5.0  \n",
       "2           0.0   0.0   0.0   0.0   0.0   0.0   5.0   0.0   0.0   0.0  \n",
       "3           0.0   0.0   0.0   0.0   0.0   0.0   0.0   0.0   0.0   0.0  \n",
       "4           0.0   0.0   0.0   0.0   0.0   0.0   0.0   0.0   0.0   0.0  \n",
       "\n",
       "[5 rows x 1851 columns]"
      ]
     },
     "execution_count": 60,
     "metadata": {},
     "output_type": "execute_result"
    }
   ],
   "source": [
    "# Actual ratings given by the users\n",
    "final_ratings_matrix.head()"
   ]
  },
  {
   "cell_type": "code",
   "execution_count": 61,
   "metadata": {},
   "outputs": [
    {
     "data": {
      "text/plain": [
       "productID\n",
       "0    0.084639\n",
       "1    0.285266\n",
       "2    0.043887\n",
       "3    0.288401\n",
       "4    0.068966\n",
       "dtype: float64"
      ]
     },
     "execution_count": 61,
     "metadata": {},
     "output_type": "execute_result"
    }
   ],
   "source": [
    "# Average ACTUAL rating for each item\n",
    "final_ratings_matrix.mean().head()"
   ]
  },
  {
   "cell_type": "code",
   "execution_count": 62,
   "metadata": {},
   "outputs": [
    {
     "name": "stdout",
     "output_type": "stream",
     "text": [
      "(1851, 2)\n"
     ]
    },
    {
     "data": {
      "text/html": [
       "<div>\n",
       "<style scoped>\n",
       "    .dataframe tbody tr th:only-of-type {\n",
       "        vertical-align: middle;\n",
       "    }\n",
       "\n",
       "    .dataframe tbody tr th {\n",
       "        vertical-align: top;\n",
       "    }\n",
       "\n",
       "    .dataframe thead th {\n",
       "        text-align: right;\n",
       "    }\n",
       "</style>\n",
       "<table border=\"1\" class=\"dataframe\">\n",
       "  <thead>\n",
       "    <tr style=\"text-align: right;\">\n",
       "      <th></th>\n",
       "      <th>Avg_actual_ratings</th>\n",
       "      <th>Avg_predicted_ratings</th>\n",
       "      <th>item_index</th>\n",
       "    </tr>\n",
       "    <tr>\n",
       "      <th>productID</th>\n",
       "      <th></th>\n",
       "      <th></th>\n",
       "      <th></th>\n",
       "    </tr>\n",
       "  </thead>\n",
       "  <tbody>\n",
       "    <tr>\n",
       "      <td>0</td>\n",
       "      <td>0.084639</td>\n",
       "      <td>0.083493</td>\n",
       "      <td>0</td>\n",
       "    </tr>\n",
       "    <tr>\n",
       "      <td>1</td>\n",
       "      <td>0.285266</td>\n",
       "      <td>0.293694</td>\n",
       "      <td>1</td>\n",
       "    </tr>\n",
       "    <tr>\n",
       "      <td>2</td>\n",
       "      <td>0.043887</td>\n",
       "      <td>0.009450</td>\n",
       "      <td>2</td>\n",
       "    </tr>\n",
       "    <tr>\n",
       "      <td>3</td>\n",
       "      <td>0.288401</td>\n",
       "      <td>0.361690</td>\n",
       "      <td>3</td>\n",
       "    </tr>\n",
       "    <tr>\n",
       "      <td>4</td>\n",
       "      <td>0.068966</td>\n",
       "      <td>0.057133</td>\n",
       "      <td>4</td>\n",
       "    </tr>\n",
       "  </tbody>\n",
       "</table>\n",
       "</div>"
      ],
      "text/plain": [
       "           Avg_actual_ratings  Avg_predicted_ratings  item_index\n",
       "productID                                                       \n",
       "0                    0.084639               0.083493           0\n",
       "1                    0.285266               0.293694           1\n",
       "2                    0.043887               0.009450           2\n",
       "3                    0.288401               0.361690           3\n",
       "4                    0.068966               0.057133           4"
      ]
     },
     "execution_count": 62,
     "metadata": {},
     "output_type": "execute_result"
    }
   ],
   "source": [
    "rmse_df = pd.concat([final_ratings_matrix.mean(), preds_df.mean()], axis=1)\n",
    "rmse_df.columns = ['Avg_actual_ratings', 'Avg_predicted_ratings']\n",
    "print(rmse_df.shape)\n",
    "rmse_df['item_index'] = np.arange(0, rmse_df.shape[0], 1)\n",
    "rmse_df.head()"
   ]
  },
  {
   "cell_type": "code",
   "execution_count": 63,
   "metadata": {},
   "outputs": [
    {
     "name": "stdout",
     "output_type": "stream",
     "text": [
      "\n",
      "RMSE SVD Model = 0.01482 \n",
      "\n"
     ]
    }
   ],
   "source": [
    "RMSE = round((((rmse_df.Avg_actual_ratings - rmse_df.Avg_predicted_ratings) ** 2).mean() ** 0.5), 5)\n",
    "print('\\nRMSE SVD Model = {} \\n'.format(RMSE))"
   ]
  },
  {
   "cell_type": "markdown",
   "metadata": {},
   "source": [
    "### 8. Getting top - K ( K = 25) recommendations for user = 9"
   ]
  },
  {
   "cell_type": "code",
   "execution_count": 89,
   "metadata": {},
   "outputs": [],
   "source": [
    "# Enter 'userID' and 'num_recommendations' for the user #9\n",
    "userID = 300\n",
    "num_recommendations = 25\n",
    "result = recommend_items(userID, pivot_df, preds_df, num_recommendations)"
   ]
  },
  {
   "cell_type": "code",
   "execution_count": 90,
   "metadata": {},
   "outputs": [
    {
     "name": "stdout",
     "output_type": "stream",
     "text": [
      "\n",
      "Below are the recommended items for user(user_id = 300):\n",
      "\n",
      "                   user_ratings  user_predictions\n",
      "Recommended Items                                \n",
      "3                           0.0          0.557182\n",
      "336                         0.0          0.347973\n",
      "8                           0.0          0.314784\n",
      "458                         0.0          0.251676\n",
      "447                         0.0          0.251676\n",
      "17                          0.0          0.243688\n",
      "16                          0.0          0.243688\n",
      "154                         0.0          0.243229\n",
      "6                           0.0          0.238003\n",
      "45                          0.0          0.228647\n",
      "46                          0.0          0.228647\n",
      "810                         0.0          0.211842\n",
      "50                          0.0          0.209706\n",
      "133                         0.0          0.207774\n",
      "128                         0.0          0.196946\n",
      "5                           0.0          0.185776\n",
      "656                         0.0          0.180900\n",
      "280                         0.0          0.178349\n",
      "353                         0.0          0.177418\n",
      "3979                        0.0          0.174539\n",
      "1959                        0.0          0.172643\n",
      "18                          0.0          0.172381\n",
      "75                          0.0          0.169839\n",
      "3713                        0.0          0.162834\n",
      "3023                        0.0          0.162834\n"
     ]
    }
   ],
   "source": [
    "print('\\nBelow are the recommended items for user(user_id = {}):\\n'.format(userID))\n",
    "print(result.head(num_recommendations))"
   ]
  },
  {
   "cell_type": "code",
   "execution_count": 104,
   "metadata": {},
   "outputs": [
    {
     "data": {
      "text/plain": [
       "([array([1.523e+03, 2.920e+02, 2.500e+01, 2.000e+00, 1.000e+00]),\n",
       "  array([1843.,    0.,    0.,    0.,    0.])],\n",
       " array([-0.10402581,  0.02821582,  0.16045744,  0.29269907,  0.4249407 ,\n",
       "         0.55718232]),\n",
       " <a list of 2 Lists of Patches objects>)"
      ]
     },
     "execution_count": 104,
     "metadata": {},
     "output_type": "execute_result"
    },
    {
     "data": {
      "text/plain": [
       "<matplotlib.legend.Legend at 0x14eb92b10>"
      ]
     },
     "execution_count": 104,
     "metadata": {},
     "output_type": "execute_result"
    },
    {
     "data": {
      "text/plain": [
       "Text(0.5, 1.0, 'Actual vs. Predicted ratings')"
      ]
     },
     "execution_count": 104,
     "metadata": {},
     "output_type": "execute_result"
    },
    {
     "data": {
      "text/plain": [
       "Text(0.5, 0, 'Rating')"
      ]
     },
     "execution_count": 104,
     "metadata": {},
     "output_type": "execute_result"
    },
    {
     "data": {
      "text/plain": [
       "Text(0, 0.5, 'Frequency')"
      ]
     },
     "execution_count": 104,
     "metadata": {},
     "output_type": "execute_result"
    },
    {
     "data": {
      "image/png": "[encoded data removed]",
      "text/plain": [
       "<Figure size 432x288 with 1 Axes>"
      ]
     },
     "metadata": {
      "needs_background": "light"
     },
     "output_type": "display_data"
    }
   ],
   "source": [
    "#Plot comparing ratings\n",
    "x = result['user_predictions']\n",
    "y = result['user_ratings']\n",
    "data = np.vstack([x, y]).T\n",
    "plt.hist(data, bins=5, alpha=1, label=['Predicted', 'Actual'])\n",
    "plt.legend(loc='upper right')\n",
    "\n",
    "plt.title(\"Actual vs. Predicted ratings\")\n",
    "plt.xlabel(\"Rating\")\n",
    "plt.ylabel(\"Frequency\")\n",
    "plt.show()"
   ]
  }
 ],
 "metadata": {
  "kernelspec": {
   "display_name": "Python 3",
   "language": "python",
   "name": "python3"
  },
  "language_info": {
   "codemirror_mode": {
    "name": "ipython",
    "version": 3
   },
   "file_extension": ".py",
   "mimetype": "text/x-python",
   "name": "python",
   "nbconvert_exporter": "python",
   "pygments_lexer": "ipython3",
   "version": "3.7.4"
  }
 },
 "nbformat": 4,
 "nbformat_minor": 2
}
